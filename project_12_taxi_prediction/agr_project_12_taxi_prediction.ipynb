{
 "cells": [
  {
   "cell_type": "markdown",
   "metadata": {},
   "source": [
    "#  Прогнозирование заказов такси"
   ]
  },
  {
   "cell_type": "markdown",
   "metadata": {},
   "source": [
    "## Описание исследования\n",
    "\n",
    "Компании, предоставляющей услуги такси, необходимо привлекать больше водителей в период пиковой нагрузки в аэропортах. Для этого компании нужно иметь возможность прогнозировать количество заказов такси на следующий час на основе исторических данных. Необходимо построить модель для такого предсказания, при этом значение метрики RMSE на тестовой выборке не должно превышать 48. Таким образом, в исследовании выполняется обучение с учителем для задачи регрессии."
   ]
  },
  {
   "cell_type": "markdown",
   "metadata": {},
   "source": [
    "## Цель исследования\n",
    "\n",
    "Целью исследования является построение модели для предсказания количества заказов такси на следующий час со значением метрики RMSE на тестовой выборке не более 48."
   ]
  },
  {
   "cell_type": "markdown",
   "metadata": {},
   "source": [
    "## Задачи исследования\n",
    "\n",
    "- Загрузка и первичное знакомство с данными;\n",
    "- Ресемплирование данных с шагом в 1 (один) час;\n",
    "- Анализ данных о заказах такси, включая проверку процесса на стационарность и тренды;\n",
    "- Обучение с учителем следующих моделей:\n",
    " - `LightGBM`;\n",
    " - `Lasso`;\n",
    " - `Ridge`;\n",
    " - `SVR`;\n",
    " - `kNN`;\n",
    " - `DecisionTreeRegressor`;\n",
    "- Проверка моделей на тестовой выборке и выбор лучшей модели."
   ]
  },
  {
   "cell_type": "markdown",
   "metadata": {},
   "source": [
    "## Исходные данные\n",
    "\n",
    "Входной признак:\n",
    "\n",
    "`datetime` — дата и время заказа такси.\n",
    "\n",
    "\n",
    "Целевой признак:\n",
    "\n",
    "`num_orders` — количество заказов такси."
   ]
  },
  {
   "cell_type": "markdown",
   "metadata": {
    "toc": true
   },
   "source": [
    "<h1>Содержание<span class=\"tocSkip\"></span></h1>\n",
    "<div class=\"toc\"><ul class=\"toc-item\"><li><span><a href=\"#Описание-исследования\" data-toc-modified-id=\"Описание-исследования-1\"><span class=\"toc-item-num\">1&nbsp;&nbsp;</span>Описание исследования</a></span></li><li><span><a href=\"#Цель-исследования\" data-toc-modified-id=\"Цель-исследования-2\"><span class=\"toc-item-num\">2&nbsp;&nbsp;</span>Цель исследования</a></span></li><li><span><a href=\"#Задачи-исследования\" data-toc-modified-id=\"Задачи-исследования-3\"><span class=\"toc-item-num\">3&nbsp;&nbsp;</span>Задачи исследования</a></span></li><li><span><a href=\"#Исходные-данные\" data-toc-modified-id=\"Исходные-данные-4\"><span class=\"toc-item-num\">4&nbsp;&nbsp;</span>Исходные данные</a></span></li><li><span><a href=\"#Импорт-библиотек-и-подготовка-данных\" data-toc-modified-id=\"Импорт-библиотек-и-подготовка-данных-5\"><span class=\"toc-item-num\">5&nbsp;&nbsp;</span>Импорт библиотек и подготовка данных</a></span></li><li><span><a href=\"#Анализ-данных-о-заказах-такси\" data-toc-modified-id=\"Анализ-данных-о-заказах-такси-6\"><span class=\"toc-item-num\">6&nbsp;&nbsp;</span>Анализ данных о заказах такси</a></span></li><li><span><a href=\"#Обучение-с-учителем.-Задача-регрессии\" data-toc-modified-id=\"Обучение-с-учителем.-Задача-регрессии-7\"><span class=\"toc-item-num\">7&nbsp;&nbsp;</span>Обучение с учителем. Задача регрессии</a></span><ul class=\"toc-item\"><li><span><a href=\"#Добавление-новых-признаков\" data-toc-modified-id=\"Добавление-новых-признаков-7.1\"><span class=\"toc-item-num\">7.1&nbsp;&nbsp;</span>Добавление новых признаков</a></span></li><li><span><a href=\"#Обучение-модели-LightGBM\" data-toc-modified-id=\"Обучение-модели-LightGBM-7.2\"><span class=\"toc-item-num\">7.2&nbsp;&nbsp;</span>Обучение модели LightGBM</a></span></li><li><span><a href=\"#Обучение-модели-Lasso\" data-toc-modified-id=\"Обучение-модели-Lasso-7.3\"><span class=\"toc-item-num\">7.3&nbsp;&nbsp;</span>Обучение модели Lasso</a></span></li><li><span><a href=\"#Обучение-модели-Ridge\" data-toc-modified-id=\"Обучение-модели-Ridge-7.4\"><span class=\"toc-item-num\">7.4&nbsp;&nbsp;</span>Обучение модели Ridge</a></span></li><li><span><a href=\"#Обучение-модели-SVR\" data-toc-modified-id=\"Обучение-модели-SVR-7.5\"><span class=\"toc-item-num\">7.5&nbsp;&nbsp;</span>Обучение модели SVR</a></span></li><li><span><a href=\"#Обучение-модели-kNN\" data-toc-modified-id=\"Обучение-модели-kNN-7.6\"><span class=\"toc-item-num\">7.6&nbsp;&nbsp;</span>Обучение модели kNN</a></span></li><li><span><a href=\"#Обучение-модели-дерева-решений\" data-toc-modified-id=\"Обучение-модели-дерева-решений-7.7\"><span class=\"toc-item-num\">7.7&nbsp;&nbsp;</span>Обучение модели дерева решений</a></span></li></ul></li><li><span><a href=\"#Тестирование-лучшей-модели-на-тестовой-выборке\" data-toc-modified-id=\"Тестирование-лучшей-модели-на-тестовой-выборке-8\"><span class=\"toc-item-num\">8&nbsp;&nbsp;</span>Тестирование лучшей модели на тестовой выборке</a></span></li><li><span><a href=\"#Общий-вывод\" data-toc-modified-id=\"Общий-вывод-9\"><span class=\"toc-item-num\">9&nbsp;&nbsp;</span>Общий вывод</a></span></li><li><span><a href=\"#Чек-лист-проверки\" data-toc-modified-id=\"Чек-лист-проверки-10\"><span class=\"toc-item-num\">10&nbsp;&nbsp;</span>Чек-лист проверки</a></span></li></ul></div>"
   ]
  },
  {
   "cell_type": "markdown",
   "metadata": {},
   "source": [
    "## Импорт библиотек и подготовка данных"
   ]
  },
  {
   "cell_type": "code",
   "execution_count": 1,
   "metadata": {},
   "outputs": [],
   "source": [
    "# обновляем библиотеку sklearn\n",
    "!pip install --upgrade scikit-learn -q"
   ]
  },
  {
   "cell_type": "code",
   "execution_count": 2,
   "metadata": {},
   "outputs": [],
   "source": [
    "# обновляем библиотеку matplotlib\n",
    "!pip install --upgrade matplotlib -q"
   ]
  },
  {
   "cell_type": "code",
   "execution_count": 3,
   "metadata": {},
   "outputs": [],
   "source": [
    "# обновляем библиотеку seaborn\n",
    "!pip install --upgrade seaborn -q"
   ]
  },
  {
   "cell_type": "code",
   "execution_count": 4,
   "metadata": {},
   "outputs": [],
   "source": [
    "# обновляем библиотеку lightgbm\n",
    "!pip install --upgrade lightgbm -q"
   ]
  },
  {
   "cell_type": "code",
   "execution_count": 5,
   "metadata": {},
   "outputs": [],
   "source": [
    "# обновляем библиотеку optuna\n",
    "!pip install --upgrade optuna-integration -q"
   ]
  },
  {
   "cell_type": "code",
   "execution_count": 6,
   "metadata": {},
   "outputs": [],
   "source": [
    "# обновляем библиотеку statsmodels\n",
    "!pip install --upgrade statsmodels -q"
   ]
  },
  {
   "cell_type": "code",
   "execution_count": 7,
   "metadata": {},
   "outputs": [],
   "source": [
    "# делаем необходимые импорты\n",
    "import matplotlib.pyplot as plt\n",
    "import numpy as np\n",
    "import pandas as pd\n",
    "import seaborn as sns\n",
    "\n",
    "from lightgbm import LGBMRegressor\n",
    "\n",
    "from optuna.distributions import IntDistribution, FloatDistribution\n",
    "from optuna.integration import OptunaSearchCV\n",
    "\n",
    "from sklearn.neighbors import KNeighborsRegressor\n",
    "from sklearn.linear_model import Lasso, Ridge\n",
    "from sklearn.svm import SVR\n",
    "from sklearn.tree import DecisionTreeRegressor\n",
    "\n",
    "from sklearn.metrics import root_mean_squared_error\n",
    "from sklearn.model_selection import TimeSeriesSplit\n",
    "from sklearn.model_selection import train_test_split\n",
    "\n",
    "from statsmodels.graphics.tsaplots import plot_acf\n",
    "from statsmodels.tsa.seasonal import seasonal_decompose\n",
    "from statsmodels.tsa.stattools import adfuller"
   ]
  },
  {
   "cell_type": "code",
   "execution_count": 8,
   "metadata": {},
   "outputs": [],
   "source": [
    "# объявляем константы\n",
    "RANDOM_STATE = 2024\n",
    "TEST_SIZE = 0.1"
   ]
  },
  {
   "cell_type": "code",
   "execution_count": 9,
   "metadata": {},
   "outputs": [],
   "source": [
    "# загружаем данные\n",
    "try:\n",
    "    df_taxi = pd.read_csv(\n",
    "        'taxi.csv',\n",
    "        parse_dates = [0],\n",
    "        index_col = [0]\n",
    "    )\n",
    "except:\n",
    "    df_taxi = pd.read_csv(\n",
    "        'https://code.s3.yandex.net/datasets/taxi.csv',\n",
    "        parse_dates = [0],\n",
    "        index_col = [0]\n",
    "    )"
   ]
  },
  {
   "cell_type": "code",
   "execution_count": 10,
   "metadata": {},
   "outputs": [
    {
     "data": {
      "text/html": [
       "<div>\n",
       "<style scoped>\n",
       "    .dataframe tbody tr th:only-of-type {\n",
       "        vertical-align: middle;\n",
       "    }\n",
       "\n",
       "    .dataframe tbody tr th {\n",
       "        vertical-align: top;\n",
       "    }\n",
       "\n",
       "    .dataframe thead th {\n",
       "        text-align: right;\n",
       "    }\n",
       "</style>\n",
       "<table border=\"1\" class=\"dataframe\">\n",
       "  <thead>\n",
       "    <tr style=\"text-align: right;\">\n",
       "      <th></th>\n",
       "      <th>num_orders</th>\n",
       "    </tr>\n",
       "    <tr>\n",
       "      <th>datetime</th>\n",
       "      <th></th>\n",
       "    </tr>\n",
       "  </thead>\n",
       "  <tbody>\n",
       "    <tr>\n",
       "      <th>2018-03-01 00:00:00</th>\n",
       "      <td>9</td>\n",
       "    </tr>\n",
       "    <tr>\n",
       "      <th>2018-03-01 00:10:00</th>\n",
       "      <td>14</td>\n",
       "    </tr>\n",
       "    <tr>\n",
       "      <th>2018-03-01 00:20:00</th>\n",
       "      <td>28</td>\n",
       "    </tr>\n",
       "    <tr>\n",
       "      <th>2018-03-01 00:30:00</th>\n",
       "      <td>20</td>\n",
       "    </tr>\n",
       "    <tr>\n",
       "      <th>2018-03-01 00:40:00</th>\n",
       "      <td>32</td>\n",
       "    </tr>\n",
       "  </tbody>\n",
       "</table>\n",
       "</div>"
      ],
      "text/plain": [
       "                     num_orders\n",
       "datetime                       \n",
       "2018-03-01 00:00:00           9\n",
       "2018-03-01 00:10:00          14\n",
       "2018-03-01 00:20:00          28\n",
       "2018-03-01 00:30:00          20\n",
       "2018-03-01 00:40:00          32"
      ]
     },
     "execution_count": 10,
     "metadata": {},
     "output_type": "execute_result"
    }
   ],
   "source": [
    "# выводим первые пять строк датафрейма\n",
    "df_taxi.head()"
   ]
  },
  {
   "cell_type": "code",
   "execution_count": 11,
   "metadata": {},
   "outputs": [
    {
     "data": {
      "text/plain": [
       "True"
      ]
     },
     "execution_count": 11,
     "metadata": {},
     "output_type": "execute_result"
    }
   ],
   "source": [
    "# отсортируем индексы датафрейма в порядке возрастания\n",
    "df_taxi.sort_index(inplace=True)\n",
    "\n",
    "# проверим, верно ли отсортировались индексы\n",
    "df_taxi.index.is_monotonic_increasing"
   ]
  },
  {
   "cell_type": "code",
   "execution_count": 12,
   "metadata": {},
   "outputs": [
    {
     "name": "stdout",
     "output_type": "stream",
     "text": [
      "<class 'pandas.core.frame.DataFrame'>\n",
      "DatetimeIndex: 26496 entries, 2018-03-01 00:00:00 to 2018-08-31 23:50:00\n",
      "Data columns (total 1 columns):\n",
      " #   Column      Non-Null Count  Dtype\n",
      "---  ------      --------------  -----\n",
      " 0   num_orders  26496 non-null  int64\n",
      "dtypes: int64(1)\n",
      "memory usage: 414.0 KB\n"
     ]
    }
   ],
   "source": [
    "# выведем общую информацию о датафрейме\n",
    "df_taxi.info()"
   ]
  },
  {
   "cell_type": "code",
   "execution_count": 13,
   "metadata": {},
   "outputs": [],
   "source": [
    "# ресемплируем данные по одному часу\n",
    "df_taxi = df_taxi.resample('1h').sum()"
   ]
  },
  {
   "cell_type": "code",
   "execution_count": 14,
   "metadata": {},
   "outputs": [
    {
     "data": {
      "text/html": [
       "<div>\n",
       "<style scoped>\n",
       "    .dataframe tbody tr th:only-of-type {\n",
       "        vertical-align: middle;\n",
       "    }\n",
       "\n",
       "    .dataframe tbody tr th {\n",
       "        vertical-align: top;\n",
       "    }\n",
       "\n",
       "    .dataframe thead th {\n",
       "        text-align: right;\n",
       "    }\n",
       "</style>\n",
       "<table border=\"1\" class=\"dataframe\">\n",
       "  <thead>\n",
       "    <tr style=\"text-align: right;\">\n",
       "      <th></th>\n",
       "      <th>num_orders</th>\n",
       "    </tr>\n",
       "    <tr>\n",
       "      <th>datetime</th>\n",
       "      <th></th>\n",
       "    </tr>\n",
       "  </thead>\n",
       "  <tbody>\n",
       "    <tr>\n",
       "      <th>2018-03-01 00:00:00</th>\n",
       "      <td>124</td>\n",
       "    </tr>\n",
       "    <tr>\n",
       "      <th>2018-03-01 01:00:00</th>\n",
       "      <td>85</td>\n",
       "    </tr>\n",
       "    <tr>\n",
       "      <th>2018-03-01 02:00:00</th>\n",
       "      <td>71</td>\n",
       "    </tr>\n",
       "    <tr>\n",
       "      <th>2018-03-01 03:00:00</th>\n",
       "      <td>66</td>\n",
       "    </tr>\n",
       "    <tr>\n",
       "      <th>2018-03-01 04:00:00</th>\n",
       "      <td>43</td>\n",
       "    </tr>\n",
       "  </tbody>\n",
       "</table>\n",
       "</div>"
      ],
      "text/plain": [
       "                     num_orders\n",
       "datetime                       \n",
       "2018-03-01 00:00:00         124\n",
       "2018-03-01 01:00:00          85\n",
       "2018-03-01 02:00:00          71\n",
       "2018-03-01 03:00:00          66\n",
       "2018-03-01 04:00:00          43"
      ]
     },
     "execution_count": 14,
     "metadata": {},
     "output_type": "execute_result"
    }
   ],
   "source": [
    "# проверяем, как прошло ресемплирование\n",
    "df_taxi.head()"
   ]
  },
  {
   "cell_type": "markdown",
   "metadata": {},
   "source": [
    "**Вывод**\n",
    "\n",
    "На данном этапе мы загрузили, выполнили первичное знакомство и подготовку данных.\n",
    "\n",
    "Датасет содержит наблюдения в период с 01 марта 2018 года по 31 августа 2018 года (6 месяцев), причём каждое наблюдение содержит данные о суммарном количестве заказов с интервалом в 10 минут.\n",
    "\n",
    "Для дальнейшего анализа и обучения моделей мы выполнили ресемплирование данных с шагом в 1 (один) час."
   ]
  },
  {
   "cell_type": "markdown",
   "metadata": {},
   "source": [
    "## Анализ данных о заказах такси"
   ]
  },
  {
   "cell_type": "code",
   "execution_count": 15,
   "metadata": {},
   "outputs": [
    {
     "data": {
      "text/html": [
       "<div>\n",
       "<style scoped>\n",
       "    .dataframe tbody tr th:only-of-type {\n",
       "        vertical-align: middle;\n",
       "    }\n",
       "\n",
       "    .dataframe tbody tr th {\n",
       "        vertical-align: top;\n",
       "    }\n",
       "\n",
       "    .dataframe thead th {\n",
       "        text-align: right;\n",
       "    }\n",
       "</style>\n",
       "<table border=\"1\" class=\"dataframe\">\n",
       "  <thead>\n",
       "    <tr style=\"text-align: right;\">\n",
       "      <th></th>\n",
       "      <th>num_orders</th>\n",
       "    </tr>\n",
       "  </thead>\n",
       "  <tbody>\n",
       "    <tr>\n",
       "      <th>count</th>\n",
       "      <td>4416.000000</td>\n",
       "    </tr>\n",
       "    <tr>\n",
       "      <th>mean</th>\n",
       "      <td>84.422781</td>\n",
       "    </tr>\n",
       "    <tr>\n",
       "      <th>std</th>\n",
       "      <td>45.023853</td>\n",
       "    </tr>\n",
       "    <tr>\n",
       "      <th>min</th>\n",
       "      <td>0.000000</td>\n",
       "    </tr>\n",
       "    <tr>\n",
       "      <th>25%</th>\n",
       "      <td>54.000000</td>\n",
       "    </tr>\n",
       "    <tr>\n",
       "      <th>50%</th>\n",
       "      <td>78.000000</td>\n",
       "    </tr>\n",
       "    <tr>\n",
       "      <th>75%</th>\n",
       "      <td>107.000000</td>\n",
       "    </tr>\n",
       "    <tr>\n",
       "      <th>max</th>\n",
       "      <td>462.000000</td>\n",
       "    </tr>\n",
       "  </tbody>\n",
       "</table>\n",
       "</div>"
      ],
      "text/plain": [
       "        num_orders\n",
       "count  4416.000000\n",
       "mean     84.422781\n",
       "std      45.023853\n",
       "min       0.000000\n",
       "25%      54.000000\n",
       "50%      78.000000\n",
       "75%     107.000000\n",
       "max     462.000000"
      ]
     },
     "execution_count": 15,
     "metadata": {},
     "output_type": "execute_result"
    }
   ],
   "source": [
    "# смотрим описательную статистику\n",
    "df_taxi.describe()"
   ]
  },
  {
   "cell_type": "code",
   "execution_count": 16,
   "metadata": {},
   "outputs": [
    {
     "data": {
      "image/png": "[encoded data removed]",
      "text/plain": [
       "<Figure size 720x504 with 1 Axes>"
      ]
     },
     "metadata": {
      "needs_background": "light"
     },
     "output_type": "display_data"
    }
   ],
   "source": [
    "# строим гистограмму распределения заказов\n",
    "fig, ax = plt.subplots(figsize=(10, 7))\n",
    "sns.histplot(df_taxi, x='num_orders')\n",
    "plt.title('Диаграмма распределения количества заказов такси')\n",
    "plt.xlabel('Количество заказов (шт.)')\n",
    "plt.ylabel('Частота встречаемости (шт.)');"
   ]
  },
  {
   "cell_type": "code",
   "execution_count": 17,
   "metadata": {},
   "outputs": [
    {
     "data": {
      "image/png": "[encoded data removed]",
      "text/plain": [
       "<Figure size 720x504 with 1 Axes>"
      ]
     },
     "metadata": {
      "needs_background": "light"
     },
     "output_type": "display_data"
    }
   ],
   "source": [
    "# строим график заказов по дням и часам\n",
    "df_taxi.plot(legend=False, figsize=(10, 7))\n",
    "plt.title('Динамика заказов такси по дням и часам')\n",
    "plt.xlabel('Дата и время')\n",
    "plt.ylabel('Количество заказов (шт.)');"
   ]
  },
  {
   "cell_type": "code",
   "execution_count": 18,
   "metadata": {},
   "outputs": [
    {
     "data": {
      "image/png": "[encoded data removed]",
      "text/plain": [
       "<Figure size 720x576 with 1 Axes>"
      ]
     },
     "metadata": {
      "needs_background": "light"
     },
     "output_type": "display_data"
    }
   ],
   "source": [
    "# добавляем скользящее среднее и стандартное отклонение среднего\n",
    "df_taxi['rolling_mean'] = df_taxi.num_orders.rolling(10).mean()\n",
    "df_taxi['rolling_std'] = df_taxi.num_orders.rolling(10).std()\n",
    "\n",
    "# строим график со скользящим средним\n",
    "df_taxi.plot(figsize=(10, 8))\n",
    "plt.title('Динамика заказов такси по дням и часам')\n",
    "plt.xlabel('Дата и время')\n",
    "plt.ylabel('Количество заказов (шт.)')\n",
    "plt.legend(['Количество заказов',\n",
    "            'Скользящее среднее',\n",
    "            'Стандартное отклонение скользящего среднего']);"
   ]
  },
  {
   "cell_type": "code",
   "execution_count": 19,
   "metadata": {},
   "outputs": [],
   "source": [
    "# удаляем ранее добавленные временные признаки\n",
    "df_taxi.drop(['rolling_mean', 'rolling_std'], axis=1, inplace=True)"
   ]
  },
  {
   "cell_type": "code",
   "execution_count": 20,
   "metadata": {},
   "outputs": [
    {
     "name": "stdout",
     "output_type": "stream",
     "text": [
      "Значение p-value: 0.028940051402612906\n",
      "Отвергаем нулевую гипотезу. Процесс стационарный.\n"
     ]
    }
   ],
   "source": [
    "# проверяем процесс на стационарность\n",
    "adf_test = adfuller(df_taxi.num_orders)\n",
    "\n",
    "# выводим p-value\n",
    "print('Значение p-value:', adf_test[1])\n",
    "if adf_test[1] > 0.05:\n",
    "    print('Не получилось отвергнуть нулевую гипотезу. Процесс нестационарный.')\n",
    "else:\n",
    "    print('Отвергаем нулевую гипотезу. Процесс стационарный.')"
   ]
  },
  {
   "cell_type": "code",
   "execution_count": 21,
   "metadata": {},
   "outputs": [
    {
     "data": {
      "image/png": "[encoded data removed]",
      "text/plain": [
       "<Figure size 720x360 with 1 Axes>"
      ]
     },
     "metadata": {
      "needs_background": "light"
     },
     "output_type": "display_data"
    }
   ],
   "source": [
    "# строим диаграмму автокорреляции ряда\n",
    "fig, ax = plt.subplots(figsize=(10, 5))\n",
    "plot_acf(df_taxi.num_orders,\n",
    "         lags=np.arange(0, 51),\n",
    "         ax=ax,\n",
    "         title='Автокорреляция ряда')\n",
    "plt.grid(True)\n",
    "plt.xlabel('Номер лага')\n",
    "plt.ylabel('Коэффициент автокорреляции')\n",
    "plt.axis('tight');"
   ]
  },
  {
   "cell_type": "markdown",
   "metadata": {},
   "source": [
    "Изучим тренды по времени суток, календарным дням, дням недели и месяцам. Для этого добавим в датафрейм новые признаки и построим графики."
   ]
  },
  {
   "cell_type": "code",
   "execution_count": 22,
   "metadata": {},
   "outputs": [],
   "source": [
    "# добавляем новые признаки\n",
    "df_taxi['hour'] = df_taxi.index.hour\n",
    "df_taxi['day'] = df_taxi.index.day\n",
    "df_taxi['dayofweek'] = df_taxi.index.dayofweek\n",
    "df_taxi['month'] = df_taxi.index.month"
   ]
  },
  {
   "cell_type": "markdown",
   "metadata": {},
   "source": [
    "Посмотрим на тренд, сезонность и остатки всего временного ряда:"
   ]
  },
  {
   "cell_type": "code",
   "execution_count": 24,
   "metadata": {},
   "outputs": [
    {
     "data": {
      "image/png": "[encoded data removed]",
      "text/plain": [
       "<Figure size 720x432 with 1 Axes>"
      ]
     },
     "metadata": {
      "needs_background": "light"
     },
     "output_type": "display_data"
    },
    {
     "data": {
      "image/png": "[encoded data removed]",
      "text/plain": [
       "<Figure size 720x432 with 1 Axes>"
      ]
     },
     "metadata": {
      "needs_background": "light"
     },
     "output_type": "display_data"
    },
    {
     "data": {
      "image/png": "[encoded data removed]",
      "text/plain": [
       "<Figure size 720x432 with 1 Axes>"
      ]
     },
     "metadata": {
      "needs_background": "light"
     },
     "output_type": "display_data"
    }
   ],
   "source": [
    "# разложим ряд на тренд, сезонность и остатки\n",
    "decomposed = seasonal_decompose(df_taxi.num_orders)\n",
    "\n",
    "# визуализируем тренд\n",
    "fig, ax = plt.subplots(figsize=(10, 6))\n",
    "decomposed.trend.plot()\n",
    "plt.title('Тренд')\n",
    "plt.xlabel('Дата и время')\n",
    "plt.ylabel('Количество заказов (шт.)')\n",
    "\n",
    "# визуализируем сезонность\n",
    "fig, ax = plt.subplots(figsize=(10, 6))\n",
    "decomposed.seasonal.plot()\n",
    "plt.title('Сезонность')\n",
    "plt.xlabel('Дата и время')\n",
    "plt.ylabel('Количество заказов (шт.)')\n",
    "\n",
    "# визуализируем остатки\n",
    "fig, ax = plt.subplots(figsize=(10, 6))\n",
    "decomposed.resid.plot()\n",
    "plt.title('Остатки')\n",
    "plt.xlabel('Дата и время')\n",
    "plt.ylabel('Количество заказов (шт.)');"
   ]
  },
  {
   "cell_type": "markdown",
   "metadata": {},
   "source": [
    "Изучим сезонность, например, на недельном временном отрезке с 25 августа 2018 года по 31 августа 2018 года:"
   ]
  },
  {
   "cell_type": "code",
   "execution_count": 25,
   "metadata": {},
   "outputs": [
    {
     "data": {
      "image/png": "[encoded data removed]",
      "text/plain": [
       "<Figure size 720x432 with 1 Axes>"
      ]
     },
     "metadata": {
      "needs_background": "light"
     },
     "output_type": "display_data"
    }
   ],
   "source": [
    "# визуализируем сезонность на выбранном временном отрезке\n",
    "fig, ax = plt.subplots(figsize=(10, 6))\n",
    "(seasonal_decompose(df_taxi.num_orders)\n",
    " .seasonal['2018-08-25':'2018-08-31'].plot())\n",
    "plt.title('Сезонность')\n",
    "plt.xlabel('Дата и время')\n",
    "plt.ylabel('Количество заказов (шт.)');"
   ]
  },
  {
   "cell_type": "markdown",
   "metadata": {},
   "source": [
    "**Вывод**\n",
    "\n",
    "Мы видим, что данные высоко вариативны (стандартное отклонение 45 при среднем 84), при этом распределение числа заказов демонстрирует небольшую правую скошенность.\n",
    "\n",
    "Динамика количества заказов такси по дням и часам демонстрирует заметный тренд: количество заказов в летний период возрастает. Тем не менее, имеющийся временной ряд можно считать вполне стационарным ввиду незначительного увеличения скользящего среднего ближе к концу ряда и практически постоянного стандартного отклонения скользящего среднего на всём временном промежутке. Стационарность процесса также подтверждается тестом Дики-Фуллера. Таким образом, имеющийся временной ряд можно прогнозировать.\n",
    "\n",
    "По результатам анализа автокорреляции ряда видно, что сильнее всего с исходным рядом коррелирует 24-й лаг (то есть значения, отстоящие на сутки), что говорит о временной \"сезонности\" спроса на такси: в одни и те же часы суток поведение клиентов примерно одинаково. При этом коэффициенты корреляции всех рассмотренных лагов статистически значимы. На основании анализа графика автокорреляции для обучения моделей уместно использовать 1-й, 2-й, 3-й и 24-й лаги: лаги 1-3 непосредственно предшествуют текущему часу, а 24-й лаг даёт представление о тренде в аналогичном часе сутками ранее.\n",
    "\n",
    "Заказы по времени суток показали разнонаправленную динамику в зависимости от времени: ранним утром (около 5-6 часов утра) спрос на такси минимален, а в вечерние и ночные часы максимален. Похожую динамику демонстрируют заказы по дням недели: в пятницу и понедельник количество заказов максимально, в пятницу и понедельник количество заказов максимально, а во вторник, субботу и воскресенье наблюдается спад (вероятно, это связано с цикличными перемещениями клиентов к местам отдыха и обратно).\n",
    "\n",
    "Динамика заказов по календарным дням и месяцам демонстрирует восходящий тренд.\n",
    "\n",
    "Всё вышеизложенное позволяет утверждать, что время суток, календарный день, день недели и месяц являются признаками, имеющими значимую дифференцирующую силу для предсказаний, поэтому их следует использовать для обучения моделей."
   ]
  },
  {
   "cell_type": "markdown",
   "metadata": {},
   "source": [
    "## Обучение с учителем. Задача регрессии"
   ]
  },
  {
   "cell_type": "markdown",
   "metadata": {},
   "source": [
    "В данном разделе мы выполним обучение с учителем для задачи линейной регрессии (прогнозирования временного ряда) следующих моделей:\n",
    "\n",
    "- `LightGBM`;\n",
    "- `Lasso`;\n",
    "- `Ridge`;\n",
    "- `SVR`;\n",
    "- `kNN`;\n",
    "- `DecisionTreeRegressor`.\n",
    "\n",
    "Мы добавим в датафрейм новые признаки (лаги).\n",
    "Для каждой из моделей мы подберём гиперпараметры, проверим качество моделей при кросс-валидации и затем обучим модели.\n",
    "\n",
    "Критерием удовлетворительного качества модели является значение метрики RMSE не более 48."
   ]
  },
  {
   "cell_type": "markdown",
   "metadata": {},
   "source": [
    "### Добавление новых признаков"
   ]
  },
  {
   "cell_type": "code",
   "execution_count": 26,
   "metadata": {},
   "outputs": [],
   "source": [
    "# создаём функцию для добавления новых признаков\n",
    "def make_features(data,\n",
    "                  column,\n",
    "                  *max_lag,\n",
    "                  new_cols=None,\n",
    "                  rolling_mean_size=10):\n",
    "    df_copy = data.copy()\n",
    "    \n",
    "    if new_cols:\n",
    "        df_copy['year'] = df_copy.index.year\n",
    "        df_copy['month'] = df_copy.index.month\n",
    "        df_copy['day'] = df_copy.index.day\n",
    "        df_copy['dayofweek'] = df_copy.index.dayofweek\n",
    "    \n",
    "    for lag in max_lag:\n",
    "        df_copy['lag_{}'.format(lag)] = df_copy[column].shift(lag)\n",
    "\n",
    "    df_copy['rolling_mean'] = (df_copy[column]\n",
    "                               .shift()\n",
    "                               .rolling(rolling_mean_size)\n",
    "                               .mean())\n",
    "    \n",
    "    return df_copy"
   ]
  },
  {
   "cell_type": "code",
   "execution_count": 27,
   "metadata": {},
   "outputs": [
    {
     "data": {
      "text/html": [
       "<div>\n",
       "<style scoped>\n",
       "    .dataframe tbody tr th:only-of-type {\n",
       "        vertical-align: middle;\n",
       "    }\n",
       "\n",
       "    .dataframe tbody tr th {\n",
       "        vertical-align: top;\n",
       "    }\n",
       "\n",
       "    .dataframe thead th {\n",
       "        text-align: right;\n",
       "    }\n",
       "</style>\n",
       "<table border=\"1\" class=\"dataframe\">\n",
       "  <thead>\n",
       "    <tr style=\"text-align: right;\">\n",
       "      <th></th>\n",
       "      <th>num_orders</th>\n",
       "      <th>hour</th>\n",
       "      <th>day</th>\n",
       "      <th>dayofweek</th>\n",
       "      <th>month</th>\n",
       "      <th>lag_1</th>\n",
       "      <th>lag_2</th>\n",
       "      <th>lag_3</th>\n",
       "      <th>lag_24</th>\n",
       "      <th>rolling_mean</th>\n",
       "    </tr>\n",
       "    <tr>\n",
       "      <th>datetime</th>\n",
       "      <th></th>\n",
       "      <th></th>\n",
       "      <th></th>\n",
       "      <th></th>\n",
       "      <th></th>\n",
       "      <th></th>\n",
       "      <th></th>\n",
       "      <th></th>\n",
       "      <th></th>\n",
       "      <th></th>\n",
       "    </tr>\n",
       "  </thead>\n",
       "  <tbody>\n",
       "    <tr>\n",
       "      <th>2018-03-02 00:00:00</th>\n",
       "      <td>90</td>\n",
       "      <td>0</td>\n",
       "      <td>2</td>\n",
       "      <td>4</td>\n",
       "      <td>3</td>\n",
       "      <td>58.0</td>\n",
       "      <td>113.0</td>\n",
       "      <td>66.0</td>\n",
       "      <td>124.0</td>\n",
       "      <td>61.7</td>\n",
       "    </tr>\n",
       "    <tr>\n",
       "      <th>2018-03-02 01:00:00</th>\n",
       "      <td>120</td>\n",
       "      <td>1</td>\n",
       "      <td>2</td>\n",
       "      <td>4</td>\n",
       "      <td>3</td>\n",
       "      <td>90.0</td>\n",
       "      <td>58.0</td>\n",
       "      <td>113.0</td>\n",
       "      <td>85.0</td>\n",
       "      <td>65.9</td>\n",
       "    </tr>\n",
       "    <tr>\n",
       "      <th>2018-03-02 02:00:00</th>\n",
       "      <td>75</td>\n",
       "      <td>2</td>\n",
       "      <td>2</td>\n",
       "      <td>4</td>\n",
       "      <td>3</td>\n",
       "      <td>120.0</td>\n",
       "      <td>90.0</td>\n",
       "      <td>58.0</td>\n",
       "      <td>71.0</td>\n",
       "      <td>71.3</td>\n",
       "    </tr>\n",
       "    <tr>\n",
       "      <th>2018-03-02 03:00:00</th>\n",
       "      <td>64</td>\n",
       "      <td>3</td>\n",
       "      <td>2</td>\n",
       "      <td>4</td>\n",
       "      <td>3</td>\n",
       "      <td>75.0</td>\n",
       "      <td>120.0</td>\n",
       "      <td>90.0</td>\n",
       "      <td>66.0</td>\n",
       "      <td>74.5</td>\n",
       "    </tr>\n",
       "    <tr>\n",
       "      <th>2018-03-02 04:00:00</th>\n",
       "      <td>20</td>\n",
       "      <td>4</td>\n",
       "      <td>2</td>\n",
       "      <td>4</td>\n",
       "      <td>3</td>\n",
       "      <td>64.0</td>\n",
       "      <td>75.0</td>\n",
       "      <td>120.0</td>\n",
       "      <td>43.0</td>\n",
       "      <td>76.5</td>\n",
       "    </tr>\n",
       "  </tbody>\n",
       "</table>\n",
       "</div>"
      ],
      "text/plain": [
       "                     num_orders  hour  day  dayofweek  month  lag_1  lag_2  \\\n",
       "datetime                                                                     \n",
       "2018-03-02 00:00:00          90     0    2          4      3   58.0  113.0   \n",
       "2018-03-02 01:00:00         120     1    2          4      3   90.0   58.0   \n",
       "2018-03-02 02:00:00          75     2    2          4      3  120.0   90.0   \n",
       "2018-03-02 03:00:00          64     3    2          4      3   75.0  120.0   \n",
       "2018-03-02 04:00:00          20     4    2          4      3   64.0   75.0   \n",
       "\n",
       "                     lag_3  lag_24  rolling_mean  \n",
       "datetime                                          \n",
       "2018-03-02 00:00:00   66.0   124.0          61.7  \n",
       "2018-03-02 01:00:00  113.0    85.0          65.9  \n",
       "2018-03-02 02:00:00   58.0    71.0          71.3  \n",
       "2018-03-02 03:00:00   90.0    66.0          74.5  \n",
       "2018-03-02 04:00:00  120.0    43.0          76.5  "
      ]
     },
     "execution_count": 27,
     "metadata": {},
     "output_type": "execute_result"
    }
   ],
   "source": [
    "# добавляем новые признаки\n",
    "df_new = make_features(df_taxi, 'num_orders', 1, 2, 3, 24)\n",
    "\n",
    "# удаляем строки с пропусками\n",
    "df_new.dropna(inplace=True)\n",
    "\n",
    "df_new.head()"
   ]
  },
  {
   "cell_type": "code",
   "execution_count": 28,
   "metadata": {},
   "outputs": [
    {
     "name": "stdout",
     "output_type": "stream",
     "text": [
      "2018-03-02 00:00:00 2018-08-13 15:00:00\n",
      "2018-08-13 16:00:00 2018-08-31 23:00:00\n"
     ]
    }
   ],
   "source": [
    "# разделяем данные на тренировочную и тестовую выборки\n",
    "train, test = train_test_split(df_new,\n",
    "                               shuffle=False,\n",
    "                               test_size=TEST_SIZE)\n",
    "\n",
    "# проверяем, как прошло разделение\n",
    "print(train.index.min(), train.index.max())\n",
    "print(test.index.min(), test.index.max())"
   ]
  },
  {
   "cell_type": "code",
   "execution_count": 29,
   "metadata": {},
   "outputs": [
    {
     "data": {
      "text/plain": [
       "((3952, 9), (440, 9))"
      ]
     },
     "execution_count": 29,
     "metadata": {},
     "output_type": "execute_result"
    }
   ],
   "source": [
    "# разделяем признаки на входные и целевые\n",
    "X_train = train.drop('num_orders', axis=1)\n",
    "X_test = test.drop('num_orders', axis=1)\n",
    "y_train = train['num_orders']\n",
    "y_test = test['num_orders']\n",
    "\n",
    "# проверяем, как прошло разделение\n",
    "X_train.shape, X_test.shape"
   ]
  },
  {
   "cell_type": "code",
   "execution_count": 30,
   "metadata": {},
   "outputs": [],
   "source": [
    "# объявляем функцию для поискаи гиперпараметров\n",
    "def search_best_params(hyper_param_search_method,\n",
    "                       model,\n",
    "                       param_grid,\n",
    "                       cv=5,\n",
    "                       scoring='neg_root_mean_squared_error',\n",
    "                       random_state=None,\n",
    "                       n_jobs=1,\n",
    "                       X_train=None,\n",
    "                       y_train=None,\n",
    "                       scoring_name='RMSE'):\n",
    "    # инициализируем модель для поиска лучших гиперпараметов\n",
    "    if hyper_param_search_method == OptunaSearchCV:\n",
    "        gs = hyper_param_search_method(\n",
    "            model,\n",
    "            param_grid,\n",
    "            cv=cv,\n",
    "            scoring=scoring,\n",
    "            random_state=random_state,\n",
    "            n_jobs=n_jobs\n",
    "        )\n",
    "    else:\n",
    "        gs = hyper_param_search_method(\n",
    "            model,\n",
    "            param_grid,\n",
    "            cv=cv,\n",
    "            scoring=scoring,\n",
    "            n_jobs=n_jobs\n",
    "        )\n",
    "\n",
    "    # запускаем поиск гиперпараметров\n",
    "    gs.fit(X_train, y_train)\n",
    "\n",
    "    # получаем лучшую метрику при кросс-валидации\n",
    "    print(f'Лучший результат метрики {scoring_name} при кросс-валидации:\\n',\n",
    "          gs.best_score_)\n",
    "\n",
    "    # получаем лучшие гиперпараметры при кросс-валидации\n",
    "    print(f'Лучшая модель при кросс-валидации:\\n',\n",
    "          gs.best_estimator_)\n",
    "    \n",
    "    return gs"
   ]
  },
  {
   "cell_type": "code",
   "execution_count": 31,
   "metadata": {},
   "outputs": [],
   "source": [
    "# инициализируем объект для разделения временного ряда на фолды\n",
    "tscv = TimeSeriesSplit(n_splits=10)"
   ]
  },
  {
   "cell_type": "markdown",
   "metadata": {},
   "source": [
    "### Обучение модели LightGBM"
   ]
  },
  {
   "cell_type": "code",
   "execution_count": 32,
   "metadata": {},
   "outputs": [
    {
     "name": "stderr",
     "output_type": "stream",
     "text": [
      "/tmp/ipykernel_197/3982002133.py:14: ExperimentalWarning: OptunaSearchCV is experimental (supported from v0.17.0). The interface can change in the future.\n",
      "  gs = hyper_param_search_method(\n",
      "[I 2024-06-20 10:32:40,897] A new study created in memory with name: no-name-9b9fde2b-b89d-4502-a414-9dd25bf50e2f\n",
      "[I 2024-06-20 10:32:41,446] Trial 0 finished with value: -24.29966759021369 and parameters: {'min_data_in_leaf': 53, 'max_depth': 13, 'num_leaves': 41}. Best is trial 0 with value: -24.29966759021369.\n",
      "[I 2024-06-20 10:32:41,923] Trial 1 finished with value: -24.35554306847423 and parameters: {'min_data_in_leaf': 72, 'max_depth': 15, 'num_leaves': 55}. Best is trial 0 with value: -24.29966759021369.\n",
      "[I 2024-06-20 10:32:42,467] Trial 2 finished with value: -24.297769391829345 and parameters: {'min_data_in_leaf': 41, 'max_depth': 9, 'num_leaves': 53}. Best is trial 2 with value: -24.297769391829345.\n",
      "[I 2024-06-20 10:32:43,071] Trial 3 finished with value: -24.231902863672474 and parameters: {'min_data_in_leaf': 42, 'max_depth': 13, 'num_leaves': 92}. Best is trial 3 with value: -24.231902863672474.\n",
      "[I 2024-06-20 10:32:43,447] Trial 4 finished with value: -24.048063249126567 and parameters: {'min_data_in_leaf': 45, 'max_depth': 7, 'num_leaves': 15}. Best is trial 4 with value: -24.048063249126567.\n",
      "[I 2024-06-20 10:32:43,863] Trial 5 finished with value: -24.293534279855233 and parameters: {'min_data_in_leaf': 61, 'max_depth': 14, 'num_leaves': 17}. Best is trial 4 with value: -24.048063249126567.\n",
      "[I 2024-06-20 10:32:44,416] Trial 6 finished with value: -24.346632103894386 and parameters: {'min_data_in_leaf': 55, 'max_depth': 15, 'num_leaves': 72}. Best is trial 4 with value: -24.048063249126567.\n",
      "[I 2024-06-20 10:32:44,876] Trial 7 finished with value: -24.43266451646354 and parameters: {'min_data_in_leaf': 88, 'max_depth': 19, 'num_leaves': 98}. Best is trial 4 with value: -24.048063249126567.\n",
      "[I 2024-06-20 10:32:45,493] Trial 8 finished with value: -24.41346495223708 and parameters: {'min_data_in_leaf': 50, 'max_depth': 18, 'num_leaves': 71}. Best is trial 4 with value: -24.048063249126567.\n",
      "[I 2024-06-20 10:32:45,838] Trial 9 finished with value: -24.053326950892902 and parameters: {'min_data_in_leaf': 32, 'max_depth': 5, 'num_leaves': 16}. Best is trial 4 with value: -24.048063249126567.\n"
     ]
    },
    {
     "name": "stdout",
     "output_type": "stream",
     "text": [
      "Лучший результат метрики RMSE при кросс-валидации:\n",
      " -24.048063249126567\n",
      "Лучшая модель при кросс-валидации:\n",
      " LGBMRegressor(max_depth=7, min_data_in_leaf=45, n_jobs=-1, num_leaves=15,\n",
      "              random_state=2024, verbosity=-1)\n"
     ]
    }
   ],
   "source": [
    "# инициализируем модель для обучения\n",
    "lgb_model = LGBMRegressor(random_state=RANDOM_STATE,\n",
    "                          n_jobs=-1,\n",
    "                          verbosity=-1)\n",
    "\n",
    "# задаем гиперпараметры для перебора\n",
    "param_grid = {\n",
    "    'min_data_in_leaf': IntDistribution(5, 100),\n",
    "    'max_depth': IntDistribution(4, 20),\n",
    "    'num_leaves': IntDistribution(10, 100)\n",
    "}\n",
    "\n",
    "# выполняем поиск гиперпараметров\n",
    "gs = search_best_params(OptunaSearchCV,\n",
    "                        lgb_model,\n",
    "                        param_grid,\n",
    "                        cv=tscv,\n",
    "                        random_state=RANDOM_STATE,\n",
    "                        X_train=X_train,\n",
    "                        y_train=y_train)\n",
    "\n",
    "# обучаем лучшую модель\n",
    "lgb_best_model = gs.best_estimator_.fit(X_train, y_train)"
   ]
  },
  {
   "cell_type": "markdown",
   "metadata": {},
   "source": [
    "### Обучение модели Lasso"
   ]
  },
  {
   "cell_type": "code",
   "execution_count": 33,
   "metadata": {},
   "outputs": [
    {
     "name": "stderr",
     "output_type": "stream",
     "text": [
      "/tmp/ipykernel_197/3982002133.py:14: ExperimentalWarning: OptunaSearchCV is experimental (supported from v0.17.0). The interface can change in the future.\n",
      "  gs = hyper_param_search_method(\n",
      "[I 2024-06-20 10:32:45,940] A new study created in memory with name: no-name-024fe521-2bb1-4e2c-b018-937207820e3c\n",
      "[I 2024-06-20 10:32:46,279] Trial 0 finished with value: -26.976111387531724 and parameters: {'alpha': 5.03}. Best is trial 0 with value: -26.976111387531724.\n",
      "[I 2024-06-20 10:32:46,678] Trial 1 finished with value: -26.980369316928467 and parameters: {'alpha': 5.65}. Best is trial 0 with value: -26.976111387531724.\n",
      "[I 2024-06-20 10:32:47,183] Trial 2 finished with value: -26.972363181456796 and parameters: {'alpha': 3.45}. Best is trial 2 with value: -26.972363181456796.\n",
      "[I 2024-06-20 10:32:47,680] Trial 3 finished with value: -26.991630988891863 and parameters: {'alpha': 7.0}. Best is trial 2 with value: -26.972363181456796.\n",
      "[I 2024-06-20 10:32:48,182] Trial 4 finished with value: -26.98937543276341 and parameters: {'alpha': 6.75}. Best is trial 2 with value: -26.972363181456796.\n",
      "[I 2024-06-20 10:32:48,679] Trial 5 finished with value: -26.976048311747785 and parameters: {'alpha': 5.0200000000000005}. Best is trial 2 with value: -26.972363181456796.\n",
      "[I 2024-06-20 10:32:49,278] Trial 6 finished with value: -26.971683311336555 and parameters: {'alpha': 3.79}. Best is trial 6 with value: -26.971683311336555.\n",
      "[I 2024-06-20 10:32:49,680] Trial 7 finished with value: -26.972460497827818 and parameters: {'alpha': 3.42}. Best is trial 6 with value: -26.971683311336555.\n",
      "[I 2024-06-20 10:32:50,174] Trial 8 finished with value: -26.974391571526546 and parameters: {'alpha': 4.76}. Best is trial 6 with value: -26.971683311336555.\n",
      "[I 2024-06-20 10:32:50,580] Trial 9 finished with value: -26.97163865883971 and parameters: {'alpha': 3.89}. Best is trial 9 with value: -26.97163865883971.\n"
     ]
    },
    {
     "name": "stdout",
     "output_type": "stream",
     "text": [
      "Лучший результат метрики RMSE при кросс-валидации:\n",
      " -26.97163865883971\n",
      "Лучшая модель при кросс-валидации:\n",
      " Lasso(alpha=3.89, random_state=2024)\n"
     ]
    }
   ],
   "source": [
    "# инициализируем модель для обучения\n",
    "lasso_model = Lasso(random_state=RANDOM_STATE)\n",
    "\n",
    "# задаем гиперпараметры для перебора\n",
    "param_grid = {\n",
    "    'alpha': FloatDistribution(0, 10, step=0.01)\n",
    "}\n",
    "\n",
    "# выполняем поиск гиперпараметров\n",
    "gs = search_best_params(OptunaSearchCV,\n",
    "                        lasso_model,\n",
    "                        param_grid,\n",
    "                        cv=tscv,\n",
    "                        random_state=RANDOM_STATE,\n",
    "                        X_train=X_train,\n",
    "                        y_train=y_train)\n",
    "\n",
    "# обучаем лучшую модель\n",
    "lasso_best_model = gs.best_estimator_.fit(X_train, y_train)"
   ]
  },
  {
   "cell_type": "markdown",
   "metadata": {},
   "source": [
    "### Обучение модели Ridge"
   ]
  },
  {
   "cell_type": "code",
   "execution_count": 34,
   "metadata": {},
   "outputs": [
    {
     "name": "stderr",
     "output_type": "stream",
     "text": [
      "/tmp/ipykernel_197/3982002133.py:14: ExperimentalWarning: OptunaSearchCV is experimental (supported from v0.17.0). The interface can change in the future.\n",
      "  gs = hyper_param_search_method(\n",
      "[I 2024-06-20 10:32:50,876] A new study created in memory with name: no-name-fe6d5790-9646-4f57-9496-52dd64c6e531\n",
      "[I 2024-06-20 10:32:50,993] Trial 0 finished with value: -26.937096220972773 and parameters: {'alpha': 5.03}. Best is trial 0 with value: -26.937096220972773.\n",
      "[I 2024-06-20 10:32:51,100] Trial 1 finished with value: -26.93683016781306 and parameters: {'alpha': 5.65}. Best is trial 1 with value: -26.93683016781306.\n",
      "[I 2024-06-20 10:32:51,281] Trial 2 finished with value: -26.93826575101415 and parameters: {'alpha': 3.45}. Best is trial 1 with value: -26.93683016781306.\n",
      "[I 2024-06-20 10:32:51,388] Trial 3 finished with value: -26.936430056952513 and parameters: {'alpha': 7.0}. Best is trial 3 with value: -26.936430056952513.\n",
      "[I 2024-06-20 10:32:51,499] Trial 4 finished with value: -26.93649062085192 and parameters: {'alpha': 6.75}. Best is trial 3 with value: -26.936430056952513.\n",
      "[I 2024-06-20 10:32:51,677] Trial 5 finished with value: -26.937101115088467 and parameters: {'alpha': 5.0200000000000005}. Best is trial 3 with value: -26.936430056952513.\n",
      "[I 2024-06-20 10:32:51,784] Trial 6 finished with value: -26.937924341184516 and parameters: {'alpha': 3.79}. Best is trial 3 with value: -26.936430056952513.\n",
      "[I 2024-06-20 10:32:51,892] Trial 7 finished with value: -26.938299358577616 and parameters: {'alpha': 3.42}. Best is trial 3 with value: -26.936430056952513.\n",
      "[I 2024-06-20 10:32:52,000] Trial 8 finished with value: -26.937236401492065 and parameters: {'alpha': 4.76}. Best is trial 3 with value: -26.936430056952513.\n",
      "[I 2024-06-20 10:32:52,173] Trial 9 finished with value: -26.93783607089597 and parameters: {'alpha': 3.89}. Best is trial 3 with value: -26.936430056952513.\n"
     ]
    },
    {
     "name": "stdout",
     "output_type": "stream",
     "text": [
      "Лучший результат метрики RMSE при кросс-валидации:\n",
      " -26.936430056952513\n",
      "Лучшая модель при кросс-валидации:\n",
      " Ridge(alpha=7.0, random_state=2024)\n"
     ]
    }
   ],
   "source": [
    "# инициализируем модель для обучения\n",
    "ridge_model = Ridge(random_state=RANDOM_STATE)\n",
    "\n",
    "# задаем гиперпараметры для перебора\n",
    "param_grid = {\n",
    "    'alpha': FloatDistribution(0, 10, step=0.01)\n",
    "}\n",
    "\n",
    "# выполняем поиск гиперпараметров\n",
    "gs = search_best_params(OptunaSearchCV,\n",
    "                        ridge_model,\n",
    "                        param_grid,\n",
    "                        cv=tscv,\n",
    "                        random_state=RANDOM_STATE,\n",
    "                        X_train=X_train,\n",
    "                        y_train=y_train)\n",
    "\n",
    "# обучаем лучшую модель\n",
    "ridge_best_model = gs.best_estimator_.fit(X_train, y_train)"
   ]
  },
  {
   "cell_type": "markdown",
   "metadata": {},
   "source": [
    "### Обучение модели SVR"
   ]
  },
  {
   "cell_type": "code",
   "execution_count": 35,
   "metadata": {},
   "outputs": [
    {
     "name": "stderr",
     "output_type": "stream",
     "text": [
      "/tmp/ipykernel_197/3982002133.py:14: ExperimentalWarning: OptunaSearchCV is experimental (supported from v0.17.0). The interface can change in the future.\n",
      "  gs = hyper_param_search_method(\n",
      "[I 2024-06-20 10:32:52,186] A new study created in memory with name: no-name-beaed296-7d6f-427b-aed0-3bc44c50f8c6\n",
      "[I 2024-06-20 10:32:54,455] Trial 0 finished with value: -27.613505316808833 and parameters: {'C': 5.03}. Best is trial 0 with value: -27.613505316808833.\n",
      "[I 2024-06-20 10:32:56,582] Trial 1 finished with value: -27.515441334642702 and parameters: {'C': 5.65}. Best is trial 1 with value: -27.515441334642702.\n",
      "[I 2024-06-20 10:32:58,682] Trial 2 finished with value: -28.007294099953697 and parameters: {'C': 3.45}. Best is trial 1 with value: -27.515441334642702.\n",
      "[I 2024-06-20 10:33:01,420] Trial 3 finished with value: -27.35255685638677 and parameters: {'C': 7.0}. Best is trial 3 with value: -27.35255685638677.\n",
      "[I 2024-06-20 10:33:03,578] Trial 4 finished with value: -27.379485731796866 and parameters: {'C': 6.75}. Best is trial 3 with value: -27.35255685638677.\n",
      "[I 2024-06-20 10:33:05,677] Trial 5 finished with value: -27.614991213748493 and parameters: {'C': 5.0200000000000005}. Best is trial 3 with value: -27.35255685638677.\n",
      "[I 2024-06-20 10:33:07,877] Trial 6 finished with value: -27.90563235780046 and parameters: {'C': 3.79}. Best is trial 3 with value: -27.35255685638677.\n",
      "[I 2024-06-20 10:33:10,468] Trial 7 finished with value: -28.016004146205653 and parameters: {'C': 3.42}. Best is trial 3 with value: -27.35255685638677.\n",
      "[I 2024-06-20 10:33:12,577] Trial 8 finished with value: -27.65635774835144 and parameters: {'C': 4.76}. Best is trial 3 with value: -27.35255685638677.\n",
      "[I 2024-06-20 10:33:14,620] Trial 9 finished with value: -27.870141782543563 and parameters: {'C': 3.89}. Best is trial 3 with value: -27.35255685638677.\n"
     ]
    },
    {
     "name": "stdout",
     "output_type": "stream",
     "text": [
      "Лучший результат метрики RMSE при кросс-валидации:\n",
      " -27.35255685638677\n",
      "Лучшая модель при кросс-валидации:\n",
      " SVR(C=7.0)\n"
     ]
    }
   ],
   "source": [
    "# инициализируем модель для обучения\n",
    "svr_model = SVR()\n",
    "\n",
    "# задаем гиперпараметры для перебора\n",
    "param_grid = {\n",
    "    'C': FloatDistribution(0, 10, step=0.01)\n",
    "}\n",
    "\n",
    "# выполняем поиск гиперпараметров\n",
    "gs = search_best_params(OptunaSearchCV,\n",
    "                        svr_model,\n",
    "                        param_grid,\n",
    "                        cv=tscv,\n",
    "                        random_state=RANDOM_STATE,\n",
    "                        X_train=X_train,\n",
    "                        y_train=y_train)\n",
    "\n",
    "# обучаем лучшую модель\n",
    "svr_best_model = gs.best_estimator_.fit(X_train, y_train)"
   ]
  },
  {
   "cell_type": "markdown",
   "metadata": {},
   "source": [
    "### Обучение модели kNN"
   ]
  },
  {
   "cell_type": "code",
   "execution_count": 36,
   "metadata": {},
   "outputs": [
    {
     "name": "stderr",
     "output_type": "stream",
     "text": [
      "/tmp/ipykernel_197/3982002133.py:14: ExperimentalWarning: OptunaSearchCV is experimental (supported from v0.17.0). The interface can change in the future.\n",
      "  gs = hyper_param_search_method(\n",
      "[I 2024-06-20 10:33:15,773] A new study created in memory with name: no-name-5ace6f03-90cb-4267-a96e-b95ad2ca0c82\n",
      "[I 2024-06-20 10:33:15,912] Trial 0 finished with value: -27.16932018551819 and parameters: {'n_neighbors': 52}. Best is trial 0 with value: -27.16932018551819.\n",
      "[I 2024-06-20 10:33:16,051] Trial 1 finished with value: -27.239741966836544 and parameters: {'n_neighbors': 58}. Best is trial 0 with value: -27.16932018551819.\n",
      "[I 2024-06-20 10:33:16,178] Trial 2 finished with value: -26.917727781050036 and parameters: {'n_neighbors': 36}. Best is trial 2 with value: -26.917727781050036.\n",
      "[I 2024-06-20 10:33:16,343] Trial 3 finished with value: -27.39916988465031 and parameters: {'n_neighbors': 71}. Best is trial 2 with value: -26.917727781050036.\n",
      "[I 2024-06-20 10:33:16,495] Trial 4 finished with value: -27.382511494198535 and parameters: {'n_neighbors': 69}. Best is trial 2 with value: -26.917727781050036.\n",
      "[I 2024-06-20 10:33:16,644] Trial 5 finished with value: -27.16932018551819 and parameters: {'n_neighbors': 52}. Best is trial 2 with value: -26.917727781050036.\n",
      "[I 2024-06-20 10:33:16,779] Trial 6 finished with value: -26.951535541782665 and parameters: {'n_neighbors': 40}. Best is trial 2 with value: -26.917727781050036.\n",
      "[I 2024-06-20 10:33:16,905] Trial 7 finished with value: -26.917727781050036 and parameters: {'n_neighbors': 36}. Best is trial 2 with value: -26.917727781050036.\n",
      "[I 2024-06-20 10:33:17,037] Trial 8 finished with value: -27.10082759187734 and parameters: {'n_neighbors': 49}. Best is trial 2 with value: -26.917727781050036.\n",
      "[I 2024-06-20 10:33:17,164] Trial 9 finished with value: -26.951929455713678 and parameters: {'n_neighbors': 41}. Best is trial 2 with value: -26.917727781050036.\n"
     ]
    },
    {
     "name": "stdout",
     "output_type": "stream",
     "text": [
      "Лучший результат метрики RMSE при кросс-валидации:\n",
      " -26.917727781050036\n",
      "Лучшая модель при кросс-валидации:\n",
      " KNeighborsRegressor(n_jobs=-1, n_neighbors=36)\n"
     ]
    }
   ],
   "source": [
    "# инициализируем модель для обучения\n",
    "knn_model = KNeighborsRegressor(n_jobs=-1)\n",
    "\n",
    "# задаем гиперпараметры для перебора\n",
    "param_grid = {\n",
    "    'n_neighbors': IntDistribution(3, 100)\n",
    "}\n",
    "\n",
    "# выполняем поиск гиперпараметров\n",
    "gs = search_best_params(OptunaSearchCV,\n",
    "                        knn_model,\n",
    "                        param_grid,\n",
    "                        cv=tscv,\n",
    "                        random_state=RANDOM_STATE,\n",
    "                        X_train=X_train,\n",
    "                        y_train=y_train)\n",
    "\n",
    "# обучаем лучшую модель\n",
    "knn_best_model = gs.best_estimator_.fit(X_train, y_train)"
   ]
  },
  {
   "cell_type": "markdown",
   "metadata": {},
   "source": [
    "### Обучение модели дерева решений"
   ]
  },
  {
   "cell_type": "code",
   "execution_count": 37,
   "metadata": {},
   "outputs": [
    {
     "name": "stderr",
     "output_type": "stream",
     "text": [
      "/tmp/ipykernel_197/3982002133.py:14: ExperimentalWarning: OptunaSearchCV is experimental (supported from v0.17.0). The interface can change in the future.\n",
      "  gs = hyper_param_search_method(\n",
      "[I 2024-06-20 10:33:17,186] A new study created in memory with name: no-name-fcc0bd5a-f2a2-48fa-97df-a48707e42f92\n",
      "[I 2024-06-20 10:33:17,288] Trial 0 finished with value: -27.216113171513296 and parameters: {'max_depth': 12, 'min_samples_split': 58, 'min_samples_leaf': 20}. Best is trial 0 with value: -27.216113171513296.\n",
      "[I 2024-06-20 10:33:17,387] Trial 1 finished with value: -27.11920375347563 and parameters: {'max_depth': 15, 'min_samples_split': 69, 'min_samples_leaf': 28}. Best is trial 1 with value: -27.11920375347563.\n",
      "[I 2024-06-20 10:33:17,497] Trial 2 finished with value: -27.081612269272334 and parameters: {'max_depth': 9, 'min_samples_split': 36, 'min_samples_leaf': 26}. Best is trial 2 with value: -27.081612269272334.\n",
      "[I 2024-06-20 10:33:17,585] Trial 3 finished with value: -27.845609940007336 and parameters: {'max_depth': 9, 'min_samples_split': 60, 'min_samples_leaf': 46}. Best is trial 2 with value: -27.081612269272334.\n",
      "[I 2024-06-20 10:33:17,711] Trial 4 finished with value: -28.218791119060747 and parameters: {'max_depth': 10, 'min_samples_split': 20, 'min_samples_leaf': 7}. Best is trial 2 with value: -27.081612269272334.\n",
      "[I 2024-06-20 10:33:17,820] Trial 5 finished with value: -27.42204614923139 and parameters: {'max_depth': 13, 'min_samples_split': 65, 'min_samples_leaf': 8}. Best is trial 2 with value: -27.081612269272334.\n",
      "[I 2024-06-20 10:33:17,920] Trial 6 finished with value: -27.26051848456 and parameters: {'max_depth': 12, 'min_samples_split': 71, 'min_samples_leaf': 36}. Best is trial 2 with value: -27.081612269272334.\n",
      "[I 2024-06-20 10:33:18,012] Trial 7 finished with value: -27.886270884425613 and parameters: {'max_depth': 18, 'min_samples_split': 93, 'min_samples_leaf': 49}. Best is trial 2 with value: -27.081612269272334.\n",
      "[I 2024-06-20 10:33:18,121] Trial 8 finished with value: -27.46364695996969 and parameters: {'max_depth': 11, 'min_samples_split': 87, 'min_samples_leaf': 36}. Best is trial 2 with value: -27.081612269272334.\n",
      "[I 2024-06-20 10:33:18,237] Trial 9 finished with value: -27.64190186715906 and parameters: {'max_depth': 8, 'min_samples_split': 9, 'min_samples_leaf': 8}. Best is trial 2 with value: -27.081612269272334.\n"
     ]
    },
    {
     "name": "stdout",
     "output_type": "stream",
     "text": [
      "Лучший результат метрики RMSE при кросс-валидации:\n",
      " -27.081612269272334\n",
      "Лучшая модель при кросс-валидации:\n",
      " DecisionTreeRegressor(max_depth=9, min_samples_leaf=26, min_samples_split=36,\n",
      "                      random_state=2024)\n"
     ]
    }
   ],
   "source": [
    "# инициализируем модель для обучения\n",
    "tree_model = DecisionTreeRegressor(random_state=RANDOM_STATE)\n",
    "\n",
    "# задаем гиперпараметры для перебора\n",
    "param_grid = {\n",
    "    'max_depth': IntDistribution(3, 20),\n",
    "    'min_samples_split': IntDistribution(3, 100),\n",
    "    'min_samples_leaf': IntDistribution(5, 50)\n",
    "}\n",
    "\n",
    "# выполняем поиск гиперпараметров\n",
    "gs = search_best_params(OptunaSearchCV,\n",
    "                        tree_model,\n",
    "                        param_grid,\n",
    "                        cv=tscv,\n",
    "                        random_state=RANDOM_STATE,\n",
    "                        X_train=X_train,\n",
    "                        y_train=y_train)\n",
    "\n",
    "# обучаем лучшую модель\n",
    "tree_best_model = gs.best_estimator_.fit(X_train, y_train)"
   ]
  },
  {
   "cell_type": "markdown",
   "metadata": {},
   "source": [
    "**Вывод**\n",
    "\n",
    "В результате обучения все модели показали весьма высокие результаты на кросс-валидации: от 24.0 до 27.4 при требуемом пороге не более 48.0.\n",
    "\n",
    "Лучшей из моделей по результатам обучения является модель `LGBMRegressor` с гиперпараметрами `max_depth`=7, `min_data_in_leaf`=45, `num_leaves`=15, показавшая значение метрики RMSE при кросс-валидации в размере 24.0."
   ]
  },
  {
   "cell_type": "markdown",
   "metadata": {},
   "source": [
    "## Тестирование лучшей модели на тестовой выборке"
   ]
  },
  {
   "cell_type": "markdown",
   "metadata": {},
   "source": [
    "Выполним предсказания с помощью лучшей модели (`LGBMRegressor`), затем добавим их в выборку `y_test` и построим графики истинных и предсказанных значений."
   ]
  },
  {
   "cell_type": "code",
   "execution_count": 40,
   "metadata": {},
   "outputs": [
    {
     "name": "stdout",
     "output_type": "stream",
     "text": [
      "Метрика RMSE лучшей модели на тестовой выборке: 40.91953028320139\n"
     ]
    }
   ],
   "source": [
    "# выполняем предсказания с помощью лучшей модели\n",
    "pred = lgb_best_model.predict(X_test)\n",
    "\n",
    "# выводим значение метрики RMSE лучшей модели на тестовой выборке\n",
    "print(f'Метрика RMSE лучшей модели на тестовой выборке:',\n",
    "      root_mean_squared_error(y_test, pred))"
   ]
  },
  {
   "cell_type": "code",
   "execution_count": 41,
   "metadata": {},
   "outputs": [
    {
     "data": {
      "text/html": [
       "<div>\n",
       "<style scoped>\n",
       "    .dataframe tbody tr th:only-of-type {\n",
       "        vertical-align: middle;\n",
       "    }\n",
       "\n",
       "    .dataframe tbody tr th {\n",
       "        vertical-align: top;\n",
       "    }\n",
       "\n",
       "    .dataframe thead th {\n",
       "        text-align: right;\n",
       "    }\n",
       "</style>\n",
       "<table border=\"1\" class=\"dataframe\">\n",
       "  <thead>\n",
       "    <tr style=\"text-align: right;\">\n",
       "      <th></th>\n",
       "      <th>num_orders</th>\n",
       "      <th>predicted_num_orders</th>\n",
       "    </tr>\n",
       "    <tr>\n",
       "      <th>datetime</th>\n",
       "      <th></th>\n",
       "      <th></th>\n",
       "    </tr>\n",
       "  </thead>\n",
       "  <tbody>\n",
       "    <tr>\n",
       "      <th>2018-08-13 16:00:00</th>\n",
       "      <td>144</td>\n",
       "      <td>151.417796</td>\n",
       "    </tr>\n",
       "    <tr>\n",
       "      <th>2018-08-13 17:00:00</th>\n",
       "      <td>152</td>\n",
       "      <td>127.889776</td>\n",
       "    </tr>\n",
       "    <tr>\n",
       "      <th>2018-08-13 18:00:00</th>\n",
       "      <td>104</td>\n",
       "      <td>94.516324</td>\n",
       "    </tr>\n",
       "    <tr>\n",
       "      <th>2018-08-13 19:00:00</th>\n",
       "      <td>91</td>\n",
       "      <td>103.621583</td>\n",
       "    </tr>\n",
       "    <tr>\n",
       "      <th>2018-08-13 20:00:00</th>\n",
       "      <td>82</td>\n",
       "      <td>108.527324</td>\n",
       "    </tr>\n",
       "  </tbody>\n",
       "</table>\n",
       "</div>"
      ],
      "text/plain": [
       "                     num_orders  predicted_num_orders\n",
       "datetime                                             \n",
       "2018-08-13 16:00:00         144            151.417796\n",
       "2018-08-13 17:00:00         152            127.889776\n",
       "2018-08-13 18:00:00         104             94.516324\n",
       "2018-08-13 19:00:00          91            103.621583\n",
       "2018-08-13 20:00:00          82            108.527324"
      ]
     },
     "execution_count": 41,
     "metadata": {},
     "output_type": "execute_result"
    }
   ],
   "source": [
    "# добавляем предсказанные значения в выборку с истинными значениями\n",
    "y_test_full = pd.concat(\n",
    "    [y_test.reset_index(),\n",
    "    pd.DataFrame(pred, columns=['predicted_num_orders'])],\n",
    "    axis=1\n",
    ").set_index('datetime')\n",
    "y_test_full.head()"
   ]
  },
  {
   "cell_type": "code",
   "execution_count": 42,
   "metadata": {},
   "outputs": [
    {
     "data": {
      "image/png": "[encoded data removed]",
      "text/plain": [
       "<Figure size 720x576 with 1 Axes>"
      ]
     },
     "metadata": {
      "needs_background": "light"
     },
     "output_type": "display_data"
    }
   ],
   "source": [
    "# строим графики по истинным и предсказанным значениям\n",
    "y_test_full.plot(figsize=(10, 8))\n",
    "plt.title('Динамика заказов такси по дням и часам')\n",
    "plt.xlabel('Дата и время')\n",
    "plt.ylabel('Количество заказов (шт.)')\n",
    "plt.legend(['Истинное количество заказов',\n",
    "            'Предсказанное количество заказов']);"
   ]
  },
  {
   "cell_type": "markdown",
   "metadata": {},
   "source": [
    "**Вывод**\n",
    "\n",
    "Лучшей моделью для предсказания количества заказов на следующий час является модель `LGBMRegressor` с гиперпараметрами `max_depth`=7, `min_data_in_leaf`=45, `num_leaves`=15. Модель показала значение метрики RMSE на тестовой выборке в размере 40.9, что не превышает требуемого порога 48.0. Визуально предсказания модели также выглядят реалистично в сравнении с истинными значениями целевого признака."
   ]
  },
  {
   "cell_type": "markdown",
   "metadata": {},
   "source": [
    "## Общий вывод\n",
    "\n",
    "В исследовании были проанализированы данные о заказах такси в период с 01 марта 2018 года по 31 августа 2018 года (6 месяцев). Каждое наблюдение содержало данные о суммарном количестве заказов с интервалом в 10 минут. Для анализа и обучения моделей мы выполнили ресемплирование данных с шагом в 1 (один) час.\n",
    "\n",
    "На этапе анализа была выявлена высокая вариативность данных.\n",
    "\n",
    "Был обнаружен тренд в динамике заказов такси по дням и часам: количество заказов постепенно увеличивается с начала весны к концу лета. Была также значимо подтверждена стационарность стохастического процесса с помощью теста Дики-Фуллера, что дополнительно подтверждает прогнозируемость имеющегося временного ряда.\n",
    "\n",
    "По результатам анализа автокорреляции для обучения моделей было решено использовать 1-й, 2-й, 3-й и 24-й лаги: лаги 1-3 непосредственно предшествуют текущему часу, а 24-й лаг даёт представление о тренде в аналогичном часе сутками ранее. Таким образом, мы имеем 4 лага, предшествующих текущему часу, которые определяют тренд для данного временного промежутка.\n",
    "\n",
    "Также на этапе анализа данных была обнаружена разнонаправленная динамика количества заказов по времени суток (например, ранним утром, около 5-6 часов утра, спрос на такси минимален, а в вечерние и ночные часы максимален) и количества заказов по дням недели (в пятницу и понедельник количество заказов максимально, а во вторник, субботу и воскресенье наблюдается спад).\n",
    "\n",
    "Динамика заказов по календарным дням и месяцам демонстрирует восходящий тренд.\n",
    "\n",
    "По результатам анализа данных такие признаки как время суток, календарный день, день недели и месяц были использованы для обучения моделей и выполнения предсказаний целевого признака.\n",
    "\n",
    "Для обучения моделей первоначальный датасет был разделён на тренировочную и тестовую выборки в соотношении 9 к 1.\n",
    "\n",
    "В исследовании была решена задача регрессии путём обучения с учителем следующих моделей:\n",
    "\n",
    "- `LightGBM`;\n",
    "- `Lasso`;\n",
    "- `Ridge`;\n",
    "- `SVR`;\n",
    "- `kNN`;\n",
    "- `DecisionTreeRegressor`.\n",
    "\n",
    "Для каждой из моделей были подобраны гиперпараметры, проверено качество моделей при кросс-валидации и выполнено обучение моделей.\n",
    "\n",
    "Лучшей из моделей по результатам обучения является модель `LGBMRegressor` с гиперпараметрами `max_depth`=7, `min_data_in_leaf`=45, `num_leaves`=15, показавшая значение метрики RMSE при кросс-валидации в размере 24.0, что не превысило требуемого порога 48.0. Модель показала значение метрики RMSE на тестовой выборке в размере 40.9.\n",
    "\n",
    "По результатам исследования можно рекомендовать модель `LGBMRegressor` с гиперпараметрами `max_depth`=7, `min_data_in_leaf`=45, `num_leaves`=15 для предсказания количества заказов такси на следующий час."
   ]
  },
  {
   "cell_type": "markdown",
   "metadata": {},
   "source": [
    "## Чек-лист проверки"
   ]
  },
  {
   "cell_type": "markdown",
   "metadata": {},
   "source": [
    "- [x]  Jupyter Notebook открыт\n",
    "- [x]  Весь код выполняется без ошибок\n",
    "- [x]  Ячейки с кодом расположены в порядке исполнения\n",
    "- [x]  Данные загружены и подготовлены\n",
    "- [x]  Данные проанализированы\n",
    "- [x]  Модель обучена, гиперпараметры подобраны\n",
    "- [x]  Качество моделей проверено, выводы сделаны\n",
    "- [x]  Значение *RMSE* на тестовой выборке не больше 48"
   ]
  }
 ],
 "metadata": {
  "ExecuteTimeLog": [
   {
    "duration": 7068,
    "start_time": "2024-06-17T16:32:45.801Z"
   },
   {
    "duration": 13347,
    "start_time": "2024-06-17T16:32:55.839Z"
   },
   {
    "duration": 3470,
    "start_time": "2024-06-17T16:33:09.189Z"
   },
   {
    "duration": 1248,
    "start_time": "2024-06-17T16:33:41.390Z"
   },
   {
    "duration": 3248,
    "start_time": "2024-06-17T16:33:52.890Z"
   },
   {
    "duration": 2705,
    "start_time": "2024-06-17T16:34:07.365Z"
   },
   {
    "duration": 64,
    "start_time": "2024-06-17T16:34:59.169Z"
   },
   {
    "duration": 2737,
    "start_time": "2024-06-17T16:35:05.556Z"
   },
   {
    "duration": 7419,
    "start_time": "2024-06-17T16:37:26.926Z"
   },
   {
    "duration": 3559,
    "start_time": "2024-06-17T16:37:34.347Z"
   },
   {
    "duration": 3007,
    "start_time": "2024-06-17T16:37:37.912Z"
   },
   {
    "duration": 3574,
    "start_time": "2024-06-17T16:37:40.921Z"
   },
   {
    "duration": 8376,
    "start_time": "2024-06-17T16:37:44.497Z"
   },
   {
    "duration": 1096,
    "start_time": "2024-06-17T16:37:52.875Z"
   },
   {
    "duration": 0,
    "start_time": "2024-06-17T16:37:53.973Z"
   },
   {
    "duration": 1229,
    "start_time": "2024-06-17T16:38:04.422Z"
   },
   {
    "duration": 2,
    "start_time": "2024-06-17T16:38:07.066Z"
   },
   {
    "duration": 111,
    "start_time": "2024-06-17T16:46:49.274Z"
   },
   {
    "duration": 179,
    "start_time": "2024-06-17T16:47:45.632Z"
   },
   {
    "duration": 13,
    "start_time": "2024-06-17T16:47:53.358Z"
   },
   {
    "duration": 8010,
    "start_time": "2024-06-18T10:21:45.166Z"
   },
   {
    "duration": 14939,
    "start_time": "2024-06-18T10:21:53.178Z"
   },
   {
    "duration": 3238,
    "start_time": "2024-06-18T10:22:08.118Z"
   },
   {
    "duration": 6768,
    "start_time": "2024-06-18T10:22:11.357Z"
   },
   {
    "duration": 8720,
    "start_time": "2024-06-18T10:22:18.127Z"
   },
   {
    "duration": 1965,
    "start_time": "2024-06-18T10:22:26.849Z"
   },
   {
    "duration": 2,
    "start_time": "2024-06-18T10:22:28.816Z"
   },
   {
    "duration": 130,
    "start_time": "2024-06-18T10:22:28.819Z"
   },
   {
    "duration": 11,
    "start_time": "2024-06-18T10:22:28.951Z"
   },
   {
    "duration": 5,
    "start_time": "2024-06-18T10:22:37.898Z"
   },
   {
    "duration": 113,
    "start_time": "2024-06-18T10:25:27.650Z"
   },
   {
    "duration": 4,
    "start_time": "2024-06-18T10:25:33.459Z"
   },
   {
    "duration": 9,
    "start_time": "2024-06-18T10:26:25.918Z"
   },
   {
    "duration": 8,
    "start_time": "2024-06-18T10:32:33.419Z"
   },
   {
    "duration": 9,
    "start_time": "2024-06-18T10:32:42.558Z"
   },
   {
    "duration": 5,
    "start_time": "2024-06-18T10:32:51.630Z"
   },
   {
    "duration": 410,
    "start_time": "2024-06-18T10:57:31.851Z"
   },
   {
    "duration": 343,
    "start_time": "2024-06-18T10:59:56.734Z"
   },
   {
    "duration": 386,
    "start_time": "2024-06-18T11:00:27.440Z"
   },
   {
    "duration": 353,
    "start_time": "2024-06-18T11:01:29.168Z"
   },
   {
    "duration": 354,
    "start_time": "2024-06-18T11:02:15.100Z"
   },
   {
    "duration": 405,
    "start_time": "2024-06-18T11:02:26.500Z"
   },
   {
    "duration": 367,
    "start_time": "2024-06-18T11:02:55.938Z"
   },
   {
    "duration": 347,
    "start_time": "2024-06-18T11:03:18.294Z"
   },
   {
    "duration": 6,
    "start_time": "2024-06-18T11:07:25.965Z"
   },
   {
    "duration": 397,
    "start_time": "2024-06-18T11:08:04.455Z"
   },
   {
    "duration": 381,
    "start_time": "2024-06-18T11:08:24.777Z"
   },
   {
    "duration": 419,
    "start_time": "2024-06-18T11:09:08.109Z"
   },
   {
    "duration": 488,
    "start_time": "2024-06-18T11:09:43.955Z"
   },
   {
    "duration": 19,
    "start_time": "2024-06-18T11:12:32.117Z"
   },
   {
    "duration": 13,
    "start_time": "2024-06-18T11:16:56.583Z"
   },
   {
    "duration": 7,
    "start_time": "2024-06-18T11:17:32.055Z"
   },
   {
    "duration": 463,
    "start_time": "2024-06-18T11:19:18.956Z"
   },
   {
    "duration": 832,
    "start_time": "2024-06-18T11:19:41.738Z"
   },
   {
    "duration": 433,
    "start_time": "2024-06-18T11:20:57.530Z"
   },
   {
    "duration": 481,
    "start_time": "2024-06-18T11:21:08.523Z"
   },
   {
    "duration": 517,
    "start_time": "2024-06-18T11:21:18.458Z"
   },
   {
    "duration": 3489,
    "start_time": "2024-06-18T11:22:43.612Z"
   },
   {
    "duration": 3303,
    "start_time": "2024-06-18T11:22:47.103Z"
   },
   {
    "duration": 2786,
    "start_time": "2024-06-18T11:22:50.408Z"
   },
   {
    "duration": 2911,
    "start_time": "2024-06-18T11:22:53.196Z"
   },
   {
    "duration": 3206,
    "start_time": "2024-06-18T11:22:56.109Z"
   },
   {
    "duration": 1784,
    "start_time": "2024-06-18T11:22:59.317Z"
   },
   {
    "duration": 2,
    "start_time": "2024-06-18T11:23:01.103Z"
   },
   {
    "duration": 132,
    "start_time": "2024-06-18T11:23:01.107Z"
   },
   {
    "duration": 11,
    "start_time": "2024-06-18T11:23:01.241Z"
   },
   {
    "duration": 74,
    "start_time": "2024-06-18T11:23:01.253Z"
   },
   {
    "duration": 56,
    "start_time": "2024-06-18T11:23:01.328Z"
   },
   {
    "duration": 61,
    "start_time": "2024-06-18T11:23:01.385Z"
   },
   {
    "duration": 44,
    "start_time": "2024-06-18T11:23:01.448Z"
   },
   {
    "duration": 147,
    "start_time": "2024-06-18T11:23:01.493Z"
   },
   {
    "duration": 0,
    "start_time": "2024-06-18T11:23:01.641Z"
   },
   {
    "duration": 0,
    "start_time": "2024-06-18T11:23:01.643Z"
   },
   {
    "duration": 10,
    "start_time": "2024-06-18T11:23:18.534Z"
   },
   {
    "duration": 413,
    "start_time": "2024-06-18T11:23:27.337Z"
   },
   {
    "duration": 478,
    "start_time": "2024-06-18T11:23:33.729Z"
   },
   {
    "duration": 3158,
    "start_time": "2024-06-18T11:28:11.448Z"
   },
   {
    "duration": 3322,
    "start_time": "2024-06-18T11:28:14.608Z"
   },
   {
    "duration": 2828,
    "start_time": "2024-06-18T11:28:17.933Z"
   },
   {
    "duration": 2779,
    "start_time": "2024-06-18T11:28:20.763Z"
   },
   {
    "duration": 3173,
    "start_time": "2024-06-18T11:28:23.544Z"
   },
   {
    "duration": 1696,
    "start_time": "2024-06-18T11:28:26.719Z"
   },
   {
    "duration": 2,
    "start_time": "2024-06-18T11:28:28.417Z"
   },
   {
    "duration": 110,
    "start_time": "2024-06-18T11:28:28.420Z"
   },
   {
    "duration": 12,
    "start_time": "2024-06-18T11:28:28.531Z"
   },
   {
    "duration": 6,
    "start_time": "2024-06-18T11:28:28.544Z"
   },
   {
    "duration": 12,
    "start_time": "2024-06-18T11:28:28.551Z"
   },
   {
    "duration": 6,
    "start_time": "2024-06-18T11:28:28.565Z"
   },
   {
    "duration": 6,
    "start_time": "2024-06-18T11:28:28.572Z"
   },
   {
    "duration": 11,
    "start_time": "2024-06-18T11:28:28.580Z"
   },
   {
    "duration": 299,
    "start_time": "2024-06-18T11:28:28.592Z"
   },
   {
    "duration": 367,
    "start_time": "2024-06-18T11:28:28.892Z"
   },
   {
    "duration": 464,
    "start_time": "2024-06-18T11:28:29.260Z"
   },
   {
    "duration": 3124,
    "start_time": "2024-06-18T11:28:54.110Z"
   },
   {
    "duration": 3237,
    "start_time": "2024-06-18T11:28:57.237Z"
   },
   {
    "duration": 2797,
    "start_time": "2024-06-18T11:29:00.476Z"
   },
   {
    "duration": 2782,
    "start_time": "2024-06-18T11:29:03.275Z"
   },
   {
    "duration": 3202,
    "start_time": "2024-06-18T11:29:06.060Z"
   },
   {
    "duration": 1714,
    "start_time": "2024-06-18T11:29:09.264Z"
   },
   {
    "duration": 3,
    "start_time": "2024-06-18T11:29:10.979Z"
   },
   {
    "duration": 117,
    "start_time": "2024-06-18T11:29:10.983Z"
   },
   {
    "duration": 12,
    "start_time": "2024-06-18T11:29:11.101Z"
   },
   {
    "duration": 6,
    "start_time": "2024-06-18T11:29:11.114Z"
   },
   {
    "duration": 18,
    "start_time": "2024-06-18T11:29:11.121Z"
   },
   {
    "duration": 11,
    "start_time": "2024-06-18T11:29:11.141Z"
   },
   {
    "duration": 6,
    "start_time": "2024-06-18T11:29:11.154Z"
   },
   {
    "duration": 10,
    "start_time": "2024-06-18T11:29:11.170Z"
   },
   {
    "duration": 450,
    "start_time": "2024-06-18T11:29:11.181Z"
   },
   {
    "duration": 367,
    "start_time": "2024-06-18T11:29:11.632Z"
   },
   {
    "duration": 499,
    "start_time": "2024-06-18T11:29:12.000Z"
   },
   {
    "duration": 551,
    "start_time": "2024-06-18T11:32:13.265Z"
   },
   {
    "duration": 3199,
    "start_time": "2024-06-18T11:32:20.233Z"
   },
   {
    "duration": 268,
    "start_time": "2024-06-18T11:32:23.435Z"
   },
   {
    "duration": 0,
    "start_time": "2024-06-18T11:32:23.705Z"
   },
   {
    "duration": 0,
    "start_time": "2024-06-18T11:32:23.706Z"
   },
   {
    "duration": 0,
    "start_time": "2024-06-18T11:32:23.707Z"
   },
   {
    "duration": 0,
    "start_time": "2024-06-18T11:32:23.709Z"
   },
   {
    "duration": 1,
    "start_time": "2024-06-18T11:32:23.710Z"
   },
   {
    "duration": 0,
    "start_time": "2024-06-18T11:32:23.712Z"
   },
   {
    "duration": 0,
    "start_time": "2024-06-18T11:32:23.713Z"
   },
   {
    "duration": 0,
    "start_time": "2024-06-18T11:32:23.714Z"
   },
   {
    "duration": 0,
    "start_time": "2024-06-18T11:32:23.771Z"
   },
   {
    "duration": 0,
    "start_time": "2024-06-18T11:32:23.772Z"
   },
   {
    "duration": 0,
    "start_time": "2024-06-18T11:32:23.773Z"
   },
   {
    "duration": 0,
    "start_time": "2024-06-18T11:32:23.773Z"
   },
   {
    "duration": 0,
    "start_time": "2024-06-18T11:32:23.774Z"
   },
   {
    "duration": 0,
    "start_time": "2024-06-18T11:32:23.776Z"
   },
   {
    "duration": 0,
    "start_time": "2024-06-18T11:32:23.777Z"
   },
   {
    "duration": 2966,
    "start_time": "2024-06-18T11:32:39.694Z"
   },
   {
    "duration": 3332,
    "start_time": "2024-06-18T11:32:42.662Z"
   },
   {
    "duration": 2838,
    "start_time": "2024-06-18T11:32:45.996Z"
   },
   {
    "duration": 2719,
    "start_time": "2024-06-18T11:32:48.836Z"
   },
   {
    "duration": 3145,
    "start_time": "2024-06-18T11:32:51.557Z"
   },
   {
    "duration": 1722,
    "start_time": "2024-06-18T11:32:54.704Z"
   },
   {
    "duration": 2,
    "start_time": "2024-06-18T11:32:56.428Z"
   },
   {
    "duration": 153,
    "start_time": "2024-06-18T11:32:56.431Z"
   },
   {
    "duration": 12,
    "start_time": "2024-06-18T11:32:56.585Z"
   },
   {
    "duration": 23,
    "start_time": "2024-06-18T11:32:56.599Z"
   },
   {
    "duration": 29,
    "start_time": "2024-06-18T11:32:56.623Z"
   },
   {
    "duration": 6,
    "start_time": "2024-06-18T11:32:56.653Z"
   },
   {
    "duration": 9,
    "start_time": "2024-06-18T11:32:56.661Z"
   },
   {
    "duration": 10,
    "start_time": "2024-06-18T11:32:56.671Z"
   },
   {
    "duration": 446,
    "start_time": "2024-06-18T11:32:56.682Z"
   },
   {
    "duration": 366,
    "start_time": "2024-06-18T11:32:57.130Z"
   },
   {
    "duration": 505,
    "start_time": "2024-06-18T11:32:57.498Z"
   },
   {
    "duration": 3608,
    "start_time": "2024-06-18T11:37:00.611Z"
   },
   {
    "duration": 3400,
    "start_time": "2024-06-18T11:37:04.221Z"
   },
   {
    "duration": 2770,
    "start_time": "2024-06-18T11:37:07.623Z"
   },
   {
    "duration": 2733,
    "start_time": "2024-06-18T11:37:10.396Z"
   },
   {
    "duration": 3157,
    "start_time": "2024-06-18T11:37:13.132Z"
   },
   {
    "duration": 1673,
    "start_time": "2024-06-18T11:37:16.291Z"
   },
   {
    "duration": 6,
    "start_time": "2024-06-18T11:37:17.966Z"
   },
   {
    "duration": 145,
    "start_time": "2024-06-18T11:37:17.973Z"
   },
   {
    "duration": 11,
    "start_time": "2024-06-18T11:37:18.120Z"
   },
   {
    "duration": 4,
    "start_time": "2024-06-18T11:37:18.132Z"
   },
   {
    "duration": 21,
    "start_time": "2024-06-18T11:37:18.137Z"
   },
   {
    "duration": 6,
    "start_time": "2024-06-18T11:37:18.159Z"
   },
   {
    "duration": 5,
    "start_time": "2024-06-18T11:37:18.166Z"
   },
   {
    "duration": 12,
    "start_time": "2024-06-18T11:37:18.172Z"
   },
   {
    "duration": 118,
    "start_time": "2024-06-18T11:37:18.185Z"
   },
   {
    "duration": 0,
    "start_time": "2024-06-18T11:37:18.305Z"
   },
   {
    "duration": 0,
    "start_time": "2024-06-18T11:37:18.306Z"
   },
   {
    "duration": 434,
    "start_time": "2024-06-18T11:37:40.484Z"
   },
   {
    "duration": 374,
    "start_time": "2024-06-18T11:37:58.318Z"
   },
   {
    "duration": 337,
    "start_time": "2024-06-18T11:38:06.492Z"
   },
   {
    "duration": 342,
    "start_time": "2024-06-18T11:38:11.865Z"
   },
   {
    "duration": 482,
    "start_time": "2024-06-18T11:38:19.153Z"
   },
   {
    "duration": 6,
    "start_time": "2024-06-18T11:58:22.370Z"
   },
   {
    "duration": 4,
    "start_time": "2024-06-18T12:07:50.244Z"
   },
   {
    "duration": 10,
    "start_time": "2024-06-18T12:08:57.465Z"
   },
   {
    "duration": 11,
    "start_time": "2024-06-18T12:09:11.652Z"
   },
   {
    "duration": 8,
    "start_time": "2024-06-18T12:13:16.153Z"
   },
   {
    "duration": 9,
    "start_time": "2024-06-18T12:14:29.930Z"
   },
   {
    "duration": 4,
    "start_time": "2024-06-18T12:15:14.329Z"
   },
   {
    "duration": 7,
    "start_time": "2024-06-18T12:15:32.255Z"
   },
   {
    "duration": 10,
    "start_time": "2024-06-18T12:15:50.551Z"
   },
   {
    "duration": 4,
    "start_time": "2024-06-18T12:16:00.774Z"
   },
   {
    "duration": 3,
    "start_time": "2024-06-18T12:17:29.684Z"
   },
   {
    "duration": 16,
    "start_time": "2024-06-18T12:17:31.803Z"
   },
   {
    "duration": 3,
    "start_time": "2024-06-18T12:18:09.743Z"
   },
   {
    "duration": 848,
    "start_time": "2024-06-18T12:18:11.748Z"
   },
   {
    "duration": 3,
    "start_time": "2024-06-18T12:18:50.969Z"
   },
   {
    "duration": 19,
    "start_time": "2024-06-18T12:18:53.132Z"
   },
   {
    "duration": 11,
    "start_time": "2024-06-18T12:19:05.560Z"
   },
   {
    "duration": 11,
    "start_time": "2024-06-18T12:19:28.589Z"
   },
   {
    "duration": 3,
    "start_time": "2024-06-18T12:20:43.263Z"
   },
   {
    "duration": 12,
    "start_time": "2024-06-18T12:20:48.464Z"
   },
   {
    "duration": 3,
    "start_time": "2024-06-18T12:21:43.845Z"
   },
   {
    "duration": 11,
    "start_time": "2024-06-18T12:21:46.582Z"
   },
   {
    "duration": 11,
    "start_time": "2024-06-18T12:22:40.400Z"
   },
   {
    "duration": 5,
    "start_time": "2024-06-18T12:25:03.572Z"
   },
   {
    "duration": 11,
    "start_time": "2024-06-18T12:25:23.519Z"
   },
   {
    "duration": 11,
    "start_time": "2024-06-18T12:25:32.552Z"
   },
   {
    "duration": 9,
    "start_time": "2024-06-18T12:25:44.262Z"
   },
   {
    "duration": 3207,
    "start_time": "2024-06-18T12:27:11.541Z"
   },
   {
    "duration": 3388,
    "start_time": "2024-06-18T12:27:14.750Z"
   },
   {
    "duration": 2917,
    "start_time": "2024-06-18T12:27:18.140Z"
   },
   {
    "duration": 2878,
    "start_time": "2024-06-18T12:27:21.060Z"
   },
   {
    "duration": 3265,
    "start_time": "2024-06-18T12:27:23.939Z"
   },
   {
    "duration": 1691,
    "start_time": "2024-06-18T12:27:27.206Z"
   },
   {
    "duration": 2,
    "start_time": "2024-06-18T12:27:28.899Z"
   },
   {
    "duration": 124,
    "start_time": "2024-06-18T12:27:28.902Z"
   },
   {
    "duration": 13,
    "start_time": "2024-06-18T12:27:29.027Z"
   },
   {
    "duration": 6,
    "start_time": "2024-06-18T12:27:29.043Z"
   },
   {
    "duration": 11,
    "start_time": "2024-06-18T12:27:29.051Z"
   },
   {
    "duration": 7,
    "start_time": "2024-06-18T12:27:29.064Z"
   },
   {
    "duration": 9,
    "start_time": "2024-06-18T12:27:29.072Z"
   },
   {
    "duration": 12,
    "start_time": "2024-06-18T12:27:29.082Z"
   },
   {
    "duration": 471,
    "start_time": "2024-06-18T12:27:29.095Z"
   },
   {
    "duration": 368,
    "start_time": "2024-06-18T12:27:29.570Z"
   },
   {
    "duration": 477,
    "start_time": "2024-06-18T12:27:29.939Z"
   },
   {
    "duration": 5,
    "start_time": "2024-06-18T12:27:30.417Z"
   },
   {
    "duration": 54,
    "start_time": "2024-06-18T12:27:30.424Z"
   },
   {
    "duration": 27,
    "start_time": "2024-06-18T12:27:30.480Z"
   },
   {
    "duration": 50,
    "start_time": "2024-06-18T12:27:30.509Z"
   },
   {
    "duration": 62,
    "start_time": "2024-06-18T12:27:30.561Z"
   },
   {
    "duration": 3179,
    "start_time": "2024-06-18T12:28:03.270Z"
   },
   {
    "duration": 4029,
    "start_time": "2024-06-18T12:28:06.451Z"
   },
   {
    "duration": 2798,
    "start_time": "2024-06-18T12:28:10.482Z"
   },
   {
    "duration": 2826,
    "start_time": "2024-06-18T12:28:13.283Z"
   },
   {
    "duration": 3204,
    "start_time": "2024-06-18T12:28:16.111Z"
   },
   {
    "duration": 1689,
    "start_time": "2024-06-18T12:28:19.316Z"
   },
   {
    "duration": 2,
    "start_time": "2024-06-18T12:28:21.006Z"
   },
   {
    "duration": 124,
    "start_time": "2024-06-18T12:28:21.009Z"
   },
   {
    "duration": 12,
    "start_time": "2024-06-18T12:28:21.134Z"
   },
   {
    "duration": 10,
    "start_time": "2024-06-18T12:28:21.148Z"
   },
   {
    "duration": 12,
    "start_time": "2024-06-18T12:28:21.160Z"
   },
   {
    "duration": 52,
    "start_time": "2024-06-18T12:28:21.173Z"
   },
   {
    "duration": 25,
    "start_time": "2024-06-18T12:28:21.226Z"
   },
   {
    "duration": 22,
    "start_time": "2024-06-18T12:28:21.252Z"
   },
   {
    "duration": 463,
    "start_time": "2024-06-18T12:28:21.276Z"
   },
   {
    "duration": 376,
    "start_time": "2024-06-18T12:28:21.740Z"
   },
   {
    "duration": 505,
    "start_time": "2024-06-18T12:28:22.118Z"
   },
   {
    "duration": 5,
    "start_time": "2024-06-18T12:28:22.625Z"
   },
   {
    "duration": 32,
    "start_time": "2024-06-18T12:28:22.632Z"
   },
   {
    "duration": 18,
    "start_time": "2024-06-18T12:28:22.666Z"
   },
   {
    "duration": 5,
    "start_time": "2024-06-18T12:28:22.686Z"
   },
   {
    "duration": 3260,
    "start_time": "2024-06-18T12:33:21.494Z"
   },
   {
    "duration": 3256,
    "start_time": "2024-06-18T12:33:24.756Z"
   },
   {
    "duration": 2755,
    "start_time": "2024-06-18T12:33:28.014Z"
   },
   {
    "duration": 2774,
    "start_time": "2024-06-18T12:33:30.771Z"
   },
   {
    "duration": 3105,
    "start_time": "2024-06-18T12:33:33.547Z"
   },
   {
    "duration": 1819,
    "start_time": "2024-06-18T12:33:36.654Z"
   },
   {
    "duration": 2,
    "start_time": "2024-06-18T12:33:38.475Z"
   },
   {
    "duration": 105,
    "start_time": "2024-06-18T12:33:38.478Z"
   },
   {
    "duration": 11,
    "start_time": "2024-06-18T12:33:38.584Z"
   },
   {
    "duration": 12,
    "start_time": "2024-06-18T12:33:38.597Z"
   },
   {
    "duration": 15,
    "start_time": "2024-06-18T12:33:38.610Z"
   },
   {
    "duration": 8,
    "start_time": "2024-06-18T12:33:38.626Z"
   },
   {
    "duration": 5,
    "start_time": "2024-06-18T12:33:38.635Z"
   },
   {
    "duration": 21,
    "start_time": "2024-06-18T12:33:38.641Z"
   },
   {
    "duration": 441,
    "start_time": "2024-06-18T12:33:38.664Z"
   },
   {
    "duration": 397,
    "start_time": "2024-06-18T12:33:39.106Z"
   },
   {
    "duration": 482,
    "start_time": "2024-06-18T12:33:39.505Z"
   },
   {
    "duration": 3,
    "start_time": "2024-06-18T12:33:39.989Z"
   },
   {
    "duration": 28,
    "start_time": "2024-06-18T12:33:39.994Z"
   },
   {
    "duration": 20,
    "start_time": "2024-06-18T12:33:40.023Z"
   },
   {
    "duration": 5,
    "start_time": "2024-06-18T12:33:40.044Z"
   },
   {
    "duration": 32,
    "start_time": "2024-06-18T12:33:40.050Z"
   },
   {
    "duration": 3654,
    "start_time": "2024-06-18T12:57:46.028Z"
   },
   {
    "duration": 171,
    "start_time": "2024-06-18T12:57:52.898Z"
   },
   {
    "duration": 315,
    "start_time": "2024-06-18T12:58:22.535Z"
   },
   {
    "duration": 3253,
    "start_time": "2024-06-18T12:59:02.443Z"
   },
   {
    "duration": 3742,
    "start_time": "2024-06-18T12:59:05.698Z"
   },
   {
    "duration": 2884,
    "start_time": "2024-06-18T12:59:09.442Z"
   },
   {
    "duration": 2827,
    "start_time": "2024-06-18T12:59:12.329Z"
   },
   {
    "duration": 3179,
    "start_time": "2024-06-18T12:59:15.158Z"
   },
   {
    "duration": 3153,
    "start_time": "2024-06-18T12:59:18.339Z"
   },
   {
    "duration": 57,
    "start_time": "2024-06-18T12:59:21.494Z"
   },
   {
    "duration": 0,
    "start_time": "2024-06-18T12:59:21.552Z"
   },
   {
    "duration": 0,
    "start_time": "2024-06-18T12:59:21.554Z"
   },
   {
    "duration": 0,
    "start_time": "2024-06-18T12:59:21.555Z"
   },
   {
    "duration": 0,
    "start_time": "2024-06-18T12:59:21.556Z"
   },
   {
    "duration": 0,
    "start_time": "2024-06-18T12:59:21.557Z"
   },
   {
    "duration": 0,
    "start_time": "2024-06-18T12:59:21.558Z"
   },
   {
    "duration": 0,
    "start_time": "2024-06-18T12:59:21.558Z"
   },
   {
    "duration": 0,
    "start_time": "2024-06-18T12:59:21.559Z"
   },
   {
    "duration": 0,
    "start_time": "2024-06-18T12:59:21.560Z"
   },
   {
    "duration": 0,
    "start_time": "2024-06-18T12:59:21.561Z"
   },
   {
    "duration": 0,
    "start_time": "2024-06-18T12:59:21.562Z"
   },
   {
    "duration": 0,
    "start_time": "2024-06-18T12:59:21.563Z"
   },
   {
    "duration": 0,
    "start_time": "2024-06-18T12:59:21.564Z"
   },
   {
    "duration": 0,
    "start_time": "2024-06-18T12:59:21.565Z"
   },
   {
    "duration": 0,
    "start_time": "2024-06-18T12:59:21.566Z"
   },
   {
    "duration": 0,
    "start_time": "2024-06-18T12:59:21.567Z"
   },
   {
    "duration": 0,
    "start_time": "2024-06-18T12:59:21.568Z"
   },
   {
    "duration": 1745,
    "start_time": "2024-06-18T12:59:42.546Z"
   },
   {
    "duration": 3149,
    "start_time": "2024-06-18T12:59:57.296Z"
   },
   {
    "duration": 4048,
    "start_time": "2024-06-18T13:00:00.447Z"
   },
   {
    "duration": 2811,
    "start_time": "2024-06-18T13:00:04.497Z"
   },
   {
    "duration": 2914,
    "start_time": "2024-06-18T13:00:07.311Z"
   },
   {
    "duration": 3162,
    "start_time": "2024-06-18T13:00:10.227Z"
   },
   {
    "duration": 3054,
    "start_time": "2024-06-18T13:00:13.391Z"
   },
   {
    "duration": 2486,
    "start_time": "2024-06-18T13:00:16.446Z"
   },
   {
    "duration": 2,
    "start_time": "2024-06-18T13:00:18.934Z"
   },
   {
    "duration": 116,
    "start_time": "2024-06-18T13:00:18.938Z"
   },
   {
    "duration": 11,
    "start_time": "2024-06-18T13:00:19.056Z"
   },
   {
    "duration": 12,
    "start_time": "2024-06-18T13:00:19.068Z"
   },
   {
    "duration": 10,
    "start_time": "2024-06-18T13:00:19.081Z"
   },
   {
    "duration": 8,
    "start_time": "2024-06-18T13:00:19.093Z"
   },
   {
    "duration": 9,
    "start_time": "2024-06-18T13:00:19.102Z"
   },
   {
    "duration": 30,
    "start_time": "2024-06-18T13:00:19.113Z"
   },
   {
    "duration": 386,
    "start_time": "2024-06-18T13:00:19.144Z"
   },
   {
    "duration": 375,
    "start_time": "2024-06-18T13:00:19.531Z"
   },
   {
    "duration": 507,
    "start_time": "2024-06-18T13:00:19.908Z"
   },
   {
    "duration": 3,
    "start_time": "2024-06-18T13:00:20.417Z"
   },
   {
    "duration": 94,
    "start_time": "2024-06-18T13:00:20.422Z"
   },
   {
    "duration": 20,
    "start_time": "2024-06-18T13:00:20.518Z"
   },
   {
    "duration": 16,
    "start_time": "2024-06-18T13:00:20.539Z"
   },
   {
    "duration": 19,
    "start_time": "2024-06-18T13:00:20.556Z"
   },
   {
    "duration": 140,
    "start_time": "2024-06-18T13:00:20.576Z"
   },
   {
    "duration": 10,
    "start_time": "2024-06-18T13:10:35.820Z"
   },
   {
    "duration": 3,
    "start_time": "2024-06-18T13:12:19.193Z"
   },
   {
    "duration": 9,
    "start_time": "2024-06-18T13:12:26.778Z"
   },
   {
    "duration": 4,
    "start_time": "2024-06-18T13:12:43.534Z"
   },
   {
    "duration": 12,
    "start_time": "2024-06-18T13:12:48.090Z"
   },
   {
    "duration": 11,
    "start_time": "2024-06-18T13:13:19.659Z"
   },
   {
    "duration": 4,
    "start_time": "2024-06-18T13:14:26.939Z"
   },
   {
    "duration": 12,
    "start_time": "2024-06-18T13:14:31.621Z"
   },
   {
    "duration": 5,
    "start_time": "2024-06-18T13:16:17.444Z"
   },
   {
    "duration": 6849,
    "start_time": "2024-06-18T13:16:22.076Z"
   },
   {
    "duration": 5454,
    "start_time": "2024-06-18T13:18:30.200Z"
   },
   {
    "duration": 11,
    "start_time": "2024-06-18T13:19:35.954Z"
   },
   {
    "duration": 5438,
    "start_time": "2024-06-18T13:19:47.482Z"
   },
   {
    "duration": 5015,
    "start_time": "2024-06-18T13:20:35.077Z"
   },
   {
    "duration": 3,
    "start_time": "2024-06-18T13:23:17.002Z"
   },
   {
    "duration": 5031,
    "start_time": "2024-06-18T13:23:23.478Z"
   },
   {
    "duration": 4,
    "start_time": "2024-06-18T13:23:44.041Z"
   },
   {
    "duration": 3,
    "start_time": "2024-06-18T13:24:22.779Z"
   },
   {
    "duration": 47,
    "start_time": "2024-06-18T13:24:47.615Z"
   },
   {
    "duration": 6,
    "start_time": "2024-06-18T13:25:06.380Z"
   },
   {
    "duration": 3,
    "start_time": "2024-06-18T13:25:41.237Z"
   },
   {
    "duration": 6902,
    "start_time": "2024-06-18T13:26:19.433Z"
   },
   {
    "duration": 47,
    "start_time": "2024-06-18T13:26:49.099Z"
   },
   {
    "duration": 7,
    "start_time": "2024-06-18T13:26:51.558Z"
   },
   {
    "duration": 4,
    "start_time": "2024-06-18T13:26:54.072Z"
   },
   {
    "duration": 3155,
    "start_time": "2024-06-18T13:27:51.990Z"
   },
   {
    "duration": 3357,
    "start_time": "2024-06-18T13:27:55.147Z"
   },
   {
    "duration": 2848,
    "start_time": "2024-06-18T13:27:58.506Z"
   },
   {
    "duration": 2972,
    "start_time": "2024-06-18T13:28:01.356Z"
   },
   {
    "duration": 3283,
    "start_time": "2024-06-18T13:28:04.331Z"
   },
   {
    "duration": 2892,
    "start_time": "2024-06-18T13:28:07.616Z"
   },
   {
    "duration": 1724,
    "start_time": "2024-06-18T13:28:10.510Z"
   },
   {
    "duration": 2,
    "start_time": "2024-06-18T13:28:12.236Z"
   },
   {
    "duration": 104,
    "start_time": "2024-06-18T13:28:12.239Z"
   },
   {
    "duration": 11,
    "start_time": "2024-06-18T13:28:12.344Z"
   },
   {
    "duration": 6,
    "start_time": "2024-06-18T13:28:12.357Z"
   },
   {
    "duration": 30,
    "start_time": "2024-06-18T13:28:12.364Z"
   },
   {
    "duration": 13,
    "start_time": "2024-06-18T13:28:12.395Z"
   },
   {
    "duration": 4,
    "start_time": "2024-06-18T13:28:12.411Z"
   },
   {
    "duration": 19,
    "start_time": "2024-06-18T13:28:12.417Z"
   },
   {
    "duration": 395,
    "start_time": "2024-06-18T13:28:12.437Z"
   },
   {
    "duration": 383,
    "start_time": "2024-06-18T13:28:12.833Z"
   },
   {
    "duration": 495,
    "start_time": "2024-06-18T13:28:13.217Z"
   },
   {
    "duration": 6,
    "start_time": "2024-06-18T13:28:13.713Z"
   },
   {
    "duration": 22,
    "start_time": "2024-06-18T13:28:13.721Z"
   },
   {
    "duration": 14,
    "start_time": "2024-06-18T13:28:13.744Z"
   },
   {
    "duration": 5,
    "start_time": "2024-06-18T13:28:13.759Z"
   },
   {
    "duration": 25,
    "start_time": "2024-06-18T13:28:13.766Z"
   },
   {
    "duration": 7816,
    "start_time": "2024-06-18T13:28:13.792Z"
   },
   {
    "duration": 51,
    "start_time": "2024-06-18T13:28:21.610Z"
   },
   {
    "duration": 6,
    "start_time": "2024-06-18T13:28:21.671Z"
   },
   {
    "duration": 14,
    "start_time": "2024-06-18T13:28:21.678Z"
   },
   {
    "duration": 51,
    "start_time": "2024-06-18T13:28:38.901Z"
   },
   {
    "duration": 6,
    "start_time": "2024-06-18T13:28:41.406Z"
   },
   {
    "duration": 5,
    "start_time": "2024-06-18T13:28:44.562Z"
   },
   {
    "duration": 3193,
    "start_time": "2024-06-18T13:32:11.935Z"
   },
   {
    "duration": 3519,
    "start_time": "2024-06-18T13:32:15.131Z"
   },
   {
    "duration": 2947,
    "start_time": "2024-06-18T13:32:18.652Z"
   },
   {
    "duration": 2955,
    "start_time": "2024-06-18T13:32:21.601Z"
   },
   {
    "duration": 3301,
    "start_time": "2024-06-18T13:32:24.559Z"
   },
   {
    "duration": 2949,
    "start_time": "2024-06-18T13:32:27.862Z"
   },
   {
    "duration": 1815,
    "start_time": "2024-06-18T13:32:30.813Z"
   },
   {
    "duration": 3,
    "start_time": "2024-06-18T13:32:32.629Z"
   },
   {
    "duration": 138,
    "start_time": "2024-06-18T13:32:32.633Z"
   },
   {
    "duration": 11,
    "start_time": "2024-06-18T13:32:32.773Z"
   },
   {
    "duration": 13,
    "start_time": "2024-06-18T13:32:32.785Z"
   },
   {
    "duration": 28,
    "start_time": "2024-06-18T13:32:32.800Z"
   },
   {
    "duration": 33,
    "start_time": "2024-06-18T13:32:32.830Z"
   },
   {
    "duration": 19,
    "start_time": "2024-06-18T13:32:32.865Z"
   },
   {
    "duration": 38,
    "start_time": "2024-06-18T13:32:32.885Z"
   },
   {
    "duration": 424,
    "start_time": "2024-06-18T13:32:32.924Z"
   },
   {
    "duration": 371,
    "start_time": "2024-06-18T13:32:33.349Z"
   },
   {
    "duration": 494,
    "start_time": "2024-06-18T13:32:33.721Z"
   },
   {
    "duration": 3,
    "start_time": "2024-06-18T13:32:34.217Z"
   },
   {
    "duration": 20,
    "start_time": "2024-06-18T13:32:34.222Z"
   },
   {
    "duration": 15,
    "start_time": "2024-06-18T13:32:34.243Z"
   },
   {
    "duration": 16,
    "start_time": "2024-06-18T13:32:34.260Z"
   },
   {
    "duration": 6,
    "start_time": "2024-06-18T13:32:34.278Z"
   },
   {
    "duration": 7028,
    "start_time": "2024-06-18T13:32:34.285Z"
   },
   {
    "duration": 9,
    "start_time": "2024-06-18T13:32:41.314Z"
   },
   {
    "duration": 6965,
    "start_time": "2024-06-18T13:34:18.425Z"
   },
   {
    "duration": 130,
    "start_time": "2024-06-18T13:36:04.186Z"
   },
   {
    "duration": 13,
    "start_time": "2024-06-18T13:36:10.037Z"
   },
   {
    "duration": 3,
    "start_time": "2024-06-18T13:36:33.984Z"
   },
   {
    "duration": 8,
    "start_time": "2024-06-18T13:37:30.899Z"
   },
   {
    "duration": 5,
    "start_time": "2024-06-18T13:46:01.481Z"
   },
   {
    "duration": 6950,
    "start_time": "2024-06-18T13:47:56.570Z"
   },
   {
    "duration": 5,
    "start_time": "2024-06-18T13:51:51.132Z"
   },
   {
    "duration": 7048,
    "start_time": "2024-06-18T13:51:55.066Z"
   },
   {
    "duration": 4,
    "start_time": "2024-06-18T13:53:57.462Z"
   },
   {
    "duration": 7008,
    "start_time": "2024-06-18T13:54:01.135Z"
   },
   {
    "duration": 4,
    "start_time": "2024-06-18T13:55:54.725Z"
   },
   {
    "duration": 7010,
    "start_time": "2024-06-18T13:56:02.102Z"
   },
   {
    "duration": 3,
    "start_time": "2024-06-18T13:57:04.913Z"
   },
   {
    "duration": 7045,
    "start_time": "2024-06-18T13:57:42.550Z"
   },
   {
    "duration": 3,
    "start_time": "2024-06-18T13:58:32.492Z"
   },
   {
    "duration": 5,
    "start_time": "2024-06-18T14:00:14.280Z"
   },
   {
    "duration": 6985,
    "start_time": "2024-06-18T14:00:17.243Z"
   },
   {
    "duration": 8,
    "start_time": "2024-06-18T14:02:57.973Z"
   },
   {
    "duration": 64,
    "start_time": "2024-06-18T14:03:04.512Z"
   },
   {
    "duration": 65,
    "start_time": "2024-06-18T14:04:40.314Z"
   },
   {
    "duration": 2,
    "start_time": "2024-06-18T14:05:12.043Z"
   },
   {
    "duration": 63,
    "start_time": "2024-06-18T14:05:28.350Z"
   },
   {
    "duration": 56,
    "start_time": "2024-06-18T14:07:23.196Z"
   },
   {
    "duration": 7193,
    "start_time": "2024-06-18T14:08:54.483Z"
   },
   {
    "duration": 4,
    "start_time": "2024-06-18T14:11:19.479Z"
   },
   {
    "duration": 7055,
    "start_time": "2024-06-18T14:11:22.521Z"
   },
   {
    "duration": 6995,
    "start_time": "2024-06-18T14:11:49.690Z"
   },
   {
    "duration": 4,
    "start_time": "2024-06-18T14:14:53.618Z"
   },
   {
    "duration": 5733,
    "start_time": "2024-06-18T14:17:27.748Z"
   },
   {
    "duration": 4,
    "start_time": "2024-06-18T14:18:00.819Z"
   },
   {
    "duration": 5,
    "start_time": "2024-06-18T14:18:42.849Z"
   },
   {
    "duration": 8,
    "start_time": "2024-06-18T14:19:10.797Z"
   },
   {
    "duration": 8,
    "start_time": "2024-06-18T14:19:13.601Z"
   },
   {
    "duration": 8,
    "start_time": "2024-06-18T14:19:22.681Z"
   },
   {
    "duration": 4,
    "start_time": "2024-06-18T14:19:25.611Z"
   },
   {
    "duration": 942,
    "start_time": "2024-06-18T14:21:23.565Z"
   },
   {
    "duration": 5,
    "start_time": "2024-06-18T14:22:12.258Z"
   },
   {
    "duration": 4,
    "start_time": "2024-06-18T14:28:00.245Z"
   },
   {
    "duration": 5,
    "start_time": "2024-06-18T14:30:43.899Z"
   },
   {
    "duration": 9,
    "start_time": "2024-06-18T14:30:53.919Z"
   },
   {
    "duration": 5,
    "start_time": "2024-06-18T14:31:27.978Z"
   },
   {
    "duration": 50054,
    "start_time": "2024-06-18T14:33:21.592Z"
   },
   {
    "duration": 4,
    "start_time": "2024-06-18T14:34:16.495Z"
   },
   {
    "duration": 77898,
    "start_time": "2024-06-18T14:34:22.731Z"
   },
   {
    "duration": 50712,
    "start_time": "2024-06-18T14:35:46.067Z"
   },
   {
    "duration": 5,
    "start_time": "2024-06-18T14:39:03.086Z"
   },
   {
    "duration": 1474,
    "start_time": "2024-06-18T14:40:40.600Z"
   },
   {
    "duration": 1375,
    "start_time": "2024-06-18T15:10:56.609Z"
   },
   {
    "duration": 3177,
    "start_time": "2024-06-18T15:21:56.604Z"
   },
   {
    "duration": 3354,
    "start_time": "2024-06-18T15:21:59.783Z"
   },
   {
    "duration": 2898,
    "start_time": "2024-06-18T15:22:03.138Z"
   },
   {
    "duration": 2957,
    "start_time": "2024-06-18T15:22:06.038Z"
   },
   {
    "duration": 3209,
    "start_time": "2024-06-18T15:22:08.997Z"
   },
   {
    "duration": 3015,
    "start_time": "2024-06-18T15:22:12.208Z"
   },
   {
    "duration": 1741,
    "start_time": "2024-06-18T15:22:15.225Z"
   },
   {
    "duration": 3,
    "start_time": "2024-06-18T15:22:16.968Z"
   },
   {
    "duration": 121,
    "start_time": "2024-06-18T15:22:16.972Z"
   },
   {
    "duration": 13,
    "start_time": "2024-06-18T15:22:17.095Z"
   },
   {
    "duration": 4,
    "start_time": "2024-06-18T15:22:17.109Z"
   },
   {
    "duration": 10,
    "start_time": "2024-06-18T15:22:17.114Z"
   },
   {
    "duration": 7,
    "start_time": "2024-06-18T15:22:17.125Z"
   },
   {
    "duration": 5,
    "start_time": "2024-06-18T15:22:17.134Z"
   },
   {
    "duration": 32,
    "start_time": "2024-06-18T15:22:17.140Z"
   },
   {
    "duration": 471,
    "start_time": "2024-06-18T15:22:17.173Z"
   },
   {
    "duration": 360,
    "start_time": "2024-06-18T15:22:17.646Z"
   },
   {
    "duration": 500,
    "start_time": "2024-06-18T15:22:18.007Z"
   },
   {
    "duration": 3,
    "start_time": "2024-06-18T15:22:18.509Z"
   },
   {
    "duration": 51,
    "start_time": "2024-06-18T15:22:18.513Z"
   },
   {
    "duration": 12,
    "start_time": "2024-06-18T15:22:18.565Z"
   },
   {
    "duration": 5,
    "start_time": "2024-06-18T15:22:18.578Z"
   },
   {
    "duration": 6,
    "start_time": "2024-06-18T15:22:18.584Z"
   },
   {
    "duration": 6,
    "start_time": "2024-06-18T15:22:18.591Z"
   },
   {
    "duration": 7040,
    "start_time": "2024-06-18T15:22:18.598Z"
   },
   {
    "duration": 43,
    "start_time": "2024-06-18T15:22:25.639Z"
   },
   {
    "duration": 0,
    "start_time": "2024-06-18T15:22:25.683Z"
   },
   {
    "duration": 0,
    "start_time": "2024-06-18T15:22:25.684Z"
   },
   {
    "duration": 0,
    "start_time": "2024-06-18T15:22:25.685Z"
   },
   {
    "duration": 0,
    "start_time": "2024-06-18T15:22:25.686Z"
   },
   {
    "duration": 0,
    "start_time": "2024-06-18T15:22:25.687Z"
   },
   {
    "duration": 0,
    "start_time": "2024-06-18T15:22:25.688Z"
   },
   {
    "duration": 0,
    "start_time": "2024-06-18T15:22:25.689Z"
   },
   {
    "duration": 0,
    "start_time": "2024-06-18T15:22:25.689Z"
   },
   {
    "duration": 0,
    "start_time": "2024-06-18T15:22:25.690Z"
   },
   {
    "duration": 0,
    "start_time": "2024-06-18T15:22:25.691Z"
   },
   {
    "duration": 3124,
    "start_time": "2024-06-18T15:23:28.517Z"
   },
   {
    "duration": 3418,
    "start_time": "2024-06-18T15:23:31.643Z"
   },
   {
    "duration": 2820,
    "start_time": "2024-06-18T15:23:35.063Z"
   },
   {
    "duration": 2933,
    "start_time": "2024-06-18T15:23:37.885Z"
   },
   {
    "duration": 3277,
    "start_time": "2024-06-18T15:23:40.820Z"
   },
   {
    "duration": 2926,
    "start_time": "2024-06-18T15:23:44.099Z"
   },
   {
    "duration": 1784,
    "start_time": "2024-06-18T15:23:47.027Z"
   },
   {
    "duration": 2,
    "start_time": "2024-06-18T15:23:48.813Z"
   },
   {
    "duration": 331,
    "start_time": "2024-06-18T15:23:48.816Z"
   },
   {
    "duration": 11,
    "start_time": "2024-06-18T15:23:49.149Z"
   },
   {
    "duration": 3,
    "start_time": "2024-06-18T15:23:49.162Z"
   },
   {
    "duration": 11,
    "start_time": "2024-06-18T15:23:49.167Z"
   },
   {
    "duration": 8,
    "start_time": "2024-06-18T15:23:49.179Z"
   },
   {
    "duration": 6,
    "start_time": "2024-06-18T15:23:49.189Z"
   },
   {
    "duration": 17,
    "start_time": "2024-06-18T15:23:49.196Z"
   },
   {
    "duration": 422,
    "start_time": "2024-06-18T15:23:49.214Z"
   },
   {
    "duration": 380,
    "start_time": "2024-06-18T15:23:49.638Z"
   },
   {
    "duration": 477,
    "start_time": "2024-06-18T15:23:50.019Z"
   },
   {
    "duration": 4,
    "start_time": "2024-06-18T15:23:50.497Z"
   },
   {
    "duration": 47,
    "start_time": "2024-06-18T15:23:50.502Z"
   },
   {
    "duration": 15,
    "start_time": "2024-06-18T15:23:50.550Z"
   },
   {
    "duration": 6,
    "start_time": "2024-06-18T15:23:50.566Z"
   },
   {
    "duration": 13,
    "start_time": "2024-06-18T15:23:50.573Z"
   },
   {
    "duration": 9,
    "start_time": "2024-06-18T15:23:50.588Z"
   },
   {
    "duration": 7001,
    "start_time": "2024-06-18T15:23:50.598Z"
   },
   {
    "duration": 7,
    "start_time": "2024-06-18T15:23:57.600Z"
   },
   {
    "duration": 5961,
    "start_time": "2024-06-18T15:23:57.609Z"
   },
   {
    "duration": 6,
    "start_time": "2024-06-18T15:24:03.572Z"
   },
   {
    "duration": 1022,
    "start_time": "2024-06-18T15:24:03.580Z"
   },
   {
    "duration": 6,
    "start_time": "2024-06-18T15:24:04.604Z"
   },
   {
    "duration": 53369,
    "start_time": "2024-06-18T15:24:04.612Z"
   },
   {
    "duration": 95,
    "start_time": "2024-06-18T15:24:57.982Z"
   },
   {
    "duration": 1471,
    "start_time": "2024-06-18T15:24:58.079Z"
   },
   {
    "duration": 19,
    "start_time": "2024-06-18T15:24:59.551Z"
   },
   {
    "duration": 1448,
    "start_time": "2024-06-18T15:24:59.572Z"
   },
   {
    "duration": 5,
    "start_time": "2024-06-18T15:25:01.022Z"
   },
   {
    "duration": 3367,
    "start_time": "2024-06-18T15:25:51.876Z"
   },
   {
    "duration": 3404,
    "start_time": "2024-06-18T15:25:55.246Z"
   },
   {
    "duration": 3025,
    "start_time": "2024-06-18T15:25:58.652Z"
   },
   {
    "duration": 2947,
    "start_time": "2024-06-18T15:26:01.680Z"
   },
   {
    "duration": 3213,
    "start_time": "2024-06-18T15:26:04.630Z"
   },
   {
    "duration": 2885,
    "start_time": "2024-06-18T15:26:07.844Z"
   },
   {
    "duration": 1793,
    "start_time": "2024-06-18T15:26:10.731Z"
   },
   {
    "duration": 2,
    "start_time": "2024-06-18T15:26:12.526Z"
   },
   {
    "duration": 124,
    "start_time": "2024-06-18T15:26:12.529Z"
   },
   {
    "duration": 10,
    "start_time": "2024-06-18T15:26:12.655Z"
   },
   {
    "duration": 9,
    "start_time": "2024-06-18T15:26:12.666Z"
   },
   {
    "duration": 36,
    "start_time": "2024-06-18T15:26:12.676Z"
   },
   {
    "duration": 14,
    "start_time": "2024-06-18T15:26:12.713Z"
   },
   {
    "duration": 22,
    "start_time": "2024-06-18T15:26:12.729Z"
   },
   {
    "duration": 11,
    "start_time": "2024-06-18T15:26:12.752Z"
   },
   {
    "duration": 414,
    "start_time": "2024-06-18T15:26:12.764Z"
   },
   {
    "duration": 379,
    "start_time": "2024-06-18T15:26:13.180Z"
   },
   {
    "duration": 450,
    "start_time": "2024-06-18T15:26:13.561Z"
   },
   {
    "duration": 3,
    "start_time": "2024-06-18T15:26:14.013Z"
   },
   {
    "duration": 19,
    "start_time": "2024-06-18T15:26:14.018Z"
   },
   {
    "duration": 18,
    "start_time": "2024-06-18T15:26:14.038Z"
   },
   {
    "duration": 15,
    "start_time": "2024-06-18T15:26:14.057Z"
   },
   {
    "duration": 9,
    "start_time": "2024-06-18T15:26:14.073Z"
   },
   {
    "duration": 5,
    "start_time": "2024-06-18T15:26:14.084Z"
   },
   {
    "duration": 9471,
    "start_time": "2024-06-18T15:26:14.090Z"
   },
   {
    "duration": 11,
    "start_time": "2024-06-18T15:26:23.563Z"
   },
   {
    "duration": 8001,
    "start_time": "2024-06-18T15:26:23.575Z"
   },
   {
    "duration": 95,
    "start_time": "2024-06-18T15:26:31.578Z"
   },
   {
    "duration": 1611,
    "start_time": "2024-06-18T15:26:31.675Z"
   },
   {
    "duration": 5,
    "start_time": "2024-06-18T15:26:33.287Z"
   },
   {
    "duration": 58760,
    "start_time": "2024-06-18T15:26:33.293Z"
   },
   {
    "duration": 79,
    "start_time": "2024-06-18T15:27:32.055Z"
   },
   {
    "duration": 3105,
    "start_time": "2024-06-18T15:27:32.135Z"
   },
   {
    "duration": 33,
    "start_time": "2024-06-18T15:27:35.241Z"
   },
   {
    "duration": 2209,
    "start_time": "2024-06-18T15:27:35.275Z"
   },
   {
    "duration": 5,
    "start_time": "2024-06-18T15:27:37.485Z"
   },
   {
    "duration": 3112,
    "start_time": "2024-06-18T15:29:25.779Z"
   },
   {
    "duration": 3406,
    "start_time": "2024-06-18T15:29:28.893Z"
   },
   {
    "duration": 2898,
    "start_time": "2024-06-18T15:29:32.301Z"
   },
   {
    "duration": 2919,
    "start_time": "2024-06-18T15:29:35.201Z"
   },
   {
    "duration": 3224,
    "start_time": "2024-06-18T15:29:38.121Z"
   },
   {
    "duration": 2921,
    "start_time": "2024-06-18T15:29:41.347Z"
   },
   {
    "duration": 1778,
    "start_time": "2024-06-18T15:29:44.269Z"
   },
   {
    "duration": 2,
    "start_time": "2024-06-18T15:29:46.049Z"
   },
   {
    "duration": 104,
    "start_time": "2024-06-18T15:29:46.053Z"
   },
   {
    "duration": 11,
    "start_time": "2024-06-18T15:29:46.160Z"
   },
   {
    "duration": 3,
    "start_time": "2024-06-18T15:29:46.173Z"
   },
   {
    "duration": 17,
    "start_time": "2024-06-18T15:29:46.177Z"
   },
   {
    "duration": 7,
    "start_time": "2024-06-18T15:29:46.195Z"
   },
   {
    "duration": 7,
    "start_time": "2024-06-18T15:29:46.203Z"
   },
   {
    "duration": 11,
    "start_time": "2024-06-18T15:29:46.212Z"
   },
   {
    "duration": 412,
    "start_time": "2024-06-18T15:29:46.224Z"
   },
   {
    "duration": 380,
    "start_time": "2024-06-18T15:29:46.637Z"
   },
   {
    "duration": 501,
    "start_time": "2024-06-18T15:29:47.018Z"
   },
   {
    "duration": 3,
    "start_time": "2024-06-18T15:29:47.521Z"
   },
   {
    "duration": 26,
    "start_time": "2024-06-18T15:29:47.525Z"
   },
   {
    "duration": 17,
    "start_time": "2024-06-18T15:29:47.552Z"
   },
   {
    "duration": 5,
    "start_time": "2024-06-18T15:29:47.570Z"
   },
   {
    "duration": 32,
    "start_time": "2024-06-18T15:29:47.576Z"
   },
   {
    "duration": 19,
    "start_time": "2024-06-18T15:29:47.609Z"
   },
   {
    "duration": 10347,
    "start_time": "2024-06-18T15:29:47.630Z"
   },
   {
    "duration": 8,
    "start_time": "2024-06-18T15:29:57.978Z"
   },
   {
    "duration": 9588,
    "start_time": "2024-06-18T15:29:57.988Z"
   },
   {
    "duration": 83,
    "start_time": "2024-06-18T15:30:07.590Z"
   },
   {
    "duration": 2515,
    "start_time": "2024-06-18T15:30:07.675Z"
   },
   {
    "duration": 4,
    "start_time": "2024-06-18T15:30:10.271Z"
   },
   {
    "duration": 74297,
    "start_time": "2024-06-18T15:30:10.277Z"
   },
   {
    "duration": 0,
    "start_time": "2024-06-18T15:31:24.576Z"
   },
   {
    "duration": 0,
    "start_time": "2024-06-18T15:31:24.577Z"
   },
   {
    "duration": 0,
    "start_time": "2024-06-18T15:31:24.577Z"
   },
   {
    "duration": 0,
    "start_time": "2024-06-18T15:31:24.579Z"
   },
   {
    "duration": 0,
    "start_time": "2024-06-18T15:31:24.580Z"
   },
   {
    "duration": 69768,
    "start_time": "2024-06-18T15:31:38.238Z"
   },
   {
    "duration": 3247,
    "start_time": "2024-06-18T15:33:04.554Z"
   },
   {
    "duration": 3533,
    "start_time": "2024-06-18T15:33:07.803Z"
   },
   {
    "duration": 2884,
    "start_time": "2024-06-18T15:33:11.338Z"
   },
   {
    "duration": 2855,
    "start_time": "2024-06-18T15:33:14.224Z"
   },
   {
    "duration": 3176,
    "start_time": "2024-06-18T15:33:17.082Z"
   },
   {
    "duration": 2775,
    "start_time": "2024-06-18T15:33:20.260Z"
   },
   {
    "duration": 1790,
    "start_time": "2024-06-18T15:33:23.037Z"
   },
   {
    "duration": 2,
    "start_time": "2024-06-18T15:33:24.829Z"
   },
   {
    "duration": 98,
    "start_time": "2024-06-18T15:33:24.832Z"
   },
   {
    "duration": 11,
    "start_time": "2024-06-18T15:33:24.932Z"
   },
   {
    "duration": 6,
    "start_time": "2024-06-18T15:33:24.944Z"
   },
   {
    "duration": 11,
    "start_time": "2024-06-18T15:33:24.951Z"
   },
   {
    "duration": 8,
    "start_time": "2024-06-18T15:33:24.963Z"
   },
   {
    "duration": 6,
    "start_time": "2024-06-18T15:33:24.972Z"
   },
   {
    "duration": 10,
    "start_time": "2024-06-18T15:33:24.980Z"
   },
   {
    "duration": 460,
    "start_time": "2024-06-18T15:33:24.991Z"
   },
   {
    "duration": 356,
    "start_time": "2024-06-18T15:33:25.453Z"
   },
   {
    "duration": 492,
    "start_time": "2024-06-18T15:33:25.811Z"
   },
   {
    "duration": 3,
    "start_time": "2024-06-18T15:33:26.305Z"
   },
   {
    "duration": 27,
    "start_time": "2024-06-18T15:33:26.309Z"
   },
   {
    "duration": 15,
    "start_time": "2024-06-18T15:33:26.337Z"
   },
   {
    "duration": 5,
    "start_time": "2024-06-18T15:33:26.353Z"
   },
   {
    "duration": 30,
    "start_time": "2024-06-18T15:33:26.359Z"
   },
   {
    "duration": 13,
    "start_time": "2024-06-18T15:33:26.391Z"
   },
   {
    "duration": 9495,
    "start_time": "2024-06-18T15:33:26.405Z"
   },
   {
    "duration": 8,
    "start_time": "2024-06-18T15:33:35.901Z"
   },
   {
    "duration": 7170,
    "start_time": "2024-06-18T15:33:35.910Z"
   },
   {
    "duration": 6,
    "start_time": "2024-06-18T15:33:43.172Z"
   },
   {
    "duration": 1592,
    "start_time": "2024-06-18T15:33:43.179Z"
   },
   {
    "duration": 6,
    "start_time": "2024-06-18T15:33:44.772Z"
   },
   {
    "duration": 3351,
    "start_time": "2024-06-18T15:33:44.779Z"
   },
   {
    "duration": 42,
    "start_time": "2024-06-18T15:33:48.132Z"
   },
   {
    "duration": 2279,
    "start_time": "2024-06-18T15:33:48.175Z"
   },
   {
    "duration": 4,
    "start_time": "2024-06-18T15:33:50.456Z"
   },
   {
    "duration": 3199,
    "start_time": "2024-06-18T15:46:08.374Z"
   },
   {
    "duration": 3426,
    "start_time": "2024-06-18T15:46:11.575Z"
   },
   {
    "duration": 3986,
    "start_time": "2024-06-18T15:46:15.002Z"
   },
   {
    "duration": 2901,
    "start_time": "2024-06-18T15:46:18.990Z"
   },
   {
    "duration": 4595,
    "start_time": "2024-06-18T15:46:21.893Z"
   },
   {
    "duration": 2966,
    "start_time": "2024-06-18T15:46:26.489Z"
   },
   {
    "duration": 1802,
    "start_time": "2024-06-18T15:46:29.457Z"
   },
   {
    "duration": 3,
    "start_time": "2024-06-18T15:46:31.261Z"
   },
   {
    "duration": 149,
    "start_time": "2024-06-18T15:46:31.265Z"
   },
   {
    "duration": 11,
    "start_time": "2024-06-18T15:46:31.417Z"
   },
   {
    "duration": 20,
    "start_time": "2024-06-18T15:46:31.429Z"
   },
   {
    "duration": 35,
    "start_time": "2024-06-18T15:46:31.450Z"
   },
   {
    "duration": 26,
    "start_time": "2024-06-18T15:46:31.486Z"
   },
   {
    "duration": 28,
    "start_time": "2024-06-18T15:46:31.513Z"
   },
   {
    "duration": 73,
    "start_time": "2024-06-18T15:46:31.542Z"
   },
   {
    "duration": 524,
    "start_time": "2024-06-18T15:46:31.617Z"
   },
   {
    "duration": 365,
    "start_time": "2024-06-18T15:46:32.142Z"
   },
   {
    "duration": 479,
    "start_time": "2024-06-18T15:46:32.508Z"
   },
   {
    "duration": 4,
    "start_time": "2024-06-18T15:46:32.988Z"
   },
   {
    "duration": 30,
    "start_time": "2024-06-18T15:46:32.994Z"
   },
   {
    "duration": 16,
    "start_time": "2024-06-18T15:46:33.026Z"
   },
   {
    "duration": 5,
    "start_time": "2024-06-18T15:46:33.043Z"
   },
   {
    "duration": 6,
    "start_time": "2024-06-18T15:46:33.049Z"
   },
   {
    "duration": 6,
    "start_time": "2024-06-18T15:46:33.056Z"
   },
   {
    "duration": 7545,
    "start_time": "2024-06-18T15:46:33.063Z"
   },
   {
    "duration": 8,
    "start_time": "2024-06-18T15:46:40.609Z"
   },
   {
    "duration": 6757,
    "start_time": "2024-06-18T15:46:40.618Z"
   },
   {
    "duration": 93,
    "start_time": "2024-06-18T15:46:47.379Z"
   },
   {
    "duration": 1622,
    "start_time": "2024-06-18T15:46:47.474Z"
   },
   {
    "duration": 73,
    "start_time": "2024-06-18T15:46:49.098Z"
   },
   {
    "duration": 1933,
    "start_time": "2024-06-18T15:46:49.172Z"
   },
   {
    "duration": 16,
    "start_time": "2024-06-18T15:46:51.107Z"
   },
   {
    "duration": 1493,
    "start_time": "2024-06-18T15:46:51.125Z"
   },
   {
    "duration": 6,
    "start_time": "2024-06-18T15:46:52.619Z"
   },
   {
    "duration": 3148,
    "start_time": "2024-06-18T15:50:37.533Z"
   },
   {
    "duration": 3370,
    "start_time": "2024-06-18T15:50:40.683Z"
   },
   {
    "duration": 2804,
    "start_time": "2024-06-18T15:50:44.055Z"
   },
   {
    "duration": 2869,
    "start_time": "2024-06-18T15:50:46.861Z"
   },
   {
    "duration": 3143,
    "start_time": "2024-06-18T15:50:49.732Z"
   },
   {
    "duration": 3003,
    "start_time": "2024-06-18T15:50:52.877Z"
   },
   {
    "duration": 1751,
    "start_time": "2024-06-18T15:50:55.883Z"
   },
   {
    "duration": 2,
    "start_time": "2024-06-18T15:50:57.636Z"
   },
   {
    "duration": 112,
    "start_time": "2024-06-18T15:50:57.639Z"
   },
   {
    "duration": 12,
    "start_time": "2024-06-18T15:50:57.754Z"
   },
   {
    "duration": 6,
    "start_time": "2024-06-18T15:50:57.768Z"
   },
   {
    "duration": 31,
    "start_time": "2024-06-18T15:50:57.776Z"
   },
   {
    "duration": 29,
    "start_time": "2024-06-18T15:50:57.808Z"
   },
   {
    "duration": 6,
    "start_time": "2024-06-18T15:50:57.838Z"
   },
   {
    "duration": 21,
    "start_time": "2024-06-18T15:50:57.846Z"
   },
   {
    "duration": 394,
    "start_time": "2024-06-18T15:50:57.869Z"
   },
   {
    "duration": 343,
    "start_time": "2024-06-18T15:50:58.265Z"
   },
   {
    "duration": 506,
    "start_time": "2024-06-18T15:50:58.610Z"
   },
   {
    "duration": 4,
    "start_time": "2024-06-18T15:50:59.117Z"
   },
   {
    "duration": 72,
    "start_time": "2024-06-18T15:50:59.123Z"
   },
   {
    "duration": 44,
    "start_time": "2024-06-18T15:50:59.197Z"
   },
   {
    "duration": 17,
    "start_time": "2024-06-18T15:50:59.242Z"
   },
   {
    "duration": 17,
    "start_time": "2024-06-18T15:50:59.260Z"
   },
   {
    "duration": 14,
    "start_time": "2024-06-18T15:50:59.278Z"
   },
   {
    "duration": 9739,
    "start_time": "2024-06-18T15:50:59.293Z"
   },
   {
    "duration": 8,
    "start_time": "2024-06-18T15:51:09.033Z"
   },
   {
    "duration": 9329,
    "start_time": "2024-06-18T15:51:09.042Z"
   },
   {
    "duration": 7,
    "start_time": "2024-06-18T15:51:18.375Z"
   },
   {
    "duration": 2105,
    "start_time": "2024-06-18T15:51:18.472Z"
   },
   {
    "duration": 5,
    "start_time": "2024-06-18T15:51:20.578Z"
   },
   {
    "duration": 3378,
    "start_time": "2024-06-18T15:51:20.585Z"
   },
   {
    "duration": 41,
    "start_time": "2024-06-18T15:51:23.965Z"
   },
   {
    "duration": 2307,
    "start_time": "2024-06-18T15:51:24.007Z"
   },
   {
    "duration": 4,
    "start_time": "2024-06-18T15:51:26.316Z"
   },
   {
    "duration": 3268,
    "start_time": "2024-06-18T15:52:48.716Z"
   },
   {
    "duration": 3514,
    "start_time": "2024-06-18T15:52:51.986Z"
   },
   {
    "duration": 3029,
    "start_time": "2024-06-18T15:52:55.502Z"
   },
   {
    "duration": 3001,
    "start_time": "2024-06-18T15:52:58.533Z"
   },
   {
    "duration": 3274,
    "start_time": "2024-06-18T15:53:01.537Z"
   },
   {
    "duration": 2772,
    "start_time": "2024-06-18T15:53:04.813Z"
   },
   {
    "duration": 1827,
    "start_time": "2024-06-18T15:53:07.587Z"
   },
   {
    "duration": 2,
    "start_time": "2024-06-18T15:53:09.416Z"
   },
   {
    "duration": 156,
    "start_time": "2024-06-18T15:53:09.420Z"
   },
   {
    "duration": 11,
    "start_time": "2024-06-18T15:53:09.577Z"
   },
   {
    "duration": 41,
    "start_time": "2024-06-18T15:53:09.589Z"
   },
   {
    "duration": 50,
    "start_time": "2024-06-18T15:53:09.631Z"
   },
   {
    "duration": 25,
    "start_time": "2024-06-18T15:53:09.683Z"
   },
   {
    "duration": 29,
    "start_time": "2024-06-18T15:53:09.711Z"
   },
   {
    "duration": 51,
    "start_time": "2024-06-18T15:53:09.741Z"
   },
   {
    "duration": 438,
    "start_time": "2024-06-18T15:53:09.793Z"
   },
   {
    "duration": 376,
    "start_time": "2024-06-18T15:53:10.232Z"
   },
   {
    "duration": 495,
    "start_time": "2024-06-18T15:53:10.609Z"
   },
   {
    "duration": 4,
    "start_time": "2024-06-18T15:53:11.105Z"
   },
   {
    "duration": 18,
    "start_time": "2024-06-18T15:53:11.110Z"
   },
   {
    "duration": 12,
    "start_time": "2024-06-18T15:53:11.129Z"
   },
   {
    "duration": 5,
    "start_time": "2024-06-18T15:53:11.142Z"
   },
   {
    "duration": 5,
    "start_time": "2024-06-18T15:53:11.148Z"
   },
   {
    "duration": 3,
    "start_time": "2024-06-18T15:53:11.155Z"
   },
   {
    "duration": 7115,
    "start_time": "2024-06-18T15:53:11.160Z"
   },
   {
    "duration": 8,
    "start_time": "2024-06-18T15:53:18.277Z"
   },
   {
    "duration": 5994,
    "start_time": "2024-06-18T15:53:18.286Z"
   },
   {
    "duration": 97,
    "start_time": "2024-06-18T15:53:24.281Z"
   },
   {
    "duration": 1099,
    "start_time": "2024-06-18T15:53:24.380Z"
   },
   {
    "duration": 5,
    "start_time": "2024-06-18T15:53:25.480Z"
   },
   {
    "duration": 1522,
    "start_time": "2024-06-18T15:53:25.486Z"
   },
   {
    "duration": 11,
    "start_time": "2024-06-18T15:53:27.009Z"
   },
   {
    "duration": 2009,
    "start_time": "2024-06-18T15:53:27.021Z"
   },
   {
    "duration": 5,
    "start_time": "2024-06-18T15:53:29.031Z"
   },
   {
    "duration": 3160,
    "start_time": "2024-06-18T15:54:09.283Z"
   },
   {
    "duration": 3354,
    "start_time": "2024-06-18T15:54:12.446Z"
   },
   {
    "duration": 2789,
    "start_time": "2024-06-18T15:54:15.802Z"
   },
   {
    "duration": 2845,
    "start_time": "2024-06-18T15:54:18.594Z"
   },
   {
    "duration": 3238,
    "start_time": "2024-06-18T15:54:21.441Z"
   },
   {
    "duration": 2785,
    "start_time": "2024-06-18T15:54:24.680Z"
   },
   {
    "duration": 1773,
    "start_time": "2024-06-18T15:54:27.467Z"
   },
   {
    "duration": 3,
    "start_time": "2024-06-18T15:54:29.242Z"
   },
   {
    "duration": 126,
    "start_time": "2024-06-18T15:54:29.247Z"
   },
   {
    "duration": 11,
    "start_time": "2024-06-18T15:54:29.375Z"
   },
   {
    "duration": 5,
    "start_time": "2024-06-18T15:54:29.388Z"
   },
   {
    "duration": 10,
    "start_time": "2024-06-18T15:54:29.394Z"
   },
   {
    "duration": 7,
    "start_time": "2024-06-18T15:54:29.405Z"
   },
   {
    "duration": 5,
    "start_time": "2024-06-18T15:54:29.413Z"
   },
   {
    "duration": 10,
    "start_time": "2024-06-18T15:54:29.419Z"
   },
   {
    "duration": 407,
    "start_time": "2024-06-18T15:54:29.430Z"
   },
   {
    "duration": 365,
    "start_time": "2024-06-18T15:54:29.838Z"
   },
   {
    "duration": 500,
    "start_time": "2024-06-18T15:54:30.204Z"
   },
   {
    "duration": 4,
    "start_time": "2024-06-18T15:54:30.705Z"
   },
   {
    "duration": 114,
    "start_time": "2024-06-18T15:54:30.710Z"
   },
   {
    "duration": 57,
    "start_time": "2024-06-18T15:54:30.825Z"
   },
   {
    "duration": 77,
    "start_time": "2024-06-18T15:54:30.883Z"
   },
   {
    "duration": 132,
    "start_time": "2024-06-18T15:54:30.961Z"
   },
   {
    "duration": 153,
    "start_time": "2024-06-18T15:54:31.095Z"
   },
   {
    "duration": 10698,
    "start_time": "2024-06-18T15:54:31.249Z"
   },
   {
    "duration": 7,
    "start_time": "2024-06-18T15:54:41.948Z"
   },
   {
    "duration": 10022,
    "start_time": "2024-06-18T15:54:41.957Z"
   },
   {
    "duration": 6,
    "start_time": "2024-06-18T15:54:52.073Z"
   },
   {
    "duration": 2492,
    "start_time": "2024-06-18T15:54:52.081Z"
   },
   {
    "duration": 7,
    "start_time": "2024-06-18T15:54:54.574Z"
   },
   {
    "duration": 4062,
    "start_time": "2024-06-18T15:54:54.582Z"
   },
   {
    "duration": 44,
    "start_time": "2024-06-18T15:54:58.645Z"
   },
   {
    "duration": 2751,
    "start_time": "2024-06-18T15:54:58.690Z"
   },
   {
    "duration": 5,
    "start_time": "2024-06-18T15:55:01.443Z"
   },
   {
    "duration": 3112,
    "start_time": "2024-06-18T16:03:35.958Z"
   },
   {
    "duration": 3479,
    "start_time": "2024-06-18T16:03:39.072Z"
   },
   {
    "duration": 2952,
    "start_time": "2024-06-18T16:03:42.552Z"
   },
   {
    "duration": 2824,
    "start_time": "2024-06-18T16:03:45.506Z"
   },
   {
    "duration": 3135,
    "start_time": "2024-06-18T16:03:48.332Z"
   },
   {
    "duration": 2957,
    "start_time": "2024-06-18T16:03:51.469Z"
   },
   {
    "duration": 1791,
    "start_time": "2024-06-18T16:03:54.428Z"
   },
   {
    "duration": 2,
    "start_time": "2024-06-18T16:03:56.221Z"
   },
   {
    "duration": 102,
    "start_time": "2024-06-18T16:03:56.224Z"
   },
   {
    "duration": 11,
    "start_time": "2024-06-18T16:03:56.329Z"
   },
   {
    "duration": 4,
    "start_time": "2024-06-18T16:03:56.341Z"
   },
   {
    "duration": 10,
    "start_time": "2024-06-18T16:03:56.346Z"
   },
   {
    "duration": 7,
    "start_time": "2024-06-18T16:03:56.357Z"
   },
   {
    "duration": 6,
    "start_time": "2024-06-18T16:03:56.365Z"
   },
   {
    "duration": 12,
    "start_time": "2024-06-18T16:03:56.372Z"
   },
   {
    "duration": 440,
    "start_time": "2024-06-18T16:03:56.385Z"
   },
   {
    "duration": 371,
    "start_time": "2024-06-18T16:03:56.826Z"
   },
   {
    "duration": 497,
    "start_time": "2024-06-18T16:03:57.198Z"
   },
   {
    "duration": 5,
    "start_time": "2024-06-18T16:03:57.697Z"
   },
   {
    "duration": 23,
    "start_time": "2024-06-18T16:03:57.704Z"
   },
   {
    "duration": 18,
    "start_time": "2024-06-18T16:03:57.728Z"
   },
   {
    "duration": 6,
    "start_time": "2024-06-18T16:03:57.747Z"
   },
   {
    "duration": 18,
    "start_time": "2024-06-18T16:03:57.754Z"
   },
   {
    "duration": 17,
    "start_time": "2024-06-18T16:03:57.773Z"
   },
   {
    "duration": 10672,
    "start_time": "2024-06-18T16:03:57.791Z"
   },
   {
    "duration": 12,
    "start_time": "2024-06-18T16:04:08.464Z"
   },
   {
    "duration": 215264,
    "start_time": "2024-06-18T16:04:08.478Z"
   },
   {
    "duration": 6,
    "start_time": "2024-06-18T16:07:43.744Z"
   },
   {
    "duration": 8722,
    "start_time": "2024-06-18T16:07:43.751Z"
   },
   {
    "duration": 95,
    "start_time": "2024-06-18T16:07:52.478Z"
   },
   {
    "duration": 2315,
    "start_time": "2024-06-18T16:07:52.574Z"
   },
   {
    "duration": 83,
    "start_time": "2024-06-18T16:07:54.890Z"
   },
   {
    "duration": 63739,
    "start_time": "2024-06-18T16:07:54.975Z"
   },
   {
    "duration": 85,
    "start_time": "2024-06-18T16:08:58.715Z"
   },
   {
    "duration": 3960,
    "start_time": "2024-06-18T16:08:58.801Z"
   },
   {
    "duration": 45,
    "start_time": "2024-06-18T16:09:02.762Z"
   },
   {
    "duration": 2690,
    "start_time": "2024-06-18T16:09:02.809Z"
   },
   {
    "duration": 5,
    "start_time": "2024-06-18T16:09:05.500Z"
   },
   {
    "duration": 3185,
    "start_time": "2024-06-18T16:11:08.471Z"
   },
   {
    "duration": 4440,
    "start_time": "2024-06-18T16:11:11.659Z"
   },
   {
    "duration": 2974,
    "start_time": "2024-06-18T16:11:16.103Z"
   },
   {
    "duration": 2888,
    "start_time": "2024-06-18T16:11:19.079Z"
   },
   {
    "duration": 3192,
    "start_time": "2024-06-18T16:11:21.969Z"
   },
   {
    "duration": 2952,
    "start_time": "2024-06-18T16:11:25.163Z"
   },
   {
    "duration": 1825,
    "start_time": "2024-06-18T16:11:28.117Z"
   },
   {
    "duration": 2,
    "start_time": "2024-06-18T16:11:29.944Z"
   },
   {
    "duration": 181,
    "start_time": "2024-06-18T16:11:29.949Z"
   },
   {
    "duration": 11,
    "start_time": "2024-06-18T16:11:30.131Z"
   },
   {
    "duration": 25,
    "start_time": "2024-06-18T16:11:30.143Z"
   },
   {
    "duration": 49,
    "start_time": "2024-06-18T16:11:30.169Z"
   },
   {
    "duration": 39,
    "start_time": "2024-06-18T16:11:30.219Z"
   },
   {
    "duration": 78,
    "start_time": "2024-06-18T16:11:30.259Z"
   },
   {
    "duration": 49,
    "start_time": "2024-06-18T16:11:30.338Z"
   },
   {
    "duration": 449,
    "start_time": "2024-06-18T16:11:30.388Z"
   },
   {
    "duration": 365,
    "start_time": "2024-06-18T16:11:30.839Z"
   },
   {
    "duration": 519,
    "start_time": "2024-06-18T16:11:31.205Z"
   },
   {
    "duration": 3,
    "start_time": "2024-06-18T16:11:31.725Z"
   },
   {
    "duration": 38,
    "start_time": "2024-06-18T16:11:31.730Z"
   },
   {
    "duration": 15,
    "start_time": "2024-06-18T16:11:31.769Z"
   },
   {
    "duration": 5,
    "start_time": "2024-06-18T16:11:31.786Z"
   },
   {
    "duration": 13,
    "start_time": "2024-06-18T16:11:31.792Z"
   },
   {
    "duration": 5,
    "start_time": "2024-06-18T16:11:31.806Z"
   },
   {
    "duration": 9759,
    "start_time": "2024-06-18T16:11:31.812Z"
   },
   {
    "duration": 8,
    "start_time": "2024-06-18T16:11:41.572Z"
   },
   {
    "duration": 9595,
    "start_time": "2024-06-18T16:11:41.583Z"
   },
   {
    "duration": 93,
    "start_time": "2024-06-18T16:11:51.180Z"
   },
   {
    "duration": 2398,
    "start_time": "2024-06-18T16:11:51.274Z"
   },
   {
    "duration": 6,
    "start_time": "2024-06-18T16:11:53.673Z"
   },
   {
    "duration": 60026,
    "start_time": "2024-06-18T16:11:53.681Z"
   },
   {
    "duration": 81,
    "start_time": "2024-06-18T16:12:53.708Z"
   },
   {
    "duration": 3272,
    "start_time": "2024-06-18T16:12:53.790Z"
   },
   {
    "duration": 39,
    "start_time": "2024-06-18T16:12:57.063Z"
   },
   {
    "duration": 2327,
    "start_time": "2024-06-18T16:12:57.103Z"
   },
   {
    "duration": 5,
    "start_time": "2024-06-18T16:12:59.431Z"
   },
   {
    "duration": 6923,
    "start_time": "2024-06-19T10:04:26.940Z"
   },
   {
    "duration": 12124,
    "start_time": "2024-06-19T10:04:33.865Z"
   },
   {
    "duration": 3357,
    "start_time": "2024-06-19T10:04:45.991Z"
   },
   {
    "duration": 6431,
    "start_time": "2024-06-19T10:04:49.350Z"
   },
   {
    "duration": 7609,
    "start_time": "2024-06-19T10:04:55.782Z"
   },
   {
    "duration": 4187,
    "start_time": "2024-06-19T10:05:03.393Z"
   },
   {
    "duration": 1912,
    "start_time": "2024-06-19T10:05:07.582Z"
   },
   {
    "duration": 2,
    "start_time": "2024-06-19T10:05:09.496Z"
   },
   {
    "duration": 156,
    "start_time": "2024-06-19T10:05:09.499Z"
   },
   {
    "duration": 11,
    "start_time": "2024-06-19T10:05:09.657Z"
   },
   {
    "duration": 5,
    "start_time": "2024-06-19T10:05:09.669Z"
   },
   {
    "duration": 18,
    "start_time": "2024-06-19T10:05:09.675Z"
   },
   {
    "duration": 11,
    "start_time": "2024-06-19T10:05:09.694Z"
   },
   {
    "duration": 16,
    "start_time": "2024-06-19T10:05:09.706Z"
   },
   {
    "duration": 14,
    "start_time": "2024-06-19T10:05:09.723Z"
   },
   {
    "duration": 394,
    "start_time": "2024-06-19T10:05:09.738Z"
   },
   {
    "duration": 362,
    "start_time": "2024-06-19T10:05:10.133Z"
   },
   {
    "duration": 511,
    "start_time": "2024-06-19T10:05:10.496Z"
   },
   {
    "duration": 5,
    "start_time": "2024-06-19T10:05:11.009Z"
   },
   {
    "duration": 52,
    "start_time": "2024-06-19T10:05:11.016Z"
   },
   {
    "duration": 16,
    "start_time": "2024-06-19T10:05:11.070Z"
   },
   {
    "duration": 5,
    "start_time": "2024-06-19T10:05:11.087Z"
   },
   {
    "duration": 8,
    "start_time": "2024-06-19T10:05:11.094Z"
   },
   {
    "duration": 4,
    "start_time": "2024-06-19T10:05:11.103Z"
   },
   {
    "duration": 9159,
    "start_time": "2024-06-19T10:05:11.108Z"
   },
   {
    "duration": 7,
    "start_time": "2024-06-19T10:05:20.271Z"
   },
   {
    "duration": 9698,
    "start_time": "2024-06-19T10:05:20.279Z"
   },
   {
    "duration": 91,
    "start_time": "2024-06-19T10:05:29.982Z"
   },
   {
    "duration": 2211,
    "start_time": "2024-06-19T10:05:30.074Z"
   },
   {
    "duration": 6,
    "start_time": "2024-06-19T10:05:32.287Z"
   },
   {
    "duration": 2907,
    "start_time": "2024-06-19T10:05:32.295Z"
   },
   {
    "duration": 0,
    "start_time": "2024-06-19T10:05:35.204Z"
   },
   {
    "duration": 0,
    "start_time": "2024-06-19T10:05:35.205Z"
   },
   {
    "duration": 0,
    "start_time": "2024-06-19T10:05:35.207Z"
   },
   {
    "duration": 0,
    "start_time": "2024-06-19T10:05:35.208Z"
   },
   {
    "duration": 0,
    "start_time": "2024-06-19T10:05:35.209Z"
   },
   {
    "duration": 3084,
    "start_time": "2024-06-19T10:08:30.210Z"
   },
   {
    "duration": 3399,
    "start_time": "2024-06-19T10:08:33.296Z"
   },
   {
    "duration": 2843,
    "start_time": "2024-06-19T10:08:36.697Z"
   },
   {
    "duration": 2914,
    "start_time": "2024-06-19T10:08:39.542Z"
   },
   {
    "duration": 3325,
    "start_time": "2024-06-19T10:08:42.458Z"
   },
   {
    "duration": 2858,
    "start_time": "2024-06-19T10:08:45.784Z"
   },
   {
    "duration": 1813,
    "start_time": "2024-06-19T10:08:48.644Z"
   },
   {
    "duration": 2,
    "start_time": "2024-06-19T10:08:50.458Z"
   },
   {
    "duration": 116,
    "start_time": "2024-06-19T10:08:50.462Z"
   },
   {
    "duration": 12,
    "start_time": "2024-06-19T10:08:50.581Z"
   },
   {
    "duration": 26,
    "start_time": "2024-06-19T10:08:50.594Z"
   },
   {
    "duration": 11,
    "start_time": "2024-06-19T10:08:50.621Z"
   },
   {
    "duration": 11,
    "start_time": "2024-06-19T10:08:50.633Z"
   },
   {
    "duration": 5,
    "start_time": "2024-06-19T10:08:50.645Z"
   },
   {
    "duration": 26,
    "start_time": "2024-06-19T10:08:50.651Z"
   },
   {
    "duration": 439,
    "start_time": "2024-06-19T10:08:50.678Z"
   },
   {
    "duration": 390,
    "start_time": "2024-06-19T10:08:51.118Z"
   },
   {
    "duration": 498,
    "start_time": "2024-06-19T10:08:51.510Z"
   },
   {
    "duration": 3,
    "start_time": "2024-06-19T10:08:52.009Z"
   },
   {
    "duration": 38,
    "start_time": "2024-06-19T10:08:52.013Z"
   },
   {
    "duration": 16,
    "start_time": "2024-06-19T10:08:52.052Z"
   },
   {
    "duration": 5,
    "start_time": "2024-06-19T10:08:52.069Z"
   },
   {
    "duration": 9,
    "start_time": "2024-06-19T10:08:52.075Z"
   },
   {
    "duration": 4,
    "start_time": "2024-06-19T10:08:52.085Z"
   },
   {
    "duration": 9356,
    "start_time": "2024-06-19T10:08:52.091Z"
   },
   {
    "duration": 8,
    "start_time": "2024-06-19T10:09:01.448Z"
   },
   {
    "duration": 7732,
    "start_time": "2024-06-19T10:09:01.457Z"
   },
   {
    "duration": 7,
    "start_time": "2024-06-19T10:09:09.271Z"
   },
   {
    "duration": 1792,
    "start_time": "2024-06-19T10:09:09.280Z"
   },
   {
    "duration": 7,
    "start_time": "2024-06-19T10:09:11.074Z"
   },
   {
    "duration": 63195,
    "start_time": "2024-06-19T10:09:11.083Z"
   },
   {
    "duration": 39,
    "start_time": "2024-06-19T10:10:14.280Z"
   },
   {
    "duration": 3061,
    "start_time": "2024-06-19T10:10:14.320Z"
   },
   {
    "duration": 29,
    "start_time": "2024-06-19T10:10:17.382Z"
   },
   {
    "duration": 2204,
    "start_time": "2024-06-19T10:10:17.413Z"
   },
   {
    "duration": 5,
    "start_time": "2024-06-19T10:10:19.618Z"
   },
   {
    "duration": 49,
    "start_time": "2024-06-19T10:15:35.810Z"
   },
   {
    "duration": 14718,
    "start_time": "2024-06-19T10:16:22.266Z"
   },
   {
    "duration": 5,
    "start_time": "2024-06-19T10:16:42.479Z"
   },
   {
    "duration": 1564,
    "start_time": "2024-06-19T10:19:43.325Z"
   },
   {
    "duration": 1161,
    "start_time": "2024-06-19T10:19:54.217Z"
   },
   {
    "duration": 5,
    "start_time": "2024-06-19T10:20:03.740Z"
   },
   {
    "duration": 1127,
    "start_time": "2024-06-19T10:25:58.545Z"
   },
   {
    "duration": 5,
    "start_time": "2024-06-19T10:31:19.633Z"
   },
   {
    "duration": 4,
    "start_time": "2024-06-19T10:33:47.425Z"
   },
   {
    "duration": 3,
    "start_time": "2024-06-19T10:34:01.153Z"
   },
   {
    "duration": 3,
    "start_time": "2024-06-19T10:34:14.346Z"
   },
   {
    "duration": 48,
    "start_time": "2024-06-19T10:37:01.280Z"
   },
   {
    "duration": 363,
    "start_time": "2024-06-19T10:37:19.717Z"
   },
   {
    "duration": 289,
    "start_time": "2024-06-19T10:37:51.627Z"
   },
   {
    "duration": 314,
    "start_time": "2024-06-19T10:38:24.212Z"
   },
   {
    "duration": 332,
    "start_time": "2024-06-19T10:39:37.631Z"
   },
   {
    "duration": 25,
    "start_time": "2024-06-19T10:40:35.123Z"
   },
   {
    "duration": 334,
    "start_time": "2024-06-19T10:40:45.513Z"
   },
   {
    "duration": 196,
    "start_time": "2024-06-19T10:41:09.824Z"
   },
   {
    "duration": 269,
    "start_time": "2024-06-19T10:41:16.349Z"
   },
   {
    "duration": 234,
    "start_time": "2024-06-19T10:41:49.509Z"
   },
   {
    "duration": 267,
    "start_time": "2024-06-19T10:43:03.893Z"
   },
   {
    "duration": 305,
    "start_time": "2024-06-19T10:43:10.554Z"
   },
   {
    "duration": 275,
    "start_time": "2024-06-19T10:43:24.640Z"
   },
   {
    "duration": 262,
    "start_time": "2024-06-19T10:44:01.732Z"
   },
   {
    "duration": 293,
    "start_time": "2024-06-19T10:44:08.635Z"
   },
   {
    "duration": 248,
    "start_time": "2024-06-19T10:45:30.308Z"
   },
   {
    "duration": 237,
    "start_time": "2024-06-19T10:48:45.812Z"
   },
   {
    "duration": 179,
    "start_time": "2024-06-19T10:48:51.524Z"
   },
   {
    "duration": 289,
    "start_time": "2024-06-19T10:49:01.373Z"
   },
   {
    "duration": 9,
    "start_time": "2024-06-19T10:54:50.733Z"
   },
   {
    "duration": 8,
    "start_time": "2024-06-19T10:55:31.714Z"
   },
   {
    "duration": 6,
    "start_time": "2024-06-19T10:55:41.353Z"
   },
   {
    "duration": 4,
    "start_time": "2024-06-19T10:55:50.657Z"
   },
   {
    "duration": 4,
    "start_time": "2024-06-19T10:56:29.470Z"
   },
   {
    "duration": 7,
    "start_time": "2024-06-19T10:56:55.484Z"
   },
   {
    "duration": 6,
    "start_time": "2024-06-19T10:57:06.573Z"
   },
   {
    "duration": 232,
    "start_time": "2024-06-19T10:57:20.564Z"
   },
   {
    "duration": 331,
    "start_time": "2024-06-19T11:00:09.893Z"
   },
   {
    "duration": 253,
    "start_time": "2024-06-19T11:02:58.311Z"
   },
   {
    "duration": 249,
    "start_time": "2024-06-19T11:03:04.112Z"
   },
   {
    "duration": 815,
    "start_time": "2024-06-19T11:03:31.715Z"
   },
   {
    "duration": 3854,
    "start_time": "2024-06-19T11:12:48.195Z"
   },
   {
    "duration": 3411,
    "start_time": "2024-06-19T11:12:52.051Z"
   },
   {
    "duration": 3019,
    "start_time": "2024-06-19T11:12:55.464Z"
   },
   {
    "duration": 2931,
    "start_time": "2024-06-19T11:12:58.485Z"
   },
   {
    "duration": 3269,
    "start_time": "2024-06-19T11:13:01.418Z"
   },
   {
    "duration": 2943,
    "start_time": "2024-06-19T11:13:04.689Z"
   },
   {
    "duration": 3026,
    "start_time": "2024-06-19T11:13:07.634Z"
   },
   {
    "duration": 1959,
    "start_time": "2024-06-19T11:13:10.661Z"
   },
   {
    "duration": 2,
    "start_time": "2024-06-19T11:13:12.622Z"
   },
   {
    "duration": 118,
    "start_time": "2024-06-19T11:13:12.626Z"
   },
   {
    "duration": 11,
    "start_time": "2024-06-19T11:13:12.745Z"
   },
   {
    "duration": 132,
    "start_time": "2024-06-19T11:13:12.757Z"
   },
   {
    "duration": 0,
    "start_time": "2024-06-19T11:13:12.891Z"
   },
   {
    "duration": 0,
    "start_time": "2024-06-19T11:13:12.892Z"
   },
   {
    "duration": 0,
    "start_time": "2024-06-19T11:13:12.893Z"
   },
   {
    "duration": 0,
    "start_time": "2024-06-19T11:13:12.894Z"
   },
   {
    "duration": 0,
    "start_time": "2024-06-19T11:13:12.895Z"
   },
   {
    "duration": 0,
    "start_time": "2024-06-19T11:13:12.895Z"
   },
   {
    "duration": 0,
    "start_time": "2024-06-19T11:13:12.897Z"
   },
   {
    "duration": 0,
    "start_time": "2024-06-19T11:13:12.897Z"
   },
   {
    "duration": 0,
    "start_time": "2024-06-19T11:13:12.898Z"
   },
   {
    "duration": 0,
    "start_time": "2024-06-19T11:13:12.899Z"
   },
   {
    "duration": 0,
    "start_time": "2024-06-19T11:13:12.900Z"
   },
   {
    "duration": 0,
    "start_time": "2024-06-19T11:13:12.901Z"
   },
   {
    "duration": 0,
    "start_time": "2024-06-19T11:13:12.902Z"
   },
   {
    "duration": 0,
    "start_time": "2024-06-19T11:13:12.903Z"
   },
   {
    "duration": 0,
    "start_time": "2024-06-19T11:13:12.904Z"
   },
   {
    "duration": 0,
    "start_time": "2024-06-19T11:13:12.905Z"
   },
   {
    "duration": 0,
    "start_time": "2024-06-19T11:13:12.906Z"
   },
   {
    "duration": 0,
    "start_time": "2024-06-19T11:13:12.907Z"
   },
   {
    "duration": 0,
    "start_time": "2024-06-19T11:13:12.907Z"
   },
   {
    "duration": 0,
    "start_time": "2024-06-19T11:13:12.908Z"
   },
   {
    "duration": 0,
    "start_time": "2024-06-19T11:13:12.909Z"
   },
   {
    "duration": 0,
    "start_time": "2024-06-19T11:13:12.911Z"
   },
   {
    "duration": 0,
    "start_time": "2024-06-19T11:13:12.912Z"
   },
   {
    "duration": 0,
    "start_time": "2024-06-19T11:13:12.912Z"
   },
   {
    "duration": 0,
    "start_time": "2024-06-19T11:13:12.913Z"
   },
   {
    "duration": 0,
    "start_time": "2024-06-19T11:13:12.914Z"
   },
   {
    "duration": 0,
    "start_time": "2024-06-19T11:13:12.915Z"
   },
   {
    "duration": 0,
    "start_time": "2024-06-19T11:13:12.916Z"
   },
   {
    "duration": 4,
    "start_time": "2024-06-19T11:15:40.216Z"
   },
   {
    "duration": 3239,
    "start_time": "2024-06-19T11:17:02.384Z"
   },
   {
    "duration": 3430,
    "start_time": "2024-06-19T11:17:05.625Z"
   },
   {
    "duration": 2911,
    "start_time": "2024-06-19T11:17:09.057Z"
   },
   {
    "duration": 2950,
    "start_time": "2024-06-19T11:17:11.970Z"
   },
   {
    "duration": 3228,
    "start_time": "2024-06-19T11:17:14.922Z"
   },
   {
    "duration": 2847,
    "start_time": "2024-06-19T11:17:18.151Z"
   },
   {
    "duration": 3077,
    "start_time": "2024-06-19T11:17:21.000Z"
   },
   {
    "duration": 1930,
    "start_time": "2024-06-19T11:17:24.079Z"
   },
   {
    "duration": 2,
    "start_time": "2024-06-19T11:17:26.011Z"
   },
   {
    "duration": 175,
    "start_time": "2024-06-19T11:17:26.015Z"
   },
   {
    "duration": 10,
    "start_time": "2024-06-19T11:17:26.191Z"
   },
   {
    "duration": 12,
    "start_time": "2024-06-19T11:17:26.202Z"
   },
   {
    "duration": 7,
    "start_time": "2024-06-19T11:17:26.215Z"
   },
   {
    "duration": 7,
    "start_time": "2024-06-19T11:17:26.223Z"
   },
   {
    "duration": 6,
    "start_time": "2024-06-19T11:17:26.231Z"
   },
   {
    "duration": 21,
    "start_time": "2024-06-19T11:17:26.239Z"
   },
   {
    "duration": 468,
    "start_time": "2024-06-19T11:17:26.261Z"
   },
   {
    "duration": 544,
    "start_time": "2024-06-19T11:17:26.730Z"
   },
   {
    "duration": 728,
    "start_time": "2024-06-19T11:17:27.276Z"
   },
   {
    "duration": 973,
    "start_time": "2024-06-19T11:17:28.005Z"
   },
   {
    "duration": 480,
    "start_time": "2024-06-19T11:17:28.980Z"
   },
   {
    "duration": 13,
    "start_time": "2024-06-19T11:17:29.461Z"
   },
   {
    "duration": 849,
    "start_time": "2024-06-19T11:17:29.476Z"
   },
   {
    "duration": 7,
    "start_time": "2024-06-19T11:17:30.327Z"
   },
   {
    "duration": 83,
    "start_time": "2024-06-19T11:17:30.335Z"
   },
   {
    "duration": 85,
    "start_time": "2024-06-19T11:17:30.420Z"
   },
   {
    "duration": 283,
    "start_time": "2024-06-19T11:17:30.507Z"
   },
   {
    "duration": 36,
    "start_time": "2024-06-19T11:17:30.793Z"
   },
   {
    "duration": 10454,
    "start_time": "2024-06-19T11:17:30.831Z"
   },
   {
    "duration": 7,
    "start_time": "2024-06-19T11:17:41.286Z"
   },
   {
    "duration": 6383,
    "start_time": "2024-06-19T11:17:41.294Z"
   },
   {
    "duration": 93,
    "start_time": "2024-06-19T11:17:47.681Z"
   },
   {
    "duration": 2198,
    "start_time": "2024-06-19T11:17:47.780Z"
   },
   {
    "duration": 5,
    "start_time": "2024-06-19T11:17:49.979Z"
   },
   {
    "duration": 87,
    "start_time": "2024-06-19T11:17:49.986Z"
   },
   {
    "duration": 0,
    "start_time": "2024-06-19T11:17:50.075Z"
   },
   {
    "duration": 0,
    "start_time": "2024-06-19T11:17:50.076Z"
   },
   {
    "duration": 0,
    "start_time": "2024-06-19T11:17:50.077Z"
   },
   {
    "duration": 0,
    "start_time": "2024-06-19T11:17:50.078Z"
   },
   {
    "duration": 0,
    "start_time": "2024-06-19T11:17:50.079Z"
   },
   {
    "duration": 115971,
    "start_time": "2024-06-19T11:18:29.202Z"
   },
   {
    "duration": 0,
    "start_time": "2024-06-19T11:20:25.176Z"
   },
   {
    "duration": 0,
    "start_time": "2024-06-19T11:20:25.177Z"
   },
   {
    "duration": 0,
    "start_time": "2024-06-19T11:20:25.179Z"
   },
   {
    "duration": 0,
    "start_time": "2024-06-19T11:20:25.180Z"
   },
   {
    "duration": 0,
    "start_time": "2024-06-19T11:20:25.181Z"
   },
   {
    "duration": 3162,
    "start_time": "2024-06-19T11:22:34.117Z"
   },
   {
    "duration": 3386,
    "start_time": "2024-06-19T11:22:37.281Z"
   },
   {
    "duration": 2966,
    "start_time": "2024-06-19T11:22:40.668Z"
   },
   {
    "duration": 2932,
    "start_time": "2024-06-19T11:22:43.636Z"
   },
   {
    "duration": 3272,
    "start_time": "2024-06-19T11:22:46.571Z"
   },
   {
    "duration": 2841,
    "start_time": "2024-06-19T11:22:49.845Z"
   },
   {
    "duration": 3116,
    "start_time": "2024-06-19T11:22:52.688Z"
   },
   {
    "duration": 1932,
    "start_time": "2024-06-19T11:22:55.806Z"
   },
   {
    "duration": 2,
    "start_time": "2024-06-19T11:22:57.739Z"
   },
   {
    "duration": 113,
    "start_time": "2024-06-19T11:22:57.743Z"
   },
   {
    "duration": 11,
    "start_time": "2024-06-19T11:22:57.858Z"
   },
   {
    "duration": 3,
    "start_time": "2024-06-19T11:22:57.870Z"
   },
   {
    "duration": 14,
    "start_time": "2024-06-19T11:22:57.875Z"
   },
   {
    "duration": 4,
    "start_time": "2024-06-19T11:22:57.893Z"
   },
   {
    "duration": 5,
    "start_time": "2024-06-19T11:22:57.899Z"
   },
   {
    "duration": 8,
    "start_time": "2024-06-19T11:22:57.906Z"
   },
   {
    "duration": 405,
    "start_time": "2024-06-19T11:22:57.916Z"
   },
   {
    "duration": 573,
    "start_time": "2024-06-19T11:22:58.322Z"
   },
   {
    "duration": 739,
    "start_time": "2024-06-19T11:22:58.896Z"
   },
   {
    "duration": 844,
    "start_time": "2024-06-19T11:22:59.637Z"
   },
   {
    "duration": 388,
    "start_time": "2024-06-19T11:23:00.572Z"
   },
   {
    "duration": 13,
    "start_time": "2024-06-19T11:23:00.961Z"
   },
   {
    "duration": 847,
    "start_time": "2024-06-19T11:23:00.975Z"
   },
   {
    "duration": 5,
    "start_time": "2024-06-19T11:23:01.824Z"
   },
   {
    "duration": 28,
    "start_time": "2024-06-19T11:23:01.830Z"
   },
   {
    "duration": 37,
    "start_time": "2024-06-19T11:23:01.859Z"
   },
   {
    "duration": 32,
    "start_time": "2024-06-19T11:23:01.897Z"
   },
   {
    "duration": 12,
    "start_time": "2024-06-19T11:23:01.930Z"
   },
   {
    "duration": 8707,
    "start_time": "2024-06-19T11:23:01.943Z"
   },
   {
    "duration": 7,
    "start_time": "2024-06-19T11:23:10.651Z"
   },
   {
    "duration": 6514,
    "start_time": "2024-06-19T11:23:10.659Z"
   },
   {
    "duration": 6,
    "start_time": "2024-06-19T11:23:17.174Z"
   },
   {
    "duration": 1903,
    "start_time": "2024-06-19T11:23:17.272Z"
   },
   {
    "duration": 4,
    "start_time": "2024-06-19T11:23:19.177Z"
   },
   {
    "duration": 130681,
    "start_time": "2024-06-19T11:23:19.183Z"
   },
   {
    "duration": 0,
    "start_time": "2024-06-19T11:25:29.866Z"
   },
   {
    "duration": 0,
    "start_time": "2024-06-19T11:25:29.867Z"
   },
   {
    "duration": 0,
    "start_time": "2024-06-19T11:25:29.868Z"
   },
   {
    "duration": 0,
    "start_time": "2024-06-19T11:25:29.869Z"
   },
   {
    "duration": 0,
    "start_time": "2024-06-19T11:25:29.870Z"
   },
   {
    "duration": 3944,
    "start_time": "2024-06-19T11:26:15.475Z"
   },
   {
    "duration": 3510,
    "start_time": "2024-06-19T11:26:19.421Z"
   },
   {
    "duration": 2958,
    "start_time": "2024-06-19T11:26:22.933Z"
   },
   {
    "duration": 3119,
    "start_time": "2024-06-19T11:26:25.893Z"
   },
   {
    "duration": 3291,
    "start_time": "2024-06-19T11:26:29.015Z"
   },
   {
    "duration": 2856,
    "start_time": "2024-06-19T11:26:32.308Z"
   },
   {
    "duration": 3121,
    "start_time": "2024-06-19T11:26:35.166Z"
   },
   {
    "duration": 1915,
    "start_time": "2024-06-19T11:26:38.289Z"
   },
   {
    "duration": 3,
    "start_time": "2024-06-19T11:26:40.205Z"
   },
   {
    "duration": 142,
    "start_time": "2024-06-19T11:26:40.210Z"
   },
   {
    "duration": 10,
    "start_time": "2024-06-19T11:26:40.354Z"
   },
   {
    "duration": 6,
    "start_time": "2024-06-19T11:26:40.365Z"
   },
   {
    "duration": 12,
    "start_time": "2024-06-19T11:26:40.372Z"
   },
   {
    "duration": 5,
    "start_time": "2024-06-19T11:26:40.385Z"
   },
   {
    "duration": 8,
    "start_time": "2024-06-19T11:26:40.391Z"
   },
   {
    "duration": 10,
    "start_time": "2024-06-19T11:26:40.401Z"
   },
   {
    "duration": 418,
    "start_time": "2024-06-19T11:26:40.413Z"
   },
   {
    "duration": 548,
    "start_time": "2024-06-19T11:26:40.833Z"
   },
   {
    "duration": 744,
    "start_time": "2024-06-19T11:26:41.383Z"
   },
   {
    "duration": 1351,
    "start_time": "2024-06-19T11:26:42.129Z"
   },
   {
    "duration": 434,
    "start_time": "2024-06-19T11:26:43.573Z"
   },
   {
    "duration": 5,
    "start_time": "2024-06-19T11:26:44.008Z"
   },
   {
    "duration": 814,
    "start_time": "2024-06-19T11:26:44.014Z"
   },
   {
    "duration": 5,
    "start_time": "2024-06-19T11:26:44.829Z"
   },
   {
    "duration": 47,
    "start_time": "2024-06-19T11:26:44.835Z"
   },
   {
    "duration": 27,
    "start_time": "2024-06-19T11:26:44.883Z"
   },
   {
    "duration": 9,
    "start_time": "2024-06-19T11:26:44.912Z"
   },
   {
    "duration": 5,
    "start_time": "2024-06-19T11:26:44.924Z"
   },
   {
    "duration": 8864,
    "start_time": "2024-06-19T11:26:44.930Z"
   },
   {
    "duration": 8,
    "start_time": "2024-06-19T11:26:53.795Z"
   },
   {
    "duration": 5976,
    "start_time": "2024-06-19T11:26:53.805Z"
   },
   {
    "duration": 91,
    "start_time": "2024-06-19T11:26:59.784Z"
   },
   {
    "duration": 1620,
    "start_time": "2024-06-19T11:26:59.879Z"
   },
   {
    "duration": 71,
    "start_time": "2024-06-19T11:27:01.501Z"
   },
   {
    "duration": 55869,
    "start_time": "2024-06-19T11:27:01.574Z"
   },
   {
    "duration": 72,
    "start_time": "2024-06-19T11:27:57.445Z"
   },
   {
    "duration": 2569,
    "start_time": "2024-06-19T11:27:57.518Z"
   },
   {
    "duration": 23,
    "start_time": "2024-06-19T11:28:00.089Z"
   },
   {
    "duration": 1927,
    "start_time": "2024-06-19T11:28:00.114Z"
   },
   {
    "duration": 5,
    "start_time": "2024-06-19T11:28:02.042Z"
   },
   {
    "duration": 3216,
    "start_time": "2024-06-19T11:29:34.423Z"
   },
   {
    "duration": 3368,
    "start_time": "2024-06-19T11:29:37.641Z"
   },
   {
    "duration": 2857,
    "start_time": "2024-06-19T11:29:41.011Z"
   },
   {
    "duration": 2944,
    "start_time": "2024-06-19T11:29:43.871Z"
   },
   {
    "duration": 3366,
    "start_time": "2024-06-19T11:29:46.817Z"
   },
   {
    "duration": 3024,
    "start_time": "2024-06-19T11:29:50.185Z"
   },
   {
    "duration": 3145,
    "start_time": "2024-06-19T11:29:53.211Z"
   },
   {
    "duration": 2353,
    "start_time": "2024-06-19T11:29:56.359Z"
   },
   {
    "duration": 2,
    "start_time": "2024-06-19T11:29:58.714Z"
   },
   {
    "duration": 144,
    "start_time": "2024-06-19T11:29:58.718Z"
   },
   {
    "duration": 11,
    "start_time": "2024-06-19T11:29:58.863Z"
   },
   {
    "duration": 15,
    "start_time": "2024-06-19T11:29:58.875Z"
   },
   {
    "duration": 12,
    "start_time": "2024-06-19T11:29:58.891Z"
   },
   {
    "duration": 28,
    "start_time": "2024-06-19T11:29:58.904Z"
   },
   {
    "duration": 13,
    "start_time": "2024-06-19T11:29:58.933Z"
   },
   {
    "duration": 17,
    "start_time": "2024-06-19T11:29:58.947Z"
   },
   {
    "duration": 397,
    "start_time": "2024-06-19T11:29:58.965Z"
   },
   {
    "duration": 544,
    "start_time": "2024-06-19T11:29:59.364Z"
   },
   {
    "duration": 762,
    "start_time": "2024-06-19T11:29:59.910Z"
   },
   {
    "duration": 1005,
    "start_time": "2024-06-19T11:30:00.673Z"
   },
   {
    "duration": 479,
    "start_time": "2024-06-19T11:30:01.680Z"
   },
   {
    "duration": 10,
    "start_time": "2024-06-19T11:30:02.161Z"
   },
   {
    "duration": 853,
    "start_time": "2024-06-19T11:30:02.172Z"
   },
   {
    "duration": 5,
    "start_time": "2024-06-19T11:30:03.026Z"
   },
   {
    "duration": 14,
    "start_time": "2024-06-19T11:30:03.032Z"
   },
   {
    "duration": 12,
    "start_time": "2024-06-19T11:30:03.047Z"
   },
   {
    "duration": 6,
    "start_time": "2024-06-19T11:30:03.071Z"
   },
   {
    "duration": 7,
    "start_time": "2024-06-19T11:30:03.080Z"
   },
   {
    "duration": 7954,
    "start_time": "2024-06-19T11:30:03.089Z"
   },
   {
    "duration": 7,
    "start_time": "2024-06-19T11:30:11.044Z"
   },
   {
    "duration": 5628,
    "start_time": "2024-06-19T11:30:11.053Z"
   },
   {
    "duration": 96,
    "start_time": "2024-06-19T11:30:16.775Z"
   },
   {
    "duration": 1515,
    "start_time": "2024-06-19T11:30:16.872Z"
   },
   {
    "duration": 6,
    "start_time": "2024-06-19T11:30:18.389Z"
   },
   {
    "duration": 54231,
    "start_time": "2024-06-19T11:30:18.396Z"
   },
   {
    "duration": 71,
    "start_time": "2024-06-19T11:31:12.629Z"
   },
   {
    "duration": 1851,
    "start_time": "2024-06-19T11:31:12.702Z"
   },
   {
    "duration": 19,
    "start_time": "2024-06-19T11:31:14.555Z"
   },
   {
    "duration": 1568,
    "start_time": "2024-06-19T11:31:14.575Z"
   },
   {
    "duration": 5,
    "start_time": "2024-06-19T11:31:16.145Z"
   },
   {
    "duration": 3277,
    "start_time": "2024-06-19T11:32:37.511Z"
   },
   {
    "duration": 3446,
    "start_time": "2024-06-19T11:32:40.789Z"
   },
   {
    "duration": 2896,
    "start_time": "2024-06-19T11:32:44.237Z"
   },
   {
    "duration": 2975,
    "start_time": "2024-06-19T11:32:47.135Z"
   },
   {
    "duration": 3250,
    "start_time": "2024-06-19T11:32:50.112Z"
   },
   {
    "duration": 3010,
    "start_time": "2024-06-19T11:32:53.364Z"
   },
   {
    "duration": 3093,
    "start_time": "2024-06-19T11:32:56.376Z"
   },
   {
    "duration": 1966,
    "start_time": "2024-06-19T11:32:59.471Z"
   },
   {
    "duration": 2,
    "start_time": "2024-06-19T11:33:01.439Z"
   },
   {
    "duration": 163,
    "start_time": "2024-06-19T11:33:01.443Z"
   },
   {
    "duration": 11,
    "start_time": "2024-06-19T11:33:01.607Z"
   },
   {
    "duration": 36,
    "start_time": "2024-06-19T11:33:01.619Z"
   },
   {
    "duration": 36,
    "start_time": "2024-06-19T11:33:01.656Z"
   },
   {
    "duration": 30,
    "start_time": "2024-06-19T11:33:01.693Z"
   },
   {
    "duration": 47,
    "start_time": "2024-06-19T11:33:01.725Z"
   },
   {
    "duration": 67,
    "start_time": "2024-06-19T11:33:01.773Z"
   },
   {
    "duration": 479,
    "start_time": "2024-06-19T11:33:01.842Z"
   },
   {
    "duration": 527,
    "start_time": "2024-06-19T11:33:02.322Z"
   },
   {
    "duration": 745,
    "start_time": "2024-06-19T11:33:02.850Z"
   },
   {
    "duration": 1174,
    "start_time": "2024-06-19T11:33:03.597Z"
   },
   {
    "duration": 392,
    "start_time": "2024-06-19T11:33:04.773Z"
   },
   {
    "duration": 5,
    "start_time": "2024-06-19T11:33:05.171Z"
   },
   {
    "duration": 847,
    "start_time": "2024-06-19T11:33:05.177Z"
   },
   {
    "duration": 6,
    "start_time": "2024-06-19T11:33:06.026Z"
   },
   {
    "duration": 24,
    "start_time": "2024-06-19T11:33:06.033Z"
   },
   {
    "duration": 11,
    "start_time": "2024-06-19T11:33:06.058Z"
   },
   {
    "duration": 31,
    "start_time": "2024-06-19T11:33:06.071Z"
   },
   {
    "duration": 24,
    "start_time": "2024-06-19T11:33:06.105Z"
   },
   {
    "duration": 8959,
    "start_time": "2024-06-19T11:33:06.131Z"
   },
   {
    "duration": 12,
    "start_time": "2024-06-19T11:33:15.092Z"
   },
   {
    "duration": 5889,
    "start_time": "2024-06-19T11:33:15.105Z"
   },
   {
    "duration": 6,
    "start_time": "2024-06-19T11:33:21.170Z"
   },
   {
    "duration": 1424,
    "start_time": "2024-06-19T11:33:21.177Z"
   },
   {
    "duration": 6,
    "start_time": "2024-06-19T11:33:22.671Z"
   },
   {
    "duration": 57001,
    "start_time": "2024-06-19T11:33:22.678Z"
   },
   {
    "duration": 70,
    "start_time": "2024-06-19T11:34:19.680Z"
   },
   {
    "duration": 2490,
    "start_time": "2024-06-19T11:34:19.751Z"
   },
   {
    "duration": 31,
    "start_time": "2024-06-19T11:34:22.243Z"
   },
   {
    "duration": 1915,
    "start_time": "2024-06-19T11:34:22.275Z"
   },
   {
    "duration": 5,
    "start_time": "2024-06-19T11:34:24.192Z"
   },
   {
    "duration": 3285,
    "start_time": "2024-06-19T11:35:24.259Z"
   },
   {
    "duration": 3433,
    "start_time": "2024-06-19T11:35:27.546Z"
   },
   {
    "duration": 2938,
    "start_time": "2024-06-19T11:35:30.981Z"
   },
   {
    "duration": 2907,
    "start_time": "2024-06-19T11:35:33.921Z"
   },
   {
    "duration": 3211,
    "start_time": "2024-06-19T11:35:36.830Z"
   },
   {
    "duration": 2888,
    "start_time": "2024-06-19T11:35:40.043Z"
   },
   {
    "duration": 3082,
    "start_time": "2024-06-19T11:35:42.932Z"
   },
   {
    "duration": 1939,
    "start_time": "2024-06-19T11:35:46.016Z"
   },
   {
    "duration": 2,
    "start_time": "2024-06-19T11:35:47.957Z"
   },
   {
    "duration": 128,
    "start_time": "2024-06-19T11:35:47.961Z"
   },
   {
    "duration": 10,
    "start_time": "2024-06-19T11:35:48.091Z"
   },
   {
    "duration": 4,
    "start_time": "2024-06-19T11:35:48.102Z"
   },
   {
    "duration": 7,
    "start_time": "2024-06-19T11:35:48.107Z"
   },
   {
    "duration": 5,
    "start_time": "2024-06-19T11:35:48.115Z"
   },
   {
    "duration": 15,
    "start_time": "2024-06-19T11:35:48.121Z"
   },
   {
    "duration": 8,
    "start_time": "2024-06-19T11:35:48.137Z"
   },
   {
    "duration": 388,
    "start_time": "2024-06-19T11:35:48.146Z"
   },
   {
    "duration": 558,
    "start_time": "2024-06-19T11:35:48.536Z"
   },
   {
    "duration": 779,
    "start_time": "2024-06-19T11:35:49.096Z"
   },
   {
    "duration": 1294,
    "start_time": "2024-06-19T11:35:49.877Z"
   },
   {
    "duration": 377,
    "start_time": "2024-06-19T11:35:51.175Z"
   },
   {
    "duration": 5,
    "start_time": "2024-06-19T11:35:51.553Z"
   },
   {
    "duration": 873,
    "start_time": "2024-06-19T11:35:51.559Z"
   },
   {
    "duration": 5,
    "start_time": "2024-06-19T11:35:52.433Z"
   },
   {
    "duration": 31,
    "start_time": "2024-06-19T11:35:52.439Z"
   },
   {
    "duration": 12,
    "start_time": "2024-06-19T11:35:52.472Z"
   },
   {
    "duration": 39,
    "start_time": "2024-06-19T11:35:52.485Z"
   },
   {
    "duration": 22,
    "start_time": "2024-06-19T11:35:52.528Z"
   },
   {
    "duration": 7435,
    "start_time": "2024-06-19T11:35:52.551Z"
   },
   {
    "duration": 7,
    "start_time": "2024-06-19T11:35:59.987Z"
   },
   {
    "duration": 6076,
    "start_time": "2024-06-19T11:35:59.995Z"
   },
   {
    "duration": 97,
    "start_time": "2024-06-19T11:36:06.075Z"
   },
   {
    "duration": 903,
    "start_time": "2024-06-19T11:36:06.173Z"
   },
   {
    "duration": 6,
    "start_time": "2024-06-19T11:36:07.077Z"
   },
   {
    "duration": 55109,
    "start_time": "2024-06-19T11:36:07.084Z"
   },
   {
    "duration": 69,
    "start_time": "2024-06-19T11:37:02.195Z"
   },
   {
    "duration": 1552,
    "start_time": "2024-06-19T11:37:02.266Z"
   },
   {
    "duration": 12,
    "start_time": "2024-06-19T11:37:03.819Z"
   },
   {
    "duration": 1447,
    "start_time": "2024-06-19T11:37:03.832Z"
   },
   {
    "duration": 4,
    "start_time": "2024-06-19T11:37:05.281Z"
   },
   {
    "duration": 289,
    "start_time": "2024-06-19T11:43:21.291Z"
   },
   {
    "duration": 268,
    "start_time": "2024-06-19T11:43:45.387Z"
   },
   {
    "duration": 284,
    "start_time": "2024-06-19T11:43:48.955Z"
   },
   {
    "duration": 874,
    "start_time": "2024-06-19T11:57:38.058Z"
   },
   {
    "duration": 843,
    "start_time": "2024-06-19T11:57:58.355Z"
   },
   {
    "duration": 879,
    "start_time": "2024-06-19T11:58:53.948Z"
   },
   {
    "duration": 917,
    "start_time": "2024-06-19T11:59:04.013Z"
   },
   {
    "duration": 821,
    "start_time": "2024-06-19T12:00:41.502Z"
   },
   {
    "duration": 3222,
    "start_time": "2024-06-19T12:06:44.421Z"
   },
   {
    "duration": 3353,
    "start_time": "2024-06-19T12:06:47.645Z"
   },
   {
    "duration": 3013,
    "start_time": "2024-06-19T12:06:51.000Z"
   },
   {
    "duration": 2948,
    "start_time": "2024-06-19T12:06:54.016Z"
   },
   {
    "duration": 3311,
    "start_time": "2024-06-19T12:06:56.965Z"
   },
   {
    "duration": 3048,
    "start_time": "2024-06-19T12:07:00.279Z"
   },
   {
    "duration": 3160,
    "start_time": "2024-06-19T12:07:03.329Z"
   },
   {
    "duration": 1966,
    "start_time": "2024-06-19T12:07:06.491Z"
   },
   {
    "duration": 2,
    "start_time": "2024-06-19T12:07:08.459Z"
   },
   {
    "duration": 125,
    "start_time": "2024-06-19T12:07:08.463Z"
   },
   {
    "duration": 11,
    "start_time": "2024-06-19T12:07:08.589Z"
   },
   {
    "duration": 6,
    "start_time": "2024-06-19T12:07:08.601Z"
   },
   {
    "duration": 8,
    "start_time": "2024-06-19T12:07:08.608Z"
   },
   {
    "duration": 7,
    "start_time": "2024-06-19T12:07:08.617Z"
   },
   {
    "duration": 7,
    "start_time": "2024-06-19T12:07:08.625Z"
   },
   {
    "duration": 13,
    "start_time": "2024-06-19T12:07:08.633Z"
   },
   {
    "duration": 429,
    "start_time": "2024-06-19T12:07:08.648Z"
   },
   {
    "duration": 594,
    "start_time": "2024-06-19T12:07:09.079Z"
   },
   {
    "duration": 725,
    "start_time": "2024-06-19T12:07:09.675Z"
   },
   {
    "duration": 1075,
    "start_time": "2024-06-19T12:07:10.401Z"
   },
   {
    "duration": 463,
    "start_time": "2024-06-19T12:07:11.478Z"
   },
   {
    "duration": 4,
    "start_time": "2024-06-19T12:07:11.943Z"
   },
   {
    "duration": 870,
    "start_time": "2024-06-19T12:07:11.949Z"
   },
   {
    "duration": 4,
    "start_time": "2024-06-19T12:07:12.820Z"
   },
   {
    "duration": 32,
    "start_time": "2024-06-19T12:07:12.826Z"
   },
   {
    "duration": 4,
    "start_time": "2024-06-19T12:07:12.859Z"
   },
   {
    "duration": 29,
    "start_time": "2024-06-19T12:07:12.865Z"
   },
   {
    "duration": 31,
    "start_time": "2024-06-19T12:07:12.897Z"
   },
   {
    "duration": 7681,
    "start_time": "2024-06-19T12:07:12.929Z"
   },
   {
    "duration": 7,
    "start_time": "2024-06-19T12:07:20.611Z"
   },
   {
    "duration": 6254,
    "start_time": "2024-06-19T12:07:20.619Z"
   },
   {
    "duration": 6,
    "start_time": "2024-06-19T12:07:26.874Z"
   },
   {
    "duration": 1110,
    "start_time": "2024-06-19T12:07:26.881Z"
   },
   {
    "duration": 4,
    "start_time": "2024-06-19T12:07:27.993Z"
   },
   {
    "duration": 52874,
    "start_time": "2024-06-19T12:07:27.999Z"
   },
   {
    "duration": 66,
    "start_time": "2024-06-19T12:08:20.875Z"
   },
   {
    "duration": 1683,
    "start_time": "2024-06-19T12:08:20.943Z"
   },
   {
    "duration": 15,
    "start_time": "2024-06-19T12:08:22.627Z"
   },
   {
    "duration": 1484,
    "start_time": "2024-06-19T12:08:22.643Z"
   },
   {
    "duration": 4,
    "start_time": "2024-06-19T12:08:24.128Z"
   },
   {
    "duration": 3193,
    "start_time": "2024-06-19T12:09:46.606Z"
   },
   {
    "duration": 3426,
    "start_time": "2024-06-19T12:09:49.801Z"
   },
   {
    "duration": 2980,
    "start_time": "2024-06-19T12:09:53.229Z"
   },
   {
    "duration": 3005,
    "start_time": "2024-06-19T12:09:56.211Z"
   },
   {
    "duration": 3320,
    "start_time": "2024-06-19T12:09:59.218Z"
   },
   {
    "duration": 3044,
    "start_time": "2024-06-19T12:10:02.540Z"
   },
   {
    "duration": 3097,
    "start_time": "2024-06-19T12:10:05.586Z"
   },
   {
    "duration": 1918,
    "start_time": "2024-06-19T12:10:08.685Z"
   },
   {
    "duration": 2,
    "start_time": "2024-06-19T12:10:10.605Z"
   },
   {
    "duration": 97,
    "start_time": "2024-06-19T12:10:10.608Z"
   },
   {
    "duration": 10,
    "start_time": "2024-06-19T12:10:10.706Z"
   },
   {
    "duration": 19,
    "start_time": "2024-06-19T12:10:10.717Z"
   },
   {
    "duration": 11,
    "start_time": "2024-06-19T12:10:10.737Z"
   },
   {
    "duration": 8,
    "start_time": "2024-06-19T12:10:10.750Z"
   },
   {
    "duration": 5,
    "start_time": "2024-06-19T12:10:10.759Z"
   },
   {
    "duration": 10,
    "start_time": "2024-06-19T12:10:10.766Z"
   },
   {
    "duration": 381,
    "start_time": "2024-06-19T12:10:10.777Z"
   },
   {
    "duration": 567,
    "start_time": "2024-06-19T12:10:11.159Z"
   },
   {
    "duration": 735,
    "start_time": "2024-06-19T12:10:11.728Z"
   },
   {
    "duration": 1007,
    "start_time": "2024-06-19T12:10:12.465Z"
   },
   {
    "duration": 382,
    "start_time": "2024-06-19T12:10:13.473Z"
   },
   {
    "duration": 14,
    "start_time": "2024-06-19T12:10:13.857Z"
   },
   {
    "duration": 962,
    "start_time": "2024-06-19T12:10:13.872Z"
   },
   {
    "duration": 40,
    "start_time": "2024-06-19T12:10:14.835Z"
   },
   {
    "duration": 35,
    "start_time": "2024-06-19T12:10:14.876Z"
   },
   {
    "duration": 9,
    "start_time": "2024-06-19T12:10:14.912Z"
   },
   {
    "duration": 11,
    "start_time": "2024-06-19T12:10:14.922Z"
   },
   {
    "duration": 16,
    "start_time": "2024-06-19T12:10:14.934Z"
   },
   {
    "duration": 7919,
    "start_time": "2024-06-19T12:10:14.952Z"
   },
   {
    "duration": 8,
    "start_time": "2024-06-19T12:10:22.872Z"
   },
   {
    "duration": 6192,
    "start_time": "2024-06-19T12:10:22.881Z"
   },
   {
    "duration": 6,
    "start_time": "2024-06-19T12:10:29.076Z"
   },
   {
    "duration": 1517,
    "start_time": "2024-06-19T12:10:29.172Z"
   },
   {
    "duration": 5,
    "start_time": "2024-06-19T12:10:30.690Z"
   },
   {
    "duration": 53988,
    "start_time": "2024-06-19T12:10:30.696Z"
   },
   {
    "duration": 68,
    "start_time": "2024-06-19T12:11:24.685Z"
   },
   {
    "duration": 1849,
    "start_time": "2024-06-19T12:11:24.755Z"
   },
   {
    "duration": 17,
    "start_time": "2024-06-19T12:11:26.605Z"
   },
   {
    "duration": 1635,
    "start_time": "2024-06-19T12:11:26.623Z"
   },
   {
    "duration": 13,
    "start_time": "2024-06-19T12:11:28.260Z"
   },
   {
    "duration": 2,
    "start_time": "2024-06-19T12:38:07.977Z"
   },
   {
    "duration": 100,
    "start_time": "2024-06-19T12:40:52.326Z"
   },
   {
    "duration": 12,
    "start_time": "2024-06-19T12:52:26.974Z"
   },
   {
    "duration": 3259,
    "start_time": "2024-06-19T12:54:31.528Z"
   },
   {
    "duration": 3410,
    "start_time": "2024-06-19T12:54:34.789Z"
   },
   {
    "duration": 2938,
    "start_time": "2024-06-19T12:54:38.201Z"
   },
   {
    "duration": 2890,
    "start_time": "2024-06-19T12:54:41.142Z"
   },
   {
    "duration": 3340,
    "start_time": "2024-06-19T12:54:44.033Z"
   },
   {
    "duration": 3037,
    "start_time": "2024-06-19T12:54:47.375Z"
   },
   {
    "duration": 3155,
    "start_time": "2024-06-19T12:54:50.413Z"
   },
   {
    "duration": 1966,
    "start_time": "2024-06-19T12:54:53.570Z"
   },
   {
    "duration": 3,
    "start_time": "2024-06-19T12:54:55.537Z"
   },
   {
    "duration": 133,
    "start_time": "2024-06-19T12:54:55.542Z"
   },
   {
    "duration": 10,
    "start_time": "2024-06-19T12:54:55.677Z"
   },
   {
    "duration": 7,
    "start_time": "2024-06-19T12:54:55.688Z"
   },
   {
    "duration": 7,
    "start_time": "2024-06-19T12:54:55.696Z"
   },
   {
    "duration": 4,
    "start_time": "2024-06-19T12:54:55.705Z"
   },
   {
    "duration": 5,
    "start_time": "2024-06-19T12:54:55.710Z"
   },
   {
    "duration": 8,
    "start_time": "2024-06-19T12:54:55.716Z"
   },
   {
    "duration": 409,
    "start_time": "2024-06-19T12:54:55.725Z"
   },
   {
    "duration": 555,
    "start_time": "2024-06-19T12:54:56.135Z"
   },
   {
    "duration": 751,
    "start_time": "2024-06-19T12:54:56.692Z"
   },
   {
    "duration": 1226,
    "start_time": "2024-06-19T12:54:57.445Z"
   },
   {
    "duration": 356,
    "start_time": "2024-06-19T12:54:58.675Z"
   },
   {
    "duration": 4,
    "start_time": "2024-06-19T12:54:59.033Z"
   },
   {
    "duration": 889,
    "start_time": "2024-06-19T12:54:59.038Z"
   },
   {
    "duration": 5,
    "start_time": "2024-06-19T12:54:59.928Z"
   },
   {
    "duration": 13,
    "start_time": "2024-06-19T12:54:59.934Z"
   },
   {
    "duration": 26,
    "start_time": "2024-06-19T12:54:59.948Z"
   },
   {
    "duration": 8,
    "start_time": "2024-06-19T12:54:59.975Z"
   },
   {
    "duration": 15,
    "start_time": "2024-06-19T12:54:59.986Z"
   },
   {
    "duration": 8010,
    "start_time": "2024-06-19T12:55:00.002Z"
   },
   {
    "duration": 5760,
    "start_time": "2024-06-19T12:55:08.014Z"
   },
   {
    "duration": 1614,
    "start_time": "2024-06-19T12:55:13.779Z"
   },
   {
    "duration": 54299,
    "start_time": "2024-06-19T12:55:15.394Z"
   },
   {
    "duration": 1857,
    "start_time": "2024-06-19T12:56:09.694Z"
   },
   {
    "duration": 1568,
    "start_time": "2024-06-19T12:56:11.553Z"
   },
   {
    "duration": 6,
    "start_time": "2024-06-19T12:56:13.123Z"
   },
   {
    "duration": 107,
    "start_time": "2024-06-19T12:56:13.131Z"
   },
   {
    "duration": 2,
    "start_time": "2024-06-19T12:59:00.434Z"
   },
   {
    "duration": 101,
    "start_time": "2024-06-19T12:59:05.934Z"
   },
   {
    "duration": 3,
    "start_time": "2024-06-19T12:59:21.809Z"
   },
   {
    "duration": 89,
    "start_time": "2024-06-19T12:59:24.118Z"
   },
   {
    "duration": 5,
    "start_time": "2024-06-19T13:04:52.961Z"
   },
   {
    "duration": 8,
    "start_time": "2024-06-19T13:05:02.190Z"
   },
   {
    "duration": 8,
    "start_time": "2024-06-19T13:07:56.219Z"
   },
   {
    "duration": 7,
    "start_time": "2024-06-19T13:08:00.986Z"
   },
   {
    "duration": 137,
    "start_time": "2024-06-19T13:09:26.406Z"
   },
   {
    "duration": 15,
    "start_time": "2024-06-19T13:11:08.584Z"
   },
   {
    "duration": 5,
    "start_time": "2024-06-19T13:12:07.759Z"
   },
   {
    "duration": 9,
    "start_time": "2024-06-19T13:12:15.829Z"
   },
   {
    "duration": 943,
    "start_time": "2024-06-19T13:13:40.130Z"
   },
   {
    "duration": 443,
    "start_time": "2024-06-19T13:14:00.814Z"
   },
   {
    "duration": 435,
    "start_time": "2024-06-19T13:15:04.262Z"
   },
   {
    "duration": 7387,
    "start_time": "2024-06-19T19:21:23.571Z"
   },
   {
    "duration": 13758,
    "start_time": "2024-06-19T19:21:30.960Z"
   },
   {
    "duration": 3323,
    "start_time": "2024-06-19T19:21:44.723Z"
   },
   {
    "duration": 7002,
    "start_time": "2024-06-19T19:21:48.048Z"
   },
   {
    "duration": 4156,
    "start_time": "2024-06-19T19:21:55.052Z"
   },
   {
    "duration": 17068,
    "start_time": "2024-06-19T19:21:59.210Z"
   },
   {
    "duration": 2361,
    "start_time": "2024-06-19T19:22:16.280Z"
   },
   {
    "duration": 2,
    "start_time": "2024-06-19T19:22:18.643Z"
   },
   {
    "duration": 203,
    "start_time": "2024-06-19T19:22:18.648Z"
   },
   {
    "duration": 14,
    "start_time": "2024-06-19T19:22:18.852Z"
   },
   {
    "duration": 11,
    "start_time": "2024-06-19T19:22:18.867Z"
   },
   {
    "duration": 13,
    "start_time": "2024-06-19T19:22:18.880Z"
   },
   {
    "duration": 7,
    "start_time": "2024-06-19T19:22:18.895Z"
   },
   {
    "duration": 17,
    "start_time": "2024-06-19T19:22:18.903Z"
   },
   {
    "duration": 19,
    "start_time": "2024-06-19T19:22:18.922Z"
   },
   {
    "duration": 513,
    "start_time": "2024-06-19T19:22:18.943Z"
   },
   {
    "duration": 733,
    "start_time": "2024-06-19T19:22:19.461Z"
   },
   {
    "duration": 801,
    "start_time": "2024-06-19T19:22:20.197Z"
   },
   {
    "duration": 4,
    "start_time": "2024-06-19T19:22:21.000Z"
   },
   {
    "duration": 1563,
    "start_time": "2024-06-19T19:22:21.006Z"
   },
   {
    "duration": 431,
    "start_time": "2024-06-19T19:22:22.668Z"
   },
   {
    "duration": 6,
    "start_time": "2024-06-19T19:22:23.101Z"
   },
   {
    "duration": 1287,
    "start_time": "2024-06-19T19:22:23.109Z"
   },
   {
    "duration": 154,
    "start_time": "2024-06-19T19:22:24.397Z"
   },
   {
    "duration": 0,
    "start_time": "2024-06-19T19:22:24.553Z"
   },
   {
    "duration": 0,
    "start_time": "2024-06-19T19:22:24.561Z"
   },
   {
    "duration": 0,
    "start_time": "2024-06-19T19:22:24.562Z"
   },
   {
    "duration": 0,
    "start_time": "2024-06-19T19:22:24.564Z"
   },
   {
    "duration": 0,
    "start_time": "2024-06-19T19:22:24.565Z"
   },
   {
    "duration": 0,
    "start_time": "2024-06-19T19:22:24.566Z"
   },
   {
    "duration": 0,
    "start_time": "2024-06-19T19:22:24.567Z"
   },
   {
    "duration": 0,
    "start_time": "2024-06-19T19:22:24.568Z"
   },
   {
    "duration": 0,
    "start_time": "2024-06-19T19:22:24.569Z"
   },
   {
    "duration": 0,
    "start_time": "2024-06-19T19:22:24.570Z"
   },
   {
    "duration": 0,
    "start_time": "2024-06-19T19:22:24.571Z"
   },
   {
    "duration": 0,
    "start_time": "2024-06-19T19:22:24.573Z"
   },
   {
    "duration": 0,
    "start_time": "2024-06-19T19:22:24.574Z"
   },
   {
    "duration": 0,
    "start_time": "2024-06-19T19:22:24.575Z"
   },
   {
    "duration": 0,
    "start_time": "2024-06-19T19:22:24.576Z"
   },
   {
    "duration": 0,
    "start_time": "2024-06-19T19:22:24.577Z"
   },
   {
    "duration": 22,
    "start_time": "2024-06-19T19:23:18.240Z"
   },
   {
    "duration": 21,
    "start_time": "2024-06-19T19:25:58.225Z"
   },
   {
    "duration": 584,
    "start_time": "2024-06-19T19:26:13.855Z"
   },
   {
    "duration": 1647,
    "start_time": "2024-06-19T19:26:24.458Z"
   },
   {
    "duration": 611,
    "start_time": "2024-06-19T19:26:53.858Z"
   },
   {
    "duration": 647,
    "start_time": "2024-06-19T19:27:20.296Z"
   },
   {
    "duration": 758,
    "start_time": "2024-06-19T19:28:05.147Z"
   },
   {
    "duration": 2192,
    "start_time": "2024-06-19T19:29:32.468Z"
   },
   {
    "duration": 2137,
    "start_time": "2024-06-19T19:29:45.400Z"
   },
   {
    "duration": 2182,
    "start_time": "2024-06-19T19:30:15.869Z"
   },
   {
    "duration": 2039,
    "start_time": "2024-06-19T19:30:30.088Z"
   },
   {
    "duration": 15,
    "start_time": "2024-06-19T19:33:56.597Z"
   },
   {
    "duration": 274,
    "start_time": "2024-06-19T19:35:56.023Z"
   },
   {
    "duration": 538,
    "start_time": "2024-06-19T19:36:31.004Z"
   },
   {
    "duration": 384,
    "start_time": "2024-06-19T19:36:56.242Z"
   },
   {
    "duration": 4,
    "start_time": "2024-06-19T19:50:30.290Z"
   },
   {
    "duration": 12,
    "start_time": "2024-06-19T19:52:56.048Z"
   },
   {
    "duration": 4,
    "start_time": "2024-06-19T19:53:28.417Z"
   },
   {
    "duration": 17,
    "start_time": "2024-06-19T19:53:30.409Z"
   },
   {
    "duration": 65,
    "start_time": "2024-06-19T19:54:02.476Z"
   },
   {
    "duration": 4,
    "start_time": "2024-06-19T19:54:11.051Z"
   },
   {
    "duration": 62,
    "start_time": "2024-06-19T19:54:33.323Z"
   },
   {
    "duration": 64,
    "start_time": "2024-06-19T19:54:50.868Z"
   },
   {
    "duration": 6,
    "start_time": "2024-06-19T19:55:17.094Z"
   },
   {
    "duration": 17,
    "start_time": "2024-06-19T19:55:21.057Z"
   },
   {
    "duration": 11,
    "start_time": "2024-06-19T19:56:28.995Z"
   },
   {
    "duration": 11,
    "start_time": "2024-06-19T19:56:45.120Z"
   },
   {
    "duration": 5,
    "start_time": "2024-06-19T19:56:49.635Z"
   },
   {
    "duration": 16,
    "start_time": "2024-06-19T19:56:51.689Z"
   },
   {
    "duration": 5,
    "start_time": "2024-06-19T19:58:11.165Z"
   },
   {
    "duration": 18,
    "start_time": "2024-06-19T19:58:13.577Z"
   },
   {
    "duration": 82,
    "start_time": "2024-06-19T19:58:46.710Z"
   },
   {
    "duration": 4,
    "start_time": "2024-06-19T19:58:53.870Z"
   },
   {
    "duration": 5,
    "start_time": "2024-06-19T19:58:56.967Z"
   },
   {
    "duration": 16,
    "start_time": "2024-06-19T19:59:03.570Z"
   },
   {
    "duration": 5,
    "start_time": "2024-06-19T20:01:08.592Z"
   },
   {
    "duration": 20,
    "start_time": "2024-06-19T20:01:11.188Z"
   },
   {
    "duration": 20,
    "start_time": "2024-06-19T20:02:17.124Z"
   },
   {
    "duration": 8,
    "start_time": "2024-06-19T20:05:09.060Z"
   },
   {
    "duration": 8,
    "start_time": "2024-06-19T20:05:20.730Z"
   },
   {
    "duration": 5,
    "start_time": "2024-06-19T20:07:08.680Z"
   },
   {
    "duration": 5,
    "start_time": "2024-06-19T20:14:52.667Z"
   },
   {
    "duration": 3,
    "start_time": "2024-06-19T20:16:11.954Z"
   },
   {
    "duration": 3265,
    "start_time": "2024-06-19T20:18:06.635Z"
   },
   {
    "duration": 3584,
    "start_time": "2024-06-19T20:18:09.903Z"
   },
   {
    "duration": 2981,
    "start_time": "2024-06-19T20:18:13.489Z"
   },
   {
    "duration": 3092,
    "start_time": "2024-06-19T20:18:16.473Z"
   },
   {
    "duration": 3032,
    "start_time": "2024-06-19T20:18:19.567Z"
   },
   {
    "duration": 3111,
    "start_time": "2024-06-19T20:18:22.601Z"
   },
   {
    "duration": 2077,
    "start_time": "2024-06-19T20:18:25.714Z"
   },
   {
    "duration": 4,
    "start_time": "2024-06-19T20:18:27.793Z"
   },
   {
    "duration": 135,
    "start_time": "2024-06-19T20:18:27.799Z"
   },
   {
    "duration": 15,
    "start_time": "2024-06-19T20:18:27.937Z"
   },
   {
    "duration": 28,
    "start_time": "2024-06-19T20:18:27.954Z"
   },
   {
    "duration": 20,
    "start_time": "2024-06-19T20:18:27.984Z"
   },
   {
    "duration": 37,
    "start_time": "2024-06-19T20:18:28.006Z"
   },
   {
    "duration": 34,
    "start_time": "2024-06-19T20:18:28.045Z"
   },
   {
    "duration": 26,
    "start_time": "2024-06-19T20:18:28.080Z"
   },
   {
    "duration": 460,
    "start_time": "2024-06-19T20:18:28.108Z"
   },
   {
    "duration": 692,
    "start_time": "2024-06-19T20:18:28.570Z"
   },
   {
    "duration": 838,
    "start_time": "2024-06-19T20:18:29.264Z"
   },
   {
    "duration": 4,
    "start_time": "2024-06-19T20:18:30.104Z"
   },
   {
    "duration": 1753,
    "start_time": "2024-06-19T20:18:30.109Z"
   },
   {
    "duration": 421,
    "start_time": "2024-06-19T20:18:31.868Z"
   },
   {
    "duration": 6,
    "start_time": "2024-06-19T20:18:32.291Z"
   },
   {
    "duration": 1150,
    "start_time": "2024-06-19T20:18:32.299Z"
   },
   {
    "duration": 2025,
    "start_time": "2024-06-19T20:18:33.451Z"
   },
   {
    "duration": 344,
    "start_time": "2024-06-19T20:18:35.478Z"
   },
   {
    "duration": 5,
    "start_time": "2024-06-19T20:18:35.824Z"
   },
   {
    "duration": 54,
    "start_time": "2024-06-19T20:18:35.830Z"
   },
   {
    "duration": 7,
    "start_time": "2024-06-19T20:18:35.888Z"
   },
   {
    "duration": 23,
    "start_time": "2024-06-19T20:18:35.897Z"
   },
   {
    "duration": 7,
    "start_time": "2024-06-19T20:18:35.924Z"
   },
   {
    "duration": 18,
    "start_time": "2024-06-19T20:18:35.933Z"
   },
   {
    "duration": 5448,
    "start_time": "2024-06-19T20:18:35.952Z"
   },
   {
    "duration": 7969,
    "start_time": "2024-06-19T20:18:41.402Z"
   },
   {
    "duration": 2011,
    "start_time": "2024-06-19T20:18:49.462Z"
   },
   {
    "duration": 27281,
    "start_time": "2024-06-19T20:18:51.475Z"
   },
   {
    "duration": 1715,
    "start_time": "2024-06-19T20:19:18.758Z"
   },
   {
    "duration": 1230,
    "start_time": "2024-06-19T20:19:20.475Z"
   },
   {
    "duration": 3,
    "start_time": "2024-06-19T20:19:21.707Z"
   },
   {
    "duration": 124,
    "start_time": "2024-06-19T20:19:21.711Z"
   },
   {
    "duration": 6,
    "start_time": "2024-06-19T20:19:21.837Z"
   },
   {
    "duration": 44,
    "start_time": "2024-06-19T20:19:21.845Z"
   },
   {
    "duration": 559,
    "start_time": "2024-06-19T20:19:21.890Z"
   },
   {
    "duration": 10,
    "start_time": "2024-06-19T20:23:14.857Z"
   },
   {
    "duration": 12,
    "start_time": "2024-06-19T20:23:47.087Z"
   },
   {
    "duration": 10,
    "start_time": "2024-06-19T20:23:58.115Z"
   },
   {
    "duration": 545,
    "start_time": "2024-06-19T20:24:01.411Z"
   },
   {
    "duration": 4410,
    "start_time": "2024-06-19T20:27:50.313Z"
   },
   {
    "duration": 3855,
    "start_time": "2024-06-19T20:27:54.725Z"
   },
   {
    "duration": 3240,
    "start_time": "2024-06-19T20:27:58.583Z"
   },
   {
    "duration": 3255,
    "start_time": "2024-06-19T20:28:01.826Z"
   },
   {
    "duration": 3175,
    "start_time": "2024-06-19T20:28:05.084Z"
   },
   {
    "duration": 3310,
    "start_time": "2024-06-19T20:28:08.261Z"
   },
   {
    "duration": 2219,
    "start_time": "2024-06-19T20:28:11.574Z"
   },
   {
    "duration": 3,
    "start_time": "2024-06-19T20:28:13.795Z"
   },
   {
    "duration": 330,
    "start_time": "2024-06-19T20:28:13.799Z"
   },
   {
    "duration": 15,
    "start_time": "2024-06-19T20:28:14.131Z"
   },
   {
    "duration": 14,
    "start_time": "2024-06-19T20:28:14.148Z"
   },
   {
    "duration": 18,
    "start_time": "2024-06-19T20:28:14.164Z"
   },
   {
    "duration": 8,
    "start_time": "2024-06-19T20:28:14.184Z"
   },
   {
    "duration": 18,
    "start_time": "2024-06-19T20:28:14.194Z"
   },
   {
    "duration": 15,
    "start_time": "2024-06-19T20:28:14.214Z"
   },
   {
    "duration": 521,
    "start_time": "2024-06-19T20:28:14.232Z"
   },
   {
    "duration": 747,
    "start_time": "2024-06-19T20:28:14.755Z"
   },
   {
    "duration": 851,
    "start_time": "2024-06-19T20:28:15.504Z"
   },
   {
    "duration": 4,
    "start_time": "2024-06-19T20:28:16.357Z"
   },
   {
    "duration": 1707,
    "start_time": "2024-06-19T20:28:16.363Z"
   },
   {
    "duration": 435,
    "start_time": "2024-06-19T20:28:18.162Z"
   },
   {
    "duration": 6,
    "start_time": "2024-06-19T20:28:18.599Z"
   },
   {
    "duration": 1168,
    "start_time": "2024-06-19T20:28:18.606Z"
   },
   {
    "duration": 2097,
    "start_time": "2024-06-19T20:28:19.776Z"
   },
   {
    "duration": 378,
    "start_time": "2024-06-19T20:28:21.875Z"
   },
   {
    "duration": 9,
    "start_time": "2024-06-19T20:28:22.255Z"
   },
   {
    "duration": 37,
    "start_time": "2024-06-19T20:28:22.267Z"
   },
   {
    "duration": 13,
    "start_time": "2024-06-19T20:28:22.309Z"
   },
   {
    "duration": 19,
    "start_time": "2024-06-19T20:28:22.324Z"
   },
   {
    "duration": 19,
    "start_time": "2024-06-19T20:28:22.344Z"
   },
   {
    "duration": 26,
    "start_time": "2024-06-19T20:28:22.364Z"
   },
   {
    "duration": 5572,
    "start_time": "2024-06-19T20:28:22.392Z"
   },
   {
    "duration": 8101,
    "start_time": "2024-06-19T20:28:27.965Z"
   },
   {
    "duration": 1919,
    "start_time": "2024-06-19T20:28:36.160Z"
   },
   {
    "duration": 26985,
    "start_time": "2024-06-19T20:28:38.081Z"
   },
   {
    "duration": 1731,
    "start_time": "2024-06-19T20:29:05.068Z"
   },
   {
    "duration": 1241,
    "start_time": "2024-06-19T20:29:06.801Z"
   },
   {
    "duration": 3,
    "start_time": "2024-06-19T20:29:08.044Z"
   },
   {
    "duration": 18,
    "start_time": "2024-06-19T20:29:08.048Z"
   },
   {
    "duration": 17,
    "start_time": "2024-06-19T20:29:08.067Z"
   },
   {
    "duration": 12,
    "start_time": "2024-06-19T20:29:08.086Z"
   },
   {
    "duration": 528,
    "start_time": "2024-06-19T20:29:08.100Z"
   },
   {
    "duration": 6619,
    "start_time": "2024-06-20T10:28:15.349Z"
   },
   {
    "duration": 13548,
    "start_time": "2024-06-20T10:28:21.970Z"
   },
   {
    "duration": 3328,
    "start_time": "2024-06-20T10:28:35.520Z"
   },
   {
    "duration": 6504,
    "start_time": "2024-06-20T10:28:38.850Z"
   },
   {
    "duration": 4476,
    "start_time": "2024-06-20T10:28:45.356Z"
   },
   {
    "duration": 14314,
    "start_time": "2024-06-20T10:28:49.834Z"
   },
   {
    "duration": 2099,
    "start_time": "2024-06-20T10:29:04.150Z"
   },
   {
    "duration": 2,
    "start_time": "2024-06-20T10:29:06.251Z"
   },
   {
    "duration": 159,
    "start_time": "2024-06-20T10:29:06.254Z"
   },
   {
    "duration": 11,
    "start_time": "2024-06-20T10:29:06.417Z"
   },
   {
    "duration": 15,
    "start_time": "2024-06-20T10:29:06.429Z"
   },
   {
    "duration": 13,
    "start_time": "2024-06-20T10:29:06.445Z"
   },
   {
    "duration": 5,
    "start_time": "2024-06-20T10:29:06.459Z"
   },
   {
    "duration": 8,
    "start_time": "2024-06-20T10:29:06.465Z"
   },
   {
    "duration": 9,
    "start_time": "2024-06-20T10:29:06.474Z"
   },
   {
    "duration": 441,
    "start_time": "2024-06-20T10:29:06.484Z"
   },
   {
    "duration": 558,
    "start_time": "2024-06-20T10:29:06.926Z"
   },
   {
    "duration": 727,
    "start_time": "2024-06-20T10:29:07.485Z"
   },
   {
    "duration": 4,
    "start_time": "2024-06-20T10:29:08.213Z"
   },
   {
    "duration": 1665,
    "start_time": "2024-06-20T10:29:08.219Z"
   },
   {
    "duration": 456,
    "start_time": "2024-06-20T10:29:09.885Z"
   },
   {
    "duration": 5,
    "start_time": "2024-06-20T10:29:10.342Z"
   },
   {
    "duration": 989,
    "start_time": "2024-06-20T10:29:10.348Z"
   },
   {
    "duration": 1666,
    "start_time": "2024-06-20T10:29:11.338Z"
   },
   {
    "duration": 349,
    "start_time": "2024-06-20T10:29:13.005Z"
   },
   {
    "duration": 4,
    "start_time": "2024-06-20T10:29:13.355Z"
   },
   {
    "duration": 21,
    "start_time": "2024-06-20T10:29:13.360Z"
   },
   {
    "duration": 4,
    "start_time": "2024-06-20T10:29:13.384Z"
   },
   {
    "duration": 10,
    "start_time": "2024-06-20T10:29:13.389Z"
   },
   {
    "duration": 5,
    "start_time": "2024-06-20T10:29:13.400Z"
   },
   {
    "duration": 43,
    "start_time": "2024-06-20T10:29:13.406Z"
   },
   {
    "duration": 5148,
    "start_time": "2024-06-20T10:29:13.450Z"
   },
   {
    "duration": 4873,
    "start_time": "2024-06-20T10:29:18.599Z"
   },
   {
    "duration": 1426,
    "start_time": "2024-06-20T10:29:23.474Z"
   },
   {
    "duration": 22186,
    "start_time": "2024-06-20T10:29:24.970Z"
   },
   {
    "duration": 1396,
    "start_time": "2024-06-20T10:29:47.157Z"
   },
   {
    "duration": 1008,
    "start_time": "2024-06-20T10:29:48.554Z"
   },
   {
    "duration": 8,
    "start_time": "2024-06-20T10:29:49.563Z"
   },
   {
    "duration": 2,
    "start_time": "2024-06-20T10:29:49.572Z"
   },
   {
    "duration": 22,
    "start_time": "2024-06-20T10:29:49.575Z"
   },
   {
    "duration": 13,
    "start_time": "2024-06-20T10:29:49.598Z"
   },
   {
    "duration": 453,
    "start_time": "2024-06-20T10:29:49.612Z"
   },
   {
    "duration": 3169,
    "start_time": "2024-06-20T10:30:42.489Z"
   },
   {
    "duration": 3483,
    "start_time": "2024-06-20T10:30:45.660Z"
   },
   {
    "duration": 3473,
    "start_time": "2024-06-20T10:30:49.145Z"
   },
   {
    "duration": 2886,
    "start_time": "2024-06-20T10:30:52.621Z"
   },
   {
    "duration": 2939,
    "start_time": "2024-06-20T10:30:55.509Z"
   },
   {
    "duration": 3075,
    "start_time": "2024-06-20T10:30:58.450Z"
   },
   {
    "duration": 1658,
    "start_time": "2024-06-20T10:31:01.527Z"
   },
   {
    "duration": 3,
    "start_time": "2024-06-20T10:31:03.186Z"
   },
   {
    "duration": 172,
    "start_time": "2024-06-20T10:31:03.191Z"
   },
   {
    "duration": 11,
    "start_time": "2024-06-20T10:31:03.365Z"
   },
   {
    "duration": 6,
    "start_time": "2024-06-20T10:31:03.377Z"
   },
   {
    "duration": 9,
    "start_time": "2024-06-20T10:31:03.384Z"
   },
   {
    "duration": 8,
    "start_time": "2024-06-20T10:31:03.395Z"
   },
   {
    "duration": 4,
    "start_time": "2024-06-20T10:31:03.404Z"
   },
   {
    "duration": 9,
    "start_time": "2024-06-20T10:31:03.409Z"
   },
   {
    "duration": 418,
    "start_time": "2024-06-20T10:31:03.419Z"
   },
   {
    "duration": 539,
    "start_time": "2024-06-20T10:31:03.838Z"
   },
   {
    "duration": 709,
    "start_time": "2024-06-20T10:31:04.378Z"
   },
   {
    "duration": 3,
    "start_time": "2024-06-20T10:31:05.088Z"
   },
   {
    "duration": 1087,
    "start_time": "2024-06-20T10:31:05.093Z"
   },
   {
    "duration": 465,
    "start_time": "2024-06-20T10:31:06.182Z"
   },
   {
    "duration": 6,
    "start_time": "2024-06-20T10:31:06.649Z"
   },
   {
    "duration": 941,
    "start_time": "2024-06-20T10:31:06.656Z"
   },
   {
    "duration": 1632,
    "start_time": "2024-06-20T10:31:07.599Z"
   },
   {
    "duration": 370,
    "start_time": "2024-06-20T10:31:09.233Z"
   },
   {
    "duration": 4,
    "start_time": "2024-06-20T10:31:09.605Z"
   },
   {
    "duration": 42,
    "start_time": "2024-06-20T10:31:09.611Z"
   },
   {
    "duration": 11,
    "start_time": "2024-06-20T10:31:09.655Z"
   },
   {
    "duration": 7,
    "start_time": "2024-06-20T10:31:09.667Z"
   },
   {
    "duration": 8,
    "start_time": "2024-06-20T10:31:09.675Z"
   },
   {
    "duration": 13,
    "start_time": "2024-06-20T10:31:09.684Z"
   },
   {
    "duration": 5039,
    "start_time": "2024-06-20T10:31:09.698Z"
   },
   {
    "duration": 4939,
    "start_time": "2024-06-20T10:31:14.738Z"
   },
   {
    "duration": 1500,
    "start_time": "2024-06-20T10:31:19.681Z"
   },
   {
    "duration": 22192,
    "start_time": "2024-06-20T10:31:21.183Z"
   },
   {
    "duration": 1410,
    "start_time": "2024-06-20T10:31:43.377Z"
   },
   {
    "duration": 1045,
    "start_time": "2024-06-20T10:31:44.789Z"
   },
   {
    "duration": 2,
    "start_time": "2024-06-20T10:31:45.835Z"
   },
   {
    "duration": 23,
    "start_time": "2024-06-20T10:31:45.839Z"
   },
   {
    "duration": 32,
    "start_time": "2024-06-20T10:31:45.863Z"
   },
   {
    "duration": 24,
    "start_time": "2024-06-20T10:31:45.897Z"
   },
   {
    "duration": 462,
    "start_time": "2024-06-20T10:31:45.923Z"
   },
   {
    "duration": 4448,
    "start_time": "2024-06-20T10:32:13.032Z"
   },
   {
    "duration": 3428,
    "start_time": "2024-06-20T10:32:17.483Z"
   },
   {
    "duration": 2910,
    "start_time": "2024-06-20T10:32:20.913Z"
   },
   {
    "duration": 2889,
    "start_time": "2024-06-20T10:32:23.825Z"
   },
   {
    "duration": 2953,
    "start_time": "2024-06-20T10:32:26.715Z"
   },
   {
    "duration": 3039,
    "start_time": "2024-06-20T10:32:29.670Z"
   },
   {
    "duration": 1667,
    "start_time": "2024-06-20T10:32:32.711Z"
   },
   {
    "duration": 3,
    "start_time": "2024-06-20T10:32:34.379Z"
   },
   {
    "duration": 123,
    "start_time": "2024-06-20T10:32:34.384Z"
   },
   {
    "duration": 12,
    "start_time": "2024-06-20T10:32:34.511Z"
   },
   {
    "duration": 10,
    "start_time": "2024-06-20T10:32:34.524Z"
   },
   {
    "duration": 18,
    "start_time": "2024-06-20T10:32:34.535Z"
   },
   {
    "duration": 6,
    "start_time": "2024-06-20T10:32:34.554Z"
   },
   {
    "duration": 5,
    "start_time": "2024-06-20T10:32:34.561Z"
   },
   {
    "duration": 7,
    "start_time": "2024-06-20T10:32:34.571Z"
   },
   {
    "duration": 442,
    "start_time": "2024-06-20T10:32:34.579Z"
   },
   {
    "duration": 555,
    "start_time": "2024-06-20T10:32:35.023Z"
   },
   {
    "duration": 696,
    "start_time": "2024-06-20T10:32:35.579Z"
   },
   {
    "duration": 4,
    "start_time": "2024-06-20T10:32:36.277Z"
   },
   {
    "duration": 1198,
    "start_time": "2024-06-20T10:32:36.283Z"
   },
   {
    "duration": 365,
    "start_time": "2024-06-20T10:32:37.571Z"
   },
   {
    "duration": 4,
    "start_time": "2024-06-20T10:32:37.938Z"
   },
   {
    "duration": 951,
    "start_time": "2024-06-20T10:32:37.943Z"
   },
   {
    "duration": 1609,
    "start_time": "2024-06-20T10:32:38.895Z"
   },
   {
    "duration": 323,
    "start_time": "2024-06-20T10:32:40.505Z"
   },
   {
    "duration": 4,
    "start_time": "2024-06-20T10:32:40.829Z"
   },
   {
    "duration": 18,
    "start_time": "2024-06-20T10:32:40.834Z"
   },
   {
    "duration": 5,
    "start_time": "2024-06-20T10:32:40.855Z"
   },
   {
    "duration": 13,
    "start_time": "2024-06-20T10:32:40.861Z"
   },
   {
    "duration": 9,
    "start_time": "2024-06-20T10:32:40.875Z"
   },
   {
    "duration": 5,
    "start_time": "2024-06-20T10:32:40.885Z"
   },
   {
    "duration": 5041,
    "start_time": "2024-06-20T10:32:40.892Z"
   },
   {
    "duration": 4846,
    "start_time": "2024-06-20T10:32:45.935Z"
   },
   {
    "duration": 1310,
    "start_time": "2024-06-20T10:32:50.871Z"
   },
   {
    "duration": 23583,
    "start_time": "2024-06-20T10:32:52.182Z"
   },
   {
    "duration": 1414,
    "start_time": "2024-06-20T10:33:15.766Z"
   },
   {
    "duration": 1092,
    "start_time": "2024-06-20T10:33:17.182Z"
   },
   {
    "duration": 3,
    "start_time": "2024-06-20T10:33:18.275Z"
   },
   {
    "duration": 28,
    "start_time": "2024-06-20T10:33:18.279Z"
   },
   {
    "duration": 39,
    "start_time": "2024-06-20T10:33:18.308Z"
   },
   {
    "duration": 20,
    "start_time": "2024-06-20T10:33:18.349Z"
   },
   {
    "duration": 421,
    "start_time": "2024-06-20T10:33:18.370Z"
   }
  ],
  "kernelspec": {
   "display_name": "Python 3 (ipykernel)",
   "language": "python",
   "name": "python3"
  },
  "language_info": {
   "codemirror_mode": {
    "name": "ipython",
    "version": 3
   },
   "file_extension": ".py",
   "mimetype": "text/x-python",
   "name": "python",
   "nbconvert_exporter": "python",
   "pygments_lexer": "ipython3",
   "version": "3.9.18"
  },
  "toc": {
   "base_numbering": 1,
   "nav_menu": {},
   "number_sections": true,
   "sideBar": true,
   "skip_h1_title": true,
   "title_cell": "Содержание",
   "title_sidebar": "Contents",
   "toc_cell": true,
   "toc_position": {
    "height": "calc(100% - 180px)",
    "left": "10px",
    "top": "150px",
    "width": "243px"
   },
   "toc_section_display": true,
   "toc_window_display": true
  },
  "widgets": {
   "application/vnd.jupyter.widget-state+json": {
    "state": {},
    "version_major": 2,
    "version_minor": 0
   }
  }
 },
 "nbformat": 4,
 "nbformat_minor": 4
}
