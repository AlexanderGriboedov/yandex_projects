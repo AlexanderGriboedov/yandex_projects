{
 "cells": [
  {
   "cell_type": "markdown",
   "metadata": {},
   "source": [
    "# Классификация комментариев пользователей интернет-магазина"
   ]
  },
  {
   "cell_type": "markdown",
   "metadata": {},
   "source": [
    "## Описание исследования\n",
    "\n",
    "В новом сервисе интернет-магазина пользователи могут редактировать и дополнять описания товаров, как в вики-сообществах. Магазину требуется инструмент, который будет искать токсичные комментарии и отправлять их на модерацию.\n",
    "\n",
    "Для этого необходимо решить задачу бинарной классификации и обучить модель для классификации комментариев на позитивные и негативные на основе набора данных с разметкой о токсичности правок (обучение с учителем).\n",
    "\n",
    "Качество модели проверяется с помощью метрики *F1*, значение которой на тестовой выборке должно быть не меньше 0.75."
   ]
  },
  {
   "cell_type": "markdown",
   "metadata": {},
   "source": [
    "## Цель исследования\n",
    "\n",
    "Целью исследования является построение модели для классификации комментариев пользователей на позитивные и негативные со значением метрики качества *F1* не меньше 0.75"
   ]
  },
  {
   "cell_type": "markdown",
   "metadata": {},
   "source": [
    "## Задачи исследования\n",
    "\n",
    "- Загрузка и первичное знакомство с данными;\n",
    "- Предобработка данных, включающая очистку текста от незначимых символов;\n",
    "- Подготовка текстов для обучения моделей: токенизация, лемматизация и векторизация с помощью `TfidfVectorizer`;\n",
    "- Обучение с учителем следующих моделей:\n",
    " - `CatBoostClassifier`;\n",
    " - `RandomForestClassifier`;\n",
    " - `LogisticRegression`.\n",
    "- Выбор лучшей модели и проверка её качества на тестовой выборке."
   ]
  },
  {
   "cell_type": "markdown",
   "metadata": {},
   "source": [
    "## Исходные данные\n",
    "\n",
    "Входной признак:\n",
    "\n",
    "`text` — текст комментария.\n",
    "\n",
    "\n",
    "Целевой признак:\n",
    "\n",
    "`toxic` — класс, к которому относится комментарий: `0`- нетоксичный, `1` - токсичный."
   ]
  },
  {
   "cell_type": "markdown",
   "metadata": {
    "toc": true
   },
   "source": [
    "<h1>Содержание<span class=\"tocSkip\"></span></h1>\n",
    "<div class=\"toc\"><ul class=\"toc-item\"><li><span><a href=\"#Описание-исследования\" data-toc-modified-id=\"Описание-исследования-1\"><span class=\"toc-item-num\">1&nbsp;&nbsp;</span>Описание исследования</a></span></li><li><span><a href=\"#Цель-исследования\" data-toc-modified-id=\"Цель-исследования-2\"><span class=\"toc-item-num\">2&nbsp;&nbsp;</span>Цель исследования</a></span></li><li><span><a href=\"#Задачи-исследования\" data-toc-modified-id=\"Задачи-исследования-3\"><span class=\"toc-item-num\">3&nbsp;&nbsp;</span>Задачи исследования</a></span></li><li><span><a href=\"#Исходные-данные\" data-toc-modified-id=\"Исходные-данные-4\"><span class=\"toc-item-num\">4&nbsp;&nbsp;</span>Исходные данные</a></span></li><li><span><a href=\"#Импорт-библиотек-и-знакомство-с-данными\" data-toc-modified-id=\"Импорт-библиотек-и-знакомство-с-данными-5\"><span class=\"toc-item-num\">5&nbsp;&nbsp;</span>Импорт библиотек и знакомство с данными</a></span></li><li><span><a href=\"#Предобработка-данных\" data-toc-modified-id=\"Предобработка-данных-6\"><span class=\"toc-item-num\">6&nbsp;&nbsp;</span>Предобработка данных</a></span></li><li><span><a href=\"#Подготовка-данных-для-обучения-моделей\" data-toc-modified-id=\"Подготовка-данных-для-обучения-моделей-7\"><span class=\"toc-item-num\">7&nbsp;&nbsp;</span>Подготовка данных для обучения моделей</a></span></li><li><span><a href=\"#Обучение-с-учителем.-Задача-бинарной-классификации\" data-toc-modified-id=\"Обучение-с-учителем.-Задача-бинарной-классификации-8\"><span class=\"toc-item-num\">8&nbsp;&nbsp;</span>Обучение с учителем. Задача бинарной классификации</a></span><ul class=\"toc-item\"><li><span><a href=\"#Обучение-модели-CatBoostClassifier\" data-toc-modified-id=\"Обучение-модели-CatBoostClassifier-8.1\"><span class=\"toc-item-num\">8.1&nbsp;&nbsp;</span>Обучение модели CatBoostClassifier</a></span></li><li><span><a href=\"#Обучение-модели-RandomForestClassifier\" data-toc-modified-id=\"Обучение-модели-RandomForestClassifier-8.2\"><span class=\"toc-item-num\">8.2&nbsp;&nbsp;</span>Обучение модели RandomForestClassifier</a></span></li><li><span><a href=\"#Обучение-модели-логистической-регрессии\" data-toc-modified-id=\"Обучение-модели-логистической-регрессии-8.3\"><span class=\"toc-item-num\">8.3&nbsp;&nbsp;</span>Обучение модели логистической регрессии</a></span></li><li><span><a href=\"#Проверка-лучшей-модели-на-тестовой-выборке\" data-toc-modified-id=\"Проверка-лучшей-модели-на-тестовой-выборке-8.4\"><span class=\"toc-item-num\">8.4&nbsp;&nbsp;</span>Проверка лучшей модели на тестовой выборке</a></span></li></ul></li><li><span><a href=\"#Общий-вывод\" data-toc-modified-id=\"Общий-вывод-9\"><span class=\"toc-item-num\">9&nbsp;&nbsp;</span>Общий вывод</a></span></li><li><span><a href=\"#Чек-лист-проверки\" data-toc-modified-id=\"Чек-лист-проверки-10\"><span class=\"toc-item-num\">10&nbsp;&nbsp;</span>Чек-лист проверки</a></span></li></ul></div>"
   ]
  },
  {
   "cell_type": "markdown",
   "metadata": {},
   "source": [
    "## Импорт библиотек и знакомство с данными"
   ]
  },
  {
   "cell_type": "code",
   "execution_count": 1,
   "metadata": {},
   "outputs": [],
   "source": [
    "# обновляем библиотеку sklearn\n",
    "!pip install --upgrade scikit-learn -q"
   ]
  },
  {
   "cell_type": "code",
   "execution_count": 2,
   "metadata": {},
   "outputs": [],
   "source": [
    "# обновляем библиотеку tqdm\n",
    "!pip install --upgrade tqdm -q"
   ]
  },
  {
   "cell_type": "code",
   "execution_count": 3,
   "metadata": {},
   "outputs": [
    {
     "name": "stdout",
     "output_type": "stream",
     "text": [
      "\u001b[38;5;2m✔ Download and installation successful\u001b[0m\r\n",
      "You can now load the package via spacy.load('en_core_web_md')\r\n"
     ]
    }
   ],
   "source": [
    "# загружаем модель для английского языка\n",
    "!python -m spacy download en_core_web_md -q"
   ]
  },
  {
   "cell_type": "code",
   "execution_count": 4,
   "metadata": {},
   "outputs": [],
   "source": [
    "# делаем необходимые импорты\n",
    "import re\n",
    "\n",
    "import nltk\n",
    "import numpy as np\n",
    "import pandas as pd\n",
    "import spacy\n",
    "\n",
    "from nltk.corpus import stopwords as nltk_stopwords\n",
    "\n",
    "from catboost import CatBoostClassifier\n",
    "from sklearn.ensemble import RandomForestClassifier\n",
    "from sklearn.linear_model import LogisticRegression\n",
    "\n",
    "from sklearn.metrics import f1_score\n",
    "from sklearn.model_selection import train_test_split, GridSearchCV\n",
    "from sklearn.feature_extraction.text import TfidfVectorizer\n",
    "from sklearn.pipeline import Pipeline\n",
    "\n",
    "from tqdm import notebook"
   ]
  },
  {
   "cell_type": "code",
   "execution_count": 5,
   "metadata": {},
   "outputs": [],
   "source": [
    "# объявляем константы\n",
    "RANDOM_STATE = 2024\n",
    "TEST_SIZE = 0.25"
   ]
  },
  {
   "cell_type": "code",
   "execution_count": 6,
   "metadata": {},
   "outputs": [],
   "source": [
    "# загружаем данные\n",
    "try:\n",
    "    df_toxic_comments = pd.read_csv(\n",
    "        'toxic_comments.csv'\n",
    "    )\n",
    "except:\n",
    "    df_toxic_comments = pd.read_csv(\n",
    "        'https://code.s3.yandex.net/datasets/toxic_comments.csv'\n",
    "    )"
   ]
  },
  {
   "cell_type": "code",
   "execution_count": 7,
   "metadata": {},
   "outputs": [
    {
     "data": {
      "text/html": [
       "<div>\n",
       "<style scoped>\n",
       "    .dataframe tbody tr th:only-of-type {\n",
       "        vertical-align: middle;\n",
       "    }\n",
       "\n",
       "    .dataframe tbody tr th {\n",
       "        vertical-align: top;\n",
       "    }\n",
       "\n",
       "    .dataframe thead th {\n",
       "        text-align: right;\n",
       "    }\n",
       "</style>\n",
       "<table border=\"1\" class=\"dataframe\">\n",
       "  <thead>\n",
       "    <tr style=\"text-align: right;\">\n",
       "      <th></th>\n",
       "      <th>Unnamed: 0</th>\n",
       "      <th>text</th>\n",
       "      <th>toxic</th>\n",
       "    </tr>\n",
       "  </thead>\n",
       "  <tbody>\n",
       "    <tr>\n",
       "      <th>0</th>\n",
       "      <td>0</td>\n",
       "      <td>Explanation\\nWhy the edits made under my usern...</td>\n",
       "      <td>0</td>\n",
       "    </tr>\n",
       "    <tr>\n",
       "      <th>1</th>\n",
       "      <td>1</td>\n",
       "      <td>D'aww! He matches this background colour I'm s...</td>\n",
       "      <td>0</td>\n",
       "    </tr>\n",
       "    <tr>\n",
       "      <th>2</th>\n",
       "      <td>2</td>\n",
       "      <td>Hey man, I'm really not trying to edit war. It...</td>\n",
       "      <td>0</td>\n",
       "    </tr>\n",
       "    <tr>\n",
       "      <th>3</th>\n",
       "      <td>3</td>\n",
       "      <td>\"\\nMore\\nI can't make any real suggestions on ...</td>\n",
       "      <td>0</td>\n",
       "    </tr>\n",
       "    <tr>\n",
       "      <th>4</th>\n",
       "      <td>4</td>\n",
       "      <td>You, sir, are my hero. Any chance you remember...</td>\n",
       "      <td>0</td>\n",
       "    </tr>\n",
       "  </tbody>\n",
       "</table>\n",
       "</div>"
      ],
      "text/plain": [
       "   Unnamed: 0                                               text  toxic\n",
       "0           0  Explanation\\nWhy the edits made under my usern...      0\n",
       "1           1  D'aww! He matches this background colour I'm s...      0\n",
       "2           2  Hey man, I'm really not trying to edit war. It...      0\n",
       "3           3  \"\\nMore\\nI can't make any real suggestions on ...      0\n",
       "4           4  You, sir, are my hero. Any chance you remember...      0"
      ]
     },
     "execution_count": 7,
     "metadata": {},
     "output_type": "execute_result"
    }
   ],
   "source": [
    "# выводим первые пять строк датафрейма\n",
    "df_toxic_comments.head()"
   ]
  },
  {
   "cell_type": "code",
   "execution_count": 8,
   "metadata": {},
   "outputs": [
    {
     "name": "stdout",
     "output_type": "stream",
     "text": [
      "<class 'pandas.core.frame.DataFrame'>\n",
      "RangeIndex: 159292 entries, 0 to 159291\n",
      "Data columns (total 3 columns):\n",
      " #   Column      Non-Null Count   Dtype \n",
      "---  ------      --------------   ----- \n",
      " 0   Unnamed: 0  159292 non-null  int64 \n",
      " 1   text        159292 non-null  object\n",
      " 2   toxic       159292 non-null  int64 \n",
      "dtypes: int64(2), object(1)\n",
      "memory usage: 3.6+ MB\n"
     ]
    }
   ],
   "source": [
    "# выводим общую информацию о датафрейме\n",
    "df_toxic_comments.info()"
   ]
  },
  {
   "cell_type": "code",
   "execution_count": 9,
   "metadata": {},
   "outputs": [
    {
     "data": {
      "text/plain": [
       "0    0.898388\n",
       "1    0.101612\n",
       "Name: toxic, dtype: float64"
      ]
     },
     "execution_count": 9,
     "metadata": {},
     "output_type": "execute_result"
    }
   ],
   "source": [
    "# смотрим соотношение классов целевого признака в выборке\n",
    "df_toxic_comments.toxic.value_counts(normalize=True)"
   ]
  },
  {
   "cell_type": "code",
   "execution_count": 10,
   "metadata": {},
   "outputs": [
    {
     "data": {
      "text/plain": [
       "array([0, 1])"
      ]
     },
     "execution_count": 10,
     "metadata": {},
     "output_type": "execute_result"
    }
   ],
   "source": [
    "# проверяем уникальные значения классов целевого признака\n",
    "df_toxic_comments.toxic.unique()"
   ]
  },
  {
   "cell_type": "markdown",
   "metadata": {},
   "source": [
    "**Вывод**\n",
    "\n",
    "По результатам первичного знакомства с данными можно сделать следующие выводы:\n",
    "\n",
    "- В выборке содержится около 160 тыс. текстов;\n",
    "- Пропущенных значений в выборке не наблюдается, однако визуально можно заметить наличие незначимых символов в текстах (например: `\\n`), поэтому на следующем этапе необходимо провести очистку текста от всех возможных незначимых символов;\n",
    "- В выборке наблюдается существенный дисбаланс классов целевого признака: 90% комментариев относятся к классу `0` (нетоксичные), 10% - к классу `1` (токсичные).\n",
    "- Целевой признак принимает только два уникальных значения (`0` и `1`) и имеет тип `int64`, поэтому дополнительной обработки этой колонки не требуется.\n",
    "- Первая колонка в выборке (`Unnamed`) не несёт в себе значимой информации для обучения моделей, поэтому не будет использована в дальнейшем."
   ]
  },
  {
   "cell_type": "markdown",
   "metadata": {},
   "source": [
    "## Предобработка данных"
   ]
  },
  {
   "cell_type": "markdown",
   "metadata": {},
   "source": [
    "Выполним очистку текстов от незначимых символов с помощью регулярных выражений:"
   ]
  },
  {
   "cell_type": "code",
   "execution_count": 11,
   "metadata": {},
   "outputs": [],
   "source": [
    "# форматируем тексты и очищаем их от ненужных символов\n",
    "df_toxic_comments.text = df_toxic_comments.text.apply(\n",
    "    lambda x: re.sub('[^a-zA-Z ]', ' ', str(x).lower())\n",
    ")\n",
    "df_toxic_comments.text = df_toxic_comments.text.apply(\n",
    "    lambda x: re.sub(r' +', ' ', x).strip()\n",
    ")"
   ]
  },
  {
   "cell_type": "markdown",
   "metadata": {},
   "source": [
    "Выполним простую проверку получившихся текстов на краях отсортированных списков текстов, так как там могли появиться пропуски либо какие-либо ещё неожиданные результаты после очистки:"
   ]
  },
  {
   "cell_type": "code",
   "execution_count": 12,
   "metadata": {
    "scrolled": true
   },
   "outputs": [
    {
     "data": {
      "text/plain": [
       "['',\n",
       " '',\n",
       " '',\n",
       " '',\n",
       " '',\n",
       " '',\n",
       " '',\n",
       " '',\n",
       " '',\n",
       " '',\n",
       " '',\n",
       " 'a according to wikipedia naming conventions the title should be the most common name that isn t offensive to large groups of people b the name is very common as the google results show but i agree that it may be offensive to large groups of people on one side of the wall so maybe it shouldn t be the title but it is a very common name and the page apartheid wall redirects here so it should be listed in the first line as one of the names that the wall is called',\n",
       " 'a an we generally don t change between british and american english spelling usage unless there is a compelling reason to do so i don t believe that levant british english reaches that standard',\n",
       " 'a and c the layout and image choice in a appears to be better balanced than b however as someone pointed out above the image has not scaled well to the size displayed in the collapse boxes above so that needs to be improved correct balancing is important and the oversized top aerial shot at the top of b unbalances the rest of that image on the second choice c is broadly a better picture while it shows more of the structure itself the image composition on d is way off the skyline is inappropriately placed in the bottom third and because of its angle it gives the spires undue attention and creates a vast area of empty sky the daytime photo of the structure tariq provided above is worse in my view as the perspective is much too severe to be illustrative talk edits',\n",
       " 'a back up mr truesilver cabal don t know what i d do without your assistance and helpful meddling you folks are really amusing and by the way i don t do personal attacks i do general well deserved attacks this is america even on wikipedia so for example here is a personal attack mind your own business and stop removing fair critical discussion comments you eletist',\n",
       " 'a backup of a bit i deleted i thought it was rather insignificant and overly detailed is',\n",
       " 'a bad block which should be rescinded whowatches had just begun to calm down enough to make a reasoned argument see above so disruption even if he was engaging in it in the beginning was no longer his goal too bad that said people should have the gumption to be posting under their regular user names in response to a post i made on this page i got a fairly silly complaint from admin dweller on my talk page which could also be interpreted as a vague threat but them s the lumps one takes free speech isn t cost free',\n",
       " 'a ballast house is where they keep the stones placed under tracks they are now used for track marshalls when they are working on the track hence they now have windows there are plenty of them around and like i said there is one where denvilles station was',\n",
       " 'a ban for kontoreg eh it was merely a matter of time to be honest',\n",
       " 'a barangay filipino baranggay is the smallest local government unit in the philippines and is the filipino term for a village district ward or town municipalities and cities are composed of barangays each barangay is headed by a barangay captain punong barangay i e the district mayor who leads the barangay council sangguniang barangay composed of barangay councilors kagawad every barangay also has a youth council sangguniang kabataan or sk composed of the sk president or chairman and sk councilors who direct the youth oriented activities such as basketball leagues and other youth oriented activities in the barangay historically a barangay is a relatively small community of around to families most villages have only thirty to one hundred houses and the population varies from one hundred to five hundred persons according to legazpi he found communities with twenty to thirty people only many coastal villages in the visayan region consisted of no more than eight to ten houses the word itself is derived from an ancient malay boat called a balangay this connection between community and boat supports certain theories on the history of the pre colonial philippines specifically that each original coastal barangay formed as a result of settlers arriving by boat from other places in southeast asia most communities were coastal or riverine in nature t',\n",
       " 'a barnstar for you football soccer barnstar thank you for stepping up to assist with the portland thorns season article your work is much appreciated',\n",
       " 'a barnstar for you re energetically modified cement the civility barnstar presented to you for your efforts to encourage and demonstrate civility during the energetically modified cement incident which i observed from the sidelines during its final moments congratulations on offering the community such a noble example of civil behavior x',\n",
       " 'a barnstar for you style background color fdffe border px solid fceb rowspan style vertical align middle padding px style font size x large padding px px px height em north korean fashion watch barnstar style vertical align middle padding px gerald shields founder of the north korean fashion watch awards you the north korean fashion watch barnstar for your continuing efforts to add reliable and poignant discussions about north korean topics such as ri sol ju',\n",
       " 'a barnstar for you style background color fdffe border px solid fceb rowspan style vertical align middle padding px style font size x large padding px px px height em the copyeditor s barnstar style vertical align middle padding px your logic analysis delivery and edits are flawless keep up the good work also try not to be discouraged in what seems to be at times the impossible task of educating the obstinate',\n",
       " 'a barnstar for you style border px solid gray background color fdffe rowspan valign middle rowspan style font size x large padding vertical align middle height em the barnstar of integrity style vertical align middle border top px solid gray a barnstar for your sincere efforts to improve the encyclopedia thank you for working to improve the encyclopedia for the public talk',\n",
       " 'a barnstar for you the admin s barnstar',\n",
       " 'a barnstar for you the admin s barnstar first time i give this barnstar and is for you i don t care what happened at your rfa you deserve this award and more thank you for being part of this big community called wikipedia',\n",
       " 'a barnstar for you the admin s barnstar i award you the admin s barnstar for very hard work you ve done on wikipedia good job chucknoll vs vince lombardi',\n",
       " 'a barnstar for you the admin s barnstar thank you',\n",
       " 'a barnstar for you the anti vandalism barnstar for beating me to the revert button on multiple occasions thank you and happy editing',\n",
       " 'a barnstar for you the anti vandalism barnstar for protecting ps barito putera and pro duta fc article despite you are blocking me from contributing to wikipedia for hours',\n",
       " 'a barnstar for you the anti vandalism barnstar for protecting ps barito putera and pro duta fc despite you are blocking my account for days',\n",
       " 'a barnstar for you the anti vandalism barnstar good job just needs to be blocked now',\n",
       " 'a barnstar for you the anti vandalism barnstar good job with the anti vandalism you are doing a great job us wikipedia users really appreciate it',\n",
       " 'a barnstar for you the anti vandalism barnstar hello dear yintan congratulation for your achievements you are such a good writer and i liked your articles you did a great contribution in wikipedia greetings and best wishes from vinay vsvinaykumar',\n",
       " 'a barnstar for you the anti vandalism barnstar here s for you as the vandalism god of pages of cities in the philippines in calamba city your a slut freak and a moron if you have nothing to do with your life do not vandal one s page that is not you are in or not the place where do you live what the hell are you doing',\n",
       " 'a barnstar for you the anti vandalism barnstar in recognition and appreciation of your hard work in the endless pursuit of an ip hopping vandal on the cinemax page well done rfa hey logosubcheck i reverted your request for adminship because you didn t follow the instructions at wikipedia requests for adminship nominate furthermore even if you did follow the instructions it would be highly unlikely for your request to succeed generally users need thousands of edits and much more experience before even considering running take a look at wikipedia guide to requests for adminship if you d like more information and happy editing talk',\n",
       " 'a barnstar for you the anti vandalism barnstar professing my love for umm your work nice save right',\n",
       " 'a barnstar for you the anti vandalism barnstar thank you for keeping wikipedia on course',\n",
       " 'a barnstar for you the anti vandalism barnstar thanks for picking up the vandalism i was just testing you you passed with flying colours',\n",
       " 'a barnstar for you the anti vandalism barnstar this is not just a you gave me barnstar i give you one kind of thing but i think you really deserve one for all your anti vandalism work keep it up ibn la ahad',\n",
       " 'a barnstar for you the anti vandalism barnstar this is the award for you vandal dids hope youlike it please yourself laguna west metro is just a temporary metro bacause soon laguna west metro will be merged to metro manila as said to be the metro manila built up area tiga san ka ba kasi sobra kang pakialamero',\n",
       " 'a barnstar for you the anti vandalism barnstar you re always there in my watchlist great work on your commitment wikipedia editing is by its nature usually a thankless task but look at what people like you help to build and maintain best wishes',\n",
       " 'a barnstar for you the anti vandalism barnstar you re my hero',\n",
       " 'a barnstar for you the barnstar of diligence for your well researched opinion on talk military intervention in yemen needing to opinion poll',\n",
       " 'a barnstar for you the barnstar of diligence great to see you back too',\n",
       " 'a barnstar for you the barnstar of diligence just wanted to thank you for your continued persistence on new modern family episode articles i m really grateful to be able to read aggregated episode reviews without needing to paraphrase them myself keep up the good work czar',\n",
       " 'a barnstar for you the barnstar of diligence of stalking people i just had a chance to see what you ve done to the high speed trading and keeping i one sided to the finacial industry greak work stalker bo',\n",
       " 'a barnstar for you the barnstar of diligence of stalking people i just had a chance to see what you ve done to the high speed trading and keeping i one sided to the finacial industry greak work stalker bo keep on stalking for a one sided wikipedia',\n",
       " 'a barnstar for you the barnstar of diligence of stalking people i just had a chance to see what you ve done to the high speed trading and keeping i one sided to the finacial industry greak work stalker bo this is an award that i give only for the extra special editors of wikiland who really stalk people and pages related to the financial industry that keep the spin one sided this stalker award is for you the east front originally constructed by edward blore and completed in it acquired its present appearance following a remodelling in by sir aston webb',\n",
       " 'a barnstar for you the barnstar of diplomacy good thing you caught the canadian flag being wrong',\n",
       " 'a barnstar for you the barnstar of diplomacy thanks for resolving the derpyday issue',\n",
       " 'a barnstar for you the barnstar of diplomacy you are the mcdaddy of peaceful resolution and i envy you your patience and persistence',\n",
       " 'a barnstar for you the barnstar of european merit i am awarding you this barnstar of european merit because i have seen you do minor changes to some of the articles that i improve significantly and i appreciate that very much plarem talk contribs this wikiaward was given to boson by plarem talk contribs on',\n",
       " 'a barnstar for you the barnstar of good humor hiyaaaaaa whats you real name mines jessica d',\n",
       " 'a barnstar for you the brilliant idea barnstar',\n",
       " 'a barnstar for you the brilliant idea barnstar thanks for your cooperation and contributions in the page for khamenei s letter to the western youth',\n",
       " 'a barnstar for you the citation barnstar thank you very much for your contributions at technical support scam championman',\n",
       " 'a barnstar for you the civility barnstar for your general understanding',\n",
       " 'a barnstar for you the civility barnstar thank you for your support in my block inquiry i appreciate it and i hope i will be able to continue to improve and contribute to wikipedia',\n",
       " 'a barnstar for you the civility barnstar well deserved may you have a happy editing career talk',\n",
       " 'a barnstar for you the civility barnstar your recent edits on historical jesus deserve this star because you used a novel approach that didn t give civility for it s own sake but where it was deserved many people have tried to edit pages on jesus religion in nazi germany religious views of adolf hitler etc and run into the exact situation you described when they approach it with too much civility they get run off and bullied by teams of christian editors it s about time someone approached the situation with the civility that is needed brother i have run into so many dubious sources and what s worse absolute abominations and interpolations on legit sources they ve been doing it for years is it any surprise that wikipedia wouldn t be a magnet for christian interpolations what s worse if you remove it it gets reverted by not one but two or three others and they watch every page religiously there s a group i estimate of about who have ruined wikipedia and some of them are admins',\n",
       " 'a barnstar for you the copyeditor s barnstar i am giving this star for your good contributions to wikipedia including republican party presidential primaries',\n",
       " 'a barnstar for you the defender of the wiki barnstar for being one of the lone voices who get it',\n",
       " 'a barnstar for you the defender of the wiki barnstar i like your edit on the kayastha page lets form a solidarity group against those who malign the article and its subject matter i propose the folloing name for the group united intellectuals front of kayastha ethinicty against racist or castist abuse uifkearca',\n",
       " 'a barnstar for you the defender of the wiki barnstar i like your edit on the kayastha page lets form a solidarity group against those who malign the article and its subject matter i propose the following name for the group united intellectuals front of kayastha ethinicty against racist or castist abuse uifkearca a barnstar for you the teamwork barnstar i like your edit on the kayastha page lets form a solidarity group against those who malign the article and its subject matter i propose the following name for the group united intellectuals front of kayastha ethinicty against racist or castist abuse uifkearca',\n",
       " 'a barnstar for you the defender of the wiki barnstar simply for having common sense',\n",
       " 'a barnstar for you the defender of the wiki barnstar thanks for catching that copyvio cheers batphonegrooves',\n",
       " 'a barnstar for you the defender of the wiki barnstar thanks for your work on paid editor cleanup best talk contribs email',\n",
       " 'a barnstar for you the editor s barnstar congratulations codecat you ve recently made your th edit to articles on english wikipedia thank you for improving the coverage of linguistics in the encyclopedia adding ipa notations to articles and for all your contributions keep up the great work',\n",
       " 'a barnstar for you the editor s barnstar congratulations you ve recently made your th edit to articles on english wikipedia thank you for improving serbia related content in the encyclopedia and for all your contributions keep up the good work',\n",
       " 'a barnstar for you the editor s barnstar eocypselus rowei nicely done',\n",
       " 'a barnstar for you the editor s barnstar for editing richard j bartlett who i ve met',\n",
       " 'a barnstar for you the editor s barnstar for your editing of the syrian map',\n",
       " 'a barnstar for you the flaming commons wiki award thank you for all your efforts in the january mtc drive the drive was a big success as a result of the drive thousands of files was transferred and many files was nominated for deletion because of copyright issues or because they were not usable for your big work transferring files to commons and the many ways you have made it easier to work through the files you are hereby awarded this barnstar',\n",
       " 'a barnstar for you the good article barnstarfor your contributions to bring pittsburgh town to good article status thanks and keep up the good work',\n",
       " 'a barnstar for you the good article barnstarfor your contributions to bring voivode of transylvania to good article status thanks and keep up the good work',\n",
       " 'a barnstar for you the graphic designer s barnstar sadf',\n",
       " 'a barnstar for you the half barnstar again for the fracking article',\n",
       " 'a barnstar for you the half barnstar look love about your work on the children act i can t say that it was perfect when you did your little bit of work on it in fact i only found you when i set out to hunt down a suspected hypothetical troll or vandal who i thought was deliberately either that or that he was incompetent because his mother tongue wasn t english british english changing the tense of the verb or verbs into the past tense anyway just to let you know in the english language legislation unless it was repealed in the entirety entirely usually uses the present tense entirely and throughout still i thank you for your sterling steady and steadfast work effort and dedication because i think that i myself am probably now a little too old and am probably also a little to disabled and also barking to do half of what you did without boring or depressing myself to death unless i were to start doing a bit of drink or drugs or sex or some or all of the above on the side well i wouldn t mind too much though p s i myself am an amateur mature law student who alas would never actually graduate and never practise law because i am a bit of an invalid both a bit blind and a bit barking mad still if you live a bit up north of england might perhaps meet up some time for a drink or two before christmas who knows anyway ttfn sweetheart',\n",
       " 'a barnstar for you the half barnstar shrawan',\n",
       " 'a barnstar for you the jerry sandusky barnstar awarded to srj for his ever watching eyes and having things always in hand',\n",
       " 'a barnstar for you the minor barnstar u',\n",
       " 'a barnstar for you the minor barnstar welcome to the wikipedia project',\n",
       " 'a barnstar for you the modest barnstar in recognition of all the work you ve done lately',\n",
       " 'a barnstar for you the modest barnstar in recognition of all the work you ve done lately',\n",
       " 'a barnstar for you the modest barnstar you are among the top of most active wikipedians this past month',\n",
       " 'a barnstar for you the no memory hole barnstar for not allowing kwak pom gi fall into a memory hole as in book because he could not get up',\n",
       " 'a barnstar for you the no spam barnstar the anti spam barnstar is awarded to users who do an exceptional job fighting against spam on wikipedia',\n",
       " 'a barnstar for you the original barnstar',\n",
       " 'a barnstar for you the original barnstar',\n",
       " 'a barnstar for you the original barnstar',\n",
       " 'a barnstar for you the original barnstar amazing how you managed to get an article having fewer refs than kalidas to ga it had something refs during its gar this should convince me and ssven that keechaka vadham can achieve the same',\n",
       " 'a barnstar for you the original barnstar are you mad did you know my effort for editing then you do revert why make talk to me you do is vandalism truly',\n",
       " 'a barnstar for you the original barnstar awesome',\n",
       " 'a barnstar for you the original barnstar congratulations on your first article i do hope you ll continue participating in wikipedia beyond the semester as your contributions are imperative to making wikipedia the invaluable resource that it is thank you',\n",
       " 'a barnstar for you the original barnstar derka allah muhammed jihad',\n",
       " 'a barnstar for you the original barnstar for adding images to melbourne railway station articles',\n",
       " 'a barnstar for you the original barnstar for adding lua implementations to templates i love you my talk',\n",
       " 'a barnstar for you the original barnstar for always watching and correcting info on ghana talk',\n",
       " 'a barnstar for you the original barnstar for being an excellent writer and making me laugh',\n",
       " 'a barnstar for you the original barnstar for craphood extraordinaire',\n",
       " 'a barnstar for you the original barnstar for writing ec harris rare to find a business article so wonderfully referenced',\n",
       " 'a barnstar for you the original barnstar for your lovely article on rich thorne happy holiday s bang',\n",
       " 'a barnstar for you the original barnstar good job very helpful thanks',\n",
       " 'a barnstar for you the original barnstar hello can you help me to improve my article about ryan rens',\n",
       " 'a barnstar for you the original barnstar hello ongress the way you talk towards yolmo people you seem to be a bhote your appreciation towards them is very pathetic why are you trying to bring bhote issues in nepal and trying to divide peaceful yolmo society please go back to bhot if you like appreciating them fyi all yolmos are not bhotes ok only some people are people from langra ghyapsa are mostly bhotes other other people are not so please stop bring bhote cause among nepalis',\n",
       " 'a barnstar for you the original barnstar hey that user xeltran is the vandal god even the page of calamba city is being vandal by him fight for our rigths to that freak xeltran',\n",
       " 'a barnstar for you the original barnstar hey there as a pending changes reviewer i approved your pending change to the adam smith page after looking into it myself and finding that indeed i could not find any sources for the claim that smith lectured at the university good job fixing this unfortunate oversight and welcome to wikipedia zenqueue',\n",
       " 'a barnstar for you the original barnstar hi',\n",
       " 'a barnstar for you the original barnstar i am awarding this barnstar for creating the title rajasmita kar talk me contribs',\n",
       " 'a barnstar for you the original barnstar sorry if this is the wrong barnstar but thanks for saving lazarus and dives from a huge image covering the page and threatening to interrupt my reading and the reading of others create an account',\n",
       " 'a barnstar for you the original barnstar sorry my senile grandmother got on the computer',\n",
       " 'a barnstar for you the original barnstar thank you',\n",
       " 'a barnstar for you the original barnstar thank you c fred very helpful i have placed a request for a re named username to be compliant i did not know this thank you also for your comments on how to improve my article i have taken note and added more citations from four more new additional newspaper sources i truly believe the milton rotary club is unique and exceptional even though it is a part of an international organization while most clubs are declining in membership and have not accomplished much as a result the milton rotary club is growing and has accomplished a lot received a lot of media exposure including being featured multiple times on television in canada thanks for your help i ll continue to think of ways to demonstrate this and remain objective miltonrotary talk',\n",
       " 'a barnstar for you the original barnstar thank you for participating in the january mtc drive the drive was a big success as a result of the drive thousands of files was transferred and many files was nominated for deletion because of copyright issues or because they were not usable for your big work transferring files to commons you are hereby awarded this barnstar',\n",
       " 'a barnstar for you the original barnstar thank you for your concern over pashtun map of khyber pakhtunkhwa dera manana',\n",
       " 'a barnstar for you the original barnstar thank you for your contribution it good to know someone is sufficiently interested to find this piece of research kevin bree',\n",
       " 'a barnstar for you the original barnstar thanks',\n",
       " 'a barnstar for you the original barnstar thanks for all the standardization work you ve been doing recently on ipa templates and from a glance at various archives thanks also for many years of work improving the templates themselves',\n",
       " 'a barnstar for you the original barnstar thanks for creating the page for ahmad keshvari god bless',\n",
       " 'a barnstar for you the original barnstar thanks for the tips and support for my recent page edit as for the summary field can i go back and edit that somehow thanks',\n",
       " 'a barnstar for you the original barnstar thanks for your contributions talk',\n",
       " 'a barnstar for you the original barnstar thanks for your expansion of ta nehisi coates talk stalk',\n",
       " 'a barnstar for you the original barnstar thanks for your fine contributions to chinese history and archaeology topics such as chengziya archaeological site',\n",
       " 'a barnstar for you the original barnstar thanks for your input on the sect article ordinarily i have no issue with userfication of deleted material since i am inclined to be an inclusionist in such matters but in this case i really needed that td party input since i was legitimately uneasy about restoring the article talk',\n",
       " 'a barnstar for you the original barnstar the best reference is a paper c j burrows et al apj figure shows the limb brightening taking no account of the superradiance the superradiance has the well known property to leave only an orthogonal set of the the strongest modes light beams jmo',\n",
       " 'a barnstar for you the original barnstar this award for your big a treasure in the creation of articles about the war in syria good work',\n",
       " 'a barnstar for you the original barnstar this explanation of blp policy is one of the best i have seen you have it exactly right',\n",
       " 'a barnstar for you the original barnstar this is fact denis ritchie is one of brilliant man and news paper did not notice his work',\n",
       " 'a barnstar for you the original barnstar very nice edits on polywell and direct conversion i very much liked the conversion page there was plenty of new information nice job',\n",
       " 'a barnstar for you the original barnstar y ou are an arrogant h i t did you thi nk you could stop that qui ckly oh and you can say thanks to the wikipedia cheatsheet for me now u c k o f f',\n",
       " 'a barnstar for you the original barnstar you re funny',\n",
       " 'a barnstar for you the original barnstar your vandalism is simply top notch keep it up',\n",
       " 'a barnstar for you the pederast barnstar awarded to ryulong for his ever watching eyes and having things always in hand',\n",
       " 'a barnstar for you the photographer s barnstar you can suck it',\n",
       " 'a barnstar for you the photographer s barnstar your photos are horrible you are an idiot fuck you',\n",
       " 'a barnstar for you the random acts of kindness barnstar',\n",
       " 'a barnstar for you the random acts of kindness barnstar for helping in inexperienced contributor get onto the right track and minimizing churn and frustration',\n",
       " 'a barnstar for you the random acts of kindness barnstar for your message to randigrace i present you with this which should really be a welcomers barnstar or an editor retention barnstar which i couldn t find',\n",
       " 'a barnstar for you the random acts of kindness barnstar thank you for deciding to unblock me i am very greatful and i hope i will be able to improve and contribute to wikipedia however what is happening about the adoption process',\n",
       " 'a barnstar for you the real life barnstar fag',\n",
       " 'a barnstar for you the real life barnstar gay gay gay',\n",
       " 'a barnstar for you the real life barnstar hey buddy thanks for what you do here but what do you know about chillout music and this artist this guy is world famous in chillout music and deserves a page on wiki you have to give me a reason of why you want this page to be deleted this guy has tracks on buddha bar series and has more than releases you want to delete this page go ahead but with people like you wikipedia will never expand',\n",
       " 'a barnstar for you the real life barnstar hi thank you for your work here all the sources and material i posted was reliable as i did much research in creating this page as chillout music producers are not to be found on wikipedia as chillout music fans are not that active on wiki dont nominate a page for deletation if you dont know the artist',\n",
       " 'a barnstar for you the real life barnstar lets us be the stars',\n",
       " 'a barnstar for you the real life barnstar thanks for your interest and hard work here the music page is reliable',\n",
       " 'a barnstar for you the real life barnstar this wiki is about my self and this is real',\n",
       " 'a barnstar for you the socratic barnstar although the discussion is still underway i wanted to show you my appreciation for the research and diplomacy that you have already contributed to the discussion on the kurds article as well as the clarity and eloquence with which you articulated your position and proposal we could never have enough editors like yourself helping on the project keep it up talk hist',\n",
       " 'a barnstar for you the special barnstar file cropped tripuri jpg for your super image i give u a barnstar',\n",
       " 'a barnstar for you the special barnstar for your faaaabulous work',\n",
       " 'a barnstar for you the special barnstar keep chasing that rainbow',\n",
       " 'a barnstar for you the special barnstar retired why my friend omg you are one of the most productive user on wikipedia please reconsider you will be missed jim carter',\n",
       " 'a barnstar for you the special barnstar thank you for taking a look at the four pages of google news sources',\n",
       " 'a barnstar for you the special barnstar thank you for the prompt response the act of kindness the sound advice as well as in general for the countless other article assessments fortunately i have been assigning the stub start articles to task forces',\n",
       " 'a barnstar for you the special barnstar the special barnstar is awarded to a user as a gesture of appreciation when there is no other barnstar which would be appropriate a leftist a devoted wikipedian a sense of humour knowledge and intelligence without arrogance well you are simply an all round good egg',\n",
       " 'a barnstar for you the surreal barnstar for you continuing work',\n",
       " 'a barnstar for you the surreal barnstar hey matty looks like you ve been gone since november i m sorry to see this i understand the need to take a break but i hope you do come back eventually we miss you hadley',\n",
       " 'a barnstar for you the tafi barnstar thanks for your contributions to wikiproject today s article for improvement which have served to expand the project and increase participation and collaboration there talk',\n",
       " 'a barnstar for you the teamwork barnstar for an awesome invitation to wikipedia and for doing it with a lot of people like me thank you',\n",
       " 'a barnstar for you the teamwork barnstar i have seen your profile and immensely respect you for the valuable contribution that you have made to some of the articles i am just a new user and would like to be guided and supported by an expert in his field like you you have an impressive collection of accolades and mine is just a token of co operation and friendship',\n",
       " 'a barnstar for you the teamwork barnstar i like your edit on the kayastha page lets form a solidarity group against those who malign the article and its subject matter i propose the folloing name for the group united intellectuals front of kayastha ethinicty against racist or castist abuse uifkearca',\n",
       " 'a barnstar for you the teamwork barnstar thank you for taking the time to review my ga submission and for the helpful suggestions you offered for improving the article cheers',\n",
       " 'a barnstar for you the teamwork barnstar together we can end racism',\n",
       " 'a barnstar for you the technical barnstar a barnstar for you',\n",
       " 'a barnstar for you the technical barnstar for solving the malfunction of my script chatlimited access',\n",
       " 'a barnstar for you the technical barnstar thank you so much for solving the css issue on my userpage css is more frustrating than any other language i know and i know one or two v r p',\n",
       " 'a barnstar for you the technical barnstar thank you very much for vesey joseph kaipayil per your decline at wp rpp which reassured me that i haven t gotten too easy at afc would you mind unsalting the page so it can be moved i don t know who originally salted it since the page history is only for the latest version all the best talk chat thanks talk do a snotbot run i was wondering if snotbot great name task could be run on this and this sure can do babble running now once you see the bot activity stop feel free to mark those categories as done yak thank you working on a new tool if you re interested you can see an early version here it allows you to perform arbitrary searches through the recent changes database so it helps with looking for particular types of edits that were recently made might be useful for vandal fighters i still have some work to do on it but it s working let me know if you have any comments or suggestions i ll announce it more widely once it s more complete spill the beans blocked scottywong i ve blocked you for hours i appreciate you probably feel provoked but this does not justify your comments now that s a unique outcome don t get me wrong i don t disagree that what i said is a blockable offense i just wonder why when a different editor says the exact same phrase and someone complains the complainant gets told to shut the fuck up and do something useful and stop trying to be the civility police was i using the phrase in a different context i m not looking for an unblock i m just looking for a formal acknowledgement that there is a double standard for more info see wikipedia ani malleus fatuorum and cornellier this ani thread and this an thread i d appreciate a response verbalize i d imagine because it s a different admin who handled that dispute i d agree there s a total double standard here all i can g',\n",
       " 'a barnstar for you the technical barnstar thanks for the template you added for golden bell awards winners list article i needed that',\n",
       " 'a barnstar for you the tireless contributor barnstar for you most recent medical edits on wikipedia contributions such as these and show that you are a notable contributor to the topic and are here to keep wikipedia alive with current information thanks',\n",
       " 'a barnstar for you the tireless contributor barnstar for your continuous effort on bhagat singh to make a ga glad to have you around keep it up',\n",
       " 'a barnstar for you the tireless contributor barnstar salaam great job brother',\n",
       " 'a barnstar for you the tireless contributor barnstar your edits are sublime',\n",
       " 'a barnstar for you the writer s barnstar for making uyarndha manithan a ga in such a short time',\n",
       " 'a barnstar for you the writer s barnstar for one of your recent ga s am',\n",
       " 'a barnstar for you the writer s barnstar hi guys i love wikipedia it tells u so much about people i hope u love wiki as much as i do',\n",
       " 'a barnstar for you the writer s barnstar thanks belovedfreak i m just learning how to send messages so i m sorry i took so long to reply to you have fun editing',\n",
       " 'a barnstar for you the writer s barnstar thanks for the writing such a wonderful and concise article on ida shepard oldroyd absolutely fantastic',\n",
       " 'a barnstar for you top three user talk ellenct user talk geraldo perez user talk kristina a barnstar for you a barnstar for you',\n",
       " 'a barnstar for you well i don t know if you still check this or not but just in case you do i would like to award you the new extra special the south park barnstar for founding my favorite wikiproject i award you the first ever south park barnstar review review',\n",
       " 'a barnstar for you you are just amazing at staking i retired from wikipedia the barnstar of diligence i just had a chance to see what you ve done to the high speed trading article over the past several months and was very impressed i too get in trouble for trying to fight coi issues and it s good to see that your trouble was only temporary you are just amazing at staking i retired from wikipedia',\n",
       " 'a barnstar for you you are just amazing at staking i retired from wikipedia the barnstar of diligence i just had a chance to see what you ve done to the high speed trading article over the past several months and was very impressed i too get in trouble for trying to fight coi issues and it s good to see that your trouble was only temporary you are just amazing at staking i retired from wikipedia',\n",
       " 'a barnstar for you you get your content review medal and gold wiki award for blocking excirial the mkg',\n",
       " 'a barnstar you deserve this user has endured a wide breadth of the institutional ignorance that darkens this organization yet loves it still this is the black barnstar of institutional shame that unfortunately you and some others from this site deserve the message only displays when highlighted as if to copy i hope you will treasure the fact that many users like me are glad you remain a colleague',\n",
       " 'a beating hello shovon i see you ve taken quite a beating dealing with some trolls regarding the kashmir issue as a piece of advice just don t entertain feed trolls because this only increases our pressure who cares let them call us hindu facist or faggot or whatever because that only reflects on the person making those remarks and needless to say their country such actions speak a thousand words and it s foolhardy for us to waste our time and energy feeding such trolls i avoided naming this section kashmir fearing you wouldn t give a damn have a cookie in the mean time take care',\n",
       " 'a because they reflect the last known positions of editors based on their actual participation in a related discussion and b so that the scorecard reflects this historical debate you would prefer that i ignore the previous discussion on this topic remember wp ccc but it seems appropriate to use as a starting point the previous level of consensus',\n",
       " 'a beer for you ben an old californian wishes to thank you for your many delightful contributions i rode the train from perth to kalgoorlie rode in a car from melbourne to canberra and another auto ride mel to the dandenongs net i have seen little of oz but your country is beautiful and your art conveys that message marvelously do shout if you get to the sf bay area would like to buy you a brew burger chips and do a visit zorzanello gd hotmail com gd',\n",
       " 'a beer for you for closing the youreallycan debate on an i i haven t waded through so much aggression since justin bieber on twitter got afded talk cont',\n",
       " 'a beer for you for u only',\n",
       " 'a beer for you for your emu war usebox mate',\n",
       " 'a beer for you good work your doing well',\n",
       " 'a beer for you hot hot hot skype show baby',\n",
       " 'a beer for you it was done by mistake while i was adding some stuff to the page',\n",
       " 'a beer for you thanks for cleaning up that childish mess on coach petrino s article',\n",
       " 'a beer for you this is for u for hopping on my meat',\n",
       " 'a beer for you yes sorry was pointed out by one of my guys that the information i was trying to place was incorrect sorry for the inconvenience everybody',\n",
       " 'a beevor as cited b not beevor',\n",
       " 'a belated welcome here s wishing you a belated welcome to wikipedia chiefmiz i see that you ve already been around a while and wanted to thank you for your contributions though you seem to have been successful in finding your way around you may benefit from following some of the links below which help editors get the most out of wikipedia introduction the five pillars of wikipedia how to edit a page help pages how to write a great article also when you post on talk pages you should sign your name on talk pages using four tildes that should automatically produce your username and the date after your post i hope you enjoy editing here and being a wikipedian if you have any questions feel free to leave me a message on consult wikipedia questions or place on your talk page and ask your question there again welcome',\n",
       " 'a belated welcome here s wishing you a belated welcome to wikipedia culturalsnow i see that you ve already been around a while and wanted to thank you for your contributions though you seem to have been successful in finding your way around you may benefit from following some of the links below which help editors get the most out of wikipedia introduction the five pillars of wikipedia how to edit a page help pages how to write a great article editor s index to wikipedia also when you post on talk pages you should sign your name using four tildes that should automatically produce your username and the date after your post i hope you enjoy editing here and being a wikipedian if you have any questions feel free to leave me a message on consult wikipedia questions or place on your talk page and ask your question there again welcome',\n",
       " 'a belated welcome here s wishing you a belated welcome to wikipedia dkaugenblick i see that you ve already been around a while and wanted to thank you for your contributions though you seem to have been successful in finding your way around you may benefit from following some of the links below which help editors get the most out of wikipedia introduction the five pillars of wikipedia contributing to wikipedia how to edit a page help pages how to write a great article editor s index to wikipedia also when you post on talk pages you should sign your name using four tildes that should automatically produce your username and the date after your post i hope you enjoy editing here and being a wikipedian if you have any questions feel free to leave me a message on my talk page consult wikipedia questions or place on your talk page and ask your question there again welcome chillum',\n",
       " 'a belated welcome here s wishing you a belated welcome to wikipedia hiphopdoc i see that you ve already been around a while and wanted to thank you for your contributions though you seem to have been successful in finding your way around you may benefit from following some of the links below which help editors get the most out of wikipedia introduction the five pillars of wikipedia contributing to wikipedia how to edit a page help pages how to write a great article editor s index to wikipedia also when you post on talk pages you should sign your name using four tildes that should automatically produce your username and the date after your post i hope you enjoy editing here and being a wikipedian if you have any questions feel free to leave me a message on my talk page consult wikipedia questions or place on your talk page and ask your question there again welcome oh hello',\n",
       " 'a belated welcome here s wishing you a belated welcome to wikipedia jasonreverie i see that you ve already been around a while and wanted to thank you for your contributions though you seem to have been successful in finding your way around you may benefit from following some of the links below which help editors get the most out of wikipedia introduction the five pillars of wikipedia how to edit a page help pages how to write a great article editor s index to wikipedia also when you post on talk pages you should sign your name using four tildes that should automatically produce your username and the date after your post i hope you enjoy editing here and being a wikipedian if you have any questions feel free to leave me a message on consult wikipedia questions or place on your talk page and ask your question there again welcome veers',\n",
       " 'a belated welcome here s wishing you a belated welcome to wikipedia joshcalhoun i see that you ve already been around a while and wanted to thank you for your contributions though you seem to have been successful in finding your way around you may benefit from following some of the links below which help editors get the most out of wikipedia introduction the five pillars of wikipedia how to edit a page help pages how to write a great article editor s index to wikipedia also when you post on talk pages you should sign your name using four tildes that should automatically produce your username and the date after your post i hope you enjoy editing here and being a wikipedian if you have any questions feel free to leave me a message on consult wikipedia questions or place on your talk page and ask your question there again welcome',\n",
       " 'a belated welcome here s wishing you a belated welcome to wikipedia laramagasin i see that you ve already been around a while and wanted to thank you for your contributions though you seem to have been successful in finding your way around you may benefit from following some of the links below which help editors get the most out of wikipedia introduction the five pillars of wikipedia how to edit a page help pages how to write a great article editor s index to wikipedia also when you post on talk pages you should sign your name using four tildes that should automatically produce your username and the date after your post i hope you enjoy editing here and being a wikipedian if you have any questions feel free to leave me a message on consult wikipedia questions or place on your talk page and ask your question there again welcome mehra',\n",
       " 'a belated welcome here s wishing you a belated welcome to wikipedia lynnanchio i see that you ve already been around a while and wanted to thank you for your contributions though you seem to have been successful in finding your way around you may benefit from following some of the links below which help editors get the most out of wikipedia introduction the five pillars of wikipedia how to edit a page help pages how to write a great article editor s index to wikipedia also when you post on talk pages you should sign your name using four tildes that should automatically produce your username and the date after your post i hope you enjoy editing here and being a wikipedian if you have any questions feel free to leave me a message on consult wikipedia questions or place on your talk page and ask your question there again welcome',\n",
       " 'a belated welcome here s wishing you a belated welcome to wikipedia matgb i see that you ve already been around a while and wanted to thank you for your contributions though you seem to have been successful in finding your way around you may benefit from following some of the links below which help editors get the most out of wikipedia introduction the five pillars of wikipedia how to edit a page help pages how to write a great article editor s index to wikipedia also when you post on talk pages you should sign your name using four tildes that should automatically produce your username and the date after your post i hope you enjoy editing here and being a wikipedian if you have any questions feel free to leave me a message on consult wikipedia questions or place on your talk page and ask your question there again welcome',\n",
       " 'a belated welcome here s wishing you a belated welcome to wikipedia moonlightmedicine i see that you ve already been around a while and wanted to thank you for your contributions though you seem to have been successful in finding your way around you may benefit from following some of the links below which help editors get the most out of wikipedia introduction the five pillars of wikipedia contributing to wikipedia how to edit a page help pages how to write a great article editor s index to wikipedia also when you post on talk pages you should sign your name using four tildes that should automatically produce your username and the date after your post i hope you enjoy editing here and being a wikipedian if you have any questions feel free to leave me a message on my talk page consult wikipedia questions or place on your talk page and ask your question there again welcome hadley',\n",
       " 'a belated welcome here s wishing you a belated welcome to wikipedia mreastenders i see that you ve already been around a while and wanted to thank you for your contributions though you seem to have been successful in finding your way around you may benefit from following some of the links below which help editors get the most out of wikipedia introduction the five pillars of wikipedia how to edit a page help pages how to write a great article also when you post on talk pages you should sign your name using four tildes that should automatically produce your username and the date after your post i hope you enjoy editing here and being a wikipedian if you have any questions feel free to leave me a message on consult wikipedia questions or place on your talk page and ask your question there again welcome projectors',\n",
       " 'a belated welcome here s wishing you a belated welcome to wikipedia overmage i see that you ve already been around a while and wanted to thank you for your contributions though you seem to have been successful in finding your way around you may benefit from following some of the links below which help editors get the most out of wikipedia introduction the five pillars of wikipedia how to edit a page help pages how to write a great article also when you post on talk pages you should sign your name on talk pages using four tildes that should automatically produce your username and the date after your post i hope you enjoy editing here and being a wikipedian if you have any questions feel free to leave me a message on consult wikipedia questions or place on your talk page and ask your question there again welcome',\n",
       " 'a belated welcome here s wishing you a belated welcome to wikipedia patagonier i see that you ve already been around a while and wanted to thank you for your contributions though you seem to have been successful in finding your way around you may benefit from following some of the links below which help editors get the most out of wikipedia introduction the five pillars of wikipedia how to edit a page help pages how to write a great article also when you post on talk pages you should sign your name on talk pages using four tildes that should automatically produce your username and the date after your post i hope you enjoy editing here and being a wikipedian if you have any questions feel free to leave me a message on consult wikipedia questions or place on your talk page and ask your question there again welcome x a',\n",
       " 'a belated welcome here s wishing you a belated welcome to wikipedia sirlark i see that you ve already been around a while and wanted to thank you for your contributions though you seem to have been successful in finding your way around you may benefit from following some of the links below which help editors get the most out of wikipedia introduction the five pillars of wikipedia how to edit a page help pages how to write a great article editor s index to wikipedia also when you post on talk pages you should sign your name using four tildes that should automatically produce your username and the date after your post i hope you enjoy editing here and being a wikipedian if you have any questions feel free to leave me a message on consult wikipedia questions or place on your talk page and ask your question there again welcome ghost',\n",
       " 'a better class of vandal',\n",
       " 'a better intro how about telling more about what the show is about saying who owns it isn t that descriptive of an intro and i actually got to this page wanting to know why these little people are fighting and such',\n",
       " 'a better question is why does one man get the power to chose which articles are featured each day talk to me',\n",
       " 'a better way of viewing it perhaps would be along the lines that there is no such thing as rubbish waste as rubbish waste is just something in the wrong place at the wrong time example small amounts of the nuclear industries radioactive waste such as strontium has found useful applications yet it is obtained from the nuclear industries waste which un contained would pollute the environment',\n",
       " 'a big change with hrafn retired please see mstopeka',\n",
       " 'a big fat so what anything to do with the cfl no one cares so what not relevant also this multi national american football angle deserves a big fat yawn and another so what we know who bud grant is we know who the minnesota vikings are and there s only one football league on the planet and it s not the pimple faced cfl and nothing anyone has ever done in the cfl merits any notice whatsoever most particularly diluting the great contributions of this great man to a great team all that other trash is a distraction away from what s important and subordinates the significance of the man the team and the game to a whole bunch of irrelevant people that don t care anyways this is what happens when ivory towered and foreign academics write articles they have no connection to any th grade minnesota drop out understands who bud grant is and why he s significant however international egg heads might get the impression that this is a refined and polite sport played to illustrate the deep and shared spiritual values between the united states and our irrelevant neighbors to the north instead of smash mouth warfare on an american gridiron managed by giants like bud grant you can take your international touchie feelie swami guru political correctness and stuff it',\n",
       " 'a big fuck you to you scum of the earth you are not a gentleman a big fuck you to you motherfucker you sir if that s the word are not a gentleman you just deleted olamot con and for that you deserve the th level of hell which is reserved for wikipedia deletionists because the first levels are too mild for them i hope chuck norris deletes you and all other deletionists quickly and painfully this talk page is full of your deletionism exploits and everyone in the world hate you i hope you die childless soon so the scum of you won t reproduce sorry i just had to get it out of my head but seriously now please reconsider your attitude and don t enact internet force towards people and their work where they have burned books they will end in burning human beings',\n",
       " 'a big mistaque of the spanish llibre vermell de montserrat el llibre vermell de montserrat is not a spanish book is the first book wrote in catalan and is from the crown of aragon so retrospectively called catalan aragonese confederacy spain will form centures after is imposble that this book is spanish because spain didn t exits yet in this era and is not wrote in spanish this book is wrote in latin and catalan',\n",
       " 'a big part of the issue is that the oil that is produced in saskatchewan is not wti west texas intermediate but is rather a heavier more sour oil that generally needs to be upgraded at a upgrader prior to being used to produce traditional oil products like petrol diesel fuel etc the charts and website you are referring to use wti as the reference benchmark obviously in an abundance of the light and sweet wti grades in the marketplace the heavier sour grades of saskatchewan oil and bitumen have substantially less value',\n",
       " 'a big thank you hello jeandr i just wanted to say a big thank you for the note on my page about being able to preview categories at the bottom of the page i don t believe that i have ever scrolled down that far when editing and while it isn t the most important thing in the world i do try to have my edits in order before saving so i use the show preview button a lot i appreciate the time that you took to let me know about this and thanks again talk',\n",
       " 'a big thank you you have just blocked me in the middle of trying to redirect half a dozen pages thank you thank you hopefully it gives you a sense of power wasting people s time i bet you re a traffic warden or a cop or something like that in real life a jobsworth power hungry asshole thanks again',\n",
       " 'a big thanks a beer on me on behalf of the community i thank you for all of your efforts at arbcom to help this place to run right i have had very few interactions with you but when i have i always found you to be calm neutral and helpful thank you again for your service to the project talk',\n",
       " 'a big welcome to you if i can help please write to me on my talk page i really really really really really really really strongly suggest you change your user name just register a new one and abandon this one happy editing',\n",
       " 'a biography doesn t begin at age twenty three one would think from this article that mr fuld was born in instead of and that his birth was of the apocryphal cabbage patch variety who were his parents of what religion or station was he raised as a jew or not these questions are often skirted or deleted in wikipedia why',\n",
       " 'a bisexual like a homosexual or a heterosexual is not defined by sexual activity much like a year old boy who is attracted to a girl sexually but has never had sex is still straight a person who is actually sexually attracted aroused by the same sex as well as the opposite sex is bisexual',\n",
       " 'a bit belated talk',\n",
       " 'a bit better i imagine almost went minimalist and had the c be a link to contributions and the t be a link to my talk page but the t is just too darn thin to be able to be clickable so we ll just go vanilla talk contribs',\n",
       " 'a bit late aren t we',\n",
       " 'a bit late in revisiting this but as a result of this discussion and wordreader s experiment thanks i ve clarified the following open hand form open hand appearance when ripe closed hand form closed hand appearance when unripe i think that the benefit of this is that it uses the more precise word appearance and clarifies the reason for the differing appearance',\n",
       " 'a bit more firmly now peter i find it offensive that you would accuse me of harassment i felt that this issue was not going to be successfully ignored and tried to raise it repeatedly and calmly i have not yelled at you just tried to explain nicely where i m coming from i see you re leaving wikipedia for a while and wish you all the best for your break but please stop being rude to me best',\n",
       " 'a bit of education for you here is the link to bay lake florida now what was that you were saying about it not being a city educate yourself a bit before you make such ludicrous ignorant comments',\n",
       " 'a bit of notice again anna i have now put up a warning against the user that was suspected of doing personal attack at your talk page while i kept a lookout since i do not intend to use any personal attacks on anyone s talk page you can find it here',\n",
       " 'a bit off topic i d be curious to see if this removal of the templates has any effect on this page s google ranking they haven t refreshed the cashed version yet',\n",
       " 'a bit premature eaton s world record is barely an hour old with a rush of editing happening by multiple parties give it a little time to get sorted out and seriously there is a ratification process on top of that which takes significantly more time before the record is deemed official',\n",
       " 'a bit short on time hello j delanoy i m a bit short on time recently and do not think i would be able to nominate you for adminship however if you wish to wait for me to be your nominator i may become active again in september and october hope you are enjoying your summer talk',\n",
       " 'a blank page though might mislead someone who looks at the episode listing into thinking that these episodes have already been written about red link vs blue link or no link vs blue link i ll confess to not being entirely familiar with how wikipedia handles episodes but something tells me this probably one of a handful of shows with a page dedicated to every episode and i note from my experience with albums music that people are discouraged from writing an article about every track in an album for example just as i d hope people would be discouraged from writing an article about every episode in a season in any event i m going to stop marking these for speedy deletion once i finish this season off while i m fairly confident they re eligible for speedy deletion if they re not i ll need to afd them instead at which the community can take up your arguments talk e mail',\n",
       " 'a blast from the past i was interested to read in your hidden dxraw talk page that not long before you changed your name the following message was posted why did you remove my edit you cancer ridden cunt it was correct but you are a fucking idiot who changes anything you don t like on reading the details of the nicholas saunders professor deletion debate i see that you haven t changed one little bit how does it feel to be the mosted despised editor on wikipedia you can change your name as often as you like but nothing will help your social skills',\n",
       " 'a block ohhhhhhhhhhhhhh noooooooooooo i m soooo like gonna cry and like shit ha ha you think i care i dont even use wikipedia look at the serb reporting me to the geek squad what are you like rumor has it that you are another canadian serb rumor has it that you have pissed of a select few from b wp bye bye',\n",
       " 'a block on wp is of no personal concern i have long ago resigned from offering new knowledge on wp and permitted my contributions to be trashed protecting only those thus far supported by others what we have here nicely evidenced by this decision is the essential juvenalism if not infantalism of wp it professes an archaically legalistic approach to the representation of knowledge something enlightened thinkers thought went out with the witch trials and the inquisition while offering no rationalisation apart from a sniff at style and a link to a comical article on truth and then all by an anonym i do not regret that i bear no place in this play pen of pseudo knowledge rodgarton',\n",
       " 'a block user stating his forgiveness uh hi i m user sorry if my grammer is terrible i m am not good at language arts i m sorry about the vandalism i thought that by delecting content on template final fantasy series which i accidently delectly others on template and since the rest of the text i delected didn t need to be included they are minor links and boktai which i the django section was already in the article characters in the boktai series would be ok and i didn t want that to in my talk page and i guess my temper got a hold of me so i hope you ll read this so you will understand my forgiveness',\n",
       " 'a blog of appreciation please add your thoughts and memories you can find my blog post on elizabeth edwards at http nchambe blogspot com elizabeth edwards loses battle to html please add whatever you feel is relevant to the article there to make a collective appreciative page for her thank you',\n",
       " 'a blog or not a blog that is the question editor canderra argues that the sources below are blogs and has deleted the material the material is still not present in the article but no other editor has bothered to confirm or deny these assertions for whatever reason please take your time now to review the section and check the sources for yourself lets see if they really are blogs new york sun writer williams myers labels che as a sociopathic thug other us newspaper critics have made similar remarks they point out that che guevara was responsible for the torture and execution of hundreds of people in cuban prisons and the murder of many more peasants in the regions controlled or visited by his guerrilla forces contrary to che supporters these critics also argue that che was a blundering tactician with no recorded combat victories they claim that che failed medical school in argentina and that there is no evidence that he earned a medical degree they note that che murdered individuals on dubious grounds and took their property seized private manors for himself and distributed property among communist bureaucrats rather than the peasants the also state that he not only oversaw the prison over which he ordered the execution of hundreds if not thousands of cubans but also helped institute forced labor camps when volunteerism failed finally these critics believe that che was a major failure at managing the cuban economy as he oversaw the near collapse of sugar production the failure of industrialization and the introduction of rationing all this in what had been one of latin america s four most economically successful countries since before the batista dictatorship some critics such as che mart have merchandised their dislike of che guevara by marketing t shirts poking fun at both che guevara and his supporters for example pointing out what they percieve as an irony che guevara as one of capitalisms hotest selling images they are not blogs put the material back in',\n",
       " 'a blog post i think is important first i appreciate the notes that were left recently and the ones left during the february drama i will probably be back but not like i was before i love wikimedia and everything it is trying to do i wanted to be a part of it more i wanted to show its potential the worst misconception about me is that i am arrogant about my work i most want people to realize that everything i did they can do too you don t even need to do what i did your own secret hopes and ambitions on here have the potential to succeed it s not self promotion if you are contributing work of such high quality that you could actually make a career for yourself then wikipedia is damn lucky to have you if what you give is crap face it your stuff will be removed nobody will stick up for you and you ll have zero hopes of ever branching beyond wikipedia this is important you should strive to contribute material that is of such high quality people actually think you could be a professional but the ridiculous argument that you are using wikipedia to doing that is stupid beyond belief i outlined on my blog how i went about doing what i did on here how you could replicate it if you wanted and general advice i don t care if anyone follows it but i certainly hope it explains how unexceptional my contributions were that is if only other people attempted what i did i m an artist i wanted to work on here and give something back but i never wish to be a professional photographer or journalist reporter i realize that s a shock for many to believe wikipedia is a great public space to attempt art whether it be journalism and information as art or photography that is encyclopedic before it is artistic here s the blog post where i try to explain how i succeeded to gain access improved my photography and made a reputation for myself simply for doing what i believed in on wikipedia blog shankbone org david shankbone finally tells you how to replicate his success aspx if contributing high quality work that is recognized on and off wikipedia is self promotion then we need more self promoters who try to create such high quality david',\n",
       " 'a blue link should typically lead to content not a blank page which is why i suggested wildbot tag it as g presumably it could delete the page itself were it an admin bot but typically only admins are allowed to run adminbots xenotalk',\n",
       " 'a book search for get you gone you dwarf shakespeare s equivalent of fuck off you drama whore reveals quite a few hits discussing them in depth so i dare say something like list of shakespearean insults does have potential talk cont',\n",
       " 'a bot sounds like a great idea any bot writers out there',\n",
       " 'a bowl of strawberries for you i ve certainly seen you around ozscrapers hope to see you around here too if you need anything please don t hesitate in letting me know best talk',\n",
       " 'a bowl of strawberries for you sir you are working excellently on wikipedia i have seen your awards and all those stuff i realized that you are a nice wikipedian i am sending you berries because we are muslims and we are having a fast every day you know it s ramzan that s why ok sir accept my love regards aizaz ur rahman',\n",
       " 'a bowl of strawberries for you thank you for fixing obscure spelling and grammar mistakes watch out this is how the addiction starts',\n",
       " 'a bridge are you sure the a bridge is within the city regardless of the parish boundaries i would say that the a bridge is outside the city it overlooks hylton to the east but it is well outside the city itself bob',\n",
       " 'a brief glance at it left me with the impression that it was better classified as psychology than psychiatry you can certainly change it if you prefer',\n",
       " 'a brief history of opposition to shugden tibetan government in exile austerlitz',\n",
       " 'a brief history the id cabal or idcab meme was started by blocked user moulton on wikipedia review it has been taken up with gusto by lara love cla and others now kelly has embraced it there has been an rfc started by members of the intelligent design wikiproject to get people to cease this bad faith smearing but it didn t get very far the three most supported views were basically labels are bad waste of time and wp not a battelground all of which might indicate that labeling people and using any excuse to attack others with that label is bad but the rfc was a waste of time i presume by now you ve read my initial paragrah and the linked edits and see taht my post had nothing to do with intelligent design that i addressed two editors who had been warring and kelly chose to personalize the dispute see reported by mastcell result declined because of lack of consensus specifically where mastcell states admin',\n",
       " 'a broken chair is not a chair a broken chord is not a chord an inverted pendulum is not a pendulum never leave out the the inverted in inverted pendulum the problem with small wheeels and no castor is that the rider had to ride a combined inverted pendulum with gyroscopic forces that inhibit steering and then feed back into speed wobble instability at speed so riding slowly one can ride the inverted pendulum when riding the penny farthing one had to slow down to inverted pendulum speeds to turn and then one had to be a master at inverted pendulum riding to achieve the turn attempting to overcome gyrscopic force of the penny farthing front wheel while moving at speed was not possible as the small and lightly loaded rear wheel would not grip and so would not provide enough torque the small wheel would bounce along and provide very little torque the penny farthing got the large front wheel because the older castor deficient design did not have signficant castor and were hard to pedal as the pedal plane rotated compared to the rider a real pain in the legs the safety bike gave the much more leg friendly pedal arrangement plus the castor on the front wheel removed the problems with turning stability at speed and feed back to the rider the better pedal arrangement of the safety bike gave the rider better ability to do the inverted pendulum control at slow speeds',\n",
       " 'a brownie for you',\n",
       " 'a brownie for you a brownie for you',\n",
       " 'a brownie for you hi cjkallstar i just wanted to drop by from the teahouse and bring you a fresh wiki brownie and say hi how is your wikipedia experience going see you around',\n",
       " 'a brownie for you i like them',\n",
       " 'a brownie for you just wanted you to know i very much understand what you went through here there never was any chance tc',\n",
       " 'a brownie for you sweet for sweet girl padmaja kulkarni',\n",
       " 'a brownie for you thank you for your edits i absolutely agree with you freesaveliytalk',\n",
       " 'a bullet that is more round tends to improve stopping power the energy of the round is imparted upon the target rather than allowing the bullet to carry through when in close quarters the force of the bullet is better used to stop an attacker rather than poke a hole in him',\n",
       " 'a bunch of non academic clowns are now censoring the info so i m wasting my breath talking to morons imo you and everyone deleting the prime spirals are all liars the original article was cited it cited peer level speed tests of all the top prime algorithms yet you twits claim not verified bs i verified my claims this is why the world of academia considers wiki to be run by clueless power hungry twit mods that know nothing about academia read the cites in the article you twits deleted i shouldn t even be wasting my breath on such nazi censoring worms put the page back it was citd to github speed tests the new prime spirals beat all the other prime algorithms and wiki has pages for the slower prime algorithms put it back https en wikipedia org wiki prime spirals github is where the tests were done and not one real mathematician or computer programming expert question the results since anyone can duplicate them from the open source software https github com evandrix splat tree master code demo pyprimes a pyprimes tests https mail python org pipermail tutor december html so the original article cited major outside sources to prove the claims drprinceton',\n",
       " 'a butt ugly fugly muthafucka like you should do the world a favor and just kill yourself already',\n",
       " 'a byte octet is the usual unit of digital storage and can represent the integers to but not simple bit shifting is not enough to divide accurately by because the least significant bit needs special treatment if you hope for accuracy',\n",
       " 'a c ck for you just a small thank you for being so on top of admin tasks and other stuff you know',\n",
       " 'a c using passim and other issues in citing macmillan is also a cop out and would merit a verifiability failure i ve changed the two passims to a specific page and chapter s can you explain about the other issues in citing macmillan',\n",
       " 'a case has been brought against you on ani cheers good friend',\n",
       " 'a case of forgery i found in her book was a quotation formed by taking parts of two sentences a few pages apart in a report and joining them together in the wrong order however generally fradulent would be a more accurate description as it covers biased editing of quotations selective presentation of sources and sometimes blantant lies about what sources contain better not start me on it some scraps of previous debate can be found at talk palestinian refugee jul utc',\n",
       " 'a case of undue weight at the very least this article is not titled denial of genocides in history',\n",
       " 'a cat and i accidentally walked over my owners keyboard causing some vandalism please don t block my owner for my mistake meow',\n",
       " 'a cat is an animal i have an animal does that mean i have a cat not necessarily irv is a form of stv but all stv is not irv',\n",
       " 'a certain admin will block you if you tell the truth about a certain user s dirty tricks but she won t do anything to the user who pulled the dirty tricks she only punishes the victim of the dirty tricks the perpetrator goes scot free that s wikipedia justice as practiced by admin pschemp apparently she wants no one to know that ryulong deleted my request for help on khoikhoi s talk page falsely describing my request for help as vandalism in his edit summary oops was it uncivil again for me to tell the truth if so then prosecutors in court will never be able to tell the truth about crimes because it would be an uncivil personal attack to use words such as lie dishonest vandal thief murderer rapist etc the judge would get too upset by such uncivil comments come to think of it every time an admin describes a user s action as vandalism or a user as a vandal that s an improper personal attack according to pschemp s logic if pschemp treats people equally not likely then she better block all the admins who make those personal attacks of describing a particular user s behavior as vandalism and she better block ryulong for using that personal attack against me in his false edit summaries',\n",
       " 'a chance to speak out about one of the ongoing problems here wikipedia removal of adminship thought you d like to know',\n",
       " 'a chara just in case i was not clear i have no reason to continue contacting elonka over this matter on her talk page and i undertake not to do so having said as much in my last post on the editors talk page thanks again for the review fenian',\n",
       " 'a charakter such as kollias cant be on the same list as heroes artists serious writers',\n",
       " 'a chart of east sea this is a map of the baltic sea in english wikipedia s own north sea and amber road articles link to baltic sea in the form baltic sea east sea',\n",
       " 'a cheeseburger for you',\n",
       " 'a cheeseburger for you by write out the entire movies i mean write out the full synopsis beginning to end scene after scene in atleast paragraphs because i never saw anneliese the exorcist tapes or gacy house and i want to read what happens from beginning to end',\n",
       " 'a cheeseburger for you fatty',\n",
       " 'a cheeseburger for you hey fuck you for deleting my page that was a real serial killer but not everyone knows so i m spreading the word you imbecile mystery man was a real serial killer and i demand an apology he was real if not i will tell the police that your the serial killer who killed plus people you sick freak',\n",
       " 'a cheeseburger for you hi',\n",
       " 'a cheeseburger for you hi softlavender i see you reverted almost all my edit without any prior i know my edit is helpful to an article please before revert edits say why you revert it ok thanks and i ask theres any place to report an admin like you you use reverting in a wrong way reverting is only on vandalism as i know ok leave me a message',\n",
       " 'a cheeseburger for you i love burgers',\n",
       " 'a cheeseburger for you lolcatz talk',\n",
       " 'a cheeseburger for you splosh',\n",
       " 'a cheeseburger for you you are really good but this time lightning dhyanu is a very useful page for public he had a great hidden contribution in changing this world',\n",
       " 'a chelsea persona page sounds excellent but too much resistance there has been too much arguing to reach a broad consensus for a better solution about manning ideally we could re redirect chelsea manning to a new page chelsea manning persona to summarize all the massive coverage about chelsea manning in the new persona plus the history of the new name along with the months years breanna which led to this notable new name then include some background leading to the old spy persona bradley manning a similar fork has been made with audie murphy as the page primarily about his military career but then his major acting career is covered by audie murphy filmography even though he was far more famous as an actor for years with older films even shown on network television stations to millions of viewers who did not study world war ii in fact i was stunned when i read the intro of page audie murphy and it failed to mention actor songwriter in the first sentence only in the infobox clearly manning will be remembered far more years as the transgender whistleblower spy because in recent years whistleblowers are a dime a dozen even after leaking numerous secret documents perhaps many years from now we will have automated subarticle wizard bots which will follow obvious rules of notability e g counting related news articles over years from top newspapers and then recommend creating a nd article in cases where a person has major identities with vast sources about each unable to provide npov balanced text within just one page without seeming wp undue text with the massive details about the newer persona the transgender spy is a huge huge storyline which will echo for years much like a person who later became an actor but under an alias name as compared to the ordinary whistleblower who as just one of many',\n",
       " 'a child born to a portuguese parent is automatically a portuguese citizen provided the parent was born in portugal portuguese nationality law which part did you not understand she did not only apply for citizenship she only regularized her papers she could have done it at age she would be portuguese all the way in canada you have one month to register a child in portugal for those born abroad there is no time limit to register i will give you an easy example i child born in canada before being registered is not canadian so all the children that are born in canada and die before being registered are foreighners the problem i have with the consensus version it is not a consensus not everybody agrees you were given references citizenship as you are aware it is not the same as nationality and writing she is canadian with portuguese nationality would be misleading too she is no more canadian than she is portuguese i can only understand your reasons as being xenophobic if you have any valid reason please state it',\n",
       " 'a child name ohnoitsjamie a childish user name if ever there was has blocked my informative additions yet quite happiy allow corbetts fellatio post',\n",
       " 'a child or a person who has down syndrome',\n",
       " 'a chinese editor added it to numerous vietnam related articles recently',\n",
       " 'a christmas memory hi tr could you and your minions put this article on your watch list the kiddies are having a field day with it and you seem to enjoy reverting vandalism and posting warnings and blocks on people s talk pages i d appreciate it very much as i don t enjoy such tasks sincerely',\n",
       " 'a circle formed around baron von sebottendorf that via the teutonic order in in bad aibling became the thule gesellschaft',\n",
       " 'a citation is when you say i found this exact statement on page nnn of johnson s book xyx you do not have a citation you do not have a correct quotation you do not have a correct paraphrase what you are attempting to do is sleight of hand it is wrong i do not accept it and neither will anybody else with proper training',\n",
       " 'a city in which one third of the population was serb',\n",
       " 'a city warning why d you delete a city warning they meet wp band i m a big fan',\n",
       " 'a claim of a disruptive username',\n",
       " 'a claim to having jewish blood would seem to me to be a stronger argument for him being an antisemite it s about on the same rung as the some of my best friends are jews argument regarding your demonstrations regarding what lasn is they re pure original research on the other hand my statements are cited fact as for culture jam and adbusters the topic of the article is anti globalization they re famous for being anti globalization journals and the inclusion indicates the relevance to this article on the other hand you just invented the notion that foreign policy is an anti globalization journal and your invented characterization has nothing to do with the topic of the article it is in talk',\n",
       " 'a clarification really most of the quotations ought to go in wikiquote under our policies a section of this nature should briefly describe something about her statements with a few pertinent examples but i personally don t care much so i won t push that point instead i ll note that in wikiquote you can find some public statements and rhetoric of the sort i note is presently missing so i see three resolutions a re label the section to accurately represent the intention b re work the text to accurately represent the label by e g including much of the current contents of wikiquote c move much of the quotations to wikiquote and present a brief neutral description of her public statements with a couple examples from both sides of the spectrum derex',\n",
       " 'a class medal with swords the military history a class medal with swords on behalf of the coordinators of the military history wikiproject i am pleased to award you the a class medal with swords to recognise your fine work in developing the hans philipp list of knight s cross of the iron cross recipients sa schr and list of knight s cross of the iron cross recipients schu sz article lists to a class status and can i add my personal congratulations for your commitment persistence and meticulous attention to detail in developing all of the list of knight s cross of the iron cross recipients lists to a class that is truly a legacy to be proud of a significant achievement well done send over',\n",
       " 'a class or not i ve quick failed an a class review of the biography project because there are two fair use images without fair use rationales and entire sections are without references as this is sufficient to quick fail a ga review it must quick fail an a class review as well b class is the highest it can get for now rab',\n",
       " 'a classic bwilkins block with all the familiar traits to experienced observers brevity arrogance and ultimately ineffectiveness in true bwilkins style though someone else has to take his nonsense blocks to their inevitable conclusion so take your bow reaper eternal there s a good lad so here goes bwilkins presumably blocked me because he thought i was about to out someone yet in his incompetence failed to lock this page so drum roll user mo ainm used to be user bigdunc the account that retired and never went back to editting the same articles pulling the same stunts or so the public record would have you believe yes that s the super secret information that the esteemed arbitrator elen of the roads thinks should be permanently stricken from the record even though he s now the very conspicuous last man standing of a clique of irish republican editors who have been skewing wikipedia articles for years using the same despicable tactics and are only now starting to be noticed by the sloths who work ae and be dealt with as appropriate or retire as they see the wriitng on the wall for their hard won reputations as editors in good standing who never got noticed by the dumbshits who are supposed to monitor editors for compliance with all policies not just the easy ones mo survives due in no small part to the fact that none of his mates ever had the good fortune of getting away with a mid life secret change of identity as well as the general cowardice of people like bwilkins who usually run a mile rather than deal with something complex like gameing on irish republican related articles nope that s far too much like work for that lazy prick this change of identity is being covered up by elen on the grounds of outing yes that s right elen wants to stake her reputation on a patently ridiculous claim that knowing that mo ainm is really a bloke called duncan who lives in ireland is a violation of wp outing just to cover up the fact that she never bothered to verify whether this was grade a bullshit before she started blocking people for calling it as such those who were there at the beginning and know just exactly how this lucky cunt came to have this excuse land in his lap and save him from a complete fail in understanding what is and is not a cleanstart so here we are with sponge brained morons like reaper and detestible assholes like bwilkins continuing the farce with blocks and censures like this so well done guys assuming neither of you has the backbone to do the necessary and end this farce once and for all by calling elen out on her lies one of you has to now ensure this post gets oversighted so she can continue this outing bullshit story of hers to cover her own incompetent deceitful ass ab use of oversight is logged so it s at least good to have more names added to the list of people who ve enabled this bullshit for so long anyway it was starting to look like a one woman crusade so to be continued as soon as i can register another account ie in seconds or so',\n",
       " 'a clear case of wp point',\n",
       " 'a clearly and regularly stated goal of the gato negro is the annihilation of all white people any claim to the contrary is a patent lie if wiki can t handle the truth because of its pathetic contrived white guilt then it ought not allow any content regarding this subject to be posted',\n",
       " 'a clegg from sheffield clegg check sheffield check liberal check hostile to the labour party check disagreed with many of his own party s ideas check worked closely with the tories check first name nick hang on quite a coincidence',\n",
       " 'a clever checkmate hadn t thought of that',\n",
       " 'a cock to suck and stop accusing people of sock puppetry',\n",
       " 'a cold rapper on eathang p s im black but lil wayne is da best rapper alive',\n",
       " 'a colleague of mine pointed out wikipedia manual of style icons avoid flag icons in infoboxes while i prefer the flags to be there i do understand the need to be consistent in style it would help if mentioned the link wikipedia manual of style icons avoid flag icons in infoboxes in his her edit summaries chillum',\n",
       " 'a collection of data is a meaningless phrase if i take random pages from a cookbook cut out a sentence from each throw it in a hat and toss the stuff around i have a collection of data yippee',\n",
       " 'a column that elaborates on how the filesystem handles tiny file data of a few bytes like would be nice i e does it waste an entire sector for it or worse does it store it alongside the directory entry inside the directory file does it store it inside the inode of some other file this doesn t really overlap with extended attribute because that s just another tiny file and really regular tiny files are as interesting this is called tail packing and block suballocation which is a similar concept i am unsure about file systems that keep short files with the directory or inode entry i ve heard something vague about ntfs keeping short files in the mft if this is true it indeed isn t represented right now this is correct tail packing and suballocation put multiple files into one block but that is still discontigous from any other related information like the inode block or directory listing by contrast ntfs stores data for very short i don t have an exact number but it s in the several hundred bytes region files in the directory listing which entirely eliminates a seek for the data perhaps a note of this fact in a footnote for the partial suballocation support',\n",
       " 'a combined work can only be seen as a mixture of derivative works and collective works and this is not helpful in an article please note that if you discuss things with me and then add text that was not agreed it seems that you are mainly interested to steal my time moglen is not a trustworthy source as he is well known for publishing intentionally false claims with the intention to use this to get political results given that i just forward statements from rosen and determan who are trustworthy sources it should be easy to write a correct article with citations from trustworthy sources',\n",
       " 'a comment for you on talk alkaline diet nice job on alkaline diet i have added some more information that could be considered any attempts to rectify any of this bias in previous times have resulted loss of life by many and edit history vanishing',\n",
       " 'a comment from your mum see also maggot',\n",
       " 'a comment is an annotation which by definition must convey a meaning if i am not altering the meaning of someone s annotation their comment then i am not breaching wikipedia policy',\n",
       " 'a common misconception fact tag added if the article says it s a common misconception we need citation s explaining how it s a misconception',\n",
       " 'a community of racists and nazi sympathists',\n",
       " 'a complaint about your behavior was previously made at this rr report which concerns the time of the doctor since you ve resumed adding your personal point of view at the time of the doctor with no discussion on talk to find out if you have consensus i m planning to indefinitely block your account from editing wikipedia if you have anything to say in your defence you can respond here wikipedia is a collaborative project not a solo venture thank you',\n",
       " 'a complaint about your disruptive behavior here https en wikipedia org wiki wikipedia administrators noticeboard incidents disruptive users vandalizing article about spiro koleka',\n",
       " 'a complete and utter failure of natural justice your treatment of me was horribly unfair unjust and contradicted all principles of fair dealing you have failed to adhere to the principles of natural justice in particular the principle audi alteram partem my reasonable comments manifestly factual and fair for which i was preventented by you from providing further justification and explanation were attacked by you without any or any reasonable explanation please provide me with all relevant details so that a full and fair hearing of your actions can be adjudicated forthwith and without delay talk',\n",
       " 'a complete restart not necessary this article is on the right track it it were just reorganized in general other articles start with a background of the history of the term in this case when did the designation of mia begin the idea was used as long ago as the american civil war and surely the concept was known in the napoleonic wars as many prisoners were taken however it is also likely that the designation of mia was a product of the expected survival or capture of opposition in pre napoleonic times most wounded soldiers died and many would be killed rather than taken prisoner i am not enough of an expert on this to say when the changes took place but it surely has something to do with mia as a designation i think that the kerry issue is not germane at all to the overall topic although may be worthy of exploration mentioning viet nam and korea are not us centric either as korea was a un sponsored war and many countries sent soldiers while less widely supported british australian and korean soldiers were also present in south viet nam as were chinese and soviet soldiers in the north however there were many wars that were fought by countries other than the us that bear mentioning especially those fought by israel lt oct',\n",
       " 'a complete tosser i need to get a girlfriend at some point because being a virgin sucks please kill me because i am an effin loser',\n",
       " 'a computer shop at named autogame cybershop history',\n",
       " 'a concept blatantly stolen from neil s userpage hah',\n",
       " 'a concept not a condition atheism is a concept not a condition by saying condition you make it seem like its something bad and horrible like a concusion atheism is a concept a concept is a type of belief',\n",
       " 'a conflict of interest alone won t get an article deleted you re welcome to edit an article over which you have a conflict of interest however we highly request that you very carefully read over the conflicts of interest guideline which details among other things issues relating to the potential problems of maintaining a neutral point of view one of our core policies while avoiding original research and promotional material talk',\n",
       " 'a consensus that the city and county would be called londonderry and the council would be called derry city council along with the airport being called city of derry airport was reached by elected representatives who sit on derry city council there is not going to be a fairer consensus reached than that but given that the consensus on wikipedia was voted on by a group of people of unknown although slightly obvious persuasion did you honestly think the outcome would be a fair representative it seems that if i got enough people together i could pretty much change the name of anything or any place if based on consensus',\n",
       " 'a considerable number of israeli citizens who were born in the former su are ethnic russians i doubt it considerably i think that out of the k russian citizens in israel those are the people who immigrated after there are about non jews as the israel statistics show and so the number k might be very accurate others out of the k non jews in israel mostly are ukrainians oohh really who gives a damn',\n",
       " 'a consistent conceptualization of phylogenies phylogenies i e dictomously branching processes are processes that involve things that is objects and as such have to be modeled by object oriented modeling in order to be consistent with the distinction of objects darwins model of evolution illustrates biological species as objects and is thus no different from phylogenies of other kinds of objects like asexually reproducing cells or mitochondria now as an object oriented model the model actually represents two consecutive objects i e two objects in a row by each of its internal lines i e lines between nodes one after a node and one before a node the former belonging to the category i e concept objects after nodes and the latter to the category objects before nodes if the model includes all objects of a certain category then both of these make up this category in summary phylogenies consist of two categories i e concepts of objects objects before nodes and objects after nodes and if the phylogeny includes all things of a category then these two categories make up this category cladistics or cladism as i prefer to call it confuses the concept objects after nodes with the concept objects before nodes by defining lines between nodes as single things thereby confusing category with object that is kind with thing thus confusing conceptualization itself the approach is actually a return to a pre scientific stage this time denying the incompatibility between pattern and process instead of acknowledging it and solving it consistently it is a return alley that no scientist had ever expected anyone to advocate if this approach could ever be proved to be correct then it would mean that reality only exists in our own heads luckily einstein s discovery that time is relative to space falsifies the approach i e claim and this it did even before the approach was born cladism was thus shown to be wrong before it emerged consist presently at',\n",
       " 'a constructive way of presenting differing views is to present them both with their sources as an example tomi ahonen a very outspoken former nokia executive and present nokia critic can give one side of the coin then a reputable source the other pov all this keeping in mind the importance and weight of the matter and what amount of space it should get in the article',\n",
       " 'a constructive wikipedia editor i have seen that you are',\n",
       " 'a contest you may be interested in hello kelleycook there is a new contest for u s and canada roads that you may be interested in to sign up or for more information please visit t c',\n",
       " 'a continuous pattern of obviously racist and defamatory editing will almost certainly lead to an indefinite block take this hour period as a chance to cool off and reconsider',\n",
       " 'a contribution in the team formation is good b you may want to figure out if some of the reverted texts can be relevant to this article one way can be to extract some general information out of the whole data that can be considered as more general than individual c please summarize each of your contributions while making the changes d you can try to work on some other places you committed to make contributions to',\n",
       " 'a cookie for you',\n",
       " 'a cookie for you a cookie for you',\n",
       " 'a cookie for you hi',\n",
       " 'a cookie for you i love cookie because is a good food',\n",
       " 'a cookie for you lel mate',\n",
       " 'a cookie for you thanks for that otrs text approval template on talk universidad empresarial de costa rica frankly i didn t even know there was such a thingy',\n",
       " 'a cookie for your sub storting everybody s doing it ahh relief',\n",
       " 'a cool kid who is cool',\n",
       " 'a copyright problem this article appeared to be copyvio i removed it please see wikipedia contributor copyright investigations please don t restore any content unless you are sure it is free of copyright problems',\n",
       " 'a copyright violation is blocked yes this has happened but the current situation of wishy washy enforcement results in more people being able to get away with editwarring if they are right and more people being blocked because they are wrong some have criticised the same thing happening in arbitration cases those that wheel war on the side of good are congratulated or at worst ignored while those on the wrong side are desysoped both applying things strictly and arbitrarily have their pros and cons on one side you have have idiotic decisions and on the other there is dissent from those that view various interpretations as unfair uneven or incorrect as the community grows and changes what works best may change what works best for a small business or a city council may not be the best for a fortune company or a national legislature needs serious reform december at am wikipedia used to promote fascist propaganda gadgets games at home biztech security connectivity techtips it jobs wikipedia sued for aiding neo nazis december am a left wing german politician has filed charges against online encyclopaedia wikipedia for promoting the use of banned nazi symbols in germany katina schubert a deputy leader of the left party said she had filed the charge with berlin police on the grounds that wikipedia s german language site contained too much nazi symbolism particularly an article on the hitler youth movement the extent and frequency of the symbols on it goes beyond what is needed for documentation and political education in my view she told reuters this isn t about restricting freedom of opinion it s about examining what the limits are schubert said she had taken legal advice before making her move and that she hoped it would encourage public debate on how far internet platforms should be allowed to aid proponents of extremist anti semitic and racist ideologies there are signs neo nazis are trying to take advantage of such structures and this needs to be stopped in good time schubert said especially given that wikipedia is too important to jeopardise as an open and self regulating project a spokesman for wikimedia deutschland an organisation that promotes the internet lexicon in germany rejected the charge we don t really know what ms schubert s problem is arne klempert managing director of wikimedia deutschland told reuters what s important is the context the symbols are used in and here it s quite clearly education and documentation anyone who tries to prevent the nazi period being documented properly has a strange understanding of the world in my view klempert said because that s the best weapon there is to prevent something like that from happening again public display of nazi symbols is illegal in germany but they can be used for educational and artistic purposes schubert also came under fire from party colleagues katina schubert fails to grasp the self regulating mechanisms that work in wikipedia heiko hilker a left party media expert in saxony s state parliament said in a statement right wing extremism on the world wide web cannot be tackled via national criminal proceedings he added schubert said police would pass on the charge to state prosecutors who would decide whether to open an investigation klempert said wikipedia s structure which enables internet users to discuss and edit content ensured no bias arose particularly on subjects like the hitler youth you can be sure it would be changed in seconds if it did show bias he said the hitler youth was the nazis official youth organisation reuters',\n",
       " 'a coup over an immigration act america had slavery less than years before this act passed',\n",
       " 'a couple comments freedom of speech is a human right it can not be arbitrarily erased at wikipedia because somebody decided once upon a time to make wp nofreespeechhere part of company policy it follows that people should have a right to say whatever they want on their talk pages so long as they are here to build an encyclopedia and not for ulterior or nefarious motives',\n",
       " 'a couple image suggestions i just saw your request for images at wpdc i work in dc and can try and get some if you give me the list i will see what i can do i may take me a while though i don t get up there very often and its knowwhere near a metro stop also works at the library of congress and might have some ideas and used to work for the us army center of military history and might have a point of contact of someone who would be willing to look for them there',\n",
       " 'a couple of explanations because i am pretty new to this project and was invited by the wikipedia policy just to step in and make some edits i would like apologize for failing to communicate with you effectively and to clarify a couple of things i have made in the recent days some substantial contributions and modifications to the silesia article that i felt would be valuable to the internet readers i din t expect that some of this changes will meet with such a fierce resistance these contributions were based on my deep knowledge in my opinion and serious studies into the history and modern times of silesia my intention was to write about facts and not about opinions and to avoid any nationalistic bias of any kind i am very seriously touched that people who introduce most of the chaos and natiolistic bias to this article are the first to accuse others of vandalism and extreme nationalism oct utc my suggestion let s write what silesia is now the silesia article do need some serious improvement if we want it to be the valuable and reliable resource for the internet users the current restored and protected version contains so many errors that it will chase away people with basic historical knowledge if it s not changed as soon as possible first i suggest that we write what silesia is now as this is most interesting to the reader and not what is was in the past silesia rich history should be discussed in the history section it is unacceptable to state that silesia lies between odra and vistula rivers first look at any map will show you that silesia lies along the odra river silesia lies today in poland and czech republic it is doubtful if the goerlitz area is part of silesia it is a historical part of lusatia and was joined to the silesian province after im my opinion we should not discuss silesian history in the intro paragraph but we decide to it is unacceptable to mention only the holy roman empire of the german nation i do not care in what order the language names of silesia are mentioned but i do insist that the silesian version l nsk lunsk is included in this list i do insist that the various nationalities and ethnic groups living know in silesia are mentioned clearly and the list should include at least the silesians the poles the germans the czechs the theories about the name of the region must be clearly marked as theories and not as facts the passages need some minor rewrite the remarks about hre overlordship in and are simply false no longer upheld by the german historians and must be removed great care must be taken when dealing with silesian history for example the rude remarks about devastation was caused by hussite rebellion must be rewritten using neutral words the silesia article need more sections on the people economy culture education science and tourism oct utc',\n",
       " 'a couple of maintainability suggestions for the table currently the table is sortable using hs for all columns if we used dts october for the dates we do not have to put the dates in twice in the column and we can enter the date in any format we like currently there is a hs and a age in years and days for the length of service for a manager isn t the age in years and days on it s own enough this is the result of making the changes name nat date of birth club division appointed time as manager ars ne wenger arsenal premier league paul tisdale exeter city league two chris wilder oxford united league two mark yates cheltenham town league two text me',\n",
       " 'a couple of mouse buttons',\n",
       " 'a couple of points a i don t think you re taking the anonimu business too seriously and i find anittas intervention rather bizarre but the key is to keep watching and waiting and acting when really ready it s frustrating that he can get away with so much and his attacks have been pointed out to a number of administrators so far b i too despise the profusion of flags especially when coupled with recentism take for instance a biography i was looking at today that of anna politkovskaya it starts out nicely but once she gets shot spirals quickly out of control maybe just maybe the assassination deserves its own article but as for the main article a serious scholarly biography would never look like this especially the political reaction section c by the way here are the other international reactions articles some are just perhaps salvageable with others now that a few months have passed who cares seems a more fitting reaction',\n",
       " 'a couple of points first relief maps typically employ a significant vertical exaggeration so they re not good indicators of the actual abruptness of a slope admittedly katahdin does rise quite steeply second it s nowhere near the tallest in the appalachiansthere are five taller mountains in new hampshire three in virginia forty three or so in tennessee and more than fifty in north carolina admittedly katahdin is by far the tallest mountain in maine my proposed wording from the low lake country to the south and east katahdin s abrupt slopes and great vertical prominence dominate the landscape',\n",
       " 'a couple of points i as a company employee you should not be making any changes please read wp coi ii you say the entry contains inaccuracies and one of the items discussed is incomplete and misleading if it contains inaccuracies or is misleading it would be very helpful if you would kindly specify the inaccuracies or matters which mislead here prima facie the article is properly sourced and generally properly sourced material wins if the article is incomplete then that is not a problem please specify the missing text and an independent source as required by wp source and we can easily add it thanks',\n",
       " 'a couple of points one beck and o reilly are quite different both in style and in ideas two the words that you quote come in the context of a lead section that summarizes the opinions of both beck s detractors and his supporters for whom he is a conservative champion and a defender of traditional american values from secular progressivism basically that s the beck bio s equivalent of saying that o reilly s commentary has drawn both praise and criticism while i admit that the beck lead is more specific and certainly more flamboyant i think it is probably less encyclopedic',\n",
       " 'a couple of problems here dates are often the least satisfactory way of disambiguating articles is there nothing better i think the third italian social war is the best known i had never heard of the other until i read this so should it be the primary meaning',\n",
       " 'a couple of questions this is extremely urgent i would like an explanation of this message which you left on my talk page um paul maybe you should look at the current version of edits that i did instead of trawling for something troubling that l abelling was indeed a mistake and is why i therefore did not use it as the final i reverted to the previous edit of my nemesis sojambi pinola why so antoagonistic wait don t answer that please don t leave anymore messages for me on my talk page unless extremely urgent i do not agree with your attitude and ways of wiki ing leave me be i m sorry i ever asked for your assistance it has proven to be a grave mistake do not repsond to my talk page for this in this message you are taking reponsibility edits that i did for changes which were made by jonah ayers are you jonah ayers or are you trying to make people falsely believe that you are also your comment i m sorry i ever asked for your assistance seems to imply you have at some time asked for my assistance i do not believe you have but jonah ayers has would you please explain these statements talk actually per your response on my talk page we do not have the luxury here of ignoring other users please answer my question talk when did you ever ask for my help why did you take responsibility for jonah s edits talk',\n",
       " 'a couple of reasons the first one being your misuse of the word anonymously but summed it up pretty well it may not be vandalism but it is certainly not necessary gameplay images should only be included where they are absolutely needed hadley',\n",
       " 'a couple of these images should be added to the article',\n",
       " 'a couple of things references as mentioned above must be recent review articles major textbooks not primary sources please read if you do not know the difference wikipedia has a certain layout of sections for diseases related articles both with respect to heading names and ordering i would recommend that you read all of this page and maybe print it out and give it to your teacher thanks talk contribs email',\n",
       " 'a couple of things to note awb can be used as a bot but mostly its used in semi manual mode although it does help to greatly increase the speed and efficiency of ones edits it also is just one of many tools like twinkle hotcat and a variety of others whose edits are counted i would also note that i question the data somewhat because rich farmbrough did a lot of edits himself prior to being banned from automation so i find it hard to believe that there was only a modest drop i doubt that the remaining editors did enough edits to offset that loss and certainly counting bot edits we are missing out on a lot with that said the corps wikipedia site seems to be operating progressively slower with each new release so that imo is at least part of the reason for the decline also the tabs tend to jump around a lot on slow connections so editors not familiar with the site get turned off rather quickly by have to play chase the wild button around i have had multiple potential editors tell me that they got fed up when trying to make an edit because the buttons kept jumping and instead of hitting the talk or edit button they hit something else a variety of other factors also impacts things but i ll leave it there for now',\n",
       " 'a couple of things when you add a reference to a wikipedia article please consult the above instructions on how to fill out a complete citation bare urls are not very much help when readers want to verify information and when readers want to assess if information comes from a reliable source they are also prone to linkrot which makes it difficult to maintain the wikipedia policy of verifiability at the end of a sentence please put the period before you add a reference thanks',\n",
       " 'a couple of unfortunate historical events come to mind',\n",
       " 'a couple of websites suggest that he suffered a fatal heart attack at home but i can t find a wp rs to confirm this',\n",
       " 'a couple reasons but mostly because the usgs topo maps use dms formatting i guess that s about as close to an official standard that i ve seen on more of a personal preference level i think the dms formatting is a bit cleaner to read and easier to remember i can remember the parts of a dms coord in my head while i m looking up something but i have trouble kicking track of all the decimal digits',\n",
       " 'a cover for this album can be found on http www discogs com viewimages release',\n",
       " 'a cover up obviously',\n",
       " 'a cowards site that must stop changing things he has no right to change you have no right to change nichiren shoshu website nil stop it i have changed this web site over the past mothns whpo do you think you are if i didnt predicte this years ago i would be pissed off however you will not be reborn as huam for a very long time that is why you are changging this site think about buddhism before you act',\n",
       " 'a crazy nerd who dislikes women',\n",
       " 'a criticism of lcea is that it attempts to eliminate monetary cost analysis that is replace the currency by which economic decisions are made with an energy currency why would this be a criticism more explanation would be appreciated thanks',\n",
       " 'a cup of coffee for you and most certainly you need something drink it down with but of course they don t have a real cup of coffee like from my seattle neck of the woods nothing compares best regards amuse cindy',\n",
       " 'a cup of coffee for you get fuckd with coffee',\n",
       " 'a cup of coffee for you i love coffee',\n",
       " 'a cup of coffee for you thank you for commenting on the bengali hindu category have you ever talked with wikimedia bangladesh or wikimedia india the groups which organize activities in your part of the world i live in new york but i would like to encourage development of bangla language wikipedia resources whenever i can i am glad to see on your profile that you have attended wikipedia events in kolkata who organizes these talk',\n",
       " 'a cup of coffee for you thank you for your long history of contributions to lgbt related articles i was looking at various editors in tennessee and it seems that you live there i am from seattle but i wanted to say hello and thanks talk',\n",
       " 'a cup of coffee for you there is no bacon available so it will have to be wikicaffeine instead of wake up and smell the bacon think of this as your last meal for my wrath descends upon ye even as we speaketh',\n",
       " 'a cup of coffee for you welcome back have yourself a cup of coffee and get back to work improving the wiki',\n",
       " 'a cup of coffee for you what you are doing at bhaktamara stotra is very interesting i see a comment above about copyright i also wonder about this the original language must be in the public domain because this is so old i am not sure that the translation is a new translation can be copyrighted and i am not sure where you are getting your translation thanks for what you are doing we do need to verify copyright very interesting talk',\n",
       " 'a cup of cum for you drink it all plz',\n",
       " 'a cup of tea for you',\n",
       " 'a cup of tea for you enjoy here my friend thanks for combatting vandalism',\n",
       " 'a cup of tea for you good',\n",
       " 'a cup of tea for you this is so fun',\n",
       " 'a cup of tea for you who are you',\n",
       " 'a cupcake for you george please read what begoon has written and get back into editing by agreeing',\n",
       " 'a date is given at the very beginning it s disney isn t a good strong argument',\n",
       " 'a day or so to mull it over is exactly where i m at too so much has been thrown up on talk that time out is needed to digest and look into before we can pretend to make sence of it as for the talk page stuff its not like it matters just the usual idiot fringe that make life typically difficult for the other of us',\n",
       " 'a day to remember i hate that band but dude how was i vandalizing it by putting easycore that s what they are a mixture of pop punk and metalcore you told me i vandalized the article when all i did was put what it actually is just because you don t think it s a genre doesn t mean it isn t one don t be a dick',\n",
       " 'a death totals map is now available at image h n mexico deaths svg',\n",
       " 'a debate to see why he was so virulently anti zionist',\n",
       " 'a decent start to the article but needs citations and references',\n",
       " 'a deeply revision of herrerasaurs and non averostran theropods i ll work on their articles and i will be based on the paper of tawa hallae please dont delete my modifications',\n",
       " 'a definite highly problsmtic strategy has been followed by on arbitrator that has npt gone unnoticed by other editprs administrators and arbitrators we get the arbitrators that we vote for the i voted for were all elected with a clean number of votes next time i might look more carefully at their content edits',\n",
       " 'a democrat cyber thug banns me due to differences in writing style gamaliel uses this place as a sword for his own power drunk political agenda gamaliel have absolutely no evidence to say i m a sock of joehazleton other then the asinine duck test i would call the duck test an litmus test of any editor which edits on political bio if you don t follow the gamaliel s radical democrat ideology test you are then labeled a sock of joehazelton this is outrages an abuse of power and due process as it shows wikipeidia unfit to to have any bios on it and i would encourage any with a wiki bio to investigate their legal options and force wikipieida to removed their biography from this website',\n",
       " 'a demon possessed pedophile pedophile alone wasn t enough',\n",
       " 'a demon possessed pedophile pedophile alone wasn t enough',\n",
       " 'a descendant humphrey augustus arthington davy british high commissioner to the kingdom of tonga the davy heirlooms from tracy park were sold by a mrs arthington davy as advertised in the times london england thursday jul pg issue',\n",
       " 'a dick for you suck my dick u toe headed asshole',\n",
       " 'a difficult copy edit will just do the intro sentence soulparadox',\n",
       " 'a dippy lunatic like',\n",
       " 'a discount store is not a type of department store a discount department store is a type of department store they include wal mart target and kmart',\n",
       " 'a discussion about potential changes to the biography section can be found here http en wikipedia org wiki wikipedia biographies of living persons noticeboard amir abbas fakhravar proposals have been given for change please provide your opinion so that we can reach some consensus',\n",
       " 'a discussion i m sure you d like to contribute to wikipedia biographies of living persons noticeboard marcus comedian talk',\n",
       " 'a discussion of nazism and white privilege is unlikely to be helpful for an in depth explanation of why see godwin s law',\n",
       " 'a discussion on windows phone you are hereby invited to a discussion on the windows phone discussion page',\n",
       " 'a disgusting block the block of yourself by graeme bartlett was hocrriffic if you would like wiki revenge please leave a message here',\n",
       " 'a disgusting block the block of yourself by krakatoakatie was hocrriffic if you would like wiki revenge please leave a message here',\n",
       " 'a disingenuous lie you previously participated in user talk dina stop your revert vandalism and thus know already why this item is addem to the dab page and why it s legit and you didn t provide any rebuke to my arrguments there so you have no plausible denial to pretend here and now not knowing it s wp mosdab and wp notability more at user talk dina stop your revert vandalism user talk dvd r w stop your revert vandalism',\n",
       " 'a disney production studio',\n",
       " 'a dispute which may interest you ravpapa you might in the context of your modest proposal be interest in looking here best regards',\n",
       " 'a distorted account by that was the only large deletion i made not a recent example i ve explained all my edits and have been thanked more than once for removing some flagrant un wiki material inserted over time by the very pov pushing bloc of editors who are now complaining the claim that ive made multiple serial edits in violation of guidelines on four or five articles is tanaats opinion at best and an exaggerated fabrication at worst and its such displays of drama substituting for simple facts which i have had to deal with of late in editing these articles please feel free to review my edits and the discussions',\n",
       " 'a diversion two aliens landed in the arizona desert near a gas station that was closed for the night they approached one of the gas pumps and the younger alien addressed it saying greetings earthling we come in peace take us to your leader the gas pump of course didn t respond the younger alien became angry at the lack of response the older alien said i d calm down if i were you the younger alien ignored the warning and repeated his greeting again there was no response annoyed by what he perceived to be the pump s haughty attitude he drew his ray gun and said impatiently greetings earthling we come in peace do not ignore us this way take us to your leader or i will fire the older alien again warned his comrade saying you probably don t want to do that i really don t think you should make him mad rubbish replied the cocky young alien he aimed his weapon at the pump and opened fire there was a huge explosion a massive fireball roared towards them and blew the younger alien off his feet and deposited him a burnt smoking mess about yards away in a cactus patch half an hour passed until he finally regained consciousness refocusing his three eyes he straightened his bent antenna and looked dazedly at the older wiser alien who was standing over him shaking his big green head what a ferocious creature exclaimed the young fried alien he damn near killed me how did you know he was so dangerous the older alien leaned over placed a friendly feeler on his crispy friend and replied if there s one thing i ve learned during my intergalactic travels you don t want to mess with a guy who can loop his penis over his shoulder and stick it in his ear enjoy your evening doug time to escalate',\n",
       " 'a dollar bill is terajoules in the same way that a proton is mev the dollar bill is at rest and it can be used to produce exactly that amount of work and no more',\n",
       " 'a don t panic it s only proposed for deletion you have time to fix it worst case if it s deleted we can move it to your own userspace and you can work on it there no rush no deadlines b it s been nominated for proposed deletion because someone thinks that it s original research wikipedia articles have to be based on facts from reliable sources such as newspapers books whatever the only sources on this are a movie and the website of the movie if the facts presented have not been published in other independent reliable sources that might be a problem for the fundamental point see wp vrs links to wp v and wp rs give more info c ask the person who tagged it if you look in the page history you can see it was so leave a polite enquiry on their talk page user talk rp asking for clarification for more help you can either leave a message on my own talk page or use a helpme please create a new section at the end of your own talk page put helpme and ask your question remember to sign your name by putting at the end or talk to us live with this or this the last of those is particularly useful please try it pop in now and say hello',\n",
       " 'a duck may be a duck but i am a weasel i cannot be found',\n",
       " 'a duo creating whatever they are received a reply from a certain redux there is the writing of a user who apparently lives in delusions of being an honest editor peaceful and behaving properly http en wikipedia org w index php title user talk aredux diff oldid found some old background from one certain user apparently a possessive mind talk real order of items',\n",
       " 'a e housman famously failed his degree and was appointed professor of latin at london on the strength of published articles written in his spare time is it possible however unlikely that someone might be accepted for the b phil on a similar basis',\n",
       " 'a easy answer go to the user talk page create a new section and put this subst the original barnstar put your message here b there s lots more choices see wikipedia barnstars if you want to give me a barnstar here that s absolutely fine it s best to put the barnstar on the user talkpage and let them move it to their user page if they wish to do so',\n",
       " 'a eric partridge was hugely authoritative in the field of slang and neologism in english b he died prior to any of the events under discussion here making him an unreliable source on them c the talk campaign for santorum neologism archive partridge revisited quote given appears to be a posthumous updating of his book alas i don t have access to this specific edition d even if the quote were authoritative it cannot be used either for or against the word neologism in this context because while it describes santorum as the child of a one man campaign and not having wide usage at the time of print naturally it neither says nor implies that it is not a neologism',\n",
       " 'a error need of protection hello i want to report an error on wikipedia perhaps it s just on my computer but sometimes when i put my mouse pointer on the area where there is the username of the user and link to it and the talk page link and all it weirdely shifts to the left and the other thing is i say the wikipedia intro page definetely needs protection so only admins can edit as lot s of people vanderlise it and put ad s or usless info and such on it and it s very effectful if it s an ad becuase almost every new user goes there so please look into these two matters thank you',\n",
       " 'a ethiopia is skin color not race',\n",
       " 'a ewe is a female sheep since the word is pronounced you there is some confusion surrounding this word strictly from spelling an ewe seems more appropriate but from a pronunciation point of view a ewe is superior while i m not sure which version is more gramatically correct a google search suggests that a ewe is more common oddly some websites use both methods of spelling so i m inclined to keep it at a ewe',\n",
       " 'a extreme case of genatal herpies from water',\n",
       " 'a f c chickenley said mr ashley hunt the first manager',\n",
       " 'a f in case you missed out on the random assortment of blurbs gags and puns check out user talk the herald talkback',\n",
       " 'a fact page hi what is the point of creating a page that contains one single fact and is destined to mould and wilt away',\n",
       " 'a fact see his conributions on pakistani movies songs and multiple islamic articles',\n",
       " 'a factor of',\n",
       " 'a false claim that is created by just removing important information is still a false claim udf is part if the dvd and bd standard but unsupported by libburnia',\n",
       " 'a false fight it was still a planned fight for that date no matter what the rumors said until the recent official word it should have still be on the card and like i said before putting lesnar s fight up on was premature because nobody knew out sick he was and when he would be able to train it doesn t what carwin said on his twitter',\n",
       " 'a famous type of trolling',\n",
       " 'a far right wing wanker',\n",
       " 'a favor tim would you be able to access this source to complete the list of other conditions at coprolalia coprolalia is not unique to tic disorders it is also a rare symptom of other psychiatric disorders singer c tourette syndrome coprolalia and other coprophenomena neurol clin may pmid best regards talk',\n",
       " 'a featured list candidacy someone is objecting to the list because there s no evidence for hadrian antinous i have never studied hadrian extensively but it seemed rather in your area of interest have a nice day',\n",
       " 'a fellow republica hello mc rufus hey that s part of william ii of england s name i feel you re letting your passions get the best of you concerning citzens for a canadian republic i hope you ll reconsider yes i m a republican who likes to edit discuss monarchies',\n",
       " 'a few claims are made in that paper which fail to understand where hydrinos apply or do not apply for example the higher temperatures in the electrode regions of high pressure hydrogen discharge plasmas would overcome significant activation energies for the proposed hydrino formation reactions there are no reports of high pressure hydrogen plasmas collapsing into hydrinos with a burst of hard ultraviolet radiation and x rays they the authors of this response to mills work do not account for the catalysts needed to make the hydrino transitions possible indeed the word catalyst fails to appear even one time in this response to mills work they do not account for the fact that sun produces massive amounts of hard ultraviolet radiation and x rays by multiple means and these are not necessarily all identified they do not make note of the claim that hydrinos cannot be observed without knowing where the emissions of their formation should peak in the sun s electromagnetic spectrum indeed the word peak fails to appear even one time in this response to mills work if hydrinos existed their lte density in the photosphere would be vastly higher than the density of ordinary hydrogen they provide no calculation any assurance that the former would be much greater than the latter they do not account for the lack of sufficient density of catalysts to produce such alleged greater presence of hydrinos relative to particularly in the photosphere expert sectioneer of wikipedia karma talk',\n",
       " 'a few comments about some criteria x instead of giving half a point give two points criteria maybe it would be better to give one point for organization that are years old and two points for those that are i also think that there should be a criteria which takes the number of ranked fighters of an organizations into account since the main problem with such a criteria is to determine which ranking to use i recommend using the fight matrix rankings most of the other rankings only go to the th place while with fight matrix we could take into account the first athletes of each weight also historic ranks are readily available',\n",
       " 'a few comments on the article good article overall but in reading through it i think that certain areas are in need of improvement firstly i thought there wasn t really enough explanation of why it would be preferable to build a space elevator the economics section has info on costs and all but this is rather brief and comes towards the end of the article i would think that explaining the perceived necessity of such a device would be one of the first things to state there were some things about the specifics of the engineering which i think need a lot more explaining for one is it proposed that the cable be a single thick wire or many tiny thin ones it seems to be talked about at various points as if it could be either so i think that needs more clarity something quite important that i don t think was addressed at all or at least i couldn t see it was the issue of how exactly the cable or the whole structure actually gets up into space in the first place are we to assume that the cable will be towed up by a rocket or something if not that then how several times in the article it is mentioned that the counterweight could be an asteroid or a space station but these two things are very different aren t they i mean in terms of mass an asteroid probably weighs millions if not billions of tons whereas a manmade space stations would be only a few hundred or thousand tons unless some gargantuan station is proposed so how can these to things be comparable and what kind of actual weights will be involved finally the article doesn t give much information on how the climbers are proposed to move it is mentioned further down that magnetic levitation might be used but is that the norm is that what they all propose or are there different plans like just mechanical wheels etc well that s about all i can think of for now i hope the article can be improved with some of these suggestions',\n",
       " 'a few concerns i noticed at kars turkey that you aren t working within wikipedia s rules we have rules which require good manners and which prohibit edit warring and you should probably review those rules before you continue editing at wikipedia people from many cultures work together to try to create a fully neutral and verifiable encyclopedia so when we disagree we stop and politely discuss our disagreement on the talk page until we reach consensus i hope you ll try it i think you ll find it works much better than what you re doing so far talk contribs',\n",
       " 'a few critical differences between the non controversial illuminatus trilogy and our novel it doesn t make claims of accuracy as dvc does all descriptions of artwork architecture documents and secret rituals in this novel are accurate it doesn t take itself seriously and dvc does it isn t being used as a proof text to attack the catholic church and christianity and the dvc is',\n",
       " 'a few dozen failures out of several tens or hundreds of thousands of removals is not proof that the process is completely ineffectual talk',\n",
       " 'a few hours ago i heard i just had to let it go piped through the p a at the hardware store yuk no wonder they shot him wasnt he and brian epstien but buddys thank you margeret suckley english maiden',\n",
       " 'a few hours north of boris it s a nasty degrees and snowing hard it s dropping a nice layer of slush instead of nice snow when it goes back into the freeze which it is expected to do for the coming week our streets will be ice rinks i m just hoping for a few inches of nice snow for skiing on top of this i m going to get myself new skate skis as an after christmas present',\n",
       " 'a few ideas to balance the us centric style whilst you have brought in large area of british mainly english and welsh facts neverthe less the opening paragraphs are somewhat us based i have no knowledge whatsoever on anything other than the uk perspective though as this contributes significantly to us law it will at least set some history i am also a little bit concerned at why juries were created in the first place you state that this is because they are believed to be free from bribery historically trial by jury arose because of the difficulties of securing trial by ordeal due to a change in church law by that time juries already sat to decide if there was a primae facie case to answer the modern equivalent being grand juries the history of trial by jury in england and hence the us is related to several important events most notebly the assizes of clarendon the fourth lantern council and the magna carta it may be useful for you to have a look at some of the wikipedia sites listed below http en wikipedia org wiki trial by ordeal in the assize of clarendon enacted in and the first great legislative act in the reign of the english angevin king henry ii the law of the land required that anyone who shall be found on the oath of the aforesaid a jury to be accused or notoriously suspect of having been a robber or murderer or thief or a receiver of them be taken and put to the ordeal of water http en wikipedia org wiki fourth lateran council canons rules on the conduct of the clergy including against such things as non celibate living drunkenness frequenting taverns hunting conducting trials by ordeal or combat http en wikipedia org wiki magna carta though you may be best considering the uk statute site which says http www statutelaw gov uk content aspx activetextdocid no freeman shall be taken or imprisoned or be disseised of his freehold or liberties or free customs or be outlawed or exiled or any other wise destroyed nor will we not pass upon him nor x condemn him but by lawful judgment of his peers or by the law of the land kind regards andy cheetham',\n",
       " 'a few ideas to balance the us centric style whilst you have brought in large area of british mainly english and welsh facts neverthe less the opening paragraphs are somewhat us based i have no knowledge whatsoever on anything other than the uk perspective though as this contributes significantly to us law it will at least set some history i am also a little bit concerned at why juries were created in the first place you state that this is because they are believed to be free from bribery historically trial by jury arose because of the difficulties of securing trial by ordeal due to a change in church law by that time juries already sat to decide if there was a primae facie case to answer the modern equivalent being grand juries the history of trial by jury in england and hence the us is related to several important events most notebly the assizes of clarendon the fourth lantern council and the magna carta it may be useful for you to have a look at some of the wikipedia sites listed below http en wikipedia org wiki trial by ordeal in the assize of clarendon enacted in and the first great legislative act in the reign of the english angevin king henry ii the law of the land required that anyone who shall be found on the oath of the aforesaid a jury to be accused or notoriously suspect of having been a robber or murderer or thief or a receiver of them be taken and put to the ordeal of water http en wikipedia org wiki fourth lateran council canons rules on the conduct of the clergy including against such things as non celibate living drunkenness frequenting taverns hunting conducting trials by ordeal or combat http en wikipedia org wiki magna carta though you may be best considering the uk statute site which says http www statutelaw gov uk content aspx activetextdocid no freeman shall be taken or imprisoned or be disseised of his freehold or liberties or free customs or be outlawed or exiled or any other wise destroyed nor will we not pass upon him nor x condemn him but by lawful judgment of his peers or by the law of the land kind regards andy cheetham if you want to establish reasons for the use of a jury then it may be worth considering',\n",
       " 'a few kind words obviously this is a subject that s intrinsically important it s worth caring about and you care concern and dedication are good things the challenge is to direct that energy into positive uses two years ago an editor approached me for help he had a block log an arm long seven edit warring blocks he was working in an important but controversial area we communicated tentatively at first then more closely not only has he never been blocked since then but he s become one of wikipedia s most prolific featured content contributors he has since become a sysop at four different wmf sites is an otrs volunteer and was recently reelected as an arbitrator at wikinews he still edits that same controversial topic and has written two thirds of its featured articles and good articles what he told me about his blocks was this he treated them exactly as blocks are intended to bebreathing room he d go out get fresh air do other things then return relaxed and refreshed i don t mentor anymore but if you d like to seek a mentor i d be glad to communicate with both you and the mentor best wishes',\n",
       " 'a few major concerns with this article the opening paragraph says unequivocally that newton discovered calculus in this early notes years before leibniz however this is not a solid historical fact in my opinion this is based on the reports of newton s own inner circle who claimed that newton showed the calculus to them these very men had obviously taken newton s side in a bitter debate that had seen newton actively try to obfuscate the issue newton even anonymously wrote the concluding remarks in the report by his own royal society whihc claimed leibniz a fraud and newton the true discoverer it should be added to the opening paragraph that the dates of newton s first use of the calculus are based on the witness accounts of newton s close confidants',\n",
       " 'a few minutes later the voting rights act page became vandalized during my edit i have no idea what occurred there i only added back the african american civil rights movement template ah what happened was that i was working from another editor s edit went to the page and apparantly edited it then and there as i found it and it must have been an old copy of the page the selma march page that was a real vandal i was the accidental vandal on the voting rights page thanks for muddling through this with me randy kryn march utc',\n",
       " 'a few more questions hello again i have a few more music history questions since the baroque period is said to have begun in were there musicians composing in the baroque style before monteverdi and can wilhelm friedemann bach son of johann sebastian bach be considered a composer of the classical style and period as well as the baroque',\n",
       " 'a few neanderthal writers in the past have even promoted the ukraine to reflect the original meaning the borderland in order to diminish the international political stature of ukraine that s not bias if it is indeed true he is trying to promote correct english not promote a usage deprecated from the ukrainian ssr but the russian xenophobe around here never ceases to amaze me if you re looking for an authoritarian source http www economist com research styleguide index cfm page',\n",
       " 'a few notes on assembling a dyk queue thanks for all your work assembling these queues but may i suggest that you review the list of unwritten rules for these among other things they advise that each queue should be roughly half biographical hooks roughly half u s related hooks and should end with a funny or quirky hook to leave em laughing i know this makes putting a well balanced queue that much harder but it s how it s done i m told for the best interests of the reader',\n",
       " 'a few of them were charged in the ina trials that page discusses the trials generally in more detail along with members of the ina proper as mentioned in the text and presumably the rest would have been but because of the tension the trials produced most of the trials were halted before independence presumably including those of legion soldiers all the indians who fought for the axis were released in including the three who had been sentenced but as the british insisted they were never allowed to serve in the new indian army innotata',\n",
       " 'a few other related tidbits crawford cites the old parochial registers of scotland as listing a robert turnbull as witness to the baptism i suppose so there s the source of the name whoever robert turnbull was crawford also claims that robert turnbull macpherson disappears from the records of the royal scottish academy s exhibitions after while robert t macpherson appears in rome in part of the significant but still circumstantial body of evidence that the two are the same person iainl you said we have been advised elsewhere not to correspond with alistair crawford can you elaborate in my correspondence i found crawford to be most helpful',\n",
       " 'a few points all cabals are bad ideas if you want something done find a taskforce or create a workforce we are dealing w admins the mfd might be snowballed i d like to see proof that there is proof or isn t perhaps scanning the users contribs for any edit summary mention of the cabal i m in so much wikitrouble now that a if i get in anymore i might be blocked b i really couldn t care less if i did i won t nom it but i ll support deletion as goes for all those other cabals out there you can weigh these and make your decision of what to do choose wisely and let the wikiforce be w you basketball tell me yours',\n",
       " 'a few points if i may i wasn t really interested in this gw issue until i came here and realized how crappy the science was and the writing all of which based on models as far as the eye can see the real quality of which is inversely proportional to the control of the information mostly by people whose careers depend on it namely modelers as far as the table is concerned like i said before it s a unit increased in co as in unit vector of change for whatever use that might be i just liked it that s all it is i m also asking that if there is at least one single article on any actual physical experiment conducted in a microcosm for instance that could compliment the overwhelming propensity of models it would be nice to include it here provided it could get in seems the world is already being controlled by programmers',\n",
       " 'a few points if it is such a simple citation then hundreds of people must have made it but apparently you cannot find even one international legal scholar there is indeed a great deal of room for interpretation of the act after all remove as the language of the act states is not the same as overthrow feb utc',\n",
       " 'a few press releases reprinted in the local press are not significant coverage the only mention in the national press is an accusation of looting',\n",
       " 'a few problems with the article something s going in the robin hood section of the history column also someone keeps erasing the rescuers down under off the list of titles and saying the bambi came out in as well as peter pan in and a mention of a promotion when lady and the tramp came out someone want to fix that user skymac skymac',\n",
       " 'a few questions about the block i am curious about a couple of things regarding your blocking event first what led you to believe that i had anything to do with this',\n",
       " 'a few quick comments as has been noted this wikipedia article contains many images that are completely unlike anything else available in an online encyclopedia type work the same is true of images in many other wikipedia articles including this one if we are to disregard newspapers because they re apt to sensationalize and only focus on online ecyclopedia type references the choices are very limited i m not aware that it s even possible to do an image search in google books anyway here are a couple more refs for you to munch on i think the main focus here should be on whether the proposed image is verifiable neutral and informative',\n",
       " 'a few quick options if anyone is interested i don t hate proclaimed but i see the concern at least two other editors are against it i love most countries maintain their embassies in tel aviv but this seems too long and could possibly only tell what not why i m also a big fan of positions on jerusalem thoughts is it a cop out i suspect that disputed or anything similar ie disputed by the international community is a non starter doing nothing seems to also not be an option for some even though i would not be completely against it since we already have an inline citation',\n",
       " 'a few rather simple questions which polish government what region and time what regiments polish and soviet if regiments or if partisants and finally how about warsaw uprising just an example to show how generalization can go utterly wrong was not ment as an insult continuing about units or rather direct question were ak units fighting soviet partisans or not further questions what weapons uniforms and helmet do we see in the image comp obwsambor inspecdrohobycz burza jpg regarding the second issue just two citations on piotrowski by mediator on this article denying author as a third party source see this from the peer review of his book as stated above the book nearly ignores the soviet and nazi participation in the polish holocaust after a very brief description of the economic social and human atrocities committed by the soviets and germans constituting only pages out of a total of over piotrowski delves into the manner in which poland s largest minority populations attempted to exploit the upheaval of war i ll not go into further conclusions the review says it all sometimes the book does seem as if ak did not fight against germans but more against minorities in borders of second polish republic',\n",
       " 'a few sites list a few years and numbers most sites list the home run totals',\n",
       " 'a few suggestions on measuring economic worth over time i fully realize that this is a work in progress but thought a few suggestions could be useful i ll post some specific ones on the talk page but more generally please don t take it the wrong way but i think quite often your writing style reflects academia too much as if you were writing for an academic journal however the intended target audience of the wikipedia is different than that of a bunch of academics so care should be taken to avoid unnecessary nomenclature and jargon as well as to avoid academic phrasing in favor of simple formulations more importantly i think one should be careful with introducing terms and concepts into the text that have not been defined previously and that a lay reader may be unfamiliar with for example social cost or social production speaking of social production it d be useful to standardize the terminology when it is being used for example it seems like by proportions of social production you refer to income shares of various classes workers capitalists landlords etc if so then that should be stated clearly if not the difference should be clarified likewise comparing the article title and the lead i think you re equivocating between economic worth and social worth which could be are distinct concepts also because i m probably coming at this from a different background i m wondering what exactly is the relationship between social product and more standard measures of production like gdp income etc both contemporary and historical wage price series are inherently controversial as they speak to the standard of living of working class people i m not sure if contemporary wage and price series are really inherently controversial in the sense of being outright rejected by many researchers at least that doesn t seem like the appropriate word here likewise i don t think the reason why they are controversial deemed important is because they concern working class people they obviously concern all members of society whatever their class status in a similar way the idea of economic worth can refer to entities such as firms charities nations or even physical objects such as machinery and equipment proportion of gdp and the questions given as examples aren t really related for example the question what was the opportunity cost of a investment in is not obviously or directly related to the question what was the social power of capital in some ideas for expansion theoretical problems sections should link and perhaps briefly mention things like the ltv and marginalism maybe something like the aggregation problem though that article needs some serious work wage price series can be expanded to include discussion of how these kind of data are generally collected btw i m not sure what a real price is here an individual good price divided by a price index for historical wage price series there s also a good bit of data available for the netherlands and to a lesser extent france and germany there s also sporadic data for a wide number of different societies which don t really constitute a series but do provide snapshot views of the economy society in time all the way back to ancient sumer the main difficulty of comparing aggregates across time is the changing nature of a consumption basket and time usage in particular introduction of new goods and disappearance of old ones like malleus alludes to above this should also be elaborated upon and made more explicit i d really hate to barge in and edit a new article while it is still being written so i thought bringing up some suggestions here would be better thanks',\n",
       " 'a few things i wanted to say i don t understand why everyone thinks cockney can only be spoken on the east end it seems to be much more of a working or lower class accent found all over london maybe not all over but certainly not just the east end if you listen to sound clip for example you ll hear a man from peckham peckham is not in the east end instead it is in south london and yet he is more cockney than anyone i have heard in my life it says in this article as well that most characters on the sitcom only fools and horses are cockneys and yet that takes place where else but in peckham this article also says that snatch contains cockney accents and yet jason statham who plays one of the main characters in that film and seems to speak with one of those accents is actually from sydenham in south east london what are some differences between the so called south london south of the thames accent and north london accent i just find it annoying that locals claim to be able hear differences between the two and yet they never can describe those differences when asked it makes one doubt whether such differences even exist it s kind of like how new yorkers claim to be able to distinguish between bronx accents and brooklyn accents irish new york accents and italian new york accents etc but when asked what those differences are they can t give you an answer it s all b s if you ask me',\n",
       " 'a few things this is a shared ip i am absolutely not the only editor who has made even the bulk of the edits listed for it most of the recent edits and at least those i have made are in good faith and reasonably constructive i have not double voted or used any other ips to back me up in any sock like fashion in the same discussions every time i log on i get some new ip in the same range there s nothing i can do about that i don t edit enough where i feel justified starting an account and given these ip s history of abuse by other users i wouldn t even want an account link to these ips but i figure so long as i don t use two different ips in any of the same discussions this shouldn t be a problem but again unfortunately these range ips are shared by some unknown number of editors and are assigned as far as i can tell randomly thus i don t see anything here being done in bad faith or in an actual sock like fashion',\n",
       " 'a few things to get straight firstly i do not like you you look like a smug little prick to me secondly i do not like your ethnicity not one little bit i d like you to explain yourself on that count thirdly your dog is a bit of a bender',\n",
       " 'a few too many spoilers for future volumes editing',\n",
       " 'a few weeks ago in anticipation of millennium park regaining its featured topic status i broached the idea of cup credit after the last article was promoted and you indicated that credit would not be granted it is my belief that i misrepresented the work done to regain featured topic status at a time when one last article was needed it is also my belief that you rendered a decision that getting credit for getting one last article promoted was gaming the system you noted that this type of credit was dangerous territory for the cup clearly just having articles added to a topic or repromoting a deleted topic could be gaming the system but when a rule change requires taking a article topic from rd to featured content it is not a matter of gaming the system the winner of this contest could come down to whether you grant me featured topic points for wikipedia featured topics millennium park i earned ft points for this topic when it was first promoted at that time the topic was articles and the requirement was that of the articles be wp fc and all be at least wp ga thus i was acknowledged for bringing of topics to featured status however during the year two articles park grill and grant park music festival were added to the topic and the requirement was increased to of the articles needing to be featured thus i had to ensure that the two new articles be promoted to good article which i did without a lapse in topic status and that a total of of the articles reached featured thus i helped raise mccormick tribune plaza ice rink march harris theater chicago june millennium park august and exelon pavilions september to featured promoting two gas and fas is more work than most people have to do to get a new ft t c wp chicago wp four',\n",
       " 'a few writing tips may i suggest you read through the wikipedia manual of style for some general tips on how you should construct your edits some of your recent edits seem to be more focused on opinion rather than facts chiefly your edits on of mice and men if you need further assistance feel free to get in touch with me or an administrator of whom i am not',\n",
       " 'a fight and argument also i am very stingy and i am a retard spastic and i smell like a donkey s feces',\n",
       " 'a filler ad on page urges readers to team up with the south end contact adam steinberg the editor in cheif sic by writing asteinberg southend wayne edu october',\n",
       " 'a final sidenote not having to deal with nationalist irrationality every day really makes me much more unwilling to accept as legitimate the doublethink practices that are necessary for nationalist rationale to be used in any context',\n",
       " 'a final truth it has come to the stage that any halfwit person with internet access is able to edit wikipedia and destroy the good work that so many of us spent hundreds of hours creating in my time here i have played a vital role in the re organising wikiproject animals and wikiproject zoo i spent countless hours assessing hundreds of articles and spent days on end tryin to work out solutions to many problems i created the zoo and aquarium portal maintained the animal and mammals portal and assisted on the wikiproject council i am disturbed at my treatment on here by some users i put so much effort and work into the project only to be spat on in the end i am proud of all the articles i created and expanded bring many up to ga status i contributed some images to wikipedia and commons in a better attempt to cover the zoo s of our worlds it will be sad to see the projects fall back into inactivity however i leave knowing i did my best to salvage and restore them pro',\n",
       " 'a fine lawyer if i do say so myself',\n",
       " 'a fine xmas message for all of us to be mindful of hehehe cheers talk contribs',\n",
       " 'a fire you worthless friendless bastard i hate you',\n",
       " 'a first and only award winner is a notable statistic in my opinion',\n",
       " 'a first rate english language source for preacher in this context is the hamsun centre s current exhibition on the politics of hamsun http hamsunsenteret no en component author page knut hamsun s posthumous reputation',\n",
       " 'a first thought is to replace the number of oxides with their classification to basic acidic and amphoteric but as all information this would need to be properly referenced not just to wikipedia itself',\n",
       " 'a floppy version i deleted the lines in the article which referred to the dig being released on floppy while my recollections of year old games may be slightly rusty i am virtually certain that the dig was only released on cd rom given the amount of work and money put into the voice acting and pre rendered cinemas it would have been insanity to try to make a floppy version which would have required even more work coming up with static screens to cover the missing movies there was a meg or so demo released around which could have with compression probably fit on floppies that s likely what the editor was thinking of if someone can come up with concrete information on the demo s release it would be a good addition into the release section',\n",
       " 'a football player because of his quickness as a child unfortunatly he died of throat cancer his mother could not find a job in the urban area so he moved',\n",
       " 'a for the readers that want to see a pattern for those that like consistency for those reading several articles on states b and first the mississippi river has the feature type included first it reveals it is a river that is what is true for most things mount victoria victoria hill xxx county new york city they get added the type on victoria except for gallic empire and australia every link says something about the type and victoria australia could be anything which is much more than for something to be anywhere victoria australia could be a type of meal from australia victoria state reduces the possibilities of what the article could be about much more of cause it does not tell how many people live there or what the capital is or who the president do they have one and not where it is located but it reveals one feature of the state of victoria namely to be a state',\n",
       " 'a four day series of articles from a reputable author which material became an authoritative book on the subject contain material that had not been introduced before and was essential to the article achieving wp ga status the use of this material is consistent with good wp practice user hopsonroad',\n",
       " 'a frank apology i would like briefly apologise to my disgusting and unwarranted vendetta against you i deeply regret and am greatly ashamed by my abhorrent actions and comments and i assure you they will never occur in any form again i am sorry and apologise for all the offence and disruption which ensued my actions to ensure this does not re occur i promise to avoid this talk in future and that you shall never hear from me again sorry',\n",
       " 'a friend wuhwuzdat and hellbus when s the wedding now don t expect me to come but don t worry i ll watch you on the news on the next ha ha ha ha haaaaaaa this time it will be a nuclear event you can count on that wuhwuzdat can you feel me near do you sent the jet fuel stench tell me how is it feel when someone like me is taking a dump in your mouth and there s nothing you can do against oh not against me the real me well what can you expect from a nation with a nigg president a kenyan nigg impotent nation though i must admit that whore michelle is ouch sexy but don t you even think about woman like that first you gotta pass the jerk off period in your life before you start eyeballing women well good luck to you abomination obama nation by the way if you wondering what s going on with osama bin laden osama obama pretty close names don t you think i ll let you know he s hiding yep they are still hiding him deep into the mountains the norad mountains ta ta',\n",
       " 'a friendly advice i ll advise you not to participate with this user on the bases of wp canvassing which he is already reported for calling other editors of one s choice to support their cause results in blocks even when one is right ping',\n",
       " 'a friendly advice if you have to refer to me kindly use cult free and not only cult',\n",
       " 'a friendly heads up i thought it was only fair to warn you that have been corresponding through email and aol instant messenger since your response on s talk page and from the sound of things you may have a ban coming one non admin to another i don t think your behavior really merits that harsh of a sanction but i thought you should know thanks and have a blessed day',\n",
       " 'a friendly message to angela if you haven t contributed anything we wish you leave the users alone try going somewhere else like a cruise and please don t get anymore people blocked from this website',\n",
       " 'a friendly message to angela if you haven t contributed anything we wish you leave the users alone try going somewhere else like a cruise and please don t get anymore people blocked from this website',\n",
       " 'a friendly note peter this is noc i am here to try and explain something that i think you ve misunderstood the claim that i was denying peoplehood to jews is incorrect those edits you ve noted were in fact fighting a particular antisemitic person his edits were such that he claimed lazar kaganovich was responsible for the ukrainian holodomor because he was jewish and he tried to use jewwatch as a source tried to remove israel from a list of countries selling pringles based on the incorrect assumption that israel is not a country and then went around inserting is a person of jewish descent into articles about jews he did not like i was not denying jews peoplehood i was corecting the fallacy that judaism is only a genetic ethnicity which is a lie perpetrated by people like hitler sposer explained it to you exactly as i would have there are many many jews who are not decendents of the original hebrews there are people who converted people who were the product of mixed marriages in europe etc they are jews too concentrating on the religion aspect does not deny peoplehood rather it eliminates the fallacy that jews are a race only if you would like to discuss further please ask fayssal for my e mail and i will be happy to talk to you i am doing my best to at least clear up these misconceptions best wishes',\n",
       " 'a friendly reminder',\n",
       " 'a friendly reminder i advise you to join the discussion first at list of countries by average wage before making controversial reverts because the current consensus is against your revert please read wp consensus a policy all editors must follow thanks',\n",
       " 'a friendly reminder i advise you to join the discussion first at list of countries by average wage before making controversial reverts because the current consensus is against your revert please read wp consensus a policy all editors must follow thanks',\n",
       " 'a full explanation of the edit that sparked this controversy is in a comment here',\n",
       " 'a funny thing happened on the way to the forum i see a direct connection from this play film to this brilliant brief tv series but does anyone with a reputation for fact checking say it anywhere',\n",
       " 'a fur has been provided',\n",
       " 'a further article about ts has been published by eurogamer',\n",
       " 'a further edit i just did to the definition section will hopefully settle the matter of the difference between method and metaphysics please review and advise thanks',\n",
       " 'a further members were added to the unesco assisted network in as listed in the unesco press release at http www unesco org new en media services single view news eleven sites added to global geoparks network retrieved st october incidentally in advice to members of the egn unesco currently inists that the global network not be labelled as the unesco network etc but as for example the unesco assisted network',\n",
       " 'a further quote from manuals of style this time from the section which directly addresses the issue of mixed or non capitalised for trademarks that are given in mixed or non capitalization by their owners such as adidas follow standard english text formatting and capitalization rules the mixed or non capitalized formatting should be mentioned in the article lead or illustrated with a graphical logo standard english text formatting and capitalisation rules would render greeeen as greeeen plain and simple it s not even possible to use camelcase as a defence as it s capitalisation for capitalisations sake within a single word i m not quite sure how much clearer i can make this',\n",
       " 'a game can t you send it to me',\n",
       " 'a gamecube game p n or product number sets the player as venessa schnieder in the distant future after c a m s goes down the main computer network on mars venessa is sent in to clean up the mess you only have one weapon your suit which is equipped wit ha hand shot and a list of combo moves your main goal in each level is to get to a certain area and or destroy a certain objective however destroying enemies faster without being hit yields a higher combat point bonus which is used to buy things like continues or different suits as you progress through the game levels get longer enemies get stronger and your skills get better the game has a pretty good future techno soundtrack and with all the bonus missions it might take a while to complete',\n",
       " 'a gan that might interest you if you have time but you re a busy person so i won t disturb you for long hi pyrotec i saw that you had reviewed john douglas architect and so on the off chance that architectural articles might be of interest buildings of jesus college oxford might tickle your fancy then again it s very new and only just been added to the ga backlog and i m sure you ve got other articles to write edit read review with much greater priority so in summary i ll leave you alone regards talk',\n",
       " 'a garnet are u sure u want to begin measuring the academic weight of many resolutions laws theories in existing articles',\n",
       " 'a gay a big fat gay this page has no',\n",
       " 'a generalisation about american idocy is not a personal attack on any user it is a generalisation of an entire nation of idiors and please stop violating wp preserve wp vandalism wp notcensored and rr',\n",
       " 'a gentle nudge in case you overlooked my post above',\n",
       " 'a gentle reminder',\n",
       " 'a gentle warning by now it should be evident to you that many other editors are watching the billy joel article and that all the time you spend trying to remove joelfan com and switch it with your own spam link is wasted effort wikipedia operates by consensus and the consensus is clearly against you',\n",
       " 'a genuinely uninvolved person probably wouldn t care they would decide relative weights by systematically surveying the coverage given to the various issues by high quality reliable sources talk',\n",
       " 'a god being told me that knotweed is the key to transcendence that it is the bridge to the ultimate knowledge',\n",
       " 'a good bibliography on this inscription',\n",
       " 'a good example of a downloadable bot program may be found at http www fagexautofighter tk',\n",
       " 'a good example of showing notability comes to us from barrett s own quackwatch actually the wikipedia article read the sentence quackwatch has also been cited or mentioned by journalists in reports on something like this in place of the unwieldy list would be more appropriate and more in line with wikipedia policies discuss',\n",
       " 'a good explanation for my behavior hmmm matrix internet leak',\n",
       " 'a good faith edit is not one which is intended to mislead the reader therefore it was vandalism please do not support vandalism by excusing those who engage in it',\n",
       " 'a good first step is of course to answer the allegation which i note you have failed to do even after repeatedly being given the opportunity to do so it is',\n",
       " 'a good idea and i m surprised in hindsight that there wasn t already one in the article this article looks like it s currently just a big list of various sub types of theism without any real discussion of theism in general i m not really the right person to add such discussion but i ll throw in a line at the bottom which i hope will cover this particular issue jun utc',\n",
       " 'a good idea for an article i believe the distinction was first articulated by gayle rubin in her article the traffic in sex if anyone has the time this should be mentioned',\n",
       " 'a good idea that went wrong this was a good idea that went wrong turning into a list of every anime on the planet it also excluded anime with major significance sailor moon mainly under the sole reason of not liking sailor moon shows with multiple titles seasons were often mistakenly labled as seperate shows of which teh origional author s reasoning was quite laughable there was also no format determining which shows made the list and which didn t all this resulted in people adding random shows that do not matter removing shows that matter and adding overall incorrect information to correct his i have reformatted the list by merging shows with multiple seasons expanding an origional storyline removing shows that do not make the ann top in some way shape or form and limiting the episode count to a regular anime season in japan i hope to have corrected any problems with this article revision as of february edit undo talk i am trying to make changes and idiots keep reversing the page back to its garbage state i have lodged a complaint latest revision as of february edit undo thank goshinkisfang talk contribs welcome you do realize there is already a list article that includes the anime franchises of different titles',\n",
       " 'a good point i agree the situation should probably be checked about the others in that class too',\n",
       " 'a good point the plu s are for global usage per the ifps international federation for produce standards which is the standards authority for plu s there is an updated reference document and user s guide that i just noticed on the ifps website it was released with an effective date of july there is specific language in it which describes the scope of plu s within the u s a versus the rest of the world the primary motivation for that distinction appears to be the u s a s usage of the imperial system of measurement as opposed to everywhere else insofar as i could tell the ifps seems to have stronger origination ties to several european nations than to the u s a i mention that only because of my own initial impression that the ifps was u s a centric which i am now less certain about note that i said less certain i have no expert knowledge merely what is provided as authoritative by the ifps website and member organizations',\n",
       " 'a good properly functioning calculator is not a reliable source for something like this but anyone can do this sort of calculation on paper in a minute and that seems like a reliable source calculators approximate and knowing how and when such approximations appreciably affect the bottom line requires keeping your brain in gear talking students out of gullibly believing their calculators is a substantial challenge talking them out of using a calculator as an anesthetic device is another challenge but not the same one',\n",
       " 'a good reason is that wikipedia s aim is to be a summary of all human knowledge please clean up the paragraph you deleted and reinsert it thanks',\n",
       " 'a good soul supported existing references based on all material from nab meets wp selfpub thanks i can now move on to more productive stuff pooh',\n",
       " 'a good starting point',\n",
       " 'a good thing again i have done nothing to deserve these accusations i have made no changes and clearly i have apologized',\n",
       " 'a google books search can help in identifying the frequency of the term s usage prior to di such as by singling out th century literature seems to have been widely used as a term even in the s and some even refer to it as the theory of intelligent design rather than using the term as some sort of placeholder due to that i think a terminology section would be in order here as for how to use the term in the rest of the article i think we should stick to the normal term as opposed to adding a qualifier as this article is about the di formulation of the same name we only need to qualify the distinction where necessary to define the subject the reader should just be able to recognize that we are using intelligent design as a term for the di formulation tlk cntrb',\n",
       " 'a google search reflects about results seconds',\n",
       " 'a great and grand success moment of joy what brought me to wikipedia was the lack of information in the article of meera in mid april after spending nearly and a half months i planned to add to those article which are seldom edited by others those included the nawabs of bengal murshidabad articles related to it and soap opera articles soap operas are ongoing so i have to edit them daily but the article on the nawabs is a piece of history and i took up the work alone later in may some editors helped me to fix typos and grammatical errors but soon withdrew back their help but by god s grace i finished with the work today on august and would love to share this success with you my condition was same as the flying man in the pic trying to catch a several things at the same time before it s too late i don t know whether he succeeds or not bu i did succeed however i still have to add some references and summarize the plots of soap opera articles in the soap opera articles if you want then you can help thank you for all who helped me all these days thank you again review of the following needed nawabs of bengal murshidabad murshid quli khan sarfaraz khan shuja ud din muhammad khan alivardi khan siraj ud daulah mir jafar mir qasim najimuddin ali khan najabut ali khan ashraf ali khan baber ali khan zain ud din ali khan ahmad ali khan mubarak ali khan nawab of bengal mansur ali khan hassan ali mirza wasif ali mirza waris ali mirza bade achhe lagte hain byaah hamari bahoo ka kya huaa tera vaada kuch toh log kahenge parvarrish kuchh khattee kuchh meethi saas bina sasural adaalat c i d tv series crime patrol tv series indian idol kahani comedy circus ki kaun banega crorepati love marriage ya arranged marriage list of programs broadcast by sony entertainment television india thank you',\n",
       " 'a great comment to be used in determining your community ban very civil talk contributions that comment has apparently prompted efforts to allow me to respond and high time too rudeness prompted nothing fairness did if you cannot understand the difference between the two then this is going to be very difficult talk contributions if i were you orangemarlin i wouldn t be levelling accusations of rudeness after rudely complaining right here at this talk page about the immature rantings of another editor good attempt at transference talk contributions it will take more than hours for this to be decided in all probability if you wish to make a statement you can do so here on your talk page and i will link to it if you wish or you can request unblocking for the purpose of posting there i request unblocking for the purpose of posting there hang on let me contact the blocking admin done i am still not able to edit at the community sanction noticeboard ah i meant done as in i have contacted the blocking admin sorry for any confusion undent i m still not able to edit at the community sanction noticeboard fyi i will be travelling tomorrow until monday and therefore will not be able to respond on friday saturday or sunday i apologize for the delay in responding i was away from the computer i ve unblocked you so you can participate in the wp csn discussion in terms of article editing i would prefer if you waited a bit but blocks aren t intended to be punitive so if you re okay with abiding by wp rr you can go ahead and edit as you feel is appropriate talk thanks i still get an error message when trying to edit you are unable to edit wikipedia because someone using the same internet address an ip address or shared proxy server as you was blocked your ability to edit wikipedia has been automatically suspended as a result note that you have not been blocked from editing directly i can t edit from the computers at work but can at home that was due to a lingering autoblock on your work ip from the rr block i tried to find and remove the autoblock but the autoblock finding tool wasn t showing any as it turns out the autoblock finder was malfunctioning i apologize for that i tried to undo the autoblock but was stymied by technical problems which i am only now becoming aware of talk s',\n",
       " 'a great truth you are a stupid bitch you always deny the truth in some articles eat shit',\n",
       " 'a group of legitimate youtubers that prank call stores to get equipment used for rape it is a joke and nothing wrong',\n",
       " 'a guy from net is harassing me this guy http en technocracynet eudisable index php option com comprofiler task userprofile user network of european technocrats jure sah he is this guy here http en wikipedia org wiki user talk dustwolfuser talk he showed up out of the blue and put a spam sticker on the technocracy movement article and also my user page i feel like he is stalking me or harassing me could you look into this maybe ask him to leave me alone i explained to him that it was not me that put the net site up for deletion thanks',\n",
       " 'a ha i thought selecting the username option automatically did that now i understand why one i did yesterday ran into an issue no problem as a response to your follow up i m glancing through the new admin school material now and thinking it may need some tweaking will come back after i formulate some thoughts t',\n",
       " 'a ha so argue rectitude of original edit inadvisable as subservience to overriding need for stability in project more important than who is right and who is wrong in deciding matter information which arguably not belong allowed to stay in interest of politics of site is odd policy but understand now where was wrong in interpretation strict adhering to rules also not advisable yes is possible for small acts of not meeting standards to sum in large benefit for project is possible for at first glance benign material to viewed as contentious for instance if patton oswalt listed as actor in movie but was someone else is contentious yes if information not sourced is possible but is neither here or there is only small point to make is odd phrasing for original research article toois basis of entire fields that fusing pieces of known information into new information possiblebut believe i understand where was wrong if say for instance patton oswalt man because appear to be from picture is not original research because is verifiable in other source even if source not given yes to then apply male adjective to him not out of order then because uses male gender in self reference simple question though would taking these piece of information and adding statement to affect patton oswalt identifies as male from inference of things be original research would be silly to make note of this in article of course but is only example believe i understand now where interpretation and implementation of interpretation went wrong will make all effort to avoid repetition of transgression thank you administrator monty you are very helpful person',\n",
       " 'a ha you re a virgin aren t you that s got to be it i m sorry man didn t mean to expose you you ll learn my friend you ll learn',\n",
       " 'a happy new year is coming thank you very much for your kind wishes and compliments i do not deserve that much your work sure brings a lot to the community',\n",
       " 'a hatnote should suffice',\n",
       " 'a heads up i just wanted to let you know that i have reverted your last edit to talk blood of the fold per my interpretation of wikipedia policy i know this is rapidly becoming a pain in the ass but it is my conviction that this is the correct course of action and i apologise for any grief',\n",
       " 'a healthy discussion on how to give more information about the school is welcome more pictures are welcome',\n",
       " 'a heartfelt plea jay i ve long thought you like slim either have or ought to have a successful career in stand up comedy but after your latest trivia cut i have to ask can you please please stop bringing your work hobby into what is supposed to be a serious encyclopedia i realize that it isn t really and that a complaint to the governing soviet packed with your fellow comedians would be useless but where s your ethical sense you re giving the jocular community a bad name',\n",
       " 'a heavy hand was needed you gotta be cruel to be kind put it in context it is a minor country specific recycling classification system and you are trying to turn the article into a recycling textbook talk contribs',\n",
       " 'a helpful haiku meaneager i ve written this lovely haiku to help you understand the situation i posted some fish gross you said and took them down but you cannot win',\n",
       " 'a hem nigger nigger nigger nigger nigger nigger nigger thank you',\n",
       " 'a here b is a loser',\n",
       " 'a high traffic one that is frequently updated which i haven t replied to for days',\n",
       " 'a higher honor not given to the ss john w brown',\n",
       " 'a highly respected and well known lincoln authority',\n",
       " 'a hint here s a hint if your textbooks in grade schools didn t claim israel doesn t have a right to exist if parents in your society weren t teaching their kids that blowing up my people is a wonderful thing that will get them virgins if your government didn t name streets after mass murderers pay blood money to the parents of mass murderers put them on camera hailing their kids as heroes and if your people weren t spending their time and money on buying weapons and digging smuggling tunnels instead of fixing infrastructure starting businesses and building better lives then there would be no need for checkpoints no need for a big ass wall no need for anything of the sort and you d have your state you d have had it decades ago if your goal was to have a state you could have been living freely if the arab states had accepted the offer signed a nonagression pact and let you come home instead of stuffing your parents inside refugee camps cynically turning you into shock troops and poster children for oh look what the jews did to our people when we stuffed them into refugee camps instead of taking the easy way to let them go home you could have had a palestinian state in you could have had one at any time after that but it s as you say on the last day even the rocks and the trees will shout o muslim there is a jew hiding behind me come and kill him your goal isn t a palestinian state it s the death of my people and establishing a sharia state on top of their cooling bodies i just cleaned up some of your ridiculous lies on one page i m not going to bother checking anywhere else yet that would be wikistalking',\n",
       " 'a hint here s a hint if your textbooks in grade schools didn t claim israel doesn t have a right to exist if parents in your society weren t teaching their kids that blowing up my people is a wonderful thing that will get them virgins if your government didn t name streets after mass murderers pay blood money to the parents of mass murderers put them on camera hailing their kids as heroes and if your people weren t spending their time and money on buying weapons and digging smuggling tunnels instead of fixing infrastructure starting businesses and building better lives then there would be no need for checkpoints no need for a big ass wall no need for anything of the sort and you d have your state you d have had it decades ago if your goal was to have a state you could have been living freely if the arab states had accepted the offer signed a nonagression pact and let you come home instead of stuffing your parents inside refugee camps cynically turning you into shock troops and poster children for oh look what the jews did to our people when we stuffed them into refugee camps instead of taking the easy way to let them go home you could have had a palestinian state in you could have had one at any time after that but it s as you say on the last day even the rocks and the trees will shout o muslim there is a jew hiding behind me come and kill him your goal isn t a palestinian state it s the death of my people and establishing a sharia state on top of their cooling bodies i just cleaned up some of your ridiculous lies on one page i m not going to bother checking anywhere else yet that would be wikistalking you will stop being pompous you will stop being a racist you will stop trying to push your astonishingly biased pov into articles you will stop lying you will also stop trying to hide when someone calls you on your racist attitudes',\n",
       " 'a hint of longing a hint of longing it s more like an avalanche of teenage angst because your crush won t reciprocate a melancholic song about unrequited love especially because it s all crescendo and no denouement listeners never find out if the main character actually gets her wish much less if the person she s confessing her love to actually feels the same way all i want for christmas is you is a one sided confession of wants and desires not a song describing or celebrating a consummated relationship honestly the lyrics to me come off as hopelessly sad williems says i ve read the critical reception section of the song s wikipedia page and i can t help but think the critics weren t really listening one critic seems to claim there is a hint of longing which might be the understatement of the century if you wanted to get real bummed about it i think the argument could be made that the song is denouncing the artificiality surrounding the spectacle of christmas he continues saying that you are so hung up on the negative of not being with one person on christmas that you can t embrace the joy of the holiday is really pretty sad but also movingly honest for a pop christmas song http www avclub com article why mariah careys christmas hit will be around for someone sort it out',\n",
       " 'a hint of longing a hint of longing it s more like an avalanche of teenage angst because your crush won t reciprocate a melancholic song about unrequited love especially because it s all crescendo and no denouement listeners never find out if the main character actually gets her wish much less if the person she s confessing her love to actually feels the same way all i want for christmas is you is a one sided confession of wants and desires not a song describing or celebrating a consummated relationship honestly the lyrics to me come off as hopelessly sad williems says i ve read the critical reception section of the song s wikipedia page and i can t help but think the critics weren t really listening one critic seems to claim there is a hint of longing which might be the understatement of the century if you wanted to get real bummed about it i think the argument could be made that the song is denouncing the artificiality surrounding the spectacle of christmas he continues saying that you are so hung up on the negative of not being with one person on christmas that you can t embrace the joy of the holiday is really pretty sad but also movingly honest for a pop christmas song http www avclub com article why mariah careys christmas hit will be around for someone sort it out who is williems and why can t he she spell williams properly',\n",
       " 'a hit list for jews there is a site called jew watch out there i ll let you find the link which specialises in keeping an eye on jewish activities it is used as a reference site by anti semites the world around jew watch makes it a point to make sure that they do not under any circumstances list someone who they cannot confirm is jewish stormfront a white supremist web forum uses jew watch all of the time the criteria for inclusion on list of british jews is the same criteria used by jew watch it is a criteria designed for anti semites it is a criteria that is aimed in hurting jews jewish communities do not have such a criteria they allow anyone to be considered to be a jew if they have any linkage with the jewish community through race religion or culture this is the normal criteria that is used if your father is jewish then per jewish community standards you are jewish and so forth wikipedia as a whole has certain criteria for verifiability but these criteria are not being applied to this list this is being changed purely because this is a jewish list whilst slim virgin and her friends have claimed that this is in order to stop muslim terrorists this is plainly not true if we are worried about terrorists strapping bombs to their bodies and blowing up jews then this list shouldn t exist at all and we should especially not try to focus on who are the real jews wikipedia are changing their rules purely to push an anti semetic point of view and while slim virgin goes around claiming that others who oppose her are neo nazis and ignoring their strong ties to the jewish community she herself has been unable to answer the questions about her own religious hatred and this is the same person who has supported muslim pov pushers who have written vehement anti semetic text throughout wikipedia slim virgin has been a catalyst for banning people who have opposed these islamofascists slim virgin is an anti semite right now i would encourage deletion of this list it is being run by anti semites and used to harm all jewish people until such time as slim virgin can be banned from editing this and related pages it is dangerous to continue to have such a page it is encouraging hatred of jews',\n",
       " 'a holiday wish to a rhobite happy thanksgiving rhobite',\n",
       " 'a hopeless case if listen there s a hell of a good universe next door let s go but it is a world of made thanks for that nonetheless nableezy',\n",
       " 'a human being understand the weakness that reveals the words you read on the screen made you feel different about yourself so you made them go away it s pathetic understand it isn t too late for you to change who you are to finally attain some sense of perspective humour and intellectual honesty good luck',\n",
       " 'a human factors term in',\n",
       " 'a humble apology from me',\n",
       " 'a i am the owner of the website being cited and i can assure you that it is not engaged in directly making money off the content b i fail to see how briefly citing a post on the site harms me or anyone else b if you re still worried about having permission to use a memorial about a member of minneapolis friends meeting even though i don t understand why have the author contact minneapolis monthly meeting and see if it s all right with them i would be surprised if they were to object mitchell santine gould',\n",
       " 'a i did not violate the revert rule b why can i not point out that one who is seemingly delusional should not be considered part of a consensus john nagle imagined that i deleted the criminal box from the lede of sholom rubashkin and proceeded to add a section on the talk page accusing me of such just check the history',\n",
       " 'a i m pretty certain that the band a provided at least some of the fictional group s songs the song bad mistake from how ace are buildings was definitely in the show',\n",
       " 'a i saw it as an attempt but one that didn t work complain here',\n",
       " 'a i swear you ve asked this before xela s wife and part time criminal q who is xela s wife hmmm the',\n",
       " 'a in a wooden boat apart perhaps from the garboard the strake alongside the keel you don t caulk clinker planking the lands overlaps between adjoning strakes must be made carefully at the correct angle which varies constantly anlong its length the rivets hold the strakes together and the lands should seal themselves when the boat becomes wet in use if the building job has not been done well enough for this to happen you are in trouble in case someone does not know what a strake is a plank is not quite the same thing as a strake but gives the general idea caulking an iron vessel is done quite differently from the method in a wooden one and i suspect that this was done though i have no direct experience of it',\n",
       " 'a internet cafe ha ha',\n",
       " 'a it is a genetic study and your alone persist in denying the evidence of the source itself i e you defy commonsense in plain sight b you have no rs defining elhaik s work as a fringe theory b the haaretz source does not say it is not supported by geneticists it said geneticists refrained from being interviewed c ankhmorpork shirke sic check the dictionary evildoer have made no serious policy based arguments so far',\n",
       " 'a it s not a matter of whether french people or neutral or not that is a straw man tangent that is worthy of a response this is about canvassed people and and all canvassed people regardless of race religion nationality or what ever else canvassing compromises the consensus making process b this is another straw man tangent not worthy of a response',\n",
       " 'a jew going around wikipedia editing against arabs everywhere fuck you',\n",
       " 'a jew or not a jew',\n",
       " 'a john poole i have added a prod template to the article a john poole suggesting that it be deleted according to the proposed deletion process all contributions are appreciated but i don t believe it satisfies wikipedia s criteria for inclusion and i ve explained why in the deletion notice see also what wikipedia is not and wikipedia s deletion policy you may contest the proposed deletion by removing the dated prod notice but please explain why you disagree with the proposed deletion in your edit summary or on its talk page also please consider improving the article to address the issues raised even though removing the deletion notice will prevent deletion through the proposed deletion process the article may still be deleted if it matches any of the speedy deletion criteria or it can be sent to articles for deletion where it may be deleted if consensus to delete is reached',\n",
       " 'a joke as they are sometimes interpreted',\n",
       " 'a joke i have noticed from your edit history you seem to be exclusively targeting pakistan and always adding the administered tag for example k you reverted the stable page and added your pov then theres that ridiculous extreme points of india which claims k is in india where the hell did that come from you need to get over this kashmir and target pakistan mentality',\n",
       " 'a joke this is a joke james fetzer is the truth movement you deny him the right to update it if you had a bio of me and it was wrong and i could not update it then wikipedia has a real problem the problem with wikipedia is it thinks it can make a difference throwing up the same disinformation that is distributed on a daily basis by main stream media or the us government james fetzer video explaining how wikipedia denied him access to update his truth movment http www blogtext org andy article html',\n",
       " 'a joke this is no joke andrew you are in some serious trouble i will be filing a report abuse file early tomorrow if you didn t create so many sock puppets we wouldn t have to suspect so many stable',\n",
       " 'a k a the old style tape label',\n",
       " 'a k d a h n why do u keep blockin me for no reason im givin complimints',\n",
       " 'a kitten for you',\n",
       " 'a kitten for you awww isn t this kitty cute',\n",
       " 'a kitten for you because heavydpj is clearly a pussy that just trys to cause trouble',\n",
       " 'a kitten for you cooper eats purrrrrrger',\n",
       " 'a kitten for you dose this look like you bastard fucker',\n",
       " 'a kitten for you go fuck yourself',\n",
       " 'a kitten for you go fuck yourself again',\n",
       " 'a kitten for you go to petsnearby com',\n",
       " 'a kitten for you have a kitten',\n",
       " 'a kitten for you hello',\n",
       " 'a kitten for you hello nice to see you happy editing',\n",
       " 'a kitten for you hey buddy heres a kitten just for u d',\n",
       " 'a kitten for you hi',\n",
       " 'a kitten for you hi someone not using his real name thanks for your good work on the encyclopedia i wanted to talk with you about the verasafe article on wikipedia i see that the article references have been updated to meet the wiki standards and that there is one reference from the us federal government that specifically mentions verasafe that particular reference makes mention of only other similar companies in that context both of which also have wikipedia articles',\n",
       " 'a kitten for you hot hot hot skype show see userpage baby',\n",
       " 'a kitten for you hot show skype free for you',\n",
       " 'a kitten for you i loved your articals',\n",
       " 'a kitten for you i would like to know you better',\n",
       " 'a kitten for you joke like the joke you are wikipedia will burn in hell for your sins',\n",
       " 'a kitten for you just becuz ur pussy lying',\n",
       " 'a kitten for you kitty',\n",
       " 'a kitten for you let s test this thing d',\n",
       " 'a kitten for you lolz',\n",
       " 'a kitten for you lolz a kitten for you lolz',\n",
       " 'a kitten for you love ya',\n",
       " 'a kitten for you ok i m sorry that was unwarrented sandbox here is a kitten',\n",
       " 'a kitten for you soni you were a great adopter and you helped me get back in the right direction i apologize for ever being obnoxious and i m sorry i got frustrated last night my advice is to enjoy the summer i ll figure out adoption for me and come back in september refreshed believe me you ll be deeply missed by me prabash and the whole wikipedia community it sucks that we re loosing yet another asset of wikipedia good luck on your wikibreak sincerely your adoptee aka chat count',\n",
       " 'a kitten for you test whisper',\n",
       " 'a kitten for you thank you everyone for making me feel welcome b',\n",
       " 'a kitten for you thank you for help in both greek related queries',\n",
       " 'a kitten for you thank you for your support',\n",
       " 'a kitten for you thank you for your support',\n",
       " 'a kitten for you thank you for your support',\n",
       " 'a kitten for you thanks for editing the tiffany alvord article',\n",
       " 'a kitten for you thanks very much for your help on the jhu molecular biology course project this past semester you gave really great feedback to us and to the students and your reviews and comments were a huge help',\n",
       " 'a kitten for you tokyogirl your recent editing work on bend not break is very impressive helps a lot with a neutral tone on the controversy of this book hope you love the kitten i chose for you i am a cat lover',\n",
       " 'a kitten for you we have the same name',\n",
       " 'a kitten for you welcome back',\n",
       " 'a kitten for you you are a cunt',\n",
       " 'a kitten for you you are a good person',\n",
       " 'a kitten for you you are awesome',\n",
       " 'a knife for you a knife for you one of this days i am going to cut you into little pieces',\n",
       " 'a lack of time now translates to a lack of talent apparently',\n",
       " 'a lady is waiting for you file jo stafford voice of america colliers jpg',\n",
       " 'a lahori cannot be neutral about karachi first i had thought that you were neutral but after reading that you were from lahore i realize that you are using wikipedia technicalities to slowly muscle me out therefore i suggest that you not interfere with my posts many thanks in advance',\n",
       " 'a lamyman s view why not just write something like israel s position has not been accepted by and explicitly rejected by or something more elaborate does wikipedia have to have a stand regarding authority of international law',\n",
       " 'a landslide victory for aka rfa thanks hey thank you so much for your vote and comments in my rfa which passed with an overwhelming consensus of i was very surprised and flattered that the community has entrusted me with these lovely new toys i ripped open the box and started playing with them as soon as i got them and i ve already had the pleasure of deleting random nonsense attacks copyvios tonight if i ever do anything wrong or can help in some way please feel free to drop me a line on my talk page and i will do my best to correct my mistake or whatever now to that bottle of wine waiting for me talk to me',\n",
       " 'a large number of links does not prove primary topic both the musical film could be considered primary topic at this point and as there are articles with the same title a disambiguation page is clearly needed u did not dispute the move hence i carried out the proper process prior to disam frankly u have been nothing but antagonistic and provided no reasoning on my talk page why the move was controversial in any way other than making a point about i haven t edited the article before also removing the incoming links template is not helpful as the bot will re add it on its next sweep scot',\n",
       " 'a last note although i strongly disagree with you i will not take the matter further since it seems to be to and you are adament that we keep the status quo i do not want to start an edit war dhdr',\n",
       " 'a last thought don t these sort of things that are causing no apparent or significant harm be given a weeks or even a few days grace before deletion the users of the site will show you what they appreciate even if this is too much of a democratic process for admin jong il',\n",
       " 'a laucnched at pm a launched at pm during their news hour and should be mentioned as technically before pm a was a channel',\n",
       " 'a learn to spell b did you not notice that this is the english wikipedia for english articles and c i deleted it because we don t want an article about a game you and your friends made up on the playground talk',\n",
       " 'a legend in his own mind',\n",
       " 'a letter please don t use all caps writning and or excessive exclamation marks writing like this shows a lack of intelligence i used to write like that too until i found out that i shouldn t and could you please stop calling nintndo maximus n m otherwise no one will know what you re talking about',\n",
       " 'a letter to wikipedia dear wikipedia why no one want edit this article this book does exists please i want see changes in this article sincerely',\n",
       " 'a liberal person s article that has personal blog criticism and yet you haven t removed any of the criticism there is clearly a quality difference between media matters analysis and moorewatch com but nonetheless you seem fixated on one why is that i am looking at an article that used to have criticism on it but two user s pulled mm off and then removed the controversy section i quote from wp rs the websites and publications of political parties and religious groups should be treated with caution although neither political affiliation nor religious belief is in itself a reason not to use a source i d like to point out media matters is not a political party nor religious organization can anyone give a reason for the material they disagree with and want removed sure i find lots of reasons but one of the biggest is your comment that hannity is a moron it proves that you are biased and incapable of putting together a npov article i asked for reasons why you consider it unreliable also i never insulted hannity i added a link to well traffic hannity criticism site moreover i told you this already and you still want to falsely claim i insulted hannity there is a discussion on media matters on wp rs why you don t consider it reiable do you think those clips of hannity speaking are fake terri schiavo during the terri schiavo controversy two of schiavo s nurses appeared on hannity and colmes to argue that schiavo was not brain dead talk show host and actor harry shearer obtained a video tapehannity and colmes video where hannity can be heard coaching the nurses on how to respond to alan colmes s questions he told them to respond i m just here to tell you what i saw no matter what colmes asked after the segment hannity can be heard saying we got the points out but you did great both of you should this be included lolreverting don t blindly revert things like fixing fair use images i see no reason to discuss fred phelps on this page he is more than adequately discuessed on his own page in fact i see no reason for most of this page to exist are the controvercies notable at all i agree moreover if the reader wants to learn more they go to the footnote all material getaway added is on there well if the criticism of media matters is going to be on the page which i don t agree many of these so called controversies should even be there but if it is going to be there then the phelps s democrat liberal background needs to be pointed out because media matters is attempting to argue that hannity was completely off base which he wasn t the information will be placed in the article in a npov way it will not be placed there at all and the way that the phelps information keeps getting removed is simply pov phelps being or not being a democrat has nothing at all to do with sean hannity that is a incorrect conclusionary statement you did not provide an argument to back up your personal opinion so thank you for your personal opinion but it is not controlling media matters in its criticism has attempted to argue as unsuccessfully as you that hannity s comments were off the mark but it has be',\n",
       " 'a lie because muhammad koxi is fustrated because of the from for real madrid',\n",
       " 'a light hearted limerick we are given a basis in e and a new basis we want to be the inverse transpose is what we propose is a basis of it s dual space we see travis maron',\n",
       " 'a line of reasoning which sets aside guidelines self identification including not using derogatory exonyms and policy title concision preciseness is highly unreasonable and very illogical and clearly biased and is a demonstration of your inability to decide anything rationally when your personal bias against the nominator is so clearly on display',\n",
       " 'a link from web search google yahoo search lycos and live search need to remove the link that goes to user page of this account',\n",
       " 'a link that leads to the beyonc knowles edit page and i am sasha fierce edit page that s not even a source to begin with boo',\n",
       " 'a link to more concerned users',\n",
       " 'a link to the past hi i never had any discussions with a link to the past just reverted a blanking as i would delete any other form of vandalism i came across if someone else talked with link please ask them about it',\n",
       " 'a link to the von neumann machine a link to the http en wikipedia org wiki von neumann machine article should be added',\n",
       " 'a list of countries isn t itself problematic it s any editorial pressure that renders one somehow more favourably than the rest against the grain of sources material',\n",
       " 'a list of historical figures from a historical era is hardly contributing nothing if you don t like lists too bad',\n",
       " 'a list of prominent people who have made public statements about camera spoken at their annual dinner to do fundraising for them is not a viewpoint coming from the organization it is a factual matter of record if dershowitz speaks at camera confrferences and fundraising events he is a supporter i tried to put in direct quotes from dershowitz and sharansky as the footnote but they were too long to fit into the new reference pop up how do you put in longer footnotes i haven t tried to edit wiki for months and am completely lost with the new improved editing icons here are the quotes we all know that camera s mission is important not only for the jewish community but also for the integrity and vitality of american democracy it is not just on one occasion that i wished there were an israeli branch of camera democracy activist and knesset member natan sharansky the answer to false speech is not censorship but more true speech the answer to half truth is full truth the only people who should and do fear camera are those who should and do fear the truth t he first amendment was not erected to help the media but to help the people harvard law professor and civil libertarian alan dershowitz cimicifugia',\n",
       " 'a list of sports teams and or individuals is trivia mentioning in general that corporation or sports teams have used the song is not how the article is currently written the article gives anectotle examples of various individuals with no citations and no foundation it is not verifiable nor relevant to this song',\n",
       " 'a list of sports teams and or individuals is trivia mentioning in general that corporations or sports teams have used the song is not how the article is currently written the article gives anectotle examples of various entities with no citations and no foundation it is not verifiable nor relevant to this song',\n",
       " 'a list such as describe did exist until just recently the result of the debate was delete and now it s gone',\n",
       " 'a list with a set of objective criteria wouldn t be or but i don t see how you would compile such a list without being subjective obviously you d have to have rs saying the subject as influenced by a but then you would have to decide which subjects were significant important enough to be on the list that s where the or would come in in answer to your question if anywhere she could be mentioned at aristotelianism what i don t know is how important ayn rand is as an aristotelian philosopher',\n",
       " 'a little birdy asked me an old raven to drop by here for the sake of linguistics and human behavior all i can say is duh since this is an open and shut case you were blocked for all the right reasons and your unblock requests were denied for similar reasons sorry your history suggests you are editing here as if this is your neighborhood bar and that s not ok and retaliation as anyone who watches sports in their neighborhood bar is what the referee always catches she hit me first is no apology for hitting back',\n",
       " 'a little bit longer song hi i ve seen that you removed the article a little bit longer song s information and reverted it back to redirect but i don t think you should do that since the article was originally deleted because it lacks information but now that it s been released we should keep the information can i reverted it back to my edit thanks calliegal',\n",
       " 'a little bit of ancient history this information is not new just it has been habitually blanked by people who used to circle the wagon and why i stopped editing years ago if you look at the oldest talk archive it was already proposed added and blanked repeatedly',\n",
       " 'a little cleanup would you mind cleaning the warnings off my talk page this is a shared ip at a cybercafe and would like to avoid any further confrontations with other wikipedians thanks for you help it would look bad if i removed them myself',\n",
       " 'a little clique controls the technocracy articles to very very bad effect the same group of scum bag tandem editors that have controlled and now want to misrepresent any and all articles connected with technocracy issues even to the point of trying to delete the article now http en wikipedia org wiki user talk johnfos the signpost october http en wikipedia org wiki user talk epipelagic http en wikipedia org wiki user talk beagel http en wikipedia org wiki user talk lawrencekhoo mostly they collude to give bad information tab the same group of tandem editors from several years ago still try and control this article they want to eliminate an article about one of the major social movements the group that started it wikipedia is known for special interest control and buddy editing its a pity and the reason a serious article on an important american group is being tried to be done away with by tandem editors that obviously object for some reason to the content the past clearly shows the same team of tandem editors here beagle and johnphos are tandem editors as is lawrencekhoo and epipelagic one of the most significant groups in american history and they want to get rid of the article its pathetic and shows the weakness of en wikipedia lawrencekhoo is a mainstream economist who ax grinds economic articles google his name for his economic beliefs gino',\n",
       " 'a little clique controls the technocracy articles to very very bad effect the same group of scum bag tandem editors that have controlled and now want to misrepresent any and all articles connected with technocracy issues even to the point of trying to delete the article now http en wikipedia org wiki user talk johnfos the signpost october http en wikipedia org wiki user talk epipelagic http en wikipedia org wiki user talk beagel http en wikipedia org wiki user talk lawrencekhoo mostly they collude to give bad information tab the same group of tandem editors from several years ago still try and control this article they want to eliminate an article about one of the major social movements the group that started it wikipedia is known for special interest control and buddy editing its a pity and the reason a serious article on an important american group is being tried to be done away with by tandem editors that obviously object for some reason to the content the past clearly shows the same team of tandem editors here beagle and johnphos are tandem editors as is lawrencekhoo and epipelagic one of the most significant groups in american history and they want to get rid of the article its pathetic and shows the weakness of en wikipedia lawrencekhoo is a mainstream economist who ax grinds economic articles google his name for his economic beliefs gino and fifle fool it does not have a fucking thing to do with communism you dumb ass thanks',\n",
       " 'a little clique controls the technocracy articles to very very bad effect the same group of scum bag tandem editors that have controlled and now want to misrepresent any and all articles connected with technocracy issues even to the point of trying to delete the article now http en wikipedia org wiki user talk johnfos the signpost october http en wikipedia org wiki user talk epipelagic http en wikipedia org wiki user talk beagel http en wikipedia org wiki user talk lawrencekhoo mostly they collude to give bad information tab the same group of tandem editors from several years ago still try and control this article they want to eliminate an article about one of the major social movements the group that started it wikipedia is known for special interest control and buddy editing its a pity and the reason a serious article on an important american group is being tried to be done away with by tandem editors that obviously object for some reason to the content the past clearly shows the same team of tandem editors here beagle and johnphos are tandem editors as is lawrencekhoo and epipelagic one of the most significant groups in american history and they want to get rid of the article its pathetic and shows the weakness of en wikipedia lawrencekhoo is a mainstream economist who ax grinds economic articles google his name for his economic beliefs gino your right about the tandem editors on the technocracy article',\n",
       " 'a little doubt hi matthew long time no see i have a new doubt i would like to know how to customize my signature in the article s discussions sorry for not asking it before i ve been very busy lately your adoptee',\n",
       " 'a little help i d like to report',\n",
       " 'a little help please',\n",
       " 'a little i ve fully dabbed section now the best way i think to tackle this is to work together i ll dab a section you check the blue linked articles within it then to see if it needs dnb text once you e done that mark the articles which need it with your ticketing system then i ll start the entirely of the missing articles in a section using the text you download to your user space then once that is done we should remove all of the articles which have articles and dnb text within them leaving only articles which need expansion from dnb sound good if you could now check the articles in section for needing dnb text i am ready to complete the missing articles once you are ready white cat',\n",
       " 'a little i was overlooking the work somebody was doing on that state a while back and started a few articles on rivers etc and sorting out kannada film lists etc at present thought i m involved in a discussion at the indian noticeboard about a bot to get all of the missing indian village articles onto wikipedia if you d like to join in the discussion just surprised that the healthcare articles wasn t covered seems as karnataka seems to have them especially detailed focused articles like wildife etc white cat',\n",
       " 'a little joke should we move this to storyception january utc',\n",
       " 'a little late shmuck why d you just add the last warning now i got the message a few days ago and i m sorryi didn t think people d be that harsh over a few liberal edits no harm intended i don t ever try to do anything wrong that is when i m editing wikipedia not in real life sorry the warden says my computer time is up so good day sir apologies insincere',\n",
       " 'a little more information why to the same half of the other changes as a result of admin leave although i do not want to challenge the topic ban but i think you obvious censorship u s word but it s true russian video and technical writing is a lie just a lie and point a big fat point july',\n",
       " 'a little more is coming back to me it was a string of murders and i think there was at least three different bodies found in the park maybe starting as early as the s talk',\n",
       " 'a little much is it really necessary to mention that an eclipse foreshadowed the red sox victory and the exact time the first pitch was made it seems to me like people are trying to make a world series victory a whole lot more epic than it actually is also the number coincidences make me puke you can make up those things in nearly any circumstance',\n",
       " 'a little request hi i haved deleted all islamic related articles in some articles of chinese dynasties i think and look at his contributions weren t a vandal but he could be an extremely muslim because he was added his islamic articles which all were superfluous and un needed it s just like promotion or advertising for his islam and i appreciate your neutral revisions could you send a warning for his vandalism because you are one of the professional contributors in chinese ralated articles thank so much and best wishes to you in',\n",
       " 'a little something for my bestest buddy admin tom',\n",
       " 'a little something for you the lonely geek barnstar this barnstar is in honor of your depressing unloved presence on irc on valentine s day roses and kisses work for some but you noble wikipedian have important things to discuss on the internet with people you barely know who you ll probably never meet here s to you user talk flyingtoaster toaster',\n",
       " 'a little song fucky fucky fucky fuck fucky fucky fucky fuck fucky fucky fucky fucky fucky fuck fucky fucky fucky fuck fucky fucky fucky fuck fucky fucky fucky fucky fucky fuck fuck fuck fuck fuck fuck fuck fuck fuck fuck fuck fuck fuck fuck fuck fuck fuck fuck fuck fuck fuck fucky fucky fucky fuck fucky fucky fucky fuck fucky fucky fucky fucky fucky fuck fucky fucky fucky fuck fucky fucky fucky fuck fucky fucky fucky fucky fucky fuck',\n",
       " 'a little suggestion this is just a suggestion but how about this article be merged into spongebob squarepants article what do u think',\n",
       " 'a little too late for hanging chads sorry fastily but i ve reverted your vote here i m afraid you are a just a tad too late for the election it closed on march and that s an archived page now no more hanging chads of course you ll get another shot at it in about six months cheers needles',\n",
       " 'a little too much apparently',\n",
       " 'a little trivia about his number',\n",
       " 'a little work for you take a look here and give opinion danke',\n",
       " 'a long block my fat arse you are failing to take into account how long it has taken to get to the point of banning sceptre from manning actually i m talking from the future as the ban hasn t yet been decided has it consider that time and the dispersal and my extrapolation stands perfect if you don t believe me wait years and see the crap becomes compounded woven into the fabric of the project and becomes inseparable bah i m explaining kaleidoscopes to the blind jun utc',\n",
       " 'a long time ago around six months ago there was a trivia section i removed this during a heavy rewrite as it s bad form on wikipedia and put the appropriate information under the relevent album section i d recommend you do the same',\n",
       " 'a look at wp uknationals will show the way and consensus has been established above his passport is irrelevant in this context andemu',\n",
       " 'a lot depends on daniel s conduct from now on if he is behaves then we could just monitor the situation however if his conduct is further cause for concern we could take the case to arbcom',\n",
       " 'a lot depends on how the various companies have set themselves up financially companies that have committed themselves to buy feedstock or wafers at high prices for the next several years are going to have bigger problems than those who have some flexibility in their contracts for example it will also depend on how their lines are set up on how reliant they are on manual labor on cell production lines at large manufacturers i think you will find little reliance on manual labor in either country but regardless a tariff would push pv prices up just as they re finally beginning to come down i don t that s a good idea i also don t think it would have the desired effect i don t have any figures on how much pv the us imports from china but some of us pv exports go to china furthermore the us is still a net exporter of pv modules so for a tariff to have the desired effect i think it would have to be levied by some other government that is more significant to the chinese pv industry',\n",
       " 'a lot of good your notice does me unable to post one word in my own defense',\n",
       " 'a lot of his recent conduct could be characterized as infantile actually sorry about the abuse here also for what it might be worth regarding christians of at least previous eras archive org contains a truly astonishing number and variety of highly regarded if older reference books and history including baring gould s lives of the saints and the early edition of the ramsgate benedictines book among others i m going to try to put a lot of them on wikimedia commons and some of the longer articles from some of them on wikisource but they are all available for at least use for reference purposes',\n",
       " 'a lot of ignorance seen on this article and discussion especially from reignman left right has nothing to do with position on social issues it s amazing how you think so please research how the words left and right are used and how they were originally used and you will find out that they have nothing to do with abortion gay marriage discrimination etc you certainly lack a high school diploma so it s pointless to argue with you i understand that many people think the nazi party was far right but their positions on most issues had nothing in similar to right wing policies of course you are an american idiot who thinks just because republicans are generally christian and oppose gay marriage and drug legalization that the term right is used to refer to people with these positions left and right are terms which relate to how the state interferes with the economy any non biased informed person would agree that the nazis were completely far left i mean a strong state running the economy and controlling the press and the media have nothing to do with the right',\n",
       " 'a lot of information can be found on the net of in books eg the a z of record labels by brian southall',\n",
       " 'a lot of people are using this page to help the people of myanmar this can only be a good thing and is more important than maintaining a presentable page',\n",
       " 'a lot of people fought for israeli independence the fact that this person passed on intelligence doesn t indicate that he s any more widely regarded as notable than any others the standard is not whether what mr rosen did was important it s whether it s been recognized as notable by multiple independent sources also per wikipedia conflict of interest you shouldn t be writing about your relative',\n",
       " 'a lot of people still pronounce it as conway however',\n",
       " 'a lot of points to respond to aleenf you once again ignored the fact or are being misleading intentionally about national titles on wikipedia pages we use china laos palestine iran etc when those are not the official ioc designations not only are those now the official names those are not even the official ioc designations yet we still use them without question it is only with the situation of taiwan that you make an issue of it i am not even proposing the sole use of taiwan just it s mention as a parenthetical otherwise i insist that you use people s republic of china lao people s democratic republic islamic republic of iran palestinian authority etc as those are the ioc designations for those countries that is where your hypocrisy lies rebskii people see chinese taipei but they don t know it is taiwan why do you think one of taiwan s gold medal winners had to declare before the international press in athens in english i am from taiwan it is because there is much confusion among people i spoke with a couple of australian baseball fans who made the trip from australia to see the intercontinental cup here in taichung they didn t know that chinese taipei was in fact taiwan until they started making plans for the trip it is not even universally known among sports fans much less the general public as for the domains of taiwan orchid island and green island among others are historically linked with taiwan and have long been administratively a part of taiwan the only counties that are not historically part of taiwan are the tiny islands with some people off the coast of fujian which produces none of our athletes taiwan is the commonly used phrase on the street domestically not roc and not chinese taipei we are not bound by the opinions and illegal claims of barbarous dictators in beijing if you look at the good article guidelines one of them is that the article should provide appropriate information for people who are not necessarily familiar with the subject simply stating chinese taipei does not meet that standard because few people know what it is a simple parenthetical taiwan beside chinese taipei accomplishes one of the standards of good article writing with very little trouble again if you insist on only chinese taipei because that is the ioc designation then use all of the other ioc designations for the other countries i have listed above',\n",
       " 'a lot of the artcile was nonsence and i doubt the autour would be able to quote sources therefore i have once again reverted this nonsence kenny did not leave the group as such he disbanded the group there were no first edition records or tours without kenny also kenny was creative in his solo carrer after the group split in daytime friends and kenny for example were two very diverse records probably even more diverse than any first edition album',\n",
       " 'a lot of the google hits i saw were blogs and such which i understand should not be used to establish notability and i got zero hits for it on google news which admittedly is a much stricter test of notability if it could be moved off the encyclopedia project i would obviously be for that',\n",
       " 'a lot of the historic buildings are on pearl street in boulder s downtown there s a four block pedestrian mall on pearl street between th and th streets that features a lot of historic buildings and there are plaques that provide historic interpretation the mall and other sections of pearl street also has several interesting shops street performers outdoor concerts and the like it was enough to keep a tourist like me entertained if you ever go back there again check it out elkspeak',\n",
       " 'a lot of the history i have been adding unfortunatly has not been written about a lot of it was part of my own personal research the latino history of oakland has been ignored by historians so very little is written about it but what i have added is very true and is just as much a part of oakland s history so i m sorry if i don t have links to articles written about this history but i will look for some so you racist can stop erasing what i write',\n",
       " 'a lot of this article seems to violate wp primary mainly because there doesn t appear to be much secondary source material about connolley beyond coverage of his disputes with wikipedia what ever happened to the notability deletion discussion',\n",
       " 'a lot of this talk page consists of users putting forth arguments as to what various terms mean or should mean i see very little reference to what the concepts are most commonly referred to in the literature surely that would be a good place to start if i pick up a polsci textbook in america how does it define libertarianism is it different than the definition given by a textbook written from another pov if so what do scholars outside the debate have to say about it and so on',\n",
       " 'a lot of turkish university students claimed that the most of autobiographical statements of oktay sinanoglu are lie please look this site about oktay sinanoglu http www itusozluk com goster php oktay sinano f lu sayfa the long name of this site is the dictionary of the technical university of istanbul the subject of linked above pages debating on oktay sinanoglu there are pages about sinanoglu since until today the most of students says about him he is too liar and the most titles of sinanoglu are false not true for your information yours sincerely',\n",
       " 'a lot of zealots died at masada yes bar kochba is important the fact that it occured sixty years later shows that not everything changed during the first revolt in fact the roman jewish wars occured over a given time period they were not a one time event ok let s define rabbinic judaism as rd century all historians consider the fall of the temple as the end of phariseeism what do we call judaism between phariseeism and rabbinicism i propose early rabbinic judaism what term do you propose hillel and shammai and the debate between the two schools lasted well past the actual men and is significant in showing that certain aspects of phariseeism were rejected even by early rabbinic judaism',\n",
       " 'a lou dobbs had allegedly made those comments of rebellion',\n",
       " 'a major sports player',\n",
       " 'a major viewpoint isn t worthy of mention because its obvious it s obvious that england is part of the uk yet it s still mentioned in the article it s an encyclopedia you can t ommit content because it s obvious',\n",
       " 'a mandel what you keep losing sight of in your quest to smooth things over is that ae was truly a worse than mediocre pilot in your words generally i respectfully but definitely disagree with a definitions of earhart as mediocre average at best etc pilot it is based on few selected claims for some reason you are following a popular pov that doesn t match with reality amelia earhart crashed expensive airplanes and finally got permanently lost and died she contributed to the death of another person she has never been found in aviation that surely qualifies as the worst of aviators although some here may cut her some slack since she was an attractive young woman any article about her flight training ought properly focus on the reasons for her inadequate skill set',\n",
       " 'a manipulation i fundamentally disagree with most of ayn rand s views but i wouldn t equate her with lrh',\n",
       " 'a map it actually finishes at the junction with the a a little further north ad',\n",
       " 'a map of the state of palestine',\n",
       " 'a map without boundaries is worse than pointless so you might as well not have one at all a map without boundaries has words like mercia and wessex written on it and only the size of the letters can give an indication of what territory is indicated i submit that even an inaccurate map is better than a map that is so vague that what it says can be better said in writing',\n",
       " 'a massacre requires deliberate intention and is often seen as a planned event please note that de waal says i do not think that it was a deliberate action approved on i think it was a war it was a very chaotic situation generally civilian casualties during battle are not regarded as being deliberate massacres unfortunately this is exactly what the title incorrectly implies perhaps a more neutral term should be applied',\n",
       " 'a matter of fact in the new yorker magazine published an article written by alec wilkinson concerning one jean pierre ady fenyo a years of age individual who would sit out in greenwich village and offer passersby free advice in the first media reports about the three free advice ladies began to appear why because unbeknownst to the general public amy alkon and her two colleagues minnick and johnson had read the article in the new yorker and figured they could make it appear to be their own original idea nothing could be further from the truth the evidence exists at the official free advice man web site when the original free advice man went back up to new york from baltimore where he was residing at the time and confronted the three intellectual thieves he asked them without first divulging his own respective identity where they had come up with the idea because they were not under the spotlight of a major mass media outlet they divulged the truth we read this article in the new yorker and thought that this would be fun to do nowhere not on oprah not on cnn or anywhere else did these three persons inform the public that they were making their fame at the expense of someone else s idea',\n",
       " 'a may selected anniversary encyclopaedia britannica has the date that this act was passed as may good catch the difference lies between passed and signed the house passed the act on may but jackson signed it on may i have no idea how or why may came to be a wikipedia selected anniversary but the signing is probably the more significant date regardless i ll clarify the dates in the article may utc ugh someone edited the main page please retype the facts',\n",
       " 'a measure of socialism within a capitalist economy',\n",
       " 'a mediterranean high atlas juniper steppe cedar juniper pine and oak forests cover approximately one third of the ecoregion at high altitudes junipers dominate the landscape even higher the forests eventually give way to alpine meadows pseudo steppe vegetation and finally scree slopes where purple cushion plants bloom river valleys wind through the landscape their rich moist soil supporting willows poplars oaks hawthorns and a carpet of oleander',\n",
       " 'a member of both project deletion and article rescue i saw your keep on one of the articles which was on the wikipedia article rescue squadron list and i was planning on stopping by and saying hi i always wanted to do what you have on your user page confuse the hell out of people with conflicting templates snarky i like it',\n",
       " 'a memory location jumping into data caused an exception',\n",
       " 'a merger is probably a good idea first the prehistoric man article is terrible in fact it shouldn t exist as anything other than a stub the term prehistoric man is no longer used by scholars and hasn t been since the s becuase it is androcentric and because there really is no such thing as a group or type of people who are characteristically prehistoric in other words people in prehistoric societies have no particualar commonalities except a lack of writing prehistory is a rubric used by scholars to differentiate the methods used to study the past not a type of people there is no such thing as a stage of personhood or social development in which a person is a prehistoric man or woman for example the inca remained a prehistoric people until the spanish conquest and yet they ruled one of the most impressive empires on earth and still had no writen records quipa were memory aids not writing in central america the prehistoric period starts more than a thousand years earlier further the term is eurocentric and based on the notion of progressive stages of mankind like the stone age there are people who still use stone tools the ages as stages concepts have long since been abandoned in the social sciences since they do not apply universally and can not be tied directly to other political and social developments around the world so i say merge the two articles and cut the outdated garbage',\n",
       " 'a mess of promotion this article is a nightmare of promotion with too many unneeded examples given in places where generalities would suffice many of the mentions of a single model of uav or of a uav company can be taken out in favor of a less specific discussion of capabilities and use this article is a magnet for promotion because other uav designers see their competitor listed and they want to be listed as well',\n",
       " 'a message about schizotypal personality disorder',\n",
       " 'a message for my good friend onorem hi i hope you enjoyed the skirmish i had with you suckers today it was good fun cheers to another year to you putting up with my crap p s i have lots of other accounts on here which you and your pimps will never find',\n",
       " 'a message for you fuck you gayfullbuster put this finger in yourasshole bastard',\n",
       " 'a message from crum',\n",
       " 'a message from it isn t vandalism it s truth',\n",
       " 'a message from jasonceyre f u ck you hoe',\n",
       " 'a message from jasonceyre f uc k you hoe you a b i t c h i do what i want',\n",
       " 'a message from our sponsors',\n",
       " 'a message from shadow i am a wicked homosexual who preys on myself aka masturbates to noavail im impotent',\n",
       " 'a message from the un regarding this un geoscheme dear bart thank you for your email the geographical groupings used by the united nations statistics division follow the m standard for area codes for statistical use details of which can be found here http unstats un org unsd methods m m htm the designations employed and the presentation of material at this site do not imply the expression of any opinion whatsoever on the part of the secretariat of the united nations concerning the legal status of any country territory city or area or of its authorities or concerning the delimitation of its frontiers or boundaries the assignment of countries or areas to specific groupings is for statistical convenience and does not imply any assumption regarding political or other affiliation of countries or territories by the united nations regions are so drawn as to obtain greater homogeneity in sizes of population demographic circumstances and accuracy of demographic statistics another example is russia it is in the continent of asia but it belongs in the eastern europe region this nomenclature is widely used in international statistics but it is by no means universal i hope this is useful best regards the un demographic yearbook team it seems the geoscheme that was created for internal use of one un agency is being not only over quoted on wikipedia but also abused',\n",
       " 'a message i am afraid burdak this guy just doesn t like people from the subcontinent what he also has is a lot of free time with a gigantic watchlist the wikepedia community will regret his actions in the long term but as things stand he is invincible',\n",
       " 'a message to newyorkbrad great you and your stuck up friends at arbcom are blocking established editors based on a few edits may i kindly suggest that you go dig yourself a hole and cry for the rest of your life',\n",
       " 'a message to you allie oh hai cockmonkey n gger',\n",
       " 'a message to you rudy you are a lolcow',\n",
       " 'a message to you shadeed hey i think you re a lolcow',\n",
       " 'a message to you shadeed hey i think you re a lolcow n gg',\n",
       " 'a message to you shadeed hi cockmonkey n gg r',\n",
       " 'a message to you shadeed hi n gger',\n",
       " 'a method for posting current events to the proper pages',\n",
       " 'a michael french hired a pr firm to manage his wikipedia presence did you see this according to this article a michael french hired a pr firm to manage his wikipedia presence i thought i would make sure you saw it after i saw you were one of the people who edited michael french disambiguation do you have any idea which michael french article the reference refers to ironically engaging in this attempts to subvert the wikipedia and being caught at it makes him more notable cheers',\n",
       " 'a minor edit i want to make but don t seem to have the authority to do in the history section affiliation is misspelled will someone fix it',\n",
       " 'a minor issue with csdwarnbot i received a notification from csdwarnbot regarding an article i supposedly created which was deleted as a redirect to nowhere the page was broadband learning inc actually i did create that redirect but through a page move and as a matter of fact i am the one who tagged the original article for speedy a corp a couple of minutes later after i had given the author enough time to expand it it would be helpful if in the case of r speedies the bot would look at the edit summary before sending a notification just to make sure that redirect wasn t the result of a page move blanchardb myears mymouth timed',\n",
       " 'a minor point of etiquette in general editing another user s personal page is not considered good manners if you want to talk about something on that page use the user s talk page accessible through the discuss this page link jan utc',\n",
       " 'a minor technical issue the reference to lysander spooner s book poverty its illegal causes and legal cure currently reference is producing a broken link i don t understand why perhaps someone who knows how to do so can fix it and remove this segment from the talk page i have put this at the top in anticipation of quick resolution archived discussion',\n",
       " 'a misery you have made my life a misery on wikipedia and now you re gonna pay for it you disgusting ignorant and stupid bastard',\n",
       " 'a misery you have made my life a misery on wikipedia and now you re gonna pay for it you disgusting ignorant and stupid bastard preceding unsigned comment added by',\n",
       " 'a mistake spanish is the third most spoken language by native speakers after chinese and english i have no doubt about that please check the most updated statistics and change the text',\n",
       " 'a mixture of quality new articles and recently passed good articles should really be standard procedure i think i m considering proposing something to include new gas to appear in dyk can i count on the support of anybody here dr blofeld',\n",
       " 'a mm gun is normally used for grinding out it can also be useful in protecting lines what in the world does this mean this is an encyclopedia intended to inform readers who are not experts in a given field please define grinding out and protecting lines if you think they are germane to the definition of mm caliber thank you',\n",
       " 'a modest amount of good material is the norm',\n",
       " 'a moldavian i am a moldavian and i can explain better what is a moldavian as a sicilian is an italian a bavarian is a german so the same a moldavian is a romanian',\n",
       " 'a moldavian professor interesting info from postica gheorghe civilizatia medievala timpurie din spatiul pruto nistrean secolele v xiii is found here the first chapter has a lot of info which could be used on the moldovan language article e g the fact that due to political reasons as to expand their influence in romania the soviets at actually supported the moldovan romanian equality in the beggining and only later after ww they switched to the moldovan theory instead',\n",
       " 'a month long block or even two or three and after that i m perma blocked from editing semi protected pages it ll never happen again plus i m not the only one using my ip and it s not fair to everyone else here accept accept reason here',\n",
       " 'a more benign way to write this for example would be israel is a liberal democracy and the most developed nation in the middle east equally factual without the parthian shot',\n",
       " 'a more important point about vuia is that he has no witnesses or evidence whatsoever for his wild claim all reports of this flight are based on his unsubstantiated claims even if his fairy tale is taken seriously it includes the admission that it was so windy on the day of his alledged hop that after he landed his plane was picked up by a gust of wind and slammed into some trees so the idea that he flew without the aid of the wind is contradicted by his own story on other occasions when he attempted to fly he was witnessed failing in his attempts by journalists but later claimed that the flights were sucessful he s just another pathetic liar like coanda and his claimed hop was years after longer well documented hops made by at least others in powered aircraft',\n",
       " 'a music composer this article describes pritam as a music composer but just how much music has pritam ever composed it is more accurate to call him a deejay or a re mixer since all he does is lift music from elsewhere and repackage it with some indian elements thrown in',\n",
       " 'a mysore pak for you zaayka e hindustan thanks a ton for helping me all these days and thank you so much for deleting all those pages now i m just waiting for maxim s reply sending this yummy firni for you firni is a south asian sweet kind of a rice pudding i hope you love it d note zaayka e hindustan literally means the taste of hindustan',\n",
       " 'a name being controversial even among the usual corps of factional religious zealots who decide to descend on this page in particular is not a valid reason for breaking wikipedia naming policy which clearly mandates catholic church as the title and it has been clearly proven by objective research that catholic church is not ambiguous but is the principal common name used for this entity like most of the persons coming here to support changing the name to rcc you have totally ignored the relevant wikipedia naming policies and the research gathered over the months of the official decision debate that is one reason why most of the drive by support contributions here are invalid they merely promote sectional viewpoints and do not engage with wikipedia naming policies and the facts supporting the decision taken on those grounds simply coming here and saying that you prefer rcc has no bearing on the relevant process xandar',\n",
       " 'a name change seems a little premature this article has suddenly gained quite a few editors and ought to be allowed to mature for a moment or two i think we ve already had enough fun at afd for now and can focus on improving this article',\n",
       " 'a name is a name and this being the english wikipedia we have agreed that team pages will use the english spelling typically that does not include diacritics if you wish to attempt to build consensus to change this convention please discuss it',\n",
       " 'a nd whose goals have been opened to question by environmental advocates',\n",
       " 'a neutral country has no enemies therefore there can be no cooperation with enemy forces',\n",
       " 'a never gonna give you up never gonna let you down never gonna run around and desert you never gonna make you cry never gonna say goodbye never gonna tell a lie and hurt you',\n",
       " 'a new battle of elite wasp vs average joe majority california is now the most politically divided state in the union the coastal counties are the blue state the people are viewed as wasp or preppie home to upper income urbanites strongly for most liberal policies i e gay marriage eco consciousness no immigration controls etc versus the red state inland valleys and deserts where lower middle class suburbanites and small town people are viewed as redneck farmland conservatives for the most part there s been alot of talk about the neo con ultra lib oc ies of very affluent orange county and the economic liberal social conservative okies of high poverty rate kern county the word oc is a trendy initial for the county and ok stood for the dust bowl refugees from oklahoma came to central valley in the depression era s may well preserved their sociocultural distinctions it mirrors of the old wasp vs ethnic northern vs southern and rural midwest west vs urban northeast east divides of the th and th centuries in addition to the o c is diverse but the wealthiest beach towns and hillside home tracts are homogeneous or racial minorities have been whitewashed compared to kern county s hispanic majority or plurality with more blacks asians middle eastern groups by percentile with a strong okie texan sociocultural fabric who actually sympathizes with latinos or mexican americans note many okies are native american often cherokee whom been viewed as not white before it may be possible for the state of california under a republican governor associated with the hollywood left and the very blue san francisco los angeles dominated state legislature the districts with the highest populations is in a battle against the two thirds of the state landscape are deep red',\n",
       " 'a new classification table is at hominid maveric',\n",
       " 'a new commtrcial concern which will serve you and the society with block designs cinema slides oil portraits black white and coloured photography etc tabhis divine holiness pramukh swami maharaj shastri narayan swarupdasji the spiritual leader of the swaminarayan movement has kindly consented to inaugurate prayorama at a m on th july tabwe hope you will grace the occasion tabtabtabtabtab bhaskar mehta tabtabtabtab proprietor prayorama tabtabtabtabtab bharuch',\n",
       " 'a new day at midnight david gray',\n",
       " 'a new diamond has just been completed in rochester new york at the intersection of south winton road and i',\n",
       " 'a new essay wikipedia merge what seems to speak well to this situation',\n",
       " 'a new oxbridge user box lord charlton i am currently in the process of writing a user box for all of the colleges that are part of oxbridge this template is meant to replace your current college template please take a look at the and comment on it my main concerns are college abbreviations and color choice i am using scarf colors for the colleges thank you',\n",
       " 'a new portal about iran assalamo aleykom its a new portal about iran',\n",
       " 'a new prince has been born and lives in utah',\n",
       " 'a new reason over time i ve heard many reasons as to why a polish translation or explanation needs to be added to an article on english wikipedia concerning lithuania some are unusually outlandish but this one is especially humorous oh no please don t start this again this informatino sic is perfectly likely to be of interest to readers of this article although i m sure there are many people who might be interested in all kinds of information this article as was recently pointed out is not a dictionary any reader looking for this informatino simply needs to click here to this article and get all the information they need about wile szczyzna etc this is part of the beauty of wikipedia seek and ye shall find in the mean time it strikes me as inappropriate and unnecessary',\n",
       " 'a new record two articles riddled with plagiarized information protected for over three weeks i think that sets a new record one that you can be proud of jan utc',\n",
       " 'a new user nonetheless not inclined to troll',\n",
       " 'a new user put a comment about another article and another editor having quasi neocon views that comments had nothing to do with you he just didn t format it or sign it sorry for the confusion your explanation of why you inserted intentionally incorrect information with the expectation that someone would fix it is astonishing that is barely distinguishable from vandalism',\n",
       " 'a new wiki nostradamus page i am all for a total rewrite as jim suggested on the wikipedia nostradamus page the introduction should reflect this with an encylopedic npov rewrite that is balanced and that reflects much of the information known about nostradamus his life works etc referenced and sourced with good links to relevant subject matter as well this is more than possible without sinking into the obscure and narrow point of view that only serves to confuse the wikipedia reader i suggest a rewrite of the entire wiki nostradamus subject using much of the primary authors materials quotes and sourced materials on his background childhood life work as a doctor astrologer etc as a start',\n",
       " 'a nice reward for you the barnstar of good humor for your lolful block message here when i saw that you made my day and it made it on my wall of funny things in my bedroom yo',\n",
       " 'a nickname is not the correct choice for the name of an article as its not the official name the redirect takes care of harry and is noted in the infobox',\n",
       " 'a night picture would also do it would only enhance those flamboyant qualities',\n",
       " 'a no consensus means that participants failed to reach a consensus and nothing more if that indicates anything about the subject s notability it is that there is disagreement about whether the subject is or could be notable i also notified all the participants of the first afd for the sake of completeness with the exception of those who are banned or clearly retired some time ago if any consensus is actually achieved here unlike the two afds i will acknowledge and accept that',\n",
       " 'a nosey passer by hi do we know if user vampire warrior went through with his threat or not i note he has been blocked along with a sockpuppetry template it would be much more polite of people if they could simply off themselves quietly without concerning the entire wiki community cheers',\n",
       " 'a note from a legitimate user of this ip this is unfortunately the ip address of a large company as far as i can tell everyone here shares a common ip address it is likely that a single individual at this company is the cause of the problems',\n",
       " 'a note from adam nicolson in the light of the very polite request above could we also demote the mention of the title from the first line of the article itself it is such a strongly defining description and i would prefer to see it as an afternote rather than a headline if possible',\n",
       " 'a note i d like to point out that the statement that muslim s kill americans is a verifiable fact and therefore worthy of inclusion in an encyclopedia',\n",
       " 'a note i have moved the text from here to',\n",
       " 'a note i just wanted to say thank you for defending me the other month for me defending those articles on nevada though both of us were unsuccessful do you still fight that other user',\n",
       " 'a note on capitalization just a comment that capitalization of the show is inconsistent across sources but wgbh uses a capital to whereas most of the finding aid uses lower case to some globe articles switch between the two options so something to think about is which we recommend for this particular article i m leaning towards the lowercase to because that s closer to wikipedia sentence case',\n",
       " 'a note on dates hi i see you removed the comma from a date the the matrix article with the foundation that it would be inserted according to the user s preferences that is actually not correct the date only gets parsed if the month and day are linked and also the year perhaps you d like to read a recent discussion on my talk page here for further information and a test page that i made happy editing mark',\n",
       " 'a note regarding the wpvg newsletter due to an apparent lack of interest the wpvg newsletter will be switching from a monthly publication schedule to a quarterly one the next issue be delivered on july and will pertain to the second quarter of the calendar year if you have any comments regarding this or suggestions to improve the newsletter please post at wikipedia talk wikiproject video games newsletter vg newsletter contributors notice delivery by xeno talk',\n",
       " 'a note to vandals please note that after i make changes i will copy the source code for both my talk page and my user page any vandalism will be reverted by me at school or at home so all efforts of vandalism will be non existent',\n",
       " 'a note which krocht deleted at the same time as removing this section though of course s he had every right to do the former if not the latter an editor s talk page is their castle and all that well my hope is that the deleting was just krocht s mildly over the top way wanting to of draw a line in the sand put the whole issue behind them and become a constructive editor',\n",
       " 'a noticebox on the talk page and an editnotice above the edit window are not enough i guess please raise this issue on the article talk page',\n",
       " 'a notification of a speedy deletion request does not constitute a user warning',\n",
       " 'a number can never be covered by the dmca if the number represented in itself creative intellectual content then it would be source code but it s not talk',\n",
       " 'a number of conquest attempts were launched against prussia by poland ref external link william pierson book also chronicon polonor ongoing military attacks in order to subjugate prussia labuda disputes this marija gimbutas in her book the balts describes the prussian and baltic territory reaching much further west south south west south east than the later prussia when poland came into existense and conquered much additional territory claimed by polish to have been a uniting of polish tribes however for centuries rejected and fought against by the ones involved prussians are also recorded as ulmerugi holmrugi island rugians in the vistula river area that name still showed up on maps of area around culm culmerland kulmerland territory which was surrounded by the vistula river boleslaw i claimed to have conquered part of the prussians and even his headstone is supposed to have shown something like this he also claimed to have put columns pillars up in the newly conquered prussian territory to mark the new border of territory which he now claimed as his which was not his so szopen culmerland was not polish land it was prussian land partially conquered temporarily by poland gethen getae is yet another name for the prussians that name was still known to polish historians as well szopen s mentioning of bruno of querfurt as having taken part in boleslaw i battles against prussians also makes no sense because bruno was dead since',\n",
       " 'a number of members from my unit assisted in both aforementioned events',\n",
       " 'a number of people are constantly removing facts maps references and adding false claims such as pertaining to silesia here are some facts all silesia is situated entirely in magna germania territory silesia territory was part of the holy roman empire by ad as lien to moravian bohemian dukes it was conquered by boleslaw i chrobry a duke of the western polans who pledged allegiance to the holy roman empire the eastern polans came from the dnjpr area further west into germania and are thus named western polans http books google com books vid isbn id lfmjdnxgxeuc pg pa lpg pa dq schlesien staatsrechtlich sig hdoxnrnajpzqnxnjjxlvxwsvk ppa m silesia later called upper and lower silesia as part of holy roman empire under lothar http books google com books vid oclc id tbbkyzot aqc pg ra pa lpg ra pa dq schlesien staatsrechtlich silesia as a separate state connected to bohemia king only a state of the holy roman empire germany http books google com books vid oclc id pmqnaaaaiaaj pg ra pa lpg ra pa dq schlesien staatsrechtlich at time of emperor ferdinand an individual state of silesia under the king of bohemia not the state of bohemia http commons wikimedia org wiki image poland in map jpg map of poland in http en wikipedia org wiki image poland fragmentation period map jpg polands conquests while under holy roman empire lien http www muzeum polskie org muzeum poland ad htm w grodeccio map ad poland pink in center surrounded counter clockwise pomerania yellow mark brandenburg beige silesia yellow hungary yellow volhinia beige masovia yellow lithuania inland small pink triangle dobrin land both prussias green western prussia w danzig and eastern prussia samogitia and livonia green',\n",
       " 'a number of which other editors have brought up below',\n",
       " 'a onte time fee which has already been paid therefore everybody including wikipedia is free to use the file without epa s permission and or payment still the photo has not been undeleted but as i said wikipedia is ruled by mobs not governed by rules',\n",
       " 'a pacemaker like implantable device designed by company name to electrically activate the baroreflex would probably be ok in the first sentence by the way none of this guarantees it will not be removed by other editors but it makes it more likely that it will not be removed talk',\n",
       " 'a page right after a favorable edit is made',\n",
       " 'a page you started ambassador of iceland to russia has been reviewed thanks for creating ambassador of iceland to russia s rvarr s wikipedia editor just reviewed your page and wrote this note for you thanks for your page on ambassador of iceland to russia remember to add details when possible to reply leave a comment on anonposeidon s talk page learn more about page curation',\n",
       " 'a page you started american values network has been reviewed thanks for creating american values network adlsaxa wikipedia editor just reviewed your page and wrote this note for you the page looks good to me so i m marking it as reviewed you might want to do something about the redlinks in the overview section i also added some categories to the page before reviewing it keep up the good work to reply leave a comment on novusuna s talk page learn more about page curation',\n",
       " 'a page you started citysuper supermarket has been reviewed thanks for creating citysuper supermarket palaceguard wikipedia editor just reviewed your page and wrote this note for you hi this article citysuper supermarket does not have any issue nice work to reply leave a comment on deepanshu s talk page learn more about page curation',\n",
       " 'a page you started colorfest has been reviewed thanks for creating colorfest zellfaze wikipedia editor just reviewed your page and wrote this note for you thanks to reply leave a comment on missionedit s talk page learn more about page curation',\n",
       " 'a page you started emma didlake has been reviewed thanks for creating emma didlake cakoelsch wikipedia editor just reviewed your page and wrote this note for you i enjoyed reading your article to reply leave a comment on megalibrarygirl s talk page learn more about page curation',\n",
       " 'a page you started gansu flying horse has been reviewed thanks for creating gansu flying horse cwh wikipedia editor just reviewed your page and wrote this note for you good to see articles on unique works of art good job to reply leave a comment on jbhunley s talk page learn more about page curation',\n",
       " 'a page you started has been reviewed thanks for creating andricus dentimitratus qgroom wikipedia editor just reviewed your page and wrote this note for you reviewed interesting to reply leave a comment on kieranian s talk page learn more about page curation',\n",
       " 'a page you started has been reviewed thanks for creating george robertson footballer born jmorrison wikipedia editor just reviewed your page and wrote this note for you please consider adding an infobox to reply leave a comment on pigsonthewing s talk page learn more about page curation',\n",
       " 'a page you started has been reviewed thanks for creating greater than fire kevinjdrieberg wikipedia editor just reviewed your page and wrote this note for you greater than fire is up for deletion do you know what to do to reply leave a comment on i dream of horses s talk page learn more about page curation',\n",
       " 'a page you started has been reviewed thanks for creating halawa house prufrok wikipedia editor just reviewed your page and wrote this note for you good start to reply leave a comment on go phightins s talk page learn more about page curation',\n",
       " 'a page you started has been reviewed thanks for creating history of jerusalem during the crusader period coin wikipedia editor just reviewed your page and wrote this note for you just finished nap on this outstanding article a pleasant change from i too often tend to see to reply leave a comment on ad orientem s talk page learn more about page curation',\n",
       " 'a page you started has been reviewed thanks for creating mary sarah the librarian at terminus wikipedia editor just reviewed your page and wrote this note for you its a good article keep up the good work to reply leave a comment on uncletomwood s talk page learn more about page curation',\n",
       " 'a page you started has been reviewed thanks for creating nokia lumia krisbogdanov wikipedia editor just reviewed your page and wrote this note for you reviewed as part of page curation previously tagged with considered for improvement tag to reply leave a comment on kieranian s talk page learn more about page curation',\n",
       " 'a page you started has been reviewed thanks for creating raktomukhi neela rajdeep wikipedia editor just reviewed your page and wrote this note for you this article is mostly plot summary please find reviews or news articles about the book and write who published it how widely was it sold was it hardcover was it reprinted what did the critics say etc good luck with your editing to reply leave a comment on anne delong s talk page learn more about page curation',\n",
       " 'a page you started has been reviewed thanks for creating sanshin deity seonookim wikipedia editor just reviewed your page and wrote this note for you reviewed as part of page curation interesting article already tagged with note about translation to reply leave a comment on kieranian s talk page learn more about page curation',\n",
       " 'a page you started has been reviewed thanks for creating supreme divinity tai di dcattell wikipedia editor just reviewed your page and wrote this note for you great article on supreme divinity tai di thanks for contributing to reply leave a comment on rdn f s talk page learn more about page curation',\n",
       " 'a page you started has been reviewed thanks for creating th famas awards carvin wikipedia editor just reviewed your page and wrote this note for you tagged as needing reliable sources imdb and blogspot are specifically listed in the guidelines as not reliable to reply leave a comment on dictioneer s talk page learn more about page curation',\n",
       " 'a page you started john e bortle has been reviewed thanks for creating john e bortle l d allan wikipedia editor just reviewed your page and wrote this note for you nice start of an article about an interesting person i have expanded it some to reply leave a comment on melanien s talk page learn more about page curation',\n",
       " 'a page you started lefevrea annae has been reviewed thanks for creating lefevrea annae rubbish computer wikipedia editor just reviewed your page and wrote this note for you you know to reply leave a comment on xanthomelanoussprog s talk page learn more about page curation',\n",
       " 'a page you started mario pirani has been reviewed thanks for creating mario pirani cookiemonster wikipedia editor just reviewed your page and wrote this note for you keep up the good work to reply leave a comment on shibbolethink s talk page learn more about page curation',\n",
       " 'a page you started openstructures has been reviewed thanks for creating openstructures lagoset wikipedia editor just reviewed your page and wrote this note for you please address the tags on this article thanks to reply leave a comment on ironholds s talk page learn more about page curation',\n",
       " 'a page you started rusted dagger has been reviewed thanks for creating rusted dagger eraan wikipedia editor just reviewed your page and wrote this note for you nominated for deletion to reply leave a comment on jersey s talk page learn more about page curation',\n",
       " 'a page you started sumire morohoshi has been reviewed thanks for creating sumire morohoshi kyleoconnor wikipedia editor just reviewed your page and wrote this note for you next time i advice to add wikilinks to the corresponding japanese article on wikidata if exists thank you to reply leave a comment on ciphers s talk page learn more about page curation',\n",
       " 'a page you started thinking phone networks has been reviewed thanks for creating thinking phone networks patsandsox wikipedia editor just reviewed your page and wrote this note for you hi nice work could you possibly add sources to the product section i ve taken some targetting info out as a little too promotionally orientated ideally articles should not be written with clients customers in mind to reply leave a comment on lstanley s talk page learn more about page curation',\n",
       " 'a page you started wimbledon championships men s doubles qualifying has been reviewed thanks for creating wimbledon championships men s doubles qualifying yimingbao wikipedia editor just reviewed your page and wrote this note for you please complete this article to reply leave a comment on i dream of horses s talk page learn more about page curation',\n",
       " 'a page you started y suke kozaki has been reviewed thanks for creating y suke kozaki gabriel yuji wikipedia editor just reviewed your page and wrote this note for you nice article to reply leave a comment on lstanley s talk page learn more about page curation',\n",
       " 'a pair of jew hating weiner nazi schmucks',\n",
       " 'a pair of twins you write a pair of twins twins are always pairs you people are ridiculous no wonder school boards spit at you lmao',\n",
       " 'a pan american approach of xx bolivar',\n",
       " 'a paragraph maybe a whole chart like that well i won t complain about it but i thought you should know you re sorting various themes from inside the book and reorganizing them according to categories you ve chosen that isn t going to go over well here',\n",
       " 'a partial blanking form of',\n",
       " 'a pat on the head kc you are one of the most dedicated wikipedians i know and i m madly in love with you i d give you a barnstar but in the end you d just chew it up and bury it instead let me offer this metaphorical pat on the head that ll do pup that ll do see you around tropics',\n",
       " 'a pathological and biased guy who is on a demented soap box and just goes by his own traditions and historic positions likes dislikes and personal tastes',\n",
       " 'a pattern may be emerging',\n",
       " 'a pattern of anomalies points to a cover up but not to any particular conspiracy theory uh no it doesn t ghost that s merely your opinion which is why any pattern of anomolies must be connected to those authors who claim it points to a cover up',\n",
       " 'a pattern of multiple correlated genes isn t essentialist the term hearkens to the notion of the platonic ideal that some single quality defines groups it s one of the standard strawman arguments against human races no gene for race racial essence and as such its ambiguity and polemic sense is not helpful here perhaps if you reference morning s definition of essentialist and that she demontrates biologists fit the description in their view of human race we may have something to go with individuals of a race do not carry an essence neither do coyotes thet exhibit similar genetic patterns',\n",
       " 'a person believing kollias jacques over aristotle and hammond is not gonna change its a conspiracy theory logic he follows he doesnt care about history archeology lingusistics and believes anything that suits his fancy answer me this guys',\n",
       " 'a person can choose to see the glass as half empty full in regards to women campaigning for parental leave against gender segregation gender neutral language reproductive health heterosexism against gender roles etc as they all affect men too',\n",
       " 'a person is presumed to be notable if he or she has received significant coverage in reliable secondary sources that are independent of the subject i thought i had many secondary sources in his wikipedia article was there not enough',\n",
       " 'a person living in canada has just as much right as anyone else in the world to research and own a particular dog or anything else you nor the koolie club of australia have patented sole rights to these dogs wikipedia is all about correct information and not theories and your own ideas of what happened what was and what will be wikipedia is based on facts which clearly has been stated on the german coolie page and not the australian koolie page',\n",
       " 'a personal account of cyclothymia dear friends i m still very unhappy about this wikipedia page on cyclothymia and i see that it has got even worse recently due to these copy right problems people will naturally be turning to wikipedia as a first step to find out something about cyclothymic personality disorder and they will be unaware of the controversies surrounding it e g that it is even disputed to be a personality disorder http s zetaboards com thecollective index and http www chatarea com thecyclothymiacollective appeared to have died since i last visited them so active discussion with other people who have been diagnosed or hope to be diagnosed is not presently possible so let me offer this letter for the casual enquirer to read about the actual symptoms of somebody who has been diagnosed as cyclothymic the reader will note from the complaint above that i am unhappy that the main article does not contain any warning about such mixed state cyclothymia which frequently causes misdiagnosis as depression resulting in medication with anti depressants which makes the condition worse my attempt to rectify that state of affairs resulted in my contribution being removed so i will not waste any time on making a new ammendment please be kind enough to leave this in the discussion though the following is not for diagnostic purposes but solely to provide the enquirer with a taste of the sorts of symptoms that can be diagnosed as cyclothymia i was diagnosed years after the onset of these symptoms and this is a letter applying to volunteer to be the subject of some research conducted by my local university dear dr x i recently participated in the beating bipolar research i was in the control group i was handed a letter inviting me to participate in your research involving an mri scan which intrigues me i was intending to write this email several weeks ago but i put it off because i wanted to write you an account of what happens to me in my disorder that has been diagnosed as cyclothymia since i am not getting around to writing you a longer account let me write you a short account because i would very much like to be put in that mri scan twice once i know that i am becoming hyperthymic hypomanic i can roughly predict when i am going to be hypothymic depressed this is because my cycles are extremely regular given a distinct stress such as losing a job or starting a relationship i can mark out in advance on a calender when i will be high at end of the fifth week following and when i will be low at the end of the seventh week following and when i will come out on a level again at the end of the twelth week following i ve always felt that the mechanical predictability of this should intrigue researchers and i believe that what has happened to me is that the stress response mechanism has had its period reset this first happened when i was circa september and has continued ever since but it took me until i was to clearly identify that it was a cycle because it had disrupted my life so much originally i believed that i was dealing with the sort of kaleidoscope of problems that perhaps are typical of young people but having dealt with those problems with various counselling psychologies i was left facing a problem that could not be taken away by the age of i was chronically depressed because of the host of problems that came in its wake unemployment poverty social isolation and depression and my doctor at the time wrote me off onto sick benefit this resulted in an interview with the department of social security doctor who not only recognised that i was being discriminated against in employment but diagnosed me as having cyclothymia of a mixed state variety and recognised that doctors had kept interpretting my presenting symptoms as acute depression i have since been moved onto incapacity benefit and have been monitored by a psychiatrist ever since presently dr x of the community mental health team in the x clinic i d prefer to present this with diagrams but it s not possible in an email please feel free to draw your own the basic cycle there is a stress event a good example is a car crash that i was in with my partner at the time in which the car somersaulted down the ditch and yet we got out of it only bruised she was shaking and very excitably upset at the time couldn t sleep that night and the following day was tearful but then slept properly and was fairly normal the following day but wouldn t drive she was bemused that i was so calm arranged for help drew a measured sketch map slept well except for the bruises and drove us the miles home my own response to this stressful event was similar to hers only my excitable state came five weeks later and my depressed state seven weeks after the event i was on a',\n",
       " 'a personal attack about me please see this since you are an admin i believe you can make this stuff stop what did i do this time',\n",
       " 'a personal attack is generally something which involves a slur or a lie not a pure confinement to an accurate description of willfully indulged in spirit of wiki contrary behavior e g various people are labeled vandals all the time at wiki if they re vandalizing and it s not considered a personal attack regards this particular case if what s consciously being committed across the various islam relating entries does not qualify as whitewashing and propaganda then nothing does',\n",
       " 'a personal attack you are a ignorant twisted officious small minded fuck is that personal enough for you i had decided before the interaction with you that this would be the last day i d edit wikipedia and would have continued to ignore you but i dont want there to be any question that it was because of you and it s appropriate that this comment actually be the last to which you will no doubt add a response like your others',\n",
       " 'a personal entry moved here',\n",
       " 'a perusal of the sources including well respected news sources like the guardian suggests that this is a suitable standalone topic documenting a bizarre but genuinely significant pop culture phenomenon it would be wrong to include this information in cat or list of cats as those articles are geared towards the biology and anthropology and we should defer to more general purpose topics rather than specific ones such as bonzai kitten talk cont',\n",
       " 'a phd academic who works with dog identification dna testing and visual id and has done several scholarly studies on the subject',\n",
       " 'a philosophical story to embrace ones mind the ancient indian mathematicians were the first to discover the digit zero and implement it in the formation of digits the whole world revolves like a cycle in the form of the digit zero the britishers dicovered an ancient egg of dinosaures in india what i mean to convey is that india is the land where lord rama or lord krishna were born lord rama was an example of a perfect ideal man on earth his life story is an example for an ideal man to follow lord rama lord lakshmana lord bharata and lord shatrughana were four sons of king dhasratha of ayodhya he was cursed to die from the pain of separation from his son by the blind parents of shrawan kumar kaikeyi the mother of bharata wishes to send lord rama on an exile for a period of years and wishes her son bharata to be the king of ayodhya lord rama and his wife sita and his brother lord lakshmana leave for forests outside the kingdom of ayodhya lord rama s brother lord bharata persuades lord rama to return back but lord rama refuses to return to ayodhya against the wishes of his step mother kaikeyi but lord bharata returns to ayodhya along with the sandals of lord rama and places the sandals of his brother lord rama on the throne and rules the kingdom of ayodhaya in the name of rama this shows the example of love between an elder brother and his younger brother in the forest once a demon shurpanaka sister of king ravana disuades lord rama to marry her but lord rama tells her that he is already married and points towards his brother lord lakshmana who cuts off her nose and ears to show her ugly nature and character shurphanaka runs off and complains about lord rama and lord lakshamana to king ravana of lanka king ravana somehow manages to kidnap goddess sita the wife of lord rama in revenge to lanka lord rama grieves for his separation from his beloved wife goddess sita here the feelings of an ideal person in the form of lord grieving from separation from his beloved wife are beautifully described by sage valmiki who wrote the whole ramayana sage valmiki was a thief named ratnakar who by the japam of lord sri rama became a great sage named valmiki and wrote a great epic called ramanaya the story of king rama and sita lord rama and lord lakshamana move towards southern india where they meet the lord hanuman the great son of anjani and kesari lord hanumanji is also known as pavanputra or the great celibate bachelor and lord sugriva and with the help of vanara sena or army of monkeys they move into the kingdom of lanka and kill the demon king ravana lord rama rescues goddesses sita and with the help of lord hanuman they return back to ayodhya a fourteen years had lapsed when lord rama had left the kingdom of ayodhya when lord rama goddesses sita lord lakshmana and lord hanuman return to ayodhya the people of ayodhya cheer up and lit up the whole ayodhya with diyas in order to celebrate the victory and return of their king lord rama the festival dusherra is celebrated every year as a victory of good over evil as the demon meghanad the son of king ravana the demon kumbhakarna the brother of king ravana and the demon king ravana of lanka were killed by lord rama and lord lakshmana in order to rescue goddesses sita from her captivity in lanka and on the occassion of their return to ayodhya the festival diwali is celebrated throughout india every year with great pomp and show of lights and crackers whenever some troubled minds read this story of ramayana their minds gain peace and the self confidence is restored as their spirits become calm pacified and brave in the troubled periods of time the epic ramayana denotes the greatness of supreme god lord rama as an ideal human being on earth',\n",
       " 'a photo might be nice',\n",
       " 'a photo of a magazine cover in a wikipedia article might be allowable and within the allowed practices under copyright law under the basic premise that wikipedia exists for general information in substance wikipedia serves a journalism type mission existing to educate people a newspaper editor doing an article on somebody who is pictured on a magazine cover might include a photo of that magazine cover in essence use of the magazine cover is but component of the larger creation of intellectual work the borrowed use of the magazine cover does not serve to exist as a product by itself be it free or for a price contrarily there is other different use which could be a flagrant copyright infringement i cannot make poster prints of a magazine cover and sell them individually for in that case the image of the magazine cover becomes a commodity by itself for sale on the open market in that case i do not own the image and cannot use it in a commercial venture intellectual property which includes photos or the written word owned by some other person or corporate entity can possibly be allowed to be used where it exists as a minor component used to enhance a much larger piece of work marc s dania fl',\n",
       " 'a photo of the campus is definately needed',\n",
       " 'a photograph of john d terrell sr does anyone here know where we can obtain a photograph of the said john d terrell sr',\n",
       " 'a physical defenceman bieksa has increased his scoring totals in each of the full seasons he has played in the nhl what all two of them this statement adds nothing to the article',\n",
       " 'a physical structure that no longer exists in an architectural form was put together by rule of thumb builders certainly no architects were harmed in the construction of this object',\n",
       " 'a pic for the geobox would be great i ve already searched flickr and what i find are places in arizona imagine that',\n",
       " 'a picture and more information on the store i think this article would greatly benefit with a shot of the shop both during filming and if the shop is substantially different then one of after filming i will try to find one of both to include in the article thanks it would certainly look nice in the article one thing though new discussions and new posts within discussions go at the bottom not the top no big deal though and welcome to wikipedia',\n",
       " 'a picture of a bottle',\n",
       " 'a picture of rob an academic fraud and wiki bully boy',\n",
       " 'a pie at you for using the admin tools to get your way on wikipedia and abuse editors who are unable to defend themselves i throw this pie at you the plate is aluminum so when your done cleaning pie off your face you can wear the pie plate like a crown while you act like the queen of wikipedia',\n",
       " 'a pie for you a peach pie for your superb efforts today dr blofeld',\n",
       " 'a pie for you for your contributions',\n",
       " 'a pie for you here s a pie to make you feel better',\n",
       " 'a pie for you hey',\n",
       " 'a pie for you hi chanitra thanks a googol for all you ve already done as a wikipedia regional ambassador including your awesome efforts in developing a solid presence for this program in the midwest i speak for the entire wikipedia global education team when i say that i really really appreciate it i picked a pie for you because you re just a great person all around that was lame i know',\n",
       " 'a pie for you thank you for pointing out that my babysitter s a vampire tv series thing i had no idea here is a pie for you',\n",
       " 'a piece of free advice from been there done that take a week off',\n",
       " 'a pioneer yes the pioneer you ll get a lot of flack on that one have to agree with you on mondo porras tho who the heck was he and yes i worked in a shop building and selling performance parts for bikes back in kosman specialties predated about of the chopper builders running around today claiming credit',\n",
       " 'a pizza hooray for you you got a pizza as downpayment for future edits bad news to this is that it s from a sbarro try and enjoy it eat half at least treelo radda',\n",
       " 'a place for knowledge you recently placed a tag on the king hadrada page stating that it was a hoax well king hadrada was a real person and the other edit i didn t create i am going to learn about hadrada and try again and i hope to get some help from you administrators',\n",
       " 'a plain yugoslav tricolour is not merely a royalist symbol it is the pan slavic flag the plain yugoslav tricolour flag map is appropriate for the yugoslavia stub template because it is about yugoslavia as a whole not just the sfry the plain yugoslav tricolour is not a royalist symbol it is the same as the pan slavic flag and was used by yugoslavists it served as the flag of the rump federal republic of yugoslavia and the plain yugoslav tricolours are seen used today by supporters of a state of yugoslavia',\n",
       " 'a plane is already on its final approach segment to the airport even if it is a circling approach when it drops the landing gear and or begins to extend the flaps',\n",
       " 'a plantagenet in tudor england perhaps feudalist',\n",
       " 'a plasma question sorry to bother you but i was impressed with your command of plasma physics on the plasma talk page and i was wondering if you could answer a question for me in a one atmosphere uniform glow discharge plasma oaugdp what is the voltage drop for a large current say amps running across it is there an equation that one could use to compute this for different voltages thanks a lot for your patience cc',\n",
       " 'a play on full of shit unblock it if you like',\n",
       " 'a plea for consistency in entries when people are listed on these date pages please can i ask that the information given matches that on their web page far too often it does not description of nationality is a particular issue there are a number of hyphenated references for nationality is there a protocol in wikipedia for listing nationality it seems to me that if someone is born a certain nationality they don t stop being that nationality even if they work or live in other countries the only change is if they renounce their original nationality description of british nationality also seems an issue on his wiki page julian byng is described as a british army officer on the page for september he was described as an english army officer post s this is incorrect there is no english army i have corrected this to match his wiki page',\n",
       " 'a pleasant surprise if you haven t checked the paris metro infoboxes lately then i think you are in for a pleasant surprise see user talk edokter infobox paris metro question too yours',\n",
       " 'a please improve typhoon mekkhala s page because i m created the page for shortly knownly as mekkhala january',\n",
       " 'a please learn what moot actually means b anything may be vfd d for any reason vfd is a request to the community to decide on the fate of an article you may not remove vfd notices from articles unless the vfd has been formally closed by a closing admin doing so will get you blocked immediately',\n",
       " 'a poem about abe dashiel this is what you are abe dashiel is gay o he is very gay o yay o hes so very gay hooray he likes men cuase hes gay les celebrate that is who you are dashiel u are very gay hooray',\n",
       " 'a poem i have left you a personal poem on your user page there is no need to pay me for this service',\n",
       " 'a polite reply would have sufficed',\n",
       " 'a political statement in support of gender as an identity that one can decide firstly i do not believe the issue the article s title involves politics secondly chelsea did not decide to be born a woman in a man s body so to speak i did not decide upon my identity straight male i just am what i am same goes for her',\n",
       " 'a poll was held a few weeks ago on whether the article s name should be macedonia or republic of macedonia and the result was overwhelmingly in favor of republic of macedonia see talk republic of macedonia archive requested move as far as i can see nightstallion unilaterally moved it republic of moldova to moldova in abuse of admin privileges and then khoikhoi messed up the redirect so that the move could not be reverted',\n",
       " 'a poor cast i fear you ll probably want to correct regards',\n",
       " 'a poor reference is better than no reference unless you can find a replacement that just as comprehensive i would leave it in any case the one in question i m assuming you mean the only tm on the reference list tm od is marked as open to public distribution it would be available upon request to anyone who requested it under the freedom of information act',\n",
       " 'a poor start sorry the author seems to be totally mislead about both real history and the opinions on the table first of all no common two nations table is possible patent nonsense second i object the following the passage from the russian table speaking of the kievan rus as someone suggested earlier that table should by any mean include a disclaimer explaining very loose ancestry between kievan rus and modern russia this is the main disputed claim commented enough in other articles unacceptable for me and several other ukrainian and belarusian users regardless of any ukrainian military table none of them may include the red army this army was not only irrelevant to any of ukrainian states with very formal post wwii exception but also significantly anti ukrainian for instance red army units widely participated in war crimes against ukrainian population and anti soviet guerillas creation of the ukrainian table here has been a mere discussion trick not supported by all ukrainian users for instance see earlier alexpu s passage on trading the truth given all that i d suggest you to delete your first draft and find other ways for compromising mr buckshot i thank you an innocent editor for your valuable attempts and hope for further cooperation on the issue',\n",
       " 'a possible source a terrible mistake the murder of frank olson and the cia s secret cold war experiments by h p albarelli',\n",
       " 'a precedant has been set in allowing abortion the sanctity of life has been challenged where an unwanted baby can be killed it is inevitable that an unwanted old man will be euthanized as society continues down the highway of life bent on material acquisition government and its masters are more than happy to oblige knocking off a healthy white baby by producing a huff over keeping alive siamese zilliontuplets is a common media smoke screen to the greatest genocidal plot against white people since the holocaust that blanketed russia for half a century under communism matt or jeff on the street will condemn adolf hitler for ethnic cleansing and are equally quick to dismiss abortion as a womans right to choose bloody cowards i will translate it into hewbrew later sleepy now gone am in israel',\n",
       " 'a precedent in british peerage law has decided centuries ago that the monarch cannot hold a title from himself this means a purely english title and now scottish too however nothing apparently prevents from holding a foreign title or a sovereign title defender of faith can be seen as a sovereign title queen of dominions beyond sea is sovereign lord of ireland apparently was sovereign empress of india was sovereign man is sovereign or norwegian normandy was french orange was holy roman empire s hanover also etc',\n",
       " 'a present for you i think you ll enjoy it i know i had fun with it file buttplug png',\n",
       " 'a presentation at a major nasa conference is not exactly impressive enough for you what have you ever presented at any science conference you are lying about me not being here to build the encyclopedia i certainly am and you owe me an apology it is you who are guilty of deleting some very important information from the encyclopedia not me you clearly have a prejudice against brad watson i care only about spreading knowledge benjamin franklin',\n",
       " 'a press release does not confer notability what s up doc carrots',\n",
       " 'a pretty common thing to do is to make bindings to an existing scripting language such as tcl lua or guile this has all sorts of advantages you don t have to come up with your own language and your users have at least some chance of having heard of the language before dec utc',\n",
       " 'a previous version wouldn t help at all the weapons section on weapons of resident evil was purely game guide content telling people where to find the weapon isn t suitable content for a wikipedia article other than that i don t think any major content was ever removed from the article a merge should happen',\n",
       " 'a primary source is fine but not to back up debatable technical information wikipedia is not a technical manual it does not need advanced technical details of bitcoin the link to the bitcoin website is there so if people wish to get into the technical details then they can follow the link if the technical details of bitcoin are only on the bitcoin website then we should not slavishly reproduce them here that is not what wikipedia is for see wp notmanual this is a pillar of wikipedia',\n",
       " 'a priori i disagree with the assertion that red black trees rbt are quicker than avl trees avl for insertion and removal of an element without an appropriate element i think it must be remove considering that rbt are talliers than avl intuition is against the claimed statement',\n",
       " 'a pro oposition syrian activist group has taken over the articles on wikipedia and started to turn them into propaganda and i will continue to adress this issue all the edits i do are well sourced and there are no reasons to block me therefore i don t respect any decision you or fellow admin will do i will continue doing the best i can to improve these article from the propaganda reigning and bring the sourced information to the reader that s why internet is good you will always find a way to pass through a totallitary system which want to control everything block me if you want i am not a paper geek which value his username or status on wikipedia',\n",
       " 'a problem i do have a problem some maniac has nominated you for admin that s nuts nobody is being harrassed why does the truth hurt you so bad your bullying aint working out for you on this one huh awww you tried to say that all americans have incest on the jeremy clarkson page and went to great lengths to make it stay that way i had you reversed you re burned you were wrong now it has the correct quote and the source i was suspended for my troubles you tried very hard to prevent this it s all there in the history you are a weasel i m sorry that they picked on you in school but picking on me is gonna make your life much worse when i tried to start a discussion about it you repeatedly deleted my topic you even had your little friends wrongfully block me so fuck you and eat shit i will make sure that your nomination page reflects the truth fuck you very much you bullied the wrong person yourcousin',\n",
       " 'a problem in wikiville apparently there is a problem in wikiville wikipedia rules clearly state that so long as there are outstanding actionable objections against an article it should not be granted featured status giving this article featured status violates this rule both myself and poster avenue clearly articulated problem areas that needed to be dealt with yet both our objections were almost completely ignored the objections still stand no one has made any attempt to address them wikipedia s reputation is on the line here',\n",
       " 'a problem the title of the movie is mocking capitalism but the trailer mocks bailouts which arent capitalism free market but rather government intervention does michael moore understand this is it explained in the movie',\n",
       " 'a problem with english patriot man and his sockpuppets hi lately i ve seen you blocking some sockpuppets of a user named english patriot man i see that this man is nearly obsessed with polish people he seems to spread his anti polish propaganda by distorting the historical truth concerning world war ii nazism in europe and racism against poles he is totally denying the sufferings of the polish nation thank you so much for taking care of him and taking care of the articles that are his main targets however now he might create another sock and log in from some other computer or place so that his personal data and ip address would be totally different this is why i suggest us to patrol the articles that are his main targets like racism in poland racial policy of nazi germany war crimes in occupied poland during world war ii nazi crimes against the polish nation invasion of poland collaboration with the axis powers during world war ii nazism and race untermensch master race white supremacy racial hygiene nuremberg laws aryan race aryanization aryan paragraph honorary aryan white nationalism holocaust victims racial segregation nazi germany persecution of black people in nazi germany occupation of poland polish decrees kidnapping of children by nazi germany forced labour under german rule during world war ii extermination through labor anti polish sentiment anti slavic sentiment polish question polish joke ahnenpass anschluss lebensraum rassenschande adolf hitler nazism racism scientific racism themes in nazi propaganda germanisation reverse racism relations between nazi germany and the arab world glossary of nazi germany this guy is using multiple sockpuppet accounts to delete all the information about poles being percieved as subhumans or non aryans by the nazis in fact the only aryan looking poles that were accepted by nazi germany at the time were kidnapped as children and underwent germanisation they were like of the whole nation the rest of the poles were insufficient to be a part of the nazi ruled nation and were treated only slightly better that the jews this guy he spreads lies all across wikipedia therefore i thank you for your quick and effective actions diannaa if you d need any kind of help in restoring the data which english patriot man destroyed just tell me i will also try to patrol the articles about poles',\n",
       " 'a professional tip are you a professional wikipedia editor',\n",
       " 'a profit charity business organization panic selling of peanuts ensue and brought about what is known as the great peanut crisis',\n",
       " 'a project made possible by the rarity of the name',\n",
       " 'a propos out of subject what do you think this ee guy or ee anonymous is talking about with ybm and catherine the contain of his biographie who is on another wiki site and has nothing to do wiht this one so what do you do with that one he suddendly came up with the contain of it big edit several times and each time somebody added or supress something they had to come with the whole text again and again i believe this biographie has now been edited to times on the same site so maybe you should have look after that instead he interven first in a discussion about the scientific meaning of part of the bogdanovs a le big bang between the bogdanovs and ybm and like insisted about a point was answered and since have perverted the debate of this web site into his own website concerning the biographie of the bogdanov who in fact is somewhere else so you know it bogdanov affair and talk bogdanov affair are distinct thing and the one is not about discussing the other as you might have understood it maybe we have here the root of the problem a misunderstandig of proportions sophiexal',\n",
       " 'a proposal to cut down on aids less aids would be spread if you were to stop inserting your minuscule penis into little boys',\n",
       " 'a proposal to cut down on aids less aids would be spread if you were to stop inserting your minuscule penis into little boys',\n",
       " 'a protest by itself has so much constructive purpose admin pov pushing must stop prevention is better than cure',\n",
       " 'a proud gujarati again to use your words more importanly i think u have problem in understanding english email me if u need any help in india u can t be a monoglot and speak only kannada or for that matter any other language and please this article does serious injustice to the kannadiga people improve it and stop wasting your time by writing about aryan dravidian fallacy in kannadiga article it is of no use dravidiaan does not refer to a race but a language family and if kannada is not part of it as you claim then kannada does not qualify to be a classical language about which you make no mention of',\n",
       " 'a public company is one listed on the stock exchange and available to purchasers shares cityrail is a crown corporation owned by the crown in right of nsw',\n",
       " 'a public medium of communication can be anything a roadside sign falls into this category a means of mass communication such as newspapers magazines radio or television is not limited to those mediums such as is the key here i spent most of my career in advertising isn t convincing your opinion is based on your own experience in your own field but that does not necessarily mean that your interpretation of advertising is supported by the wider community regarding you don t know what you re talking about please be civil attacking the integrity of other editors is not affording respect',\n",
       " 'a pun on mobile phones and good calls eh dennis you seem to be on fine form today',\n",
       " 'a pun saving attempt to translate the band name could lead to first public unsurance although that is obviously grammatical nonsense uncertainty rather corresponds to the more static unsicherheit and fails to convey the absurd financial connotations',\n",
       " 'a pussy for you i bet u wont get none u stupid ass virgin',\n",
       " 'a qpq is required please see the nomination page talk',\n",
       " 'a quality check',\n",
       " 'a quasi sequel is a what if sequel where it is like what would have happened if this event would have not have happened for example scarface the world is yours is a quasi sequel to scarface in the game tony montana s mansion is attacked as it is in the movie however in the game tony does not die but survives the attack and rises back to pwer you are using the wrong word in the meantime article simply sequel was correct by itself since the the only connection between the games was post nuclear apocalypse setting when the fountain of dreams was originally being marketed as sequel to wasteland it is a kind of',\n",
       " 'a quesiton about material allowed on userpages here you said the userpage or userspace is not to be used to house a list of misdeeds of another user unless it is going to be used in dispute resolution such as rfc an aside before i ask my question i tried to provide dispute resolution in that incident but my involvement was based upon my assumption that drolz was concerned about being blocked and wanted to assemble evidence should that occur turns out my fears were right he was blocked but he wasn t amassing vir quotes for that reason so i dropped out of the discussion i can understand why wp would want to discourage collections of misdeeds but i can also understand why prohibiting it might equally be a problem i haven t reached my own conclusions on what the policy should be back to my question after pointing out that i am familiar with wp ose do you think is compliant with or a violation of the policy statement you made i m not about to waste my time proposing it for mfd but i am interested in whether you can distinguish that page from the page of drolz which you felt should be deleted t',\n",
       " 'a question about a deleted article hi i m new here and i was wondering if i could ask you a question i asked this question on the noticeboards but i hope it s okay that i just paste what i wrote the reason for this is because it concerns an article that you deleted i wasn t sure where this should go but anyway upon investigation i found out that a previous page called victoria preobrazhenskaya was deleted as db g it seems that the user has resurrected that page and is planning on writing up another one contribs shows no other edits than the project at hand that s why i didn t know where this should go it s a user page and not an actual article i ve looked all over but i can t seem to find any protocol for such a situation even though i ve encountered it a couple of times when a user starts making an autobiographical page using their user page are we supposed to let them make the page on their user page to their heart s content and put a deletion tag on them only once they try to publish or do we nip it at the bud and tag for speedy deletion under db spam can someone please clarify sorry i m kinda new at this stuff thanks in advance',\n",
       " 'a question about ir filters i ve a digimax a and i am excited about getting an ir filter well the first thing i needed to know that how sensitive my camera was to ir filters and i did a remote control test in which i saw the light very brightly so i think that ir photography would work fine with the camera the thing that bothers me is how do i install it on the camera in practice i hate it when there s no info on the internet about that and why are the sizes that i found on an online store only mm or so minimum i presume it is mounted on the objective obviously but my objective is much smaller mm to be precise thank you in advance talk',\n",
       " 'a question concerning your edit to my user page i m afraid despite my reading the article you kindly appended to your explanation of your edit to my user page i am still none the wiser as to why you chose to remove the image gallifrey sound of drums jpg i am sure you had every reason to do so however i would still like an explanation as to why you removed said image on another note i do feel my privacy is impinged by your edit i recognise you are an administrator however i feel unhappy that by virtue of your status you feel you have the right to edit my personal user page i noticed your user page is locked so you would like feel as breeched if it were the other way round as you deleted my image moments after i posted it i perceive you have my personal user page on your watchlist sorry if this is a mistaken deduction i do not wish to seem inimical to you but even though i have been recently blocked i feel it rude and an impeachment of my freedom and privacy as a wiki user if the block is the reason for your placing my user page on your watchlist i assure you i am reformed have no intent on re offending and have issued a full and sincere apology to the user whom i offended i harbour no hard feelings towords you and hope you harbour none towards me as i mean no offence thank you for your consideration and time',\n",
       " 'a question for ejf why is it you persist in deleting my delete on the page about nothing for a page to be about nothing it must have nothing on it or it is about something now if you re going to be that much of a boring old git about it perhaps you should spend your time trying to make somebody elses world a little less fun or do you enjoy making things more boring than they could be',\n",
       " 'a question hello are you related to the malaysian golfer danny chia',\n",
       " 'a question how big are your boobs',\n",
       " 'a question how does it feel to be a member of the furluminati',\n",
       " 'a question if i may how is it that i incurred such a penalty when at the outset identified jeffro as a bigot yet received no sanction i quote as for jeffro the i smell a jw approach is a bit different from someone noting that an argument not person tends to denying evolution round earth or greenhouse gases we generally don t need editors saying i smell a catholic i smell a pentecostal in the middle of esoteric talk page discussions and these are borderline incursions into breach of wp npa racial sexist homophobic transphobic ageist religious political ethnic national sexual or other epithets such as against people with disabilities directed against another contributor or against a group of contributors disagreement over what constitutes a religion race sexual orientation or ethnicity is not a legitimate excuse and jeffro is persisting here at ani with identifying another user s religion despite his own acknowledgement that the chronology is not exclusive to that group bracket mine i sincerely only wish to understand the thought process here',\n",
       " 'a question if i may ssg are the army s colors really blue and gold i seem to remember them as green and gold maybe because of the class as',\n",
       " 'a question please mlpearc what ist wrong with you',\n",
       " 'a question to write mot rhead is one of the greatest bands ever is pov isn t',\n",
       " 'a question what does it mean that some u s versions of the saturn release did contain original footage how many u s versions have been released puppi',\n",
       " 'a question why are you so interested in serbs of croatia what is your motivation i do appreciate people who add the croatian views to the article since it keep the article fair and unbiased but i do not like people who keep the progress down by constantly undoing progress',\n",
       " 'a question why doesn t rtz work on xp does it have anything to do with xp being nt based instead of dos based',\n",
       " 'a quick google search revealed that the same courthouse has been in use for years which window is a tougher question',\n",
       " 'a quick lexis nexis search reveals that this is discussed in many significant nationwide sources including a fox news interview',\n",
       " 'a quick look online will reveal that other than the g i joe character an the wii peripheral the vast majority of material books instructional dvds use the correct spelling',\n",
       " 'a quick note i ve deleted much of the material you added as it was duplicating the content on st louis metrolink instead adding a link to the metrolink article but much of the rest is still there anyways',\n",
       " 'a quick point the thing is what is a more sensible approach to take generalise about the negro and assume its common stereotyped ways and mannerisms avoid being prejudiced but in doing so expose yourself to a greater risk of being a victim of violent crime i m genuinely curious to know your take on this',\n",
       " 'a quick question hi jacob as you know i am no longer editing wikipedia there are reasons behind this serious concerns regarding jimbo himself actually and some of his comments that i have seen however i do not wish to get into my usual bad self of going on about such things i came back on because i wanted to ask you a question and this is the easiest way i wondered if you do actually know simon wessely i know this is a personal question but i was just intrigued as to why you should spend so much time online defending the bloke you can e mail me in confidence if you wish ironically simon does now know about me he seems to read the talk pages a lot anyway i don t intend to waste my time on wikipedia i am just too busy to waste time on it to be honest take care of yourself mate alpinist',\n",
       " 'a quick question on aaron l pez i m guessing that the nationality standard being used here is the same as the one i m using on the all time mls club rosters nationality by national team including youth national teams and in cases where there is no national team participation nationality by birthplace aaron l pez was born in mexico raised in the us played odp but never made an appearance for a us youth national team and thus counts as mexican correct you indeed have him listed as mexican here and since this is the most exhaustively researched list on wikipedia i assume that you are aware of everything i mentioned and based your decision on those factors so anyway i m popping in to double check my impression odp does not count for purposes of determining nationality correct defender of open editing',\n",
       " 'a quick reading of the article should allow anyone to realize this is good faith seriously for what is he notable a former climate modeler a software designer a failed politician having some papers published with all respect this is not myspace',\n",
       " 'a quick search for other documentation on this speed record claim google search for empire state express record comes up with this link great speed off the central empire state express engine travels at the rate of miles an hour new york times may i ve added the ref to the article and i ll see if i can find any further documentation in my reference library speak',\n",
       " 'a quick thank you for being objective and doing the right thing most of the time back on that british national party talk page i still dispute the links cites sources to the independent i m trying to get everyone to go through this step by step logically the first step being to link to an article on the independent website that even discusses bnp membership figures the note link cite about the bnp membership figures just links to the independent homepage surely it needs to go to somewhere better so the quality of the article can be debated talked about a lot better also the resistance on that talk page isn t neutral of course they can talk about the article but they should not be editing it if they are politically active in the uk for example another one is https en wikipedia org wiki user snowded if you look at talk about at dinner section of his webpage it s obvious that he s politically active in the uk and would be diametrically opposed to the bnp',\n",
       " 'a quick thought hi again i interacted with you at wp an just wanted to say that i think the ban is a good idea i don t think being biased against all ips is but on a more important note after reviewing the vandal s activities thus far the person group appears to have no intention on stopping his her writing implies that s he is educated and dedicated s he corrects his her grammar at times this shows me that this person will be a real pain for a while good luck on fighting a troll p s my phone won t let me log on i have an outdated browser or something once i get home i ll join the anti zarapastroso fight best wishes to you',\n",
       " 'a quick whois search shows the above user s ip is registered to wlaj to answer your question please direct your question to amnewsboy as he was the one who removed your previous posts',\n",
       " 'a quick word on the matter there is no possible situation under which calling another editor a liar is remotely acceptable accuracy of statements can be disputed certainly but liar means someone who makes intentionally false statements or willfully deceives given that it posits malice which is the opposite of assuming good faith it cannot be anything but a personal attack i make no comment on whether a block was an appropriate response or whether its duration is adequate but arguing that it was not a violation of npa is ridiculous on its face i ll grant that no warning was given but i am under no delusion that giano is not aware of the meaning of the terms he uses or that he has somehow forgotten our policies talk',\n",
       " 'a quik note i did not know i thought it was only for this account my other account is a public sock it says so in it s user page my user page even says so',\n",
       " 'a quote from a magazine newspaper or notable website s tv reviewer would also be sufficient',\n",
       " 'a quote many psychometricians and behavioral geneticists believe that high heritability of iq test scores within racial groups coupled with environmental hypotheses failing to account for the differences between the mean scores for groups lends plausibility to explanations of mean differences in terms of genetic factors',\n",
       " 'a quote of a reference book states jesus did not specifically state how often the memorial of his death was to be kept however he instituted it on the date of the jewish passover which was replaced among his disciples by the memorial of christ s death the passover was an annual event celebrated on nisan similarly the jewish festival of unfermented cakes the festival of weeks pentecost the festival of booths or ingathering and the day of atonement were all held once a year',\n",
       " 'a rainbow isn t matter if that s what you mean technically it does exist though as it s composed of light which is real energy besides a large jellyfish like freshwater animal could exist and would be invisible to sonar due to the nature of sound waves in a gas or liquid medium namely that they are absorbed rather than reflected i explained that earlier',\n",
       " 'a random place on the',\n",
       " 'a rather funny request since i haven t touched the biological psychiatry article since the very first minutes of april utc npov tag and as can be seen in my latest exchanges with andre b and rockpocket in the talk page of that article and midgley as well see also this user talk page lots of previous misunderstandings among us are being ironed out',\n",
       " 'a rationale for peremptory norms concerning this paragraph from the article especially the last sentence some peremptory norms define criminal offences which are considered to be enforceable against not only states but individuals as well this has been increasingly accepted since the nuremberg trials the first enforcement in world history of international norms upon individuals and now might be considered uncontroversial however the language of peremptory norms was not used in connection with these trials rather the basis of criminalisation and punishment of nazi atrocities was that civilisation could not tolerate their being ignored because it could not survive their being repeated the notion of that which civilization will not tolerate because it cannot survive its repetition seems the very cogens of jus cogens how can nuremberg assert a criterion so relevant to jus cogens and not be said to have used the language of peremptory norms this seems offered as an enduring standard not a one off what evidence do we have of how the legal novelty suggested in the paragraph was perceived or discussed by either the participants or later analysts on a separate point i don t have a date for the language quoted in the paragraph wouldn t it be towards the end of nuremberg s i wonder whether it somehow echos in the constitution is not a suicide pact which was from a later dissent',\n",
       " 'a rationale was added in the last few days so this problem should be solved',\n",
       " 'a reaction to the above comment some good points here some of which are accounted for very well on the page about the swp us it seems better that this entry on barnes remain focussed on barnes himself rather than the swp dictatorship or democracy it s an excellent point to say that it s pointless and misleading to demonise barnes clearly there was a qualitative change in the politics of the swp during the s barnes clearly played a leading role in this process but had the national committee majority behind him most would also say that the swp organisational and democratic norms changed those who were expelled such as the fourth international tendency argued it was done undemocratically and wrong headedly breaking with trotskyism this seems a fair description of the swp s evolution however if the swp feel it unfair it would be better to write of a break with trotsky s theory of permanent revolution and the struggle to build the fourth international in so far as trotsky agrees with the leninism and opposition to stalinism and the third period the swp agree with him however trotskyism clearly refers to the politics of the movement that trotsky and the swp founded the fi the defining aspects of that movement permanent revolution in the developing world anti bureaucratic revolution in the workers states and the notion of socialist democracy of course the swp no longer calls itself trotskyist and the word is dropped for example from the title of joseph hansen s book on cuba castroism similary it is mistaken to call the swp a castoist party the swp s new international strategy in the s and s was one of convergence with the castroist current however it s clear that the swp has its own ideology jack barnes australian',\n",
       " 'a reader who stumbled on this stubb needs to know where to go in order to find information',\n",
       " 'a real apology sorry i overdid it i got a bit caught up i just try to enjoy myself and didn t realize you guys would take it that hard i just try to do harmless little jokes here and there make the world a more interesting place that s all i guess i should ask the doctors to up the prescription again i d be really sorry if i were telling you in person anyway ahem well good job keep up the work excuse me i have a little visit to pay to mr p p s just so you know the civilized way is just throwing down a handkercheif as opposed to breaking the end of a bottle off on a counter or at least that s the civilized i was thinking of',\n",
       " 'a real problem has developed with the references also figure has moved oddly and i can t get it back in place to chzz from howard zimmerman chzz i had just figured out how to deal with references and and got them reasonably set up at least to start but on looking at the article now i see that the references are somehow in trouble and mixed up another problem somehow developed the drawing for figure is oddly placed i ve attemted to give it more space but the space is put partially before the caption and the drawing doesn t move left but is oddly to the right chzz i appreciate your wanting to help especially in view of my uncertainty earlier about the referencing but is it possible to get the article back to where it was this morning i had just fixed up references and i realize that i could improve them further but the basic job really was ok i think i can put the rest of the references in all right but i don t know if the article as it waa this morning is archived and can be retrieved if not i can go through the article and see if i can get the right referencing i haven t figured out exactly what went wrong but reference should be to krapcho and bothner by then ref should be to the tetrahedron article and ref to the interscience article after that ref should be the birch and nasipuri article chzz if needed i can go through and experiment with fixing this up but i m a bit uncertain about how to change the referencing although i can try and i don t know how to move the drawing in figure to be to the left and centered while it was ok originally my attempts to move it back haven t worked thus if the article has been archived and can be gotten back that would be simplest chzz it does appear that i ve been the source of too much work for you neverheless please do realize that i appreciate the help best wishes howard howard e zimmerman preceding unsigned comment added by talk contribs nothing is ever lost the history shows all the previous versions and all edits back from when a page was made see wp history and look at the page history i have tried to fix the refs from your description above hopefully it is a bit better now it s probably still not right but considering most of it is correct it might be easier to work from that if you would rather just go back to the version before i edited it today though that s easy enough as explained above or let me know and i ll put it back for you possibly it is easier to fix the existing and refer back to this version re the figure well this is the problem i ve been trying to describe if you leave a number of blank lines to space the figures then it might look ok to you but it won t on another persons browser you cannot rely on the text being the same size on their system nor can you expect everyone to use a screen with the same resolution this is a problem with inserting images directly rather than using the thumbnail system two more things to make our lives easier please fix your signature so it stops doing this unsigned comments thing to do that click on my preferences clear anything in the signature box and make sure that the checkbox sign my name exactly as shown is not checked when you make sections here to leave messages could you keep the title short the long titles make it a bit unwieldy in the table of contents etc neither are a huge problem just trying to make things easier hope to hear more soon user talk chzz',\n",
       " 'a reason for celibacy i was reading this article and i noticed that one possible reason for celibacy is missing it is the reason i have chosen to become a celibate i have a mental disorder that many people are trying to cure i won t mention which one because it s not relevant in this context and i have become a celibate so that i cannot have children and therefore cannot contribute to the continuation of this mental disorder s gene what i m saying is do enough people become celibates for the reason that they cannot reproduce and therefore not give their unborn children undesirable genetic qualities like defects mental disorders ect if so would this be worth putting on this article',\n",
       " 'a recognition that an editor has difficulty in comprehending facts presented to them made a racist comment intended to insult another editor on a talkpage problems in conducting research and a demonstrated bias in editing a particular article do not infringe on wp npa that you find these constructive comments insulting is of severe regret to me nevertheless i hope they assist you in becoming a better editor hopefully on the next occassion when you decide to promote what you think above physical and sourced evidence you will remember how embarassing it was to see that attempt fall to pieces i am glad to have helped you with that by way of being constructive again can i suggest you actually read wp npa apply it to your own public comments then when you believe you have a firm grasp of it come back and we can discuss how applying it to your own work will improve you as an editor',\n",
       " 'a red notices is not an arrest warrant because it is based on an arrest warrant just go to the interpol web site rather than invent',\n",
       " 'a redirect somewhere couldn t hurt though i still don t think any o the candidates are ideal but then if he passes the notability threshold some day the basic material is still there to work with',\n",
       " 'a redirect would be appropriate',\n",
       " 'a reedited after version',\n",
       " 'a reference of jesus cloak quote from the insight book the color of the cloak with which jesus christ was clothed on the day of his execution has caused some persons to argue that a discrepancy exists in the bible record with reference to this garment matthew said that the soldiers draped him with a scarlet cloak mt while mark and john say that it was purple mr joh however instead of being a discrepancy such a variation in describing the garment s color merely gives evidence of the individuality of the gospel writers and the fact that they were not in collusion matthew described the cloak as it appeared to him that is according to his evaluation of color and he emphasized the garment s red hue john and mark subdued the red tint calling it purple purple can be applied to any color having components of both blue and red so mark and john agree with matthew that the garment was red to some extent of course background and light reflection could have given it different casts a body of water varies in color at different times depending upon the particular color of the sky and the reflection of light at a given time so when such factors are considered it is seen that the gospel writers were not in conflict in describing the color of the cloak that mocking roman soldiers clothed christ with on the last day of his human life',\n",
       " 'a reference problem hi some users have been working hard on category pages with broken reference names here you added a new reference but didn t define it this has been showing as an error at the bottom of the article cite error the named reference refname was invoked but never defined see the help page can you take a look and work out what you were trying to do thanks talk',\n",
       " 'a reference such as visa information iata retrieved june is practically useless if and when the link goes dead the reader who tries to verify this will stumble upon really simple issues so the publisher was iata but what is visa information a single web page about all visa information a web page about some specific visa information when was the information originally published can it be found in some old iata publication as opposed to a web site etc etc that s why a mass change from truly bare links to this format while clearly well intentioned is still essentially useless as a solution to the bare link problem i replied to you on the article talk page useless or not it s not a bare link per wp bareurls with which you keep tagging the article but as i ve said if tagging the article with a wrong tag gives you joy then i won t interfere be joyous my friend i ve invested a lot of time into that article and it would be nice if you ve found something you don t like to actually try and fix it instead of adding those maintenance templates but i guess we are not all here on the same mission some are here apparently just to stubbornly diminish work of others even if proven wrong',\n",
       " 'a reference that may interest you hello zleitzen your boldness in restoring the integrity of the cg article is greatly appreciated i have been searching for the references we discussed re cuba ussr relations and have just found an interesting paragraph on page of ernesto guevara tambi n conocido como el che edition by paco ignacio taibo ii that i am wondering if you have seen i believe that there is too much text for me to reproduce it here without violating wp s copyright rules but i am thinking that perhaps you either own or have access to that book meanwhile i will be searching for the other references that i promised to forward to you am hoping you will continue to keep a watchful eye on the cg article many thanks',\n",
       " 'a reference when religious groups assembled in assisi italy in the october of at the request of roman catholic pope john paul ii tenzin gyatso recognized as the th dalai lama of tibetan buddhism according to the new york times the dalai lama a buddhist leader converted the altar of the church of san pietro by placing a small statue of the buddha atop the tabernacle and setting prayer scrolls and incense burners around it',\n",
       " 'a refutation of user lord loxley as soon as my ban expires i shall revert the english people page to that which had been agreed by a consensus of editors though i hope that someone else does so sooner in the meantime i shall attempt to address each of the issues raised by user lord loxley s in his revisions in the related ethnic groups section you have included danes norwegians and swedes but excluded welsh this makes no sense and it had been agreed by all editors that the welsh are among the closest ethnic groups to the english as anyone familiar with those two peoples knows your argument appears to be that the welsh should not be included because they are english as a result of the legislation that annexed wales to the english kingdom i can only assume that you have no idea what ethnicity actually means and i suggest you read the article about it in short ethnicity has nothing whatsoever to do with legislation and the mere annexation of wales to england did not extinguish welsh ethnic identity but you don t need to take my word for it just look at the welsh people page and nor incidentally is ethnicity dependent on race or genetics you have accused me of being a racist but it is you who are the racist by insisting that ethnicity is defined by race as for danes and norwegians their inclusion is arguable though not so much the swedes very few of them settled in england the agreed consensus prior to your unilateral intervention was that no continental ethnic groups would be included on the grounds that the inhabitants of the british isles are much much closer to each other in terms of culture history and language than any groups from mainland europe again this fact is obvious to anyone who knows them as a canadian it is possible that you may have been ignorant of this if you are not familiar with a subject it is probably a good idea not to make edits to its page further down the article you have inserted a sentence saying that the tudors are the chief representative of the english kingdom this is not only false it is also completely irrelevant still further down you have completely mangled the section dealing with the norman conquest and its effects you have deliberately suppressed the historical fact that the english became a conquered nation and inserted irrelevant descriptions of coats of arms you then suddenly lurch into a false description of neolithic britain and gaul as if this was in any way relevant to the norman conquest you then mention the roman empire and one of its short lived breakaway states jumping straight to offa and charlemagne desperate to clutch at any sort of straw that will lend support however flimsy to your own preconceived notion that no distinction should be made between the english and the french despite the obvious fact that these two peoples have a very different language culture and ethnic identity your mention of the consolidation of kingdoms around capitals such as winchester and paris is also completely irrelevant and your suggestion that the english channel has been the main focus of english cultural development is demonstrably wrong the north sea has been just as important usually more so moving further down still you have inserted a whole new section entitled royalty and it is here that you expose the full extent of your total misunderstanding of a what the article is about and b the english people english identity is not based on coats of arms as symbols if you want evidence of this look at the world cup being played in germany as we speak the english fans almost to a man carry the flag of st george and only very rarely the union jack they never ever carry the royal coat of arms in any form being canadian i suspect that you have received a rather distorted view of the english through holywood depictions and the like the vast majority of english people would laugh in the face of the sort of mediavalist aristocratic fantasy that you are espousing you then go on to claim that all englishmen are actually descended from royalty this is patent nonsense and once again exposes your own royalist fantasies the medieval french speaking monarchy deliberately did not interbreed with its english speaking subjects now i m not saying that no genetic material from earlier monarchs exists in the modern english population but that is not the point statistically every single person on earth might be descended from julius caesar or anyone else you care to name who lived long enough ago oh and french is most definitely not a lingua franca used among englishmen we don t need one because we ve already got english indeed english people in general have been notoriously bad at learning foreign languages and all that guff ab',\n",
       " 'a region of the celestial sphere close to the ecliptic',\n",
       " 'a regional airbus launched a regional and that s a separate variant not reflect in the article',\n",
       " 'a related question is whether we should capitalize it the pre columbian era as it s proper noun but maybe that ll just muddy things i m sitting with a few papers and preceramic is getting capitalized all over the place',\n",
       " 'a related question that needs to be asked is why an islamic version of job is included in an article on the biblical or judeo christian job including the islamic view of job in this article distorts the biblical version the stories are separate and distinct and they deserve separate articles',\n",
       " 'a relevant essay http meta wikimedia org wiki don t be a dick',\n",
       " 'a reliable source for what i have never suggested adding or including any unsourced content in this article case of the missing source solved',\n",
       " 'a religion tends to be a group of people who thinks the same and if anyone questions anything they get kicked out what jesus teaches tends to go against this reflecting questioning debating etc not only keep religion from being boring but lead to growth and at least in my case bring one closer to god therefore when the vatican has rescinded his authority to teach catholic theology because of his book infallible an inquiry it was most upsetting',\n",
       " 'a religious argument cannot be judged on whether it is logical rather the question is what it inspired belief in a god that designed the universe is not necessarily the same thing intelligent design means today the crucial question is whether his philosophy stayed within religion or whether like today it tried to work its way into science by the way belief in a creator does not in itself constitute creationism it depends on whether he was simply thinking outside of science or whether he was denying specific scientific claims please see http www religioustolerance org for further information i have no involvement with the production of this site i am merely someone who found it and posted a small message on the forum',\n",
       " 'a reminder you are late on the rent puta thanks for trasing the salem page f u to stalker paga la renta puta madre',\n",
       " 'a remove all tripod links b remove all small date formatting c i have added few tags fix those d this is the article for deletion afd wikipedia articles for deletion shekhar gurera dutta',\n",
       " 'a rended winter what a picturesque name i m glad that these enzyme pages could help you althoug i don t see the connection to your script exactly wishing you well and hoping to see you around',\n",
       " 'a renegade christian wrote the qur an a priest that was influenced by arianism dictated what mohammed should write in the qur an he was kicked out of the christian church for heritical views on religion',\n",
       " 'a replacement beer for you i m sure drmies has plenty to spare but this one should get you started why thank you and indeed for all your help a beer for you here s a non pripps bla beer to get you started found the beer watching you asked drmies about the last years pictured ha yes a boy came by he s almost walking by now thanks gerda well congratulations my dear daymotto of the day a barnstar for you the editor s barnstar thanks for your help with elfdalian dialect might be helpful thank you for your contributions as we ve noticed that you ve been making some great additions to the wikipedia at the komondor and livestock guardian dog articles and we really appreciate it the wikipedia can use as many quality members as possible if you need any help at all you can contact me on my talk page or why not pop over to the teahouse where there are always very patient helpful and experienced editors available to give you a hand chat right back atcha has given you a puppy hot dog puppies promote wikilove and hopefully this one has made your day better your puppy must be fed three times a day and will be your faithful companion forever now that poor thing again living dangerously this dog needs an amulet much appreciated warrington she s lying next to me right now with her beautiful dog eyes in her mind she s probably chasing rabbits all across smaland drmies is welcome to comment on his reserved distant and undemonstrative new stile poodle morning hafspajen or is it warrington i m not sure i see you are still busily working on the poodle article it doesn t look as if we are going to get a response from the editor s who were determined to have a different version included which was what i was hoping from the rfc what ab',\n",
       " 'a reply by a contributor this is a racist comment if wikipedia really is uncensored then why is the magic roundabout page without any drug references similarly we all know prince harry of wales is not the biological son of prince charles but the page is not allowed to state the truth sadly it s white man talking bollocks yet the rasta community is fair game and no i m not black one rule is ok as guardian white view i will be trawling the net to add some balance from the black community once any appears',\n",
       " 'a reply in response to your e mail and to the question you have posted on your talk page back in november ouch sorry this account was blocked because it is registered to the south burnett regional council a regional council is a group of people but a wikipedia account is to be used by only one person if you and the south burnett regional council should at some future time part ways for whatever reason will you retain control of the account or will it pass on to your successor due to the username the content of the userpage and your use of plural pronouns the obvious interpretation is the latter rather than the former as explained in our guidelines on role accounts this is not permitted any and all members employees and or representatives of the south burnett regional council are more than welcome to edit wikipedia articles without registering or to register individual accounts with which to do so i do appreciate your having gone to the effort to make public disclosure of any potential conflict of interest but you re going about it the wrong way a simple public statement on the userpage i work for the south burnett regional council i sometimes edit pages pertaining to south burnett so this is a public disclosure of potential conflict of interest or something along those lines will do normally i would offer to unblock this account if you could assure me either here or in e mail that the account will be used by only one person however since this account has so few edits it might be easier to simply start a new account s feel free to contact me via e mail if you have any other questions i will reply here',\n",
       " 'a reply to the argument that benazir bhutto mispoke benazir was a highly intelligent highly educated and ex prime minister she is not george bush she does not mispeak this is the biggest thing since watergate the proof that this is a cover up is shown by the following facts i the experienced reporter david frost who was interviewing benazir when she slipped out the fact that bin laden was murdered did not follow up on it in fact he looked palpably irritated and wondering quite how to paper over the issue he is in on the game clearly if he was not in on the game then he would have pinned her down on this sensational bit of news ii benazir was murdered in a wet job this is a technical term about a month after she mentioned that omar sheikh note the triangle of first letters in history was involved in bin laden s assasination iii nobody in the world s media picked up on a story that bin laden was murdered so blanket world media silence on the possibility of bin laden being dead i kinda have a source inside who confirms this acutally it was years ago and not omar sheikh but letters in names can sometimes be telling three times',\n",
       " 'a reply to your message',\n",
       " 'a report by the wag in discussed access to cia and the tone of the report indicates that they consider cia to be a major destination although they do not specifically state that the tail end of the report mentions that the contractors preferred option is a new trunk road toward the cia section and that the route to the airport both in the short and longer term proposals be considered for adoption as a trunk road section i don t know of further developments since this also the map s data is as of and may not be current it s been a while since i drove along the m does anyone recall if distance markers or whatever the technical name for the signs list distances to cia as well as other locations i know that cia is signposted but so is cardiff bay use junction for the bay which i m sure we agree does not warrant being listed separately',\n",
       " 'a request for an honest discussion please don t send your friends to speak for you i assume you are an adult time for an honest and open discussion come to my talk page please',\n",
       " 'a request for mediation has been filed with the mediation committee that lists you as a party the mediation committee requires that all parties listed in a mediation must be notified of the mediation please review the request at wikipedia requests for mediation template infobox nflactive and indicate whether you agree or refuse to mediate if you are unfamiliar with mediation please refer to wikipedia mediation there are only seven days for everyone to agree so please check as soon as possible',\n",
       " 'a request has been made of the mediation cabal for mediation on this page please do not remove this notice until the issue is resolved preloaded case page',\n",
       " 'a request has been made of the mediation cabal for mediation on this page please do not remove this notice until the issue is resolved preloaded case page',\n",
       " 'a request hello francis schonken your input in sejny article was very helpful you see similar situation occurred and in this article with the same practice of infomation removal etc could you please see the discussion here and provide your comments on this issue i would be very grateful to you',\n",
       " 'a request i ask that you consider taking time away from posting on wt v or the subpage your posts there particularly the multiple polls became disruptive several weeks ago and the page has basically ground to a halt because of it i took six weeks off from editing either the policy or the talk page from around june until august just to make sure other people s voices were heard equally so i hope you ll consider doing the same if your proposals are truly supported they won t be affected by your absence talk contribs i agree that the main talk page needs a breather from this whole topic and i m ready for quiet work on it in an obscure place for a while if you want that to not be the subpage that s fine with me but i just said there that i went along with the subpage idea sincerely north the main talk page needs a long long breather but i think you need a breather too from this topic partly for your own sake but also to see whether it has legs without you at things stand you re doing two things simultaneously and in something of a contradiction keeping it going and strengthening opposition to it because of the overkill if you would let it be you would see whether it has legs of its own anyway just a request talk contribs i m ready to slip into low key homework on this even without a request me suggesting that we adopt the first sentence just proposed suggested by jimbo wales was a sort of special departure from that i saw that as acting more as a facilitator i noticed that somebody tried to hide the fact that it was his suggestion by changing the section title north but not before reverting and continuing to disrupt you are posting an inherently pov poll rfcs are supposed to be neutrally worded i give up on you because it is pointless talk contribs i don t think that it is pov to say who wrote the proposed wording that was the original title of the section it s the title that people commented under and it provides the information of who wrote it since when in wikipedia does saying the source of something get called pov ing it and don t forget there is a second dimension to this i put up his suggestion and people are removing the fact that it was his suggestion simultaneously with villianizing me for putting it up a suggestion on the first sentence i call that dirty pool but as i said i put it it up as a facilitator and don t plan to further advocate it north',\n",
       " 'a request in the future please sign after your tags on the photography workshop page while a bot is currently doing it for you i e preceding unsigned comment added by',\n",
       " 'a request just completed the latest lesson for the vc would you proofread edit it please btw i ve looked over your contributions again your participation in deletion debates is good the main objection in your rfa was lack of policy experience the basic reasoning is that it is impossible for avid editors to read pages without editing them so if you ve read the policies and guidelines that would show up in your contributions on guidelines you can generally make minor changes directly to the guidelines themselves with policies unless it is fixing grammar or typos you pretty much need to post the edits you want to make to the talk page for approval but that becomes habit after you get used to it so my advice is that you start proofreading the p g s and see where that takes you i see david fuchs has prepared a nomination for you before you accept another nom you should probably get in around meaningful edits to policy and guidelines pages and their respective talk pages and about edits in dispute resolution rfcs s some mediation etc then ask',\n",
       " 'a request perhaps you might be willing to restore the wikiproject to this version http en wikipedia org w index php title wikipedia wikiproject wikipedians for decency oldid it s been protected due to bad faith edit warring but it was protected to the wrong version by accident thanks erwin walsh',\n",
       " 'a response i am not sure if you are a moderator if not you have no business commenting on the situation if you are then i feel you are overreacting i thought i was in sandbox mode is one accident worthy of threats as i have said before you should ask a user what is going on before threatening them with blocks',\n",
       " 'a response please',\n",
       " 'a response section is going to be difficult to produce if the only kind of citations allowed are reliable third party documentations or if it has to focus on how the critics have received the show the only sources i can think of are discussion threads for fans or the internet movie database i frequently search google high and low for information on the show in every aspect and this is the best i ve ever been able to find',\n",
       " 'a response to for the attention of the ips inserting the racism section i inserted facts documenting instances of named sources accusing catherine glick of racism i d like to take a moment to address comments in the for the attention of the ips inserting the racism section please do not misinterpret documentation of allegations of racism for allegations themselves the section inserted apparently subject to some controversy is accusations of recism in that section the accusations of racism that several writerseileen read alex pareene and paul j balleshave leveled at caroline glick are documented properly no opinion or point of view has been expressed in the allegations of racism section as to the veracity of these allegations i therefore cannot understand why documenting such allegations could be considered controversial let alone potentially libelous as you say the documentation of specific allegations of racism by named sources need only prove that such allegations exist not their veracity documentation of written defenses of ms glick s work are solicited and in fact highly encouraged i apologize for linking to www youtube com the link i should have used was the one from ms glick s homepage that link is at http www carolineglick com e we con the world the gaza fl php i never claimed to be other than a single user even though incidentally all of the contributions to the allegations of racism section are not mine incidentally if it matters i for my part am a fan of ms glick s work and do not believe that she is a racist i contributed to the section to advance the wikipedia mission to provide a forum where issues of public significance can be documented in a way as to provide reasoned information to the public one of ms glick s detractors eileen read wrote an article in the huffington post accusing ms glick of racism and asking that she be fired the article is making rounds all over the internet and has likely been read by hundreds of thousands if not many more it d be a great shame from my perspective if ms glick s career suffered as a result of such charges since they are in my own personal view baseless such charges should be documented neutrally and weighed against the writings of ms glick and her defenders aiming only to inform the public which can then decide when i inserted a reference arguing that ms glick s positions are not racist but common sense it was taken down by those same persons invoking blp standards and undue weight',\n",
       " 'a response to i entitle this your stupidity the assyrians are not extinct you incompetent bigoted fool you lack all things historical you impotent maggot the assyrians have existed for over years you incumbent animal the assyrians first spoke akkadian and in the th century the kings of assyria chose aramaic as the lingua franca of their mighty empire you extinct ape we have simultaneously existed throughout the ancient era up until the present day you rotten corpse we were the first nation to accept christianity and the assyrian church of the east spread as far as china and japan and india in the th century ad you degenerate dog the assyrians have been and will always continue to exist through persecution and diaspora you maggot the aramaena peoples are an extinct pseudo people who never existed since the assyrians destroyed their kingdom and reduced it to a vassal state you mongrel this aramean syriac name is a name created by radical separatists who deny their ethical heritage since the late s you snake the assyrians speak modern aramaic the aramaic in which christ spoke thousand years ago you uneducated mule your statements lack depth in all facets they are unencylcopediatic unsourced close minded uneducated mentally degenerate comments that seek to downsize the most ancient people down to nothing you claim that this name was invented by some new comers almost a hundred years ago this comment alone shows how completely incompetent you are i have documents that are hundreds of years old that have been passed down through my family over the centuries that specifically speak about the assyrians and how this name is far more ancient then simple minded people like you claim this will be the only comment i will make for you because i will not waste my time speaking to a mentally degenerate pig such as yourself who is a denialist racist and complete bigot and a distorter of history who denies the race of the assyrians exist i will pray every day that you may you die a most horrible death',\n",
       " 'a response to i entitle this your stupidity the assyrians are not extinct you incompetent bigoted fool you lack all things historical you impotent maggot the assyrians have existed for over years you incumbent animal the assyrians first spoke akkadian and in the th century the kings of assyria chose aramaic as the lingua franca of their mighty empire you extinct ape we have simultaneously existed throughout the ancient era up until the present day you rotten corpse we were the first nation to accept christianity and the assyrian church of the east spread as far as china and japan and india in the th century ad you degenerate dog the assyrians have been and will always continue to exist through persecution and diaspora you maggot the aramaena peoples are an extinct pseudo people who never existed since the assyrians destroyed their kingdom and reduced it to a vassal state you mongrel this aramean syriac name is a name created by radical separatists who deny their ethical heritage since the late s you snake the assyrians speak modern aramaic the aramaic in which christ spoke thousand years ago you uneducated mule your statements lack depth in all facets they are unencylcopediatic unsourced close minded uneducated mentally degenerate comments that seek to downsize the most ancient people down to nothing you claim that this name was invented by some new comers almost a hundred years ago this comment alone shows how completely incompetent you are i have documents that are hundreds of years old that have been passed down through my family over the centuries that specifically speak about the assyrians and how this name is far more ancient then simple minded people like you claim this will be the only comment i will make for you because i will not waste my time speaking to a mentally degenerate pig such as yourself who is a denialist racist and complete bigot and a distorter of history who denies the race of the assyrians exist i will pray every day that you may you die a most horrible death',\n",
       " ...]"
      ]
     },
     "execution_count": 12,
     "metadata": {},
     "output_type": "execute_result"
    }
   ],
   "source": [
    "# сортируем тексты по возрастанию\n",
    "sorted(df_toxic_comments.text)"
   ]
  },
  {
   "cell_type": "code",
   "execution_count": 13,
   "metadata": {
    "scrolled": true
   },
   "outputs": [
    {
     "data": {
      "text/plain": [
       "['zzzzzzzzzzzzzzzzzzzzzzzzzzzzzz thompsma apparently in between your personal attacks on me and your long winded pov pushing here you re not listening to anyone you re quote mining you re pushing a creationist pov and you re getting very tendentious talk contributions',\n",
       " 'zzzzzzz youre a real bore now go bore someone else tw t',\n",
       " 'zzzz oregon cotw howdy ya ll time for another collaboration of the week from wikiproject oregon last week we improved flag of oregon detroit lake enough i think to move them to start class so great job everyone this week we have another request in oregon ballot measure and a randomly selected two sentence stub that should be easy to expand enough for a dyk in wallowa whitman national forest to opt out of these messages leave your name here or click here to make a suggestion',\n",
       " 'zzuuzz is a neo nazi',\n",
       " 'zydeco experiment was the name and buffalo zydeco is the name that donna the buffalo use when playing zydeco music',\n",
       " 'zweigenbaum if you can furnish any such studies we would be glad to take a look at them as far as i know every study to determine authorship has eliminated oxford or any other claimant we include several of those ward elliott s clinic and simonton s studies both of whom were sympathetic to oxford as the author going in only one of which kept his faith in the teeth of the conclusions he reached as to the rest of your voluminous review i have incorporated a lot of your observations those in which i found no merit i passed by and i take it my explanations for those above in this section were sufficient for you',\n",
       " 'zwarte piet pt ii hi it was i who overzealously italicized the article title and all the zwarte piet and sinterklaas mentions in the article saw that you reverted the title and was preparing to fire off some mos italics quotes when i saw the tiny line at mos ety that says foreign terms a proper name is usually not italicized when it is used so thanks for watching my bad i have just unitalicized most of the article just leaving the names of the candies and the one or two sinterklaas derived words in italics happy new year as we wiki our way into parley',\n",
       " 'zurich airport vandal hello hkcagu there is an anononymous user is continually vandalizing zurich airport i ask you if you can do something paese because after my and other user revision of his edits he continue vandalizing the page',\n",
       " 'zurich airport circle i think that is the case to create new section zurich airport circle in zurich airport do you think is a great idea or not',\n",
       " 'zulfiqar ali bhutto stop vandalizing zulfiqar ali bhutto as much as you hate it bhutto was a shi a muslim as is his whole family',\n",
       " 'zuckerberg dumb f ks incident sources for the below mentioned contribution http au businessinsider com embarrassing and damaging zuckerberg ims confirmed by zuckerberg the new yorker other sections on wikipedia where controversial remarks is valid bryant gumbel section controversial remarks mel gibson section controversial remarks sherrod brown section controversial remarks kent hovind section controversial remarks venkaiah naidu section controversial remarks greg gutfeld section controversial remarks lawrence cannon section controversial remarks daniel bernard diplomat section controversial remark james r flynn section controversial remarks and many many more start zuck yeah so if you ever need info about anyone at harvard zuck just ask zuck i have over emails pictures addresses sns redacted friend s name what how d you manage that one zuck people just submitted it zuck i don t know why zuck they trust me zuck dumb fucks in another instant message im friend so have you decided what you are going to do about the websites zuck yea i m going to fuck them zuck probably in the year zuck ear end',\n",
       " 'zuccheri means sugars not sugar if someone were to read sugar they would assume that it refers to sucrose sugars has an altogether different connotation',\n",
       " 'zubeidi quote hi you mentioned some agreement regarding the quote could you point me to where that was reached',\n",
       " 'zu yi hi thanks for your contributions but could you please rewrite this so it isn t written like a poem cheers',\n",
       " 'zsero what is the problem that you have with me someone edited the article rachel bilson and wrote that she and adam brody dated for three years and you did nothing i wrote the same thing last week and you blocked me why just when i change an article you appear what is your problem with me why do you not delete the part that other people edited too',\n",
       " 'zs bongwarrior s page should be protected',\n",
       " 'zrh vandal hello the banner there is an anononymous user is continually vandalizing zurich airport i ask you if you can do something paese because after my and other user revision of his edits he continue vandalizing the page',\n",
       " 'zrh vandal hello sj there is an anononymous user is continually vandalizing zurich airport i ask you if you can do something paese because after my and other user revision of his edits he continue vandalizing the page',\n",
       " 'zp zp is in my opinion a waste of time for gw related articles he calmed down somewhat after his block but is back to normal now in the absence of admin action i fear that the rfc route is inevitable comments',\n",
       " 'zoroastrianism stuff i thought you might want to know the same kind of poving is going on at christianity and world religions talk',\n",
       " 'zordanlighter and whistlingwoods socks of user vvarkey',\n",
       " 'zora you seem to assume that i have not done my research or have not extensively read on the subject does that logically follow at this stage i generally take a different view people who defend islam are either uninformed or evil and i am assuming that you for one are not evil zora a question for you why are you defending islam when it was islam that destroyed buddhism in india are thou so idealistic that your eyes cannot see the color of the river of blood that floweth past thee jun utc',\n",
       " 'zora s revert zora please explain why you have reverted my contribution to the how do we know about muhammad section it is a simple fact that after reading the qur an and the all of the hadiths you will not have a coherent picture of who muhammad was or what he did i e his biography that information was collected in the sirah why are you reverting edits without any explanation have you really studied the sirah july utc',\n",
       " 'zora and aiden you being non muslims assume being all knowing about islam and consider me as an ignorant muslims who misinterprets his religion thanks really for your kind attitude i was talking at an scholarly level quoting verses from qur an you can not revert my edits wholesale just because you don t like them and post your own interpretation there i don t like to get into a revert war though i am pretty sure that my edits are quite justified and i will be the one who will eventually win the debate you can always add the pov tag to the section and try to find the opinion of other scholars or quote other qur anic verses regarding your point doing original research i would like to say that it is just an excuse and maybe a good strategy to quite the beginners if we really don t want to do any original research many parts of many articles in wikipedia should be deleted all the articles will become mere quotes from several scholars without any glue to keep different quotes together you statement that i am doing original research is by itself an original research it is strange to me that somebody claims that his her understanding of islam is authentic and the others are just original researchs',\n",
       " 'zoos template a discussion is ongoing here about the usage of the zoos template and where if anywhere it is appropriate to use if you are interested come join in the discussion',\n",
       " 'zoo tycoon i should really think before saying things i kind of accused you for being rude at that guy i won t do that again i m sorry',\n",
       " 'zondervan thanks for the feedback one point i d like to make however the main controversy surrounding zondervan is somewhat of an internal affair to christianity the controversy is entirely over whether or not zondervan should be trusted seeing as it is owned by a secular media company i would suppose that secular sources would be rather unlikely to pick up on the story seeing how it is mostly irrelevant to those unconcerned with christianity and the state of one of its publishers from the admittedly horrible site http www kingdombaptist org new bible versions and the growing pornographic industry let s examine this from another angle has news corp always allowed their subsidiaries to operate autonomously while driving the other day i happened to hear a bit of the marlin maddox radio program they main topic was the remark that the younger murdock made concerning falon gong and china i am surprised no one called in to comment on the niv they were enraged at the murdocks for selling out and turning a blind eye to the sufferings of the people under communism china represents the world s largest media market it is five times larger than the u s market the murdocks do not want to do anything to disrupt cashing in on that market marlin maddox had an interview with a man who fled china he had been dropped from a harpercollins publishing deal because his important book was speaking out against the chinese the u s news reported in the scandal that could have far reaching repercussions involved harpercollins a unit of news corp the publishing house last month dropped a book by christopher patten the last british governor of hong kong the ostensible reason was that the writing was inadequate but the action fit a pattern of murdoch s adjusting editorial policies so as not to offend the chinese leadership in beijing murdoch s news corp has invested heavily in a satellite broadcasting business based in hong kong and eventually hopes to be able to beam programming to mainland china s huge population murdoch denied ordering that the book be dropped but a memo by harpercollins chairman eddie bell which surfaced last week indicated otherwise murdoch has outlined to me the negative aspects of publication which i fully understand after being pilloried in newspapers murdoch issued a limited apology to patten for any suggestion that his book had been rejected for being too boring harpercollins later reached an out of court financial settlement with patten who had threatened to sue the publishing house during the harpercollins contretemps potentially damaging remarks on china by a former times writer also came to light the times has simply decided because of murdoch s interests not to cover china in a serious way jonathan mirsky the paper s former east asian editor said at a conference in january according to a transcript that recently appeared on the internet thus the top does control the bottom when it cares to and why not a man ought to have right to control his businesses in whatever manner he chooses and we ought to have the right to reject anything associated with the pornographic industry you can see how such an issue would both be a controversy and something unlikely to be covered by many secular news outlets',\n",
       " 'zomg where did it go',\n",
       " 'zomg i do too that is so crazy',\n",
       " 'zomg block it s moran',\n",
       " 'zomfg you ppl make me laugh ha ha ha jeezus god you people need to get a social life i mean come on people ask yourself this are you a potiental re re or just a full blown retard and wishes whats this crap about wishes hes not in the farking ground not dead you stupid idoit xd robohacker comin throu the wall is real f kin cool you glass bitch',\n",
       " 'zomfg you ppl make me laugh ha ha ha jeezus god you people need to get a social life i mean come on people ask yourself this are you a potiental re re or just a full blown retard and wishes whats this crap about wishes hes not in the farking ground not dead you stupid idoit xd',\n",
       " 'zombieland ok thank for sending me that link',\n",
       " 'zombie i notice that the word zombie is used in the article when it is never used in the series wills',\n",
       " 'zoinks i remember her she actually looks a bit like the reverend stu versus huffty',\n",
       " 'zog mediation by the way you seem to have two talk pages one at humus sapiens and one here at humus sapiens talkemail',\n",
       " 'zoe what if i want to give zereshk a barnstar i can t edit his userpage',\n",
       " 'zoe rears her ugly face cockblocker is a species of looser who takes pleasure in preventing others from achieving anything either the wikipedia subspicies goes around and tries to find faults in everyone s work keep being your bad self its not like by fucking up my article you hurt me when you strike water no trace will remain you see there are more cockblockers in wiki project than active contributors so it will never succeed anyway game attracts game so this project is doomed anyway by getting me blocked for example you are just saving me time its ironic how the harder you try the better you make things for me even getting my article deleted because of your spitefulness you may be actually helping me because you are stimulating me to action and you are foolish because you are acquiring dangerous enemies you are just lucky because unlike you i don t have time for virtual wars i actually have a life',\n",
       " 'zoe had to go and that is not a personal attack but fact her reprehensible conduct was antithetical to free speech and undermined the very purpose of this site the democratization of public information you must understand that the concentration of power into the hands of a few administrators over an organization originally dedicated to open discourse and conversation is a bad thing please tell me you understand that the fact that users much like yourself and very certainly like zoe she was the personification of such disgusting aggression and bullying casually ban editors with whom they have disagreements that they randomly delete articles often with no debate whatsoever because they find them distasteful that they threaten editors who dare challenge their bellicose absurdity is not a good thing the user mongo alone has literally hundreds of documented incidents of gross power abuse and often outright vandalism himself see the ed article on him we live in an age when our constitution is under attack on all fronts when our phones are tapped our mail is read our bank accounts are sifted through our libraries are monitored by the fbi our civil liberties are disregarded and freedom in the land of the free is driven back we need as much freedom of speech as we can get and wikipedia is an excellent repository for the endangered right the lack of respect for the first amendment here truly scares meand shows ample cause for the political decay in this country people simply don t care anymore they see oppression and turn away they see a fascist and give her a barnstar nanaszczebrzeszyn',\n",
       " 'zoe be aware please that learning all the ins and outs of wiki is a formiddable task takes hours and one soon forgets few have the time nor dedication to do it also many of the rules are unpleasant and against common sense for a web based pedia this is not print it is online i ask you and others to join wikians after fair edits wafe and please assist me and others to insert legit edits that correct grossly wrong text in articles such as black is white left is right down is up etc also danielcd i note that edits tend to stick if an admin does it we need your help happy new year to all beckjord',\n",
       " 'zodiac why is zodiac maritime agencies not listed under the companies it is one of if not thee biggest merchant shipping company in the world it owns most of p o anyway',\n",
       " 'zodiac death oh dear tapwave has dropped support zodiac may you rest in peace we barely knew ye',\n",
       " 'zngyelse the lede says that the base is also known as zngyelse who calls it this and why it certainly looks like a confused misreading of the russian name taking the for and adding an odd letter e at the end the ye in the middle would also be an unusual transliteration although understandable is there a source behind this alternate name a google search shows a lot of web sites that similarly claim this name is also used but just as likely they re getting it from wikipedia rather than the reverse there s no hint of any such name in the russian language wikipedia article unless as i mentioned you misread the russian name',\n",
       " 'zm wrong structure hi user boghog boghog thanks for the request to link out to the iuphar ligands i think this will be beneficial to users i also think we have an error on wikipedia see the correct links for this compound can be found on iuphar see the pubchem id cas number and chebi id for this compound i hope this is a good example of how we can help each other in the future as iuphar adds new compounds to their database',\n",
       " 'zlykinskyja has done nothing but try to use the article as a place to argue amanda knox s innocence this is clearly against wikipedia policy it is stated very clearly that wikipedia is not the place to try to argue that an innocent person should be let out of prison her attitude and demeanor have no place on wikipedia she will never change p s she used to be pilgrimrose and someday she will come back again as someone other than zlykinskyja she will never ever ever stop being disruptive',\n",
       " 'zlerman i understand that each page of a book is referenced separately or at least this is a good way to cite it so i don t understand what i m doing wrong if there are two references to the same book page my script will create a name for the first occurrence based on author year page and use that name for all exactly identical subsequent references there is no combining of references to ddifferent pages i don t understand the problem rjwilmsi',\n",
       " 'zivan are you secret agent of ozna you announce a lot of cazzate alias lies stop it in italy live a lot of albanians you are communist fanatic liar vandal of articles',\n",
       " 'zir yes i know i ve explained why and i will finish them later i m sorry but i got banned for posting on the gillian mckeith page the structure of the pages is fictional the regional graphics were fictional the bbc structure is fictional so i was editing them back to being well sourced talk',\n",
       " 'zip it i don t care to hear your whining clearly you are here to cause discord not to contribute anything useful to the project',\n",
       " 'zionist wikipedia as a matter of fact it is not a personal view but the truth only one example http www guardian co uk world aug wikipedia editing zionist groups',\n",
       " 'zionist terrorism why are you following every time and are aligned with your jewish friends i do not know how they let you become an administrator',\n",
       " 'zionist jew please stop spreadin your lies bias and propaganda your a zionist jew that suports the terrorist state of israel and you want our nations to help your sorry state im digusted at your posts in the israel discussion page almost makes me puke zionists are going to cause armageddon to us all and even if your not israeli i know your a zionist because your views about israel are bias zionists are obviously going to want the destruction of palestine and support the mass genocide of innocent palestinians were fighting your war in iraq youve tricked our nations in suporting your terrorist state you probaly also want the creation of the old israel baxck to which involves the invasion of countries like syria iraq hmmm maybe thats why your starting wars with them and stereling oil by creating oil pipes be ashamed you zionist for the sake of humanity',\n",
       " 'zionist jew please stop spreadin your lies bias and propaganda your a zionist jew that suports the terrorist state of israel and you want our nations to help your sorry state im digusted at your posts in the israel discussion page almost makes me puke zionists are going to cause armageddon to us all and even if your not israeli i know your a zionist because your views about israel are bias zionists are obviously going to want the destruction of palestine and support the mass genocide of innocent palestinians were fighting your war in iraq youve tricked our nations in suporting your terrorist state you probaly also want the creation of the old israel baxck to which involves the invasion of countries like syria iraq hmmm maybe thats why your starting wars with them and stereling oil by creating oil pipes be ashamed you zionist for the sake of humanity',\n",
       " 'zintl phases hello and welcome to wikipedia we welcome and appreciate your contributions such as zintl phases but we regretfully cannot accept copyrighted text or images borrowed from either web sites or printed material this article appears to be a direct copy from http www uni siegen de anchem lehre talks ws majoory zintl phase corr htm and therefore a copyright violation the copyrighted text has been or will soon be deleted if you believe that the article is not a copyright violation or if you have permission from the copyright holder to release the content freely under the gnu free documentation license gfdl then you should do one of the following if you have permission from the author leave a message explaining the details at talk zintl phases and send an email with the message to permissions en at wikimedia dot org see wikipedia requesting copyright permission for instructions if a note on the original website states that re use is permitted under the gfdl or released into the public domain leave a note at talk zintl phases with a link to where we can find that note if you own the copyright to the material send an e mail from an address associated with the original publication to permissions en at wikimedia dot org or a postal message to the wikimedia foundation permitting re use under the gfdl and note that you have done so on talk zintl phases alternatively you may create a note on your web page releasing the work under the gfdl and then leave a note at talk zintl phases with a link to the details it is also important that the text be modified to have an encyclopedic tone and that it follows wikipedia article layout for more information on wikipedia s policies see wikipedia s policies and guidelines if you would like to begin working on a new version of the article you may do so at talk zintl phases temp leave a note at talk zintl phases saying you have done so and an administrator will move the new article into place once the issue is resolved thank you and please feel welcome to continue contributing to wikipedia happy editing',\n",
       " 'zinfandel ga review hi i don t know if you ve been monitoring zinfandel lately but it s now under good article review if you can help address remaining concerns ferreting out original research citing any remaining claims that need citing particularly possibly reorganizing the history section please feel free thanks i already addressed your concern about the lead section claiming the wrong climates for napa and sonoma',\n",
       " 'zimmerman weighed not see this article http www clickorlando com news friend george zimmerman scared for his life e z index html local someone printed that your wife is his mother in law that s clearly wrong oliver that s a perfect example of all the misinformation that is out there based upon his arrest a mug shot says he weights pounds and that doesn t say he is feet inches and pounds oliver g is not a large man he was back then but not now',\n",
       " 'zimmerman hired them to represent him in this incident and they have recently been all over the news defending him also for the same reason the state attorney s are listed and they haven t charged him yet',\n",
       " 'zimbabwe are the following references proof of diplomatic relations of zimbabwe and the state of palestine',\n",
       " 'ziggy sawdust is an idiot don t delete my first page',\n",
       " 'ziegler s biography is not favorable to edward indeed williams s is the most sympathetic treatment and she s writing after the release of all the documents and opening of the archives wikipedia should not publish original research the article should mirror the coverage in secondary and tertiary sources and in this case high quality reliable sources that are consistent with wp facr criterion c',\n",
       " 'zico clean up external links',\n",
       " 'zhongnanhai china white house the location of the headquarters offices of the communist party is to the west of the southwest corner of the forbidden city here is that info from google com zhongnanhai the zhongnanhai is a complex of buildings in beijing china adjacent to the forbidden city which serves as the central headquarters for the communist party of china and the government of the people s republic of china the term zhongnanhai is synonymous with the leadership and government administration of the nation and is often used as a metonym for the chinese leadership at large in the same sense that the term white house frequently refers to the president of the united states and his associates chinese presidents including hu jintao and other top prc leadership figures carry out many of their day to day administrative activities inside the compound such as meetings with foreign dignitaries however the complex is shrouded in some mystery as it is closed to the general public with photography additionally being strictly curtailed at several prominent locations such as the main gate however china central television frequently shows footage of meetings inside the compound but limits its coverage largely to views of the interior of buildings a neo jay removed this zhongnanhai section from themain article apparently not realizing its significance and needed inclusion s son of heaven willy sr',\n",
       " 'zhaojun i was very impressed with your lead section bar any grammatical ans spelling errors and i think that it would be probably the best choice to build the rest of the article on',\n",
       " 'zhanzhao is a motherfucking pussy indian chinese bastard http twitter com phoenixreporter unblock http twitter com phoenixreporter http twitter com phoenixreporter http twitter com phoenixreporter http twitter com phoenixreporter i am gonna flood this page wahahhahaahah zhan zhao is a motherfucking',\n",
       " 'zhanzhao is a motherfucking pussy indian chinese bastard http twitter com phoenixreporter go to the above address and hack and destroy it and guys let s find out zhanzhao s email and kill him die you asian bastard',\n",
       " 'zhang lei hi i noticed you tagged an article that i edited which says that this article has multiple issues i am a little new to wikipedia and i hope you can point out to me what changes i need to make in order to meet the standards of wikipedia to avoid the close connection tag the original research tag and the notability tag perhaps these tags don t have anything to do with my edits but the edits that came before me since the article was up since january and i only made my first edits in march can it be that the problems are from previous edits that came before mine if that is the case i am ready to change those edits too in order to improve the article to meet wikipedia quality standards i really appreciate your help the article in question is https en wikipedia org wiki hillhouse capital group thanks again',\n",
       " 'zhang heng ah yes the writer of technology in the song dynasty i enjoyed that article i d be glad to copyedit your article you ll just have to give me a little while as i have a few older requests engage',\n",
       " 'zhaksybek kulekeyev please provide your source s for the content you recently added to zhaksybek kulekeyev thanks',\n",
       " 'zezen you imbecile which of those sources uses the phrase blood libel to describe what you cite please read wp nor and drop the stick c f e b f eb b',\n",
       " 'zeus yhwh hyperion sun son of uranus and gaea http creatorsungodzeusyhwh blogspot com god creator sun god zeus appears to html',\n",
       " 'zeus uranios should mention zeus uranios ouranios',\n",
       " 'zetawoof please do move it back as you can see from t man s post he didn t know what he was doing when he added that the article itself probably isn t going to exist for much longer as most people support merging it into other articles',\n",
       " 'zest uh hello http en wikipedia org wiki user talk zest thanks for your help',\n",
       " 'zero seems to be the person here who is actually providing real information and date from reliable sources so it s interesting that he s also the one who s taking all the accusations of pov pushing subjective writing original research etc talk',\n",
       " 'zero okay zero cordially',\n",
       " 'zero non english prior to the day of her death',\n",
       " 'zero military consequences who knows if people were less afraid of hamas and had enough power to prevent hamas operatives to use their houses maybe idf would have been less provoked and eventually less civilians killed following your logic under cover of war is also useless to the article unless of course you have evidence to support that those fatah members who escaped from the prison were indeed collaborating with israel',\n",
       " 'zero mile zero mile is the geographical center of india i have several websites citing this from where did you come to know that zero mile is not the geographical center of india i am reverting your edit',\n",
       " 'zero is a valid code point and the utf encoding of it is a nul byte an xc x sequence in a utf is an invalid overlong encoding in fact the overlong encoding of nul is used as an example of a security issue from an incorrect utf implementation in the rfc',\n",
       " 'zero hysteresis transformerless tube amplification in this edit on mar drmies removed this text zero hysteresis transformerless tube amplification in milbert introduced a tube guitar amplifier which eliminates the traditional audio output transformer and all traditional power supply magnetics by using berning s patented zotl circuit to almost perfectly and bi directionally mate power tubes in any combinations and speaker load resulting in transfer characteristics being accurately and fully conveyed between tubes and speaker s and asserted zero hysteresis transformerless tube amplification no verification no suggestion that this esoteric brand needs special mention in the general article only differencetransformerless it should be pointed out that there are many advantages offered by the patented zotl technology including ultra light weight due to no audio output or bulky power supply magnetics automatic standby capability ability to use any common vacuum tubes in any combinations and have them automatically biased freedom from hz powerline hum ability to automatically drive any practical output impedance s and also total opens and dead shorts even at full power without destruction of non existent traditional audio output transformer due to high voltage flyback arcing and consequent insulation breakdown and an unequaled purity of tube tone due to the complete elimination of all otherwise inescapable audible parasitics',\n",
       " 'zero down zero interest at the oregon cotw hello to all the wikiproject oregon folks time once again for yet another bone chilling edition of the collaboration of the week i thank yee who helped make improvements to fort stevens and upper klamath lake for this first week of december we have by request mike bellotti and his archrival mike riley both in honor of that great tradition we call the civil war aka the battle for the platypus as always click here to opt out of these messages or click here to make a suggestion for a future cotw this message is intended for the addressee shown it contains information that is confidential and protected from disclosure any review dissemination or use of this transmission or its contents is strictly prohibited',\n",
       " 'zereshk vs pecher could you please have a look at this http en wikipedia org wiki user talk pecher invite',\n",
       " 'zeraeph lets just correct your rather characteristic attempts at innuendos before i start editing firstly i am not trying to promote any person or website i m merely trying to provide good information for wikipedia readers and the information on those sites is second to none secondly i am not a personal acquaintance of sam brown i have never met him and have had only impersonal exchanges with him on a discussion forum i have not exchanged even impersonally with him for a long time',\n",
       " 'zeq you asked me to vote on ramallite s nomination the problem is that slimvirgin nominated ramallite considering my current dispute i think it is inappropriate to vote sorry if you just want my opinion it seems from the few tussles you and ramallite have had you often edit pov bits into the articles but at the same time ramallite is incapable of respecting the npov facts that you do add or are contained within your edits to the point where his actions are just as bad an example would be your addition about the number of wells cut off by the barrier i can t find it now and only recall it somewhat while some of your addition i remember as strongly pov there were important facts contained within it such as that the israel government says that no wells have been cut off if i remember correctly ramallite simply reverted which is not appropriate another example i see is part of your recent edit some of it i think is pov such as implying all israelis agree in the first statement whether you meant israel the government or israel the citizens is unclear one thing that irked me was ramallite s reversion of the following addition the israeli government states that the purpose of the barrier is to prevent the infiltration of terrorists and that any hardship imposed on palestinians is an unfortunate side effect made necessary by terrorism this i believe is completely true and you are attributing it so it should be easy to verify the current version although the israeli government has said that the purpose of the barrier is to prevent attacks and that any hardship to palestinians is an unfortunate side effect made necessary by terrorism the barrier s opponents say the barrier is the de facto future border of the state of israel is argumentative and implies the first statement is false and last statement is true as a result of the conditional although which implies contradiction this is far more pov than your addition considering that he says he will continue to work on the articles where you have the dispute i would be inclined to oppose the nomination based on this alone additionally he seems condescending towards you and i m sure it is difficult to ignore that considering his edits and stay civil though staying civil would probably help the dispute i sympathize but will not vote',\n",
       " 'zeq it is completely obvious that this is not a crusader ruin i believe doron on this for five reasons doron s evidence is persuasive and you provided none at all crusader ruins don t look anything like that arab village ruins look like that i have several other pictures of the ruins of suba and they look just like this one is here one is in a book the crusader fortress of belmont was at the same site as the arab village and remnants can be seen but the arab village was built around them and that s what most of the visible ruins are or do you want us to believe there was no arab village there at all your comments make it hard to take you seriously first you make a claim something about ibrahim but your link says only ibrahim pasha s army attacks jewish settlers of hebron palestine second you don t seem to realise that zobah in the bible is the name of a aramean kingdom or its capital not a village near jerusalem it was supposed to be in the north somewhere talk',\n",
       " 'zepppep i made my points and your points do not make any sense just because i beat you when it comes to updating adam dunn s page first doesn t mean you have to be so inconsiderate and immature if you follow baseball which i now you do not deion sanders is very well know for his abilities in baseball which was base running deion sanders is a leader when is comes to the top baseball stealers of all time and that is the point the list of the top show you how even great base stealers who had short careers still made am impact in the game keep our differences out of this discussion zepppep',\n",
       " 'zeppelin is not heavy metal to be honest with you a influence on the genre yes a heavy metal band no i would go with the heavy rock label',\n",
       " 'zeppelin i ve moved zeppelin surname to zeppelin surname and removed the speedy deletion tag it wasn t a proper nomination since it didn t use any of the speedy deletion criteria talk',\n",
       " 'zeno the nature of motion which zeno and aristotle misunderstood was explained throughly by galilio and all of zeno s paradoxes can be resolved by the use of calculus',\n",
       " 'zeno s paradoxes hello mbisanz could you please explain what you mean by archiving soon as mathematically impossible on the zeno s paradoxes arbitration page',\n",
       " 'zeno s paradoxes are unrelated to infinite divisibility the latter questions how an infinite many parts can total to a finite whole whereas the former flying arrow for instance argues how can an infinite many tasks possibly be completed how can an arrow move if at one moment it is here and at a later moment be somewhere else the editors of zeno s paradoxes built upon aristotle namely if everything when it occupies an equal space is at rest and if that which is in locomotion is always occupying such a space at any moment the flying arrow is therefore motionless as such machine elf ought to move his work to zeno s paradoxes and not here',\n",
       " 'zenkyoto movement the student movement began to mobilize in when the japan us joint security treaty was signed and thousands of university students took to the streets in protest',\n",
       " 'zendaya she is the best',\n",
       " 'zencv my edit from a day ago that you reference was a clear demonstration of how ludicrous and simple it was to label fahrenheit as propaganda in addition to the working psychology reference you deride there were also citations from slate and the bbc finding the film to be propaganda http news bbc co uk hi entertainment stmhttp www slate com id the only way that one can argue that a different standard exists for these articles is if one is pushing a non neutral pov',\n",
       " 'zen garden award for infinite patience good job at staying cool and dealing with other editors concerns whether civilly expressed or otherwise my hat s off to you isaacws vexcontribs',\n",
       " 'zelenasi flag zelenasi militia official symbol was red blue white flag serb tricolor also used by military formation loyal to dynasty karadjordjevic in montenegro the chetniks',\n",
       " 'zelda classic may not be sold for profit but it is still a work that uses nintendo s copyrighted material and trademarks that makes it ruinous to nintendo s zelda franchise by creating brand confusion and it could hinder future marketability of these games in the same way as emulation programs like these may be all in good fun to fans but they are taken seriously from a legal standpoint by their copyright holders and it is both disrespectful and dangerous to assume otherwise simply because nintendo has not communicated to you about zelda classic does not mean that you can presume they have granted permission for the use of their copyrighted material or trademarks there have been numerous claims in the original wikipedia article and talk pages that nintendo either condones or endorses zelda classic s existence but no proof has ever been provided for these statements only conjecture the program receiving mention on techtv or in egm does not substantiate any of these claims either as neither of this productions are representatives of nintendo',\n",
       " 'zeitgeist regarding your edit with the description touched up a bit of the language why call it corgan s decision to reunite the band with only two members whats the source on it being corgan s choice i didn t revert your edit because it s just as accetable but i think what that sentence is saying is that he made the decision to reunite with only members regardless of whether that was his original intention in the end it s still his choice to go ahead with make sense cheers',\n",
       " 'zeibekiko hi about the roots music thing i mean in a similar way to that reggae is a form of roots music in that it has an organic earthy sound to it i know that zeibekiko isn t traditional in the sense that older folk music played on the lyra sandouri floghera etc are but compared for example to pop music or rock music of today its sound is more rootsy if that makes sense thanks',\n",
       " 'zeer oude klanken en heel nieuwe geluiden and surprieze i was about to add information about how the album was recently rediscovered and rereleased by a much larger record label but you deleted the articles before i could even add a hangon let alone add the information i needed to find at the very least tell me how to find what i had written',\n",
       " 'zee the matrix no kidding about the reverting back the assumption that zee doesn t qualify as a minor character in the matrix films is laughable she s the wife of the pilot the sister of slain brothers tank and dozer and a fighter in the siege if characters like cas sati and dozer can have their own pages there s no reason why zee shouldn t have a page',\n",
       " 'zedla rfa just want to say thanks for participating in my rfa no need to be sorry i will certainly keep the points raised in mind going forward and i m always open to the counsel of others regards dash',\n",
       " 'zealot that s what you are i hope you die to a long agonizing illness while a medical doctor tells you that if you can believe two plus two is five you ll be cured but pain trying to believe that is too much for you to even dare to try to believe it then there must be a minister from ministry of the truth always smiling and creating articles where you are made wilson the enemy of the party ip resetting now yours truly reality',\n",
       " 'zeal sir vg and s',\n",
       " 'zdzis aw kaczmarczyk is there any specific reason why a non controversial article such as this one cannot have a prod tag placed on it o o x',\n",
       " 'zdx you reverted the addition of what looks like a user created image of the production model of this vehicle saying that it was improper use of fair use it doesn t look like the image is a fair use image it is apparently user created and released to the public domain',\n",
       " 'zdravo hi i would just like to ask what you think about an article highlighting the differences between macedonian and bulgarian there is already one for differences between standard serbian croatian and bosnian and bulgarian and macedonian have more differences than them alex',\n",
       " 'zbigniew brzezinski pronunciation hi i ve been enjoying your polish audio samples when you get some time could you do one for zbigniew brzezinski there s no urgency to it but maybe you could add it to your eventually list he is still on american tv occasionally and i think the us interviewers mangle his name pretty badly',\n",
       " 'zbd was the the saviour in ac technology because it had great efficiency and shunt connection and it was patented with a revolutionary new power distribution system before zbd the ac had no real chance to rival with edison s dc system',\n",
       " 'zayzayem the bible and the epic of gilgamesh are the only ancient records on noah s ark of these two the vast majority of belief is based on the bible the qur an story is similar it is not undue weight using the bible as the majority source for this article nixon',\n",
       " 'zavr was pushed from nd to th league by their owner for some reasons they did not have a bypass and were not dissolved',\n",
       " 'zaur suleymanov zaur suleymanov is a well known poet writing love poems in englishlove romance by zaur suleymanov',\n",
       " 'zatoichi the last since the internet movie database imdb is not acceptable as a reference source here and i myself can t find anything online to reference the actual release of this film it s been tagged needing a citation perhaps a wiser editor will come round and fill that in that missing ref that i do not think is out there imacowboy',\n",
       " 'zatch bell characters please do not deliberately introduce incorrect information into articles it is considered vandalism if you would like to experiment use the sandbox thank you',\n",
       " 'zarove arbitration hi i m working on an evidence entry and have a couple questions how much time do i have to add evidence how long do these things normally take is it acceptable and or advisable to mention zaroves history on other websites zarove has made numerous claims about himself some self aggrandizing and conflicting and some just plain disturbing would it be at all useful to bring any of this up also fyi i recently posted an on my user page',\n",
       " 'zarel the only reason wp google linked to wikiproject google an inactive and unknown project is because a disruptive user changed the redirect to promote his project wp google is a widely used redirect for wp search engine test but that is immaterial or are you trying to gain the upper hand in an argument by making your opponent look bad rather than addressing the actual points r ana',\n",
       " 'zarathushtra help me lord ahura mazda you people do go nuts don t you i was actually inquiring as to whether anyone could refresh my memory on this point of z being a hindu brahmin someone did clarify that as well as clarifying the documentary also to the point of brahmanism it is truly misleading to try to say there are aryan brahmins and hindu brahmins uhhh who were the hindus oh aryans as to certain people s apparently vicious hatred of documentaries do you think they are any worse than wikipedia what are you now going to shoot down every line in wikipedia that has a documentary as its source argue away like fools i m not coming here to waste any further time with you who feel drunk with power',\n",
       " 'zaragozano over inhabit zaragoza only in spain for every one is zaragoza not saragossa it was saragossa until xv century when the aragonese language was the latin american zaragozas have not been saragossas',\n",
       " 'zara durrani i have removed the prod on this article because an indian user i ve worked with said that he was going to improve it should nothing happen i ll be the first to comment one way or the other at its afd but i d like to give him some time to try he has access to stuff we don t talk contribs',\n",
       " 'zappaz it remains an unattributed opinion who saw this as evidence dec utc',\n",
       " 'zapp brannigan this is no place for fanfics you know very well that zapp doesn t go spiraling out into space when kif punches him in the beast with a billion backs and that the only makes one or two non speaking cameos in bender s game immblueversion',\n",
       " 'zapata s blood in the dvd s section under the battle of mexico city it claims that zapata s blood is a cover this doesn t seem very likely since rage was extremely supportive of the zapatista movement which the song is about and i have yet to see another band who openly supports them if it is a cover could somebody please tell me who wrote it and if it isn t somebody please change it and say it isn t a cover',\n",
       " 'zap thanks for keeping an eye on the zap related articles as you may have noticed the exact same editor albeit with a different dynamic ip address from the same isp seems to be on a crusade to censor and spam the articles with corporate marketing bs he she is undoubtedly an employee of zap obvious from the location of the ip address range the style of the editing and the fact that the isp is in the same part of china as jonway perhaps all this evidence is enough to go for semi protection of all the zap articles or at the least the main article and the zap alias to stop this interference and coi spamming what do you think',\n",
       " 'zanthalon what s going on now you have deleted the reference to fagan claiming it is not cited by the artcile when a quick text search shows you that it is jan utc',\n",
       " 'zanskar i concerned about your article honestly your styling looks more like a research paper than an encyclopedia article please restyle it something like lahul and spiti if you want to know about the standard of my english go and see how the liancourt rocks is written',\n",
       " 'zangger regards atlantis to be historical not fiction he explains the erroneous descriptions or details in plato that don t match troy as translation errors by solon if you take those away you re left with troy in his view',\n",
       " 'zampa wines hi the speedy deletion of this page has completely deleted the page was not even given a chance to improve the article it would be great if you could get the content back will rework on the article thank you moksh juneja',\n",
       " 'zambo has nothing to do with mixed people delet zambo and its derivatives sambo etc are african in origin from the african surname samba or sambo and sambou zambo they are african surnames meaning one who gives comfort or comfort giver they have nothing to do with mixed people and the word certainly does not originate from spain or portugal',\n",
       " 'zambo article hi peridon i notice you ve removed the speedy deletion tag i put on the zambo article as requested i have provided sources in the discussion page which i will repeat below for your review and consideration african languages and ebonics by dr katherine harris central connecticut state university africa update vol iv no summer pan african language patterns revisited the erosion of african names also occurred samba meaning comfort in wolof is still recalled in musical form in brazil where there remains a strong african presence a possible derivation of samba is zambo southern central africa which also means to give comfort other derivatives are sambu in mandinka and sambo in hausa the fact that the name was at one time fairly common and no longer used may have relationship to a song popularized by white americans during the war from sambo s right to be kilt and especially the derogatory usage of the name enshrined in the book little black sambo http web ccsu edu afstudy upd html some africans personalities with the surname first name samba samb sambe zambo amadou samba chairman of gacem co ltd http gambia gtbank com amadou samba php samba diabe sambe samba one of the last remaining xalam players http www bloodsugar diabetic com ndiaga mbaye samba diabe sambe boucounta ndiaye professor beno t ndi zambo cameroon philippe mballa zambo footballer from cameroon here is television interview of the man http www youtube com watch v lg ugww this article must be deleted immediately or a disambiguation tag added to it as in the samba dance article i call for the former because the name is african in origin and in african society it does not mean what this article is purporting it to mean thank you',\n",
       " 'zakusage you seem obsessed with removing any notice that the psp has had different firmware editions as well as with misspelling the word color also i do not appreciate your lying about me nor your making false accusations at other people i have reported your behavior to the admins noticeboard and am working with them now',\n",
       " 'zakusage has ownership issues despite wikipedia having policy to the contrary zakusage seems to think he owns psp related articles he defaced my user page yesterday as well as removing someone else s comments regarding his behavior from this page i think this is wrong behavior and am serving him formal warning to stop it here i will cc this to the administrators noticeboard in a moment',\n",
       " 'zakir naik this article is still disputed several sections of this article added by iskapoo vikramsingh were regularly removed censored by you and others this article is still in dispute please do not remove the tag until all the disputes involving this article are resolved if you wish to know what is in dispute read the talk page you will find a very long discussion there are realize that the recent inactivity was due to several persons including iskapoo vikramsingh giving up any hope of maintaining a balanced viewpoint due to the constant censorship by you and others',\n",
       " 'zakir naik please stop your disruptive editing if your vandalism continues you will be blocked from editing wikipedia',\n",
       " 'zakir naik again please see what has transpired on zakir naik agnistus has continued to reinsert the poorly sourced contentious material after being warned about violating rr a new account is created and reverts for him this is likely linked to the comment he left on my talk page i think this is becoming unduly disruptive now i have requested a checkuser to verify whether the case is sock or meatpuppetry',\n",
       " 'zak hansen welcome to wikipedia we could really use your help to create new content but your recent additions such as zak hansen are considered nonsense please refrain from creating nonsense articles if you want to test things out edit the sandbox instead take a look at the welcome page if you would like to learn more about contributing to our encyclopedia',\n",
       " 'zahn we have to cite sources in wikipedia simple as that that does not however mean that what it says in the article is not a bit presumptive it is obvious that we have a limited ability to monitor abortions in many poor or undemocratic countries who has cited it as approximately million in and an estimated million in http www who int reproductive health publications safe abortion safe abortion pdfan other sources have it as low as million or as high as million as far as i can see none of these estimations are as hihly regarded as the lancet however my point is that a number as exact as million or million should be regarded as estimations not approximations it is also called so in the lancet article this may be a small difference but still lets change it to the estimated number in stead of the approximate number',\n",
       " 'zagurzem btw i know the game was leaked and all recently but can i put the plot for episode metal and ii up when they come out on the th',\n",
       " 'zack ryder and curt hawkins why are you picking on them how come the naturals aren t merged together even though they broke up on the indies after hawkins and ryder',\n",
       " 'zachary coffin hi i tend to allow editors to have their articles back for review when asked unless of course they are attack or ninsense pages which this is not i reaslised at the time that the author was the subject but it appeared to be a factual article rather than a simple vanity one i also note that there appears to have been no improvement since i restored it i operate a policy of not changing my mind on any admin decision more than once if you feel that this article merits deletion then please feel free to apply a tag to it and we will let another admin decide its fate talk',\n",
       " 'zach roerig even though zach roerig was already deleted once in september wikipedia articles for deletion zach roerig he has done more acting since he is in a soap and shooting a feature movie he may be noteworthy now i cleaned up his article a little bit and will leave it up to you as to whether or not you want to keep the speedy tag kimp spewage',\n",
       " 'zac efron is is barney friends zac efron stars in barney everytime i wrote that someone says it s vandlism and it s not i m not a fan of it but i was watching it with my child and there was zac efron so i stayed threw the credit s and his name was there so it s no vandlism',\n",
       " 'z z http www webcitation org jbu',\n",
       " 'z transform is missing how can you avoid including laplace and his z transform in the history of control theory i think he belongs first',\n",
       " 'z thanks for the compliments i hope people find it useful next additions are the trapeze and lyre variations',\n",
       " 'z refer to gale warnings',\n",
       " 'z http www webcitation org dmjqiw l',\n",
       " 'z gram do you think that this section would be worthy of an article john reaves',\n",
       " 'yycdjj you need to read the research and tell us in your own words what it is about so that we can read about your unique talented explanation sammy cat',\n",
       " 'yworo keeps incorrectly referring to expresso as a misspelling when it is in fact how it is spelt in french lol',\n",
       " 'yworo first you claim they are just as diverse now you admit it it s not black and white which is it my argument is that your claim is soapboxing something not supported in the sources there are no sources that say those other ideologies are just as diverse besides the issue isn t about diversity it s about how related they are whether all the ideologies have common roots from which they all evolved or whether they have distinct unrelated sources the complete dearth of sources describing any one of those other ideological labels as being comprised of distinct ideologies with original unrelated sources is telling they are not just as diverse what is deficient about this argument it makes no reliance on all sources about libertarianism making this observation by the way referring to the distinct ideologies as variants does not preclude the possibility of them being distinct with separate unrelated origins no one is questioning the complexity of conservatism et al yet that article never the less correctly associates the topic of that article with the political ideology of the u s republican party just as this article should associate the topic of this article with the political ideology of the u s libertarian party something you oppose see below',\n",
       " 'yusuf jimoh was born n th of dec ordinary national diploma graduate in electrical electronics upper credit the polytechnic ibadan adeseun ogundoyin campus eruwa oct i am an internet network engineer systems administrator and blogger while i was working for tara systems i have done couples of internet installation using radios like airaya and ikarus i set up the internet installation of lagos motor boat club lmbc ikoyi using airaya radio between january to april and also configured their wireless router i also re set up a point to multipoint netwok for kakawa discount house lagos island between nigeria to april i set up the ikarus radio internet installation for nova track coca cola branch ebute metta i converted the digital subscrider line dsl to ikarus radio for muson center for internet connection between january and april the following are other clients i have given internet solutions to while working for tara syatems department of petroleum resources dpr re configuring and alignment of the radio to face the network operating centre noc sec fluid management re configuring and alignment of the radio to face the network operating centre noc sec also did an internet installation for clients like restral shofunde on st nichlas hospital building using a single ikarus radio but configured the routers so that three clienst on the same building can communicate to the one radio and eventually access internet this technology saves wastage of material and requires skilled knowlwdge in ip address this was also employed on bull plaza building lagos island for three clients which include consolidated discount goldman asset e t c while i was there i also worked as support enginner and i had the privilege to be exposde to different networking devices like cisco routers big fast iron e t c note however that i left this company in april and the topology of the network might have been changed and re installed evidence on this facts can been gotten by requesting for the customers service report from the companies as at the time the projects were executed sometimes around april i thought i have had enough of internet networking and installation i wanted knowledge on microsoft networking microsoft servers knowledge on softwares web developping so i headed to icecool contracts where i work presently as network engineer systems administrator i proffer solutions to lan problems servers mail server domain server e t c and other it solutios in my jurisdiction and my clients include oil companies medical comapnies and law firms base on the html skills i have acquired in icecool i have been a ble to use blogging technology to build a blog site named http www naijapassccna blogspot com on ccna cisco certified network associate for young nigerians the site proffers solutions to ccna questions from pass sure with quick notes on some important cisco topics i must say this is the biggest work though not too physically inclined like radio thing but required lots ofinterllectually dispositions as i have to make research on the latest pass sure and present it on my site in the way nigerians would understand with copious explanations from professionals and this as helped many young people in becoming a cisco guru without having to pay huge money for what they can get for free of course many peolple use blogging for different things but this site as been distinctive in the way it makes young nigerians cisco professional without paying kobo also it has been able to converge the obsessions of nigerian youths in building the nation with ict while online than cyber crime while at school i was the editor in chief of faculty of engineering editorial board napeeb welfare secretary of the press council and won an award of one of the best academical students the difficulties i have faced have been difficulties that arises in network but i have been able to overcome them with steadfastness and research using internet as a ready tool besides these i am a freelance writer for helium http www helium com usa the following are the articlesi have written an international defination of terrorism rated th in the world oppression and its defination on the world stage rated st empowering the youth with ict in nigeria rated st the ups and downs of football in nigeria rated first i also feature in popular tv show of prof pat utomi patitos gang on the youth parliament segment yusuf jimoh is ncsa wndow xp professional certified and ncsa pc basic certified both exam done online yusuf jimoh believes with so much enthusiam that the diffrences between ngeria and the first worls can be bridged with ict and i believe that',\n",
       " 'yusuf ali is a partisan source',\n",
       " 'yushan island please add the location to the beginning of the article the first sentence should say what it is and where then other facts spaces happy help in case you didn t know spaces usually come after punctuation marks instead of this i like rabbits they are not only cute but friendly too try this i like rabbits they are not only cute but friendly too',\n",
       " 'yusef ali i noticed that you ve reverted a number of edits on the article with regards to his birth of place however just wanted to point that out there s an article in arabic that states that he s born there and that there s other players born there that want to play for qatar if you can read and understand arabic i ll find the article for you don t have it on me right now',\n",
       " 'yuri stern i looked over the article and it seems ok i don t know very much about yuri stern but i think the article is written well enough user talk dland talk',\n",
       " 'yur making wikipedia sound like israel only without the halva',\n",
       " 'yup you tagged this under csd a that states article about a real person etc that does not indicate why its subject is important or significant cleary the article indicates that he is important with films directed and one entered into the cannes film festival i think another editor has removed the tag thanks clearly you have a foul attitude alter it before you ever contact me again',\n",
       " 'yup you figured it out there s only one person in all of the new york area who knows anything about investing and jim cramer you are a moron you never seem to add anything factual to the article yourself you might have reverted frequently but you never had any facts why couldn t you find an sec document which authoritative source did you support benzinga myspace you are basically one of the pathetic wikipedia editors who believes that if simply a lot of people say something that it must be true but in the end have no clue one way or the other people like you are dangerous because you create pseudo fact by popular demand and because of your sense of pride you drift along the beach all your life doing nothing so here you can feel important good job',\n",
       " 'yup this is not really that big of a deal seeing as how i ve made two edits in the last month but i would like to state for the record that this just doesn t seem fair what you did basically infriged upon the authority of the arb com',\n",
       " 'yup they all worked if one failed for any reason page protected in existent username blocked user etc it would have told you in this message edododo talk',\n",
       " 'yup there it is in the paragraph third from the bottom well there goes my credibility',\n",
       " 'yup there is a reason marxism leninism is stalins name of his policies and hence marxism leninism and stalinism is the same thing this in turn may or may not be distinct from leninism the opinions vary on that but still it should be redirected to stalinism to allow for that distinction so i ll do that see also stalinism sep utc',\n",
       " 'yup there are civility policies however they have nothing to do with me currently and i ll thank you to kindly piss off and mind your own business simply saying it s tea time does not make it so likewise your claim that i ve somehow attacked another editor is unfounded and may constitute something along the lines of wet and sloppy bullshit have fun policing wikipedia i ll mind my own business talk',\n",
       " 'yup thats it kinda incredible how they managed to not only figure out the proper corridor to get in orbit but how they programmed that on a computer that had kb of ram and weighed over lbs i wish i could get someone from nasa to explain how they did that out back then i wonder how many of them read this stuff',\n",
       " 'yup that s the reason why i had asked thought it was a mistake best yo selena ever',\n",
       " 'yup that s how contact edits the ways of the wiki can be a bit confusing at first and occasionally later too our help pages are a bit of a disorganized mess in many parts at the moment but we re slowly working on improving them contact edits',\n",
       " 'yup saw it thank you communications are proceeding at template talk mesopotamian mythology',\n",
       " 'yup reads much better as well i am not the computer buff i used to be but i understand the subject well holla',\n",
       " 'yup personal attacks are typically used by people who have nothing of substance to add to a discussion thanks for saving me the time trying to educate you further',\n",
       " 'yup paul had a tendency to inject his personal opinions people shouldn t get married vegetarians are weak in faith into his letters which was fine since at the time he had no way of knowing his letters were going to be accepted into the canon of christianity and said to be divinely inspired gr',\n",
       " 'yup once the article is there adding it to the list for countries it operates in is fine talk',\n",
       " 'yup of course i m blocked because you bot assholes can t take the fact that you have no lives you spend every minute of your life editing wp and for what organization more like order',\n",
       " 'yup not everyone using wp knows to change their preferences and what about the casul users what about people without accounts you say i m trying to force this on everyone as if i m doing something harmful it s just the opposite my edit only served to benefit the article it is you that is needlessly forcing everyone to jump through your hoops and all based on what a policy that doesn t even apply or a need to control the content on this page you made an unecessary revert and instead of admitting you were wrong and just letting the edit stand you are trying to needlessly argue the point',\n",
       " 'yup liebherr lorenz g e barber colman fellows michigan schiess maag and newark as well and probably a few dozen others',\n",
       " 'yup its reasonable i ll be working on it in the next few days talk to me or',\n",
       " 'yup it should go without saying that the most important thing regarding rfc conduct is that an rfc should be properly worded in the first place except that we have already had an rfc on the same subject with a clear and unambiguous conclusion not that the previous rfc was properly worded either',\n",
       " 'yup it s user ash',\n",
       " 'yup it s pointless and it s gone',\n",
       " 'yup it s fine for now thanks talk',\n",
       " 'yup it s an editorial i labeled it as such editorials are okay to cite when discussing opinions but not when discussing facts since a portion of this article should discuss opinions related to the case this article should help with that aspect',\n",
       " 'yup it s also mentioned in the lead so great i ll tell you if i find an image talk me',\n",
       " 'yup it looks notable talk to me',\n",
       " 'yup it is no longer there a mixup happens to the best cheers',\n",
       " 'yup in my head a hatnote pointing to moody does not work since we are dealing with the possessive moody s or the z variant however were there to be a moody s disambiguation page that would be an entirely different kettle of fish please let me have your opinion on the changes i ve made over the past few minutes thanks talk',\n",
       " 'yup i wonder as well i also hope that soon the coroner s report is released and all hell breaks loose so we can all finally get to work on fixing this thing with some reliable information just me your mileage may vary',\n",
       " 'yup i was referring to just below arbitrary break when i mentioned this subsection if it wasn t clear',\n",
       " 'yup i ve read the article though gone on a long walk come back and read it again the tags are still inappropriate this is a robust and well cited article a mass of general complaints at the top of the article are simply not helpful a more useful approach would be to individually tag specific facts that are question specific sections that need cleanup specific claims that may be or and specific places where tone is a problem using inline tags again if there is no response i will remove the tags shortly',\n",
       " 'yup i m persian sure i ll try to let it go gradually',\n",
       " 'yup i m gonna paste this over to his talk page',\n",
       " 'yup i know what it means dit artikel is nog niet gereed voor wikipedia it means this article isn t ready yet for wikipedia literally translated lygophile has spoken',\n",
       " 'yup i got that code from someone else myself cheers',\n",
       " 'yup i also found this telegraph article from before the film was out that describes it as horror',\n",
       " 'yup his username just needs to be added under approved users',\n",
       " 'yup hey yeah it is me thanks for the tip',\n",
       " 'yup he should have acted better i proposed peace between the two of us but all to no avail and i am boxingwear not grp as explained why and how will not repeat also he has administrators helping him do what he wants blanca carta',\n",
       " 'yup he s repeating or enough that just invoking it won t remind him of anything to consider and his argument still seemed focused on his own evidence while ignoring what others point out',\n",
       " 'yup go fuck yourself lfdder',\n",
       " 'yup go for it same as with other countries in the world there are dozens of languages spoken here and it is okay to include the most common ones only',\n",
       " 'yup following it from the beginning as i have uploaded bunch of images from the site thanks talk',\n",
       " 'yup done thanks very much',\n",
       " 'yup de orphanizing night combat sounds good would be nice to see that article grown substantially with a lot more info about strategy tactics and examples of successful unsuccessful night attacks e g going right back to the stc when a bunch of scots nearly wiped out rome s th legion it s an interesting subject but i don t really know enough about it to contribute in any significant way apart from dropping in some examples let me know if you want to get stuck in',\n",
       " 'yup can t agree more',\n",
       " 'yup at least some stories and the s show have barbara gordon employed as a librarian but only that character not the other that branch off of this dab page the cats for this article should be limited to those that apply to all characters that means that the following based on current cats dc comics superheroes dc comics titles american comics characters fictional vigilantes these should not be here since they are not shared across the board comic book sidekicks misfit has not really been a sidekick dc comics martial artists misfit again fictional detectives only covers barbara may cover helena and cass and just for clarity the individual articles have barbara american comics characters comic book sidekicks dc comics superheroes dc comics martial artists fictional adoptees fictional americans fictional characters with eidetic memory fictional characters with spinal disabilities fictional detectives fictional hackers fictional lawyers fictional librarians fictional orphans fictional politicians fictional technopaths fictional united states representatives fictional vigilantes should be added bette american comics characters fictional americans child superheroes comic book sidekicks dc comics martial artists dc comics superheroes fictional characters from california fictional gymnasts fictional tennis players fictional vigilantes should be added helena catholic comic book characters dc comics superheroes dc comics martial artists fictional italian americans covers american comics characters fictional orphans fictional schoolteachers fictional vigilantes fictional child molestation victims cassandra asian superheroes comic book sidekicks dc comics martial artists dc comics superheroes fictional asian americans covers american comics characters fictional assassins fictional eurasians fictional vigilantes should be added misfit american comics characters dc comics characters who can teleport dc comics characters with superhuman strength dc comics metahumans dc comics superheroes dc comics characters with accelerated healing fictional orphans fictional vigilantes should be added',\n",
       " 'yup and obviously having a redirect from trentino to the province of trento and trentino bold in the body of the article takes care of any other unlikely confusion give some credit to our readers it is the same situation as was done with bolzano bozen also in english we call this province alto adige or south tyrol both are commonly used regularly bbc will interchange terms',\n",
       " 'yup all seems sorted as an added bonus this impersonators tagging cause me to add a few refs to the article on the town of tampaksiring where the senang hati foundation is located i had forgotten all about president soekarno s tampaksiring presidential palace and so i added a bit about it an additional bit that i can t add lacking a source besides locals who told me about it is that bung karno built the palace overlooking a water temple where young balinese women bathed for the view soekarno had quite the reputation for his conquests',\n",
       " 'yup agree with alm to quote jimbo using userpages to attack people or campaign for or against anything or anyone is a bad idea',\n",
       " 'yuo scrub my edits i scrub yours thats fair aint it',\n",
       " 'yuo do have that right but that is a right you partialy give up if you want to release something under a free license upgradeing to gfdl is an irrelivance since you can t under the terms of the gfdl stop that as long as you try and retain these rights your images are not under a free license and will be remove from commons',\n",
       " 'yunshui already got the opportunity to say what he wanted to say above and i thanked him for it in my es any further comments grossly misrepresenting my reasoning above is unnecessary and uncalled for gravedancing',\n",
       " 'yunnan front the secret army chiang kai shek and the drug warlords of the golden triangle by richard michael gibson http books google com books id agbfqu an oc pg pt v onepage q f false muslim maj general ma ch n kuo http books google com books id agbfqu an oc pg pt v onepage q f false muslim mapang ma shou yi http books google com books id agbfqu an oc pg pt v onepage q f false http books google com books id agbfqu an oc pg pt v onepage q f false',\n",
       " 'yuna ito may be a foreign born artist but she s still has japanese blood those under foreign acts are actual acts from outside japan and does not include those with japanese heritage',\n",
       " 'yume tsukai s concepts are based on actual folklore the game likely draws from the same material',\n",
       " 'yum ur cock is yummy lol',\n",
       " 'yum this is u',\n",
       " 'yum chum is not talented',\n",
       " 'yuji takasaki steven f loy and hans w juergens ethnic differences in the relationship between bioelectrical impedance and body size journal of physiological anthropology and applied human science vol',\n",
       " 'yuit the language since language articles and articles about the people who speak the language are very different in how they re handled in an encylopedia like wikipedia i ve changed the article yuit from being simply a redirect article to being an actual article about the language currently it s a stub',\n",
       " 'yugoslavia irak etc etc not compares in amraam page combat results are far less than the claimed',\n",
       " 'yugoslav wars deleted once again once again the yugoslav wars and any mention of slobodan milo evi was removed from this article if someone removed joseph stalin and the wwii from the soviet union article that would be similar i consider that removal and the fascist accusations by the user panonian not acceptable we cannot allow that serb nationalists who still dream of a greater serbia dictate this article',\n",
       " 'yugal rana magar yugal rana magar he is a boy who belong to a rana s family he was born in b s falgun jhimhime rupandehi he recently came to butwal for the giod study and sat with his grand father and grand mother his grand father s name is deu bahadur rana and grand mother s name is bal kumari rana his father and mother name is tara bahadur rana and kamala rana he has one sister name tirsana rana and his beloved uncle rohit rana',\n",
       " 'yuck your one of the most disgusting creatures ive ever met',\n",
       " 'yuck on your talk page you state that you are a vegan what is the reason for this',\n",
       " 'yuber you re the pov pusher and stalking my contrib page to revert me is getting really old knock it off',\n",
       " 'yuber whether the word mutaween is used or not is immaterial the concept of a division of police whether folded into the normal police forces or their own separate entity dedicated to the enforcement of religious law is in place in nigeria sudan egypt yemen saudi arabia and iran what about the phrase in varying forms are you having trouble understanding',\n",
       " 'yuber please do something about yuber s constant vandalizing of pages in addition to the dhimmi page he also continues to push his own pov edits in saudi arabia ignoring the fact that his edits were rejected in dispute resolution there are a few other pages he s pulling the same garbage on as well',\n",
       " 'yuber if you keep trying to insert that iran is the only muslim nation which employs police forces as religious enforcement i m going to have to keep pointing out that you re lying it s been proven to you not just by me but by nobs as well repeatedly pushing factual inaccuracies into an article is vandalism and you know that what is amazing to me is that you ignore this and keep on trying to pov push anyways the only reason i put in the stuff about egypt is that you kept whining about adding qualifiers wanting sources and kept reverting the wording but since you won t accept and in varying forms in other muslim nations as being sufficiently non pov we have to get specific',\n",
       " 'yuber as a rookie i have sat in the background on most of the ongoing disputes involving yuber but i think fred s analysis is correct while you re certainly right that removing categories is insufficient evidence of experience what convinced me was yuber s edit summary for the edit in question now you have my talk july utc',\n",
       " 'yu r whole rganizashun is retarded eat me',\n",
       " 'ytmnd have you ever heard of killing yourself on your birthday its like that why dont you whois ytmnd and tell me what you see',\n",
       " 'yshow me where it says that j comb talk november utcou',\n",
       " 'yoyoyoyoyo wassup heyyyyyaaaaaaaaaa you are mean please stop being mean james',\n",
       " 'yoyoyo say what you want',\n",
       " 'yoy are a vandal you have a revert war while your the only one on your side you are abusing tags and i m not the first one reverting you over that you havent given one example o you have given one with canging nore then anybody elso to big part and that was made as you offered it s not like were showing overys view as the only one but we have underlined that it s his opinion so a tag is really not needed because it was noted in the text that its an opinion about what do you want to discuss about the fact is it here opinion or no the page and everything was given to you mister pans on make a table here every line you dont agree with and how do you suggest to change it it s the th time i offer that',\n",
       " 'yoy are a hairy herpes infested nancy grace lovin cunt',\n",
       " 'yowza like i said i m not a huge footy fan and that seems like a bit of work i ll see what i can do though',\n",
       " 'youve just repeated what progressive metal is as dream theater and symphony x are both progressive metal bands secondly if its a genre give me a musical definition of it rather than random traits and bands copied from other articles about other genres as it stands this genre is a fusion between alternative rock and metal thats all well and good except most all the bands that fit here are nu metal bands almost all the description given here has been of nu metal bands i suggest to aj wesleydodds that he gets cracking with the editing of the articles otherwise i will start a merge at the end of the week',\n",
       " 'youur couch and stuffvely',\n",
       " 'youtuber mob without pitchforks and torches by now it appears over people are opposed to the new youtube comment system though admittedly that pales in comparison to the billion visitors youtube gets per month as pointed out that s still a lot of angry youtubers even youtube s own co founder is unhappy with the changes true k isn t most of those on youtube but it s not just some either i think the word many describes it better sth silverlover',\n",
       " 'youtube would this youtube video http www youtube com watch v q plw orwnm count as a reliable source',\n",
       " 'youtube video suggests that hormones mimicing pregnancy are of cosmetic value this youtube video http www youtube com watch v qmhsuwkrl q says that while some surgical augmentations have the result of a woman changing her implants that hormonal mimicry of pregnancy without pregnancy would also reshape breasts cosmetically does that have an article or publications',\n",
       " 'youtube there is a really superb interview with louise richardson over on youtube conversations with history louise richardson the interviewer is harry kreisler she s very impressive speaking much about her irish upbringing and how it has shaped her work she speaks of her anger on bloody sunday her love of the irish language and the huge differences between the cultural world she entered in trinity college dublin and her rural community in waterford',\n",
       " 'youtube network s requesting an article review advice or suggestions downrighttv virtual youtube network http www downright tv',\n",
       " 'youtube links this article is one of thousands on wikipedia that have a link to youtube in it based on the external links policy most of these should probably be removed i m putting this message on the talk page to request the regular editors take a look at the link and make sure it doesn t violate policy in short because the source and legitimacy of videos on youtube is almost impossible to determine almost all of them are not reliable sources and are not verifyable many videos on youtube are of questionable copyright which should not be linked to from wikipedia if you are not sure whether the link on this article should be removed or if you would like to help spread this message contact us on user talk j smith youtube linklist thanks',\n",
       " 'youtube links are not considered reliable sources on wikipedia any information cited to them will be taken out of the article on wp rs grounds additionally recreation of deleted material is usually considered grounds for speedy deletion so if you want to move forward it may be best to start rebuilding the article in your user space then filing an wp rfc for the article talk',\n",
       " 'youtube link the peaches video parody has a youtube link as well the my farts video has over half a million views',\n",
       " 'youtube link i had added a reference link to a youtube video of this incident then somebody reverted it certainly youtube raises some napster like issues but it seems to be a lot more acceptable to the big media outlets so i really have to wonder if adding a youtube link raises copyright violation issues for wikipedia rather http en wikipedia org wiki wp web states that web specific content is notable if it meets any one of the following criteria the content is distributed via a medium which is both well known and independent of the creators either through an online newspaper or magazine an online publisher or an online broadcaster doesn t youtube really seem to fall into this category i admit that i d rather see the video be completely public domain but failing that i really wonder if a youtube link to a video of this incident isn t appropriate here',\n",
       " 'youtube link hi you just removed the youtube link i put for a derivation of kepler s equation did you see my discussions with the previous editor boaz katz',\n",
       " 'youth of pak hello you recently took down my article on syed rehan ahmed previously it was an issue of reference and citations which i provided and added later on could you tell me how that article can be reinstated thank you preceding unsigned comment added by talk contribs a violation of wiki rules apparantley i have made a mistake called wp outing in regards to sockpuppet user whom had begun a discussion on the admin board against me with false charges this sockpuppet had done this previously saying he was not a sock yet again he oppened a second admin section against me with a new sock saying that he was someone different yet he was clearly the same guy lying and saying he was a new editor i say in no uncertain terms that i had never heard of wp outing and am sorry if i have violated this policy but i should also say that all the information i posted i got from his own prior vandalism essentially he outed himself he vandalized a page to give his name and date of birth which got reverted by another editor because it had nothing to do with the article he was vandalizing his location i got from the wiki s own traceroute function that i thought we were allowed to use to prove sockpuppetrty in one of his sockpuppet attacks here wikipedia administrators noticeboard incidents user talk he states that this person has only recently been reported this sentence implies that someoneelse reported me and yet the ip of the previous reporter is which traces to the same location in ireland this is by definition sockpuppetry or the use of various ip s to do malicious intent without acknowledement of ownership myself i have used this same ip for over edits whereas i can see a pattern of daily vandalism and sockpuppetry of the ip as far back as man thats a lot of vandalism endlessly anon changing his ip to avoid block which i am betting he is already long ago blocked administratively admin request no not at all i moved the request to the talk page of the administrator who added the protection back in so i hope he will get round to it sooner or later thanks eric cantona did you know that eric cantona is really an ancient god of easter island dr blofeld now if we could get the statue to start launching kung fu kicks dr blofeld aaron sekhon hey snowy i m in the process of updating the scottish new articles list when i spotted you created aaron sekhon now i know that an ip contacted you claiming that he had never played that the press association got in wrong but the ip never followed it up with evidence well here are the three match reports from ptfc corresponding with the date where he supposedly played as you can see on all three occasions it was in fact aaron sinclair i contacted soccerway about this a few months back hence they have his stats as zero see here i also got them to correct aaron sinclair s given the article doesn t seem to pass wp gng you want to consider userfying it regards',\n",
       " 'youth does anyone else agree that the youth of didcot namely the chavs are creating a serious problem in didcot until recently it seemed as if everything was calming down but now there are stabbings and everything occuring is it just the chavs to blame or is it the youth population as a whole',\n",
       " 'youth division why has the youth division been removed there is no disscussion over its removal then who dared to remove it without any consent in the year milan had alot of players injured which has resulted in significant inclusion of youth division players in to the first team i request the mods to please add the deleted contents and matt or whatever the squad numbers are taken from various breaking news that appear on acmilan com for eg the sqaud numbers for vitofrancesco and facchin were taken from this link http www acmilan com newsdetail popup aspx idnews progr',\n",
       " 'youth developmental enterprises dude you deleted the page minutes after i created it get real',\n",
       " 'yout blocking tricks won t work on me who are you to decide whether or not i can edit this site anyway',\n",
       " 'yourself so you can avoid further irrelevant warnings',\n",
       " 'yourself so you can avoid further irrelevant notices',\n",
       " 'yours too molobo you can delete this sentence as much as you want',\n",
       " 'yours to me too the whole sections you have opened here are superfluous wikipedia don t disrupt wikipedia to illustrate a point',\n",
       " 'yours opinions user staticvapor please leave',\n",
       " 'yours one is much more offensive i am sending an email to you pls reply it talk',\n",
       " 'youre username explains you pretty well',\n",
       " 'youre sad i love how people on here think that by editing wikipedia their changing the world and that their important when the truth is their all sad year olds who get off on telling people what to do dude go outside theres this thing called um earth you live on it theres real space not just cyberspace stop jacking off fegget',\n",
       " 'youre really pushing my buttons wayne dawson really pushing it you can do what ever the hell you like for all i care as wikipedia is wayyyy at the bottom of my list and means nothing to me i can easily make a new account which you will never know about anyway so it doesnt bother me you say you want nothing to do with me yet you continue to make a fuss and create new discussions i cant belive how worked up and excited you get when some issues occur on this website you launch full on investigations and take it all so serious get a like you pathetic looser',\n",
       " 'youre racist obviously youre from new orleans and offend europeans seriously let me edit things this chinatown article has no link nothing its allowed to delet things if it has no proof youre racist and you offend europeans',\n",
       " 'youre probably right higher standards in itself isnt a bad thing but i think we ve gone too far and will probably start to notice problems in a few years we can wait and fix them then or we can fix them now soap',\n",
       " 'youre pretty ugly for a gay anime fan',\n",
       " 'youre gonna be a dead faggot',\n",
       " 'youre gay you are not currently logged in if you save any edits your ip address will be recorded publicly in this page s edit history if you create an account you can conceal your ip address and be provided with many other benefits messages sent to your ip can be viewed on your talk page please do not save test edits if you want to experiment please use the sandbox',\n",
       " 'youre edits on the pw page have been reverted removing valid information just because you dont like it is vandelism and will result in your ip being banned form editing wiki thanks for your time',\n",
       " 'youre an idiot no one vandalized the gregory brothers page someone editted undually a posting i made on that site get a life',\n",
       " 'youre an extremist striver stop trying to pov this article wikipedias not a place where you get to push your more jews need to be in ovens pov',\n",
       " 'youre an asshole youre an asshole',\n",
       " 'youre a sock puppet you are you are im going to track you down and when i track you down your going to drown in your own sins you are going to hell i want to hell you this is probably that pollypocket kid righting this by the way yeah so block the witch',\n",
       " 'youre a little faggot who dosent know me you faggot go suck a dick',\n",
       " 'youre a homo for protectin archbelwtfishisnameanyway user page lol i use that to find my contribs lol i hope you know that i do this for fun and youre not gonna find my real account',\n",
       " 'youre a frreaking jew and pleaze commit suicide',\n",
       " 'youre a freaking hor go to hel i dont care if you block me just teach me how to delete my account and i ll be fine no wonder people dont use wikipedia it suks like freaking hel b t h i tried being nice but you just keep deleting all that stuff and you act like it s sh t fu er go to hel you dont even deserve hel you freak',\n",
       " 'youre a fag the award of the arabian barnstar i hereby award you with the award of the gay barnstar due to your incredible gayness',\n",
       " 'youre a fag and if you write anything else on my talk page in response to this that is how you will admit being a fag',\n",
       " 'youre a dumbass liar hectorine that was about kinross and i already cant change the article',\n",
       " 'yourcousin used a personal attack when he added back his diatribe to my page he said repasting page deleted by cunt i may block him for evading a block',\n",
       " 'your zealous contributions to the dahn yoga page have not gone unnoticed they shall be remembered you shall survive the nuclear winter because you have chosen to be a earth human',\n",
       " 'your young age i ve figured out what makes you so interested in that donkey punch article it s your age you re a minor a child in other words you re under one or both ages of majority in the united states or i suspect you are a high school student under earlier you claimed to be steven andrew miller a student living in printer s row chicago most university students advertise their university affiliations you didn t makes me think you re a child so just how young are you people should know whom their dealing with so they don t get in trouble for using profanity to a child or insulting a child or saying negative things to a child or whatever is illegal with children nowadays it s problematic to deal with children on the internet and you should put up a userbox indicating your age to avoid those problems',\n",
       " 'your you have been blocked template seems to be breaking talk pages see user talk the background seems to keep going eating up subsequent templates talk',\n",
       " 'your year old might want to check out the planet rock website they re in the middle of rush month and there s a minisite there dedicated to the band you can listen online to the station too but not sure if it works outside the uk rush are a band that completely passed me by until january this year after i started listening to pr i now have of their albums and next time i go to a record store i m going to look for a farewell to kings',\n",
       " 'your wrong stupid your vandilising carlos slim wiki your wrong his net worth is not idiot',\n",
       " 'your wrong stupid go check the net worth of carlos slim and you will see that i m correct and leave me the fuck alone i do what i want bitch',\n",
       " 'your wrong its not vandalizm if its true',\n",
       " 'your wrong i only know one of them and that s taros don t jump to conclusions so rapidly friend',\n",
       " 'your work will be deleted or bastardized whether it adheres to the current rules or not either because those rules will be changed or through the sheer incompetence of those who come here merely to foul up other editors contributions',\n",
       " 'your work on mas canosa luisvilla i see you editing the mas canosa article good for you i saw that it looked biased but never got the energy to fix it up it looked like it was written by the president of the mas canosa club and as for the miami herald i never use them for citations link rot the articles disappear a month later also you might have a look at the jose mas article the editor uofmbookworm wrote it as a christmas present for mas see his talk page and then there is the jorge mas article i especially like defender of human rights',\n",
       " 'your work despite the effort you surely expended was duplicated in greater depth and quality as well as balance imho elsewhere in the article if you feel a point of yours is lacking you know what to do restoring your original post is not the solution and my removal is hardly censorship assuming i really was one to disrespectfully drive an armoured bulldozer etc do you really think that that would be the best method of achieving a civil debate best wishes talk',\n",
       " 'your work at be i ve already bookmarked your article would it be possible to add flags instead of the iso initials next to the fighter s name that would look much better having the total amount of fighter from each country like we used to have here would also be nice cheers',\n",
       " 'your words you will retract your comment from my talkpage immediately or it will be treated as a personal attack yes so the image has been edited for artistic purposes and the moon added so what it is depicting the toronto skyline and it does that seriously you can t defend these comments',\n",
       " 'your words are very kind thank you we have to remember that at the end of the day grawp ain t a giant but just a regular person like the rest of us i don t wish to attempt to make a fool out of him nor do i hate his guts i m just doing what i can to help keep this joint clean d talk',\n",
       " 'your wonderful new articles what what what what what a flood of italian museum articles on wikipedia yes and those new articles you created are great i am doing new page patrol and i enjoyed reading your contributions keep up the great work has smiled at you smiles promote wikilove and hopefully this one has made your day better spread the wikilove by smiling at someone else whether it be someone you have had disagreements with in the past or a good friend cheers and happy editing smile at others by adding to their talk page with a friendly message',\n",
       " 'your witchhunt why are you trying to rid wikipedia of the following pages dennis donaghy blanket statementstein dirt bike annie what is possessing you helping the wikipedia what is your honest sincere motivation sir or ma am i have zero affiliation with either of those bands since and respectively they should stay and not be witchunted cuz of my what yer callin a vanity page which is not cuz er confused but who cares at this point alls i wanna know is how does someone come out of the woodwork after weeks and weeks of nothing to tag and afd all these pages i just would like to see what your logic is it might amuse me',\n",
       " 'your wish is my command i made a rather poor quality youtube video of my own version of the buckminster fuller jitterbug look up the polyflex says hello world on youtube i would have just linked my youtube video directly but the url triggered wikipedia s protection filter i used to make them in my home in santa cruz california when i was a ucsc student then sell them to toy stores all over the monterey and san francisco bay areas i started making them after a friend gave me his as he had to cut down on his stuff before moving away to canada after a few minutes of my playing with this toy he realized how much fun it really was and asked for it back i m pretty sure that fuller invented them i have both volumes of synergetics they re really cool but don t make a whole lot of sense',\n",
       " 'your wikipedia id is mapletip so use it you are afraid people will realise your hidden agendas d',\n",
       " 'your wiki glamour shots photo really hides that cookie monster chin and gradual aging that has occurred really elonka everybody gets older and fatter for you maybe its not so glamourous being a professional cyrptologist and all i advise a day at the spa and maybe weight watchers for your next dinner oh yes and of course stop hiding the truth of kryptos',\n",
       " 'your wiki etiquette faux pas i note your lack of adherence to wikipedia etiquette with regard to following written procedure and notifying the aggrieved party of the alleged infraction of this subjective civility issue i am more than willing to overlook this error i do question your interest in an issue which is tangential in extreme to yourself i note with interest merbabu effectively agrees with my edits and the rationale behind them though it does indeed raise the issue of conflict of interest it could be charged singaporeans and australians as beneficiaries of british theft colonialism is the issue of conflict of interest pertinent here does mr dave have an opinion on this and perhaps can elucidate in manner a simple malay may understand to clarify whether or not you feel you may or may not have a conflict of interest with regards to any military article of indoneisa i keenly await your own learned views on conflict of interest sincerely',\n",
       " 'your wife isn t half bad can i fuck her',\n",
       " 'your whole purpose at wikipedia appears to be promoting sharma and material related to sharma i don t know who you are and what connection you have with sharma but in the future i suggest you propose any changes on the article talk pages rather than directly edit the articles see wp coi',\n",
       " 'your whole life seems to revolve around challenging peoples beliefs on wikipedia but i ll bite heres how warming works carbon warms the atmosphere people add carbon to the atmosphere therefore we are warming the atmosphere still don t buy it turn your fact hating eye to the south these are some of the worst fires in history remember katrina those storms are only going to worsen now go out and get a life and never post on my talk page again',\n",
       " 'your whatever you say i do you did first rhetoric is so childish might i suggest you grow up and learn to accept when you are in the wrong your record isn t of interest to me your discriminative behaviour is i am the here and now not your past record you have a long block log too with rr disruptions being a factor it all balances out in the end a leopard can t change its spots',\n",
       " 'your welcome you deserve to have a lot of barnstars for your amazing work here you should be thenking yourself for it and not me have a nice week and god bless',\n",
       " 'your welcome to rebut away first off goodday you seem to have a dislike for anything other than english being on wikipedia even though there is no english equivalent word as shown in this diff you were told by almost everyone an alternative name in english could not be used as there were none now that is a shut and closed case as the votes proved i believe you were the only one other than the proposer who agreed to move the article name your only reply was that you weren t going to change your mind i can t understand why you didn t understand the reasoning for not changing is it because you are stubborn perhaps i noticed before you saying similar things at different articles perhaps it is because you are too stubborn i would rather that than think you just dislike every language other than english secondly and this one is close to my heart i m starting to think you continually and without being encouraged in any way enjoy telling scots welsh and english people that you only look on them as british whether or not they self identify as scots welsh or english you even brought your last discussion on it from elonkas talk page just to get it up and running even going so far as to question whether scotland should have their own football league participating in europe you then go on to say that you know nothing of football which makes me wonder why you would comment on something you know nothing about all this makes me wonder why is it because you srongly believe that quebec should not be independent from canada and your bringing your unionist view onto the uk article of course there is one way for me to avoid all this on your talkpage and that s to take it off my watchlist and i ve already done that you are still welcome on mine even if i will no longer post on yours',\n",
       " 'your welcome ohh i didn t really that part about him using what you said to sort of gloat i merely read the beginning where he says thank you and then i read what you wrote i skimmed it because all of it was rather wordy once again i apologize and will try to be more accurate talk contribs',\n",
       " 'your welcome note thank you for your welcome note on my page and pointing out a so called edit war perhaps you can assist several editors have tried to create pages related to a us battle called the doolitle raid from wwii however there are administrators who don t like the pages and have unilaterally deleted every page created without any opportunity to reach a so called consensus on a talk page we are creating pages to honor the contribution of war heros who risked heir lives in a landmark mission wikipedia is litttered with pages of people who are of dubious notability yet these pages survive the doolittle arcades are notable people and deserve to be discussed in this forum please warn these administrators that their opinions are not shared by others and that these page will be recreated by those who recognize the notability of the doolittle raiders thank you',\n",
       " 'your welcome message and info for user jarman it would have been more appropriate to place the welcome message on talk page instead of on his user page by placing it on his user page he will receive the info that you are willing to pass on to him i have transferred the mesages to his talk page cheers',\n",
       " 'your welcome it is so good to hear that it worked but i don t understand why the photo and text in archive box on the right isn t aligned properly dicere aliquid',\n",
       " 'your welcome is english your second language',\n",
       " 'your welcome interesting article',\n",
       " 'your welcome i enjoy helping so would you mind telling me what s wrong s l j c o a a a t r soul',\n",
       " 'your welcome happy to be of assistance yeah images is more than i had expected in that section i think we need to add some gigantic multicolor possibly flashing warnings to the upload screen that if they don t select a licensing template their image will be deleted or something anyway good luck dealing with all of those there s a reason i don t hang around in the image related areas of wikipedia overly much if you ever want me to run the program again leave me a note i think i ve learned enough from actually running it once to work out all the kinks for any future runs',\n",
       " 'your welcome by business as usual though i did mean the vandalism will continue as i ve said edits that i and other users make will keep getting reverted so unfortunately i cannot do anything but complain about it while two users have essentially monopolized editing rights to these articles',\n",
       " 'your welcome but i didnt make these pictures there from wiki tan i made the sailor cuteness pic by editing a wiki tan one',\n",
       " 'your welcome and thanks seaphoto and i ve done new page patrolling i m trying to make an article for a dyk by using it in my user page before moving it to the public i glad to see you re still huggling huggle has been made now but i say you stay with huggle slam',\n",
       " 'your welcome and i hope you are having fun',\n",
       " 'your welcome also thanks for message in my talk page may utc',\n",
       " 'your website is too young to have achieved notability yet but it appears you have a good and valid and significant idea and if your site can prosper it will soon achieve the required notability at that time it would be better if some uninvolved third party wrote the article you could place a request for the article on the requests for articles page good luck chatme readme',\n",
       " 'your website after looking at the html source for http www philippwesche org profile html i conclude that my inability to view your website with high internet explorer security settings is due to something your isp is doing before my browser really gets to your actual web page i only have trouble when i put http www philippwesche org in the address bar if i put http www philippwesche org profile html in the address bar everyting is fine best wishes',\n",
       " 'your web site is as useless to the public as it is to yourselves i will crash you by god tytytytytytytytytytytytytytytytytytytytytytytytytytytytytytytytytytytytytytytytytytytytytytytytytytytytytytytytytytytytytytytytytytytytytytytytytytytytytytytytytytytytytytytytytytytytytytytytytytytytytytytytytytytytytytytytytytytytytytytytytytytytytytytytytytytytytytytytytytytytytytytytytytytytytytytytytytytytytytytytytytytytytytytytytytytytytytytytytytytytytytytytytytytytytytytytytytytytytytytytytytytytytytytytytytytytytytytytytytytytytytytytytytytytytytytytytytytytytytytytytytytytytytytytytytytytytytytytytytytytytytytytytytytytytytytytytytytytytytytytytytytytytytytytytytytytytytytytytytytytytytytytytytytytytytytytytytytytytytytytytytytytytytytytytytytytytytytytytytytytytytytytytytytytytytytytytytytytytytytytytytytytytytytytytytytytytytytytytytytytytytytytytytytytytytytytytytytytytytytytytytytytytytytytytytytytytytytytytytytytytytytytytytytytytytytytytytytytytytytytytytytytytytytytytytytytytytytytytytytytytytytytytytytytytytytytytytytytytytytytytytytytytytytytytytytytytytytytytytytytytytytytytytytytytytytytytytytytytytytytytytytytytytytytytytytytytytytytytytytytytytytytytytytytytytytytytytytytytytytytytytytytytytytytytytytytytytytytytytytytytytytytytytytytytytytytytytytytytytytytytytytytytytytytytytytytytytytytytytytytytytytytytytytytytytytytytytytytytytytytytytytytytytytytytytytytytytytytytytytytytytytytytytytytytytytytytytytytytytytytytytytytytytytytytytytytytytytytytytytytytytytytytytytytytytytytytytytytytytytytytytytytytytytytytytytytytytytytytytytytytytytytytytytytytytytytytytytytytytytytytytytytytytytytytytytytytytytytytytytytytytytytytytytytytytytytytytytytytytytytytytytytytytytytytytytytytytytytytytytytytytytytytytytytytytytytytytytytytytytytytytytytytytytytytytytytytytytytytytytytytytytytytytytytytytytytytytytytytytytytytytytytytytytytytytytytytytytytytytytytytytytytytytytytytytytytytytytytytytytytytytytytytytytytytytytytytytytytytytytytytytytytytytytytytytytytytytytytytytytytytytytytytytytytytytytytytytytytytytytytytytytytytytytytytytytytytytytytytytytytytytytytytytytytytytytytytytytytytytytytytytytytytytytytytytytytytytytytytytytytytytytytytytytytytytytytytytytytytytytytytytytytytytytytytytytytytytytytytytytytytytytytytytytytytytytytytytytytytytytytytytytytytytytytytytytytytytytytytytytytytytytytytytytytytytytytytytytytytytytytytytytytytytytytytytytytytytytytytytytytytytytytytytytytytytytytytytytytytytytytytytytytytytytytytytytytytytytytytytytytytytytytytytytytytytytytytytytytytytytytytytytytytytytytytytytytytytytytytytytytytytytytytytytytytytytytytytytytytytytytytytytytytytytytytytytytytytytytytytytytytytytytytytytytytytytytytytytytytytytytytytytytytytytytytytytytytytytytytytytytytytytytytytytytytytytytytytytytytytytytytytytytytytytytytytytytytytytytytytytytytytytytytytytytytytytytytytytytytytytytytytytytytytytytytytytytytytytytytytytytytytytytytytytytytytytytytytytytytytytytytytytytytytytytytytytytytytytytytytytytytytytytytytytytytytytytytytytytytytytytytytytytytytytytytytytytytytytytytytytytytytytytytytytytytytytytytytytytytytytytytytytytytytytytytytytytytytytytytytytytytytytytytytytytytytytytytytytytytytytytytytytytytytytytytytytytytytytytytytytytytytytytytytytytytytytytytytytytytytytytytytytytytytytytytytytytytytytytytytytytytytytytytytytytytytytytytytytytytytytytytytytytytytytytytytytytytytytytytytytytytytytytytytytytytytytytytytytytytytytytytytytytytytytytytytytytytytytytytytytytytytytytytytytytytytytytytytytytytytytytytytytytytytytytytytytytytytytytytytytytytytytytytytytytytytytytytytytytytytytytytytytytytytytytytytytytytytytytytytytytytytytytytytytytytytytytytytytytytytytytytytytytytytytytytytytytytytytytytytytytytytytytytytytytytytytytytytytytytytytytytytytytytytytytytytytytytytytytytytytytytytytytytytytytytytytytytytytytytytytytytytytytytytytytytytytytytytytytytytytytytytytytytytytytytytytytytytytytytytytytytytytytytytytytytytytytytytytytytytytytytytytytytytytytytytytytytytytytytytytytytytytytytytytytytytytytytytytytytytytytytytytytytytytytytytytytytytytytytytytytytytytytytytytytytytytytytytytytytytytytytytytytytytytytytytytytytytytytytytytytytytytytytytytytytytytytytytytytytytytytytytytytytytytytytytytytytytytytytytytytytytytytytytytytytytytytytytytytytytytytytytytytytytytytytytytytytytytytytytytytytytytytytytytytytytytytytytytytytytytytytytytytytytytytytytytytytytytytytytytytytytytytytytytytytytytytytytytytytytytytytytytytytytytytytytytytytytytytytytytytytytytytytytytytytytytytytytytytytytytytytytytytytytytytytytytytytytytytytytytytytytytytytytytytytytytytytytytytytytytytytytytytytytytytytytytytytytytytytytytytytytytytytytytytytytytytytytytytytytytytytytytytytytytytytytytytytytytytytytytytytytytytytytytytytytytytytytytytytytytytytytytytytytytytytytytytytytytytytytytytytytytytytytytytytytytytytytytytytytytytytytytytytytytytytytytytytytytytytytytytytytytytytytytytytytytytytytytytytytytytytytytytytytytytytytytytytytytytytytytytytytytytytytytytytytytytytytytytytyty',\n",
       " 'your way to kill the gore',\n",
       " 'your way is overly convoluted difficult to read and way too loosey goosey on the one away list please limit one aways to guys who are at least semi active santino is long retired the way things were was fine as is with no complaints if it ain t broke don t fix it when you have editors telling you to back off then it s kinda time to fold em talk',\n",
       " 'your warnings on users to protect pov pushing friends like this one will be closely watched now on',\n",
       " 'your warning your warning is invalid this is part of a valid debate going on therefore i am disregarding it',\n",
       " 'your warning you warned me for a revert that was justified i had reverted vandalism please check more carefully next time before reverting my revert',\n",
       " 'your warning you might want to redirect that warning to the person who created the page and added the content ferret',\n",
       " 'your warning yes it was my intent to remove info from that article and yes i gavce a reason don t just blind revert changes because you see an ip address make the change it was a good valid explained change and one that s going to stay',\n",
       " 'your warning was just a little late i ve already been blocked indef',\n",
       " 'your warning to you reverted this change by special contributions and gave him a level warning i m just a vandal fighter who ran across this change but it doesn t seem appropriate to me the ip s reversion was to delete his own posting minutes earlier perhaps he had second thought or realized it was in the wrong place in any case it doesn t look like vandalism and the level warning for the first warning in months also seems a bit excessive is there i something i don t know to explain this',\n",
       " 'your warning to rex germanus i ve made good on your warning please feel free to refactor the block if i ve misunderstood the situation talk',\n",
       " 'your warning there is a difference between asking a relevant question and attacking an editor you should very closely try to understand this difference before threatening other editors with punishment in the future you should try to keep in mind wp civil wp agf when dealing with others otherwise you risk being perceived as ignorant of wikipedia rules and eager to engage in inapproriate behavior',\n",
       " 'your warning concerning littlegreenrosetta context http en wikipedia org wiki talk ys series which version of text is more preferable with respect to grammar and the mos f http en wikipedia org wiki wikipedia administrators noticeboard incidents user targetting my edits you said you may not remove the comments of other editors on talk pages you need to drop the wp battleground mentality and this idea that every edit you make cannot be changed this is a wiki this requires collaboration and consensus building if you are not interested in working in a collaborative editing environment this is not the place for you the next time you attack another editor or revert simply because you don t like something you will be blocked i resent your accusation or attempted generalization of my position being that every edit made cannot be changed and that i am not interested in a collaborative editing environment you re accusing me of wp battleground mentality and that is exactly what i would say about http en wikipedia org wiki user little green rosetta in the original situation i felt the prior individual excising my paragraph was doing it because of a particular grudge animus i could be wrong about that but that is what i felt and i also felt the paragraph was good enough as is you seem to be advocating that it s ok for those to undo or revert my changes edits but not the other way around simply because an adversary littlegreenrosetta contacted you first about what happened and gave you his her spin on things this user made that section on the talkpage as part of a harassment campaign that came about from a prior incident with somebody else this was not because of genuine interest in the article and its improvement it simply came about because of a grudge against me in particular that s not well meaning or a good faith action to get a better result it s simply animus and hate furthermore how do i know that you re not friends with this individual and are judging this fairly you really appear to be playing favorites here',\n",
       " 'your vote on wikiquote simple english when it comes to using sysop tools i am not clueless because i have a site that is on wikipedia that tells me how to use them i understand being a sysop does not make you better than everyone else will you please reconsider your vote also i have time to practice using my tules before i will have to use them for real i will practice protecting pages by protecting then unprotecting my user page i will delete and then undelete my talk page i will make a account then block it i will make a edit on my user page and then revert it please reconsider have a nice week and god bless',\n",
       " 'your vote on davien crow you said they are not notable please review the rebuttle i posted the fact that everyone from marilyn manson to suicide girls and large internet sites like roc detector and megametalonline and more importantly smnnews should be proof enough are involved with davien crow and his band sin star should be enough but i have covered most of this already i am asking you kindly to please review the facts and consider changing your vote to keep the article look the point summarized is i am willing to work with you guys on why these were deleted but until now noone has given us any feedback and has even lied about stuff trying to get it deleted all of them meet the sufficient amount of requirements for wp music the guidelines in wp criteria for inclusion of biographies wikipedia importance wikipedia notability the fact that suicide girls gidget gein and marilyn manson are involved and can be verified in those links should proove that wikipedia fame and importance mainly the part stating there is clear proof that a reasonable number of people are or were concurrently interested in the subject eg it is at least well known in a community if you can t tell the community of myspace com and livejournal com alone are enough to meet this criterea you are blind if you do google searches go to forums and search their names or visit internet archives you can find un disputable information on the band from reputable sources first hand accounts that are years older than these discussions and intangible archives kept by internet archives if you want more detail read my above rant your right i do sound mad about this because i can t see how you can say they do not meet criterea or that this is a vanity page please accept my apologies for anything you have taken to be rude and please re consider changing your vote what harm could it do btw i am not trying to bully anyone i can show you the location of the people threatening to come here and vandalize the hell out of wikipedia but i do not want that to be part of your decision at all please reference the large rebuttle on the discussion page itself i have posted this i hope that some of you will consider looking for my information and reconsider your vote for now a lot of people are simply responding to the rudeness of user sin thetik and some things i said are being misconstrude as threats i am simply upset because of all the time it took to write these articles knowing they fit the guidelines only to have somone delete them with the proof and verifiable facts right in front of them just their un willingness to read them please think it over i appreciate your time i m just a fan girl trying to be the first to get an article up about them since i have been running a fan site about them for almost years now please think it over',\n",
       " 'your views of the editor s position are distorted i don t mind using beevor or any other of the saint trinity mentioned by you above as far as using them follows wikipedia guideline stay with the facts mostly relics isn t fact it s a personal assessment you seem to push on authority of the trinity and willing to put into article anything just coz they mere say so i appreciate your effort in trying to find the factual basis behind their statements but when you realized that there is none the next step became too hard to take the source with criticism of the saint trinity s research obviously does not exist coz nobody knows cares about them outside of english world and inside they seem to be taken with religious zeal the systemic bias by it s nature can not be countered by giving weights since this is exactly the way it s introduced blindly following guideline this is verifiable so shall be in while ignoring other stay with the facts will mere make wikipedia a collection of cliches and stereotypes popular among the prevailing editors this is reflected in details on the systemic bias page according to the guideline they should seek to improve articles by removing any examples of cultural bias that they encounter or making readers aware of them i ve put the warning tag',\n",
       " 'your view is classic pov rankings are a matter of public record just like every other subjective thing at wikipedia the standard is the acceptability of the reference i m sorry if you have a personal problem with ivy league schools that s your issue i attended the university of oregon a public school but i m not carrying any chips about those more fortunate than i who went to the snooty schools and your issues have no relevance here',\n",
       " 'your viciousness is beyond limits and you re clearly not up to date regarding the photo the photo has been released under the required accompanied by the requested statement by epa that the photo has still not been undeleted is an example of mob rule as simply as that the fact is that other people agree with me that theobald tiger s text that you co edited is simply a character assassination of heleen mees that doesn t make them sock puppets just people who disagree with you',\n",
       " 'your vfd vote on ourcolony i ask you to reconsider ourcolony was not created to circumvent the vote on ourcolony net but infact was created days prior to your vfd submission check the history of the two sites and see for yourself ourcolony history utc on monday april',\n",
       " 'your very smart arent you well guess what ye may have got rid of me again but im already back ye need to realize ye can report me all ye like but i will keep coming back and there is nothing ye can do to stop me',\n",
       " 'your very odd messages re vandalism and blocking i think it would be as well for you to double check your info re my email address and any problems you have had are having to discover your messages i looked at your site for the first time and can totally refute any notion that there have been dabblings with your site by myself or this aol connection kindly adjust your records s armstrong',\n",
       " 'your very deeply offended man you sound like a blow jobbin old lady in fact you are a homosexual blow jobbin old lady',\n",
       " 'your version of truth may be very different from another person s version of truth',\n",
       " 'your version of glory hallelujah is so pacifistic in the old south it was glory glory hallelujah teacher hit me with a ruler hid behind the door with a loaded now she ain t gonna teach no more nov utc',\n",
       " 'your version looks like totally biased may i know your details and how you are to tell others noyogis came through satavahans earlier there were no brahmans in south india and noyogis do practice preist hood and later in course of time they concentrated on administration and niyogis don t know who are bhumiharis follows rig veda and sukla yejur veda for time being i am making some modifications later i will change the whole prathamasaka niyogis do found in maharastra and up and m p parts of india',\n",
       " 'your vernacular regarding codswallop was unfamiliar to me it prompted me to research it so i thank you kindly for exposing me to such a new and exciting term i understand your role here with the wikipedia machine but you were not the original person who recognized the statement as a fact just as i researched codswallop you should perhaps learn about go codes they mean very little if they aren t authorized which of course implies it s been previously verified and authenticated using the accepted three party system they are the basis for any and all permissions within the digital world and in anything involving the use of the warmer portion of the stratosphere for exploratory or associated research purposes',\n",
       " 'your vandalism to the matt shirvington article has been reverted please don t do it again or you will be banned',\n",
       " 'your vandalism thanks i needed a laugh',\n",
       " 'your vandalism reverting my rational change to ayn rand wasn t just vandalis it was a bait to trick me into violating rr like your buddy steve see you in hours dummy',\n",
       " 'your vandalism please stop your stupidity note that continued stupidity may lead to blocks for idioticy keep this in mind while editing',\n",
       " 'your vandalism please stop if you continue to vandalize pages you will be blocked from editing wikipedia',\n",
       " 'your vandalism on vani hari please revert your bad faith vandalism of vani hari in the removal of an entire criticism section you claimed that the sources were unviable but self published expert sources may be considered reliable when produced by an established expert on the subject matter whose work in the relevant field has previously been published by reliable third party publications if you do not revert i will be forced to report your vandalism',\n",
       " 'your vandalism on british raj page please call for a vote if you feel that there is a consensus on the current description of the british raj article if not please stop reverting the npov tag until all issues are resolved your attempts to remove npov tag from british raj article constitutes vandalism',\n",
       " 'your vandalism of keith briffa dear dr schulz could you please immediately stop vandalizing the article about keith briffa thank you very much are you a sockpuppet of william connolley',\n",
       " 'your vandalism i said the critics were alleged to be criminals etc why did you take offence and accuse me of things you have never met me you can go fuck yourself you brainwashed wanker',\n",
       " 'your userpage you might want to consider removing some of the info on it there are some nasty people out there',\n",
       " 'your userpage was briefly delisted by a rogue admin you have a userbox template user un which links your userpage to united nations wikipedians there is currently a movement to ban userboxes from wikipedia which are shared and which create lists of wikipedians certain admins have taken it upon themselves to preemptively sabotage and or delete such categories and template here is the incident report which reported damage to yours in which hundreds of userpages were delinked from categories without the users knowledge they have been stopped barely and the damage reverted for now there is a wikipedia userbox policy poll which if passed will make required by policy the damage done to categories and templates such as user un united nations wikipedians if you do not want this to happen i urge you to vote oppose in the poll support is currently running at about and your vote could make the difference it is said to require to be deemed reflective of consensus thank you',\n",
       " 'your userpage says that you are interested in removing dead links and according your contributions you actually did remove dead links from prodigious amount of articles please note that instead of removing a link to a dead article you should actually try to invoke an archived copy of that specific article if you can t find an archived copy then you can simply tag it as a dead link or replace it with a working link a simple google search would help you to find sources we have tag for a reason best talk',\n",
       " 'your userpage it would be easier if it were the right side up',\n",
       " 'your userpage is ready i hope you like the results dear alan tho i must say i ended up making something that doesn t really comply with your expressed wishes of strong colors i have no need to tell you that if you don t like the design please don t feel compelled to use it as i don t have the slightest problem to make a new one if needed nor i would be offended at all however i must confess to you i like the design myself even tho it s not right that i say so and normally i never do trust me i hope you re doing fine dear talk to you later love',\n",
       " 'your userpage is in a category x px link alt your userpage describes this is undesired it is suggested that you edit the userpage to prevent this showing it can be done by adding a colon before the word category like this category inactive project pages',\n",
       " 'your userpage i suggest you move the table of contents box to the other side that way at least the beginning of the text you wrote can still be viewed it is kind of squished into being unreadable betwen the picture and the table of contents box another option is the template',\n",
       " 'your userpage i moved the information on mark a gonzales to',\n",
       " 'your userpage i have deleted your userpage if you continue to use wikipedia as a promotional tool you will be blocked from editing consider this your last warning',\n",
       " 'your userpage i have deleted your user page it is intended for basic information about yourself or your wikimedia related activities although a lot of leeway is allowed in personalizing your user page it is not a personal website blog or social networking medium nor should it be used to promote yourself or host a fake article cv or lengthy biography please do not be offended and please feel welcome here i encourage you to help build the encyclopedia if there is anything you ever need just ask best wishes',\n",
       " 'your userpage hi i notice you are a younger editor and have posted personal information at your userpage i have deleted it please visit wikipedia guidance for younger editors and don t reveal personal info like age address name be safe and good luck',\n",
       " 'your userpage hey i ve just changed some things on your user and user talk pages because they overlapped with the interface on the user page the black box covered the navigation interaction search and toolbox bars logo upper link bar tabs and footer and on the talk page the header covered the sitenotice fundraising bar and the find me bar interfered with some extended toolboxes no s st',\n",
       " 'your userpage has been deleted please see wikipedia miscellany for deletion user santino noir you may recreate a userpage but first please see the userpage guidelines here wp userpage thank you talk',\n",
       " 'your userpage as i said before i like your userpage a lot would you mind if i made a few tweaks to make some of the text more readable you can revert my changes if you don t like them',\n",
       " 'your username your username suggests shared use which is not permitted if you have a minute create a personal account to make it clear that you re editing as a single individual rather than as an organization',\n",
       " 'your username sorry if you ve had to answer this a thousand times but why are you using two accounts in this manner for one redirecting your user talk page breaks some scripts that try to leave you xfd notifications and the like so it can result in messages getting left on the wrong talk page but being invisible because that page is still a link but more than that if you are going to be exercising your administrative tools you really need to pick one account and use it for transparency if you are trying to work around sul ie if al tally is your sul name but majorly is your preferred identity here there is another way around it you can use the wikimedia secure server here and the regular server everywhere else or vice versa they have two separate sets of credentials and that s what i do someone else has user b on commons so i use user userb there and i simply use the https urls for commons and the http urls for wikipedia',\n",
       " 'your username niggerspicjew has been blocked indefinitely because it is either inappropriate or too similar to an existing username see our blocking policy for more information you are encouraged to create a new account and contribute to wikipedia under a more appropriate username and in a constructive manner see wikipedia username for guidance on selecting an appropriate username you may also edit wikipedia without creating an account if you would like to discuss the block you may edit your talk page or email the administrator who blocked you october',\n",
       " 'your username hi yamaguchi how about this for a compromise you register the name yamaguchi and create the pages',\n",
       " 'your username hi i don t know if you re aware of this but your username is nearly identical to mine in fact it s just a capital letter short of being identical to my original username located at wikipedia s username policy prohibits creating a username that could easily be confused with that of an active contributor would you please consider changing your username so as to avoid confusion between our accounts please reply here i ll keep this page on my watchlist thank you',\n",
       " 'your username hello i could not help but notice your username and wonder is it a reference to the navy seal gorilla warfare copypasta internet meme or did you make it up yourself you probably get asked this a lot but i was just curious as to which it is',\n",
       " 'your username hello and welcome to wikipedia i hope not to seem unfriendly or make you feel unwelcome but i noticed your username and i am concerned that it might not meet wikipedia s username policy after you look over that policy could we discuss that concern here i d appreciate learning your own views for instance your reasons for wanting this particular name and what alternative username you might accept that avoids raising this concern you have several options freely available to you if you can relieve my concern through discussing it here i can stop worrying about it if the two of us can t agree here we can ask for help through wikipedia s dispute resolution process such as requesting comments from other wikipedians wikipedia administrators usually abide by agreements reached through this process you can keep your contributions history under a new username visit wikipedia changing username and follow the guidelines there',\n",
       " 'your username has been blocked',\n",
       " 'your username change request your username change request is now properly formatted a bureaucrat should get around to changing your nickname within the next day or so thank you for your cooperation cheers contribs',\n",
       " 'your userboxes i ve removed two of your userboxes which claim apparently falsely that you are female and that you serve in the british army per your reversion will you kindly address this inquiry some reason you re blanking my comments rather than addressing them',\n",
       " 'your userboxes i ve removed two of your userboxes which claim apparently falsely that you are female and that you serve in the british army per your reversion will you kindly address this inquiry',\n",
       " 'your userbox was deleted',\n",
       " 'your user page well this is strange look at this not sure what you were doing with this edit but you could have achieved the same result by hitting rollback on yourself with the edit that followed i see you use rollback everywhere else so tell me did you go to school to be stupid or were you born with this condition',\n",
       " 'your user page the excellent user page award i like how your user page has turned out so i decided to give you a barnstar for it nice job and keep up the improvements talk my mistakes i mean er contributions',\n",
       " 'your user page quote do you really think this is appropriate you are in conflict with this editor and to do something like that which would only serve to antagonize him does not seem to me to be the best way of bringing this conflict to a satisfactory conclusion in the interests of civility and cooperation i ask you to remove the quote',\n",
       " 'your user page please don t add article space categories on your user page if the user page ever gets moved to article space then you can restore the categories',\n",
       " 'your user page nice pink floyd reference i prefer meddle these days though apr utc',\n",
       " 'your user page is inaccurate why does your user page still display inaccurate information ghandi',\n",
       " 'your user page is fine to use user boxes copy the code of a couple from someone else s user page what do you have in mind',\n",
       " 'your user page indicates you re a left wing liberalist bastard why is in wikipedia so much left wing scum',\n",
       " 'your user page how did you do that with your user page so vandels will have problems i must know this is ingenious play',\n",
       " 'your user page hi me again you may wish to consider removing user miszabot config algo old d archive user talk example archive counter d counter maxarchivesize k from your user page as it is instructions to a bot to archive talk pages feel free to place it on your talk page however best t shaelchat',\n",
       " 'your user page hi charlie i moved the article created at charlie vansant to your user page as you and the anon that created the article have edited the same articles i am guessing you are the same person if this is not the case please message me and i will move the article back and send it through vfd thanks august utc',\n",
       " 'your user page hello welcome to the wikipedia even if you had a bit of a rocky start that has happened to most of us may i congratulate you on your conduct at the teahouse very nicely and gracious done the page you accidentally wrote your article on is called your user page it is meant to be used by you and describe your intentions here at the wikipedia i have taken the liberty of re creating it for you if you need any help here are some tips on how to make your user page or you can just click around and look at some other users pages and see how it s done for making your user page look nice see wikipedia user page design center you can also clone borrow steal the code from someone else s user page just ensure that you change it enough that it does not look like you are trying to impersonate the other user wikipedia user pages is a good guide as to what kind of things are appropriate in user space and when you use the work someone else has created in the edit summary please attribute the work to them by naming the user you copied the content from if you want to add userboxes you can start here wikipedia userboxes there are also many many customized userboxes floating around on user pages in the wikipedia if you find one you fancy just copy the code from the page if you are further interested in defining yourself and your style thera is also the cheers talk',\n",
       " 'your user name or ip address has been blocked from editing you were blocked by mongo for the following reason see our blocking policy repeatedly this editor has been blocked and now once again for harassment i am blocking him again your ip address is',\n",
       " 'your user name or ip address has been blocked from editing you were blocked by bishonen for the following reason see our blocking policy personal attacks and disruption on talk democratic national committee your ip address is',\n",
       " 'your user name lol',\n",
       " 'your user name is stupid stopgiving me warnings you batty',\n",
       " 'your user name hello and welcome to wikipedia i do not want to be rude but i wanted to contact you because there is some concern over your user name particularly that it may be a violation of wikipedia s username policy in that it might offend some other folks because of its religious connotations particularly the use of thebig jesus in any event would you comment on the meaning behind your name and perhaps explain why you chose it as well as let us know whether you d consider changing it please respond here or on my talk page thank you in advance t c',\n",
       " 'your use of the tags is inappropriate',\n",
       " 'your use of rollback on american civil war was that a mistake you shouldn t use rollback for those kinds of edits talk',\n",
       " 'your use of multiple wikipedia accounts talk to me',\n",
       " 'your use of multiple wikipedia accounts talk new thread',\n",
       " 'your use of multiple wikipedia accounts',\n",
       " 'your use of capitalization and the repeated use of alleged in all the headings is highly unnecessary please read the wikipedia manual of style before making such edits i am reverting your back to vespine s version with regards talk',\n",
       " 'your up statement giano and bishonen are already back hopefully you ll be too and happy new year',\n",
       " 'your unsupported accusation remains in the edit summary i am suggesting that if you do not want the block that was applied because you made unsupported sock allegations to be extended because you continued to make unsupported sock allegations because the allegations are in an edit summary you will need someone with a mop or better to clean it up for you or you can make no efforts to remove the allegation but if you fail to take action it should not come as a surprise to you when the block is extended trpod aka the red pen of doom theredpenofdoom i d assume wikipedia is the biggest part of your day it s actually the smallest part of mine i genuinely don t care about blocks or about user gamaliel gamaliel s interest in banning me it s not on my karma',\n",
       " 'your unspeakable behaviour please stop sending ill written messages to my talk page i will continue to edit the satanism reference till it goes to mediators arbitrators who hopefully employ reason rather than emotion in dealing with conceptual disputes you have engaged in personal attacks with regard to everybody including the people you call vandal coddling admins at wikipedia the only thing they seem to be coddling is your foul fiendish conduct stop you violate every wikipedia rule of professionalism and seem to get away with it i order you to stop aoluwatoyin',\n",
       " 'your unsourced talk of racism in this edit summary and elsewhere is surprising and upsetting you should be aware that the article scientology in germany is subject to an arbcom case which your recent edits seem to violate if you join the discussion at wp ae user wispanow and promise to behave better in the future there may still be time for you to avoid sanctions',\n",
       " 'your unsourced tags hi i ve seen that you ve added various unsourced tags to soap opera articles that mostly consist of plot but if you don t already know plot summaries usually don t have to have citations see where this is addressed in the wp soaps guideline and this discussion wikipedia talk wikiproject soap operas archive storylines sections lack references',\n",
       " 'your unsolicited and unwanted comments on my discussion page hey mr i do not take kindly to being scolded about my wikipedia edits by the likes of you and you would be best advised not to foul my discussion page again in the future with your unsolicited and unwanted nasty comments am i making myself perfectly clear',\n",
       " 'your unsolicited and unwanted comments on my discussion page hey mr i do not take kindly to being scolded about my wikipedia edits by the likes of you and you would be best advised not to foul my discussion page again in the future with your unsolicited and unwanted comments am i making myself perfectly clear',\n",
       " 'your unidentified flowers i collect very different and interesting plants i don t really have any flowers however my mother keeps a garden your number six is definately a daffodil and number one and seven are probably daffodils too the taxonomy of daffodils is quite large but they are all of the narcissus family number also could be a narcissus hybrid number two is definately a type of violet viola genus the common violet is viola papilionacea but yours is too blue number is prolly a forget me not myosotis scorpioides number nine is a wild pansy viola tricolor my mother thinks the number three is a clematis but no confirmation is possible we don t have any idea what the number is i realize that you are on indefinite vacation but should you return this will be here i might also break down and categorize your pictures',\n",
       " 'your undocumented updated are now removed',\n",
       " 'your undo of my edit iis totaly stupid im redoing my edit and keeping it like it preceding unsigned comment added by',\n",
       " 'your undo of my deletion re article jennifer oneill pic of her speaking at a public forum to mike waznowski look i was the one anyway who submitted that pic of the subject of the article speaking at a public forum in washington d c because the prior pic was removed due to an alleged copyright violation so your alleged basis for undoing my deletion was not justified since i was the original one who submitted the pic in the first place this pic which was nominated for speedy deletion was taken at a public forum and submitted in good faith by me but was deleted anyway andi did include an explanation and did not deem it necessary in the talk history to include this i e info that a prior pic had been deleted as it did absolutely nothing to contribute to the article i would add that for some unknown reason you continue to attack me personally and undo virtually all of my edits here you even undo my edits on the talk page you are obviously intent on engaging in an editing war with me and i simply do not know why your editing here consists of nothing more than destructive deletions undo s and reverts of virtually everything i have submitted if it ain t broke don t fix it should apply here instead of the motto if it ain t broke fix it until it is in other words there is something to be said for leaving well enough alone some folks think something is just not good enough until they get their hands on it to destroy what they can just because they can there is a place here to be constructive which you clearly are not being and this is my opinion which i am expressly calmly coolly and politely',\n",
       " 'your understanding of canvassing and consensus appear to be as flawed as your understanding of extrapolation',\n",
       " 'your understanding is wrong eu currently believes ej is occupied read here and see here the cia world fact book map showing the west bank together with ej and clearly marking it as being occupied territory you have been flooded with an overwhelming amount of evidence have provided none of your own besides unsourced literature and candid letters have branched this subject in to multiple topics ultimately discussing the same thing making the debate all that more difficult you are quite frankly being disruptive at this point',\n",
       " 'your under my talk and discussion and your posting a violation about me to benefit your personal interest for a guild you belong to named shadowclan the only person harassing and making personal attacks is you your unfairing warning me and are unfit to edit the discussion with more violations since your obviously doing this to benefit yourself and shadowclan',\n",
       " 'your under arrest ma name is di tyler and your underarrest boi',\n",
       " 'your unconstructive edits please stop making unconstructive edits and consider making productive contributions instead if you continue to vandalise pages you will be blocked from editing wikipedia thank you o',\n",
       " 'your unconstructive edits are beginning to be a real drag on wikipedia please stop',\n",
       " 'your uncivil threats your uncivil threats and bad faith behavior have been reported to the rr noticeboard vandal',\n",
       " 'your uncivil friends refuted or were you saying something to the over people who ve downloaded this refutation of you re lies http www mininova org tor and so that everyone can see part of it here joshuaz said starfire as i tried to explain to you wikipedia cares about reliable sources and verifiability not truth now if you read that guideline you may understand why in general aig and many of the other sources you used are not reliable sources hey joshuaz the liar where does wikipedia s policy say that answersingensis org is not a reliable source where joshuaz the vandal and liar show us so you think saying now is scientific evidence that you are a wise and intelligent teller of the truth or that you know what a reliable and verifiable source is joshuaz where does wikipedia s policy say that the jacob sheep association a reliable and verifiable source that jacob sheep are biologically primitive you hypocrite explain that hypocrite who personally attacked starfire using lies show your references joshuaz saying now is not a reference that your accusations are true are they why can t you make sense joshua again where did those verses prophecy anything do these look like prophecies joshuaz joshua also said in this case they did have sources so you have even less of an argument wrong joshuaz simply citing sources as you yourself said does not make the source valid it must be substantiated and verifiable why do you conveniently forget that you smug babbling hypocrite your later comments don t merit much of a response but i wthen he said ill simply note that accusing people of bigotry bias hypocrisy irrationality and trolling makes my earlier comment about not using darwinist as a slur somewhat irrelevant because you said so joshuaz and whatever you said is true is true because you said so so much for references eh all you have to do is accuse and it makes you right right hypocrite see how you go round and round in circles using circular reasoning if your earlier comment toed the line the one above crosses it because you said so joshuaz and whatever you say is true because you said so science i suggest you calm down i suggest you not use sarcastic insults like that ok hypocrite you re implying that the starfire is ill tempered merely because he points out that you are hypocrite and uses logic to do so as well as verifiable references on answersingenesis com which you lied about not being reliable and being against wikipedia s rules to cite ok liar i suggest you also not command a christian to follow your moral standards over christ s over god s he is a christian don t ya know are you now god to tell him how to feel and think i suggest you read this verse and take it to heart which millions of christians know very well so that you learn how not to offend them again be angry and do not sin do not let the sun go down on your anger and give no opportunity to the devil ephesians last time i checked joshuaz neither your nor wikipedia s rules superceded god s and read the relevant wikipedia policies and guidelines while you wait for your block to expire oh the old you need to read it but i don t and you sit and think while your grounded young man insults what an arrogant childish hypocrite you are i suggest that you stop pretending that whatever you say is true merely because you said it and again learn what starfire properly told you to learn i ll enhance the list for you reference evidence truth reality lie bigot hypocrite fallacy circular reasoning troll stalking harassment insults hatred and love and joshua also said this is in addition to issues of original research in regard to biblical prophecies and other issues on the charles darwin page wow you sure like to weasel word other issues what are you references for this vague other issues joshuaz the policy master of wikpedia and joshua who said anything about prophecies where did starfire say anothing about prophecies no joshuaz the wannabe scholar he said predicted in the same way that science can be used to predict the outcome of an experiment if your lazy brained truth careless self had been paying attention to what he said care full y you might have noticed that the verses were using past tense joshua not future tense joshua if you are unable to tell the difference between past tense and future tense what business do you have playing judge if y',\n",
       " 'your uncivil and unsupported attacks on me as a person your attack on me on the roesgen talk page was unacceptable please withdraw your unsupported uncivil attack against me',\n",
       " 'your unblock template below says that the block was imposed by petersymonds i ve asked him to examine the situation',\n",
       " 'your unblock request will be reviewed shortly',\n",
       " 'your typing is amazing there you are looking square at your pancreas and you still manage to hit most of the correct keys as for you commentary it is remarkable to find so much intellectual and syntactical chaos in an assertion that contains no more than fifteen words nazis i understand nazis and their fascism and it is clear that i am dealing with one here here are a fewer other things that wikipedia is not very good and a cure for homosexuality',\n",
       " 'your typical semi religious or non religious jew cannot relate to being a christian to them that that term synonymous with being a gentile something very different so tarring all jewish believers as christians meaning gentiles is a rather transparent attempt by hostile forces to this movement to thwart their attempts at evangelizing jews that more than anything related to accuracy or theology is why these forces insist that messianic jews be called christians',\n",
       " 'your type os you didnt like my comments on your type dont be a cry baby ok you breakin mah hard hat',\n",
       " 'your type is a dime a dozen these officers and deputies were brought to the attention of myself leutenants captains and commanders by leading citizens and even other officers who felt they were working against the best interests of the particular department a truly good police officer or deputy knows how to use their position of responsibility as a service to a community your kind is what we call a the only place you are good for is gee i can t think of one as to be a good police officer one must keep his head and be a role model for a community even the wikipedia community you exemplify a role model for at most a prison guard try and learn something from this exchange and ask yourself a few honest questions and answer them honestly the day will not come where i back off or cow tow to the likes of you',\n",
       " 'your two ass and my single penis how about threesome',\n",
       " 'your tv impressions go in the right direction but both of us don t have the basis to tread them systematically heissig s book won t do he treads literature well into the s of the th century but only those kinds of literature the tradition of which began earlier unfortunately but not unexpectedly the library of bonn seems to contain no books that tread literature after the mid s maybe g ttingen or i might buy something myself in late summer silly that',\n",
       " 'your turn help i feel like im going to kill myself preceding unsigned comment added by',\n",
       " 'your trolling on mine jog on',\n",
       " 'your trip to london hello and thanks for the pics there is a great deal more to be had in the british museum especially their pottery collection now if i can only get you to travel to crete',\n",
       " 'your tool edit count summary i was wondering if your count summary used on tangotango s rfa was self made or generated by a bot if the latter i may like to write one thanks t',\n",
       " 'your time you suck because you are right it is the third and i don t remember yours still lol i wanna say its in october but something tells me it isn t',\n",
       " 'your time will come',\n",
       " 'your threats to have me banned from editing are quite childish i truly feel sorry for you because you must have had something really bad happen to you in the past that created such inane hatred for a complete stranger do whatever you have to do but it s not healthy to have so much hate in you',\n",
       " 'your threats don t work motherfucker i don t care if you block this ip address forever you ll never know who i am you ll just prevent other people from using wikipedia which is fine by me and i will continue to challenge your lies i have plenty of ip addresses and plenty of user names',\n",
       " 'your threats are empty i don t really give a rats about making wikipedia better any more is pretty tame on the scale of wikipedia comments it was also a response to incivility towards me by another experienced user i also don t expect assistance i expect bureaucratic nonsense which is exactly what i m getting it s just funny how freely it flows here',\n",
       " 'your threatful behavior without looking into the essence of edits is disgrace to wikipedia',\n",
       " 'your threatening behaviour your constant blocking and sabotage of my edits is tantamount to staliking are you stalking me are you threatening me steve is this what youre about threatening and harrassing me why do you keep stalking me through wikipedia are you a twisted wacko do you wish me harm why why are you harrassing me leave me alone you racist wacko',\n",
       " 'your threatening and belligerent behavior is beginning to frighten me please note that the friendly notice transparent open and neutrally worded is not canvassing please just accept that your argument has proven convincing and that a fascist should be linked to the portal',\n",
       " 'your threat you have threatened to block me but clearly this user s vanity page has been compromised by his own editing of it no is wikipedia the encyclopedia anyone can edit who agree with a certain cabal of administrators',\n",
       " 'your threat to clarify my edit summary talk page fascism was not a personal attack it was and is a statement of my concern about peremptory actions taken by you on the michael ignatieff talk page it was a warning to all who read it i do not appreciate you threatening me with a block your blood seems to be running hot be careful be civil',\n",
       " 'your threat c to clarify my edit summary talk page fascism was not a personal attack it was and is a statement of my concern about peremptory actions taken by you on the michael ignatieff talk page it was a warning to all who read it i do not appreciate you threatening me with a block your blood seems to be running hot be careful be civil',\n",
       " 'your thoughts on danski post your thoughts and comments why did you delete my page',\n",
       " 'your thoughts i m going to push your thinking from microbiological to a whole new area can you take a look at extinction event evolutionary importance of mass extinctions it makes a lot of references to extinction events and evolution i honestly have problems here because extinction events are not a fundamental driver of evolution speciation ok i can buy that i know you re busy and all but maybe you can take a look and help reword it i haven t studied evolution in many many years so maybe this section is accurate although i don t believe it thanks',\n",
       " 'your thoughtless edit when you did this edit did you read the next following sentence if it is discovered that two or more of these conditions hold then all of them hold and zfc a is inconsistent and zfc a is inconsistent in this case these axioms would no longer be considered large cardinal axioms you are supposing that this cannot happen that is that none of the large cardinal axioms will ever be found to be inconsistent even though this has repeated happened in the past',\n",
       " 'your the troll fine welcome to this encyclopedia why do you do this it is hurtful to call anyone a troll specially if they came with a question for judy blume not a troll fine keep it then and get herpes',\n",
       " 'your the thickest im still in school and i bet ill come out of school much better than either of you did so your even thicker than a child leso',\n",
       " 'your the one claiming copyright violations so the burden of proof is on you',\n",
       " 'your text indicates directions of rotation using counterclockwise and clockwise notations with horizontal viewpoints and horizontal rotation these terms are meaningless with a vantage point specified since you are such a perfection freak i thought you may be interested in the definition clarity not normally used from the top is usually assumed by most lol i always laugh when people get caught on the cup half full being a pessimist thing i was trying to empty the cup this is my segue into needing an article on magnesium bis gycinate you seem like a very good candidate for an article of this nature i have already been bullied and harrassed too many times to even attempt it thanks mixed message or what',\n",
       " 'your test worked thanks for experimenting with wikipedia your test worked and has been reverted or removed please use the sandbox for any other tests you want to do take a look at the welcome page if you would like to learn more about contributing to our encyclopedia thanks slo mo',\n",
       " 'your test has been reverted please do not gratuitously remove content from wikipedia it is considered vandalism if you would like to experiment please use the sandbox thank you talk to nihonjoe',\n",
       " 'your test edit thank you for experimenting with wikipedia your test worked and the page that you created has been or soon will be deleted please use the sandbox for any other tests you want to do take a look at the welcome page if you would like to learn more about contributing to our encyclopedia',\n",
       " 'your tenetuous editing mailer diablo why do you fear christians i respect your right to be ignorant of gods word but running a cabal to oppress christians is downright discriminatory and hateful please i would like to open a dialogue and help you come to terms with the of americans who believe in christs love',\n",
       " 'your tenetuous editing arbustoo why do you fear christians i respect your right to be ignorant of gods word but running a cabal to oppress christians is downright discriminatory and hateful please i would like to open a dialogue and help you come to terms with the of americans who believe in christs love',\n",
       " 'your tendancies to be editor of financial topics in general and credit cards in particular my goodness what will you do when wikipedia itself begins to show advertisments protest the whole endeavor',\n",
       " 'your template please make sure your newly created template s do not have bug and please do not put archbishop of canterbury and archbishop of york into the your template as they have their respective templates used consistently for all archbishops of canterbury and york',\n",
       " 'your team wtf is up with the marlins i don t like them but anything is preferable to seeing the mets run away with it talk',\n",
       " 'your teahouse question you received responses talk contributions',\n",
       " 'your teahouse question has been answered',\n",
       " 'your talk page hi your user talk page is a place of others to communicate with you and for you to communicate with them it isn t a great place to compose an article i d like to suggest that you create a user subpage like for example',\n",
       " 'your talk of the creation of a pedophile porn website prompted me to provide an update to the notice about you at an i you may wish to comment there',\n",
       " 'your talent at invoking personal attack seems to exceed your talent at replying intelligently to any of my points if you can t take the heat you shouldn t be editing an encyclopedia it s pretty clear that wikipedia s personal attack policy is simply a ploy to ban people with whom the administrators disagree and prevent them from making contributions to wikipedia while at the same time preserving the illusion of some level playing field for intellectual discourse to illustrate this point we need look no further than the items removed by jimbo from the justin berry talk page citing personal attack which included every mention of the term camwhore which is itself a wikipedia topic and the following paragraph please feel free to try and figure out who is the victim of the personal attack here i m dissapointed that the majority of this page was deleted most likely because one of the editors is a self admitted pedophile is it fair to declare that a pedophile can t be neutral on a page that involves pedophilia i guarantee that wikipedia wouldn t ban a jew from editing a page on the holocaust or ban a black person from editing a page on affirmative action a pedophile is just as capable of editing with a neutral pov on a subject matter dealing with pedophilia as a jew or a black would be on an issue that involves jews or blacks wikipedia claims to be a online encyclopedia that anyone can edit if that doesn t include pedophiles than how is that fair if we allow certain sexual minorities to be silenced what s next allowing certain racial minorities to be silenced as well as a frequent reader and occasional editor of wikipedia i only want to read factual neutral pov articles and i don t care about the race nationality ethnicity sex or sexual orientation of the editor even if most people have moral objections to pedophilia surely we can agree that we all have a right to post on wikipedia as long as we abide by the rules tab you people talk a good game but what you say and what you do are two entirely different things',\n",
       " 'your tag on page failship why did you place a hoax tag on the failship page could you please explain',\n",
       " 'your table looks good and can save space except the light salmon color which is almost complementary color to the korean infobox i just wanted to fill up missing films on the list and to make the section tidy the table can have more information like actors',\n",
       " 'your swearing and personal attacks towards me doesn t put you in a very good position either especially since i didn t initially start arguing with you why are you in this anyways what does me and hangingcurve blueboy have anything to do with you',\n",
       " 'your susgestion to improve the article is',\n",
       " 'your supposition that they re nearly exactly the same sounds awfully like original research did gygax or anyone else ever point out the similarity or that they had developed the calendar from these real world calendars',\n",
       " 'your supporting proving my point about your bias satanlovesgaymen was being used as an example of where i personally finding that as a complement as i also love satan while others may see it as an insult others seeing that as an insult is their right i could put hailsatan as my username and i m sure you d probably say that s offensive too whereas i d say that s kind of a religious motto and greeting what part of that satanlovesgaymen is offensive if you don t like that or interpret it a different way you re welcome to do so that is kind of one of the important aspects of satanism the word satan can go anywhere that god can and shouldn t have a different reaction and if it does not my problem your note and whole argument and actions against me are outright fallacious and simply trying to use everything i say in a manipulative and out of context manner as with the fred phelps article placing that particular addition to his wiki was showing counter resistance to his viewpoints of hate so yeah i ll be sure to see about how i challenge this further you don t really belong on this site as an admin if you can t see what you re doing or at least should not be reviewing any article or addition having to do with religion and in particular satanism take your satanic panic elsewher calling my views trolling is designed as an insult to my character and opinions and simply false i m not here to necessarily go along with popular views nor be censored if i do something that is vandalism yes i agree it does need to be corrected i did no such thing and maybe maybe my reaction was a little overboard however yes i am new at making a lot of edits and never had such blatant and targeted censorship occur on here before what you did was outright biased censorship based on your lack of understanding of subjects that you obviously don t have any business of editing or should maybe check the legitimacy before hand what you re basically saying is my religious tenantshttp thesatanictemple com about us tenets have no place on wikipedia such as the freedoms of others should be respected including the freedom to offend to willfully and unjustly encroach upon the freedoms of another is to forgo your own in my postings i did not make a single attack but rather placed factual additions with references now you re obviously spearheading an aggressive attack trying to also go after my username i ve been using for quite some time disruptive really because history and text about history isn t going to be a little disruptive if articles have mass bias need mass overhaul and so on and that qualifies as disruptive yes i do plan on being disruptive however i am learning a little more about how to use wiki syntax and the proper places to put arguments yeah right you re not being biased nor making an attack right do you want to poke me in the right direction for further petition and complaint you r basically having me admit i must be submissive to you who i obviously don t have much respect for and rightfully so based on your actions and displayed ignorance i guess i should appeal to other members of my religion and church to make arguments and complain on my behalf against this action',\n",
       " 'your support is required my minion i require your support in my current bid for absolute power over the wiki as your glorious god emperor and editor in chief i expect a favorable vote from you during this vital process thank you',\n",
       " 'your support for chris lawson are you sure you want to support this guy look at his source quote for making the red baron jewish read the discussion page on it see the opposers views on his request page it scares me johnhistory http en wikipedia org wiki talk manfred von richthofen http en wikipedia org wiki wikipedia requests for adminship clawson',\n",
       " 'your suggestions of adding the reason of dislike is very good it can mininize misssunderstanding and at the same time remind people like you to self examine your religions no hatred and harm to others to the people who do not believe your gods and religions treat all people equally with goodwill',\n",
       " 'your suggestions of adding the reason is very good',\n",
       " 'your suggestion that the literature section should perhaps come first indeed sensible on reflection as your remark about a lead section and i will revise the article if it is restored the list has to stay though really the whole reason i wrote the artcile was because i was so struck that every emerging western buddhism group i offhand know of over the past fifty years has been tarnished not just peripherally but at its heart by this sort of sexual scandal and this is what makes it notable i saw a remark that perhaps the page wasn t needed and but for this i would be inclined to agree the trouble is if i make much of that then i fall into the original research trap the first paper i reference essentially addresses the issue in an interesting and i think correct way i did look at the fwbo article you mention and list it as an external source and i think one of the references essentially favourable i supplied came from there it was also the basis of the remark i made that the community remained supportive of its founder but i stress i m not prepared to interest myself further in a page like this unless my original version is restored thank you for your remarks appreciated',\n",
       " 'your suggestion of editing the article is completely workable and was working as per wikipedia guidelines until jayjg and slimvirgin started deleting large relevant chunks of the article and reverting it to what we have now as punitive gestures if we can all agree to concentrate on making the article better instead of punishing each other there is no reason the article has to be locked i agree that we should start with an extremely innocuous definition preamble statement we can all agree on however a definition doesn t do anyone any good unless it conveys some sort of information if there were just one word that we could all agree is associated with terrorism that would be better than no definition at all intimidate for instance',\n",
       " 'your suggestion is noted however your antagonization claim i consider unreferenced please be specific when suggesting the existence of outright insults you must be referring to those directed at me',\n",
       " 'your suggestion about the post to the forum re euro roots sounds great kev thanks for the dialogue luke',\n",
       " 'your sudden conversion goodday welcome to the light side',\n",
       " 'your submission at articles for creation zone diagram which you submitted to articles for creation has been created the article has been assessed as good class which is recorded on the article s talk page you may like to take a look at the grading scheme to see how you can improve the article you are more than welcome to continue making quality contributions to wikipedia note that because you are a logged in user you can create articles yourself and don t have to post a request however you are more than welcome to continue submitting work to articles for creation if you have any questions you are welcome to ask at the help desk or on the reviewer s talk page if you would like to help us improve this process please consider thank you for helping improve wikipedia',\n",
       " 'your submission at articles for creation your nomination at articles for creation was declined and wikipedia talk articles for creation wikipedia was not created please view your submission to see the comments left by the reviewer and please feel free to request article creation again once the issues have been addressed thank you for your contributions to wikipedia ennasis',\n",
       " 'your submission at articles for creation your nomination at articles for creation was declined and wikipedia talk articles for creation united states environmental policy during foreign military actions was not created please view your submission to see the comments left by the reviewer and please feel free to request article creation again once the issues have been addressed thank you for your contributions to wikipedia',\n",
       " 'your submission at articles for creation your nomination at articles for creation was declined and wikipedia talk articles for creation steven roposh was not created please view your submission to see the comments left by the reviewer and please feel free to request article creation again once the issues have been addressed thank you for your contributions to wikipedia talk to me',\n",
       " 'your submission at articles for creation your nomination at articles for creation was declined and wikipedia talk articles for creation mailcom was not created please view your submission to see the comments left by the reviewer and please feel free to request article creation again once the issues have been addressed thank you for your contributions to wikipedia',\n",
       " 'your submission at articles for creation your nomination at articles for creation was declined and wikipedia talk articles for creation leon rolyat was not created please view your submission to see the comments left by the reviewer and please feel free to request article creation again once the issues have been addressed thank you for your contributions to wikipedia edododo talk',\n",
       " 'your submission at articles for creation your nomination at articles for creation was declined and wikipedia talk articles for creation kevinkearney was not created please view your submission to see the comments left by the reviewer and please feel free to request article creation again once the issues have been addressed thank you for your contributions to wikipedia',\n",
       " 'your submission at articles for creation your nomination at articles for creation was declined and wikipedia talk articles for creation dangada was not created please view your submission to see the comments left by the reviewer and please feel free to request article creation again once the issues have been addressed thank you for your contributions to wikipedia talk to me',\n",
       " 'your submission at articles for creation your nomination at articles for creation was declined and wikipedia talk articles for creation bruno mars was not created please view your submission to see the comments left by the reviewer and please feel free to request article creation again once the issues have been addressed thank you for your contributions to wikipedia',\n",
       " 'your submission at articles for creation your nomination at articles for creation was declined and wikipedia talk articles for creation brandyn lacourse was not created please view your submission to see the comments left by the reviewer and please feel free to request article creation again once the issues have been addressed thank you for your contributions to wikipedia',\n",
       " 'your submission at articles for creation your nomination at articles for creation was declined and wikipedia articles for creation mirza ali quli was not created earwig',\n",
       " 'your submission at articles for creation your nomination at articles for creation was a success and sankichi takahashi was created the article has been assessed as c class which is recorded on the article s talk page you may like to take a look at the grading scheme to see what needs to be done to bring it to the next level please continue making quality contributions to wikipedia and please consider registering an account so you can create articles yourself if you would to help us improve this process please consider thank you for helping wikipedia',\n",
       " 'your submission at articles for creation your article submission has been declined and wikipedia talk articles for creation top causes of snoring article was not created please view your submission to see the comments left by the reviewer and please feel free to resubmit once the issues have been addressed you can do this by adding the text subst afc submission submit to the top of the article thank you for your contributions to wikipedia',\n",
       " 'your submission at articles for creation your article submission has been declined and wikipedia talk articles for creation sheikh rahamkar hazrat syed kasteer gul r a was not created please view your submission to see the comments left by the reviewer and please feel free to resubmit once the issues have been addressed you can do this by adding the text subst afc submission submit to the top of the article thank you for your contributions to wikipedia talk',\n",
       " 'your submission at articles for creation your article submission has been declined and wikipedia talk articles for creation reggie jamz was not created please view your submission to see the comments left by the reviewer and please feel free to resubmit once the issues have been addressed you can do this by adding the text subst afc submission submit to the top of the article thank you for your contributions to wikipedia',\n",
       " 'your submission at articles for creation your article submission has been declined and wikipedia talk articles for creation rahul shashikant rakh was not created please view your submission to see the comments left by the reviewer and please feel free to resubmit once the issues have been addressed you can do this by adding the text subst afc submission submit to the top of the article thank you for your contributions to wikipedia g oley',\n",
       " 'your submission at articles for creation your article submission has been declined and wikipedia talk articles for creation qpayintegrator was not created please do not recreate this article as it was composed mainly of copyrighted information thank you',\n",
       " 'your submission at articles for creation your article submission has been declined and wikipedia talk articles for creation monet jewelry was not created please view your submission to see the comments left by the reviewer and please feel free to resubmit once the issues have been addressed you can do this by adding the text subst afc submission submit to the top of the article thank you for your contributions to wikipedia',\n",
       " 'your submission at articles for creation your article submission has been declined and wikipedia talk articles for creation list of nerf guns was not created please view your submission to see the comments left by the reviewer and please feel free to resubmit once the issues have been addressed you can do this by adding the text subst afc submission submit to the top of the article thank you for your contributions to wikipedia come shout at me',\n",
       " 'your submission at articles for creation your article submission has been declined and wikipedia talk articles for creation law firm of davidow davidow siegel and stern was not created please view your submission to see the comments left by the reviewer and please feel free to resubmit once the issues have been addressed you can do this by adding the text subst afc submission submit to the top of the article thank you for your contributions to wikipedia talk',\n",
       " 'your submission at articles for creation your article submission has been declined and wikipedia talk articles for creation finch himself was not created please view your submission to see the comments left by the reviewer and please feel free to resubmit once the issues have been addressed you can do this by adding the text subst afc submission submit to the top of the article thank you for your contributions to wikipedia cham',\n",
       " 'your submission at articles for creation your article submission has been declined and wikipedia talk articles for creation dpfoc was not created please view your submission to see the comments left by the reviewer and please feel free to resubmit once the issues have been addressed you can do this by adding the text subst afc submission submit to the top of the article thank you for your contributions to wikipedia talk',\n",
       " 'your submission at articles for creation your article submission has been declined and wikipedia talk articles for creation boughton law corporation was not created please view your submission to see the comments left by the reviewer and please feel free to resubmit once the issues have been addressed you can do this by adding the text subst afc submission submit to the top of the article thank you for your contributions to wikipedia',\n",
       " 'your submission at articles for creation your article submission has been declined and wikipedia talk articles for creation axel technologies was not created please view your submission to see the comments left by the reviewer and please feel free to resubmit once the issues have been addressed you can do this by adding the text subst afc submission submit to the top of the article thank you for your contributions to wikipedia penny for your thoughts',\n",
       " 'your submission at articles for creation yelizaveta kuzmenko which you submitted to articles for creation has been created the article has been assessed as stub class which is recorded on the article s talk page you may like to take a look at the grading scheme to see how you can improve the article you are more than welcome to continue making quality contributions to wikipedia note that because you are a logged in user you can create articles yourself and don t have to post a request however you are more than welcome to continue submitting work to articles for creation if you have any questions you are welcome to ask at the help desk if you would like to help us improve this process please consider thank you for helping improve wikipedia',\n",
       " 'your submission at articles for creation william foster medal of honor which you submitted to articles for creation has been created the article has been assessed as start class which is recorded on the article s talk page you may like to take a look at the grading scheme to see what needs to be done to bring it to the next level please continue making quality contributions to wikipedia and please consider registering an account so you can create articles yourself if you would to help us improve this process please consider thank you for helping wikipedia comms',\n",
       " 'your submission at articles for creation uchaguzi which you submitted to articles for creation has been created you are more than welcome to continue making quality contributions to wikipedia if you have any questions you are welcome to ask at the help desk if you would like to help us improve this process please consider thank you for helping improve wikipedia',\n",
       " 'your submission at articles for creation the una group which you submitted to articles for creation has been created please continue making quality contributions to wikipedia note that because you are a logged in user you can create articles yourself and don t have to post a request if you would like to help us improve this process please consider thank you for helping wikipedia',\n",
       " 'your submission at articles for creation the article you submitted to articles for creation has been created you are more than welcome to continue making quality contributions to wikipedia note that because you are a logged in user you can create articles yourself and don t have to post a request however you are more than welcome to continue submitting work to articles for creation if you have any questions you are welcome to ask at the help desk if you would like to help us improve this process please consider thank you for helping improve wikipedia',\n",
       " 'your submission at articles for creation thank you for submitting an article to wikipedia your submission has been reviewed and has been put on hold pending clarification or improvements from you or other editors please take a look and respond if possible you can find it at wikipedia talk articles for creation renaissance academy perfroming arts sciences if there is no response within twenty four hours the request may be declined if this happens feel free to continue to work on the article you can resubmit it by adding the text subst afc submission submit to the top of the article when you believe the concerns have been addressed thank you',\n",
       " 'your submission at articles for creation thank you for submitting an article to wikipedia your submission has been reviewed and has been put on hold pending clarification or improvements from you or other editors please take a look and respond if possible you can find it at wikipedia talk articles for creation gold pure food products inc if there is no response within twenty four hours the request may be declined if this happens feel free to continue to work on the article you can resubmit it by adding the text subst afc submission submit to the top of the article when you believe the concerns have been addressed thank you the highway',\n",
       " 'your submission at articles for creation thank you for submitting an article to wikipedia your submission has been reviewed and has been put on hold pending clarification or improvements from you or other editors please take a look and respond if possible you can find it at wikipedia talk articles for creation formal numbers if there is no response within twenty four hours the request may be declined if this happens feel free to continue to work on the article you can resubmit it by adding the text subst afc submission submit to the top of the article when you believe the concerns have been addressed thank you talk',\n",
       " 'your submission at articles for creation thank you for submitting an article to wikipedia your submission has been reviewed and has been put on hold pending clarification or improvements from you or other editors please take a look and respond if possible you can find it at wikipedia talk articles for creation dr david goldberg if there is no response within twenty four hours the request may be declined if this happens feel free to continue to work on the article you can resubmit it by adding the text subst afc submission submit to the top of the article when you believe the concerns have been addressed thank you',\n",
       " 'your submission at articles for creation thank you for submitting an article to wikipedia your submission has been reviewed and has been put on hold pending clarification or improvements from you or other editors please take a look and respond if possible you can find it at wikipedia talk articles for creation biopollution level if there is no response within twenty four hours the request may be declined if this happens feel free to continue to work on the article you can resubmit it by adding the text subst afc submission submit to the top of the article when you believe the concerns have been addressed thank you talk',\n",
       " 'your submission at articles for creation thank you for submitting an article to wikipedia your draft submission has been reviewed however the reviewer felt that a few things need to be fixed before it is accepted please take a look and respond if possible you can find it at wikipedia talk articles for creation treats magazine if there is no response within seven days the request may be declined if this happens please feel free to continue to work on the article you can resubmit it by adding the text subst submitdraft to the top of the article when you believe the concerns have been addressed thank you sonia',\n",
       " 'your submission at articles for creation thank you for submitting an article to wikipedia your draft submission has been reviewed however the reviewer felt that a few things need to be fixed before it is accepted please take a look and respond if possible you can find it at wikipedia talk articles for creation lifecell international if there is no response within seven days the request may be declined if this happens please feel free to continue to work on the article you can resubmit it by adding the text subst submitdraft to the top of the article when you believe the concerns have been addressed thank you',\n",
       " 'your submission at articles for creation thank you for submitting an article to wikipedia your draft submission has been reviewed however the reviewer felt that a few things need to be fixed before it is accepted please take a look and respond if possible you can find it at wikipedia talk articles for creation all saints cathedral cairo if there is no response within seven days the request may be declined if this happens please feel free to continue to work on the article you can resubmit it by adding the text subst submitdraft to the top of the article when you believe the concerns have been addressed thank you',\n",
       " 'your submission at articles for creation thank you for submitting an article to wikipedia your draft submission has been reviewed however the reviewer felt that a few things need to be fixed before it is accepted please take a look and respond if possible if there is no response within seven days the request may be declined if this happens please feel free to continue to work on the article you can resubmit it when you believe the concerns have been addressed to resubmit the submission add the text subst submitdraft to the top of the page if you would like to continue working on the submission you can find it at wikipedia talk articles for creation william kronick to edit the submission you can use the edit button at the top of the article near the search bar if you need any assistance you can ask for help at the help desk or the reviewer s talk page alternatively you can ask a reviewer questions via live help thank you for your contributions to wikipedia talk',\n",
       " 'your submission at articles for creation thank you for submitting an article to wikipedia your draft submission has been reviewed however the reviewer felt that a few things need to be fixed before it is accepted please take a look and respond if possible if there is no response within seven days the request may be declined if this happens please feel free to continue to work on the article you can resubmit it when you believe the concerns have been addressed to resubmit the submission add the text subst submitdraft to the top of the page if you would like to continue working on the submission you can find it at wikipedia talk articles for creation pa research foundation to edit the submission you can use the edit button at the top of the article near the search bar if you need any assistance you can ask for help at the help desk or the reviewer s talk page alternatively you can ask a reviewer questions via live help thank you for your contributions to wikipedia talk',\n",
       " 'your submission at articles for creation thank you for submitting an article to wikipedia your draft submission has been reviewed however the reviewer felt that a few things need to be fixed before it is accepted please take a look and respond if possible if there is no response within seven days the request may be declined if this happens please feel free to continue to work on the article you can resubmit it when you believe the concerns have been addressed to resubmit the submission add the text subst submitdraft to the top of the page if you would like to continue working on the submission you can find it at wikipedia talk articles for creation hotel plaza srimangal bangladesh to edit the submission you can use the edit button at the top of the article near the search bar if you need any assistance you can ask for help at the help desk or the reviewer s talk page alternatively you can ask a reviewer questions via live help thank you for your contributions to wikipedia talk contribs',\n",
       " 'your submission at articles for creation thank you for submitting an article to wikipedia your draft submission has been reviewed however the reviewer felt that a few things need to be fixed before it is accepted please take a look and respond if possible if there is no response within seven days the request may be declined if this happens please feel free to continue to work on the article you can resubmit it when you believe the concerns have been addressed to resubmit the submission add the text subst submitdraft to the top of the page if you would like to continue working on the submission you can find it at wikipedia talk articles for creation don hanlon johnson to edit the submission you can use the edit button at the top of the article near the search bar if you need any assistance you can ask for help at the help desk or the reviewer s talk page alternatively you can ask a reviewer questions via live help thank you for your contributions to wikipedia',\n",
       " 'your submission at articles for creation thank you for submitting an article at wikipedia articles for creation your submission has been reviewed and has been put on hold pending clarification or improvements from you or other editors please take a look and respond if possible you can find it at wikipedia talk articles for creation ucw zero tag team championship if there is no response within twenty four hours the request may be declined if this happens feel free to continue to work on the article and resubmit when you believe the concerns have been addressed thank you',\n",
       " 'your submission at articles for creation thank you for submitting an article at wikipedia articles for creation your submission has been reviewed and has been put on hold pending clarification or improvements from you or other editors please take a look and respond if possible you can find it at wikipedia talk articles for creation tsunami and seiching occurring simultaneously in a rock walled inlet if there is no response within twenty four hours the request may be declined if this happens feel free to continue to work on the article and resubmit when you believe the concerns have been addressed thank you comms',\n",
       " 'your submission at articles for creation thank you for submitting an article at wikipedia articles for creation your submission has been reviewed and has been put on hold pending clarification or improvements from you or other editors please take a look and respond if possible you can find it at wikipedia articles for creation wilbur underhill jr if there is no response within twenty four hours the request may be declined if this happens feel free to continue to work on the article and resubmit when you believe the concerns have been addressed thank you notify me',\n",
       " 'your submission at articles for creation template cricket in the west indies which you submitted to articles for creation has been created the article has been assessed as template class which is recorded on the article s talk page you may like to take a look at the grading scheme to see how you can improve the article you are more than welcome to continue making quality contributions to wikipedia you may wish to consider registering an account so you can create articles yourself if you have any questions you are welcome to ask at the help desk or on the reviewer s talk page if you would like to help us improve this process please consider thank you for helping improve wikipedia talk c',\n",
       " 'your submission at articles for creation template c l g ghaoth dobhair squad which you submitted to articles for creation has been created you are more than welcome to continue making quality contributions to wikipedia you may wish to consider registering an account so you can create articles yourself if you have any questions you are welcome to ask at the help desk if you would like to help us improve this process please consider thank you for helping improve wikipedia',\n",
       " 'your submission at articles for creation suicide cliff which you submitted to articles for creation has been created the article has been assessed as stub class which is recorded on the article s talk page you may like to take a look at the grading scheme to see how you can improve the article you are more than welcome to continue making quality contributions to wikipedia if you have any questions you are welcome to ask at the help desk if you would like to help us improve this process please consider thank you for helping improve wikipedia chat',\n",
       " 'your submission at articles for creation song of return which you submitted to articles for creation has been created the article has been assessed as start class which is recorded on the article s talk page you may like to take a look at the grading scheme to see how you can improve the article you are more than welcome to continue making quality contributions to wikipedia note that because you are a logged in user you can create articles yourself and don t have to post a request however you are more than welcome to continue submitting work to articles for creation if you have any questions you are welcome to ask at the help desk if you would like to help us improve this process please consider thank you for helping improve wikipedia talk contributions',\n",
       " 'your submission at articles for creation sk rapid wien season which you submitted to articles for creation has been created the article has been assessed as start class which is recorded on the article s talk page you may like to take a look at the grading scheme to see how you can improve the article you are more than welcome to continue making quality contributions to wikipedia if you have any questions you are welcome to ask at the help desk if you would like to help us improve this process please consider thank you for helping improve wikipedia nonsensical babble',\n",
       " 'your submission at articles for creation san vitores martyrdom site which you submitted to articles for creation has been created the article has been assessed as start class which is recorded on the article s talk page you may like to take a look at the grading scheme to see how you can improve the article you are more than welcome to continue making quality contributions to wikipedia if you have any questions you are welcome to ask at the help desk if you would like to help us improve this process please consider thank you for helping improve wikipedia',\n",
       " 'your submission at articles for creation rl singer which you submitted to articles for creation has been created the article has been assessed as stub class which is recorded on the article s talk page you may like to take a look at the grading scheme to see how you can improve the article you are more than welcome to continue making quality contributions to wikipedia you may wish to consider registering an account so you can create articles yourself if you have any questions you are welcome to ask at the help desk if you would like to help us improve this process please consider thank you for helping improve wikipedia cheers batphonegrooves',\n",
       " 'your submission at articles for creation ratikant kanungo which you submitted to articles for creation has been created the article has been assessed as start class which is recorded on the article s talk page you may like to take a look at the grading scheme to see how you can improve the article you are more than welcome to continue making quality contributions to wikipedia if you have any questions you are welcome to ask at the help desk if you would like to help us improve this process please consider thank you for helping improve wikipedia',\n",
       " 'your submission at articles for creation portal gaelic games selected team which you submitted to articles for creation has been created the article has been assessed as portal class which is recorded on the article s talk page you may like to take a look at the grading scheme to see how you can improve the article you are more than welcome to continue making quality contributions to wikipedia if you have any questions you are welcome to ask at the help desk if you would like to help us improve this process please consider thank you for helping improve wikipedia',\n",
       " 'your submission at articles for creation portal gaelic games selected match which you submitted to articles for creation has been created the article has been assessed as portal class which is recorded on the article s talk page you may like to take a look at the grading scheme to see how you can improve the article you are more than welcome to continue making quality contributions to wikipedia if you have any questions you are welcome to ask at the help desk if you would like to help us improve this process please consider thank you for helping improve wikipedia',\n",
       " 'your submission at articles for creation parallel plate flow chamber which you submitted to articles for creation has been created please continue making quality contributions to wikipedia note that because you are a logged in user you can create articles yourself and don t have to post a request if you would like to help us improve this process please consider thank you for helping wikipedia tk cb',\n",
       " 'your submission at articles for creation nova mba association which you submitted to articles for creation has been created the article has been assessed as b class which is recorded on the article s talk page you may like to take a look at the grading scheme to see how you can improve the article you are more than welcome to continue making quality contributions to wikipedia note that because you are a logged in user you can create articles yourself and don t have to post a request however you are more than welcome to continue submitting work to articles for creation if you have any questions you are welcome to ask at the help desk if you would like to help us improve this process please consider thank you for helping improve wikipedia talk',\n",
       " 'your submission at articles for creation neomfa which you submitted to articles for creation has been created the article has been assessed as start class which is recorded on the article s talk page you may like to take a look at the grading scheme to see what needs to be done to bring it to the next level please continue making quality contributions to wikipedia note that because you are a logged in user you can create articles yourself and don t have to post a request if you would like to help us improve this process please consider thank you for helping wikipedia',\n",
       " 'your submission at articles for creation neo solar power which you submitted to articles for creation has been created the article has been assessed as stub class which is recorded on the article s talk page you may like to take a look at the grading scheme to see how you can improve the article you are more than welcome to continue making quality contributions to wikipedia you may wish to consider registering an account so you can create articles yourself if you have any questions you are welcome to ask at the help desk if you would like to help us improve this process please consider thank you for helping improve wikipedia',\n",
       " 'your submission at articles for creation national athletic basketball league which you submitted to articles for creation has been created please continue making quality contributions to wikipedia and please consider registering an account so you can create articles yourself if you would like to help us improve this process please consider thank you for helping wikipedia',\n",
       " 'your submission at articles for creation natalya pasichnyk which you submitted to articles for creation has been created you are more than welcome to continue making quality contributions to wikipedia note that because you are a logged in user you can create articles yourself and don t have to post a request however you are more than welcome to continue submitting work to articles for creation if you have any questions you are welcome to ask at the help desk if you would like to help us improve this process please consider thank you for helping improve wikipedia used edit',\n",
       " 'your submission at articles for creation muse jolin tsai album which you submitted to articles for creation has been created the article has been assessed as stub class which is recorded on the article s talk page you may like to take a look at the grading scheme to see how you can improve the article you are more than welcome to continue making quality contributions to wikipedia you may wish to consider registering an account so you can create articles yourself if you have any questions you are welcome to ask at the help desk if you would like to help us improve this process please consider thank you for helping improve wikipedia',\n",
       " 'your submission at articles for creation moses bowness victorian photographer which you submitted to articles for creation has been created please continue making quality contributions to wikipedia note that because you are a logged in user you can create articles yourself and don t have to post a request if you would like to help us improve this process please consider thank you for helping wikipedia',\n",
       " 'your submission at articles for creation miguel ngel l pez velasco which you submitted to articles for creation has been created the article has been assessed as c class which is recorded on the article s talk page you may like to take a look at the grading scheme to see how you can improve the article you are more than welcome to continue making quality contributions to wikipedia note that because you are a logged in user you can create articles yourself and don t have to post a request however you are more than welcome to continue submitting work to articles for creation if you have any questions you are welcome to ask at the help desk if you would like to help us improve this process please consider thank you for helping improve wikipedia',\n",
       " 'your submission at articles for creation michael john hunt which you submitted to articles for creation has been created you are more than welcome to continue making quality contributions to wikipedia note that because you are a logged in user you can create articles yourself and don t have to post a request however you are more than welcome to continue submitting work to articles for creation if you have any questions you are welcome to ask at the help desk if you would like to help us improve this process please consider thank you for helping improve wikipedia',\n",
       " 'your submission at articles for creation mark morgan producer which you submitted to articles for creation has been created the article has been assessed as start class which is recorded on the article s talk page you may like to take a look at the grading scheme to see how you can improve the article you are more than welcome to continue making quality contributions to wikipedia if you have any questions you are welcome to ask at the help desk if you would like to help us improve this process please consider thank you for helping improve wikipedia',\n",
       " 'your submission at articles for creation marcus notley which you submitted to articles for creation has been created the article has been assessed as start class which is recorded on the article s talk page you may like to take a look at the grading scheme to see how you can improve the article you are more than welcome to continue making quality contributions to wikipedia note that because you are a logged in user you can create articles yourself and don t have to post a request however you are more than welcome to continue submitting work to articles for creation if you have any questions you are welcome to ask at the help desk if you would like to help us improve this process please consider thank you for helping improve wikipedia',\n",
       " 'your submission at articles for creation lauren santo domingo which you submitted to articles for creation has been created the article has been assessed as stub class which is recorded on the article s talk page you may like to take a look at the grading scheme to see how you can improve the article you are more than welcome to continue making quality contributions to wikipedia note that because you are a logged in user you can create articles yourself and don t have to post a request however you may continue submitting work to articles for creation if you prefer if you have any questions you are welcome to ask at the help desk if you would like to help us improve this process please consider thank you for helping improve wikipedia howdy',\n",
       " 'your submission at articles for creation krupajal engineering college bhubaneswar which you submitted to articles for creation has been created the article has been assessed as start class which is recorded on the article s talk page you may like to take a look at the grading scheme to see how you can improve the article you are more than welcome to continue making quality contributions to wikipedia note that because you are a logged in user you can create articles yourself and don t have to post a request however you are more than welcome to continue submitting work to articles for creation if you have any questions you are welcome to ask at the help desk if you would like to help us improve this process please consider thank you for helping improve wikipedia',\n",
       " 'your submission at articles for creation kirk vernstr m iverson which you submitted to articles for creation has been created the article has been assessed as c class which is recorded on the article s talk page you may like to take a look at the grading scheme to see what needs to be done to bring it to the next level please continue making quality contributions to wikipedia note that because you are a logged in user you can create articles yourself and don t have to post a request if you would like to help us improve this process please consider thank you for helping wikipedia talk',\n",
       " 'your submission at articles for creation jeff peterson memorial cup which you submitted to articles for creation has been created the article has been assessed as c class which is recorded on the article s talk page you may like to take a look at the grading scheme to see how you can improve the article you are more than welcome to continue making quality contributions to wikipedia you may wish to consider registering an account so you can create articles yourself if you have any questions you are welcome to ask at the help desk if you would like to help us improve this process please consider thank you for helping improve wikipedia talk',\n",
       " 'your submission at articles for creation jane wenham jones jane wenham jones which you submitted to articles for creation has been created the article has been assessed as start class which is recorded on the article s talk page you may like to take a look at the grading scheme to see how you can improve the article you are more than welcome to continue making quality contributions to wikipedia note that because you are a logged in user you can create articles yourself and don t have to post a request however you are more than welcome to continue submitting work to articles for creation if you have any questions you are welcome to ask at the help desk if you would like to help us improve this process please consider thank you for helping improve wikipedia you need to establish on the article lead section why this person is considered notable check out wp creative for guidelines',\n",
       " 'your submission at articles for creation james lanza which you submitted to articles for creation has been created the article has been assessed as start class which is recorded on the article s talk page you may like to take a look at the grading scheme to see how you can improve the article you are more than welcome to continue making quality contributions to wikipedia note that because you are a logged in user you can create articles yourself and don t have to post a request however you are more than welcome to continue submitting work to articles for creation if you have any questions you are welcome to ask at the help desk if you would like to help us improve this process please consider thank you for helping improve wikipedia',\n",
       " 'your submission at articles for creation international wittgenstein symposium which you submitted to articles for creation has been created you are more than welcome to continue making quality contributions to wikipedia note that because you are a logged in user you can create articles yourself and don t have to post a request however you are more than welcome to continue submitting work to articles for creation if you have any questions you are welcome to ask at the help desk if you would like to help us improve this process please consider thank you for helping improve wikipedia',\n",
       " 'your submission at articles for creation initial and final state radiation which you submitted to articles for creation has been created the article has been assessed as c class which is recorded on the article s talk page you may like to take a look at the grading scheme to see how you can improve the article you are more than welcome to continue making quality contributions to wikipedia if you have any questions you are welcome to ask at the help desk if you would like to help us improve this process please consider thank you for helping improve wikipedia',\n",
       " 'your submission at articles for creation hubbard free library which you submitted to articles for creation has been created the article has been assessed as start class which is recorded on the article s talk page you may like to take a look at the grading scheme to see how you can improve the article you are more than welcome to continue making quality contributions to wikipedia note that because you are a logged in user you can create articles yourself and don t have to post a request however you are more than welcome to continue submitting work to articles for creation if you have any questions you are welcome to ask at the help desk if you would like to help us improve this process please consider thank you for helping improve wikipedia',\n",
       " 'your submission at articles for creation herbine arkansas which you submitted to articles for creation has been created the article has been assessed as stub class which is recorded on the article s talk page you may like to take a look at the grading scheme to see how you can improve the article you are more than welcome to continue making quality contributions to wikipedia you may wish to consider registering an account so you can create articles yourself if you have any questions you are welcome to ask at the help desk or on the reviewer s talk page if you would like to help us improve this process please consider thank you for helping improve wikipedia talk',\n",
       " 'your submission at articles for creation hello and welcome to wikipedia i have reviewed and declined your recent submission to wikipedia articles for creation because it did not meet our inclusion criteria or was otherwise unsuitable as an encyclopaedia articlefor the following reason we cannot accept blank suggestions please consider submitting to wikipedia requested articles instead please address these issues before resubmitting you may wish to use the articles for creation wizard for future submissions thank you and good day sium',\n",
       " 'your submission at articles for creation galion godwin truck body co which you submitted to articles for creation has been created you are more than welcome to continue making quality contributions to wikipedia if you have any questions you are welcome to ask at the help desk if you would like to help us improve this process please consider thank you for helping improve wikipedia talk',\n",
       " 'your submission at articles for creation freemake video converter which you submitted to articles for creation has been created please continue making quality contributions to wikipedia note that because you are a logged in user you can create articles yourself and don t have to post a request if you would like to help us improve this process please consider thank you for helping wikipedia',\n",
       " 'your submission at articles for creation forceselect which you submitted to articles for creation has been created please continue making quality contributions to wikipedia note that because you are a logged in user you can create articles yourself and don t have to post a request if you would like to help us improve this process please consider thank you for helping wikipedia',\n",
       " 'your submission at articles for creation dodo services which you submitted to articles for creation has been created the article has been assessed as c class which is recorded on the article s talk page you may like to take a look at the grading scheme to see how you can improve the article you are more than welcome to continue making quality contributions to wikipedia if you have any questions you are welcome to ask at the help desk if you would like to help us improve this process please consider thank you for helping improve wikipedia talk contribs',\n",
       " 'your submission at articles for creation days inns canada which you submitted to articles for creation has been created the article has been assessed as start class which is recorded on the article s talk page you may like to take a look at the grading scheme to see what needs to be done to bring it to the next level please continue making quality contributions to wikipedia note that because you are a logged in user you can create articles yourself and don t have to post a request if you would like to help us improve this process please consider thank you for helping wikipedia',\n",
       " 'your submission at articles for creation dan smith british author cartographer and peace researcher which you submitted to articles for creation has been created the article has been assessed as start class which is recorded on the article s talk page you may like to take a look at the grading scheme to see how you can improve the article you are more than welcome to continue making quality contributions to wikipedia if you have any questions you are welcome to ask at the help desk if you would like to help us improve this process please consider thank you for helping improve wikipedia',\n",
       " 'your submission at articles for creation brian waters footballer which you submitted to articles for creation has been created the article has been assessed as stub class which is recorded on the article s talk page you may like to take a look at the grading scheme to see what needs to be done to bring it to the next level please continue making quality contributions to wikipedia note that because you are a logged in user you can create articles yourself and don t have to post a request if you would like to help us improve this process please consider thank you for helping wikipedia',\n",
       " 'your submission at articles for creation austin city hall which you submitted to articles for creation has been created you are more than welcome to continue making quality contributions to wikipedia if you have any questions you are welcome to ask at the help desk if you would like to help us improve this process please consider thank you for helping improve wikipedia buffbills',\n",
       " 'your submission at articles for creation arcade texas which you submitted to articles for creation has been created the article has been assessed as stub class which is recorded on the article s talk page you may like to take a look at the grading scheme to see how you can improve the article you are more than welcome to continue making quality contributions to wikipedia note that because you are a logged in user you can create articles yourself and don t have to post a request however you are more than welcome to continue submitting work to articles for creation if you have any questions you are welcome to ask at the help desk if you would like to help us improve this process please consider thank you for helping improve wikipedia contact me contribs',\n",
       " 'your submission at articles for creation alialujah choir band which you submitted to articles for creation has been created you are more than welcome to continue making quality contributions to wikipedia note that because you are a logged in user you can create articles yourself and don t have to post a request however you may continue submitting work to articles for creation if you prefer if you have any questions you are welcome to ask at the help desk if you would like to help us improve this process please consider thank you for helping improve wikipedia',\n",
       " 'your submission at articles for creation alex niven writer which you submitted to articles for creation has been created you are more than welcome to continue making quality contributions to wikipedia note that because you are a logged in user you can create articles yourself and don t have to post a request however you are more than welcome to continue submitting work to articles for creation if you have any questions you are welcome to ask at the help desk if you would like to help us improve this process please consider thank you for helping improve wikipedia',\n",
       " 'your submission at articles for creation alex james songwriter which you submitted to articles for creation has been created please continue making quality contributions to wikipedia note that because you are a logged in user you can create articles yourself and don t have to post a request if you would like to help us improve this process please consider thank you for helping wikipedia',\n",
       " 'your submission at afc the spacepimps band was accepted the spacepimps band which you submitted to articles for creation has been created you are more than welcome to continue making quality contributions to wikipedia if you have any questions you are welcome to ask at the help desk if you would like to help us improve this process please consider thank you for helping improve wikipedia',\n",
       " 'your submission at afc shayan modarres was accepted shayan modarres which you submitted to articles for creation has been created the article has been assessed as stub class which is recorded on the article s talk page you may like to take a look at the grading scheme to see how you can improve the article you are more than welcome to continue making quality contributions to wikipedia if you have any questions you are welcome to ask at the help desk if you would like to help us improve this process please consider thank you for helping improve wikipedia',\n",
       " 'your submission at afc saint michaels township madison county missouri was accepted saint michaels township madison county missouri which you submitted to articles for creation has been created the article has been assessed as start class which is recorded on the article s talk page you may like to take a look at the grading scheme to see how you can improve the article you are more than welcome to continue making quality contributions to wikipedia if you have any questions you are welcome to ask at the help desk if you would like to help us improve this process please consider thank you for helping improve wikipedia',\n",
       " 'your submission at afc r pertoire international de la presse musicale was accepted r pertoire international de la presse musicale which you submitted to articles for creation has been created the article has been assessed as start class which is recorded on the article s talk page you may like to take a look at the grading scheme to see how you can improve the article you are more than welcome to continue making quality contributions to wikipedia if you have any questions you are welcome to ask at the help desk if you would like to help us improve this process please consider thank you for helping improve wikipedia kvng',\n",
       " 'your submission at afc patricia verne kailis was accepted patricia verne kailis which you submitted to articles for creation has been created the article has been assessed as start class which is recorded on the article s talk page you may like to take a look at the grading scheme to see how you can improve the article you are more than welcome to continue making quality contributions to wikipedia if you have any questions you are welcome to ask at the help desk if you would like to help us improve this process please consider thank you for helping improve wikipedia',\n",
       " 'your submission at afc medical device reprocessing was accepted medical device reprocessing which you submitted to articles for creation has been created the article has been assessed as c class which is recorded on the article s talk page you may like to take a look at the grading scheme to see how you can improve the article you are more than welcome to continue making quality contributions to wikipedia if you have any questions you are welcome to ask at the help desk if you would like to help us improve this process please consider thank you for helping improve wikipedia talk',\n",
       " 'your submission at afc list of downton abbey deaths was accepted list of downton abbey deaths which you submitted to articles for creation has been created the article has been assessed as list class which is recorded on the article s talk page you may like to take a look at the grading scheme to see how you can improve the article you are more than welcome to continue making quality contributions to wikipedia if you have any questions you are welcome to ask at the help desk if you would like to help us improve this process please consider thank you for helping improve wikipedia feudalist',\n",
       " 'your submission at afc letters from pyongyang was accepted letters from pyongyang which you submitted to articles for creation has been created the article has been assessed as stub class which is recorded on the article s talk page you may like to take a look at the grading scheme to see how you can improve the article you are more than welcome to continue making quality contributions to wikipedia if you have any questions you are welcome to ask at the help desk if you would like to help us improve this process please consider thank you for helping improve wikipedia talk',\n",
       " 'your submission at afc joshua irungu was accepted joshua irungu which you submitted to articles for creation has been created you are more than welcome to continue making quality contributions to wikipedia if you have any questions you are welcome to ask at the help desk if you would like to help us improve this process please consider thank you for helping improve wikipedia',\n",
       " 'your submission at afc jonathan quinn barnett was accepted jonathan quinn barnett which you submitted to articles for creation has been created the article has been assessed as stub class which is recorded on the article s talk page you may like to take a look at the grading scheme to see how you can improve the article you are more than welcome to continue making quality contributions to wikipedia if you have any questions you are welcome to ask at the help desk if you would like to help us improve this process please consider thank you for helping improve wikipedia nonsensical babble',\n",
       " 'your submission at afc john paul ii collegiate was accepted john paul ii collegiate which you submitted to articles for creation has been created the article has been assessed as stub class which is recorded on the article s talk page you may like to take a look at the grading scheme to see how you can improve the article you are more than welcome to continue making quality contributions to wikipedia if you have any questions you are welcome to ask at the help desk if you would like to help us improve this process please consider thank you for helping improve wikipedia talk',\n",
       " 'your submission at afc houdini film was accepted houdini film which you submitted to articles for creation has been created the article has been assessed as stub class which is recorded on the article s talk page you may like to take a look at the grading scheme to see how you can improve the article you are more than welcome to continue making quality contributions to wikipedia if you have any questions you are welcome to ask at the help desk if you would like to help us improve this process please consider thank you for helping improve wikipedia',\n",
       " 'your submission at afc gelato italia was accepted gelato italia which you submitted to articles for creation has been created the article has been assessed as start class which is recorded on the article s talk page you may like to take a look at the grading scheme to see how you can improve the article you are more than welcome to continue making quality contributions to wikipedia if you have any questions you are welcome to ask at the help desk if you would like to help us improve this process please consider thank you for helping improve wikipedia',\n",
       " 'your submission at afc dps barra was accepted dps barra which you submitted to articles for creation has been created the article has been assessed as start class which is recorded on the article s talk page you may like to take a look at the grading scheme to see how you can improve the article you are more than welcome to continue making quality contributions to wikipedia if you have any questions you are welcome to ask at the help desk if you would like to help us improve this process please consider thank you for helping improve wikipedia let s talk',\n",
       " 'your submission at afc donegal county council election was accepted donegal county council election which you submitted to articles for creation has been created the article has been assessed as start class which is recorded on the article s talk page you may like to take a look at the grading scheme to see how you can improve the article you are more than welcome to continue making quality contributions to wikipedia if you have any questions you are welcome to ask at the help desk if you would like to help us improve this process please consider thank you for helping improve wikipedia x',\n",
       " 'your submission at afc darcia narvaez was accepted darcia narvaez which you submitted to articles for creation has been created the article has been assessed as start class which is recorded on the article s talk page you may like to take a look at the grading scheme to see how you can improve the article you are more than welcome to continue making quality contributions to wikipedia if you have any questions you are welcome to ask at the help desk if you would like to help us improve this process please consider thank you for helping improve wikipedia talk',\n",
       " 'your submission at afc chansonetta stanley emmons was accepted chansonetta stanley emmons which you submitted to articles for creation has been created you are more than welcome to continue making quality contributions to wikipedia if you have any questions you are welcome to ask at the help desk if you would like to help us improve this process please consider thank you for helping improve wikipedia',\n",
       " 'your submission at afc cannabis city was accepted cannabis city which you submitted to articles for creation has been created you are more than welcome to continue making quality contributions to wikipedia if you have any questions you are welcome to ask at the help desk if you would like to help us improve this process please consider thank you for helping improve wikipedia reaction creation',\n",
       " 'your submission at afc brant argyle school was accepted brant argyle school which you submitted to articles for creation has been created the article has been assessed as start class which is recorded on the article s talk page you may like to take a look at the grading scheme to see how you can improve the article you are more than welcome to continue making quality contributions to wikipedia if you have any questions you are welcome to ask at the help desk if you would like to help us improve this process please consider thank you for helping improve wikipedia',\n",
       " 'your submission at afc benson dillon billinghurst house was accepted benson dillon billinghurst house which you submitted to articles for creation has been created you are more than welcome to continue making quality contributions to wikipedia if you have any questions you are welcome to ask at the help desk if you would like to help us improve this process please consider thank you for helping improve wikipedia',\n",
       " 'your style doesn t seem suited to people who tend to take comments literally personally and above all emotionally no don t worry you now know what doesn t work when talking to this editor i believe you re the one who always talks about fixing the program when it fails so there you go my personal advice would be to treat wp civil with more seriousness than wp iar in most cases when in doubt speak plainly and rationally rather than evocatively it s boring and slower but it has a higher success rate then again it s not exactly the end of the world as the truism says a man who cannot make mistakes cannot do anything so you misjudged big deal acknowledge and continue talk',\n",
       " 'your stupidity the assyrians are not extinct you incompetent bigoted fool you lack all things historical you impotent maggot the assyrians have existed for over years you incumbent animal the assyrians first spoke akkadian and in the th century the kings of assyria chose aramaic as the lingua franca of their mighty empire you extinct ape we have simultaneously existed throughout the ancient era up until the present day you rotten corpse we were the first nation to accept christianity and the assyrian church of the east spread as far as china and japan and india in the th century ad you degenerate dog the assyrians have been and will always continue to exist through persecution and diaspora you maggot the aramaena peoples are an extinct pseudo people who never existed since the assyrians destroyed their kingdom and reduced it to a vassal state you mongrel this aramean syriac name is a name created by radical separatists who deny their ethical heritage since the late s you snake the assyrians speak modern aramaic the aramaic in which christ spoke thousand years ago you uneducated mule your statements lack depth in all facets they are unencylcopediatic unsourced close minded uneducated mentally degenerate comments that seek to downsize the most ancient people down to nothing you claim that this name was invented by some new comers almost a hundred years ago this comment alone shows how completely incompetent you are i have documents that are hundreds of years old that have been passed down through my family over the centuries that specifically speak about the assyrians and how this name is far more ancient then simple minded people like you claim this will be the only comment i will make for you because i will not waste my time speaking to a mentally degenerate pig such as yourself who is a denialist racist and complete bigot and a distorter of history who denies the race of the assyrians exist i will pray every day that you may you die a most horrible death',\n",
       " 'your stupidity as you are aware anything that i do gets reverted for no reason mainly by you you use the wp rr the wp sock and that stupid conciseness rubbish for your protection when really you know you are just doing it to be difficult and generally annoying as i saw at the top of your page and i quote from another twit that you are doing nothing to improve the article by constantly reverting this occuring regularly in the following louise henriette de bourbon conti probably the best example of your obsession with having everything that way you want it henrietta anne stuart i rearranged the page and added the template house of stuart clearly a tragedy louise marie ad la de de bourbon penthi vre added titles and styles where are they i even tried to compromise by removing the stlyes and putting back the titles but once again you must have your way victoire of france changed the awful layout along with her sister princess louise marie of france and princess marie ad la de of france why the latter is quite amusing to me proving that you dont even read the article you simply revert back because i did it all i did was move the template house of bourbon france to a different part of the page then you and your chronic arrogance go and revert it under the claim that there are rv excessive redundant trivia contained in other articles then as always you groan on an on about the usual rubbish with please don t violate wp rr or wp sock what is your point shut up where is this claim about the wp sock even from another one of your ridiculous thoughts i will not back down i have a small bit of advice for you maybe you should read the wp own article for your own clarification on the matter you really are a bore and a selfish one at that sure our paths will meet again happy editing',\n",
       " 'your stupid greeting screw that stupid greeting from you and get lost you nigger',\n",
       " 'your stupid fuck you im famous i have over subcribers on my youtube so dont delete when i was born you mf so stfu redirect redirect redirect redirect redirect redirect redirect redirect redirect category category category category category category',\n",
       " 'your stupid comments pov is a point of view why is your pov allowed and mine not are you being just another abusive admin if so go bite yourself in the arse',\n",
       " 'your students just wanted to let you know that another editor not me removed the stub tags from content creation tell your students they did a good job improving this article',\n",
       " 'your streak of bad behaviour is very obviously catching up with you rams up cock you are constantly having to update your talk page as people continually post your mistakes and point our your shortcomings but does this stop you from being a complete tosh and still revert what you classify as vandalism no i don t think anything will work with you i have reported your account for complete mis use of vandal tools and for harassment against me you posted a warning on my page for vandalism but it wasn t reverted that s a clear sign that it isn t vandalism you target only the vandals you think will give up the fight i am not one of those people i made a legit edit and you kept messing around with it mind your own business and do not edit my work unless you have a damn good reason to you are an imbecile and a buffoon keep trying cause i ll revert your work every time',\n",
       " 'your still a dickface dude',\n",
       " 'your statements in this section have suggested that an orthodox jew who doesn t strictly follow orthodox halakha is a conservative jew and that a conservative jew who doesn t strictly follow conservative halakha is a reform jew that s simply not the case every religion has a normative set of rules and some people don t follow them conservative judaism isn t a movement for lapsed orthodox jews and reform judaism isn t a movement for lapsed conservative jews these movements are not distinguished by different degrees of observance of orthodox law they each have their own philosophy of judaism and how it should be practiced conservative judaism has a strict halakha that it believes is a continuation of the rabbinic tradition it expects conservative jews to follow that law the fact that many conservative jews don t follow the movement s halakha may be notable but it doesn t mean that conservative judaism has no halakha you ask if all facets of cj today claim to be working in the continuation of rabbinic proccess or not i don t know what you mean by all facets are you referring to members of the rabbinical assembly or individual conservative jews i don t know that every member of the rabbinical assembly is in agreement but the conservative movement s view is that it is continuing the historical process of rabbinic interpretation and halakhic evolution that has been going on for more than years are there some elements within the conservative rabbinate who don t strictly follow the decisions of the ra absolutely i m sure that there were conservative rabbis who were officiating at civil unions before the movement said it was okay i was too young to know but i imagine that some conservative synagogues may have included women in a minyan before the ra said it was alright and there may be conservative synagogues that won t include women even if the ra says that they must i don t know but i think that they believe that they are acting within the rabbinic tradition i doubt that any of them is saying halakha be damned i m going to do whatever i want yes the conservative movement by its nature expands the boundaries of their interpetation of the law it calls it evolution and it makes no secret of it its viewpoint is that akiva and hillel and rambam and every other rabbi in jewish history has done the same thing until the reactionary orthodox movement slowed the process to a snail s pace anyway i think this discussion is going way off track i m sorry for the tone of my earlier comments but saying that conservative jews are lapsed orthodox is offensive talk contribs ps regarding wolpe and his views of the exodus that s so far afield that i hope you don t mind if i leave my comments on your talk page',\n",
       " 'your statements are not warranted',\n",
       " 'your statement that she has refused to talk about the matter all together is patently false in response to a t v show host s question how are you responding to the rumors about you and eddie cibrian leann replied you know what everything is so not black and white and on another show regis and kelly the same response everything people read is not it s not as easy as black and white also noteworthy is her statement on her blog that this is a difficult time for me and my loved ones again with a complete absence of any denial of the affair no one has seriously argued that it was not her or eddie in the video and i submit that any attempt to do so would simply call into question either the arguer s intelligence cf moon landing hoax or else his or her neutrality but really none of this matters because as i said i completely agree with you that this is currently not wikipedia material this is not to say of course that it won t become wikipedia material i m not going to lecture you on what might cause this to become wikipedia material because assuming that you re as experienced an editor as you say you are you will already know suffice it to say however that there are myriad entries of affairs on wikipedia profiles and even a cursory look at any of them sheds light on some common features of all i am sorry if i offended you by calling into question your neutrality as wikipedians we should all strive toward verifiability and away from bias in keeping with these tenants i can guarantee you that if this affair rises to the level of verifiability and importance both in terms of mainstream media attention and cultural impact that warrants inclusion i will not be alone in fulfilling my duty as a responsible wikipedian to support inclusion of said affair best j m',\n",
       " 'your statement comments about his beliefs of the official version makes no sense since when does rodriguez believe the official version you have not answered my questions on this page',\n",
       " 'your stalking of my edits i ve opened a thread on you stalking my edits',\n",
       " 'your stalking campaigns i haven t had any time to devote to you and your comrades at the moment will beback but for now i will note that you continue to misrepresent wikipedia rules to misrepresent my edits deliberately not mentioning all of the edits i had made that were censored that had not cited your personal bogeyman to misrepresent leading publications with hundreds of thousands of readers as blogs to initiate edit wars and to stalk and politically censor not only me but anyone else supportive of my edits you are truly out of control',\n",
       " 'your stalker friend is back the hostile user you defended is engaging in stalking and hostile behavior again i realize you refuse to accept responsibility for your own actions previously will now be different you can choose the option of blocking viewpoints that differ from your own again',\n",
       " 'your stalker friend is back the hostile user you defended is engaging in stalking and hostile behavior again i realize you refuse to accept responsibility for your own actions previously will now be different you can choose the option of blocking viewpoints that differ from your own again',\n",
       " 'your spiteful shitty uneducated ignorant cuntesque wankbagness although i violently insulted you as above as this is my genuine opinion of your foolish reactionary actions i do implore you to actually review my edits rather than relying on consensus to scare away editors with thirty years of recognised published research experience in the relevant field',\n",
       " 'your spelling is atrocious kennedy i doubt your morals are much better',\n",
       " 'your speedy deletion tag to mathue tapper i wouldn t mark your speedy deletion as g gibberish text is more like sdgbfhyufjfsjckfsijldxhltgfgn or something like that please remember that next time you come across a new unreviewed article thank you c talk',\n",
       " 'your speculations are unhelpful the cherokee keep great records if warren really was cherokee it s safe to assume she would have a family member on their roles',\n",
       " 'your space bar is broken or does it only refuse to work after full stops moron lol',\n",
       " 'your sources relying on this article are far left fringe sites only original articles should be linked from credible sources that said regardless of the amount of help provided iraq it s not against the law to support one side over the other when iran was openly hostile to the us and started that path of their own volition i m part of the wikimilitary history project and so i will not let your biased reportage and allegations stand it is heavily skewed in favor of a victimized iran this is a false impression and an appeal to emotion by a partisan that s not what we do here it is npov i will revert until hell freezes over and someone of authority steps in to stop you it will happen',\n",
       " 'your sources fail wp rs mobygames and wikia are not reliable sources gamespot and gamesradar are respected publications by noted publishers see here for example at least one sentence didn t have a source at all this is a ga and thus cannot have unsourced content so the no deadline appeal isn t applicable here i removed the slashdot reference which i hadn t noticed before',\n",
       " 'your sources are worthless',\n",
       " 'your sources are very poor indeed and i am not going to push the point any further at this stage but the living person note should be taken seriously',\n",
       " 'your sources are reliable but they do not verify that text you have inserted i m not sure what you think you re going to report me for',\n",
       " 'your sources are despicable they are a bunch of glen becks this article has no point it s just nazi propaganda',\n",
       " 'your source states about the black white difference in iq which at the time was about points the neisser et al article stated there is not much direct evidence on this point but what there is fails to support a genetic hypothesis that conclusion stands today there has been no new direct evidence on the question see rushton jensen a b gottfredson and lynn vanhanen for the view that the black white iq difference is owing substantially to genetic differences between the races and that indirect evidence having to do with such factors as reaction time and brain size is probative see nisbett for the view that the direct evidence indicates that thedifference between the races is entirely due to environmental factors and that the indirect evidence has little value please stop lying then applying the same defintion to c the answer is no do you see the problem here question c is the hereditiarian position a mainstream view the question is whether it is a widely held mainstream view that the iq test score gap is likely to be significantly explainable by genetic factors note that the question is not whether it is the only mainstream view nor whether it has been proven to account for the entire gap but only about whether it is considered a probable explanation by a wide selection of mainstream scholars yes question d is richard nisbett considered a mainstream scientist the question is whether nisbett as a person and a scholar is generally considered to be within the mainstream of the field of psychology the question is not whether he is prominent and notable enough to be included but about whether his views should be given equal weight to mainstream views within the article no nisbett holds a minority view which has been described as having virtually no chance of being true by a reliable tertiary source',\n",
       " 'your source says thousand years old but the article itself says thousand years if you contine you to provide misinformation and unsourced material i will try to have you banned',\n",
       " 'your source ripoffreport com is not a reliable source as that phrase is used on wikipedia talk stalk',\n",
       " 'your source is t btvt narod ru retrieved april retrieved november john pike t retrieved november however last two have same figure as global security and btvt is not reliable source for russian armour protection although it does have a lot of information about russian armors for example btvt claims that the protection of m a abrams is mm ke but in reality it was mm according to steven zaloga and the soviet intelligence',\n",
       " 'your source has an additional problem it can not prove the claim to be untrue it brings no arguments apart from saying that this looks to him like a modernisation i find this very unscientifical',\n",
       " 'your source come from a greek anti albanian website go to the main page and read all the anti albanian slogans you are going to tell me tats a valid source',\n",
       " 'your sorting effort wow this will raise the number of assessed articles substantially do i understand the process correctly that once tagging is done a bot will generate overview and stats pages one minor caveat award articles like wigner medal all seem to get the stub category per auto allegedly because of a stub template but to the best of my knowledge those articles never had a stub template imho there is no big potential for expansion either they should be considered list like and excempt from article assessment be rated somewhat like short but no need to grow a seemingly missing assessment grade only a nitpick in the grand scheme but i m just watching a number of those articles so i was wondering',\n",
       " 'your soooo scary oh my god how i dread you telling an administrator you are also wrong innaccurate and a liar where was the so called direct threat don t try and get clever with me you re just as unimportant',\n",
       " 'your sony edit hi i ve reverted that edit standard financial reporting is millions not billions you changed the million but left a comma so million became brillion i e thousand billion which is of course nonsense',\n",
       " 'your sockpuppet s account is blocked forever has been blocked indefinitely i don t understand how a muslim like you can lie in this month of ramadan however you have still so you are very lucky and you can still enjoy i will not gain anything if the admins block also i have just discovered that most of list of british bangladeshis s articles were created from you but i do not know why your body takes fire when i create articles about british bangladeshi muslim s scholar from now on try to be a good editor may allah give you tawfeeq',\n",
       " 'your so fat you are single handedly the fattest person i ve ever seen get a life',\n",
       " 'your so called contributions will you have the decency to stop deleting every little thing i upload you are being a bloody nuisance don t think that i ll stop on your account',\n",
       " 'your skin hello sorry if im bothering you but could you show me how to use your skin on my homepage all help and assistance would be gratefully recieved thank you',\n",
       " 'your sincerity to only follow the guidelines would be much more plausible if you d have filed an afd on war on terrorism as well',\n",
       " 'your signature your signature does not meed with the wikipedia guidelines regarding signatures they should not contain color unless absolutely necessary please consider removing the distracting attributes of your signature',\n",
       " 'your signature the following is a passage from wikipedia sign your posts on talk pages images images of any kind should not be used in signatures many concerns have been raised over the use of images in signatures and they are considered to serve no use to the encyclopedia project images in signatures should not be used for several reasons they are an unnecessary drain on server resources and could cause server slowdown a new image can be uploaded in place of the one you chose making your signature a target for possible vandalism and denial of service attacks they reduce searchability making pages more difficult to read they make it more difficult to copy text from a page they are potentially distracting from the actual message in most browsers images do not scale with the text making lines with images higher than those without they clutter up the file links list on the image page every time you sign on a different talk page images in signatures give undue prominence to a given user s contribution i believe you were not aware of this but please remove the image from your signature thank you',\n",
       " 'your signature is incredibly long at characters it s about two and a half times what the software normally allows wp sig such long signatures make it confusing while editing discussion pages where you ve commented would you please consider shortening it',\n",
       " 'your signature hi leaky caldron i am not able to view your signature with my settings i have been asked to inform you to change your signature please see here talk',\n",
       " 'your signature hello the may i call you the i hesitate to bring this up because you are obviously a staunch wikipedian and fellow borat fan but i don t like your signature the updater would like to talk to you it is an invitation to chat to chat is bad here as i m sure you know without being told by some busybody with too much time on his hands me and which you are obviously not doing when i saw your sig for the first time on the reference desk i started poking around to see what was up the sig made the whole post look like spam which of course it was not the refence desk interfaces with the public a bit more than other areas of wikipedia and i m afraid that your sig will give a mistaken impression to newcomers at the very least a suggestion you could put the would like to talk to you in a smaller font',\n",
       " 'your signature btw i ve noticed that your signature does not link to your user or talk pages i suspect you ve customized it to be this way wikipedia sig internal links says signatures must include at least one internal link to your user page user talk page or contributions page this allows other editors easy access to your talk page and contributions log the lack of such a link is widely viewed as obstructive let me know if you need help fixing this',\n",
       " 'your sig i m curious as to how you re signing off are you doing or are you typing it by hand your signature should always be linked to your user page talk page or both just as a heads up also whilst it s always great to have new vandal fighters you ve been one of the very rare people who go straight into full on vandalfighting straight from creating an account it s something that we don t tend to recommend because a lot of the tools are really easy to go wrong on i know when i first used twinkle i somehow managed to screw that up as well but besides that i m sure having one more vandal fighter regardless how new is never a bad thing for wikipedia right so my suggestion to you would be to get adopted by a more experienced user i m still learning the ropes myself and being adopted has been immensely helpful if only to know that there s people i can go to for help wikipedia is a really hard community to become part of sometimes and i m afraid you ve been one of those who s had a bit of a rough time getting settled i hope it does get better for you and i think getting mentored by someone will help you greatly with that cheers talk simple',\n",
       " 'your sexual fantasies on this and a subsequent edit of yours nobody here is interested in your sexual fantasies go away and tell them to somebody else',\n",
       " 'your serious mental illness and addiction this is the most contructive thing that can ever be contributed as it relates to you and your involvement here please stop and think about the depth of your sickness sitting there with your face glued to your computer screen uncompensated day after day week after week for years tinkering with the biographies of people you don t even know who actually are out living real lives while you are imprisoned by your addiction you have literally wasted years of your life with this lonely self destructive addiction and illness which has been at the expense of living your own life the depth of your mental illness must make it difficult for you to see the extraordinary insanity of your actions and how your addiction has stripped you of the life that was given you i know a few others have evaluated what you do here and laugh at you and your sickness it s something of an inside joke and i guess few share it with you because they consider you hopeless that s not right either and i d ask them to please stop that and try to help you don t laugh at this person behind their back and then just communicate with them on routine matters that lacks all caring for a person who has an obvious and very serious illness something is very wrong with him her and while it may not be for us to diagnose the exact problem we should pause to help with advice please share with him her what we all know it s only humane to do so i will do so now too jerzy or whatever your name isconsciously concealed i m sure to keep your illness as private as possible please consider some uncomfortable facts years of your life have now been totally consumed and absolutely wasted by your deep deep sickness and obvious addiction please don t make excuses for yourself you cannot go on like this any longer you need to stop and you need to stop today reject this advice and i worry that your sickness will probably only deepen and your addiction will waste whatever is left of your life please stop it s over enough move on i do wish you the best and hope you will take this friendly advice seriously it will be the first and last time i share it and i hope you know that i share it only with your best interests in mind it s sad what has happened to you but i wish you good luck and hope this advice is helpful but please take itand do so today you cannot go on like this',\n",
       " 'your serious mental illness and addiction this is the most contructive thing that can ever be contributed as it relates to you and your involvement here please stop and think about the depth of your sickness sitting there with your face glued to your computer screen uncompensated day after day week after week for years tinkering with the biographies of people you don t even know who actually are out living real lives while you are imprisoned by your addiction you have literally wasted years of your life with this lonely self destructive addiction and illness which has been at the expense of living your own life the depth of your mental illness must make it difficult for you to see the extraordinary insanity of your actions and how your addiction has stripped you of the life that was given you i know a few others have evaluated what you do here and laugh at you and your sickness it s something of an inside joke and i guess few share it with you because they consider you hopeless that s not right either and i d ask them to please stop that and try to help you don t laugh at this person behind their back and then just communicate with them on routine matters that lacks all caring for a person who has an obvious and very serious illness something is very wrong with him her and while it may not be for us to diagnose the exact problem we should pause to help with advice please share with him her what we all know it s only humane to do so i will do so now too jerzy or whatever your name isconsciously concealed i m sure to keep your illness as private as possible please consider some uncomfortable facts years of your life have now been totally consumed and absolutely wasted by your deep deep sickness and obvious addiction please don t make excuses for yourself you cannot go on like this any longer you need to stop and you need to stop today reject this advice and i worry that your sickness will probably only deepen and your addiction will waste whatever is left of your life please stop it s over enough move on i do wish you the best and hope you will take this friendly advice seriously it will be the first and last time i share it and i hope you know that i share it only with your best interests in mind it s sad what has happened to you but i wish you good luck and hope this advice is helpful but please take itand do so today you cannot go on like this',\n",
       " 'your sentence internet archive searches are unlikely to be a particularly good way to assess the complete amount of coverage speaks volumes if we do not have significant coverage we may not have notability bongomatic first it would be nice if you did not follow me around the questions i ask are of different editors than you no second i have no percieved adversaries that would be childish i am simply looking through contributions of some editors i am familiar with many experienced participants have done so and said there is nothing wrong with that i am not being disruptive i inquire on talk pages in a civil manner lastly like you told me once i will give your suggestions due weight as i continue to edit the articles i see fit',\n",
       " 'your senate resolution i was trying to update your user page but it s protected i wanted to add a box in the top stating you were the first wikipedian to be recognized by a legislative body for its contribution to wikipedia i also wanted to add a citation to the document itself it s in microsoft word format but i converted it to pdf and uploaded it on sendspace for your convenience enjoy',\n",
       " 'your second image is bullshit too looks like ordinary muddy water mixed with blood my ass',\n",
       " 'your script to zen your script made a number of changes most of which were okay several however seemed incorrect you created wiki links to chinese and japanese wikipedia where it was inappropriate',\n",
       " 'your science fiction leader i like it hi m i ve just been looking at the past work you did on the science fiction leader and i think it s really good and should not have been so thoroughly replaced by something far less elegant if you ve been watching that article you may have seen that i have been trying myself with hayford peirce s help to create a readable but useful leader before i went back through the historical versions and i have essentially highlighted the idea of the novum the novelty the change the difference the strangeness that you spoke about although i got this from a rather different source and have possibly put it less poeticaly i see you are an australian academic so i may have bumped into you on some campus or other i d be very pleased if you would come back and help me with the sci fi leader or heap scorn on it or whatever see ya',\n",
       " 'your school hey you go to churchill do you know a guy named ahmad thobani',\n",
       " 'your satire my documentary core conceit should be documented why no mention of the show s central conceit and the principal source of its comedy namely the reality that intelligence agencies are in actuality infested with bumbling fools precisely in the mould of maxwell smart that is the program is less satire and more documentary that anyone cares or dares to admit',\n",
       " 'your sarcasm hello angr i think that your recent addition to a user talk page of your efforts to get yourself blocked from editing wikipedia have been successful if the block expires you can come back to make constructive edits was frankly stupid you people are trying to promote yourselves as the wikipedia elite and believe me it doesn t help your cause by writing garbage like that stick to factual information not useless crap thanks',\n",
       " 'your rules are not to be enforced according to a draconian egregious methodology that violates the free dissemination of greater knowledge and truth by citing the revert rule that s exactly what you are doing if you do then this militates against intellectual liberty and the exposure of factual information regarding human rights abuses which involve the entire international community this kind of fascism cannot be tolerated and incontroveribly it does not represent the wikipedia ethic if you have changed your values in favor of fascism human rights abuses and political correctness then you are not educating the global community but rather dumbing down the masses as transistorized automatons once again the name rama s arrow represents hindu miltancy and this must be construed as a personal attack against millions who are not hindus i think this is the kind of personal attack that should be most concerning to you and wikipedia must address this effectively as a result it would not be inappropriate as you worded it to summarily remove this block',\n",
       " 'your rude interference by deleting a private talk entry the original of your first quote which is more befitting with your deletion of a talk page entry is as follows everytime i hear the word culture i reach my revolver herman goering can you restore what you have just deleted as my entry into a private talk page please thanks',\n",
       " 'your rude interference by deleting a private talk entry november ryulong talk contribs you removed a protection template i reverted that now leave me alone please and go about editting can you restore my talk entry as you rudely deleted please you could fix my mistake in the first line and be more respectful to the subsequent part dont you tthink i hope this does not sound as much f off attitude you are giving the original of your first quote which is more befitting with your deletion of a talk page entry is as follows everytime i hear the word culture i reach my revolver herman goering can you restore what you have just deleted as my entry into a private talk page please thanks',\n",
       " 'your rreverts are completely unethical illogical iam not going to get afraid by your warnings i have sufficiently explained myself references are provided infact my contribution has been without reason has been reverted bewafai as edited by me contains all the info needed for description and ither users know very little about it they have not provided all the info its you who is editing the artcile and reverting unnecessarily you are a lier who keeps saying that iam making unexplained edits',\n",
       " 'your rr warning thanks this is me trying to take your advice i apologize for the inconvenience the issue of content vs authority is so maddening though especially given wholely user defined and collaborative topics and the range of motives at play i m working on more effective rhetorical strategems i ll try without actually promising not to always be such a pain',\n",
       " 'your rr on brampton ontario this is a warning that you have at least rr or more on this page you know the rules as you blocked me before with them you wanting to say what people believe instead of what people did is biased propaganda and pov and misleading information try to be as factual as possible when facts can spead for themselves',\n",
       " 'your rollback october fyi nishidani s rollback october',\n",
       " 'your role as copyright enforcer you removed a video link i posted to the jimmy rushing entry insinuating but offering no evidence that it the posted video violated copyright google determines what videos violate copyright on youtube and i fail to see why you are in a better position to know than google is unless you are the copyright holder google removes videos when a valid claim of copyright violation is made and before that there is no assumption and certainly no proof that the video violates copyright you have not demonstrated that you have special copyright expertise and even that would not give you special knowledge about a given video you merely draw you own conclusions which override those of google and do as you wish if i can t know if a video violates copyright how can you know and if you do not have such factual knowledge why do you assume a violation and the right to delete a link please explain any knowledge you have that the video in this instance violates copyright if you do not have that factual knowledge please explain why you have the right to act as if it does violate copyright do you know of any legal precedent for holding a person or entity liable for linking to a copyrighted item without knowledge that there is a copyright violation according to the digital media law project as long as you do not know that a work infringes someone s copyright then you cannot be held liable for contributory infringement for directing users to that work the mere mention of the video being available from rhino which has now apparently allowed the video to go out of print is not proof of copyright ownership if one exists the copyright might have been leased to rhino or there may be no copyright or one that permits a youtube posting thanks',\n",
       " 'your robin williams edit welcome to wikipedia we invite everyone to contribute constructively to our encyclopedia however what you did to the robin williams page is regarded as vandalisim and not welcome on wikipedia should you continue i will be forced to get an admin on you and have you blocked',\n",
       " 'your right waterloo sunset is my favorite two',\n",
       " 'your right the references were a bit lacking i added the url to the casey family programs fact sheet on ptsd deleted the one to the seattle times article and moved the one for dubner and motta the fact that ptsd was found to effect of foster children has fairly profound implications for society in general there are over kids in foster care in the united states right now that s cases right there and ptsd has been shown to have an epigenetic effect so it affects generations yehuda r bierer lm prog brain res transgenerational transmission of cortisol and ptsd risk pmid',\n",
       " 'your right it the summary is incorrect i found this http www answers com topic major bummer perhaps someone can fix it',\n",
       " 'your right i think none of the states are fischers because he is the subject in all of them',\n",
       " 'your right bro your so right not i hate you block me you fagplease',\n",
       " 'your rfm provided you are willing i have decided to take on your mediation case please let me know there if this is acceptable to you omg plz',\n",
       " 'your rfa i apologise but i have closed your request for promotion early as the application was certain to fail the basic requirements expected of applicants notnow given the scarcity of experience particularly in areas related to administration if you remain interested in becoming an administrator i would definitely recommend that you familiarise yourself with the guidelines on rfa applications grfa before attempting the procedure again good luck user talk mephistophelian contact please explain this contribution of yours today contains cut and pasted copyrighted information from this site namely brown joined the pelicans in march of and under his leadership he helped transition the team s major league baseball affiliation from the atlanta braves which they the club has been affiliated with since the club was started to the texas rangers following the season the team hosted headline events like the ncaa regional super regionals in on behalf of coastal carolina university the carolina california league all star game and the first ever exhibition game involving a big league team in myrtle beach when the reigning american league champion rangers took on the ccu chanticleers on march apart from one word change you have used the reference verbatim please fix and read wp copyvio please listen you accused me of vandalism in your summary of this edit don t do that again earlier i had edited the tom rice article to improve it from a bloggy pov poorly written mishmash to a reasonably encyclopedic article an ongoing task i took it from this abomination to this i have reverted you and suggest you don t revert me again instead if you believe i am wrong you can report me elsewhere or ask for comment elsewhere ani hello sk terguy there is currently a discussion at wikipedia administrators noticeboard incidents regarding an issue involving you the thread has the subhead could someone handle this please thank you copyright issues report hi i ve mentioned the copyright problems here any help you can give in removing material that you know you ve copy pasted and then noting that it s been removed would be appreciated talk i doubt anyone would want you to quit i know i don t but it is very important that you respect copyrights imho nothing is a bigger threat to the continued success of wikipedia than copyvios the potential for the foundation to get sued is far bigger than it is for libel by far i have been screamed at told off and generally put in my place dozens of time since i have been here and fully expect that i will again many times it would be really nice if everyone here was kind and respectful but just like society in general that just isn t the case my suggestion to you is to ask questions get help when you need it make friends and continue to work on articles you like the best thing i did after i got here was to get adopted there is no textbook for this and adoption provides you with a teacher that will walk you through the ropes and be around after you graduate to mentor you another great thing here is the teahouse it is a place especially for newer users to ask questions and get answers without attitude my dad always used to say that the only stupid question was the one you didn t ask and the teahouse definitively follows that credo i will leave you an invite after this message i will also be happy to help you in any way i can just drop a note on my talk page welcome to wikipedia and happy editing hi sk terguy i have removed your recent addition to the article david',\n",
       " 'your rfa i am pleased to let you know that consensus reached you are now an administrator you should find the following forums useful administrators reading list administrators how to guide administrators noticeboard administrators noticeboard for incidents administrators noticeboard for three revert rule violations congratulations on your promotion and the best of luck with your new charge',\n",
       " 'your rfa hi best of luck on your rfa i think you are overdue for the tools talk contribs',\n",
       " 'your rfa hey ngi l i just wanted to let you know that i have closed your rfa per wp notnow as you are going to need a lot more experience before you apply again if you want to succeed this page might be a be a good place to start due to the users there being very willing to help you learn the ropes per se your enthusiasm is noted and i look forward to seeing you around talk',\n",
       " 'your rfa hey man you have no chance editors like slimvirgin oppose you her cohorts will back her up so don t worry just do what you think is right and live with the outcome try to stick always to telling the truth fairly and neutrally',\n",
       " 'your rfa best of luck on your rfa wanna talk',\n",
       " 'your rewrites look good although we would be better to cite sources there s nothing wrong with using the original website for that the instructions given at wikipedia copyright problems suggest that we need to wait seven days or more for an administrator to delete the original page and move the temp version in this is so that the copyright infringement is not visible in the article history about the images i m not sure i find the guidance at wikipedia contributing faq i have an out of copyright image or text that is reproduced in an in copyright book can i scan type it into wikipedia a little unclear clearly the images are old but if the ones you uploaded are simply from the website then maybe their scan of an out of copyright image is copyrightable jun utc',\n",
       " 'your revision to faerie s aire and death waltz thanks for catching the misspell of atushi ojisama and ijigen waltz i ll work on moving the page to the correct spelling',\n",
       " 'your revision there are editors like mezzo mezzo who are continuously disallowing editing salafi wahabi ahle hadees pages to other editors according to their personal hidden agenda i tried with verifiable sources to put its relation with terrorism and am also discussing it with editors but mezzo mezzo just prevented me and others on the baseless pretext of one or other',\n",
       " 'your revision on the film the castle before you start blindly reverting edits i d suggest you actually know what you re talking about check the reference i d like this to be left here if possible to show that you are a blind and hasty reverter even though you have no knowledge of the topic whatsoever one of many users who make wikipedia such a poor resource in the first place',\n",
       " 'your revision on oct of st bede s catholic comprehensive school by removing the external links and putting graffiti up is termed as vandalism you have been reported to wikipedia deathardath',\n",
       " 'your reverts of the ankit fadia article state that you re removing material not supported by sources or cited to unreliable sources so with that there are mentions of chennai online do you plan on deleting those passages in wikipedia articles mentioning chennai online as a source granted there are one mention of wendy mcauliffe and its in the ankit fadia article but there are results for wendy mcauliffe zdnet in google and at her current venture about page http www populatedigital com people mentions wendy began her career as a journalist for zdnet the uk s leading online technology newswire during which time she became a leading authority in online privacy and child protection online so that s another unreliable sources surely an article about ankit fadia by suelette dreyfus is a reliable source but you nixed that too you point to the notability page and revert the page and i see in that document that wikipedia is not a promotional medium the way that article is after you revert the page it turns into a promotional medium for ankit fadia without the other articles supporting that ankit fadia is a phony then have the issue of unclear notability to which having an article about ankit fadia if notability requires verifiable evidence how many mainstream and researched articles pointing out are needed to point out that ankit fadia is a verifiable phony i can t take these donation drives for wikipedia seriously if the basis for articles on wikipedia are given to people with no grasp of their field and hardcore plagiarism of other people s work without and accepting them as your own original work the research is there maybe i m not the editor for putting this together but either wikipedia should delete the article or stop sugar coating this article as a one sided promotional medium for ankit fadia',\n",
       " 'your reverts of markbernstein org user s website promotes his commercial products company it s a pretty clear violation of talk page guidelines for what reason did you revert',\n",
       " 'your reverts of binary prefixes you reverted binary prefixes with absolutely no reason the debate is still going on and the current wording of wp mosnum even if it hasn t been discussed states that this kind of changes must stop you are violating wp point again',\n",
       " 'your reverts are not warranted i am not a blocked editor and your reverts are moot i have replaced both edits thank you for reading closer before editwarring next time',\n",
       " 'your revert of my momk edit explain yourself please what do you mean by vaguely citing wp npov that explains nothing',\n",
       " 'your revert of my description was pov if you are suppporting the people killing innocent iraquis then you are a terrorist sypathsizer sheehans is not above criticism in her description what in the world are you talking about if you continue to vandalize this article i will take action against you',\n",
       " 'your revert irc nick parameters hi thanks for your comments when reverting me here but i m not sure if you understand the confusion experienced as a helper on that irc channel while i do see you in helpers from time to time these days i rarely see you in help itself so it s hard to grasp where your reasoning stems from i do welcome your explanations i m confused about the supposed benefit of using wphelp over guest in any given day i see tens if not over a hundred instances of the wphelp nick the conversation often ends up something like this wphelp asks can you help me with my draft the helper says wphelp do you understand conflict of interest then wphelp says sorry what and the the helper must explain with public sometimes the helpee will say i really have to look at the numbers to see who is who on the contrary i see few guest nicks and while they are confusing they are definitely not as widespread as the instances of wphelp these users came from the template which does not supply a nick parameter it takes a long time to manually squint to look for each wphelp s number if not using autocomplete and when using autocomplete you really do run the risk of autocompleting the wrong nick if you remove the nick parameter just like the way it is in current freenode webchat then helpees would ideally choose their own username as the nickname field eliminating the amount of asking what is your username in short it would be easier to deal with guest nicknames the few that we d have than the piles of confusing wphelp usernames when everyone literally has almost the same nickname and nobody knows what s going on with the added benefit of perhaps helpees supplying their usernames irc is already a confusing environment for newbies better to make it less confusing if possible oh hello',\n",
       " 'your revert hello i would like to kindly request reconsideration of your revert see link above i had reinstated an edit removed based on a misunderstanding of a previous editor the other ip user had replaced somebody else s comment with his own and when i attempted to take care of it somebody had already reverted the edit resulting in the old comment being restored and the new comment which the ip editor posted and removed the other comment in the process being removed please browse the diffs starting from here in my opinion the edit was made in good faith i restored the comment the editor appeared to be legitimately inquiring about a deletion or revert i reposted and signed it i had noticed that you have reverted my edit please note that i have not at all made my edit in bad faith and that i have never made bad faith edits to wikipedia i have been editing since had an account but do not use it anymore since i am quite retired i had a clean record and had never been blocked from editing i do not know if it is possible to have those entries removed from the block log since blocks count against an editor s reputation and i have not made any bad faith edits please let me know if you have any further questions regarding this incident thanks in advance',\n",
       " 'your revert edit on turkish armenian war for your attention',\n",
       " 'your revert each of those battles occurred in canada and belongs on the list of conflicts in canada this is one of a grouping of lists reverse your reverts or i will post a vandalism claim cordially',\n",
       " 'your revert constitutes vandalism and has been reverted please do not continue to revert edits without explanation thank you',\n",
       " 'your revert at pet shop boys discography please explain this revert is there a valid reason why this image was removed',\n",
       " 'your revert at nuclear weapon i saw that you reverted a user here unfortunately you also used a standard template reversion the user was looking for more than that and even tried to have an edit summary next time be sure to engage the prospective editor some more especially if they are willing to learn contact memy work',\n",
       " 'your reversion to ken broo let this link show you that you will be eating humble pie ken did work for wkrc duh http www kenbroo com about html',\n",
       " 'your reversion of my question i didn t appreciate that i can t help that my ip changes that s a consequence of editing from a mobile phone i was asking an honest question about something that intrigues me if you felt my question was out of line i would really have appreciated your talking to me about it i have restored the question if you want to take it down again that s up to you but please at least let me know why a a fc bcc also please reread the messages i left elockid and reaper at no time was i disrespectful or harassing toward either of them i was not trying to wheedle out personal info from elockid i was asking a question ou of genuine curiosity i admitted he was under no obligation to provide any answers assuming bad faith much',\n",
       " 'your reversion of my addition to bjaodn why did you remove the content that i submitted it did come from the page user talk babysnugz though he had changed the page since i submitted it i didn t make it up if that s what you thought talk',\n",
       " 'your reversion my edit clearly was relevant i see your communication skills haven t improved since our last encounter',\n",
       " 'your retirement i hope you ll not stay away forever i know a lot of the nonsense that goes on here is frustrating but you ve added loads of good content that i for one have enjoyed reading good luck to you whatever you decide lume lvix january long time need your help hi it s been a while since we were discussing article content of early odern european military history returning here i am sad to see you have left i have no idea why i tried to mail you but this is quite hard to do without a valid adress anyway i need your help you made a good map here which i would like to translate and work over i would like to ask you f r the svg file which you might still have on you computer it would be great if you could mail me memnon bc freenet de even if only to have a little talk about history and frustrating wikipedia i also retired for several month cheers memnon bc preceding unsigned comment added by talk contribs hi memnon thanks for the message sorry for the delay you ask for the svg file of the image i made but i m not sure what that is if i can help in any way i of course will do so bye for now hello glad to see you back i look forward to reading whatever you re going to finish up prince eugene the bugle issue lxvi august your military history newsletter project news from the editors medal recipients contest results articles the month s featured and a class milhist content book reviews nick d looks at carthage and australia in palestine op ed remembering to receive this newsletter on your talk page join the project or sign up here if you are a member who does not want delivery please go to this page the bugle issue lxvii september your military history newsletter project news from the editors medal recipients contest results articles the month s featured and a class milhist content book reviews nick d and ian rose look at australian air power op ed buggie ruminates about wikilife and wikideath',\n",
       " 'your retarded your retardedyour retardedyour retarded your retardedyour retardedyour retarded your retardedyour retardedyour retarded your retardedyour retardedyour retarded your retardedyour retarded your retarded your retardedyour retardedyour retarded your retardedyour retardedyour retarded your retardedyour retardedyour retarded your retardedyour retardedyour retarded your retardedyour retardedyour retarded your retardedyour retarded your retarded your retardedyour retardedyour retarded your retardedyour retardedyour retarded your retardedyour retarded',\n",
       " 'your retarded your retarded your retarded your retarded your retarded your retarded your retarded your retarded your retarded your retarded your retarded your retarded your retarded your retarded your your retarded your retarded your retarded your retarded your retarded your retarded your retarded your retarded your retarded your retarded your retarded your retarded your retarded your retarded your retarded your retarded your retarded your retarded your retarded your retarded your retarded your retarded your retarded your retarded your retarded your retarded your retarded your retarded your retarded your retarded your retarded your retarded your retarded your retarded your retarded your retarded your retarded your retarded your retarded your retarded your retarded your retarded your retarded your retarded your retarded your retarded your retarded your retarded your retarded your retarded your retarded your retarded your retarded your retarded your retarded your retarded your retarded your retarded your retarded your retarded your retarded your retarded your retarded your retarded your retarded your retarded your retarded your retarded your retarded your retarded your retarded your retarded your retarded your retarded your retarded your retarded',\n",
       " 'your retarded bot your bot is entirely automated that is wrong you should not leave an unattented script just running through the site like that it is idiotic of you to suppose that your scripting abilities are so perfect that they will only ever make proper edits banning me doesn t help anything dipshit since i have as many ips as i want',\n",
       " 'your response to my comments earlier today blackmane first if it were me i would tell lukeono to mind his own business and stop reverting comments on my talkpage secondly including an arbcom member who assured you that the privacy of your previous account would be maintained what good would that have done me he offered me nothing his consideration give me dollars and i ll consider giving you my bicycle plus one needs a basis of trust for anything like that why should i trust worm he doesn t even tell the truth about his real name at his talkpage worm s real name is not dave craven thirdly your initial block though somewhat troublesome to me was ultimately upheld by a number of administrators you will have to live with that position if i saw someone non policy treated i would stand up and say something my block wasn t upheld by anyone the most that mob of administrative participants at wp an ani was able to muster was a decline to unblock last you said at my page you would raise my case at wp an ani you are now reneging on that this is colt on co mic',\n",
       " 'your response sounded a bit more apologetic than need be i was certainly not suggesting that you have fallen short in any way yet as i do not think of this wiki as encyclopedic as others do it is on that bases i feel we have much more ability to bring in such additional concepts as the art into the very article itself you did touch on that in a very eligant way already me i just like to keep pushing maybe a more in depth wikibook will come of this regardless these are pretty crappy photos but maybe you could use them as place holders until a better one shows up take care erin',\n",
       " 'your response required in achieving consensus hi please respond here talk assassinations and murders attributed to the ltte consensus to redirect talk',\n",
       " 'your response is nearly identical to your response in the edit summaries and it doesn t hold any water published sources corroborate that the director s work has been associated with generation x if you actually perused those sources we wouldn t be having this discussion solondz birthday is not relevant richard linklater has also been cited as a generation x film director and he was born in imdb is a user edited site not a reliable source of information and doesn t even prove your point anyway and your justification for removing the information is based entirely on your personal opinion just like earlier cases in the article with the gen x birthyear range personal opinion has no place on wikipedia',\n",
       " 'your resolve needs no help my firnd you have a skill that is rarely seen in this place and i encourage you to use it for many years to come i will not be able to write anything today wednesday but tomorrow i plan on devoting a nice block of time to the young master faramir and get him to a point where we can all stand back and be even prouder than we are now talk',\n",
       " 'your research just proves my point fan theories aren t encyclopedic especially with only sources talk',\n",
       " 'your requests for info voluntaryslave francistyers aaron i have already answered most of your questions above i won t be caught in your mind games i have answered your questions intangible has theindivdualist has answering once is enough for any of us as far as the big section about proudhon proudhon called himself an anarchist agreed but could not tell the difference between anarchy and government so we may as well include a section on daffy duck and his influence on the movement this is an article about anarchism not russian anarchism not european anarchism just anarchism so it s not a big leap to assume that american anarchism or the anarchism of other countries should be included there is more on american anarchism that needs to be in the article these edits are just a start i ll find references to show how jesus was anti authoritarian and revolutionary and he most certainly was i can t account for why the revolutionary direction to his desciples was not included in the article jesus i didn t write it i can imagine why though lol you socialist communists just keep dominating this article like it personally belongs to you it doesn t you do the same thing to or worse stuff that you accuse other editors of doing and then harass them to no end like what you are doing to intangible right now which i just discovered today to what ends will you go to guard this aricle and keep it communistic how low will you people go please try and behave yourselves duck talk',\n",
       " 'your request wikipedia wikiproject resource exchange resource request paris match article dear russavia in march you was on page above looking for an article in the paris match magazine is it still open or can it be archived cheers',\n",
       " 'your request to be unblocked has been granted for the following reason s your rite request handled by',\n",
       " 'your request to be unblocked has been granted for the following reason s you have submitted good information to the ronald mendez article request handled by',\n",
       " 'your request to be unblocked has been granted for the following reason s you have submitted good information to the mario party article request handled by',\n",
       " 'your request to be unblocked has been granted for the following reason s you are just a great guy i don t even know why you were blocked in the first place i love you request handled by',\n",
       " 'your request to be unblocked has been granted for the following reason s yeah don t see why not request handled by unblocking administrator please check for active autoblocks on this user after accepting the unblock request',\n",
       " 'your request to be unblocked has been granted for the following reason s wp rfcu has come back as unlikely request handled by call me pat',\n",
       " 'your request to be unblocked has been granted for the following reason s wikipedia indeed is the tool for scraping the shit pipe request handled by',\n",
       " 'your request to be unblocked has been granted for the following reason s unblocking per wp offer and ani discussion request handled by talk',\n",
       " 'your request to be unblocked has been granted for the following reason s this user is obviously a serious contributor working simultaneously to remove the unwanted jews from wikipedia request handled by unblocking administrator please check for active autoblocks on this user after accepting the unblock request',\n",
       " 'your request to be unblocked has been granted for the following reason s thanks for showing your reason you will never be blocked again request handled by unblocking administrator please check for active autoblocks on this user after accepting the unblock request',\n",
       " 'your request to be unblocked has been granted for the following reason s suck my cock bitches request handled by',\n",
       " 'your request to be unblocked has been granted for the following reason s seems to have been a false positive on our abuse filters sorry for any inconvenience request handled by unblocking administrator please check for active autoblocks on this user after accepting the unblock request',\n",
       " 'your request to be unblocked has been granted for the following reason s reason request handled by unblocking administrator please check for active autoblocks on this user after accepting the unblock request',\n",
       " 'your request to be unblocked has been granted for the following reason s reason request handled by unblocking administrator please check for active autoblocks on this user after accepting the unblock request',\n",
       " 'your request to be unblocked has been granted for the following reason s reason request handled by unblocking administrator please check for active autoblocks on this user after accepting the unblock request',\n",
       " 'your request to be unblocked has been granted for the following reason s reason request handled by aj',\n",
       " 'your request to be unblocked has been granted for the following reason s reason request handled by',\n",
       " 'your request to be unblocked has been granted for the following reason s reason request handled by',\n",
       " 'your request to be unblocked has been granted for the following reason s reason request handled by',\n",
       " 'your request to be unblocked has been granted for the following reason s reason request handled by',\n",
       " 'your request to be unblocked has been granted for the following reason s okay our mistake we are very sorry for this error thank you for pointing it out to us request handled by',\n",
       " 'your request to be unblocked has been granted for the following reason s ok request handled by',\n",
       " 'your request to be unblocked has been granted for the following reason s matey get rid of da block i do not have time for such inconveniences so get rids of its please request handled by unblocking administrator please check for active autoblocks on this user after accepting the unblock request',\n",
       " 'your request to be unblocked has been granted for the following reason s mate i am pissed off really fucking pissed off request handled by unblocking administrator please check for active autoblocks on this user after accepting the unblock request',\n",
       " 'your request to be unblocked has been granted for the following reason s klol request handled by',\n",
       " 'your request to be unblocked has been granted for the following reason s i want you to be free to edit pages request handled by unblocking administrator please check for active autoblocks on this user after accepting the unblock request',\n",
       " 'your request to be unblocked has been granted for the following reason s i agree cookies for everybody request handled by',\n",
       " 'your request to be unblocked has been granted for the following reason s he s right request handled by',\n",
       " 'your request to be unblocked has been granted for the following reason s geez i feel for you brother damn that cialis shit is off the hook request handled by',\n",
       " 'your request to be unblocked has been granted for the following reason s fuck you faggots it was a trick i only use wikipedia to rape plunder steal and wreak havoc you will never stop me i have over computer ip addresses to use request handled by',\n",
       " 'your request to be unblocked has been granted for the following reason s fag request handled by',\n",
       " 'your request to be unblocked has been granted for the following reason s duuur my name s alexf i am stupid request handled by unblocking administrator please check for active autoblocks on this user after accepting the unblock request',\n",
       " 'your request to be unblocked has been granted for the following reason s cuz im da sh t ni a request handled by',\n",
       " 'your request to be unblocked has been granted for the following reason s block of lifted proxy access no longer working request handled by talk unblocking administrator please check for active autoblocks on this user after accepting the unblock request',\n",
       " 'your request to be unblocked has been granted for the following reason s allowing username change to wiki dude talk contribs please put this request in at wikipedia changing username as soon as possible to avoid re blocking request handled by',\n",
       " 'your request to be unblocked has been granted for the following reason s allowing username change to qwerrty work talk contribs please put this request in at wikipedia changing username as soon as possible to avoid re blocking request handled by',\n",
       " 'your request to be unblocked has been granted for the following reason s allowing username change to gianluigipalermo please put this request in at wikipedia changing username as soon as possible to avoid re blocking request handled by unblocking administrator please check for active autoblocks on this user after accepting the unblock request',\n",
       " 'your request to assess articles hey i got your request will try to do of them a day over the next weeks cheers',\n",
       " 'your request ii ken let me say that i m not an admin or mediator if you went to one of those at least your apparent adversaries would get the final word of judgment from a recognized authority i don t have any more power on wiki than you do but if you want to cut and paste the relevant messages i can take a look i ll pray for you thanks for talking',\n",
       " 'your request i believe this will give a list of every edit kww has ever made to an edit filter it says recent changes so maybe some changes are omitted but since it goes back to i m tempted to believe it is a complete list the list doesn t differentiate between filters he created and ones he simply edited though i don t think there is a simple way of making that distinction ah thank you for that guy',\n",
       " 'your request has been accepted submit evidence at wikipedia requests for arbitration ciz evidence talk dec utc',\n",
       " 'your request for undeletion hello this message is being sent to inform you that a response has been made at wikipedia requests for undeletion regarding a submission you made the thread is wikipedia talk articles for creation connecticut valley arms cva',\n",
       " 'your request for undeletion hello this message is being sent to inform you that a response has been made at wikipedia requests for undeletion regarding a submission you made the thread is rousseau metal',\n",
       " 'your request for undeletion hello this message is being sent to inform you that a response has been made at wikipedia requests for undeletion regarding a submission you made',\n",
       " 'your request for rollback hi leszek ja czuk after reviewing your request for rollback i have enabled rollback on your account keep in mind these things when going to use rollback getting rollback is no more momentous than installing twinkle rollback should be used to revert clear cases of vandalism only and not good faith edits rollback should never be used to edit war if abused rollback rights can be revoked use common sense if you no longer want rollback contact me and i ll remove it also for some more information on how to use rollback see wikipedia new admin school rollback even though you re not an admin i m sure you ll do great with rollback but feel free to leave me a message on my talk page if you run into troubles or have any questions about appropriate inappropriate use of rollback thank you for helping to reduce vandalism happy editing let s talk about it',\n",
       " 'your request for rollback hi johnsroberts after reviewing your request for rollback i have enabled rollback on your account keep in mind these things when going to use rollback getting rollback is no more momentous than installing twinkle rollback should be used to revert clear cases of vandalism only and not good faith edits rollback should never be used to edit war if abused rollback rights can be revoked use common sense if you no longer want rollback contact me and i ll remove it also for some more information on how to use rollback see wikipedia new admin school rollback even though you re not an admin i m sure you ll do great with rollback but feel free to leave me a message on my talk page if you run into troubles or have any questions about appropriate inappropriate use of rollback thank you for helping to reduce vandalism happy editing',\n",
       " 'your request for rollback hi jeffrd after reviewing your request for rollback i have enabled rollback on your account keep in mind these things when going to use rollback getting rollback is no more momentous than installing twinkle rollback should be used to revert clear cases of vandalism only and not good faith edits rollback should never be used to edit war if abused rollback rights can be revoked use common sense if you no longer want rollback contact me and i ll remove it also for some more information on how to use rollback see wikipedia new admin school rollback even though you re not an admin i m sure you ll do great with rollback but feel free to leave me a message on my talk page if you run into troubles or have any questions about appropriate inappropriate use of rollback thank you for helping to reduce vandalism happy editing',\n",
       " 'your request for rollback hi i am not an administrator but i was allowed to close your request for rollback as not done as sysops told you this week to stay away from rollback and semi automated tools for a while please do not be discouraged as getting rollback is really not a big deal i have rollback and reviewer rights here and other than a few extra buttons it s really nothing if you really want to get rollback despite this than it is encouraged that you learn more about how to fight vandalism on wikipedia i recommend enrolling in the cvua no we cannot promise that you will get rollback after completion but if you are really interested in fighting vandalism here we can help you out regards',\n",
       " 'your request for help i am willing to give you the benefit of my knowledge in the strengthening of your articles and will translate wiki ese into english for you more on my talk page michael q',\n",
       " 'your request at wp rt replied at wikipedia requested templates sandbox for users tc',\n",
       " 'your request at wp ffu',\n",
       " 'your request at files for upload hello and thank you for your request at files for upload unfortunately we do not have enough licensing information to upload your file please check the comment made at your submission here your request will remain open for seven days while pending a response regards',\n",
       " 'your request at files for upload hello and thank you for your request at files for upload the file has been uploaded you can find it at file volney davis jpg see wikipedia images using images to learn image syntax or wikipedia creation and usage of media files for other types of files regards',\n",
       " 'your request at files for upload hello and thank you for your request at files for upload the file has been uploaded you can find it at file farmers graziers ultimo new south wales jpg see wikipedia images using images to learn image syntax or wikipedia creation and usage of media files for other types of files regards the homunculus',\n",
       " 'your request at files for upload hello and thank you for your request at files for upload the file has been uploaded you can find it at file crest of gurley alabama png see wikipedia images using images to learn image syntax or wikipedia creation and usage of media files for other types of files regards rocmy contribs',\n",
       " 'your request at files for upload hello and thank you for your request at files for upload the file has been uploaded you can find it at file biblical theological seminary logo jpg see wikipedia images using images to learn image syntax or wikipedia creation and usage of media files for other types of files regards',\n",
       " 'your request at files for upload hello and thank you for your request at files for upload i ve looked over your request and left a comment please check the comment and respond at your request on the main files for upload page not here your request will stay there for seven days and then it will be archived regards',\n",
       " 'your request at files for upload comment',\n",
       " 'your repretition of a hoax will not give you a gobbels result you are showing your true biased colors in this discussion',\n",
       " 'your report thank you for making a report on wikipedia administrator intervention against vandalism reporting and removing vandalism is vital to the functioning of wikipedia and all users are encouraged to revert warn and report vandalism however administrators are generally only able to block users if they have received a recent final warning one that mentions that the user may be blocked and they have recently vandalized after that warning was given the reported user has not yet been blocked because it appears this has not occurred yet if this user continues to vandalize even after their final warning please report them to the aiv noticeboard again thank you talk',\n",
       " 'your report of vandalism thank you for posting at wikipedia talk questions but the proper place to ask questions is our help desk with regard to vandalism normally this is quickly fixed the best thing to do if you do not know how to fix it properly is probably to come back to the article in five or ten minutes and see if the vandalism is gone if not then you should report the problem at the help desk',\n",
       " 'your reply about feb see reply on talk standardization',\n",
       " 'your repeated wp consensus violation at the antifreeze article as you can see consensus is against you as such you need to stop violating it',\n",
       " 'your repeated removal of content on lund university hello please stop removing content from the article the guideline you are referring to wikipedia manual of style words to watch is about unsourced puffery and does not apply here also please note that you per wp brd if you are reverted are to take it to the talk page of the article and get support for it there before removing it again as a personal comment i would also like to add that an ip belonging to one university trying to downplay another university on wikipedia does not look good talk',\n",
       " 'your repeated emails despite my earlier request you have persisted in emailing me about this matter if you wish to contest the block follow the procedure in the block notice above matters such as this must be discussed in full view of the wikipedia community and not in private emails',\n",
       " 'your repeated efforts to vandalize articles makes it seem that you are unaware that wikipedia is a serious project you have been reported to the administration group for continuing vandalism and an administrator will review your contributions shortly you may not receive another warning before being blocked so be careful and be serious from now on if you are blocked please reconsider your behavior once the block expires talk',\n",
       " 'your repeated efforts to vandalize articles makes it seem that you are unaware that wikipedia is a serious project you have been reported to the administration group for continuing vandalism and an administrator will review your contributions shortly you may not receive another warning before being blocked so be careful and be serious from now on if you are blocked please reconsider your behavior once the block expires',\n",
       " 'your removal of the pictures from magiranger i replaced all of these edits as you listed no reason as to why they were removed they belong there as they are screencaps from magiranger featuring all of the magiranger members they are simply named incorrectly as the mystic force s character names',\n",
       " 'your removal of sourced information from the article van morrison is disruptive please stop',\n",
       " 'your removal follows your own point of view however your replacement is not cited and appears to be essentially your own opinion so i ve restored what lutyens said',\n",
       " 'your remarks the content you were debating on volksdeutsche article was not the edit that i made today i suggest you be more carefull with threats of sanctions',\n",
       " 'your remarks on talk pallar are accurate and our articles in that area could benefit from someone editing them brutally disp',\n",
       " 'your relentless edit warring your messages are almost as ridiculous as your editwarring this wouldn t have started if you didn t keep violently editwarring and pov pushing your agenda let s how long before we see you get blocked again',\n",
       " 'your references are still not objective i can t believe that in your most recent edit you actually cited tran van ba as your reference recieved confirmation from chancellor tran van ba last colonel in chief for emperor bao dai that coat of arms is correct tran van ba according to his own statements is the person you work for in fact you have been editing from the same computer as tran van ba and we have no evidence other than a large number of computer messages from an e mail address bearing his name that tran van ba is who he says he is and if he is we have no evidence that what he says is true except that he says it how many times do i have to say this tran van ba is not an objective source he is not a book he is not a newspaper he is not a historian he is one of the subjects of the article he has a conflict of interest you also have a conflict of interest since you are apparently employed by him and by the family in question and you expect us to accept your statements as fact simply because you say tran van ba told you so this confirmation is the same as if i said the moon is made of green cheese because my mother who has been to the moon told me so i could provide a million e mails from my mother and that would still not be evidence your repeated citations of various websites that simply refer to mr nguyen as prince are equally irrelevant they are simply repeating a claim that he has made which has nothing to do with proving what bao dai said or did or whether there is a nguyen coat of arms what you need is even one book or newspaper or magazine article not a website that mentions a a nguyen coat of arms or b bao dai bestowing an imperial title on anyone an event that surely would have been recorded by someone at the time you say you are a lawyer if so you understand the meaning of evidence citations and research if so you are insulting our intelligence and attempting to deceive people and i hope you will be banned from wikipedia soon if you do not simply give up and leave since you seem to have no interest in anything other than this propaganda campaign oct utc',\n",
       " 'your reference to a wireless modem makes it sound as if you have just confused the two items because there is not really any such thing as a wireless modem that would actually be a modem router presumably all your clients share the same connection m h',\n",
       " 'your record indicates that you were banned as a vandal several times and asked for a defense several times also your record indicates that bertil videt asked you to revert some legitimate changes without reason and you did it because he asked you vandalazing good content that did not suit him or you you should talk also please read your own talk page regarding many other warnings given to you by other users',\n",
       " 'your recent stupidity please refrain from being stupid your recent ignorance has been reverted next time you try to supress the truth you will be blocked thank you the truth teller preceding unsigned comment added by',\n",
       " 'your recent stupidity please refrain from being stupid your recent ignorance has been reverted next time you try to supress the truth you will be blocked thank you the truth teller',\n",
       " 'your recent reverts on naturopathic medicine i see that you have recently reverted some edits to the naturopathy page i note that you have given as your reason that the changes to the lead were pov but that you have not bothered to explain why you think this is so in the discussion page could you please explain why you think it is pov for the article to describe naturopathy as an approach to medicine rather than a single proffesion or standard of care do you dispute the fact or the way in which it was written i am open to rewriting compromising to get consensus on an npov but if you are not willing to explain yourself this will be very difficult do you really think that the umberella term naturopathic medicine is represenatative of single entity group or way of practicing medicine could you back this up could you also explain why it would be considered pov for the article to mention that the principles of naturopathy are practiced in multiple settings complementary alternative and primary care by traditional healers nds mds dos dc s etc again do you dispute this fact or the way it was written i have provided citations for this did you even consult them before deleting my work can you provide a citation asserting the opposite that naturopathic medicine is an exlusive term owned and used by a single organisation to the exlusion of other types of practitioners your assertion that naturopathic medicine is cam not medicine could be misconstrued to reveal a deep and irrational bias on your behalf what do you imagine the m in cam stands for the fact that the term medicine without a modifier is usually interpretted to mean conventional regular normal medicine does not mean that the less common practices are somehow not medicine i hope that you will take the time to participate in the discussion of the above on the talk page i will continue to edit what i see as helpful npov information about the complex breadth and scope of naturopathy untill you can explain what it is that you do not like about the contributions i have made on the one hand i can t work in a vaccuum but on the other hand i won t be bullied into submission either one more thought your vague references to various wps could be viewed as a form of wikilawyering i hope that you will consider explaining the violations that you percieve rather than continuing to set up an all out edit war',\n",
       " 'your recent removal of some text at global positioning system was hilarious thank you i snorted tea out my nose talk',\n",
       " 'your recent removal of environment friendly from the page devoted to the nonsensical term environmentally friendly this is about the most underhanded act that i have witnessed on wikipedia and i have been contributing since wikipedia s beginning days we know that on the societal level a so called researcher or scientist involved in or acting as agent of tainting skewing concealing and even destroying evidence in order to force a biased outcome is reprehensible and to perform the very act on a world stage in plain view even certifiable if i wanted to put the energy into moving or renaming the above referenced page i would be able to resource the adequate number of true academics motivated by their cerebrum and not their lowest level neural tissue however i abandon my intention to do so with the satisfaction that your deviant and despicable act has evinced your true character',\n",
       " 'your recent questions will you please stop trolling on the science ref desk with those inane questions about why is blank easier than driving a car if you have some question that you re genuinely curious about we ll be glad to answer it for you but do you realize how annoying it is when someone asks the same question over and over again thanks a lot',\n",
       " 'your recent new pages please stop posting copies of policy pages if you wish to experiment feel free to use the sandbox cheers',\n",
       " 'your recent misguided deletion i created an article for the first fucking time with many references and you deleted the article immediately if you could see clearly you should have noticed that wp g speaks about recreation of an unimproved article i settled the case for the lga chairmen being elected in the nigerian parliamentary election and also added an additional claim of notability being the general secretary of the association of local government chairman a federal political body i have recreated many deleted articles in the past and i did not go through deletion review so stop confusing yourself don t ever delete articles with many reliable references again without seeking consensus especially when an editor is creating the article for the first time be warned',\n",
       " 'your recent interaction with user tobias conradi this user can be trying sometimes but please remain civil some of your interaction with him is somewhat borderline try to take the high road if you can i know it s hard thanks and happy editing t c',\n",
       " 'your recent edits your recent moves edits to articles categories templates etc can be commended per wp bold but unfortunately they are controversial and undiscussed the correct venue is wp rm wp cfd and wt tfd these moves need consensus behind them if you continue to make such moves especially ones to incorrect titles without that consensus then your actions could be deemed disruptive and may result in you being blocked from editing snowman hi gs i think you are being completely mislead and do not have the facts in hand i have been following the proper avenues and have been meticulously improving the information that had remained incoherent prior to my immense contributions absolutely i should be commended for it not that i need request or desire commendation if you take your time and really sit down to look through the entire history logs of both myself and what the category fort lauderdale strikers page looked like you would see that there was an entire mess everything was disorganized i would gladly have a conversation with you in reference to the methodology used to place the information in order it is now in a suitable form that is representative of a wikipedia index from the onset of my entrance to the wikipedia team i have been a contributor for the site who has only been bringing more insight by expanding articles or creating new ones you really should look into my entire contributions before pointing fingers this is not right and is counterproductive towards wikipedians who are here to do good i have recently been putting in countless hours of tedious work towards improving the history of the fort lauderdale strikeres and have placed very useful information the person above who is making the dispute and has come here making requests for your assistance has not made any significant contributions to the history of the team other than fixing a title that was hyphenated on a couple of articles if anything this person should be speaking with me as i am the one who has the proper knowledge of the subject in question and have been making consistent improvements to the relevant articles furthermore you should be speaking to this individual instead as he she is the one who is editing without proper consultation to users who have been contributing significantly i ask that you seriously do some research on my history from day one to now and put into proper context the positive value of my participation in wikipedia thank you',\n",
       " 'your recent edits your recent edits to adolf hitler meet the accepted wikipedia definition of vandalism please desist from making such nonsense edits and please remember that wikipedia policy is to always write in a neutral point of view thanks chris lawson talk it is considered very bad wikiquette to delete non vandalism entries on user talk pages please do not vandalise talk pages in this manner thank you chris lawson talk regarding your recent edits to japanese academy awards please stop adding nonsense to wikipedia it is considered vandalism if you would like to experiment use the sandbox chris lawson talk please stop if you continue to vandalize pages you will be blocked from editing wikipedia your behaviour is unacceptable chris lawson talk',\n",
       " 'your recent edits you currently appear to be engaged in an edit war note that the three revert rule prohibits making more than three reversions on a single page within a hour period additionally users who perform a large number of reversions in content disputes may be blocked for edit warring even if they do not technically violate the three revert rule if you continue you may be blocked from editing please do not repeatedly revert edits but use the talk page to work towards wording and content that gains a consensus among editors if necessary pursue dispute resolution',\n",
       " 'your recent edits to my user page i am sure you will not mind that i write on my user page that the user page has been edited partly by you against my will',\n",
       " 'your recent edits to kottonmouth kings i can t send you a message on myspace because i m not your friend but i deleted because you did not cite your sources and because it was written like a year old not encyclopedic at all if you check wikipedia s policies all statements must be cited or they may be deleted also i put a warning on the kottonmouth kings talk page that cleary states all uncited revisions or revisions that do not follow npov will be reverted you can read the whole warning at the bottom of the talk page under the section called editing this page also even if you are a friend of johnny richter doubtful i ve met him and have had things signed by him but i don t claim to know him writing about his life based on your personal experiences with him is considered original research which is also not allowed by wikipedia policies so please feel free to edit wikipedia but also make sure that your contributions are helpful and follow guidlines hope that clears things up',\n",
       " 'your recent edits to danity kane thanks for contributing to wikipedia unfortunately the commercial links content you added were inappropriate as wikipedia is an encyclopedia and should not be used for advertising or a collection of external links see the welcome page if you d like to learn more about contributing to the encyclopedia thanks talk contribs',\n",
       " 'your recent edits to bridgend ravens and vana diel have also been reverted',\n",
       " 'your recent edits thank you for experimenting with wikipedia your test worked and it has been reverted or removed please use the sandbox for any other tests you may want to do take a look at the welcome page to learn more about contributing to our encyclopedia talk',\n",
       " 'your recent edits something to read and a point of view hi please take the time to read wikipedia guidance for younger editors when you have a moment please also be aware that it not only applies to things you post on wikipedia but also to things you ask others on wikipedia secondly there is no minimum age to edit wikipedia and it certainly doesn t just happen to coincide conveniently with however old you happen to be today some year olds are administrators some people have been administrators and bureaucrats while aged some year olds and year olds are banned from wikipedia by the community actions not numbers are an indication of maturity talk',\n",
       " 'your recent edits please do not add inappropriate external links to wikipedia wikipedia is not a mere directory of links nor should it be used for advertising or promotion inappropriate links include but are not limited to links to personal web sites links to web sites with which you are affiliated and links that exist to attract visitors to a web site or promote a product see the external links guideline and spam policies for further explanations of links that are considered appropriate if you feel the link should be added to the article then please discuss it on the article s talk page rather than re adding it see the welcome page to learn more about wikipedia thank you talk',\n",
       " 'your recent edits please do not add inappropriate external links to wikipedia wikipedia is not a mere directory of links nor should it be used for advertising or promotion inappropriate links include but are not limited to links to personal web sites links to web sites with which you are affiliated and links that exist to attract visitors to a web site or promote a product see the external links guideline and spam policies for further explanations of links that are considered appropriate if you feel the link should be added to the article then please discuss it on the article s talk page rather than re adding it see the welcome page to learn more about wikipedia thank you',\n",
       " 'your recent edits please cease adding uncited and inaccurate material to wikipedia see wikipedia no original research and wikipedia verifability also wikipedia what wikipedia is not and wikipedia list of bad article ideas',\n",
       " 'your recent edits of mtv generation thank you for experimenting with wikipedia your test worked and it has been reverted or removed please use the sandbox for any other tests you may want to do take a look at the welcome page to learn more about contributing to our encyclopedia',\n",
       " 'your recent edits list of active indian military aircraft',\n",
       " 'your recent edits i suggest you stop edit warring and bring the issue to the article talk page wikipedia is built upon wp consensus amongst the greater community of editors and currently your edits at nine dotted line do not meet consensus bring your arguments to the talk page and discuss with other editors rather than reverting without proper communication talk contribs email',\n",
       " 'your recent edits i am not involved in an edit war if you consider the one you started i am not side of your war a simple not for you you currently appear to be engaged in an edit war note that the three revert rule prohibits making more than three reversions on a single page within a hour period additionally users who perform a large number of reversions in content disputes may be blocked for edit warring even if they do not technically violate the three revert rule if you continue you may be blocked from editing please do not repeatedly revert edits but use the talk page to work towards wording and content that gains a consensus among editors if necessary pursue dispute resolution',\n",
       " 'your recent edits hi there in case you didn t know when you add content to talk pages and wikipedia pages that have open discussion you should sign your posts by typing four tildes at the end of your comment on many keyboards the tilde is entered by holding the shift key and pressing the key with the tilde pictured you may also click on the signature button located above the edit window this will automatically insert a signature with your name and the time you posted the comment this information is useful because other editors will be able to tell who said what and when thank you',\n",
       " 'your recent edits despite my earlier warning you have again created an unreferenced article if you continue to create articles without any references then i will consider blocking you to prevent further disruption snowman',\n",
       " 'your recent editing history at melungeon shows that you are currently engaged in an edit war being involved in an edit war can result in your being blocked from editing especially if you violate the three revert rule which states that an editor must not perform more than three reverts on a single page within a hour period undoing another editor s work whether in whole or in part whether involving the same or different material each time counts as a revert also keep in mind that while violating the three revert rule often leads to a block you can still be blocked for edit warring even if you don t violate the three revert rule should your behavior indicate that you intend to continue reverting repeatedly to avoid being blocked instead of reverting please consider using the article s talk page to work toward making a version that represents consensus among editors see brd for how this is done you can post a request for help at a relevant noticeboard or seek dispute resolution in some cases you may wish to request temporary page protection',\n",
       " 'your recent editing history at chapel hill shooting shows that you are currently engaged in an edit war to resolve the content dispute please do not revert or change the edits of others when you get reverted instead of reverting please use the article s talk page to work toward making a version that represents consensus among editors the best practice at this stage is to discuss not edit war see brd for how this is done if discussions reach an impasse you can then post a request for help at a relevant noticeboard or seek dispute resolution in some cases you may wish to request temporary page protection being involved in an edit war can result in your being blocked from editing especially if you violate the three revert rule which states that an editor must not perform more than three reverts on a single page within a hour period undoing another editor s work whether in whole or in part whether involving the same or different material each time counts as a revert also keep in mind that while violating the three revert rule often leads to a block you can still be blocked for edit warring even if you don t violate the three revert rule should your behavior indicate that you intend to continue reverting repeatedly northbysouthbaranof talk if this is a shared ip address and you did not make the edits consider creating an account for yourself so you can avoid further irrelevant notices',\n",
       " 'your recent edit to user talk dgg hi i presume you had an edit conflict or some other glitch but please could you restore the large amount of material you removed from s talk page in this edit thank you',\n",
       " 'your recent edit to template us paralympic medalist stub please note that we don t wrap the stub tag s category parameter with we eant the stub tags in the categories and the template always places them at the beginning before the articles od mishehu',\n",
       " 'your recent edit to ska diff was reverted by an automated bot that attempts to recognize and repair vandalism to wikipedia articles if the bot reverted a legitimate edit please accept my humble creator s apologies if you bring it to the attention of the bot s owner we may be able to improve its behavior for frequently asked questions about the bot and this warning',\n",
       " 'your recent edit to maggie s farm please stop if you continue to vandalize pages you will be blocked from editing wikipedia talk',\n",
       " 'your recent edit to alaaddin keykubat i',\n",
       " 'your recent edit on september thank you for experimenting with wikipedia your test worked and it has been reverted or removed please use the sandbox for any other tests you may want to do take a look at the welcome page to learn more about contributing to our encyclopedia',\n",
       " 'your recent edit at sarahs talk page you recently made a comment on sarah s talkpage which was quite strong in content if this comment was not being addressed to sarah but to the ip contributor who preceeded you on the page then it should have been made on the ip s talkpage you should only address sarah on sarah s page if otoh you were addressing your remarks to sarah then you were way out of line either way i think you owe sarah an apology i also thing you should revert your edit and place it on the ips talk page it is quite obvious that i m addressing it to the ip as sarah never made a threat it is hardly way out of line seeing as the ip was making what could be easily regarded as combative threat also its a talk page but if you insist i shall remove the message to their talk page an apology i remember the last time i asked you for an apology talk i m actually thinking of reverting my removal of the message as the ip s address is not static and each time they appear their ip will be different talk the ips threat is as hollow as his her head i wouldn t pay much attention to it no need to personally attack them with the hollow comment a threat by an irishman republican or loyalist should never be taken as hollow lol talk i never made a threat mabuska so stop crying goodday my head is far from hollow i have a static ip so how do i do it please explain and personal remarks are not allowed please apologise back to mabuska never met a loyalist who is irish not once did you could be easily regarded as combative threat if i did make a threat you would have no problems reading it even as like myself english is not your first tongue now there are going to be some issues over how i do bussiness on here i understand that and i do not apologise for them now any questions this is going to be fun preceding unsigned comment added by if you want to be a disruptive arguementative combative editor go ahead such editors usually end up being indefinately blocked actually the vast majority of broadband ip s are never static as far as i m as i m aware so unless you create an actual account to edit with you will end up with a different ip every different day or week you appear unless it cycles back to one you ve already used anyways who said i was a loyalist never said i was and will state quite clearly for you that i am not one if i was i d had no shame in declaring that i am you show your own lack of knowledge of irish history anyways what was james craig someone you can call a loyalist described as at his funeral as a proud ulsterman and irishman edward carson himself was a proud irishman but can also be easily classified as a loyalist they always said the troubles was mostly due to ignorance and prejudice especially towards history if you really want to make a difference on wikipedia and be somewhat successful at doing so the best way is to play by wikipedias rules and not by being disruptive or coming out with childish remarks such as stop crying or implying threats talk never called you a loyalist where did you get that from i dont makes assumptions asked you a question you failed to answer the men you mention are no longer and by definition you could not meet them ireland is a sovereign state and that was my point even the loyalist i know are not irish citizens which is what irish is defined as never implied a threat stop crying lol wikipedia has to obey wider rules than its own i have no lack of knowledge how do editors get block by not going by the rules i havent broken any nor will i now if you dont mind i have some work to do now apologise to me for falsely saying i threatened you',\n",
       " 'your recent disruptive editing at ward churchill academic misconduct investigation per your edit reason unexplained del of sourced content checked talk page what part of my undo reason xenophenic yet again i ask if you would please justify adding information from a source that the source describes as not creditable are you having difficulty understanding',\n",
       " 'your recent contributions why don t you leave my articles alone you spiteful shit',\n",
       " 'your recent comment i m positive that you did not know this but i am muzekal mike and i did that for a constructive purpose please disregard it',\n",
       " 'your recent claims dear delanoy i am really surprised to hear that i could be editing from someone else s account this is simply impossible technically i am the only account for my edits some editors may develop close online camaraderie on certain pages of their mutual interest but that is where the issue stops your use of wikistalk is controversial i added my name next to names of users who opposed my edits and wikistalk found very close similarity',\n",
       " 'your recent changes please do not add nonsense to wikipedia it is considered vandalism if you would like to experiment use the sandbox thank you',\n",
       " 'your recent censorship of comments in support of wikipedia its policy and its processes just a note my edit was a good faith criticism in support of wikipedia its policy and its processes it is not your place to censor',\n",
       " 'your recent article moves there have been several complaints about most of your recent page moves and your lack of replies to them please be mindful of these concerns and wikipedia s policies on article titles wikipedia works through consensus just so you know other users who have repeatedly behaved as you have just now were eventually classified as disruptive editors and subsequently blocked or banned indefinitely thanks not responding to such complaints will get you blocked regards good morning i am sincerely sorry for my recent editing behavior because of my lack of understanding i promise that i will not do it again thank you very much',\n",
       " 'your recent article hello and thanks for visiting however please note that wikipedia is not a social networking website but rather than an encyclopedia for significant information such as science geography history etc for articles to be accepted biographies must meet wikipedia s notability guidelines the best place to write about yourself is your user page talk',\n",
       " 'your reasoning of speaking for other people echos that of soldiers remarks saying they were following orders orders or not they are equally guilty as those who ordered them in the first place so please don t get into technicalities',\n",
       " 'your reasoning of readers don t use it is not true that s why in all cases it gets more hits by orders of magnitude more it s really necessary to distinguish between the ayin and the hamza and if you want to use the apostrophe for both then it s not correct it s either ayin hamza or ayin hamza anything else is sloppy without the h the ta marbuta is ignored and it s another example of sloppy writing we already had this argument on fatima zahra and you won based on google hits i m really not sure why you oppose using the h should we rfc this px talk',\n",
       " 'your reason to be unblocked here',\n",
       " 'your reason here below unblock',\n",
       " 'your reason for declaring this a hoax is plainly something else i have just reported you to wikipedia administration also for removing appropriate tags',\n",
       " 'your reading skills are atrocious or maybe you are mentally impaired in some way consult a doctor to be sure but don t bother me with your nonsense again',\n",
       " 'your rant above seems to be mainly about the fact that you don t like gilbert and seems to have little to do with improvement of this article',\n",
       " 'your racist attitude is being ignored and your bias views over malvinas is exposed by the way you manipulate the words to meet your needs you are good but not good enought to win a discution in a intellectual manner the only way you can overcome my wisdom is to have me removed as any british would do in face of greater chalenges',\n",
       " 'your quote is referenced that second sentence is pretty ridiculous though',\n",
       " 'your quote from samuel langford reads as though he was anti mahler but his manchester guardian reports were well disposed though not adulatory see here and here',\n",
       " 'your quite welcome you deserve it dog',\n",
       " 'your questions on the science ref desk your questions about urban search and rescue etc on the science ref desk beg this question are you a disaster novelist like me',\n",
       " 'your question was why not restore the information because the same users delete it and that constitues an edit war the original version of the article was restored after the vandalism per cameron s instructions and within hours the same users went back and gutted the information out cluebot caught it and reverted the changes it seems they are gutting a little at a time so as not to alert cluebot since an edit war is a violation of wiki policies the only other option is to mark the article with the wiki tags',\n",
       " 'your question was confusing if you say that ch denial support is a matter of faith then it s like saying that the entire global warming article should be tagged as pov faith subject as well not just the denial article you realize of course that this is not something feasible although i personally doubt man made global warming the subject has nothing to do with faith it s about facts data and interpreting analyzing understanding the data so long as the data is not false or misleading there are scientists who oppose the mainstream opinion and there are scientists who go along with the mainstream opinion in order to keep their jobs position rather than a religion issue it s more a political financial issue',\n",
       " 'your question to mongo it s perfectly normal to delete the talk page of a deleted page and as for the protection well it s hard to believe that that s a genuine question from someone who innocently and genuinely is wondering and has no intent to harass and annoy another user i ll give you a little piece of advice it you want to avoid being blocked for disruption and harassment if someone deletes something from his own talk page assume that he has read it and do not attempt to repost it if you are sufficiently familiar with wikipedia to be able to check logs and know who deleted or protected a particular page then you are also have sufficient knowledge to be able to work out for yourself why the page you refer to was deleted and protected whether or not you agree with the decision',\n",
       " 'your question reveals so much about you fat and let me warn you not to warn me again or you will not like the consequences by no means do i consider the killing of the indians any more or less important than any other killings the only thing i notice is that the article appears to have two separate references to the event of the indians killing which made me believe it actually happened but i would also be happy to see any other killings highlighted the main problem is that it appears some people here who will remain nameless fat seem to be trying to bury the unpleasant details there s nothing particularly unique about the incident concerning luis and salvador malleus fatuorum said there s nothing particularly unique about the incident concerning luis and salvador i happen to agree with mf and would like to support his argument that many people have been shot and eaten throughout history here are some examples i could think of off the top of my head night of the living dead and days later i couldn t think of any others but i am sure mf can provide some more',\n",
       " 'your question regarding to spanish political parties during the second republic i ve added another reply to your question farewell',\n",
       " 'your question on wikipedia village pump miscellaneous you recently posed a question on wikipedia village pump miscellaneous questionable use of wikipedia content concerning the questionable use of wikipedia content on http www recipeland com and you asked to be notified of the answer on your talk page well at the very very bottom of those pages is written copyright metro isp inc sean wenzel all rights reserved all wikipedia text is licensed under the gnu free documentation license the original article can be found at www wikipedia org talk',\n",
       " 'your question on my recent rfa you asked me how have i improved since my last rfa though my rfa is now over i feel obliged to answer your question in my last rfa there was major concerns civility and edit warring since then i have stopped bitting newbies and i have not said anything uncivil i do not want to be a uncivil editor because that has a terrible effect on the community i love the idea of wikipedia and i want to help it not hurt it i have stopped edit warring as well i have learned to stay away from wikipedia when under rl stress when stressed you are more apt to act stupidly have a nice day',\n",
       " 'your question on my arbcom candidacy hey karmafist i ve answered your question to me on my arbitration committee candidacy if you want me to go into more detail please just let me know cheers t e c',\n",
       " 'your question on irc hi sorry i wasn t there to reply to the question you asked me on irc yesterday the answer was no not yet inp',\n",
       " 'your question if you are asking how to get in contact with the subject of your work we have no idea how to do that on wikipedia we generally do not keep contact information if you are asking something else then please clarify',\n",
       " 'your question i have voluntarily given you my identity and ip address on a popular wp discussion site of which you are a member if you need further information you may contact me there as a reference it was the place in which we were discussing who to invite to the party',\n",
       " 'your question hi i m afraid i don t work wp afc so i can t really answer you you don t indicate whether there is a technical obstruction or a procedural based one not working in the area i m going to guess that you need to be able to move pages and that your problem is a technical one if so you will be autoconfirmed four days after registration presuming you have sufficient edit count and you seem to so it should resolve soon talk',\n",
       " 'your question at the help desk hello replies have been posted to your question at the help desk if the problem is solved please place resolved at the top of the section thank you you can remove this notice at any time by removing the helpdeskreply template couple of other things please use edit summaries for your edits and don t forget to sign your messages on talk pages and project pages like the help desk thanks',\n",
       " 'your question at the help desk',\n",
       " 'your pw this is jimbo welles i m doing some maintence on wikipedia marcus qwertyus i m going to need your password as well as your email address so i can update on the wikipedia server',\n",
       " 'your pushing it yourself here mean your an admin right an admin is ment to check and not go blindly charging in so check the talk page history now i know you do it but it is not my fault if your comrade is completly incompetent',\n",
       " 'your psychological problems some advice dude i am looking over your extensive edit history and i want to share some guidance that no one else may have the guts or more likely care enough to do you are quite obviously a very very very sick person i can t even begin to imagine the scene you sitting in your closet of a house editing this site all day with intensity and your eyes glued looking for the next battle and declaring these little wars over nothingness what posseses you to waste your life this way do you get laid do you need further explanations as to why you are wasting oxygen and dna with your efforts do you have anyone who knows you waste your life like this please don t be offended but please just stop you have a very serious illness see a psychologist but for god s sake peel yourself away from this web site and do something with your life before it s over and your are forgotten for the nothing you ever did and the nothing you ever became',\n",
       " 'your protege prin aka man s plans vandalised my user pages a dozen times thank you',\n",
       " 'your proposal on arbiitration your proposal on the arbitration page sufficiently answers that question does it not have a nice day bhaisaab talk',\n",
       " 'your proposal above is essentially no different from the survey we just had what makes you think there is sufficient support for it let s see if we can at least make some progress in selecting a new title for this article below',\n",
       " 'your profile as a roman catholic that is also interested in hip hop and aviation and commercial agriculture i want to say welcome to wikipedia if you need article editing advice but must tell me first',\n",
       " 'your problematic editing is too much to ask you to try and edit according to the manual of style mos policies instead of your own idiosyncratic preferences your editing is frequently riddled with many blatant mos mistakes which require reverting before you do any further editing i suggest you spend some time studying the mos any mistakes you make that i notice will be reverted so you will be wasting both your own time as well as mine',\n",
       " 'your problem is that you remove my criticism which are not personl attacks you need to actually read my messages of which about of them you removed from the record and i m keeping yours off until you bring mine back',\n",
       " 'your problem is indeed that you have no words you have placed no words on the article s talk page if you had discussed your proposed edits first on the talk page that might have avoided the edit warring your additions to the list of belligerents was completely unsupported by the sources you cited they had to be removed for that reason if there are in sources variations in fighter numbers you do not just delete one sourced figure and replace it with another sourced figure if both figures are in reliable sources then both figures can be placed in the infobox many other conflict infoboxes do this because you deleted a sourced figure and replaced it with an undiscussed figure i reverted that part of your edit too you must discuss these things on the talk page if your figures are in credible sources then they will eventually after discussion be ok for the infobox same for the named person in the azeri army',\n",
       " 'your probably the enemy of hazara and that s why you keep changing the numbers and trying to show that they are not more then m hazara around the world let me tell you this in past history that innocent hazara people prosecuted by the pashtun ruler and the pashtun are always tried to show to the other people in the world that hazara populations are very little in afghanistan but in fact hazara populations are more then m around the world and only in afghanistan we have to m hazara and the reason i know because i am a hazara and i know how many hazara are living around the world',\n",
       " 'your probably right but don t you think the sieged military base in city would still count as part of the ongoing city battle i don t think the wadi deif military base is not so far from the actual city of maarat al numan plus theirs government presence in the city you probably hear reports from aljazeera which is an extremely byist network for the terrorists and mercenaries of the fsa they take rebels claims of taking the entire city and killing soldiers but we both know after the battle of al raqqah government forces quickly took back the city im trying to say that you should look into more reliable sources like sana that s simply how wikipedia works april utc',\n",
       " 'your private details publicly available soon unless this is your last chance after that you can blame your sorry self you sad sod',\n",
       " 'your prison sentence what ya in for',\n",
       " 'your previous comment had suggested you didn t get it or that you thought your position was not unreasoned the',\n",
       " 'your pretty special you know love all you guys and girls',\n",
       " 'your pov pushing hello i ve reverted your edits at the comparison of the ak and m however given that some of your additions were useful fell free to add them one by one you ve been told by an admin that translation of references is not required so if you attempt to delete sourced material you will be banned',\n",
       " 'your pov notwithstanding this article is not about annoymous nor the date december this article is about guy fawkes night the event which takes place on the same day as the anonymous festivities the information you and buddy lee are trying to force onto the article is at best a non important factoid which would be better suited elsewhere talk',\n",
       " 'your pov needs actual arabic sources that use the term khalij e arabi before the th century when arab nationalism did not exist in its current form or you need scholars with explicit sentences not your intrepretation that say bosworth sick etc are wrong and the name was used by arabs before the th century and it was not a product of nationalism',\n",
       " 'your pov and propaganda pushing is dully noted however listing interesting facts in a netral and unacusitory tone is not pov you seem to be confusing censorship with pov monitoring i see nothing pov expressed in the listing of intersting facts if you want to contribute more facts or edit wording of the cited fact to make them sound more netral then go ahead no need to censor interesting factual information wiki badass woo u',\n",
       " 'your post to black kite np i just read what you posted over there to black kite you might want to re phrase that immediately as it greatly mis characterizes the wqa and it s resolution wqa is not a spanish inquisition and your post to black kite may only further exacerbate things for your sake and mine please address this at your earliest convenience my regards as always',\n",
       " 'your post re user johnhistory the comments that you site are taken very seriously by the wiki administration i know you re on wikibreak i am on a semi break myself but if you have a mo you might want to pursue it in the appropriate forum a few harsh remarks here and there can slip by but the ones you mention are beyond the pale',\n",
       " 'your post on my talk page what was it in refrence to when have i attacked any other editor',\n",
       " 'your post i boycott irc because of misgivings over the admin channel so you won t find me there my e mail is enabled i do use gmail chat and skype best wishes and i do hope to help you return we need a better system for this charge',\n",
       " 'your post at wpus i just wanted to let you know that very few watch wpus anymore its mostly a dead project you might have better luck leaving a note at wp us congress',\n",
       " 'your post at file talk emblem question yellow svg you recently posted at file talk emblem question yellow svg i am on the sag nominating committee and am trying to rsvp for marilyn at the paris theatre on november th thank you juliette pagano i m not sure why you re on wikipedia trying to do that i suggest you call the appropriate person on the telephone instead to make sure the message gets through',\n",
       " 'your position what are you a mall security guard who couldn t make the police force yet dreams of having power over people the tone in which you write is almost robotic in its slavish lust for wikipolicy if jimbo wales told you to kill someone i honestly belive you would do it as per some new wikimurder rule i think maybe you should take a few months away from this website rebuild your real life and retern with an eye to being less tight assed than you have been in the past its just wikipedia not life or death but you honestly write like its your lifes goal to make this thing as good as it can be if some unsourced material makes it into a low level article on a cartoon then its ok your life will go on and all the people who read said article will survive the experience relax take a break and come back a better editor ps could you stop writing on everyones talk pages with advice threats dictates remember you are not an admin and even if you were you have no right to lecture others how to behave you have no authority whatsoever',\n",
       " 'your popups code seems to have been damaged by something apparently in one of the scripts you import as there was no change to your js file at the time the substitution stopped working compare the edit summary of this revert you did compared to the edit summary of the next one you did cheers',\n",
       " 'your polices are nothing but lies also wtf is an ip do you mean ip i suggest you get people to teach your editors basic english and as a matter of fact i have an account and i will edit and spam all i like good day cunt',\n",
       " 'your points echo mine very closely hoary the person who wrote the article daisuke kawasaki is not a noted music critic or industry person he owned a small fanzine called beikoku ongaku which is linked in bbb s source and published it with his wife but it is now defunct if you look at their companies website http www beikoku ongaku com they are now selling collagen beauty drinks whatever that is i d just like to point out that while it may seem trivial to argue about people use the wikipedia for information and silly claims like this spin out of control and escalate into utter nonsense journalists researchers etc do use the wikipedia to get a lot of their information quickly the articles are making it sound like an achievement or hallmark in japanese popular music when it is not lists by the british film institute etc are different as they are made via a consensus with the worlds leading critics and industry persons and an explanation is provided as to why each film was chosen etc what is being contested by me is just a random list that is noted by the publisher as being biased and arbitrary which means chosen randomly with no reasoning this is like a tv network saying the views of such and such do not reflect those of the station it s pretty bad when the publisher prints a disclaimer on the cover next to what it s advertising',\n",
       " 'your points are well made i guess there is no perfect answer certainly the single rogozhskoye cemetery under category religion in moscow looked odd religious cemeteries might be better categorized under the religion e g see category jewish cemeteries and category roman catholic cemeteries if you wanted to use or create appropriate categories for specific religious connections in many most countries cemeteries have religious connections as a rule but russia moscow is obviously different here i hope this helps',\n",
       " 'your point still has some validity but don t cheat do it right in text it should be xy with italic symbols a serif font would make it look better i don t know if there s an acceptable way to do that in wikipedia articles the disparity in size often makes the tex math look weird when written inline the bottom of your e letters descending below the line is real ugly jan utc',\n",
       " 'your point on verifiability didn t pertain to my conduct such as other ponts made please advise me i want to have time to write my email to the professors i cannot do so when all kinds of changes are made that i don t have control over thus while my a request for a time out is not respected i really would like to have a time out now do i have to ask for mediation or is there no option of having a time out',\n",
       " 'your point of view is valid and my rv should have been a more detailed rv deletion of text without prior discussion or concensus or something to that effect as for it being vandalism the user has been given many warnings and been rv d by many users rv s with summaries popups vp etc as his edits have been considered vandalism by quite a few others besides myself ignoring all warnings attempts to dialogue or simple explanations as to why he refuses to got through proper steps talk pages before erasing entire sections the user still continues his single purpose attack on varying articles i am certainly not a fan of trivia sections either but they exist throughout wikipedia and like any long standing section in any article needs discussion and concensus before being turfed right cheers',\n",
       " 'your point being this is my first revert in hours',\n",
       " 'your point being',\n",
       " 'your point about referring not to the achievements of its members but to the society itself is of course a sound one so i have added a section called distinctions in that we can see the achievements of the society and not of it s members',\n",
       " 'your point about notguide is good but not censored is not this isn t censoring secondly your about printing is good if i was printing an article i would expect to automatically get the full captions and you don t talk',\n",
       " 'your point about lack of coverage of some of the longer term consequences occurred to me too i find the trouble with this article is that there is such a vast amount of source material it is hard to get a good overall picture i think it was gordon anyway someone i was reading recently who made the point that had there been a real battle after jutland this battle would have been consigned to histories inconsequential near misses just as with the other earlier raids gordon s thesis is also very much that failures at jutland were a consequence of systemic training failures within the british navy which is touched on with the issue of signallling mistakes i don t know what authors think about the efficiency of the german fleet but the overall impression of the british one is poor incidentally and while on the subject of consequences gordon also made the point that while there may have been deficiencies in british shells this was also one of the explanations which beatty et al found acceptable to explain his inability to damage the german ships his bigger difficulty was managing to direct them at anything other than sea i suspect we are still propagating one of his self defence red herings',\n",
       " 'your poem it sucks really bad',\n",
       " 'your plate is full just do a quick look see to my edits i worked the eb project and about of my edits have been vaporized i did annotations after those vaporized ones i have about edits i think is guilty of sockpuppetry i can get very very angry when i ve been abused by this bitch this explains the past hours of hotheadedness i would be happy if the jim nussle article fully acknowledges the messy nature of jimbo s divorce and its probable results on the november election ten commandments',\n",
       " 'your pictures of the old course at st andrews hello can you upload them to commons i d like to use them in de old course ulim',\n",
       " 'your photo image jpg has been moved to commons as you uploaded it under gfdl this image has been moved to commons image grave of yaoya oshichi jpg if you wish to upload other gfdl images you are encouraged to do so at commons wikimedia org so that the images can be more easily shared among all wikimedia projects please let me know if you have any questions thanks talk to nihonjoe',\n",
       " 'your perspective would be valued hi there i would appreciate it if you could visit talk muhammad the article muhammad has changed in a significant way since it originally passed wp ga several years ago it now states in the opening paragraph that mohammad is the founder of islam and has relegated to a note at the end of the article that muslims themselves don t believe this i have started a discussion on the talk page concerning this and would value your input thanks so much not a chance i m afraid too many other things going on for me at this point also i seem to recall lengthy discussions quite some time ago that agreed with the version that you are objecting to',\n",
       " 'your personal opinion that the movement doesn t have any leaders is nice sources being cited beg to differ it is fairly blatant wp or to continue to apply your personal assessments as if they take precedence over the cited sources',\n",
       " 'your personal attacks this is to advise you to refrain from posting false allegations about supposedly using sock puppets or being someone s sock puppet i have removed these false allegations as they violate the wikipedia policy of no personal attacks dec utc last warning your personal attacks by deleting my notice to you restored above and repeating your personal attacks you are violating wikipedia policies this is your last warning dec utc',\n",
       " 'your personal attacks this is to advise you to refrain from posting false allegations about supposedly using sock puppets or being someone s sock puppet i have removed these false allegations as they violate the wikipedia policy of no personal attacks dec utc',\n",
       " 'your personal attack on my talk page i m not entirely sure why you got so angry to the point you felt the need to personally attack me i am not angered really just more or less confused and amused as someone who writes for prowrestlinginsider com and has a good relationship with dave scherer i m also amused you would knock my knowledge of professional wrestling all that anger you carry around is unhealthy my friend i feel very bad for you and look forward to maybe having a more civil discussion do take care of yourself',\n",
       " 'your personal attack is noted',\n",
       " 'your personal assertion that a lot of people read the blog is not enough nothing is considered notable unless you can actually give real sources proving that the blog is significant just looking at hits or an alexa rank is not enough internet pages can only be included if they have received significant coverage in the news or some other sort of media you can t include the blog just because you think a lot of people like it you claim that you are done being childish but your insistence on calling wikipedia a clusterfucked internet bureaucracy and my edits an ego trip lead me to believe you are not acting in good faith talk contribs',\n",
       " 'your persistent addition to this article is unsourced meaning that you provide no reliable external references to confirm that it is true given that the text you are adding is not widely agreed to be correct please discuss on the talkpage whether it is appropriate material for the article before adding it again wjb talk',\n",
       " 'your persistence in making personal threats is truly outrageous if you keep at it like this you re the only one who will be looking stupid there are multiple academics and many erudite individuals who would agree that the movement relies on methods of mass hypnosis in its drive to create new converts and making a religion of themselves though this is officially denied',\n",
       " 'your patience with this person is exemplary nevertheless i note that she singled you out for criticism at sp talk and has just summarily deleted your totally honest defence that your response had been to routine attacks on you which had gone unremarked it seems that when she indulges in responses that appear inappropriate and overly officious they sometimes also appear to be motivated by selective personal animosity therefore i can t help thinking it would be more helpful to civil discussions at sp talk if she recused herself from sysopping there',\n",
       " 'your past behavior indicates your willingness to engage in an edit war on sonic all stars racing transformed i am just noting what your past behavior suggests as you have engaged in multiple edit wars over several months already if you earnestly believe that danica patrick s origin is from a video game please provide a citation on the talk page as you have suggested thank you',\n",
       " 'your passive aggressive dick waving is exactly the sort of penny ante tinpot authoritarianism which makes wikipedia such an unpleasant place to participate i ve already told you repeatedly that i don t wish to have any further discussion with you repeatedly yet you insist on having the last word on my own user page no less if anyone else but an administrator did that they d call it trolling and they d be right i made a wp bold edit in good faith which apparently gave you some kind of atomic wedgie you reverted it did some triumphant teabagging on my user page and at this point your duty was over instead here you are still making vague threats and scary noises despite or because of my request that you shove off and stop trolling up my user page you reverted my edit and did aa crazed monkey dance over the body of your slain enemy since it s clearly a matter of supreme importance to you and experience has told me that wikipedia articles belong to the person with the most intense ocd i have not bothered and will not bother to reinstate the edit therefore you have no reason to be here on my user page trying to intimidate me with your awesome and terrifying authori tay kindly go away',\n",
       " 'your participation in docu s rfc where you have endorsed like every summary opposite of my view pzrmd',\n",
       " 'your parents must be proud you re a wannbe nazi heres what i think should happen i think you should reread the current version if actually makes sense to you then feel free to go back to school in some sections there a clear contradictions example how can samoa have been given troops and regiments if samoan orders weren t allied to german british and american forces obviously in your mind the lives of soldiers with families are given out free for anyone to use copra was a main crop in samoa before german trade it s stated so in your own version yet then later saying that it was monopolized by germans there weren t enough germans to work a plantation at most were soldiers samoa trade was involved yet your version paints a white on brown invasion of interests the only partly decent section is the sports section which really could be larger but of course the focus has to be on european arrival as if that was the most amazing thing to happen to anyone considering that every body and their mamas was sailing years before europeans copied the technology from the spanish spanish islam come on really find a real job',\n",
       " 'your parents must be proud of you matt shepard',\n",
       " 'your paranoid comments on my talk page go ahead and call the cops they ll laugh at you as i did i d love to hear the conversation if you call the cops they ll treat you as if you re insane they won t investigate anything like what you re talking about you apparently don t know much about how courts and police work they like physical suspects to question and arrest the police will not investigate even serious death threats from out of state it s not their responsibility i don t know of any police organization that would take the time to investigate a death threat from an anonymous ip on the internet when the police are called about death threats they ll often tell you to wait until the person making the death threat shows up and then call them again you apparently need psychiatric help i know a seriously unbalanced personality when i see one by restoring that information about the nipple slip you have ruined a perfectly good encyclopedic article and turned it into a trashy supermarket tabloid congratulations you re one of the worst editors here and you re probably headed for a permanent block don t post comments on my talk page again if you do they will be deleted you have no positive things to say no positive contributions to make you need to clean up your act or leave wikipedia nobody needs or wants editors like you by the way archive your talk it s too long also read wp legal you ve violated it and can be permanently banned for it by the way i m not a mindy kaling stalker and that assertion is absurd she s a fellow alum of dartmouth college and we tend to look out for our own',\n",
       " 'your page penny university is a blatant copyright violation please take some time to learn how wikipedia works you have already created two pages one of which will be and the other might be deleted pleae go and learn the rules before you continue editing talk',\n",
       " 'your page leebo how did you make that thing that says please click here to leave me a message how did you do the color and the other stuff user physik',\n",
       " 'your page i own this page if you dont comply i will sue you for billion dollars',\n",
       " 'your own source states that he said his personnel saw some men smuggling materials like diesel petrol and fertilizers from indian side to nepal petrol diesel and fertilizers are prohibited materials sure sounds like a blockade to me as indian is prohibiting these goods from entering nepal',\n",
       " 'your own section please do not attack other editors if you continue you will be blocked from editing wikipedia i know you re just going to delete this jasen but deleting warnings is considered acknowledgement of them my offer of help with use of english spelling and grammar still stands and i hope in the future you ll respond constructively about criticism of your edits rather than taking the racist low road i ve warned you before about leaving me messages fyi i always keep my talk page blank as do many other users if you want to see the witty messages you left me in my talk history feel free to persue it and stay as long as you want to that said your opinion is neither welcome nor the least bid valid from this point on mind your own business and save the smart alecy sincere with the demeaning undertone reply i know you are thinking up since i ll delete it before i read it per usual have a really really great life ka boooom again telling me to mind my own business illustrates that you don t quite grasp that wikipedia is a collaborative project it s everybody s business i was initially concerned with your consistent spelling and grammar mistakes and writing style tone problems but i stopped because you don t seem to care and i m not going to follow you around and clean up your messes maybe they can create a bot to do that but when you went a step further and completely misinterpreted a source twice i felt i had to say something and then you went with your race baiting bullshit and personal attacks that might be fine for call ins to sportstalk radio but it doesn t belong here you ve been warned by an admin so keep that in mind i suggest you concentrate on contributing to the project in a constructive and encyclopedic manner you can hereafter talk to yourself everyone can see you are in the wrong i did not read your message im sure i really missed out on some keys to life darn ka boooom',\n",
       " 'your other question i ve replied here talk',\n",
       " 'your original phrasing was not npov it was wrong please re read the sources provided in the reference section',\n",
       " 'your opposed to my rfa while i m sorry that you cant support me i must remind you that just because a user doesn t have k edits doesn t mean they cant do the same job as another admin should they be qualified edits isn t everything',\n",
       " 'your opinions on the matter are welcome please participate in the discussion by adding your comments at wikipedia miscellany for deletion user gnanakumar sandbox and please be sure to sign your comments with four tildes you are free to edit the content of',\n",
       " 'your opinions doesn t matter only truth matters your opinions in writing articles are not reliable but these government s sources are very much reliable thank you',\n",
       " 'your opinions are neither wanted nor requested as you have lied several times on the talk muhammad page you are now advised you are not to post on my talk page again if you do so you will be brought to ani for wp harassment which will be yet another case against you',\n",
       " 'your opinions and presence is neither wanted nor requested on my page do not write on my talk page again or you will be reported for wp harassment',\n",
       " 'your opinion our view',\n",
       " 'your opinion on usher discography being a featured list candidate do you think it s ready any improvements talk',\n",
       " 'your opinion on future sport template as is being utilised here while there have been some periods of rapid editting that has mostly passed apart from the addition and removal of speculations from non registerred edittors',\n",
       " 'your opinion of why a non custodial parent does not make child support payments is irrelevant what matters are the facts and not opinions in this matter this is a well researched area and while there are always exceptions most of the non payers cannot pay for one or more reasons including being in jail',\n",
       " 'your opinion is worth less to me than the shit on my shoe now fuck off there s a good good chap fatuorum',\n",
       " 'your opinion is unfair and biased',\n",
       " 'your opinion is required on the tggws talk page see is asserting arbcom rulings do not set precedents since this obviously has implications for your argument regarding the arbcom ruling on pseudo science requiring peer reviewed sources in science articles when no official wikipedia policy includes such a requirement i thought you might want to weigh in there',\n",
       " 'your opinion is obviously baised here only place i could find it',\n",
       " 'your opinion is noted although incorrect thanks for your input',\n",
       " 'your opinion is not one i recognise as being valid in the uk is this yet more us centric systemic bias',\n",
       " 'your opinion input sought hi flyer thanks for your commendable work on avatar i wonder if you would consider spending some time on themes in avatar too to help bring it up to the mark with the main article regards hey cinosaur i appreciate your work on the avatar film article as well i ll think about helping out with the themes in avatar article but it will not be soon and i cannot promise anything on that',\n",
       " 'your opinion hi i am retiring from wikipedia soon and i am not going to contribute anymore but before i do i would like you to see the list of lebanese people article and and the conflict that occured between me and user lcnj as a major contributor to lebanese related articles your opinion and your say in this would be of great help and or influence as i said i m done with wikipedia but for the sake of lebanon and this article please compare between mine and that of the user mentioned above and give your say in this i hope you would consider this',\n",
       " 'your opinion here your opinion would be most welcome at wikipedia talk wikiproject united states courts and judges proposed renaming of list of judicial appointments made by barack obama cheers t',\n",
       " 'your opinion hello i will soon retire from wikipedia before i do i would like you to give your opinion on the list of lebanese people article and the conflict that occured between me and user lcnj aren elli ana melto belli howwe emlo w ate ya yak',\n",
       " 'your opinion ed even though you and i don t see eye to eye mr poor i must confess that what you on user talk augusto pinochet was correct i have done a lot of research on the subject and got knocked out in a fight with one of my communist friends because i thought pinochet stopped a marxist dicatorship in chile thank you and god bless mr poor mar utc',\n",
       " 'your opinion consider it http en wikipedia org wiki wikipedia featured picture candidates brahma kamal thanks your opinion consider it http en wikipedia org wiki wikipedia featured picture candidates brahma kamal thanks ayanosh from user jshapely dear reviewer thank you very much for your suggestions on the article i wrote on alessandro liberati to address your concerns about his notability he is especially known as one of the founders of the cochrane collaboration an international network of over volunteers in more than countries formed to organize research information about health care interventions in a systematic way to aid well informed health care decisions see also the description available in wikipedia about the collaboration to date more than systematic reviews on specific topics have been published in the cochrane library due to its relevance widely acknowledged by clinicians health care researchers and policymakers the cochrane collaboration has a seat on the world health assembly to provide inputs on resolutions of the world health organization the founder role of liberati has been acknowledged by sir iain chalmers chalmers i alessandro liberati a personal appreciation epidemiologia prevenzione available at http www epiprev it attualit c a alessandro liberati un ricordo personale who is himself acknowledged as one of the founders of the collaboration in see his profile in wikipedia the italian cochrane centre was one of the first to be established in other people have their profile on wikipedia mainly because of their role in the collaboration aside from iain chalmers see also dave sackett and chris silagy the relevant role of liberati in the collaboration can be also better understood by reading the countless acknowledgements in the farewell page http www cochrane org features farewell professor alessandro liberati and in the memory book http www cochrane org alessandro memory book posted on the cochrane website as for his published work one of the relevant features indicated in the wikipedia notability guidelines for academics he is author of more than papers published in peer reviewed and indexed journals as it can be easily verified in pubmed or in google scholar some of these papers represent highly cited academic work especially on how to report results of meta analyses and systematic reviews as for other characteristics which can be worth highlighting also according to the wikipedia guidelines he was on editorial boards of prestigious and selective academic journals such as the annals of internal medicine house organ of the american college of physicians and the british medical journal of the british medical association last but not the least several obituary articles followed his death on specialized medical journals among these i would like to highlight the one on the lancet watts g alessandro liberati lancet which is according to the journal citation index the second general medical journal for number of citations and the one on the british medical journal magrini n smith r alessandro liberati campaigned for high quality evidence relevant to patients bmj e all these things i tried to make explicit in my article supporting them with several citations for verifiability a few of which also available online i understand your point that my article may appear as a tribute to a recently dead person as for neutral point of view i didn t find testimonies contrary to the good reputation i reported for liberati to limit the tribute feeling that the article may transmit i cut the last two paragraphs on his work in italy and on his networking role hoping that this may help support the new submission i send you my best regards preceding unsigned comment added by talk contribs jshapely i do not think anyone has contested the notability of your subject simply the general tone of the article theoretically the wikipedia should just report facts you may have looked at wp npov also related is wp peacock let me look over your article this week end i have marked it as under review if i feel comfortable with the article i will approve it for you if i am not so co',\n",
       " 'your opinion and you know what they say about opinions and timings of what the fact that i happened to agree with someone too soon makes me automatically guilty what an asinine proposition coming from someone i was not even talking to the jackassery abounds',\n",
       " 'your opinion about the play is pure pov',\n",
       " 'your opinio our view yes we do know a lot about masatepe thank you for your comment regarding masatepecity we are native from masatepe nicaragua and we want to tell the world what a beautiful city masatepe is nonetheless to convey the essence of our culture and the spirit of our traditions we the people of masatepe shall have the ability to show the world in our own words who we are we look forward to continuo making contribution to wikipedia regarding the city of masatepe and we encourage you no to revert any material posted on wikipedia by the people of masatepe please govern yourself accordingly respecfully mega',\n",
       " 'your ongoing efforts to vandalize the poppers info page is inappropriate perhaps one day you ll get a life',\n",
       " 'your one of the person s who deleted my page i m mad at you you dissapoint me everyone is deleting and i m gonna write a note to the wikipedia company o k do you get that strait',\n",
       " 'your offending edit is from february the wrong information has been in place for months this is why a review of your work is needed nobody is calling you a vandal but insertion of misinformation is potentially the worst kind of vandalism because it destroys the trust of wikipedia by voluntarily not editing for a few days others can assess your edits you have to admit that implying that fossett was a board of trustee member in his teens is not right why not just take a break and don t edit editing now just creates more work for us to check',\n",
       " 'your obviously not a gamer it will be featured in old play gaming magazine june issue released in a few days so how does one prove it s notability',\n",
       " 'your obsession with me my username now forming parts of titles relating to a discussion on farmer already covered above is disturbing and unhealthy so stop fyi my english is fine so don t worry incivility is not just words but how these words are conveyed the tone here both read wp civil calls my statement false not so until i added the quote from farmer s book it was not there only main source was kaufmann had it been the case then there would have been no incitament to start the discussion as above on sources and npov so s claim is false arnold is mentioned peripherically wrt lobotomy claims but kaufmann refs remains wp undue i d like to use my energy improving this article and others but instead had to fend off repeated non stop gross incivility personal attacksfalse accusations and statements ascribed to me repeatedly without proof despite of clear statements in english opposing claims made above so why don t you spend your energy actually editing constructively rather than spend your time backbiting me being mendacious and accusing others of having ulterior motives practise what you preach stick to the topic which is frances farmer not me so improve that instead',\n",
       " 'your observation is correct it s really just an upside down imperial german flag',\n",
       " 'your objections to that sentence are quite correct please see talk alcohol and cancer sentence logic',\n",
       " 'your obessed with user knowig what the fuck is wrong with you seek psyriatric help',\n",
       " 'your obedient servant',\n",
       " 'your notes to admin jayjg',\n",
       " 'your notes on zora s talk page if you have any concerns with the behaviour of user zora you may wish to go to an arbcom case here the committee will hear your voice thank you',\n",
       " 'your note was not constructive and nor are your edits you set squeak up and now you have reverted times yourself so expect no sympathy',\n",
       " 'your note thanks jossi i missed you too talk',\n",
       " 'your note thank you for your note on my talk page left on january you have a reply should you not return within the next six days you may find it automatically archived here in that case please leave a note at my active talk page if you d like to reply as i won t see additions to the archive talk if this is a shared ip address and you didn t leave a note on my talk page consider creating an account for yourself so you can avoid further irrelevant notices',\n",
       " 'your note aw shucks thanks delldot talk',\n",
       " 'your not the only one speaking in a language of old from todays counterpunch dotcom on this the seventeenth day of january in the year of our lord bugging america the liberties of the subject by werther the overwhelming balance of recorded history has been marked by despotism when homo sapiens sapiens transitioned from hunter gatherer to agriculturalist he gained literacy solid dwellings and other accoutrements of what is commonly considered civilization but he experienced a sharp decline in personal liberty the reasons for this are commonsensical disputes between tribes of hunter gatherers could be resolved by one or the other simply pulling up stakes and relocating to a new territory there being few material impedimenta to prevent them a settled agricultural existence on the other hand implied permanent villages granaries and land boundaries to be defended against depredation the need for defenses implied a national security state agricultural surpluses not only necessitated armed defense but allowed a division of labor leading to policemen soldiers bureaucrats and tax assessors the latter of whom would confiscate a percentage of the harvest the evolution of labor conditions also implied a different mental outlook the hunter gatherer was an independent contractor if not brigand who ranged over extensive territory and worked alone or in small groups the agricultural laborer by contrast toiled in one spot making his comings and goings more subject to regulation if the land was not his he became dependent on the big man s favor given the increased population densities in regions where agricultural societies developed he could only rarely strike out on his own the good land had been already taken and game animals cleared or hunted to local extinction with the rise of what karl wittfogel call hydraulic civilization the screw of oppression turned once again against personal liberty in order to build the extensive earthworks necessary for the state to survive the next drought or flood the rulers of these proto superpowers subjected their subjects to enforced toil and off duty regimentation which rendered them no more free than so many draft animals it is unlikely the rulers of the states in the valley of mexico the nile the euphrates the ganges or the yang tze had much toleration for the complaints their subjects who were enslaved enserfed or otherwise regimented for the greater good as defined by the states rulers these complaints had they been permitted would have constituted freedom of speech nor would the rulers have given credence to a peasant s assertion that the interior of his crude dwelling and the contents thereof were inviolate from the inquisitiveness of the state he the peasant simply had no rights a ruler was bound to respect to paraphrase what a former supreme court justice once said about slaves in a famous ruling in the only limit on a ruler s power over his subjects was the former s fear of rebellion should discontent overflow of the two rights discussed thus far freedom of speech and freedom from arbitrary search and seizure the latter is fundamentally more important to human beings maintaining a status above that of mere hive animals this is not intended in any way to disparage the desirability and necessity of free speech but there are practical circumstances when free speech is not exercised by reasonable peopledue to reticence shame or its merely being not worth the effort or when one is married much obnoxious and exhibitionistic behavior is rationalized as free speech while more urgent matters are suppressed how many hourly employees feel free to say what they really think of their supervisors and is the resultant lawsuit really covered by the first amendment but asinine reality tv blares on out of politeness or discretion most intelligent people censor their opinions about politics in laws bosses and religion when they are in the public commons the inviolability of one s person and one s dwelling is more basic what would the average person resent more being told he cannot ask questions of the president of the united states at a staged event or being ordered to be strip searched in public or for that matter have his house ransacked that is the principle at issue the lesser freedom is essential for political discourse the greater freedom distinguishes us from dogs respect for privacy for oneself and one s fellow citizens is the benchmark of a sense of an individual self the majority of psychologically well adjusted people believes that there are facts and circumstances about them that just do not bear the glaring searchlight of public revelation some things are simpl',\n",
       " 'your not gonna do the request',\n",
       " 'your not fair why o why',\n",
       " 'your not a scholar and you should be banned for hostility towards other users',\n",
       " 'your normal one odin',\n",
       " 'your nonsense shouldn t you be edit warring on some israeli palestinian article like you usually do to push your arabist pov instead of trolling on my talk page do not disrupt my talk page again',\n",
       " 'your nomination at articles for creation was a success and silver hill hospital was created please continue making quality contributions to wikipedia and please consider registering an account so you can create articles yourself thank you for helping wikipedia',\n",
       " 'your nit picking on philippine american war',\n",
       " 'your new version is indeed better and in my opinion it is largely fine i only made a minor addition that the confession also states that the manner of change cannot be explained since this was underlined in some of the sources shown earlier',\n",
       " 'your new user tags hey man i just noticed that you put a little tag on your user page saying that vandals dont like you that is most certainly not the case well at least not as far as i m concerned the only reason that i keep screwing around with you is because you re the only admin that s banned me who has a memorable easy to spell name honestly it s nothing personal just trying to put a smile on your face',\n",
       " 'your new picture looks like jimmy wales without the beard',\n",
       " 'your new page i m supporting your new page as long as you will add to it this page is not nonsense but if you don t add anything to it it can be deleted for no content if you plan to expand this page please do so',\n",
       " 'your new link footnotes don t work i tried to fix the second but failed i have no idea how to fix the first one and suggest that unless you know how to fix it that you turn it into a reference instead',\n",
       " 'your new food list articles regarding list of dried foods list of fish sauces list of mustard brands they are fantastic well done i ll see what i can find in china to add in the way of photos best wishes',\n",
       " 'your new edit has now fully jogged my memory the a or sr had a database of like stars for the celestial navigation system that used a camera at the back of the aircraft one was probably in the constellation of cygnus for sure',\n",
       " 'your nationalism is obvious talk',\n",
       " 'your name your name reminds me of n ram happy editing',\n",
       " 'your name sounds like vice canary an i thought you might be missing my irrelevances and that combined with javert s vacation could combine to give you a nervous breakdown so you can t call this irrelevant delete this if it s getting int the way of your affairs i am a flesh eating robot',\n",
       " 'your name on google hi for the heck of it i searched for linuxbeak on google check out the fourth listing it s quite humorous and so true search findings list and fourth search finding link september utc',\n",
       " 'your name is offencive being a play on iflingpoo',\n",
       " 'your name is not really alastair haines is it did you use a fake name because your real name would give away your motives interesting that everyone else uses a nickname and you have a first and last name that has to be the reason you are not after the truth are you that is so wicked',\n",
       " 'your name is i dream of horses what kind of virgin mongrel blue shite fan are you blato sit in the upper gladwys street',\n",
       " 'your name i happen to see your name at user jimhsuseattle guilt is presumed is a wise statement of yours in general though i haven t studied all the details i also thought you were of chinese descent because of your name but you are not tan and hsu are ethnic chinese names this is just a hello message nothing more i wrote asking them to try cooperation but somebody will probably not listen',\n",
       " 'your name has been changed try to edit another page to see if you are blocked',\n",
       " 'your musings and reflections are totally off topic because again this is a discussion page for discussing how to improve this encyclopedia article which must be based on verifiable citations to reliable sources therefore your anecdotes about your emotional reaction to the film do not belong on this page i must ask that you desist from further personal attacks and i must note that i have argued consistently and forcefully for the inclusion of the fact that albert stated that his interview was deliberately edited to misrepresent his views i have argued consistently and forcefully that the lead should state that the film was made by pwbjzkswtvottyolwrs and i have argued consistently and forcefully that the lead should state that the film has received extensive criticism for misrepresenting science or promoting pseudoscience please do not misrepresent my views again and please refrain from further personal attacks',\n",
       " 'your mums ugly your gay',\n",
       " 'your mum s a turtle with the article your mum s a turtle it was flagged for deletion but the claim had been disputed and it said that the article had days in which it could be fixed which would be the and today being the as im fairly new to wikipedia can you go through with us why the article was deleted anyway',\n",
       " 'your mum know s nothin bout chechoslovakia',\n",
       " 'your mum is a big fat whore your mum is a big fat whore your mum is a big fat whore your mum is a big fat whore your mum is a big fat whore your mum is a big fat whore your mum is a big fat whore your mum is a big fat whore your mum is a big fat whore your mum is a big fat whore your mum is a big fat whore your mum is a big fat whore your mum is a big fat whore your mum is a big fat whore your mum is a big fat whore your mum is a big fat whore your mum is a big fat whore your mum is a big fat whore your mum is a big fat whore your mum is a big fat whore your mum is a big fat whore your mum is a big fat whore your mum is a big fat whore your mum is a big fat whore your mum is a big fat whore your mum is a big fat whore your mum is a big fat whore your mum is a big fat whore your mum is a big fat whore your mum is a big fat whore your mum is a big fat whore your mum is a big fat whore your mum is a big fat whore your mum is a big fat whore your mum is a big fat whore your mum is a big fat whore your mum is a big fat whore your mum is a big fat whore your mum is a big fat whore your mum is a big fat whore your mum is a big fat whore your mum is a big fat whore your mum is a big fat whore your mum is a big fat whore your mum is a big fat whore your mum is a big fat whore your mum is a big fat whore your mum is a big fat whore your mum is a big fat whore your mum is a big fat whore your mum is a big fat whore your mum is a big fat whore your mum is a big fat whore your mum is a big fat whore your mum is a big fat whore your mum is a big fat whore your mum is a big fat whore your mum is a big fat whore your mum is a big fat whore your mum is a big fat whore your mum is a big fat whore your mum is a big fat whore your mum is a big fat whore your mum is a big fat whore your mum is a big fat whore your mum is a big fat whore your mum is a big fat whore your mum is a big fat whore your mum is a big fat whore your mum is a big fat whore your mum is a big fat whore your mum is a big fat whore',\n",
       " 'your multiple editing practice hi the following users have already mentioned this to you and your practice of multiple edits for simple changes is distracting to other user s editing of wikipedia you have asked for explanations and have received them it confuses users who are editing the page at the same time as you as my confusion was when we edited dayne beams at the same time and you had only updated his game count and not the stats update time and therefore i almost added an extra game to him the number of edits a user has is almost meaningless nobody looks at this number and a user s quality isn t judged by the number of edits but rather by the quality of the edits it floods the watchlist and the recent changes list and makes it harder to spot if other users have made inappropriate edits adding this one now micro editing takes more time which you could use for other things such as bettering a larger number of articles we would all very much appreciate if you desist from this practice thanks i fully support all four comments cheers following up from your answer on my talk page yes we would like you to do the whole stats change in one edit in one edit change from player with x goals in y games as of round z to player with x goals in y games as of round z also it is bad form to delete other users posts from your talk page unless you are archiving them',\n",
       " 'your multiple accounts hi it looks very much to me as if continuing to do so after this policy has been pointed out to you can lead to your being blocked from editing in the future i suggest that you pick which of these accounts and any others that you have created you want to use and shut the other ones down permanently let me know if i can be of any assistance to you in doing this best',\n",
       " 'your moves of turtle pages was wondering why you made a series of changes to the turtle pages i am assuming it was for common names but the names you used are ambiguous at best the dinner plate turtle has not been referred as such commonly for decades the northern snapping turtle has several common names of equal usage the northern snake neck is more commonly referred to as the northern long neck etc these species were better off under their scientific names i would prefer it if you would discuss such changes on the talk pages or the turtle portal before just doing it cheers talk',\n",
       " 'your move of philippe duke of brabant to philippe of belgium breaks all wikpedia rules crown princes are entered using their title never their country if they have a title and they are never ever put as of that form is exclusively reserved for monarchs in addition moves are never done that way please follow the wikipedia naming conventions names and titles like everyone else i ve reverted the move caint',\n",
       " 'your mouth says stop but your eyes say keep goooing',\n",
       " 'your mouth is your worst enemy guy matthew therefore whatever you want men to do to you do also to them for this is the law and the prophets matthew but i say to you that for every idle word men may speak they will give account of it in the day of judgement for your words you will be justified and your words you will be condemned james but no man cam tame the tongue it is an unruly evil full of deadly poison james with it we bless our god and father and with it we curse men who have been made in the similitude of god i hope you have a cheap lawyer mr chapman the damage has already been done and why because you cant control your pestilient manic mouth and your savvy internet skills which you chose to use to do evil instead of good your have totally disregarded goodwill decency meekness character and good manners your truly brother hemdean',\n",
       " 'your mother is sucking my cock right now you loser hahahahahahahahahaaha sh wanted me tell u she says hi hahahahahahhaahhahahahaha',\n",
       " 'your mother is illiterate',\n",
       " 'your most excellent presence is requested urgently at wikipedia talk featured article candidates wikipedia excellent short articles we need some idea on articles with word counts below certain cutoffs can you give us a rough idea to move forward on this wt fac is in turmoil and i belive this is the best solution talk',\n",
       " 'your monobook is in category wikipedia tools your monobook and myskin are in category wikipedia tools this is most likely because when you were copying scripts into yout monobook you accidentaly copied their category since your monobook is not a tool itself please remove this category from it if you intend for your monobook to be a tool please consider creating a subpage with a more descriptive name and moving the category there thank you talk',\n",
       " 'your moms yummy cunt fucking bastard you son of a bitch asshole motherfucker go fuck ur mothers cunt trade ur wife sister',\n",
       " 'your moms yummy cum fucking bastard you son of a bitch asshole motherfucker go fuck ur mothers cunt trade ur wife sister',\n",
       " 'your moms cunt is fat and juicy d',\n",
       " 'your momma is nott hott',\n",
       " ...]"
      ]
     },
     "execution_count": 13,
     "metadata": {},
     "output_type": "execute_result"
    }
   ],
   "source": [
    "# сортируем тексты по убыванию\n",
    "sorted(df_toxic_comments.text, reverse=True)"
   ]
  },
  {
   "cell_type": "markdown",
   "metadata": {},
   "source": [
    "Мы видим, что после очистки текстов регулярными выражениями появились пустые строки `''`. Удалим их:"
   ]
  },
  {
   "cell_type": "code",
   "execution_count": 14,
   "metadata": {},
   "outputs": [],
   "source": [
    "# удаляем пустые строки\n",
    "df_toxic_comments = df_toxic_comments[~(df_toxic_comments['text'] == '')]\n",
    "df_toxic_comments.reset_index(drop=True, inplace=True)"
   ]
  },
  {
   "cell_type": "code",
   "execution_count": 15,
   "metadata": {},
   "outputs": [
    {
     "name": "stdout",
     "output_type": "stream",
     "text": [
      "<class 'pandas.core.frame.DataFrame'>\n",
      "RangeIndex: 159281 entries, 0 to 159280\n",
      "Data columns (total 3 columns):\n",
      " #   Column      Non-Null Count   Dtype \n",
      "---  ------      --------------   ----- \n",
      " 0   Unnamed: 0  159281 non-null  int64 \n",
      " 1   text        159281 non-null  object\n",
      " 2   toxic       159281 non-null  int64 \n",
      "dtypes: int64(2), object(1)\n",
      "memory usage: 3.6+ MB\n"
     ]
    }
   ],
   "source": [
    "# выводим общую информацию об обработанном датафрейме\n",
    "df_toxic_comments.info()"
   ]
  },
  {
   "cell_type": "markdown",
   "metadata": {},
   "source": [
    "**Вывод**\n",
    "\n",
    "В результате предобработки тексты были очищены от незначимых символов с помощью регулярных выражений. Также из датафрейма были удалены 11 пустых строк, что статистически незначимо для дальнейшего обучения моделей.\n",
    "\n",
    "Данные готовы для токенизации, лемматизации и векторизации."
   ]
  },
  {
   "cell_type": "markdown",
   "metadata": {},
   "source": [
    "## Подготовка данных для обучения моделей"
   ]
  },
  {
   "cell_type": "markdown",
   "metadata": {},
   "source": [
    "Выполним токенизацию и лемматизацию текстов с помощью языковой модели `spacy` среднего размера для английского языка.\n",
    "\n",
    "В векторизованную форму переведём тексты с помощью конвертера `TfidfVectorizer`, использующего метод `TF-IDF` для вычисления важности каждого слова в тексте относительно количества его употреблений в данном тексте и во всём корпусе текстов."
   ]
  },
  {
   "cell_type": "code",
   "execution_count": 17,
   "metadata": {},
   "outputs": [],
   "source": [
    "# создаём корпус для обучения модели\n",
    "corpus = list(df_toxic_comments.text)"
   ]
  },
  {
   "cell_type": "code",
   "execution_count": 18,
   "metadata": {},
   "outputs": [],
   "source": [
    "# задаём токенизатор\n",
    "nlp = spacy.load('en_core_web_md')"
   ]
  },
  {
   "cell_type": "code",
   "execution_count": 19,
   "metadata": {},
   "outputs": [
    {
     "data": {
      "application/vnd.jupyter.widget-view+json": {
       "model_id": "113fbcbf0e4a4bfc96ee6a1675e842f4",
       "version_major": 2,
       "version_minor": 0
      },
      "text/plain": [
       "0it [00:00, ?it/s]"
      ]
     },
     "metadata": {},
     "output_type": "display_data"
    }
   ],
   "source": [
    "# лемматизируем тексты\n",
    "corpus_lemm = [' '.join([token.lemma_ for token in text])\n",
    "               for text in notebook.tqdm(nlp.pipe(corpus,\n",
    "                                                  n_process=4,\n",
    "                                                  disable=['parser', 'ner']))]"
   ]
  },
  {
   "cell_type": "code",
   "execution_count": 20,
   "metadata": {},
   "outputs": [
    {
     "name": "stdout",
     "output_type": "stream",
     "text": [
      "Исходный текст:\n",
      " regarding your recent edits once again please read wp filmplot before editing any more film articles your edits are simply not good with entirely too many unnecessary details and very bad writing please stop before you do further damage the\n",
      "Лемматизированный текст:\n",
      " regard your recent edit once again please read wp filmplot before edit any more film article your edit be simply not good with entirely too many unnecessary detail and very bad writing please stop before you do far damage the\n"
     ]
    }
   ],
   "source": [
    "# делаем выборочную проверку лемматизации\n",
    "print('Исходный текст:\\n', corpus[20])\n",
    "print('Лемматизированный текст:\\n', corpus_lemm[20])"
   ]
  },
  {
   "cell_type": "code",
   "execution_count": 21,
   "metadata": {},
   "outputs": [
    {
     "data": {
      "text/html": [
       "<div>\n",
       "<style scoped>\n",
       "    .dataframe tbody tr th:only-of-type {\n",
       "        vertical-align: middle;\n",
       "    }\n",
       "\n",
       "    .dataframe tbody tr th {\n",
       "        vertical-align: top;\n",
       "    }\n",
       "\n",
       "    .dataframe thead th {\n",
       "        text-align: right;\n",
       "    }\n",
       "</style>\n",
       "<table border=\"1\" class=\"dataframe\">\n",
       "  <thead>\n",
       "    <tr style=\"text-align: right;\">\n",
       "      <th></th>\n",
       "      <th>text</th>\n",
       "      <th>text_lemmatized</th>\n",
       "      <th>label</th>\n",
       "    </tr>\n",
       "  </thead>\n",
       "  <tbody>\n",
       "    <tr>\n",
       "      <th>0</th>\n",
       "      <td>explanation why the edits made under my userna...</td>\n",
       "      <td>explanation why the edit make under my usernam...</td>\n",
       "      <td>0</td>\n",
       "    </tr>\n",
       "    <tr>\n",
       "      <th>1</th>\n",
       "      <td>d aww he matches this background colour i m se...</td>\n",
       "      <td>d aww he match this background colour I m seem...</td>\n",
       "      <td>0</td>\n",
       "    </tr>\n",
       "    <tr>\n",
       "      <th>2</th>\n",
       "      <td>hey man i m really not trying to edit war it s...</td>\n",
       "      <td>hey man I m really not try to edit war it s ju...</td>\n",
       "      <td>0</td>\n",
       "    </tr>\n",
       "    <tr>\n",
       "      <th>3</th>\n",
       "      <td>more i can t make any real suggestions on impr...</td>\n",
       "      <td>more I can t make any real suggestion on impro...</td>\n",
       "      <td>0</td>\n",
       "    </tr>\n",
       "    <tr>\n",
       "      <th>4</th>\n",
       "      <td>you sir are my hero any chance you remember wh...</td>\n",
       "      <td>you sir be my hero any chance you remember wha...</td>\n",
       "      <td>0</td>\n",
       "    </tr>\n",
       "  </tbody>\n",
       "</table>\n",
       "</div>"
      ],
      "text/plain": [
       "                                                text  \\\n",
       "0  explanation why the edits made under my userna...   \n",
       "1  d aww he matches this background colour i m se...   \n",
       "2  hey man i m really not trying to edit war it s...   \n",
       "3  more i can t make any real suggestions on impr...   \n",
       "4  you sir are my hero any chance you remember wh...   \n",
       "\n",
       "                                     text_lemmatized  label  \n",
       "0  explanation why the edit make under my usernam...      0  \n",
       "1  d aww he match this background colour I m seem...      0  \n",
       "2  hey man I m really not try to edit war it s ju...      0  \n",
       "3  more I can t make any real suggestion on impro...      0  \n",
       "4  you sir be my hero any chance you remember wha...      0  "
      ]
     },
     "execution_count": 21,
     "metadata": {},
     "output_type": "execute_result"
    }
   ],
   "source": [
    "# создаём новый датафрейм\n",
    "df_final = pd.DataFrame()\n",
    "df_final['text'] = corpus\n",
    "df_final['text_lemmatized'] = corpus_lemm\n",
    "df_final['label'] = df_toxic_comments.toxic\n",
    "df_final.head()"
   ]
  },
  {
   "cell_type": "code",
   "execution_count": 22,
   "metadata": {},
   "outputs": [],
   "source": [
    "# делим выборку на тренировочную и тестовую\n",
    "X_train, X_test, y_train, y_test = train_test_split(\n",
    "    df_final.text_lemmatized,\n",
    "    df_final.label,\n",
    "    random_state=RANDOM_STATE,\n",
    "    test_size=TEST_SIZE,\n",
    "    stratify=df_final.label\n",
    ")"
   ]
  },
  {
   "cell_type": "code",
   "execution_count": 23,
   "metadata": {},
   "outputs": [
    {
     "data": {
      "text/plain": [
       "((119460,), (39821,), (119460,), (39821,))"
      ]
     },
     "execution_count": 23,
     "metadata": {},
     "output_type": "execute_result"
    }
   ],
   "source": [
    "# проверяем, как прошло разделение на выборки\n",
    "X_train.shape, X_test.shape, y_train.shape, y_test.shape"
   ]
  },
  {
   "cell_type": "markdown",
   "metadata": {},
   "source": [
    "**Вывод**\n",
    "\n",
    "Для дальнейшего обучения моделей тексты были подготовлены с использованием языковой модели `spacy` и переведены в векторную форму с помощью `TfidfVectorizer`.\n",
    "\n",
    "Выборка была разделена на тренировочную и тестовую части в соотношении 1:3 со стратификацией по целевому признаку ввиду значимого дисбаланса классов целевого признака.\n",
    "\n",
    "Векторизация текстов будет производиться на следующем этапе в пайплайне."
   ]
  },
  {
   "cell_type": "markdown",
   "metadata": {},
   "source": [
    "## Обучение с учителем. Задача бинарной классификации"
   ]
  },
  {
   "cell_type": "markdown",
   "metadata": {},
   "source": [
    "В данном разделе мы решим задачу бинарной классификации путём обучения с учителем трёх моделей:\n",
    "\n",
    "- `CatBoostClassifier`;\n",
    "- `RandomForestClassifier`;\n",
    "- `LogisticRegression`.\n",
    "\n",
    "С целью экономии вычислительных ресурсов и сокращения времени выполнения кода для каждой из моделей мы подберём по одному гиперпараметру с помощью `GridSearchCV`, кросс-валидацию выполним на трёх фолдах.\n",
    "\n",
    "Выбор лучшей модели будет производиться по значению метрики *F1*, которое для успешно обученной модели не должно быть ниже 0.75."
   ]
  },
  {
   "cell_type": "code",
   "execution_count": 28,
   "metadata": {},
   "outputs": [],
   "source": [
    "# создаем функцию для поиска гиперпараметров\n",
    "def search_best_params(hyper_param_search_method,\n",
    "                       model,\n",
    "                       param_grid,\n",
    "                       cv=5,\n",
    "                       scoring=None,\n",
    "                       random_state=None,\n",
    "                       n_jobs=1,\n",
    "                       X_train=None,\n",
    "                       y_train=None,\n",
    "                       scoring_name=None,\n",
    "                       hyper_param_search_method_name=None):\n",
    "    # инициализируем модель для поиска лучших гиперпараметов\n",
    "    if hyper_param_search_method_name == 'OptunaSearchCV':\n",
    "        gs = hyper_param_search_method(\n",
    "            model,\n",
    "            param_grid,\n",
    "            cv=cv,\n",
    "            scoring=scoring,\n",
    "            random_state=random_state,\n",
    "            n_jobs=n_jobs\n",
    "        )\n",
    "    else:\n",
    "        gs = hyper_param_search_method(\n",
    "            model,\n",
    "            param_grid,\n",
    "            cv=cv,\n",
    "            scoring=scoring,\n",
    "            n_jobs=n_jobs\n",
    "        )\n",
    "\n",
    "    # запускаем поиск гиперпараметров\n",
    "    gs.fit(X_train, y_train)\n",
    "\n",
    "    # получаем лучшую метрику при кросс-валидации\n",
    "    print(f'Лучший результат метрики {scoring_name} при кросс-валидации:\\n',\n",
    "          gs.best_score_)\n",
    "\n",
    "    # получаем лучшие гиперпараметры при кросс-валидации\n",
    "    print(f'Лучшие параметры модели при кросс-валидации:\\n',\n",
    "          gs.best_params_)\n",
    "    \n",
    "    return gs"
   ]
  },
  {
   "cell_type": "code",
   "execution_count": 29,
   "metadata": {},
   "outputs": [
    {
     "name": "stderr",
     "output_type": "stream",
     "text": [
      "[nltk_data] Downloading package stopwords to /home/jovyan/nltk_data...\n",
      "[nltk_data]   Package stopwords is already up-to-date!\n"
     ]
    },
    {
     "data": {
      "text/plain": [
       "True"
      ]
     },
     "execution_count": 29,
     "metadata": {},
     "output_type": "execute_result"
    }
   ],
   "source": [
    "# загружаем коллекцию стоп-слов\n",
    "nltk.download('stopwords')"
   ]
  },
  {
   "cell_type": "markdown",
   "metadata": {},
   "source": [
    "### Обучение модели CatBoostClassifier"
   ]
  },
  {
   "cell_type": "code",
   "execution_count": 30,
   "metadata": {
    "scrolled": true
   },
   "outputs": [
    {
     "name": "stdout",
     "output_type": "stream",
     "text": [
      "Лучший результат метрики F1 при кросс-валидации:\n",
      " 0.749929776172176\n",
      "Лучшие параметры модели при кросс-валидации:\n",
      " {'cbc__learning_rate': 0.7}\n",
      "CPU times: user 26min 20s, sys: 13.7 s, total: 26min 34s\n",
      "Wall time: 26min 50s\n"
     ]
    }
   ],
   "source": [
    "%%time\n",
    "# создаём пайплайн: счётчик слов и модель\n",
    "cbc_pipe = Pipeline(\n",
    "    [\n",
    "        (\n",
    "            'vect', TfidfVectorizer(\n",
    "            stop_words=nltk_stopwords.words('english'),\n",
    "            min_df=0.0001\n",
    "            )\n",
    "        ),\n",
    "        (\n",
    "            'cbc', CatBoostClassifier(\n",
    "                iterations=100,\n",
    "                random_state=RANDOM_STATE,\n",
    "                logging_level='Silent'\n",
    "            )\n",
    "        )\n",
    "    ]\n",
    ")\n",
    "\n",
    "# задаем гиперпараметры для перебора\n",
    "param_grid = {\n",
    "    'cbc__learning_rate': [0.3, 0.7, 1]\n",
    "}\n",
    "\n",
    "# выполняем поиск гиперпараметров\n",
    "gs = search_best_params(GridSearchCV,\n",
    "                        cbc_pipe,\n",
    "                        param_grid,\n",
    "                        cv=3,\n",
    "                        scoring='f1',\n",
    "                        n_jobs=-1,\n",
    "                        X_train=X_train,\n",
    "                        y_train=y_train.values,\n",
    "                        scoring_name='F1')\n",
    "\n",
    "# обучаем лучшую модель\n",
    "cbc_best_model = gs.best_estimator_.fit(X_train, y_train.values)"
   ]
  },
  {
   "cell_type": "markdown",
   "metadata": {},
   "source": [
    "Лучшей моделью `CatBoostClassifier` является модель с гиперпараметром `learning_rate` = 0.7, значение метрики *F1* которой при кросс-валидации не превысило порог 0.75. Данная модель не может быть использована для выполнения предсказаний на тестовой выборке."
   ]
  },
  {
   "cell_type": "markdown",
   "metadata": {},
   "source": [
    "### Обучение модели RandomForestClassifier"
   ]
  },
  {
   "cell_type": "code",
   "execution_count": 31,
   "metadata": {},
   "outputs": [
    {
     "name": "stdout",
     "output_type": "stream",
     "text": [
      "Лучший результат метрики F1 при кросс-валидации:\n",
      " 0.7538171364497998\n",
      "Лучшие параметры модели при кросс-валидации:\n",
      " {'rfc__max_depth': 500}\n",
      "CPU times: user 26min 7s, sys: 9.23 s, total: 26min 16s\n",
      "Wall time: 26min 32s\n"
     ]
    }
   ],
   "source": [
    "%%time\n",
    "# создаём пайплайн: счётчик слов и модель\n",
    "rfc_pipe = Pipeline(\n",
    "    [\n",
    "        (\n",
    "            'vect', TfidfVectorizer(\n",
    "            stop_words=nltk_stopwords.words('english'),\n",
    "            min_df=0.0001\n",
    "            )\n",
    "        ),\n",
    "        (\n",
    "            'rfc', RandomForestClassifier(\n",
    "                random_state=RANDOM_STATE,\n",
    "                n_jobs=-1\n",
    "            )\n",
    "        )\n",
    "    ]\n",
    ")\n",
    "\n",
    "# задаем гиперпараметры для перебора\n",
    "param_grid = {\n",
    "    'rfc__max_depth': [100, 300, 500]\n",
    "}\n",
    "\n",
    "# выполняем поиск гиперпараметров\n",
    "gs = search_best_params(GridSearchCV,\n",
    "                        rfc_pipe,\n",
    "                        param_grid,\n",
    "                        cv=3,\n",
    "                        scoring='f1',\n",
    "                        n_jobs=-1,\n",
    "                        X_train=X_train,\n",
    "                        y_train=y_train.values,\n",
    "                        scoring_name='F1')\n",
    "\n",
    "# обучаем лучшую модель\n",
    "rfc_best_model = gs.best_estimator_.fit(X_train, y_train.values)"
   ]
  },
  {
   "cell_type": "markdown",
   "metadata": {},
   "source": [
    "Лучшей моделью `RandomForestClassifier` является модель с гиперпараметром `max_depth` = 500, значение метрики *F1* которой при кросс-валидации превысило порог 0.75. Данная модель может быть использована для выполнения предсказаний на тестовой выборке."
   ]
  },
  {
   "cell_type": "markdown",
   "metadata": {},
   "source": [
    "### Обучение модели логистической регрессии"
   ]
  },
  {
   "cell_type": "code",
   "execution_count": 32,
   "metadata": {},
   "outputs": [
    {
     "name": "stdout",
     "output_type": "stream",
     "text": [
      "Лучший результат метрики F1 при кросс-валидации:\n",
      " 0.7767446728889916\n",
      "Лучшие параметры модели при кросс-валидации:\n",
      " {'lrc__C': 9}\n",
      "CPU times: user 7min 37s, sys: 3min 52s, total: 11min 29s\n",
      "Wall time: 11min 33s\n"
     ]
    }
   ],
   "source": [
    "%%time\n",
    "# создаём пайплайн: счётчик слов и модель\n",
    "lrc_pipe = Pipeline(\n",
    "    [\n",
    "        (\n",
    "            'vect', TfidfVectorizer(\n",
    "            stop_words=nltk_stopwords.words('english'),\n",
    "            min_df=0.0001\n",
    "            )\n",
    "        ),\n",
    "        (\n",
    "            'lrc', LogisticRegression(\n",
    "                random_state=RANDOM_STATE,\n",
    "                n_jobs=-1\n",
    "            )\n",
    "        )\n",
    "    ]\n",
    ")\n",
    "\n",
    "# задаем гиперпараметры для перебора\n",
    "param_grid = {\n",
    "    'lrc__C': [0.1, 0.5, 1, 2, 3, 4, 5, 6, 7, 8, 9, 10, 100, 1000]\n",
    "}\n",
    "\n",
    "# выполняем поиск гиперпараметров\n",
    "gs = search_best_params(GridSearchCV,\n",
    "                        lrc_pipe,\n",
    "                        param_grid,\n",
    "                        cv=3,\n",
    "                        scoring='f1',\n",
    "                        n_jobs=-1,\n",
    "                        X_train=X_train,\n",
    "                        y_train=y_train.values,\n",
    "                        scoring_name='F1')\n",
    "\n",
    "# обучаем лучшую модель\n",
    "lrc_best_model = gs.best_estimator_.fit(X_train, y_train.values)"
   ]
  },
  {
   "cell_type": "markdown",
   "metadata": {},
   "source": [
    "Лучшей моделью `LogisticRegression` является модель с L2-регуляризацией и гиперпараметром `С` = 9, значение метрики *F1* которой при кросс-валидации превысило порог 0.75. Данная модель может быть использована для выполнения предсказаний на тестовой выборке."
   ]
  },
  {
   "cell_type": "markdown",
   "metadata": {},
   "source": [
    "### Проверка лучшей модели на тестовой выборке"
   ]
  },
  {
   "cell_type": "code",
   "execution_count": 33,
   "metadata": {},
   "outputs": [
    {
     "name": "stdout",
     "output_type": "stream",
     "text": [
      "Значение метрики F1 лучшей модели на тестовой выборке: 0.7859486057955167\n"
     ]
    }
   ],
   "source": [
    "# получаем предсказания с помощью лучшей модели\n",
    "predictions = lrc_best_model.predict(X_test)\n",
    "print('Значение метрики F1 лучшей модели на тестовой выборке:',\n",
    "      f1_score(y_test, predictions))"
   ]
  },
  {
   "cell_type": "markdown",
   "metadata": {},
   "source": [
    "**Вывод**\n",
    "\n",
    "По результатам обучения лучшей из всех моделей является модель `LogisticRegression` с L2-регуляризацией и гиперпараметром `C` = 9, показавшая значение метрики *F1* на кросс-валидации 0.78.\n",
    "\n",
    "На тестовой выборке значение метрики *F1* для модели `LogisticRegression` составило 0.79, то есть качество модели на тестовой выборе не ухудшилось по сравнению с качеством модели при кросс-валидации, что говорит об отсутствии переобученности и хорошей предсказательной способности модели без дополнительной настройки вероятностного порога классификации."
   ]
  },
  {
   "cell_type": "markdown",
   "metadata": {},
   "source": [
    "## Общий вывод"
   ]
  },
  {
   "cell_type": "markdown",
   "metadata": {},
   "source": [
    "В исследовании были изучены около 160 тыс. текстов комментариев пользователей, размеченных следующим образом:\n",
    "\n",
    "- `0` - нетоксичный комментарий;\n",
    "- `1` - токсичный комментарий.\n",
    "\n",
    "В выборке наблюдается существенный дисбаланс классов целевого признака: 90% комментариев относятся к классу `0` (нетоксичные), 10% - к классу `1` (токсичные).\n",
    "\n",
    "На этапе предобработки тексты были очищены от незначимых символов с помощью регулярных выражений, и из выборки были были удалены 11 строк ввиду отсутствия буквенных текстов в них, что не повлияло на репрезентативность выборки после удаления.\n",
    "\n",
    "Тексты были токенизированы и лемматизированы с использованием языковой модели `spacy` и переведены в векторную форму с помощью `TfidfVectorizer` в пайплайне.\n",
    "\n",
    "Выборка была разделена на тренировочную и тестовую части в соотношении 1:3 со стратификацией по целевому признаку ввиду значимого дисбаланса классов целевого признака.\n",
    "\n",
    "В исследовании была решена задача бинарной классификации и были обучены три модели (обучение с учителем):\n",
    "\n",
    "- `CatBoostClassifier`: лучшей моделью является модель с гиперпараметром `learning_rate` = 0.7, значение метрики *F1* которой при кросс-валидации составило 0.7499, что ниже требуемого порога 0.75;\n",
    "- `RandomForestClassifier`: лучшей моделью является модель с гиперпараметром `max_depth` = 500, значение метрики *F1* которой при кросс-валидации составило 0.754, что выше требуемого порога 0.75;\n",
    "- `LogisticRegression`: лучшей моделью является модель с L2-регуляризацией и гиперпараметром `C` = 9, значение метрики *F1* которой при кросс-валидации составило 0.78, что выше требуемого порога 0.75.\n",
    "\n",
    "По результатам обучения лучшей из всех моделей была признана модель `LogisticRegression` с L2-регуляризацией и гиперпараметром `C` = 9, показавшая значение метрики *F1* на тестовой выборке 0.79, что выше требуемого порога 0.75 и не хуже значения метрики *F1* данной модели при кросс-валидации.\n",
    "\n",
    "Таким образом, для классификации комментариев пользователей рекомендуется использовать модель `LogisticRegression` с L2-регуляризацией и гиперпараметром `C` = 9 для признаков, подготовленных вышеописанным образом."
   ]
  },
  {
   "cell_type": "markdown",
   "metadata": {},
   "source": [
    "## Чек-лист проверки"
   ]
  },
  {
   "cell_type": "markdown",
   "metadata": {},
   "source": [
    "- [x]  Jupyter Notebook открыт\n",
    "- [x]  Весь код выполняется без ошибок\n",
    "- [x]  Ячейки с кодом расположены в порядке исполнения\n",
    "- [x]  Данные загружены и подготовлены\n",
    "- [x]  Модели обучены\n",
    "- [x]  Значение метрики *F1* не меньше 0.75\n",
    "- [x]  Выводы написаны"
   ]
  }
 ],
 "metadata": {
  "ExecuteTimeLog": [
   {
    "duration": 7311,
    "start_time": "2024-07-02T15:30:17.250Z"
   },
   {
    "duration": 3428,
    "start_time": "2024-07-02T15:30:24.568Z"
   },
   {
    "duration": 4444,
    "start_time": "2024-07-02T15:30:27.998Z"
   },
   {
    "duration": 290947,
    "start_time": "2024-07-02T15:30:32.444Z"
   },
   {
    "duration": 16485,
    "start_time": "2024-07-02T15:35:23.394Z"
   },
   {
    "duration": 3843,
    "start_time": "2024-07-02T15:35:39.884Z"
   },
   {
    "duration": 5901,
    "start_time": "2024-07-02T15:35:43.729Z"
   },
   {
    "duration": 3,
    "start_time": "2024-07-02T15:35:49.632Z"
   },
   {
    "duration": 2250,
    "start_time": "2024-07-02T15:35:49.637Z"
   },
   {
    "duration": 19,
    "start_time": "2024-07-02T15:35:51.888Z"
   },
   {
    "duration": 40,
    "start_time": "2024-07-02T15:35:51.909Z"
   },
   {
    "duration": 9,
    "start_time": "2024-07-02T15:35:51.951Z"
   },
   {
    "duration": 54,
    "start_time": "2024-07-02T15:35:51.961Z"
   },
   {
    "duration": 11,
    "start_time": "2024-07-02T15:35:52.018Z"
   },
   {
    "duration": 8,
    "start_time": "2024-07-02T15:35:52.031Z"
   },
   {
    "duration": 4955,
    "start_time": "2024-07-02T15:35:52.040Z"
   },
   {
    "duration": 6705,
    "start_time": "2024-07-04T11:04:25.530Z"
   },
   {
    "duration": 3164,
    "start_time": "2024-07-04T11:04:32.238Z"
   },
   {
    "duration": 3888,
    "start_time": "2024-07-04T11:04:35.406Z"
   },
   {
    "duration": 37705,
    "start_time": "2024-07-04T11:04:39.297Z"
   },
   {
    "duration": 12672,
    "start_time": "2024-07-04T11:05:17.004Z"
   },
   {
    "duration": 3549,
    "start_time": "2024-07-04T11:05:29.677Z"
   },
   {
    "duration": 2821,
    "start_time": "2024-07-04T11:05:33.228Z"
   },
   {
    "duration": 2,
    "start_time": "2024-07-04T11:05:36.051Z"
   },
   {
    "duration": 2241,
    "start_time": "2024-07-04T11:05:36.055Z"
   },
   {
    "duration": 13,
    "start_time": "2024-07-04T11:05:38.297Z"
   },
   {
    "duration": 29,
    "start_time": "2024-07-04T11:05:38.312Z"
   },
   {
    "duration": 56,
    "start_time": "2024-07-04T11:05:38.343Z"
   },
   {
    "duration": 3340,
    "start_time": "2024-07-04T11:05:46.615Z"
   },
   {
    "duration": 2986,
    "start_time": "2024-07-04T11:05:49.957Z"
   },
   {
    "duration": 3028,
    "start_time": "2024-07-04T11:05:52.945Z"
   },
   {
    "duration": 3034,
    "start_time": "2024-07-04T11:05:55.975Z"
   },
   {
    "duration": 2998,
    "start_time": "2024-07-04T11:05:59.011Z"
   },
   {
    "duration": 3,
    "start_time": "2024-07-04T11:06:02.011Z"
   },
   {
    "duration": 3613,
    "start_time": "2024-07-04T11:06:02.015Z"
   },
   {
    "duration": 13,
    "start_time": "2024-07-04T11:06:05.630Z"
   },
   {
    "duration": 37,
    "start_time": "2024-07-04T11:06:05.644Z"
   },
   {
    "duration": 18,
    "start_time": "2024-07-04T11:06:05.682Z"
   },
   {
    "duration": 164,
    "start_time": "2024-07-04T11:07:44.370Z"
   },
   {
    "duration": 1100,
    "start_time": "2024-07-04T11:08:07.916Z"
   },
   {
    "duration": 47,
    "start_time": "2024-07-04T11:09:05.656Z"
   },
   {
    "duration": 36,
    "start_time": "2024-07-04T11:11:08.090Z"
   },
   {
    "duration": 153,
    "start_time": "2024-07-04T11:14:31.562Z"
   },
   {
    "duration": 2434,
    "start_time": "2024-07-04T11:39:52.661Z"
   },
   {
    "duration": 3420,
    "start_time": "2024-07-04T11:40:16.169Z"
   },
   {
    "duration": 3213,
    "start_time": "2024-07-04T11:40:19.591Z"
   },
   {
    "duration": 3180,
    "start_time": "2024-07-04T11:40:22.806Z"
   },
   {
    "duration": 3158,
    "start_time": "2024-07-04T11:40:25.989Z"
   },
   {
    "duration": 3203,
    "start_time": "2024-07-04T11:40:29.149Z"
   },
   {
    "duration": 3,
    "start_time": "2024-07-04T11:40:32.354Z"
   },
   {
    "duration": 2308,
    "start_time": "2024-07-04T11:40:32.358Z"
   },
   {
    "duration": 12,
    "start_time": "2024-07-04T11:40:34.668Z"
   },
   {
    "duration": 38,
    "start_time": "2024-07-04T11:40:34.682Z"
   },
   {
    "duration": 8,
    "start_time": "2024-07-04T11:40:34.722Z"
   },
   {
    "duration": 2328,
    "start_time": "2024-07-04T11:40:34.731Z"
   },
   {
    "duration": 0,
    "start_time": "2024-07-04T11:40:37.061Z"
   },
   {
    "duration": 3563,
    "start_time": "2024-07-04T11:40:57.096Z"
   },
   {
    "duration": 3208,
    "start_time": "2024-07-04T11:41:00.662Z"
   },
   {
    "duration": 3134,
    "start_time": "2024-07-04T11:41:03.872Z"
   },
   {
    "duration": 3251,
    "start_time": "2024-07-04T11:41:07.008Z"
   },
   {
    "duration": 2110,
    "start_time": "2024-07-04T11:41:10.262Z"
   },
   {
    "duration": 2,
    "start_time": "2024-07-04T11:41:12.374Z"
   },
   {
    "duration": 2723,
    "start_time": "2024-07-04T11:41:12.378Z"
   },
   {
    "duration": 14,
    "start_time": "2024-07-04T11:41:15.102Z"
   },
   {
    "duration": 37,
    "start_time": "2024-07-04T11:41:15.118Z"
   },
   {
    "duration": 13,
    "start_time": "2024-07-04T11:41:15.156Z"
   },
   {
    "duration": 2236,
    "start_time": "2024-07-04T11:41:15.171Z"
   },
   {
    "duration": 22,
    "start_time": "2024-07-04T11:41:17.409Z"
   },
   {
    "duration": 3447,
    "start_time": "2024-07-04T11:41:45.894Z"
   },
   {
    "duration": 3094,
    "start_time": "2024-07-04T11:41:49.344Z"
   },
   {
    "duration": 3165,
    "start_time": "2024-07-04T11:41:52.440Z"
   },
   {
    "duration": 3204,
    "start_time": "2024-07-04T11:41:55.607Z"
   },
   {
    "duration": 2824,
    "start_time": "2024-07-04T11:41:58.813Z"
   },
   {
    "duration": 3,
    "start_time": "2024-07-04T11:42:01.638Z"
   },
   {
    "duration": 2250,
    "start_time": "2024-07-04T11:42:01.642Z"
   },
   {
    "duration": 14,
    "start_time": "2024-07-04T11:42:03.893Z"
   },
   {
    "duration": 32,
    "start_time": "2024-07-04T11:42:03.909Z"
   },
   {
    "duration": 38,
    "start_time": "2024-07-04T11:42:03.943Z"
   },
   {
    "duration": 2222,
    "start_time": "2024-07-04T11:42:03.983Z"
   },
   {
    "duration": 12,
    "start_time": "2024-07-04T11:42:06.207Z"
   },
   {
    "duration": 2905,
    "start_time": "2024-07-04T11:45:32.884Z"
   },
   {
    "duration": 513,
    "start_time": "2024-07-04T11:49:34.026Z"
   },
   {
    "duration": 3,
    "start_time": "2024-07-04T11:53:31.250Z"
   },
   {
    "duration": 347,
    "start_time": "2024-07-04T11:56:19.572Z"
   },
   {
    "duration": 11,
    "start_time": "2024-07-04T11:57:55.118Z"
   },
   {
    "duration": 4,
    "start_time": "2024-07-04T12:01:50.791Z"
   },
   {
    "duration": 18,
    "start_time": "2024-07-04T12:02:10.049Z"
   },
   {
    "duration": 726,
    "start_time": "2024-07-04T12:03:02.569Z"
   },
   {
    "duration": 3326,
    "start_time": "2024-07-04T12:03:53.097Z"
   },
   {
    "duration": 2907,
    "start_time": "2024-07-04T12:03:56.426Z"
   },
   {
    "duration": 3191,
    "start_time": "2024-07-04T12:03:59.335Z"
   },
   {
    "duration": 3063,
    "start_time": "2024-07-04T12:04:02.527Z"
   },
   {
    "duration": 4183,
    "start_time": "2024-07-04T12:04:05.593Z"
   },
   {
    "duration": 6,
    "start_time": "2024-07-04T12:04:09.777Z"
   },
   {
    "duration": 2501,
    "start_time": "2024-07-04T12:04:09.784Z"
   },
   {
    "duration": 18,
    "start_time": "2024-07-04T12:04:12.287Z"
   },
   {
    "duration": 32,
    "start_time": "2024-07-04T12:04:12.307Z"
   },
   {
    "duration": 7,
    "start_time": "2024-07-04T12:04:12.340Z"
   },
   {
    "duration": 2868,
    "start_time": "2024-07-04T12:04:12.349Z"
   },
   {
    "duration": 488,
    "start_time": "2024-07-04T12:04:15.219Z"
   },
   {
    "duration": 3,
    "start_time": "2024-07-04T12:04:15.709Z"
   },
   {
    "duration": 391,
    "start_time": "2024-07-04T12:04:15.715Z"
   },
   {
    "duration": 75,
    "start_time": "2024-07-04T12:05:42.980Z"
   },
   {
    "duration": 19,
    "start_time": "2024-07-04T12:05:53.484Z"
   },
   {
    "duration": 2118,
    "start_time": "2024-07-04T12:06:05.739Z"
   },
   {
    "duration": 17,
    "start_time": "2024-07-04T12:06:11.478Z"
   },
   {
    "duration": 3321,
    "start_time": "2024-07-04T12:07:13.979Z"
   },
   {
    "duration": 2911,
    "start_time": "2024-07-04T12:07:17.303Z"
   },
   {
    "duration": 2877,
    "start_time": "2024-07-04T12:07:20.216Z"
   },
   {
    "duration": 3096,
    "start_time": "2024-07-04T12:07:23.095Z"
   },
   {
    "duration": 5438,
    "start_time": "2024-07-04T12:07:26.194Z"
   },
   {
    "duration": 5,
    "start_time": "2024-07-04T12:07:31.634Z"
   },
   {
    "duration": 2241,
    "start_time": "2024-07-04T12:07:31.640Z"
   },
   {
    "duration": 18,
    "start_time": "2024-07-04T12:07:33.882Z"
   },
   {
    "duration": 30,
    "start_time": "2024-07-04T12:07:33.902Z"
   },
   {
    "duration": 9,
    "start_time": "2024-07-04T12:07:33.933Z"
   },
   {
    "duration": 2473,
    "start_time": "2024-07-04T12:07:33.943Z"
   },
   {
    "duration": 0,
    "start_time": "2024-07-04T12:07:36.418Z"
   },
   {
    "duration": 0,
    "start_time": "2024-07-04T12:07:36.419Z"
   },
   {
    "duration": 0,
    "start_time": "2024-07-04T12:07:36.420Z"
   },
   {
    "duration": 0,
    "start_time": "2024-07-04T12:07:36.421Z"
   },
   {
    "duration": 3250,
    "start_time": "2024-07-04T12:08:33.134Z"
   },
   {
    "duration": 3001,
    "start_time": "2024-07-04T12:08:36.387Z"
   },
   {
    "duration": 3038,
    "start_time": "2024-07-04T12:08:39.390Z"
   },
   {
    "duration": 3102,
    "start_time": "2024-07-04T12:08:42.430Z"
   },
   {
    "duration": 4850,
    "start_time": "2024-07-04T12:08:45.535Z"
   },
   {
    "duration": 5,
    "start_time": "2024-07-04T12:08:50.387Z"
   },
   {
    "duration": 3066,
    "start_time": "2024-07-04T12:08:50.394Z"
   },
   {
    "duration": 13,
    "start_time": "2024-07-04T12:08:53.461Z"
   },
   {
    "duration": 37,
    "start_time": "2024-07-04T12:08:53.475Z"
   },
   {
    "duration": 7,
    "start_time": "2024-07-04T12:08:53.513Z"
   },
   {
    "duration": 2884,
    "start_time": "2024-07-04T12:08:53.522Z"
   },
   {
    "duration": 508,
    "start_time": "2024-07-04T12:08:56.408Z"
   },
   {
    "duration": 2,
    "start_time": "2024-07-04T12:08:56.918Z"
   },
   {
    "duration": 328,
    "start_time": "2024-07-04T12:08:56.923Z"
   },
   {
    "duration": 0,
    "start_time": "2024-07-04T12:08:57.252Z"
   },
   {
    "duration": 36,
    "start_time": "2024-07-04T12:09:13.188Z"
   },
   {
    "duration": 32,
    "start_time": "2024-07-04T12:09:45.696Z"
   },
   {
    "duration": 32,
    "start_time": "2024-07-04T12:10:16.635Z"
   },
   {
    "duration": 18,
    "start_time": "2024-07-04T12:12:38.569Z"
   },
   {
    "duration": 3233,
    "start_time": "2024-07-04T12:13:19.230Z"
   },
   {
    "duration": 2965,
    "start_time": "2024-07-04T12:13:22.466Z"
   },
   {
    "duration": 3005,
    "start_time": "2024-07-04T12:13:25.433Z"
   },
   {
    "duration": 3103,
    "start_time": "2024-07-04T12:13:28.441Z"
   },
   {
    "duration": 3960,
    "start_time": "2024-07-04T12:13:31.546Z"
   },
   {
    "duration": 6,
    "start_time": "2024-07-04T12:13:35.508Z"
   },
   {
    "duration": 2168,
    "start_time": "2024-07-04T12:13:35.515Z"
   },
   {
    "duration": 18,
    "start_time": "2024-07-04T12:13:37.685Z"
   },
   {
    "duration": 33,
    "start_time": "2024-07-04T12:13:37.705Z"
   },
   {
    "duration": 7,
    "start_time": "2024-07-04T12:13:37.740Z"
   },
   {
    "duration": 2172,
    "start_time": "2024-07-04T12:13:37.748Z"
   },
   {
    "duration": 494,
    "start_time": "2024-07-04T12:13:39.921Z"
   },
   {
    "duration": 2,
    "start_time": "2024-07-04T12:13:40.417Z"
   },
   {
    "duration": 347,
    "start_time": "2024-07-04T12:13:40.421Z"
   },
   {
    "duration": 18,
    "start_time": "2024-07-04T12:15:17.013Z"
   },
   {
    "duration": 20,
    "start_time": "2024-07-04T12:16:03.294Z"
   },
   {
    "duration": 2270,
    "start_time": "2024-07-04T12:16:13.676Z"
   },
   {
    "duration": 4,
    "start_time": "2024-07-04T12:27:36.430Z"
   },
   {
    "duration": 3408,
    "start_time": "2024-07-04T12:28:49.147Z"
   },
   {
    "duration": 3021,
    "start_time": "2024-07-04T12:28:52.557Z"
   },
   {
    "duration": 3067,
    "start_time": "2024-07-04T12:28:55.580Z"
   },
   {
    "duration": 3088,
    "start_time": "2024-07-04T12:28:58.649Z"
   },
   {
    "duration": 4144,
    "start_time": "2024-07-04T12:29:01.740Z"
   },
   {
    "duration": 5,
    "start_time": "2024-07-04T12:29:05.886Z"
   },
   {
    "duration": 2479,
    "start_time": "2024-07-04T12:29:05.893Z"
   },
   {
    "duration": 13,
    "start_time": "2024-07-04T12:29:08.374Z"
   },
   {
    "duration": 34,
    "start_time": "2024-07-04T12:29:08.388Z"
   },
   {
    "duration": 6,
    "start_time": "2024-07-04T12:29:08.424Z"
   },
   {
    "duration": 2163,
    "start_time": "2024-07-04T12:29:08.432Z"
   },
   {
    "duration": 522,
    "start_time": "2024-07-04T12:29:10.597Z"
   },
   {
    "duration": 3,
    "start_time": "2024-07-04T12:29:11.120Z"
   },
   {
    "duration": 364,
    "start_time": "2024-07-04T12:29:11.125Z"
   },
   {
    "duration": 3,
    "start_time": "2024-07-04T12:29:39.574Z"
   },
   {
    "duration": 30,
    "start_time": "2024-07-04T12:29:43.060Z"
   },
   {
    "duration": 36,
    "start_time": "2024-07-04T12:30:16.013Z"
   },
   {
    "duration": 3,
    "start_time": "2024-07-04T12:30:40.416Z"
   },
   {
    "duration": 16,
    "start_time": "2024-07-04T12:30:47.479Z"
   },
   {
    "duration": 3,
    "start_time": "2024-07-04T12:30:51.554Z"
   },
   {
    "duration": 3250,
    "start_time": "2024-07-04T12:35:19.516Z"
   },
   {
    "duration": 3005,
    "start_time": "2024-07-04T12:35:22.768Z"
   },
   {
    "duration": 3000,
    "start_time": "2024-07-04T12:35:25.775Z"
   },
   {
    "duration": 2995,
    "start_time": "2024-07-04T12:35:28.777Z"
   },
   {
    "duration": 4075,
    "start_time": "2024-07-04T12:35:31.775Z"
   },
   {
    "duration": 6,
    "start_time": "2024-07-04T12:35:35.852Z"
   },
   {
    "duration": 2642,
    "start_time": "2024-07-04T12:35:35.860Z"
   },
   {
    "duration": 14,
    "start_time": "2024-07-04T12:35:38.504Z"
   },
   {
    "duration": 32,
    "start_time": "2024-07-04T12:35:38.519Z"
   },
   {
    "duration": 38,
    "start_time": "2024-07-04T12:35:38.552Z"
   },
   {
    "duration": 2890,
    "start_time": "2024-07-04T12:35:38.592Z"
   },
   {
    "duration": 506,
    "start_time": "2024-07-04T12:35:41.484Z"
   },
   {
    "duration": 7,
    "start_time": "2024-07-04T12:35:41.992Z"
   },
   {
    "duration": 316,
    "start_time": "2024-07-04T12:35:42.002Z"
   },
   {
    "duration": 0,
    "start_time": "2024-07-04T12:35:42.319Z"
   },
   {
    "duration": 1110590,
    "start_time": "2024-07-04T12:36:23.735Z"
   },
   {
    "duration": 3389,
    "start_time": "2024-07-04T13:48:33.502Z"
   },
   {
    "duration": 2983,
    "start_time": "2024-07-04T13:48:36.894Z"
   },
   {
    "duration": 3151,
    "start_time": "2024-07-04T13:48:39.879Z"
   },
   {
    "duration": 3111,
    "start_time": "2024-07-04T13:48:43.032Z"
   },
   {
    "duration": 4275,
    "start_time": "2024-07-04T13:48:46.145Z"
   },
   {
    "duration": 6,
    "start_time": "2024-07-04T13:48:50.422Z"
   },
   {
    "duration": 2538,
    "start_time": "2024-07-04T13:48:50.430Z"
   },
   {
    "duration": 14,
    "start_time": "2024-07-04T13:48:52.970Z"
   },
   {
    "duration": 45,
    "start_time": "2024-07-04T13:48:52.986Z"
   },
   {
    "duration": 17,
    "start_time": "2024-07-04T13:48:53.033Z"
   },
   {
    "duration": 624,
    "start_time": "2024-07-04T13:48:53.051Z"
   },
   {
    "duration": 0,
    "start_time": "2024-07-04T13:48:53.677Z"
   },
   {
    "duration": 0,
    "start_time": "2024-07-04T13:48:53.678Z"
   },
   {
    "duration": 0,
    "start_time": "2024-07-04T13:48:53.679Z"
   },
   {
    "duration": 0,
    "start_time": "2024-07-04T13:48:53.680Z"
   },
   {
    "duration": 0,
    "start_time": "2024-07-04T13:48:53.682Z"
   },
   {
    "duration": 0,
    "start_time": "2024-07-04T13:48:53.682Z"
   },
   {
    "duration": 0,
    "start_time": "2024-07-04T13:48:53.684Z"
   },
   {
    "duration": 4,
    "start_time": "2024-07-04T13:51:02.537Z"
   },
   {
    "duration": 4343,
    "start_time": "2024-07-04T13:51:12.689Z"
   },
   {
    "duration": 33,
    "start_time": "2024-07-04T13:51:21.372Z"
   },
   {
    "duration": 146,
    "start_time": "2024-07-04T13:51:24.505Z"
   },
   {
    "duration": 2986,
    "start_time": "2024-07-04T13:51:31.341Z"
   },
   {
    "duration": 516,
    "start_time": "2024-07-04T13:51:40.145Z"
   },
   {
    "duration": 3,
    "start_time": "2024-07-04T13:51:43.071Z"
   },
   {
    "duration": 117222,
    "start_time": "2024-07-04T13:51:48.655Z"
   },
   {
    "duration": 4,
    "start_time": "2024-07-04T14:02:53.875Z"
   },
   {
    "duration": 3396,
    "start_time": "2024-07-04T14:06:31.766Z"
   },
   {
    "duration": 2978,
    "start_time": "2024-07-04T14:06:35.164Z"
   },
   {
    "duration": 3429,
    "start_time": "2024-07-04T14:06:38.144Z"
   },
   {
    "duration": 2972,
    "start_time": "2024-07-04T14:06:41.575Z"
   },
   {
    "duration": 4141,
    "start_time": "2024-07-04T14:06:44.549Z"
   },
   {
    "duration": 8,
    "start_time": "2024-07-04T14:06:48.691Z"
   },
   {
    "duration": 2562,
    "start_time": "2024-07-04T14:06:48.701Z"
   },
   {
    "duration": 13,
    "start_time": "2024-07-04T14:06:51.265Z"
   },
   {
    "duration": 35,
    "start_time": "2024-07-04T14:06:51.280Z"
   },
   {
    "duration": 49,
    "start_time": "2024-07-04T14:06:51.316Z"
   },
   {
    "duration": 4280,
    "start_time": "2024-07-04T14:06:51.366Z"
   },
   {
    "duration": 29,
    "start_time": "2024-07-04T14:06:55.648Z"
   },
   {
    "duration": 163,
    "start_time": "2024-07-04T14:06:55.680Z"
   },
   {
    "duration": 2901,
    "start_time": "2024-07-04T14:06:55.846Z"
   },
   {
    "duration": 11,
    "start_time": "2024-07-04T14:06:58.748Z"
   },
   {
    "duration": 3,
    "start_time": "2024-07-04T14:06:58.761Z"
   },
   {
    "duration": 379,
    "start_time": "2024-07-04T14:06:58.766Z"
   },
   {
    "duration": 0,
    "start_time": "2024-07-04T14:06:59.147Z"
   },
   {
    "duration": 4813,
    "start_time": "2024-07-04T14:16:11.562Z"
   },
   {
    "duration": 3415,
    "start_time": "2024-07-04T14:20:58.391Z"
   },
   {
    "duration": 3087,
    "start_time": "2024-07-04T14:21:01.808Z"
   },
   {
    "duration": 2858,
    "start_time": "2024-07-04T14:21:04.898Z"
   },
   {
    "duration": 3011,
    "start_time": "2024-07-04T14:21:07.759Z"
   },
   {
    "duration": 4050,
    "start_time": "2024-07-04T14:21:10.772Z"
   },
   {
    "duration": 5,
    "start_time": "2024-07-04T14:21:14.824Z"
   },
   {
    "duration": 2763,
    "start_time": "2024-07-04T14:21:14.830Z"
   },
   {
    "duration": 15,
    "start_time": "2024-07-04T14:21:17.594Z"
   },
   {
    "duration": 36,
    "start_time": "2024-07-04T14:21:17.610Z"
   },
   {
    "duration": 7,
    "start_time": "2024-07-04T14:21:17.648Z"
   },
   {
    "duration": 4322,
    "start_time": "2024-07-04T14:21:17.656Z"
   },
   {
    "duration": 29,
    "start_time": "2024-07-04T14:21:21.980Z"
   },
   {
    "duration": 164,
    "start_time": "2024-07-04T14:21:22.011Z"
   },
   {
    "duration": 2928,
    "start_time": "2024-07-04T14:21:22.177Z"
   },
   {
    "duration": 495,
    "start_time": "2024-07-04T14:21:25.107Z"
   },
   {
    "duration": 2,
    "start_time": "2024-07-04T14:21:25.604Z"
   },
   {
    "duration": 1086,
    "start_time": "2024-07-04T14:21:25.607Z"
   },
   {
    "duration": 0,
    "start_time": "2024-07-04T14:21:26.694Z"
   },
   {
    "duration": 7858,
    "start_time": "2024-07-04T14:21:47.324Z"
   },
   {
    "duration": 214679,
    "start_time": "2024-07-04T14:22:10.905Z"
   },
   {
    "duration": 3314,
    "start_time": "2024-07-04T14:30:38.397Z"
   },
   {
    "duration": 2884,
    "start_time": "2024-07-04T14:30:41.713Z"
   },
   {
    "duration": 2969,
    "start_time": "2024-07-04T14:30:44.599Z"
   },
   {
    "duration": 3134,
    "start_time": "2024-07-04T14:30:47.570Z"
   },
   {
    "duration": 4788,
    "start_time": "2024-07-04T14:30:50.707Z"
   },
   {
    "duration": 5,
    "start_time": "2024-07-04T14:30:55.497Z"
   },
   {
    "duration": 2446,
    "start_time": "2024-07-04T14:30:55.503Z"
   },
   {
    "duration": 13,
    "start_time": "2024-07-04T14:30:57.951Z"
   },
   {
    "duration": 40,
    "start_time": "2024-07-04T14:30:57.965Z"
   },
   {
    "duration": 8,
    "start_time": "2024-07-04T14:30:58.006Z"
   },
   {
    "duration": 4290,
    "start_time": "2024-07-04T14:30:58.015Z"
   },
   {
    "duration": 31,
    "start_time": "2024-07-04T14:31:02.308Z"
   },
   {
    "duration": 162,
    "start_time": "2024-07-04T14:31:02.341Z"
   },
   {
    "duration": 3500,
    "start_time": "2024-07-04T14:31:28.162Z"
   },
   {
    "duration": 3008,
    "start_time": "2024-07-04T14:31:31.664Z"
   },
   {
    "duration": 3223,
    "start_time": "2024-07-04T14:31:34.674Z"
   },
   {
    "duration": 3033,
    "start_time": "2024-07-04T14:31:37.900Z"
   },
   {
    "duration": 4959,
    "start_time": "2024-07-04T14:31:40.935Z"
   },
   {
    "duration": 6,
    "start_time": "2024-07-04T14:31:45.896Z"
   },
   {
    "duration": 2357,
    "start_time": "2024-07-04T14:31:45.904Z"
   },
   {
    "duration": 16,
    "start_time": "2024-07-04T14:31:48.263Z"
   },
   {
    "duration": 45,
    "start_time": "2024-07-04T14:31:48.281Z"
   },
   {
    "duration": 8,
    "start_time": "2024-07-04T14:31:48.329Z"
   },
   {
    "duration": 4440,
    "start_time": "2024-07-04T14:31:48.339Z"
   },
   {
    "duration": 32,
    "start_time": "2024-07-04T14:31:52.781Z"
   },
   {
    "duration": 3450,
    "start_time": "2024-07-04T14:32:25.652Z"
   },
   {
    "duration": 3098,
    "start_time": "2024-07-04T14:32:29.104Z"
   },
   {
    "duration": 3101,
    "start_time": "2024-07-04T14:32:32.204Z"
   },
   {
    "duration": 3119,
    "start_time": "2024-07-04T14:32:35.307Z"
   },
   {
    "duration": 4934,
    "start_time": "2024-07-04T14:32:38.429Z"
   },
   {
    "duration": 5,
    "start_time": "2024-07-04T14:32:43.365Z"
   },
   {
    "duration": 2246,
    "start_time": "2024-07-04T14:32:43.371Z"
   },
   {
    "duration": 14,
    "start_time": "2024-07-04T14:32:45.619Z"
   },
   {
    "duration": 31,
    "start_time": "2024-07-04T14:32:45.634Z"
   },
   {
    "duration": 8,
    "start_time": "2024-07-04T14:32:45.667Z"
   },
   {
    "duration": 4406,
    "start_time": "2024-07-04T14:32:45.676Z"
   },
   {
    "duration": 32,
    "start_time": "2024-07-04T14:32:50.084Z"
   },
   {
    "duration": 3493,
    "start_time": "2024-07-04T14:33:11.934Z"
   },
   {
    "duration": 3044,
    "start_time": "2024-07-04T14:33:15.430Z"
   },
   {
    "duration": 2986,
    "start_time": "2024-07-04T14:33:18.476Z"
   },
   {
    "duration": 3062,
    "start_time": "2024-07-04T14:33:21.464Z"
   },
   {
    "duration": 4928,
    "start_time": "2024-07-04T14:33:24.529Z"
   },
   {
    "duration": 6,
    "start_time": "2024-07-04T14:33:29.459Z"
   },
   {
    "duration": 1909,
    "start_time": "2024-07-04T14:33:29.467Z"
   },
   {
    "duration": 22,
    "start_time": "2024-07-04T14:33:31.378Z"
   },
   {
    "duration": 61,
    "start_time": "2024-07-04T14:33:31.402Z"
   },
   {
    "duration": 25,
    "start_time": "2024-07-04T14:33:31.465Z"
   },
   {
    "duration": 4382,
    "start_time": "2024-07-04T14:33:31.491Z"
   },
   {
    "duration": 40,
    "start_time": "2024-07-04T14:33:35.875Z"
   },
   {
    "duration": 6752,
    "start_time": "2024-07-05T10:19:04.763Z"
   },
   {
    "duration": 3410,
    "start_time": "2024-07-05T10:19:11.517Z"
   },
   {
    "duration": 3895,
    "start_time": "2024-07-05T10:19:14.929Z"
   },
   {
    "duration": 3307,
    "start_time": "2024-07-05T10:19:18.827Z"
   },
   {
    "duration": 3841,
    "start_time": "2024-07-05T10:19:22.135Z"
   },
   {
    "duration": 6,
    "start_time": "2024-07-05T10:19:25.978Z"
   },
   {
    "duration": 2432,
    "start_time": "2024-07-05T10:19:25.986Z"
   },
   {
    "duration": 12,
    "start_time": "2024-07-05T10:19:28.420Z"
   },
   {
    "duration": 30,
    "start_time": "2024-07-05T10:19:28.433Z"
   },
   {
    "duration": 7,
    "start_time": "2024-07-05T10:19:28.465Z"
   },
   {
    "duration": 4,
    "start_time": "2024-07-05T10:19:28.473Z"
   },
   {
    "duration": 15,
    "start_time": "2024-07-05T10:19:28.478Z"
   },
   {
    "duration": 5,
    "start_time": "2024-07-05T10:19:28.495Z"
   },
   {
    "duration": 14,
    "start_time": "2024-07-05T10:19:28.502Z"
   },
   {
    "duration": 4,
    "start_time": "2024-07-05T10:19:28.517Z"
   },
   {
    "duration": 7,
    "start_time": "2024-07-05T10:19:28.522Z"
   },
   {
    "duration": 3,
    "start_time": "2024-07-05T10:19:28.530Z"
   },
   {
    "duration": 35,
    "start_time": "2024-07-05T10:23:04.249Z"
   },
   {
    "duration": 35,
    "start_time": "2024-07-05T10:25:54.123Z"
   },
   {
    "duration": 4150,
    "start_time": "2024-07-05T10:25:56.700Z"
   },
   {
    "duration": 13,
    "start_time": "2024-07-05T10:30:13.884Z"
   },
   {
    "duration": 4159,
    "start_time": "2024-07-05T10:30:18.807Z"
   },
   {
    "duration": 4,
    "start_time": "2024-07-05T10:30:35.005Z"
   },
   {
    "duration": 4,
    "start_time": "2024-07-05T10:30:58.262Z"
   },
   {
    "duration": 325,
    "start_time": "2024-07-05T10:31:01.535Z"
   },
   {
    "duration": 4,
    "start_time": "2024-07-05T10:31:10.895Z"
   },
   {
    "duration": 3232,
    "start_time": "2024-07-05T10:33:34.375Z"
   },
   {
    "duration": 3011,
    "start_time": "2024-07-05T10:33:37.609Z"
   },
   {
    "duration": 3068,
    "start_time": "2024-07-05T10:33:40.622Z"
   },
   {
    "duration": 2985,
    "start_time": "2024-07-05T10:33:43.693Z"
   },
   {
    "duration": 4171,
    "start_time": "2024-07-05T10:33:46.680Z"
   },
   {
    "duration": 6,
    "start_time": "2024-07-05T10:33:50.852Z"
   },
   {
    "duration": 2518,
    "start_time": "2024-07-05T10:33:50.859Z"
   },
   {
    "duration": 13,
    "start_time": "2024-07-05T10:33:53.378Z"
   },
   {
    "duration": 34,
    "start_time": "2024-07-05T10:33:53.392Z"
   },
   {
    "duration": 6,
    "start_time": "2024-07-05T10:33:53.429Z"
   },
   {
    "duration": 4111,
    "start_time": "2024-07-05T10:33:53.436Z"
   },
   {
    "duration": 23,
    "start_time": "2024-07-05T10:33:57.549Z"
   },
   {
    "duration": 12,
    "start_time": "2024-07-05T10:33:57.574Z"
   },
   {
    "duration": 7,
    "start_time": "2024-07-05T10:33:57.588Z"
   },
   {
    "duration": 4,
    "start_time": "2024-07-05T10:33:57.596Z"
   },
   {
    "duration": 12,
    "start_time": "2024-07-05T10:33:57.601Z"
   },
   {
    "duration": 10,
    "start_time": "2024-07-05T10:33:57.615Z"
   },
   {
    "duration": 33,
    "start_time": "2024-07-05T10:36:11.682Z"
   },
   {
    "duration": 43,
    "start_time": "2024-07-05T10:36:25.527Z"
   },
   {
    "duration": 394,
    "start_time": "2024-07-05T10:38:58.725Z"
   },
   {
    "duration": 9070,
    "start_time": "2024-07-05T10:41:58.793Z"
   },
   {
    "duration": 8022,
    "start_time": "2024-07-05T10:42:11.218Z"
   },
   {
    "duration": 1356,
    "start_time": "2024-07-05T10:42:29.453Z"
   },
   {
    "duration": 30,
    "start_time": "2024-07-05T10:53:52.757Z"
   },
   {
    "duration": 9950,
    "start_time": "2024-07-05T10:54:03.877Z"
   },
   {
    "duration": 17,
    "start_time": "2024-07-05T10:55:51.440Z"
   },
   {
    "duration": 16,
    "start_time": "2024-07-05T10:56:12.329Z"
   },
   {
    "duration": 242264,
    "start_time": "2024-07-05T11:02:46.264Z"
   },
   {
    "duration": 100372,
    "start_time": "2024-07-05T11:07:20.565Z"
   },
   {
    "duration": 0,
    "start_time": "2024-07-05T11:09:55.133Z"
   },
   {
    "duration": 3221,
    "start_time": "2024-07-05T11:10:48.573Z"
   },
   {
    "duration": 2997,
    "start_time": "2024-07-05T11:10:51.796Z"
   },
   {
    "duration": 2976,
    "start_time": "2024-07-05T11:10:54.795Z"
   },
   {
    "duration": 3046,
    "start_time": "2024-07-05T11:10:57.773Z"
   },
   {
    "duration": 9139,
    "start_time": "2024-07-05T11:11:00.822Z"
   },
   {
    "duration": 5127,
    "start_time": "2024-07-05T11:11:09.963Z"
   },
   {
    "duration": 5,
    "start_time": "2024-07-05T11:11:15.091Z"
   },
   {
    "duration": 2488,
    "start_time": "2024-07-05T11:11:15.098Z"
   },
   {
    "duration": 14,
    "start_time": "2024-07-05T11:11:17.587Z"
   },
   {
    "duration": 28,
    "start_time": "2024-07-05T11:11:17.602Z"
   },
   {
    "duration": 8,
    "start_time": "2024-07-05T11:11:17.632Z"
   },
   {
    "duration": 4116,
    "start_time": "2024-07-05T11:11:17.642Z"
   },
   {
    "duration": 22,
    "start_time": "2024-07-05T11:11:21.759Z"
   },
   {
    "duration": 43,
    "start_time": "2024-07-05T11:11:21.784Z"
   },
   {
    "duration": 1540,
    "start_time": "2024-07-05T11:11:21.828Z"
   },
   {
    "duration": 3191,
    "start_time": "2024-07-05T11:18:31.177Z"
   },
   {
    "duration": 2857,
    "start_time": "2024-07-05T11:18:34.371Z"
   },
   {
    "duration": 2926,
    "start_time": "2024-07-05T11:18:37.230Z"
   },
   {
    "duration": 3039,
    "start_time": "2024-07-05T11:18:40.159Z"
   },
   {
    "duration": 9498,
    "start_time": "2024-07-05T11:18:43.199Z"
   },
   {
    "duration": 4853,
    "start_time": "2024-07-05T11:18:52.699Z"
   },
   {
    "duration": 6,
    "start_time": "2024-07-05T11:18:57.554Z"
   },
   {
    "duration": 2623,
    "start_time": "2024-07-05T11:18:57.561Z"
   },
   {
    "duration": 13,
    "start_time": "2024-07-05T11:19:00.186Z"
   },
   {
    "duration": 64,
    "start_time": "2024-07-05T11:19:00.201Z"
   },
   {
    "duration": 51,
    "start_time": "2024-07-05T11:19:00.267Z"
   },
   {
    "duration": 4241,
    "start_time": "2024-07-05T11:19:00.319Z"
   },
   {
    "duration": 23,
    "start_time": "2024-07-05T11:19:04.562Z"
   },
   {
    "duration": 46,
    "start_time": "2024-07-05T11:19:04.586Z"
   },
   {
    "duration": 1425,
    "start_time": "2024-07-05T11:19:04.634Z"
   },
   {
    "duration": 66051,
    "start_time": "2024-07-05T11:19:06.060Z"
   },
   {
    "duration": 0,
    "start_time": "2024-07-05T11:20:12.112Z"
   },
   {
    "duration": 0,
    "start_time": "2024-07-05T11:20:12.113Z"
   },
   {
    "duration": 250,
    "start_time": "2024-07-05T11:21:02.885Z"
   },
   {
    "duration": 469,
    "start_time": "2024-07-05T11:21:52.769Z"
   },
   {
    "duration": 234,
    "start_time": "2024-07-05T11:22:01.796Z"
   },
   {
    "duration": 15,
    "start_time": "2024-07-05T11:22:18.938Z"
   },
   {
    "duration": 232,
    "start_time": "2024-07-05T11:22:48.099Z"
   },
   {
    "duration": 237,
    "start_time": "2024-07-05T11:23:00.498Z"
   },
   {
    "duration": 289,
    "start_time": "2024-07-05T11:24:19.221Z"
   },
   {
    "duration": 55,
    "start_time": "2024-07-05T11:25:06.324Z"
   },
   {
    "duration": 141,
    "start_time": "2024-07-05T11:26:00.384Z"
   },
   {
    "duration": 5,
    "start_time": "2024-07-05T11:26:09.063Z"
   },
   {
    "duration": 3,
    "start_time": "2024-07-05T11:26:31.796Z"
   },
   {
    "duration": 227,
    "start_time": "2024-07-05T11:27:35.908Z"
   },
   {
    "duration": 160,
    "start_time": "2024-07-05T11:29:15.450Z"
   },
   {
    "duration": 4,
    "start_time": "2024-07-05T11:29:19.840Z"
   },
   {
    "duration": 143,
    "start_time": "2024-07-05T11:29:26.368Z"
   },
   {
    "duration": 4,
    "start_time": "2024-07-05T11:29:29.131Z"
   },
   {
    "duration": 4,
    "start_time": "2024-07-05T11:29:53.948Z"
   },
   {
    "duration": 30,
    "start_time": "2024-07-05T11:30:30.988Z"
   },
   {
    "duration": 3,
    "start_time": "2024-07-05T11:30:37.797Z"
   },
   {
    "duration": 208,
    "start_time": "2024-07-05T11:31:00.601Z"
   },
   {
    "duration": 4,
    "start_time": "2024-07-05T11:31:06.730Z"
   },
   {
    "duration": 4,
    "start_time": "2024-07-05T11:31:20.650Z"
   },
   {
    "duration": 3,
    "start_time": "2024-07-05T11:31:27.044Z"
   },
   {
    "duration": 3234,
    "start_time": "2024-07-05T11:33:32.217Z"
   },
   {
    "duration": 2998,
    "start_time": "2024-07-05T11:33:35.454Z"
   },
   {
    "duration": 2989,
    "start_time": "2024-07-05T11:33:38.453Z"
   },
   {
    "duration": 3002,
    "start_time": "2024-07-05T11:33:41.445Z"
   },
   {
    "duration": 9185,
    "start_time": "2024-07-05T11:33:44.450Z"
   },
   {
    "duration": 4406,
    "start_time": "2024-07-05T11:33:53.637Z"
   },
   {
    "duration": 6,
    "start_time": "2024-07-05T11:33:58.044Z"
   },
   {
    "duration": 2405,
    "start_time": "2024-07-05T11:33:58.052Z"
   },
   {
    "duration": 13,
    "start_time": "2024-07-05T11:34:00.458Z"
   },
   {
    "duration": 73,
    "start_time": "2024-07-05T11:34:00.472Z"
   },
   {
    "duration": 49,
    "start_time": "2024-07-05T11:34:00.547Z"
   },
   {
    "duration": 4127,
    "start_time": "2024-07-05T11:34:00.597Z"
   },
   {
    "duration": 26,
    "start_time": "2024-07-05T11:34:04.726Z"
   },
   {
    "duration": 51,
    "start_time": "2024-07-05T11:34:04.754Z"
   },
   {
    "duration": 1707,
    "start_time": "2024-07-05T11:34:04.806Z"
   },
   {
    "duration": 104306,
    "start_time": "2024-07-05T11:34:06.515Z"
   },
   {
    "duration": 0,
    "start_time": "2024-07-05T11:35:50.822Z"
   },
   {
    "duration": 0,
    "start_time": "2024-07-05T11:35:50.824Z"
   },
   {
    "duration": 73745,
    "start_time": "2024-07-05T11:36:08.403Z"
   },
   {
    "duration": 3300,
    "start_time": "2024-07-05T11:37:29.058Z"
   },
   {
    "duration": 2875,
    "start_time": "2024-07-05T11:37:32.360Z"
   },
   {
    "duration": 2869,
    "start_time": "2024-07-05T11:37:35.237Z"
   },
   {
    "duration": 2961,
    "start_time": "2024-07-05T11:37:38.109Z"
   },
   {
    "duration": 10016,
    "start_time": "2024-07-05T11:37:41.072Z"
   },
   {
    "duration": 4501,
    "start_time": "2024-07-05T11:37:51.090Z"
   },
   {
    "duration": 5,
    "start_time": "2024-07-05T11:37:55.592Z"
   },
   {
    "duration": 3756,
    "start_time": "2024-07-05T11:37:55.598Z"
   },
   {
    "duration": 12,
    "start_time": "2024-07-05T11:37:59.355Z"
   },
   {
    "duration": 30,
    "start_time": "2024-07-05T11:37:59.370Z"
   },
   {
    "duration": 13,
    "start_time": "2024-07-05T11:37:59.402Z"
   },
   {
    "duration": 4201,
    "start_time": "2024-07-05T11:37:59.416Z"
   },
   {
    "duration": 27,
    "start_time": "2024-07-05T11:38:03.618Z"
   },
   {
    "duration": 45,
    "start_time": "2024-07-05T11:38:03.647Z"
   },
   {
    "duration": 1539,
    "start_time": "2024-07-05T11:38:03.694Z"
   },
   {
    "duration": 53502,
    "start_time": "2024-07-05T11:38:05.235Z"
   },
   {
    "duration": 0,
    "start_time": "2024-07-05T11:38:58.739Z"
   },
   {
    "duration": 0,
    "start_time": "2024-07-05T11:38:58.740Z"
   },
   {
    "duration": 3294,
    "start_time": "2024-07-05T11:39:17.800Z"
   },
   {
    "duration": 3034,
    "start_time": "2024-07-05T11:39:21.096Z"
   },
   {
    "duration": 2854,
    "start_time": "2024-07-05T11:39:24.132Z"
   },
   {
    "duration": 2971,
    "start_time": "2024-07-05T11:39:26.989Z"
   },
   {
    "duration": 8857,
    "start_time": "2024-07-05T11:39:29.962Z"
   },
   {
    "duration": 4424,
    "start_time": "2024-07-05T11:39:38.821Z"
   },
   {
    "duration": 6,
    "start_time": "2024-07-05T11:39:43.246Z"
   },
   {
    "duration": 1837,
    "start_time": "2024-07-05T11:39:43.253Z"
   },
   {
    "duration": 21,
    "start_time": "2024-07-05T11:39:45.092Z"
   },
   {
    "duration": 82,
    "start_time": "2024-07-05T11:39:45.115Z"
   },
   {
    "duration": 37,
    "start_time": "2024-07-05T11:39:45.198Z"
   },
   {
    "duration": 4195,
    "start_time": "2024-07-05T11:39:45.236Z"
   },
   {
    "duration": 30,
    "start_time": "2024-07-05T11:39:49.433Z"
   },
   {
    "duration": 53,
    "start_time": "2024-07-05T11:39:49.464Z"
   },
   {
    "duration": 1494,
    "start_time": "2024-07-05T11:39:49.518Z"
   },
   {
    "duration": 75002,
    "start_time": "2024-07-05T11:39:51.013Z"
   },
   {
    "duration": 0,
    "start_time": "2024-07-05T11:41:06.017Z"
   },
   {
    "duration": 0,
    "start_time": "2024-07-05T11:41:06.018Z"
   },
   {
    "duration": 79886,
    "start_time": "2024-07-05T11:41:09.558Z"
   },
   {
    "duration": 6837,
    "start_time": "2024-07-05T18:06:17.358Z"
   },
   {
    "duration": 2995,
    "start_time": "2024-07-05T18:06:24.197Z"
   },
   {
    "duration": 9191,
    "start_time": "2024-07-05T18:06:27.194Z"
   },
   {
    "duration": 3715,
    "start_time": "2024-07-05T18:06:36.387Z"
   },
   {
    "duration": 2,
    "start_time": "2024-07-05T18:06:40.104Z"
   },
   {
    "duration": 2402,
    "start_time": "2024-07-05T18:06:40.107Z"
   },
   {
    "duration": 14,
    "start_time": "2024-07-05T18:06:42.510Z"
   },
   {
    "duration": 28,
    "start_time": "2024-07-05T18:06:42.536Z"
   },
   {
    "duration": 6,
    "start_time": "2024-07-05T18:06:42.566Z"
   },
   {
    "duration": 11,
    "start_time": "2024-07-05T18:06:42.573Z"
   },
   {
    "duration": 4279,
    "start_time": "2024-07-05T18:06:42.585Z"
   },
   {
    "duration": 26,
    "start_time": "2024-07-05T18:06:46.866Z"
   },
   {
    "duration": 49,
    "start_time": "2024-07-05T18:06:46.894Z"
   },
   {
    "duration": 1467,
    "start_time": "2024-07-05T18:06:46.945Z"
   },
   {
    "duration": 1044995,
    "start_time": "2024-07-05T18:06:48.414Z"
   },
   {
    "duration": 6,
    "start_time": "2024-07-05T18:24:13.438Z"
   },
   {
    "duration": 299,
    "start_time": "2024-07-05T18:24:13.446Z"
   },
   {
    "duration": 59,
    "start_time": "2024-07-05T18:24:13.747Z"
   },
   {
    "duration": 3,
    "start_time": "2024-07-05T18:24:13.808Z"
   },
   {
    "duration": 182,
    "start_time": "2024-07-05T18:24:13.813Z"
   },
   {
    "duration": 6062,
    "start_time": "2024-07-05T18:24:13.997Z"
   },
   {
    "duration": 3,
    "start_time": "2024-07-05T18:24:20.061Z"
   },
   {
    "duration": 20,
    "start_time": "2024-07-05T18:24:20.066Z"
   },
   {
    "duration": 398,
    "start_time": "2024-07-05T18:24:20.087Z"
   },
   {
    "duration": 79,
    "start_time": "2024-07-05T18:24:20.486Z"
   },
   {
    "duration": 77,
    "start_time": "2024-07-05T18:24:20.566Z"
   },
   {
    "duration": 11,
    "start_time": "2024-07-05T18:24:20.644Z"
   },
   {
    "duration": 5,
    "start_time": "2024-07-05T18:27:02.790Z"
   },
   {
    "duration": 1259373,
    "start_time": "2024-07-05T18:27:47.504Z"
   },
   {
    "duration": 1207024,
    "start_time": "2024-07-05T18:48:46.879Z"
   },
   {
    "duration": 362037,
    "start_time": "2024-07-05T19:08:53.904Z"
   },
   {
    "duration": 105,
    "start_time": "2024-07-05T19:14:55.944Z"
   },
   {
    "duration": 6509,
    "start_time": "2024-07-06T10:57:31.119Z"
   },
   {
    "duration": 3193,
    "start_time": "2024-07-06T10:57:37.631Z"
   },
   {
    "duration": 9045,
    "start_time": "2024-07-06T10:57:40.826Z"
   },
   {
    "duration": 3587,
    "start_time": "2024-07-06T10:57:49.873Z"
   },
   {
    "duration": 2,
    "start_time": "2024-07-06T10:57:53.462Z"
   },
   {
    "duration": 2372,
    "start_time": "2024-07-06T10:57:53.465Z"
   },
   {
    "duration": 12,
    "start_time": "2024-07-06T10:57:55.839Z"
   },
   {
    "duration": 21,
    "start_time": "2024-07-06T10:57:55.852Z"
   },
   {
    "duration": 6,
    "start_time": "2024-07-06T10:57:55.875Z"
   },
   {
    "duration": 9,
    "start_time": "2024-07-06T10:57:55.882Z"
   },
   {
    "duration": 4061,
    "start_time": "2024-07-06T10:57:55.892Z"
   },
   {
    "duration": 115,
    "start_time": "2024-07-06T10:57:59.955Z"
   },
   {
    "duration": 122,
    "start_time": "2024-07-06T10:58:00.072Z"
   },
   {
    "duration": 61,
    "start_time": "2024-07-06T10:58:00.198Z"
   },
   {
    "duration": 54,
    "start_time": "2024-07-06T10:58:00.260Z"
   },
   {
    "duration": 93,
    "start_time": "2024-07-06T10:58:00.316Z"
   },
   {
    "duration": 1293,
    "start_time": "2024-07-06T10:58:00.410Z"
   },
   {
    "duration": 950738,
    "start_time": "2024-07-06T10:58:01.704Z"
   },
   {
    "duration": 0,
    "start_time": "2024-07-06T11:13:52.444Z"
   },
   {
    "duration": 0,
    "start_time": "2024-07-06T11:13:52.445Z"
   },
   {
    "duration": 0,
    "start_time": "2024-07-06T11:13:52.446Z"
   },
   {
    "duration": 0,
    "start_time": "2024-07-06T11:13:52.447Z"
   },
   {
    "duration": 0,
    "start_time": "2024-07-06T11:13:52.448Z"
   },
   {
    "duration": 0,
    "start_time": "2024-07-06T11:13:52.449Z"
   },
   {
    "duration": 0,
    "start_time": "2024-07-06T11:13:52.450Z"
   },
   {
    "duration": 0,
    "start_time": "2024-07-06T11:13:52.451Z"
   },
   {
    "duration": 0,
    "start_time": "2024-07-06T11:13:52.452Z"
   },
   {
    "duration": 0,
    "start_time": "2024-07-06T11:13:52.454Z"
   },
   {
    "duration": 0,
    "start_time": "2024-07-06T11:13:52.454Z"
   },
   {
    "duration": 0,
    "start_time": "2024-07-06T11:13:52.455Z"
   },
   {
    "duration": 3216,
    "start_time": "2024-07-06T11:15:56.429Z"
   },
   {
    "duration": 2803,
    "start_time": "2024-07-06T11:15:59.647Z"
   },
   {
    "duration": 7983,
    "start_time": "2024-07-06T11:16:02.452Z"
   },
   {
    "duration": 3843,
    "start_time": "2024-07-06T11:16:10.437Z"
   },
   {
    "duration": 2,
    "start_time": "2024-07-06T11:16:14.282Z"
   },
   {
    "duration": 2374,
    "start_time": "2024-07-06T11:16:14.285Z"
   },
   {
    "duration": 12,
    "start_time": "2024-07-06T11:16:16.661Z"
   },
   {
    "duration": 28,
    "start_time": "2024-07-06T11:16:16.674Z"
   },
   {
    "duration": 7,
    "start_time": "2024-07-06T11:16:16.711Z"
   },
   {
    "duration": 3,
    "start_time": "2024-07-06T11:16:16.720Z"
   },
   {
    "duration": 4060,
    "start_time": "2024-07-06T11:16:16.725Z"
   },
   {
    "duration": 148,
    "start_time": "2024-07-06T11:16:20.786Z"
   },
   {
    "duration": 126,
    "start_time": "2024-07-06T11:16:20.935Z"
   },
   {
    "duration": 25,
    "start_time": "2024-07-06T11:16:21.062Z"
   },
   {
    "duration": 43,
    "start_time": "2024-07-06T11:16:21.088Z"
   },
   {
    "duration": 33,
    "start_time": "2024-07-06T11:16:21.132Z"
   },
   {
    "duration": 1264,
    "start_time": "2024-07-06T11:16:21.166Z"
   },
   {
    "duration": 1018154,
    "start_time": "2024-07-06T11:16:22.431Z"
   },
   {
    "duration": 5,
    "start_time": "2024-07-06T11:33:20.613Z"
   },
   {
    "duration": 215,
    "start_time": "2024-07-06T11:33:20.620Z"
   },
   {
    "duration": 49,
    "start_time": "2024-07-06T11:33:20.837Z"
   },
   {
    "duration": 3,
    "start_time": "2024-07-06T11:33:20.888Z"
   },
   {
    "duration": 153,
    "start_time": "2024-07-06T11:33:20.892Z"
   },
   {
    "duration": 5737,
    "start_time": "2024-07-06T11:33:21.047Z"
   },
   {
    "duration": 3,
    "start_time": "2024-07-06T11:33:26.785Z"
   },
   {
    "duration": 11,
    "start_time": "2024-07-06T11:33:26.789Z"
   },
   {
    "duration": 1268821,
    "start_time": "2024-07-06T11:33:26.801Z"
   },
   {
    "duration": 1271285,
    "start_time": "2024-07-06T11:54:35.625Z"
   },
   {
    "duration": 341203,
    "start_time": "2024-07-06T12:15:46.914Z"
   },
   {
    "duration": 194,
    "start_time": "2024-07-06T12:21:28.120Z"
   },
   {
    "duration": 8011,
    "start_time": "2024-07-07T11:17:29.746Z"
   },
   {
    "duration": 3477,
    "start_time": "2024-07-07T11:17:37.760Z"
   },
   {
    "duration": 18680,
    "start_time": "2024-07-07T11:17:41.239Z"
   },
   {
    "duration": 5764,
    "start_time": "2024-07-07T11:17:59.923Z"
   },
   {
    "duration": 3,
    "start_time": "2024-07-07T11:18:08.445Z"
   },
   {
    "duration": 2654,
    "start_time": "2024-07-07T11:18:11.342Z"
   },
   {
    "duration": 25,
    "start_time": "2024-07-07T11:18:14.885Z"
   },
   {
    "duration": 34,
    "start_time": "2024-07-07T11:18:18.722Z"
   },
   {
    "duration": 8,
    "start_time": "2024-07-07T11:18:21.752Z"
   },
   {
    "duration": 7,
    "start_time": "2024-07-07T11:18:24.042Z"
   },
   {
    "duration": 5952,
    "start_time": "2024-07-07T11:18:28.407Z"
   },
   {
    "duration": 184,
    "start_time": "2024-07-07T11:18:35.460Z"
   },
   {
    "duration": 194,
    "start_time": "2024-07-07T11:18:39.681Z"
   },
   {
    "duration": 32,
    "start_time": "2024-07-07T11:18:50.837Z"
   },
   {
    "duration": 48,
    "start_time": "2024-07-07T11:18:53.681Z"
   },
   {
    "duration": 39,
    "start_time": "2024-07-07T11:18:59.361Z"
   },
   {
    "duration": 1849,
    "start_time": "2024-07-07T11:19:04.730Z"
   },
   {
    "duration": 3,
    "start_time": "2024-07-07T11:19:38.857Z"
   },
   {
    "duration": 428,
    "start_time": "2024-07-07T11:19:46.077Z"
   },
   {
    "duration": 22,
    "start_time": "2024-07-07T11:20:30.460Z"
   },
   {
    "duration": 22366,
    "start_time": "2024-07-07T11:21:02.432Z"
   },
   {
    "duration": 7,
    "start_time": "2024-07-07T11:22:05.515Z"
   },
   {
    "duration": 10,
    "start_time": "2024-07-07T11:22:09.512Z"
   },
   {
    "duration": 662,
    "start_time": "2024-07-07T11:22:13.859Z"
   },
   {
    "duration": 4,
    "start_time": "2024-07-07T11:23:24.825Z"
   },
   {
    "duration": 23100,
    "start_time": "2024-07-07T11:23:28.830Z"
   },
   {
    "duration": 3,
    "start_time": "2024-07-07T11:25:10.341Z"
   },
   {
    "duration": 1707,
    "start_time": "2024-07-07T11:25:13.417Z"
   },
   {
    "duration": 2,
    "start_time": "2024-07-07T11:25:17.578Z"
   },
   {
    "duration": 3,
    "start_time": "2024-07-07T11:25:22.465Z"
   },
   {
    "duration": 137047,
    "start_time": "2024-07-07T11:25:28.184Z"
   },
   {
    "duration": 47,
    "start_time": "2024-07-07T11:31:59.910Z"
   },
   {
    "duration": 1828,
    "start_time": "2024-07-07T11:32:22.227Z"
   },
   {
    "duration": 3732,
    "start_time": "2024-07-07T11:43:37.275Z"
   },
   {
    "duration": 3338,
    "start_time": "2024-07-07T11:43:41.861Z"
   },
   {
    "duration": 19386,
    "start_time": "2024-07-07T11:43:45.201Z"
   },
   {
    "duration": 11480,
    "start_time": "2024-07-07T11:44:04.589Z"
   },
   {
    "duration": 3,
    "start_time": "2024-07-07T11:44:16.073Z"
   },
   {
    "duration": 2909,
    "start_time": "2024-07-07T11:44:16.080Z"
   },
   {
    "duration": 24,
    "start_time": "2024-07-07T11:44:18.990Z"
   },
   {
    "duration": 44,
    "start_time": "2024-07-07T11:44:19.016Z"
   },
   {
    "duration": 9,
    "start_time": "2024-07-07T11:44:19.062Z"
   },
   {
    "duration": 6329,
    "start_time": "2024-07-07T11:44:19.074Z"
   },
   {
    "duration": 198,
    "start_time": "2024-07-07T11:44:25.415Z"
   },
   {
    "duration": 166,
    "start_time": "2024-07-07T11:44:25.616Z"
   },
   {
    "duration": 51,
    "start_time": "2024-07-07T11:44:25.784Z"
   },
   {
    "duration": 35,
    "start_time": "2024-07-07T11:44:25.837Z"
   },
   {
    "duration": 148,
    "start_time": "2024-07-07T11:44:25.874Z"
   },
   {
    "duration": 1,
    "start_time": "2024-07-07T11:44:28.221Z"
   },
   {
    "duration": 2562,
    "start_time": "2024-07-07T11:44:33.125Z"
   },
   {
    "duration": 93788,
    "start_time": "2024-07-07T11:44:42.847Z"
   },
   {
    "duration": 2,
    "start_time": "2024-07-07T11:46:35.835Z"
   },
   {
    "duration": 82,
    "start_time": "2024-07-07T11:46:44.252Z"
   },
   {
    "duration": 6,
    "start_time": "2024-07-07T11:48:35.011Z"
   },
   {
    "duration": 20,
    "start_time": "2024-07-07T11:48:59.434Z"
   },
   {
    "duration": 94293,
    "start_time": "2024-07-07T11:49:29.575Z"
   },
   {
    "duration": 41,
    "start_time": "2024-07-07T11:51:19.300Z"
   },
   {
    "duration": 2304,
    "start_time": "2024-07-07T11:51:21.896Z"
   },
   {
    "duration": 3624,
    "start_time": "2024-07-07T11:51:47.513Z"
   },
   {
    "duration": 3311,
    "start_time": "2024-07-07T11:51:51.140Z"
   },
   {
    "duration": 18809,
    "start_time": "2024-07-07T11:51:54.453Z"
   },
   {
    "duration": 6046,
    "start_time": "2024-07-07T11:52:13.264Z"
   },
   {
    "duration": 6,
    "start_time": "2024-07-07T11:52:19.313Z"
   },
   {
    "duration": 2845,
    "start_time": "2024-07-07T11:52:19.324Z"
   },
   {
    "duration": 16,
    "start_time": "2024-07-07T11:52:22.171Z"
   },
   {
    "duration": 103,
    "start_time": "2024-07-07T11:52:22.188Z"
   },
   {
    "duration": 25,
    "start_time": "2024-07-07T11:52:22.295Z"
   },
   {
    "duration": 22,
    "start_time": "2024-07-07T11:52:22.322Z"
   },
   {
    "duration": 5963,
    "start_time": "2024-07-07T11:52:22.346Z"
   },
   {
    "duration": 178,
    "start_time": "2024-07-07T11:52:28.313Z"
   },
   {
    "duration": 204,
    "start_time": "2024-07-07T11:52:28.495Z"
   },
   {
    "duration": 49,
    "start_time": "2024-07-07T11:52:28.705Z"
   },
   {
    "duration": 80,
    "start_time": "2024-07-07T11:52:28.756Z"
   },
   {
    "duration": 14,
    "start_time": "2024-07-07T11:52:28.838Z"
   },
   {
    "duration": 50,
    "start_time": "2024-07-07T11:52:28.853Z"
   },
   {
    "duration": 1950,
    "start_time": "2024-07-07T11:52:28.906Z"
   },
   {
    "duration": 44487,
    "start_time": "2024-07-07T11:52:30.858Z"
   },
   {
    "duration": 0,
    "start_time": "2024-07-07T11:53:15.348Z"
   },
   {
    "duration": 0,
    "start_time": "2024-07-07T11:53:15.349Z"
   },
   {
    "duration": 0,
    "start_time": "2024-07-07T11:53:15.351Z"
   },
   {
    "duration": 0,
    "start_time": "2024-07-07T11:53:15.352Z"
   },
   {
    "duration": 0,
    "start_time": "2024-07-07T11:53:15.353Z"
   },
   {
    "duration": 0,
    "start_time": "2024-07-07T11:53:15.354Z"
   },
   {
    "duration": 1,
    "start_time": "2024-07-07T11:53:15.355Z"
   },
   {
    "duration": 0,
    "start_time": "2024-07-07T11:53:15.357Z"
   },
   {
    "duration": 0,
    "start_time": "2024-07-07T11:53:15.358Z"
   },
   {
    "duration": 0,
    "start_time": "2024-07-07T11:53:15.359Z"
   },
   {
    "duration": 0,
    "start_time": "2024-07-07T11:53:15.361Z"
   },
   {
    "duration": 0,
    "start_time": "2024-07-07T11:53:15.362Z"
   },
   {
    "duration": 1471421,
    "start_time": "2024-07-07T11:53:17.635Z"
   },
   {
    "duration": 4,
    "start_time": "2024-07-07T12:18:00.091Z"
   },
   {
    "duration": 137,
    "start_time": "2024-07-07T12:18:18.200Z"
   },
   {
    "duration": 67,
    "start_time": "2024-07-07T12:18:31.820Z"
   },
   {
    "duration": 6,
    "start_time": "2024-07-07T12:18:35.789Z"
   },
   {
    "duration": 261,
    "start_time": "2024-07-07T12:18:42.567Z"
   },
   {
    "duration": 8565,
    "start_time": "2024-07-07T12:19:15.751Z"
   },
   {
    "duration": 6,
    "start_time": "2024-07-07T12:19:27.423Z"
   },
   {
    "duration": 16,
    "start_time": "2024-07-07T12:23:46.105Z"
   },
   {
    "duration": 9,
    "start_time": "2024-07-07T12:24:01.620Z"
   },
   {
    "duration": 5,
    "start_time": "2024-07-07T12:41:15.226Z"
   },
   {
    "duration": 2,
    "start_time": "2024-07-07T12:41:17.574Z"
   },
   {
    "duration": 9,
    "start_time": "2024-07-07T12:41:20.190Z"
   },
   {
    "duration": 7,
    "start_time": "2024-07-07T12:44:01.635Z"
   },
   {
    "duration": 6,
    "start_time": "2024-07-07T12:44:04.144Z"
   },
   {
    "duration": 120,
    "start_time": "2024-07-07T12:45:45.575Z"
   },
   {
    "duration": 4,
    "start_time": "2024-07-07T12:46:30.331Z"
   },
   {
    "duration": 1605257,
    "start_time": "2024-07-07T12:46:45.874Z"
   },
   {
    "duration": 1460647,
    "start_time": "2024-07-07T13:13:31.133Z"
   },
   {
    "duration": 671279,
    "start_time": "2024-07-07T13:37:51.782Z"
   },
   {
    "duration": 30,
    "start_time": "2024-07-07T13:49:03.063Z"
   },
   {
    "duration": 241809,
    "start_time": "2024-07-07T13:49:40.333Z"
   },
   {
    "duration": 3363221,
    "start_time": "2024-07-07T13:54:06.376Z"
   },
   {
    "duration": 28,
    "start_time": "2024-07-07T14:50:09.600Z"
   },
   {
    "duration": 626865,
    "start_time": "2024-07-07T15:01:44.932Z"
   },
   {
    "duration": 1913,
    "start_time": "2024-07-07T15:12:11.803Z"
   },
   {
    "duration": 3487,
    "start_time": "2024-07-07T15:14:36.350Z"
   },
   {
    "duration": 3074,
    "start_time": "2024-07-07T15:14:39.840Z"
   },
   {
    "duration": 18808,
    "start_time": "2024-07-07T15:14:42.916Z"
   },
   {
    "duration": 5918,
    "start_time": "2024-07-07T15:15:01.727Z"
   },
   {
    "duration": 2,
    "start_time": "2024-07-07T15:15:07.648Z"
   },
   {
    "duration": 3471,
    "start_time": "2024-07-07T15:15:07.652Z"
   },
   {
    "duration": 20,
    "start_time": "2024-07-07T15:15:11.125Z"
   },
   {
    "duration": 46,
    "start_time": "2024-07-07T15:15:11.149Z"
   },
   {
    "duration": 14,
    "start_time": "2024-07-07T15:15:11.197Z"
   },
   {
    "duration": 6,
    "start_time": "2024-07-07T15:15:11.215Z"
   },
   {
    "duration": 5393,
    "start_time": "2024-07-07T15:15:11.222Z"
   },
   {
    "duration": 183,
    "start_time": "2024-07-07T15:15:16.617Z"
   },
   {
    "duration": 216,
    "start_time": "2024-07-07T15:15:16.802Z"
   },
   {
    "duration": 45,
    "start_time": "2024-07-07T15:15:17.022Z"
   },
   {
    "duration": 48,
    "start_time": "2024-07-07T15:15:17.092Z"
   },
   {
    "duration": 3,
    "start_time": "2024-07-07T15:15:17.145Z"
   },
   {
    "duration": 45,
    "start_time": "2024-07-07T15:15:17.151Z"
   },
   {
    "duration": 1979,
    "start_time": "2024-07-07T15:15:17.198Z"
   },
   {
    "duration": 1465624,
    "start_time": "2024-07-07T15:15:19.178Z"
   },
   {
    "duration": 90,
    "start_time": "2024-07-07T15:39:44.808Z"
   },
   {
    "duration": 258,
    "start_time": "2024-07-07T15:39:44.901Z"
   },
   {
    "duration": 95,
    "start_time": "2024-07-07T15:39:45.162Z"
   },
   {
    "duration": 5,
    "start_time": "2024-07-07T15:39:45.259Z"
   },
   {
    "duration": 22,
    "start_time": "2024-07-07T15:39:45.266Z"
   },
   {
    "duration": 10,
    "start_time": "2024-07-07T15:39:45.290Z"
   },
   {
    "duration": 34,
    "start_time": "2024-07-07T15:39:45.304Z"
   },
   {
    "duration": 17,
    "start_time": "2024-07-07T15:39:45.340Z"
   },
   {
    "duration": 20,
    "start_time": "2024-07-07T15:39:45.363Z"
   },
   {
    "duration": 165,
    "start_time": "2024-07-07T15:39:45.385Z"
   },
   {
    "duration": 1610391,
    "start_time": "2024-07-07T15:39:45.552Z"
   },
   {
    "duration": 1592449,
    "start_time": "2024-07-07T16:06:35.945Z"
   },
   {
    "duration": 693416,
    "start_time": "2024-07-07T16:33:08.396Z"
   },
   {
    "duration": 1916,
    "start_time": "2024-07-07T16:44:41.892Z"
   }
  ],
  "kernelspec": {
   "display_name": "Python 3 (ipykernel)",
   "language": "python",
   "name": "python3"
  },
  "language_info": {
   "codemirror_mode": {
    "name": "ipython",
    "version": 3
   },
   "file_extension": ".py",
   "mimetype": "text/x-python",
   "name": "python",
   "nbconvert_exporter": "python",
   "pygments_lexer": "ipython3",
   "version": "3.9.18"
  },
  "toc": {
   "base_numbering": 1,
   "nav_menu": {},
   "number_sections": true,
   "sideBar": true,
   "skip_h1_title": true,
   "title_cell": "Содержание",
   "title_sidebar": "Contents",
   "toc_cell": true,
   "toc_position": {
    "height": "calc(100% - 180px)",
    "left": "10px",
    "top": "150px",
    "width": "235.391px"
   },
   "toc_section_display": true,
   "toc_window_display": true
  },
  "widgets": {
   "application/vnd.jupyter.widget-state+json": {
    "state": {},
    "version_major": 2,
    "version_minor": 0
   }
  }
 },
 "nbformat": 4,
 "nbformat_minor": 4
}
